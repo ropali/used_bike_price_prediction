{
    "cells": [
        {
            "cell_type": "code",
            "execution_count": 1,
            "source": [
                "import pandas as pd\n",
                "import numpy as np\n",
                "import matplotlib.pyplot as plt\n",
                "import seaborn as sns"
            ],
            "outputs": [],
            "metadata": {}
        },
        {
            "cell_type": "code",
            "execution_count": 2,
            "source": [
                "df = pd.read_csv('../data/processed/processed.csv')"
            ],
            "outputs": [],
            "metadata": {}
        },
        {
            "cell_type": "code",
            "execution_count": 3,
            "source": [
                "df.shape"
            ],
            "outputs": [
                {
                    "output_type": "execute_result",
                    "data": {
                        "text/plain": [
                            "(3439, 9)"
                        ]
                    },
                    "metadata": {},
                    "execution_count": 3
                }
            ],
            "metadata": {}
        },
        {
            "cell_type": "code",
            "execution_count": 4,
            "source": [
                "df.sample(3)"
            ],
            "outputs": [
                {
                    "output_type": "execute_result",
                    "data": {
                        "text/html": [
                            "<div>\n",
                            "<style scoped>\n",
                            "    .dataframe tbody tr th:only-of-type {\n",
                            "        vertical-align: middle;\n",
                            "    }\n",
                            "\n",
                            "    .dataframe tbody tr th {\n",
                            "        vertical-align: top;\n",
                            "    }\n",
                            "\n",
                            "    .dataframe thead th {\n",
                            "        text-align: right;\n",
                            "    }\n",
                            "</style>\n",
                            "<table border=\"1\" class=\"dataframe\">\n",
                            "  <thead>\n",
                            "    <tr style=\"text-align: right;\">\n",
                            "      <th></th>\n",
                            "      <th>kms_driven</th>\n",
                            "      <th>owner</th>\n",
                            "      <th>location</th>\n",
                            "      <th>mileage</th>\n",
                            "      <th>power</th>\n",
                            "      <th>price</th>\n",
                            "      <th>brand</th>\n",
                            "      <th>engine</th>\n",
                            "      <th>age</th>\n",
                            "    </tr>\n",
                            "  </thead>\n",
                            "  <tbody>\n",
                            "    <tr>\n",
                            "      <th>172</th>\n",
                            "      <td>48700.0</td>\n",
                            "      <td>first</td>\n",
                            "      <td>pune</td>\n",
                            "      <td>53.0</td>\n",
                            "      <td>19.0</td>\n",
                            "      <td>72000.0</td>\n",
                            "      <td>Bajaj</td>\n",
                            "      <td>NaN</td>\n",
                            "      <td>6</td>\n",
                            "    </tr>\n",
                            "    <tr>\n",
                            "      <th>3051</th>\n",
                            "      <td>26200.0</td>\n",
                            "      <td>second</td>\n",
                            "      <td>mumbai</td>\n",
                            "      <td>53.0</td>\n",
                            "      <td>14.0</td>\n",
                            "      <td>35000.0</td>\n",
                            "      <td>Hero</td>\n",
                            "      <td>150.0</td>\n",
                            "      <td>6</td>\n",
                            "    </tr>\n",
                            "    <tr>\n",
                            "      <th>1302</th>\n",
                            "      <td>15000.0</td>\n",
                            "      <td>first</td>\n",
                            "      <td>mumbai</td>\n",
                            "      <td>63.0</td>\n",
                            "      <td>14.0</td>\n",
                            "      <td>77200.0</td>\n",
                            "      <td>Suzuki</td>\n",
                            "      <td>150.0</td>\n",
                            "      <td>2</td>\n",
                            "    </tr>\n",
                            "  </tbody>\n",
                            "</table>\n",
                            "</div>"
                        ],
                        "text/plain": [
                            "      kms_driven   owner location  mileage  power    price   brand  engine  \\\n",
                            "172      48700.0   first     pune     53.0   19.0  72000.0   Bajaj     NaN   \n",
                            "3051     26200.0  second   mumbai     53.0   14.0  35000.0    Hero   150.0   \n",
                            "1302     15000.0   first   mumbai     63.0   14.0  77200.0  Suzuki   150.0   \n",
                            "\n",
                            "      age  \n",
                            "172     6  \n",
                            "3051    6  \n",
                            "1302    2  "
                        ]
                    },
                    "metadata": {},
                    "execution_count": 4
                }
            ],
            "metadata": {}
        },
        {
            "cell_type": "code",
            "execution_count": 5,
            "source": [
                "X = df.drop('price',axis=1)\n",
                "y = df['price']"
            ],
            "outputs": [],
            "metadata": {}
        },
        {
            "cell_type": "code",
            "execution_count": 6,
            "source": [
                "X.head()"
            ],
            "outputs": [
                {
                    "output_type": "execute_result",
                    "data": {
                        "text/html": [
                            "<div>\n",
                            "<style scoped>\n",
                            "    .dataframe tbody tr th:only-of-type {\n",
                            "        vertical-align: middle;\n",
                            "    }\n",
                            "\n",
                            "    .dataframe tbody tr th {\n",
                            "        vertical-align: top;\n",
                            "    }\n",
                            "\n",
                            "    .dataframe thead th {\n",
                            "        text-align: right;\n",
                            "    }\n",
                            "</style>\n",
                            "<table border=\"1\" class=\"dataframe\">\n",
                            "  <thead>\n",
                            "    <tr style=\"text-align: right;\">\n",
                            "      <th></th>\n",
                            "      <th>kms_driven</th>\n",
                            "      <th>owner</th>\n",
                            "      <th>location</th>\n",
                            "      <th>mileage</th>\n",
                            "      <th>power</th>\n",
                            "      <th>brand</th>\n",
                            "      <th>engine</th>\n",
                            "      <th>age</th>\n",
                            "    </tr>\n",
                            "  </thead>\n",
                            "  <tbody>\n",
                            "    <tr>\n",
                            "      <th>0</th>\n",
                            "      <td>5947.0</td>\n",
                            "      <td>first</td>\n",
                            "      <td>other</td>\n",
                            "      <td>53.0</td>\n",
                            "      <td>19.0</td>\n",
                            "      <td>Bajaj</td>\n",
                            "      <td>NaN</td>\n",
                            "      <td>4</td>\n",
                            "    </tr>\n",
                            "    <tr>\n",
                            "      <th>1</th>\n",
                            "      <td>11000.0</td>\n",
                            "      <td>first</td>\n",
                            "      <td>delhi</td>\n",
                            "      <td>40.0</td>\n",
                            "      <td>19.8</td>\n",
                            "      <td>Royal Enfield</td>\n",
                            "      <td>350.0</td>\n",
                            "      <td>7</td>\n",
                            "    </tr>\n",
                            "    <tr>\n",
                            "      <th>2</th>\n",
                            "      <td>13568.0</td>\n",
                            "      <td>first</td>\n",
                            "      <td>delhi</td>\n",
                            "      <td>63.0</td>\n",
                            "      <td>14.0</td>\n",
                            "      <td>Suzuki</td>\n",
                            "      <td>150.0</td>\n",
                            "      <td>5</td>\n",
                            "    </tr>\n",
                            "    <tr>\n",
                            "      <th>3</th>\n",
                            "      <td>20000.0</td>\n",
                            "      <td>first</td>\n",
                            "      <td>other</td>\n",
                            "      <td>40.0</td>\n",
                            "      <td>19.8</td>\n",
                            "      <td>Royal Enfield</td>\n",
                            "      <td>350.0</td>\n",
                            "      <td>3</td>\n",
                            "    </tr>\n",
                            "    <tr>\n",
                            "      <th>4</th>\n",
                            "      <td>10143.0</td>\n",
                            "      <td>first</td>\n",
                            "      <td>delhi</td>\n",
                            "      <td>55.0</td>\n",
                            "      <td>8.0</td>\n",
                            "      <td>Hero</td>\n",
                            "      <td>NaN</td>\n",
                            "      <td>3</td>\n",
                            "    </tr>\n",
                            "  </tbody>\n",
                            "</table>\n",
                            "</div>"
                        ],
                        "text/plain": [
                            "   kms_driven  owner location  mileage  power          brand  engine  age\n",
                            "0      5947.0  first    other     53.0   19.0          Bajaj     NaN    4\n",
                            "1     11000.0  first    delhi     40.0   19.8  Royal Enfield   350.0    7\n",
                            "2     13568.0  first    delhi     63.0   14.0         Suzuki   150.0    5\n",
                            "3     20000.0  first    other     40.0   19.8  Royal Enfield   350.0    3\n",
                            "4     10143.0  first    delhi     55.0    8.0           Hero     NaN    3"
                        ]
                    },
                    "metadata": {},
                    "execution_count": 6
                }
            ],
            "metadata": {}
        },
        {
            "cell_type": "code",
            "execution_count": 7,
            "source": [
                "from sklearn.model_selection import train_test_split\n",
                "X_train,X_test,y_train,y_test = train_test_split(X,y,test_size=.25,random_state=11)"
            ],
            "outputs": [],
            "metadata": {}
        },
        {
            "cell_type": "code",
            "execution_count": 8,
            "source": [
                "# y = y.apply(np.log1p)"
            ],
            "outputs": [],
            "metadata": {}
        },
        {
            "cell_type": "markdown",
            "source": [
                "## Category Encoding"
            ],
            "metadata": {}
        },
        {
            "cell_type": "code",
            "execution_count": 9,
            "source": [
                "X.head()"
            ],
            "outputs": [
                {
                    "output_type": "execute_result",
                    "data": {
                        "text/html": [
                            "<div>\n",
                            "<style scoped>\n",
                            "    .dataframe tbody tr th:only-of-type {\n",
                            "        vertical-align: middle;\n",
                            "    }\n",
                            "\n",
                            "    .dataframe tbody tr th {\n",
                            "        vertical-align: top;\n",
                            "    }\n",
                            "\n",
                            "    .dataframe thead th {\n",
                            "        text-align: right;\n",
                            "    }\n",
                            "</style>\n",
                            "<table border=\"1\" class=\"dataframe\">\n",
                            "  <thead>\n",
                            "    <tr style=\"text-align: right;\">\n",
                            "      <th></th>\n",
                            "      <th>kms_driven</th>\n",
                            "      <th>owner</th>\n",
                            "      <th>location</th>\n",
                            "      <th>mileage</th>\n",
                            "      <th>power</th>\n",
                            "      <th>brand</th>\n",
                            "      <th>engine</th>\n",
                            "      <th>age</th>\n",
                            "    </tr>\n",
                            "  </thead>\n",
                            "  <tbody>\n",
                            "    <tr>\n",
                            "      <th>0</th>\n",
                            "      <td>5947.0</td>\n",
                            "      <td>first</td>\n",
                            "      <td>other</td>\n",
                            "      <td>53.0</td>\n",
                            "      <td>19.0</td>\n",
                            "      <td>Bajaj</td>\n",
                            "      <td>NaN</td>\n",
                            "      <td>4</td>\n",
                            "    </tr>\n",
                            "    <tr>\n",
                            "      <th>1</th>\n",
                            "      <td>11000.0</td>\n",
                            "      <td>first</td>\n",
                            "      <td>delhi</td>\n",
                            "      <td>40.0</td>\n",
                            "      <td>19.8</td>\n",
                            "      <td>Royal Enfield</td>\n",
                            "      <td>350.0</td>\n",
                            "      <td>7</td>\n",
                            "    </tr>\n",
                            "    <tr>\n",
                            "      <th>2</th>\n",
                            "      <td>13568.0</td>\n",
                            "      <td>first</td>\n",
                            "      <td>delhi</td>\n",
                            "      <td>63.0</td>\n",
                            "      <td>14.0</td>\n",
                            "      <td>Suzuki</td>\n",
                            "      <td>150.0</td>\n",
                            "      <td>5</td>\n",
                            "    </tr>\n",
                            "    <tr>\n",
                            "      <th>3</th>\n",
                            "      <td>20000.0</td>\n",
                            "      <td>first</td>\n",
                            "      <td>other</td>\n",
                            "      <td>40.0</td>\n",
                            "      <td>19.8</td>\n",
                            "      <td>Royal Enfield</td>\n",
                            "      <td>350.0</td>\n",
                            "      <td>3</td>\n",
                            "    </tr>\n",
                            "    <tr>\n",
                            "      <th>4</th>\n",
                            "      <td>10143.0</td>\n",
                            "      <td>first</td>\n",
                            "      <td>delhi</td>\n",
                            "      <td>55.0</td>\n",
                            "      <td>8.0</td>\n",
                            "      <td>Hero</td>\n",
                            "      <td>NaN</td>\n",
                            "      <td>3</td>\n",
                            "    </tr>\n",
                            "  </tbody>\n",
                            "</table>\n",
                            "</div>"
                        ],
                        "text/plain": [
                            "   kms_driven  owner location  mileage  power          brand  engine  age\n",
                            "0      5947.0  first    other     53.0   19.0          Bajaj     NaN    4\n",
                            "1     11000.0  first    delhi     40.0   19.8  Royal Enfield   350.0    7\n",
                            "2     13568.0  first    delhi     63.0   14.0         Suzuki   150.0    5\n",
                            "3     20000.0  first    other     40.0   19.8  Royal Enfield   350.0    3\n",
                            "4     10143.0  first    delhi     55.0    8.0           Hero     NaN    3"
                        ]
                    },
                    "metadata": {},
                    "execution_count": 9
                }
            ],
            "metadata": {}
        },
        {
            "cell_type": "markdown",
            "source": [
                "## Impute missing values"
            ],
            "metadata": {}
        },
        {
            "cell_type": "code",
            "execution_count": 10,
            "source": [
                "from sklearn.impute import KNNImputer\n",
                "\n",
                "num_cols = [ col for col in X.columns if X[col].dtypes != 'object' ]\n",
                "print(num_cols)"
            ],
            "outputs": [
                {
                    "output_type": "stream",
                    "name": "stdout",
                    "text": [
                        "['kms_driven', 'mileage', 'power', 'engine', 'age']\n"
                    ]
                }
            ],
            "metadata": {}
        },
        {
            "cell_type": "code",
            "execution_count": 11,
            "source": [
                "imputer = KNNImputer(n_neighbors=7,weights='distance')\n",
                "\n",
                "imputer.fit(X_train[num_cols])\n",
                "\n",
                "# X_train[num_cols] = imputer.transform(X_train[num_cols])\n",
                "# X_test[num_cols] = imputer.transform(X_test[num_cols])\n",
                "\n",
                "X_train.loc[:][num_cols] = imputer.fit_transform(X_train[num_cols])\n",
                "X_test.loc[:][num_cols] = imputer.transform(X_test[num_cols])"
            ],
            "outputs": [],
            "metadata": {}
        },
        {
            "cell_type": "code",
            "execution_count": 12,
            "source": [
                "print('Missing Values in Train set',X_train.isnull().sum())\n",
                "print('Missing Values in Test set',X_test.isnull().sum())"
            ],
            "outputs": [
                {
                    "output_type": "stream",
                    "name": "stdout",
                    "text": [
                        "Missing Values in Train set kms_driven    0\n",
                        "owner         0\n",
                        "location      0\n",
                        "mileage       0\n",
                        "power         0\n",
                        "brand         0\n",
                        "engine        0\n",
                        "age           0\n",
                        "dtype: int64\n",
                        "Missing Values in Test set kms_driven    0\n",
                        "owner         0\n",
                        "location      0\n",
                        "mileage       0\n",
                        "power         0\n",
                        "brand         0\n",
                        "engine        0\n",
                        "age           0\n",
                        "dtype: int64\n"
                    ]
                }
            ],
            "metadata": {}
        },
        {
            "cell_type": "code",
            "execution_count": 13,
            "source": [
                "X_train.head()"
            ],
            "outputs": [
                {
                    "output_type": "execute_result",
                    "data": {
                        "text/html": [
                            "<div>\n",
                            "<style scoped>\n",
                            "    .dataframe tbody tr th:only-of-type {\n",
                            "        vertical-align: middle;\n",
                            "    }\n",
                            "\n",
                            "    .dataframe tbody tr th {\n",
                            "        vertical-align: top;\n",
                            "    }\n",
                            "\n",
                            "    .dataframe thead th {\n",
                            "        text-align: right;\n",
                            "    }\n",
                            "</style>\n",
                            "<table border=\"1\" class=\"dataframe\">\n",
                            "  <thead>\n",
                            "    <tr style=\"text-align: right;\">\n",
                            "      <th></th>\n",
                            "      <th>kms_driven</th>\n",
                            "      <th>owner</th>\n",
                            "      <th>location</th>\n",
                            "      <th>mileage</th>\n",
                            "      <th>power</th>\n",
                            "      <th>brand</th>\n",
                            "      <th>engine</th>\n",
                            "      <th>age</th>\n",
                            "    </tr>\n",
                            "  </thead>\n",
                            "  <tbody>\n",
                            "    <tr>\n",
                            "      <th>2407</th>\n",
                            "      <td>17000.0</td>\n",
                            "      <td>first</td>\n",
                            "      <td>other</td>\n",
                            "      <td>40.0</td>\n",
                            "      <td>19.00</td>\n",
                            "      <td>Bajaj</td>\n",
                            "      <td>220.000000</td>\n",
                            "      <td>4</td>\n",
                            "    </tr>\n",
                            "    <tr>\n",
                            "      <th>336</th>\n",
                            "      <td>94000.0</td>\n",
                            "      <td>third</td>\n",
                            "      <td>delhi</td>\n",
                            "      <td>38.5</td>\n",
                            "      <td>20.11</td>\n",
                            "      <td>Bajaj</td>\n",
                            "      <td>204.289882</td>\n",
                            "      <td>1</td>\n",
                            "    </tr>\n",
                            "    <tr>\n",
                            "      <th>2768</th>\n",
                            "      <td>4900.0</td>\n",
                            "      <td>first</td>\n",
                            "      <td>mumbai</td>\n",
                            "      <td>50.0</td>\n",
                            "      <td>14.30</td>\n",
                            "      <td>Bajaj</td>\n",
                            "      <td>199.194491</td>\n",
                            "      <td>5</td>\n",
                            "    </tr>\n",
                            "    <tr>\n",
                            "      <th>1129</th>\n",
                            "      <td>15000.0</td>\n",
                            "      <td>first</td>\n",
                            "      <td>delhi</td>\n",
                            "      <td>55.0</td>\n",
                            "      <td>9.30</td>\n",
                            "      <td>Hero</td>\n",
                            "      <td>110.000000</td>\n",
                            "      <td>5</td>\n",
                            "    </tr>\n",
                            "    <tr>\n",
                            "      <th>2964</th>\n",
                            "      <td>10009.0</td>\n",
                            "      <td>first</td>\n",
                            "      <td>other</td>\n",
                            "      <td>35.0</td>\n",
                            "      <td>25.00</td>\n",
                            "      <td>UM</td>\n",
                            "      <td>240.797939</td>\n",
                            "      <td>3</td>\n",
                            "    </tr>\n",
                            "  </tbody>\n",
                            "</table>\n",
                            "</div>"
                        ],
                        "text/plain": [
                            "      kms_driven  owner location  mileage  power  brand      engine  age\n",
                            "2407     17000.0  first    other     40.0  19.00  Bajaj  220.000000    4\n",
                            "336      94000.0  third    delhi     38.5  20.11  Bajaj  204.289882    1\n",
                            "2768      4900.0  first   mumbai     50.0  14.30  Bajaj  199.194491    5\n",
                            "1129     15000.0  first    delhi     55.0   9.30   Hero  110.000000    5\n",
                            "2964     10009.0  first    other     35.0  25.00     UM  240.797939    3"
                        ]
                    },
                    "metadata": {},
                    "execution_count": 13
                }
            ],
            "metadata": {}
        },
        {
            "cell_type": "code",
            "execution_count": 14,
            "source": [
                "from sklearn.preprocessing import StandardScaler\n",
                "from sklearn.compose import ColumnTransformer\n",
                "from sklearn.preprocessing import OneHotEncoder,OrdinalEncoder,MinMaxScaler\n",
                "\n",
                "category_transformer = ColumnTransformer([\n",
                "    (\"kms_driven_engine_min_max_scaler\",MinMaxScaler(),[0,6,3,4]),\n",
                "    (\"owner_ordinal_enc\",OrdinalEncoder(categories=[['fourth','third','second','first']],handle_unknown='ignore',dtype=np.int16),[1]),\n",
                "    (\"brand_location_ohe\",OneHotEncoder(sparse=False,handle_unknown='error',drop='first',),[2,5]),\n",
                "],remainder='passthrough')\n",
                "\n"
            ],
            "outputs": [],
            "metadata": {}
        },
        {
            "cell_type": "markdown",
            "source": [
                "## Model Building"
            ],
            "metadata": {}
        },
        {
            "cell_type": "code",
            "execution_count": 15,
            "source": [
                "from sklearn.pipeline import Pipeline\n",
                "from sklearn.model_selection import GridSearchCV, RandomizedSearchCV\n",
                "from sklearn.linear_model import LinearRegression\n",
                "from sklearn.ensemble import RandomForestRegressor\n",
                "\n",
                "from sklearn import set_config\n",
                "\n",
                "set_config(display='diagram')"
            ],
            "outputs": [],
            "metadata": {}
        },
        {
            "cell_type": "code",
            "execution_count": 16,
            "source": [
                "\n",
                "def build_pipeline_with_estimator(estimator):\n",
                "    return Pipeline([\n",
                "    ('category_transformer',category_transformer),\n",
                "    ('estimator',estimator),\n",
                "])\n"
            ],
            "outputs": [],
            "metadata": {}
        },
        {
            "cell_type": "code",
            "execution_count": 17,
            "source": [
                "from sklearn.metrics import r2_score,mean_squared_error,mean_absolute_error\n",
                "from sklearn.model_selection import cross_val_score\n",
                "# MAPE\n",
                "def mape(targets, predictions):\n",
                "    return np.mean(np.abs((targets - predictions)) / targets) * 100\n",
                "\n",
                "# Adjusted R^2\n",
                "def adj_r2(ind_vars, targets, predictions):\n",
                "    r2 = r2_score(targets, predictions)\n",
                "    n = ind_vars.shape[0]\n",
                "    k = ind_vars.shape[1]\n",
                "    return 1-((1-r2)*(n-1)/(n-k-1))\n",
                "\n",
                "# Model performance check\n",
                "def model_perf(model, inp, out,cross_val=True):\n",
                "\n",
                "    y_pred = model.predict(inp)\n",
                "    y_act = out.values\n",
                "\n",
                "    cross_val_ = cross_val_score(model, inp,out,cv=10).mean() if cross_val else None\n",
                "    \n",
                "\n",
                "    return pd.DataFrame({\n",
                "                \"RMSE\": np.sqrt(mean_squared_error(y_act, y_pred)),\n",
                "                \"MAE\": mean_absolute_error(y_act, y_pred),\n",
                "                \"MAPE\": mape(y_act, y_pred),\n",
                "                \"R^2\": r2_score(y_act, y_pred),\n",
                "                \"Adjusted R^2\": adj_r2(inp, y_act, y_pred),\n",
                "                \"Cross Val Score (Mean)\": cross_val_ if cross_val else None\n",
                "           }, index=[0])"
            ],
            "outputs": [],
            "metadata": {}
        },
        {
            "cell_type": "markdown",
            "source": [
                "## LinearRegression"
            ],
            "metadata": {}
        },
        {
            "cell_type": "code",
            "execution_count": 18,
            "source": [
                "linear_regressor = build_pipeline_with_estimator(LinearRegression())\n",
                "\n",
                "linear_regressor.fit(X_train,y_train)\n",
                "\n",
                "print('Linear Regression Train Performance.\\n')\n",
                "print(model_perf(linear_regressor,X_train,y_train,True))\n",
                "\n",
                "print('Linear Regression Test Performance.\\n')\n",
                "print(model_perf(linear_regressor,X_test,y_test,True))"
            ],
            "outputs": [
                {
                    "output_type": "stream",
                    "name": "stdout",
                    "text": [
                        "Linear Regression Train Performance.\n",
                        "\n",
                        "           RMSE           MAE       MAPE       R^2  Adjusted R^2  \\\n",
                        "0  16988.565913  12482.367334  18.865792  0.817687      0.817119   \n",
                        "\n",
                        "   Cross Val Score (Mean)  \n",
                        "0                0.812923  \n",
                        "Linear Regression Test Performance.\n",
                        "\n",
                        "           RMSE           MAE       MAPE       R^2  Adjusted R^2  \\\n",
                        "0  17989.187845  13054.918696  19.997175  0.799415       0.79753   \n",
                        "\n",
                        "   Cross Val Score (Mean)  \n",
                        "0                0.787729  \n"
                    ]
                }
            ],
            "metadata": {}
        },
        {
            "cell_type": "markdown",
            "source": [
                "## RandomForest"
            ],
            "metadata": {}
        },
        {
            "cell_type": "code",
            "execution_count": 19,
            "source": [
                "from sklearn.ensemble import RandomForestRegressor\n",
                "from sklearn.model_selection import RandomizedSearchCV\n",
                "\n",
                "model = build_pipeline_with_estimator(RandomForestRegressor())\n",
                "\n",
                "params = {\n",
                "    'estimator__criterion': ['mse','mae'],\n",
                "    'estimator__n_estimators': [100,110,120,130],\n",
                "    'estimator__max_depth': [5,10,15,20,25,30],\n",
                "    'estimator__min_samples_split': range(2,20),\n",
                "    'estimator__max_features': ['auto','sqrt','log2'],\n",
                "}\n",
                "\n",
                "model = RandomizedSearchCV(model,params,cv=5)\n",
                "\n",
                "model.fit(X_train,y_train)\n",
                "\n",
                "print('RandomForest Train Performance.\\n')\n",
                "print(model_perf(model,X_train,y_train,False))\n",
                "\n",
                "print('RandomForest Test Performance.\\n')\n",
                "print(model_perf(model,X_test,y_test,False))"
            ],
            "outputs": [
                {
                    "output_type": "stream",
                    "name": "stdout",
                    "text": [
                        "RandomForest Train Performance.\n",
                        "\n",
                        "          RMSE          MAE      MAPE       R^2  Adjusted R^2  \\\n",
                        "0  9153.505655  6652.491563  9.335059  0.947073      0.946908   \n",
                        "\n",
                        "  Cross Val Score (Mean)  \n",
                        "0                   None  \n",
                        "RandomForest Test Performance.\n",
                        "\n",
                        "           RMSE           MAE       MAPE       R^2  Adjusted R^2  \\\n",
                        "0  14935.895729  10895.729282  15.524417  0.861727      0.860427   \n",
                        "\n",
                        "  Cross Val Score (Mean)  \n",
                        "0                   None  \n"
                    ]
                }
            ],
            "metadata": {}
        },
        {
            "cell_type": "markdown",
            "source": [
                "## XGBoost"
            ],
            "metadata": {}
        },
        {
            "cell_type": "code",
            "execution_count": 20,
            "source": [
                "from xgboost import XGBRegressor\n",
                "\n",
                "xgboost = build_pipeline_with_estimator(XGBRegressor())\n",
                "\n",
                "xgboost.fit(X_train,y_train)\n",
                "\n",
                "print('xgboost Train Performance.\\n')\n",
                "print(model_perf(xgboost,X_train,y_train))\n",
                "\n",
                "print('xgboost Test Performance.\\n')\n",
                "print(model_perf(xgboost,X_test,y_test))"
            ],
            "outputs": [
                {
                    "output_type": "stream",
                    "name": "stdout",
                    "text": [
                        "xgboost Train Performance.\n",
                        "\n",
                        "          RMSE          MAE      MAPE       R^2  Adjusted R^2  \\\n",
                        "0  7030.686406  4805.135542  6.569586  0.968775      0.968678   \n",
                        "\n",
                        "   Cross Val Score (Mean)  \n",
                        "0                0.853562  \n",
                        "xgboost Test Performance.\n",
                        "\n",
                        "           RMSE           MAE       MAPE       R^2  Adjusted R^2  \\\n",
                        "0  14549.876103  10510.877809  14.781715  0.868782      0.867549   \n",
                        "\n",
                        "   Cross Val Score (Mean)  \n",
                        "0                0.804053  \n"
                    ]
                }
            ],
            "metadata": {}
        },
        {
            "cell_type": "markdown",
            "source": [
                "## KNeighborsRegressor"
            ],
            "metadata": {}
        },
        {
            "cell_type": "code",
            "execution_count": 21,
            "source": [
                "from sklearn.neighbors import KNeighborsRegressor\n",
                "\n",
                "model = build_pipeline_with_estimator(KNeighborsRegressor())\n",
                "\n",
                "params = {\n",
                "    'estimator__n_neighbors': [3,5,7,9],\n",
                "    'estimator__algorithm': ['ball_tree','kd_tree','brute'],\n",
                "    'estimator__leaf_size': [5,10,30,32,35]\n",
                "}\n",
                "\n",
                "model = GridSearchCV(model,params,cv=5)\n",
                "\n",
                "model.fit(X_train,y_train)\n",
                "\n",
                "print('KNeighborsRegressor Train Performance.\\n')\n",
                "print(model_perf(model,X_train,y_train))\n",
                "\n",
                "print('KNeighborsRegressor Test Performance.\\n')\n",
                "print(model_perf(model,X_test,y_test))"
            ],
            "outputs": [
                {
                    "output_type": "stream",
                    "name": "stdout",
                    "text": [
                        "KNeighborsRegressor Train Performance.\n",
                        "\n",
                        "           RMSE          MAE       MAPE       R^2  Adjusted R^2  \\\n",
                        "0  13767.189839  9829.483676  13.935315  0.880272      0.879899   \n",
                        "\n",
                        "   Cross Val Score (Mean)  \n",
                        "0                0.817754  \n",
                        "KNeighborsRegressor Test Performance.\n",
                        "\n",
                        "           RMSE           MAE       MAPE       R^2  Adjusted R^2  \\\n",
                        "0  16564.118191  11991.214419  17.440206  0.829937      0.828338   \n",
                        "\n",
                        "   Cross Val Score (Mean)  \n",
                        "0                0.785274  \n"
                    ]
                }
            ],
            "metadata": {}
        },
        {
            "cell_type": "markdown",
            "source": [
                "## GradientBoostingRegressor"
            ],
            "metadata": {}
        },
        {
            "cell_type": "code",
            "execution_count": 22,
            "source": [
                "from sklearn.ensemble import GradientBoostingRegressor\n",
                "\n",
                "model = build_pipeline_with_estimator(GradientBoostingRegressor())\n",
                "\n",
                "# params = {\n",
                "#     'estimator__loss': ['ls','lad','huber','quantile'],\n",
                "#     'estimator__learning_rate': [0.1,0.01,0.001],\n",
                "#     'estimator__n_estimators': [100],\n",
                "#     'estimator__criterion': ['friedman_mse','mse'],\n",
                "# }\n",
                "\n",
                "# model = RandomizedSearchCV(model,params,cv=5)\n",
                "\n",
                "model.fit(X_train,y_train)\n",
                "\n",
                "print('GradientBoostingRegressor Train Performance.\\n')\n",
                "print(model_perf(model,X_train,y_train))\n",
                "\n",
                "print('GradientBoostingRegressor Test Performance.\\n')\n",
                "print(model_perf(model,X_test,y_test))"
            ],
            "outputs": [
                {
                    "output_type": "stream",
                    "name": "stdout",
                    "text": [
                        "GradientBoostingRegressor Train Performance.\n",
                        "\n",
                        "          RMSE          MAE      MAPE       R^2  Adjusted R^2  \\\n",
                        "0  13323.67338  9777.050485  13.96837  0.887862      0.887513   \n",
                        "\n",
                        "   Cross Val Score (Mean)  \n",
                        "0                0.863695  \n",
                        "GradientBoostingRegressor Test Performance.\n",
                        "\n",
                        "           RMSE           MAE       MAPE       R^2  Adjusted R^2  \\\n",
                        "0  14609.920389  10510.369966  14.960252  0.867697      0.866453   \n",
                        "\n",
                        "   Cross Val Score (Mean)  \n",
                        "0                0.842533  \n"
                    ]
                }
            ],
            "metadata": {}
        }
    ],
    "metadata": {
        "orig_nbformat": 4,
        "language_info": {
            "name": "python",
            "version": "3.8.8",
            "mimetype": "text/x-python",
            "codemirror_mode": {
                "name": "ipython",
                "version": 3
            },
            "pygments_lexer": "ipython3",
            "nbconvert_exporter": "python",
            "file_extension": ".py"
        },
        "kernelspec": {
            "name": "python3",
            "display_name": "Python 3.8.8 64-bit ('base': conda)"
        },
        "interpreter": {
            "hash": "d213f6e5b8fd7d14bb00958cfb5f51bfe315e9248ff051fde0d0d79c3d0f4eba"
        }
    },
    "nbformat": 4,
    "nbformat_minor": 2
}