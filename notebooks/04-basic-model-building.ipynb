{
    "cells": [
        {
            "cell_type": "code",
            "execution_count": 1,
            "source": [
                "import pandas as pd\n",
                "import numpy as np\n",
                "import matplotlib.pyplot as plt\n",
                "import seaborn as sns"
            ],
            "outputs": [],
            "metadata": {}
        },
        {
            "cell_type": "code",
            "execution_count": 2,
            "source": [
                "df = pd.read_csv('../data/processed/processed.csv')"
            ],
            "outputs": [],
            "metadata": {}
        },
        {
            "cell_type": "code",
            "execution_count": 3,
            "source": [
                "df.shape"
            ],
            "outputs": [
                {
                    "output_type": "execute_result",
                    "data": {
                        "text/plain": [
                            "(5247, 9)"
                        ]
                    },
                    "metadata": {},
                    "execution_count": 3
                }
            ],
            "metadata": {}
        },
        {
            "cell_type": "code",
            "execution_count": 4,
            "source": [
                "df.sample(3)"
            ],
            "outputs": [
                {
                    "output_type": "execute_result",
                    "data": {
                        "text/html": [
                            "<div>\n",
                            "<style scoped>\n",
                            "    .dataframe tbody tr th:only-of-type {\n",
                            "        vertical-align: middle;\n",
                            "    }\n",
                            "\n",
                            "    .dataframe tbody tr th {\n",
                            "        vertical-align: top;\n",
                            "    }\n",
                            "\n",
                            "    .dataframe thead th {\n",
                            "        text-align: right;\n",
                            "    }\n",
                            "</style>\n",
                            "<table border=\"1\" class=\"dataframe\">\n",
                            "  <thead>\n",
                            "    <tr style=\"text-align: right;\">\n",
                            "      <th></th>\n",
                            "      <th>kms_driven</th>\n",
                            "      <th>owner</th>\n",
                            "      <th>location</th>\n",
                            "      <th>mileage</th>\n",
                            "      <th>power</th>\n",
                            "      <th>price</th>\n",
                            "      <th>brand</th>\n",
                            "      <th>engine</th>\n",
                            "      <th>age</th>\n",
                            "    </tr>\n",
                            "  </thead>\n",
                            "  <tbody>\n",
                            "    <tr>\n",
                            "      <th>379</th>\n",
                            "      <td>4700.0</td>\n",
                            "      <td>first</td>\n",
                            "      <td>bangalore</td>\n",
                            "      <td>NaN</td>\n",
                            "      <td>20.7</td>\n",
                            "      <td>190000.0</td>\n",
                            "      <td>other</td>\n",
                            "      <td>NaN</td>\n",
                            "      <td>1</td>\n",
                            "    </tr>\n",
                            "    <tr>\n",
                            "      <th>4294</th>\n",
                            "      <td>7700.0</td>\n",
                            "      <td>first</td>\n",
                            "      <td>other</td>\n",
                            "      <td>NaN</td>\n",
                            "      <td>NaN</td>\n",
                            "      <td>127900.0</td>\n",
                            "      <td>Royal Enfield</td>\n",
                            "      <td>500.0</td>\n",
                            "      <td>5</td>\n",
                            "    </tr>\n",
                            "    <tr>\n",
                            "      <th>3249</th>\n",
                            "      <td>23875.0</td>\n",
                            "      <td>second</td>\n",
                            "      <td>other</td>\n",
                            "      <td>NaN</td>\n",
                            "      <td>NaN</td>\n",
                            "      <td>85000.0</td>\n",
                            "      <td>Royal Enfield</td>\n",
                            "      <td>350.0</td>\n",
                            "      <td>7</td>\n",
                            "    </tr>\n",
                            "  </tbody>\n",
                            "</table>\n",
                            "</div>"
                        ],
                        "text/plain": [
                            "      kms_driven   owner   location  mileage  power     price          brand  \\\n",
                            "379       4700.0   first  bangalore      NaN   20.7  190000.0          other   \n",
                            "4294      7700.0   first      other      NaN    NaN  127900.0  Royal Enfield   \n",
                            "3249     23875.0  second      other      NaN    NaN   85000.0  Royal Enfield   \n",
                            "\n",
                            "      engine  age  \n",
                            "379      NaN    1  \n",
                            "4294   500.0    5  \n",
                            "3249   350.0    7  "
                        ]
                    },
                    "metadata": {},
                    "execution_count": 4
                }
            ],
            "metadata": {}
        },
        {
            "cell_type": "code",
            "execution_count": 5,
            "source": [
                "X = df.drop('price',axis=1)\n",
                "y = df['price']"
            ],
            "outputs": [],
            "metadata": {}
        },
        {
            "cell_type": "code",
            "execution_count": 6,
            "source": [
                "X.head()"
            ],
            "outputs": [
                {
                    "output_type": "execute_result",
                    "data": {
                        "text/html": [
                            "<div>\n",
                            "<style scoped>\n",
                            "    .dataframe tbody tr th:only-of-type {\n",
                            "        vertical-align: middle;\n",
                            "    }\n",
                            "\n",
                            "    .dataframe tbody tr th {\n",
                            "        vertical-align: top;\n",
                            "    }\n",
                            "\n",
                            "    .dataframe thead th {\n",
                            "        text-align: right;\n",
                            "    }\n",
                            "</style>\n",
                            "<table border=\"1\" class=\"dataframe\">\n",
                            "  <thead>\n",
                            "    <tr style=\"text-align: right;\">\n",
                            "      <th></th>\n",
                            "      <th>kms_driven</th>\n",
                            "      <th>owner</th>\n",
                            "      <th>location</th>\n",
                            "      <th>mileage</th>\n",
                            "      <th>power</th>\n",
                            "      <th>brand</th>\n",
                            "      <th>engine</th>\n",
                            "      <th>age</th>\n",
                            "    </tr>\n",
                            "  </thead>\n",
                            "  <tbody>\n",
                            "    <tr>\n",
                            "      <th>0</th>\n",
                            "      <td>15144.0</td>\n",
                            "      <td>first</td>\n",
                            "      <td>other</td>\n",
                            "      <td>40.0</td>\n",
                            "      <td>19.8</td>\n",
                            "      <td>Royal Enfield</td>\n",
                            "      <td>350.0</td>\n",
                            "      <td>5</td>\n",
                            "    </tr>\n",
                            "    <tr>\n",
                            "      <th>1</th>\n",
                            "      <td>25000.0</td>\n",
                            "      <td>first</td>\n",
                            "      <td>chennai</td>\n",
                            "      <td>35.0</td>\n",
                            "      <td>19.8</td>\n",
                            "      <td>Royal Enfield</td>\n",
                            "      <td>350.0</td>\n",
                            "      <td>3</td>\n",
                            "    </tr>\n",
                            "    <tr>\n",
                            "      <th>2</th>\n",
                            "      <td>5169.0</td>\n",
                            "      <td>first</td>\n",
                            "      <td>bangalore</td>\n",
                            "      <td>NaN</td>\n",
                            "      <td>19.0</td>\n",
                            "      <td>Yamaha</td>\n",
                            "      <td>150.0</td>\n",
                            "      <td>2</td>\n",
                            "    </tr>\n",
                            "    <tr>\n",
                            "      <th>3</th>\n",
                            "      <td>86728.0</td>\n",
                            "      <td>first</td>\n",
                            "      <td>other</td>\n",
                            "      <td>42.0</td>\n",
                            "      <td>16.0</td>\n",
                            "      <td>Yamaha</td>\n",
                            "      <td>150.0</td>\n",
                            "      <td>11</td>\n",
                            "    </tr>\n",
                            "    <tr>\n",
                            "      <th>4</th>\n",
                            "      <td>4400.0</td>\n",
                            "      <td>second</td>\n",
                            "      <td>chennai</td>\n",
                            "      <td>40.0</td>\n",
                            "      <td>19.0</td>\n",
                            "      <td>Bajaj</td>\n",
                            "      <td>220.0</td>\n",
                            "      <td>10</td>\n",
                            "    </tr>\n",
                            "  </tbody>\n",
                            "</table>\n",
                            "</div>"
                        ],
                        "text/plain": [
                            "   kms_driven   owner   location  mileage  power          brand  engine  age\n",
                            "0     15144.0   first      other     40.0   19.8  Royal Enfield   350.0    5\n",
                            "1     25000.0   first    chennai     35.0   19.8  Royal Enfield   350.0    3\n",
                            "2      5169.0   first  bangalore      NaN   19.0         Yamaha   150.0    2\n",
                            "3     86728.0   first      other     42.0   16.0         Yamaha   150.0   11\n",
                            "4      4400.0  second    chennai     40.0   19.0          Bajaj   220.0   10"
                        ]
                    },
                    "metadata": {},
                    "execution_count": 6
                }
            ],
            "metadata": {}
        },
        {
            "cell_type": "code",
            "execution_count": 7,
            "source": [
                "df.brand.unique()"
            ],
            "outputs": [
                {
                    "output_type": "execute_result",
                    "data": {
                        "text/plain": [
                            "array(['Royal Enfield', 'Yamaha', 'Bajaj', 'other', 'Hero', 'TVS', 'KTM',\n",
                            "       'Honda', 'Harley-Davidson', 'Suzuki', 'UM'], dtype=object)"
                        ]
                    },
                    "metadata": {},
                    "execution_count": 7
                }
            ],
            "metadata": {}
        },
        {
            "cell_type": "code",
            "execution_count": 8,
            "source": [
                "from sklearn.model_selection import train_test_split\n",
                "X_train,X_test,y_train,y_test = train_test_split(X,y,test_size=.25,random_state=11)"
            ],
            "outputs": [],
            "metadata": {}
        },
        {
            "cell_type": "code",
            "execution_count": 9,
            "source": [
                "y = y.apply(np.log1p)"
            ],
            "outputs": [],
            "metadata": {}
        },
        {
            "cell_type": "markdown",
            "source": [
                "## Category Encoding"
            ],
            "metadata": {}
        },
        {
            "cell_type": "code",
            "execution_count": 10,
            "source": [
                "X.head()"
            ],
            "outputs": [
                {
                    "output_type": "execute_result",
                    "data": {
                        "text/html": [
                            "<div>\n",
                            "<style scoped>\n",
                            "    .dataframe tbody tr th:only-of-type {\n",
                            "        vertical-align: middle;\n",
                            "    }\n",
                            "\n",
                            "    .dataframe tbody tr th {\n",
                            "        vertical-align: top;\n",
                            "    }\n",
                            "\n",
                            "    .dataframe thead th {\n",
                            "        text-align: right;\n",
                            "    }\n",
                            "</style>\n",
                            "<table border=\"1\" class=\"dataframe\">\n",
                            "  <thead>\n",
                            "    <tr style=\"text-align: right;\">\n",
                            "      <th></th>\n",
                            "      <th>kms_driven</th>\n",
                            "      <th>owner</th>\n",
                            "      <th>location</th>\n",
                            "      <th>mileage</th>\n",
                            "      <th>power</th>\n",
                            "      <th>brand</th>\n",
                            "      <th>engine</th>\n",
                            "      <th>age</th>\n",
                            "    </tr>\n",
                            "  </thead>\n",
                            "  <tbody>\n",
                            "    <tr>\n",
                            "      <th>0</th>\n",
                            "      <td>15144.0</td>\n",
                            "      <td>first</td>\n",
                            "      <td>other</td>\n",
                            "      <td>40.0</td>\n",
                            "      <td>19.8</td>\n",
                            "      <td>Royal Enfield</td>\n",
                            "      <td>350.0</td>\n",
                            "      <td>5</td>\n",
                            "    </tr>\n",
                            "    <tr>\n",
                            "      <th>1</th>\n",
                            "      <td>25000.0</td>\n",
                            "      <td>first</td>\n",
                            "      <td>chennai</td>\n",
                            "      <td>35.0</td>\n",
                            "      <td>19.8</td>\n",
                            "      <td>Royal Enfield</td>\n",
                            "      <td>350.0</td>\n",
                            "      <td>3</td>\n",
                            "    </tr>\n",
                            "    <tr>\n",
                            "      <th>2</th>\n",
                            "      <td>5169.0</td>\n",
                            "      <td>first</td>\n",
                            "      <td>bangalore</td>\n",
                            "      <td>NaN</td>\n",
                            "      <td>19.0</td>\n",
                            "      <td>Yamaha</td>\n",
                            "      <td>150.0</td>\n",
                            "      <td>2</td>\n",
                            "    </tr>\n",
                            "    <tr>\n",
                            "      <th>3</th>\n",
                            "      <td>86728.0</td>\n",
                            "      <td>first</td>\n",
                            "      <td>other</td>\n",
                            "      <td>42.0</td>\n",
                            "      <td>16.0</td>\n",
                            "      <td>Yamaha</td>\n",
                            "      <td>150.0</td>\n",
                            "      <td>11</td>\n",
                            "    </tr>\n",
                            "    <tr>\n",
                            "      <th>4</th>\n",
                            "      <td>4400.0</td>\n",
                            "      <td>second</td>\n",
                            "      <td>chennai</td>\n",
                            "      <td>40.0</td>\n",
                            "      <td>19.0</td>\n",
                            "      <td>Bajaj</td>\n",
                            "      <td>220.0</td>\n",
                            "      <td>10</td>\n",
                            "    </tr>\n",
                            "  </tbody>\n",
                            "</table>\n",
                            "</div>"
                        ],
                        "text/plain": [
                            "   kms_driven   owner   location  mileage  power          brand  engine  age\n",
                            "0     15144.0   first      other     40.0   19.8  Royal Enfield   350.0    5\n",
                            "1     25000.0   first    chennai     35.0   19.8  Royal Enfield   350.0    3\n",
                            "2      5169.0   first  bangalore      NaN   19.0         Yamaha   150.0    2\n",
                            "3     86728.0   first      other     42.0   16.0         Yamaha   150.0   11\n",
                            "4      4400.0  second    chennai     40.0   19.0          Bajaj   220.0   10"
                        ]
                    },
                    "metadata": {},
                    "execution_count": 10
                }
            ],
            "metadata": {}
        },
        {
            "cell_type": "markdown",
            "source": [
                "## Impute missing values"
            ],
            "metadata": {}
        },
        {
            "cell_type": "code",
            "execution_count": 11,
            "source": [
                "from sklearn.impute import KNNImputer\n",
                "\n",
                "num_cols = [ col for col in X.columns if X[col].dtypes != 'object' ]\n",
                "print(num_cols)"
            ],
            "outputs": [
                {
                    "output_type": "stream",
                    "name": "stdout",
                    "text": [
                        "['kms_driven', 'mileage', 'power', 'engine', 'age']\n"
                    ]
                }
            ],
            "metadata": {}
        },
        {
            "cell_type": "code",
            "execution_count": 12,
            "source": [
                "imputer = KNNImputer(n_neighbors=7,weights='distance')\n",
                "\n",
                "imputer.fit(X_train[num_cols])\n",
                "\n",
                "# X_train[num_cols] = imputer.transform(X_train[num_cols])\n",
                "# X_test[num_cols] = imputer.transform(X_test[num_cols])\n",
                "# imputer.fit(X_train[num_cols])\n",
                "\n",
                "X_train.loc[:][num_cols] = imputer.fit_transform(X_train[num_cols])\n",
                "X_test.loc[:][num_cols] = imputer.transform(X_test[num_cols])\n",
                "\n",
                "# print(X_train.shape,y_train.shape, X_test.shape,y_test.shape)"
            ],
            "outputs": [],
            "metadata": {}
        },
        {
            "cell_type": "code",
            "execution_count": 13,
            "source": [
                "print('Missing Values in Train set',X_train.isnull().sum())\n",
                "print('Missing Values in Test set',X_test.isnull().sum())"
            ],
            "outputs": [
                {
                    "output_type": "stream",
                    "name": "stdout",
                    "text": [
                        "Missing Values in Train set kms_driven    0\n",
                        "owner         0\n",
                        "location      0\n",
                        "mileage       0\n",
                        "power         0\n",
                        "brand         0\n",
                        "engine        0\n",
                        "age           0\n",
                        "dtype: int64\n",
                        "Missing Values in Test set kms_driven    0\n",
                        "owner         0\n",
                        "location      0\n",
                        "mileage       0\n",
                        "power         0\n",
                        "brand         0\n",
                        "engine        0\n",
                        "age           0\n",
                        "dtype: int64\n"
                    ]
                }
            ],
            "metadata": {}
        },
        {
            "cell_type": "code",
            "execution_count": 14,
            "source": [
                "X_train.head()"
            ],
            "outputs": [
                {
                    "output_type": "execute_result",
                    "data": {
                        "text/html": [
                            "<div>\n",
                            "<style scoped>\n",
                            "    .dataframe tbody tr th:only-of-type {\n",
                            "        vertical-align: middle;\n",
                            "    }\n",
                            "\n",
                            "    .dataframe tbody tr th {\n",
                            "        vertical-align: top;\n",
                            "    }\n",
                            "\n",
                            "    .dataframe thead th {\n",
                            "        text-align: right;\n",
                            "    }\n",
                            "</style>\n",
                            "<table border=\"1\" class=\"dataframe\">\n",
                            "  <thead>\n",
                            "    <tr style=\"text-align: right;\">\n",
                            "      <th></th>\n",
                            "      <th>kms_driven</th>\n",
                            "      <th>owner</th>\n",
                            "      <th>location</th>\n",
                            "      <th>mileage</th>\n",
                            "      <th>power</th>\n",
                            "      <th>brand</th>\n",
                            "      <th>engine</th>\n",
                            "      <th>age</th>\n",
                            "    </tr>\n",
                            "  </thead>\n",
                            "  <tbody>\n",
                            "    <tr>\n",
                            "      <th>721</th>\n",
                            "      <td>30000.0</td>\n",
                            "      <td>first</td>\n",
                            "      <td>mumbai</td>\n",
                            "      <td>25.000000</td>\n",
                            "      <td>19.800000</td>\n",
                            "      <td>Royal Enfield</td>\n",
                            "      <td>350.0</td>\n",
                            "      <td>5</td>\n",
                            "    </tr>\n",
                            "    <tr>\n",
                            "      <th>725</th>\n",
                            "      <td>44000.0</td>\n",
                            "      <td>first</td>\n",
                            "      <td>other</td>\n",
                            "      <td>5.000000</td>\n",
                            "      <td>8.200000</td>\n",
                            "      <td>Hero</td>\n",
                            "      <td>100.0</td>\n",
                            "      <td>2</td>\n",
                            "    </tr>\n",
                            "    <tr>\n",
                            "      <th>4959</th>\n",
                            "      <td>24000.0</td>\n",
                            "      <td>first</td>\n",
                            "      <td>other</td>\n",
                            "      <td>54.585274</td>\n",
                            "      <td>14.044563</td>\n",
                            "      <td>other</td>\n",
                            "      <td>110.0</td>\n",
                            "      <td>6</td>\n",
                            "    </tr>\n",
                            "    <tr>\n",
                            "      <th>4289</th>\n",
                            "      <td>15000.0</td>\n",
                            "      <td>first</td>\n",
                            "      <td>bangalore</td>\n",
                            "      <td>16.000000</td>\n",
                            "      <td>76.500000</td>\n",
                            "      <td>Hero</td>\n",
                            "      <td>100.0</td>\n",
                            "      <td>4</td>\n",
                            "    </tr>\n",
                            "    <tr>\n",
                            "      <th>1021</th>\n",
                            "      <td>6900.0</td>\n",
                            "      <td>first</td>\n",
                            "      <td>bangalore</td>\n",
                            "      <td>35.000000</td>\n",
                            "      <td>19.800000</td>\n",
                            "      <td>Royal Enfield</td>\n",
                            "      <td>350.0</td>\n",
                            "      <td>4</td>\n",
                            "    </tr>\n",
                            "  </tbody>\n",
                            "</table>\n",
                            "</div>"
                        ],
                        "text/plain": [
                            "      kms_driven  owner   location    mileage      power          brand  \\\n",
                            "721      30000.0  first     mumbai  25.000000  19.800000  Royal Enfield   \n",
                            "725      44000.0  first      other   5.000000   8.200000           Hero   \n",
                            "4959     24000.0  first      other  54.585274  14.044563          other   \n",
                            "4289     15000.0  first  bangalore  16.000000  76.500000           Hero   \n",
                            "1021      6900.0  first  bangalore  35.000000  19.800000  Royal Enfield   \n",
                            "\n",
                            "      engine  age  \n",
                            "721    350.0    5  \n",
                            "725    100.0    2  \n",
                            "4959   110.0    6  \n",
                            "4289   100.0    4  \n",
                            "1021   350.0    4  "
                        ]
                    },
                    "metadata": {},
                    "execution_count": 14
                }
            ],
            "metadata": {}
        },
        {
            "cell_type": "code",
            "execution_count": 15,
            "source": [
                "from sklearn.preprocessing import StandardScaler\n",
                "from sklearn.compose import ColumnTransformer\n",
                "from sklearn.preprocessing import OneHotEncoder,OrdinalEncoder,MinMaxScaler\n",
                "\n",
                "category_transformer = ColumnTransformer([\n",
                "    (\"kms_driven_engine_min_max_scaler\",MinMaxScaler(),[0,6,3,4]),\n",
                "    (\"owner_ordinal_enc\",OrdinalEncoder(categories=[['fourth','third','second','first']],handle_unknown='ignore',dtype=np.int16),[1]),\n",
                "    (\"brand_location_ohe\",OneHotEncoder(sparse=False,handle_unknown='error',drop='first',),[2,5]),\n",
                "],remainder='passthrough')\n",
                "\n"
            ],
            "outputs": [],
            "metadata": {}
        },
        {
            "cell_type": "markdown",
            "source": [
                "## Model Building"
            ],
            "metadata": {}
        },
        {
            "cell_type": "code",
            "execution_count": 16,
            "source": [
                "from sklearn.pipeline import Pipeline\n",
                "from sklearn.model_selection import GridSearchCV, RandomizedSearchCV\n",
                "from sklearn.linear_model import LinearRegression\n",
                "from sklearn.ensemble import RandomForestRegressor\n",
                "\n",
                "from sklearn import set_config\n",
                "\n",
                "set_config(display='diagram')"
            ],
            "outputs": [],
            "metadata": {}
        },
        {
            "cell_type": "code",
            "execution_count": 17,
            "source": [
                "\n",
                "def build_pipeline_with_estimator(estimator):\n",
                "    return Pipeline([\n",
                "    ('category_transformer',category_transformer),\n",
                "    ('estimator',estimator),\n",
                "])\n"
            ],
            "outputs": [],
            "metadata": {}
        },
        {
            "cell_type": "code",
            "execution_count": 18,
            "source": [
                "from sklearn.metrics import r2_score,mean_squared_error,mean_absolute_error\n",
                "from sklearn.model_selection import cross_val_score\n",
                "# MAPE\n",
                "def mape(targets, predictions):\n",
                "    return np.mean(np.abs((targets - predictions)) / targets) * 100\n",
                "\n",
                "# Adjusted R^2\n",
                "def adj_r2(ind_vars, targets, predictions):\n",
                "    r2 = r2_score(targets, predictions)\n",
                "    n = ind_vars.shape[0]\n",
                "    k = ind_vars.shape[1]\n",
                "    return 1-((1-r2)*(n-1)/(n-k-1))\n",
                "\n",
                "# Model performance check\n",
                "def model_perf(model, inp, out,cross_val=True):\n",
                "\n",
                "    y_pred = model.predict(inp)\n",
                "    y_act = out.values\n",
                "\n",
                "    cross_val_ = cross_val_score(model, inp,out,cv=10).mean() if cross_val else None\n",
                "    \n",
                "\n",
                "    return pd.DataFrame({\n",
                "                \"RMSE\": np.sqrt(mean_squared_error(y_act, y_pred)),\n",
                "                \"MAE\": mean_absolute_error(y_act, y_pred),\n",
                "                \"MAPE\": mape(y_act, y_pred),\n",
                "                \"R^2\": r2_score(y_act, y_pred),\n",
                "                \"Adjusted R^2\": adj_r2(inp, y_act, y_pred),\n",
                "                \"Cross Val Score (Mean)\": cross_val_ if cross_val else None\n",
                "           }, index=[0])"
            ],
            "outputs": [],
            "metadata": {}
        },
        {
            "cell_type": "markdown",
            "source": [
                "## LinearRegression"
            ],
            "metadata": {}
        },
        {
            "cell_type": "code",
            "execution_count": 19,
            "source": [
                "linear_regressor = build_pipeline_with_estimator(LinearRegression())\n",
                "\n",
                "linear_regressor.fit(X_train,y_train)\n",
                "\n",
                "print('Linear Regression Train Performance.\\n')\n",
                "print(model_perf(linear_regressor,X_train,y_train,True))\n",
                "\n",
                "print('Linear Regression Test Performance.\\n')\n",
                "print(model_perf(linear_regressor,X_test,y_test,True))"
            ],
            "outputs": [
                {
                    "output_type": "stream",
                    "name": "stdout",
                    "text": [
                        "Linear Regression Train Performance.\n",
                        "\n",
                        "           RMSE          MAE       MAPE       R^2  Adjusted R^2  \\\n",
                        "0  74067.499924  32315.44057  46.937635  0.527917      0.526955   \n",
                        "\n",
                        "   Cross Val Score (Mean)  \n",
                        "0                0.537539  \n",
                        "Linear Regression Test Performance.\n",
                        "\n",
                        "           RMSE           MAE       MAPE       R^2  Adjusted R^2  \\\n",
                        "0  62603.785879  29924.689347  41.993161  0.642889      0.640696   \n",
                        "\n",
                        "   Cross Val Score (Mean)  \n",
                        "0                0.632615  \n"
                    ]
                }
            ],
            "metadata": {}
        },
        {
            "cell_type": "markdown",
            "source": [
                "## RandomForest"
            ],
            "metadata": {}
        },
        {
            "cell_type": "code",
            "execution_count": 20,
            "source": [
                "from sklearn.ensemble import RandomForestRegressor\n",
                "from sklearn.model_selection import RandomizedSearchCV\n",
                "\n",
                "model = build_pipeline_with_estimator(RandomForestRegressor())\n",
                "\n",
                "# params = {\n",
                "#     'estimator__criterion': ['mse','mae'],\n",
                "#     'estimator__n_estimators': [100,110,120,130],\n",
                "#     'estimator__max_depth': [5,10,15,20,25,30],\n",
                "#     'estimator__min_samples_split': range(2,20),\n",
                "#     'estimator__max_features': ['auto','sqrt','log2'],\n",
                "# }\n",
                "# model = GridSearchCV(model,params,cv=5)\n",
                "# model = RandomizedSearchCV(model,params,cv=5)\n",
                "\n",
                "model.fit(X_train,y_train)\n",
                "\n",
                "print('RandomForest Train Performance.\\n')\n",
                "print(model_perf(model,X_train,y_train,False))\n",
                "\n",
                "print('RandomForest Test Performance.\\n')\n",
                "print(model_perf(model,X_test,y_test,False))"
            ],
            "outputs": [
                {
                    "output_type": "stream",
                    "name": "stdout",
                    "text": [
                        "RandomForest Train Performance.\n",
                        "\n",
                        "          RMSE          MAE       MAPE       R^2  Adjusted R^2  \\\n",
                        "0  28328.24373  8427.722809  10.155582  0.930944      0.930803   \n",
                        "\n",
                        "  Cross Val Score (Mean)  \n",
                        "0                   None  \n",
                        "RandomForest Test Performance.\n",
                        "\n",
                        "           RMSE           MAE       MAPE       R^2  Adjusted R^2  \\\n",
                        "0  52904.918067  19982.766959  25.200901  0.744968      0.743402   \n",
                        "\n",
                        "  Cross Val Score (Mean)  \n",
                        "0                   None  \n"
                    ]
                }
            ],
            "metadata": {}
        },
        {
            "cell_type": "markdown",
            "source": [
                "## XGBoost"
            ],
            "metadata": {}
        },
        {
            "cell_type": "code",
            "execution_count": 21,
            "source": [
                "from xgboost import XGBRegressor\n",
                "\n",
                "xgboost = build_pipeline_with_estimator(XGBRegressor())\n",
                "\n",
                "xgboost.fit(X_train,y_train)\n",
                "\n",
                "print('xgboost Train Performance.\\n')\n",
                "print(model_perf(xgboost,X_train,y_train))\n",
                "\n",
                "print('xgboost Test Performance.\\n')\n",
                "print(model_perf(xgboost,X_test,y_test))"
            ],
            "outputs": [
                {
                    "output_type": "stream",
                    "name": "stdout",
                    "text": [
                        "xgboost Train Performance.\n",
                        "\n",
                        "           RMSE          MAE       MAPE       R^2  Adjusted R^2  \\\n",
                        "0  20912.394739  8331.223395  12.526976  0.962367       0.96229   \n",
                        "\n",
                        "   Cross Val Score (Mean)  \n",
                        "0                0.624242  \n",
                        "xgboost Test Performance.\n",
                        "\n",
                        "           RMSE           MAE      MAPE       R^2  Adjusted R^2  \\\n",
                        "0  58745.333728  20437.017196  26.19055  0.685552      0.683621   \n",
                        "\n",
                        "   Cross Val Score (Mean)  \n",
                        "0                0.641632  \n"
                    ]
                }
            ],
            "metadata": {}
        },
        {
            "cell_type": "markdown",
            "source": [
                "## KNeighborsRegressor"
            ],
            "metadata": {}
        },
        {
            "cell_type": "code",
            "execution_count": 22,
            "source": [
                "from sklearn.neighbors import KNeighborsRegressor\n",
                "\n",
                "model = build_pipeline_with_estimator(KNeighborsRegressor())\n",
                "\n",
                "# params = {\n",
                "#     'estimator__n_neighbors': [3,5,7,9],\n",
                "#     'estimator__algorithm': ['ball_tree','kd_tree','brute'],\n",
                "#     'estimator__leaf_size': [5,10,30,32,35]\n",
                "# }\n",
                "\n",
                "# model = GridSearchCV(model,params,cv=5)\n",
                "\n",
                "model.fit(X_train,y_train)\n",
                "\n",
                "print('KNeighborsRegressor Train Performance.\\n')\n",
                "print(model_perf(model,X_train,y_train))\n",
                "\n",
                "print('KNeighborsRegressor Test Performance.\\n')\n",
                "print(model_perf(model,X_test,y_test))"
            ],
            "outputs": [
                {
                    "output_type": "stream",
                    "name": "stdout",
                    "text": [
                        "KNeighborsRegressor Train Performance.\n",
                        "\n",
                        "           RMSE           MAE       MAPE       R^2  Adjusted R^2  \\\n",
                        "0  61522.959688  20135.561329  22.646566  0.674285      0.673622   \n",
                        "\n",
                        "   Cross Val Score (Mean)  \n",
                        "0                0.488992  \n",
                        "KNeighborsRegressor Test Performance.\n",
                        "\n",
                        "           RMSE           MAE       MAPE      R^2  Adjusted R^2  \\\n",
                        "0  58408.246023  23184.219927  26.674588  0.68915      0.687241   \n",
                        "\n",
                        "   Cross Val Score (Mean)  \n",
                        "0                0.498899  \n"
                    ]
                }
            ],
            "metadata": {}
        },
        {
            "cell_type": "markdown",
            "source": [
                "## GradientBoostingRegressor"
            ],
            "metadata": {}
        },
        {
            "cell_type": "code",
            "execution_count": 23,
            "source": [
                "from sklearn.ensemble import GradientBoostingRegressor\n",
                "\n",
                "model = build_pipeline_with_estimator(GradientBoostingRegressor())\n",
                "\n",
                "# params = {\n",
                "#     'estimator__loss': ['ls','lad','huber','quantile'],\n",
                "#     'estimator__learning_rate': [0.1,0.01,0.001],\n",
                "#     'estimator__n_estimators': [100,110,120],\n",
                "#     'estimator__criterion': ['friedman_mse','mse'],\n",
                "# }\n",
                "\n",
                "# model = GridSearchCV(model,params,cv=5)\n",
                "\n",
                "model.fit(X_train,y_train)\n",
                "\n",
                "print('GradientBoostingRegressor Train Performance.\\n')\n",
                "print(model_perf(model,X_train,y_train))\n",
                "\n",
                "print('GradientBoostingRegressor Test Performance.\\n')\n",
                "print(model_perf(model,X_test,y_test))"
            ],
            "outputs": [
                {
                    "output_type": "stream",
                    "name": "stdout",
                    "text": [
                        "GradientBoostingRegressor Train Performance.\n",
                        "\n",
                        "           RMSE         MAE       MAPE       R^2  Adjusted R^2  \\\n",
                        "0  42020.621993  19015.6786  26.848839  0.848054      0.847745   \n",
                        "\n",
                        "   Cross Val Score (Mean)  \n",
                        "0                0.690897  \n",
                        "GradientBoostingRegressor Test Performance.\n",
                        "\n",
                        "           RMSE           MAE       MAPE       R^2  Adjusted R^2  \\\n",
                        "0  45619.603297  20724.899823  26.635422  0.810371      0.809206   \n",
                        "\n",
                        "   Cross Val Score (Mean)  \n",
                        "0                0.757433  \n"
                    ]
                }
            ],
            "metadata": {}
        }
    ],
    "metadata": {
        "orig_nbformat": 4,
        "language_info": {
            "name": "python",
            "version": "3.8.8",
            "mimetype": "text/x-python",
            "codemirror_mode": {
                "name": "ipython",
                "version": 3
            },
            "pygments_lexer": "ipython3",
            "nbconvert_exporter": "python",
            "file_extension": ".py"
        },
        "kernelspec": {
            "name": "python3",
            "display_name": "Python 3.8.8 64-bit ('base': conda)"
        },
        "interpreter": {
            "hash": "d213f6e5b8fd7d14bb00958cfb5f51bfe315e9248ff051fde0d0d79c3d0f4eba"
        }
    },
    "nbformat": 4,
    "nbformat_minor": 2
}