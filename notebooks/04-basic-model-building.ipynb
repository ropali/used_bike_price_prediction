{
    "cells": [
        {
            "cell_type": "code",
            "execution_count": 1,
            "source": [
                "import pandas as pd\n",
                "import numpy as np\n",
                "import matplotlib.pyplot as plt\n",
                "import seaborn as sns"
            ],
            "outputs": [],
            "metadata": {}
        },
        {
            "cell_type": "code",
            "execution_count": 2,
            "source": [
                "df = pd.read_csv('../data/processed/processed.csv')"
            ],
            "outputs": [],
            "metadata": {}
        },
        {
            "cell_type": "code",
            "execution_count": 3,
            "source": [
                "df.shape"
            ],
            "outputs": [
                {
                    "output_type": "execute_result",
                    "data": {
                        "text/plain": [
                            "(6100, 9)"
                        ]
                    },
                    "metadata": {},
                    "execution_count": 3
                }
            ],
            "metadata": {}
        },
        {
            "cell_type": "code",
            "execution_count": 4,
            "source": [
                "df.sample(3)"
            ],
            "outputs": [
                {
                    "output_type": "execute_result",
                    "data": {
                        "text/html": [
                            "<div>\n",
                            "<style scoped>\n",
                            "    .dataframe tbody tr th:only-of-type {\n",
                            "        vertical-align: middle;\n",
                            "    }\n",
                            "\n",
                            "    .dataframe tbody tr th {\n",
                            "        vertical-align: top;\n",
                            "    }\n",
                            "\n",
                            "    .dataframe thead th {\n",
                            "        text-align: right;\n",
                            "    }\n",
                            "</style>\n",
                            "<table border=\"1\" class=\"dataframe\">\n",
                            "  <thead>\n",
                            "    <tr style=\"text-align: right;\">\n",
                            "      <th></th>\n",
                            "      <th>kms_driven</th>\n",
                            "      <th>owner</th>\n",
                            "      <th>location</th>\n",
                            "      <th>mileage</th>\n",
                            "      <th>power</th>\n",
                            "      <th>price</th>\n",
                            "      <th>brand</th>\n",
                            "      <th>engine</th>\n",
                            "      <th>age</th>\n",
                            "    </tr>\n",
                            "  </thead>\n",
                            "  <tbody>\n",
                            "    <tr>\n",
                            "      <th>2364</th>\n",
                            "      <td>NaN</td>\n",
                            "      <td>second</td>\n",
                            "      <td>bangalore</td>\n",
                            "      <td>40.0</td>\n",
                            "      <td>20.7</td>\n",
                            "      <td>75000.0</td>\n",
                            "      <td>TVS</td>\n",
                            "      <td>NaN</td>\n",
                            "      <td>4</td>\n",
                            "    </tr>\n",
                            "    <tr>\n",
                            "      <th>1477</th>\n",
                            "      <td>18000.0</td>\n",
                            "      <td>first</td>\n",
                            "      <td>other</td>\n",
                            "      <td>32.0</td>\n",
                            "      <td>27.2</td>\n",
                            "      <td>140000.0</td>\n",
                            "      <td>Royal Enfield</td>\n",
                            "      <td>500.0</td>\n",
                            "      <td>5</td>\n",
                            "    </tr>\n",
                            "    <tr>\n",
                            "      <th>2086</th>\n",
                            "      <td>NaN</td>\n",
                            "      <td>first</td>\n",
                            "      <td>other</td>\n",
                            "      <td>45.0</td>\n",
                            "      <td>17.2</td>\n",
                            "      <td>43400.0</td>\n",
                            "      <td>TVS</td>\n",
                            "      <td>180.0</td>\n",
                            "      <td>7</td>\n",
                            "    </tr>\n",
                            "  </tbody>\n",
                            "</table>\n",
                            "</div>"
                        ],
                        "text/plain": [
                            "      kms_driven   owner   location  mileage  power     price          brand  \\\n",
                            "2364         NaN  second  bangalore     40.0   20.7   75000.0            TVS   \n",
                            "1477     18000.0   first      other     32.0   27.2  140000.0  Royal Enfield   \n",
                            "2086         NaN   first      other     45.0   17.2   43400.0            TVS   \n",
                            "\n",
                            "      engine  age  \n",
                            "2364     NaN    4  \n",
                            "1477   500.0    5  \n",
                            "2086   180.0    7  "
                        ]
                    },
                    "metadata": {},
                    "execution_count": 4
                }
            ],
            "metadata": {}
        },
        {
            "cell_type": "code",
            "execution_count": 5,
            "source": [
                "X = df.drop('price',axis=1)\n",
                "y = df['price']"
            ],
            "outputs": [],
            "metadata": {}
        },
        {
            "cell_type": "code",
            "execution_count": 6,
            "source": [
                "X.head()"
            ],
            "outputs": [
                {
                    "output_type": "execute_result",
                    "data": {
                        "text/html": [
                            "<div>\n",
                            "<style scoped>\n",
                            "    .dataframe tbody tr th:only-of-type {\n",
                            "        vertical-align: middle;\n",
                            "    }\n",
                            "\n",
                            "    .dataframe tbody tr th {\n",
                            "        vertical-align: top;\n",
                            "    }\n",
                            "\n",
                            "    .dataframe thead th {\n",
                            "        text-align: right;\n",
                            "    }\n",
                            "</style>\n",
                            "<table border=\"1\" class=\"dataframe\">\n",
                            "  <thead>\n",
                            "    <tr style=\"text-align: right;\">\n",
                            "      <th></th>\n",
                            "      <th>kms_driven</th>\n",
                            "      <th>owner</th>\n",
                            "      <th>location</th>\n",
                            "      <th>mileage</th>\n",
                            "      <th>power</th>\n",
                            "      <th>brand</th>\n",
                            "      <th>engine</th>\n",
                            "      <th>age</th>\n",
                            "    </tr>\n",
                            "  </thead>\n",
                            "  <tbody>\n",
                            "    <tr>\n",
                            "      <th>0</th>\n",
                            "      <td>38998.0</td>\n",
                            "      <td>first</td>\n",
                            "      <td>bangalore</td>\n",
                            "      <td>40.0</td>\n",
                            "      <td>19.80</td>\n",
                            "      <td>Royal Enfield</td>\n",
                            "      <td>350.0</td>\n",
                            "      <td>10</td>\n",
                            "    </tr>\n",
                            "    <tr>\n",
                            "      <th>1</th>\n",
                            "      <td>24561.0</td>\n",
                            "      <td>third</td>\n",
                            "      <td>bangalore</td>\n",
                            "      <td>35.0</td>\n",
                            "      <td>25.00</td>\n",
                            "      <td>KTM</td>\n",
                            "      <td>200.0</td>\n",
                            "      <td>9</td>\n",
                            "    </tr>\n",
                            "    <tr>\n",
                            "      <th>2</th>\n",
                            "      <td>NaN</td>\n",
                            "      <td>first</td>\n",
                            "      <td>other</td>\n",
                            "      <td>40.0</td>\n",
                            "      <td>20.21</td>\n",
                            "      <td>TVS</td>\n",
                            "      <td>NaN</td>\n",
                            "      <td>1</td>\n",
                            "    </tr>\n",
                            "    <tr>\n",
                            "      <th>3</th>\n",
                            "      <td>19500.0</td>\n",
                            "      <td>first</td>\n",
                            "      <td>delhi</td>\n",
                            "      <td>32.0</td>\n",
                            "      <td>27.20</td>\n",
                            "      <td>Royal Enfield</td>\n",
                            "      <td>500.0</td>\n",
                            "      <td>11</td>\n",
                            "    </tr>\n",
                            "    <tr>\n",
                            "      <th>4</th>\n",
                            "      <td>5947.0</td>\n",
                            "      <td>first</td>\n",
                            "      <td>chennai</td>\n",
                            "      <td>53.0</td>\n",
                            "      <td>19.00</td>\n",
                            "      <td>Bajaj</td>\n",
                            "      <td>NaN</td>\n",
                            "      <td>4</td>\n",
                            "    </tr>\n",
                            "  </tbody>\n",
                            "</table>\n",
                            "</div>"
                        ],
                        "text/plain": [
                            "   kms_driven  owner   location  mileage  power          brand  engine  age\n",
                            "0     38998.0  first  bangalore     40.0  19.80  Royal Enfield   350.0   10\n",
                            "1     24561.0  third  bangalore     35.0  25.00            KTM   200.0    9\n",
                            "2         NaN  first      other     40.0  20.21            TVS     NaN    1\n",
                            "3     19500.0  first      delhi     32.0  27.20  Royal Enfield   500.0   11\n",
                            "4      5947.0  first    chennai     53.0  19.00          Bajaj     NaN    4"
                        ]
                    },
                    "metadata": {},
                    "execution_count": 6
                }
            ],
            "metadata": {}
        },
        {
            "cell_type": "code",
            "execution_count": 7,
            "source": [
                "from sklearn.model_selection import train_test_split\n",
                "X_train,X_test,y_train,y_test = train_test_split(X,y,test_size=.25,random_state=11)"
            ],
            "outputs": [],
            "metadata": {}
        },
        {
            "cell_type": "code",
            "execution_count": 8,
            "source": [
                "y = y.apply(np.log1p)"
            ],
            "outputs": [],
            "metadata": {}
        },
        {
            "cell_type": "markdown",
            "source": [
                "## Category Encoding"
            ],
            "metadata": {}
        },
        {
            "cell_type": "code",
            "execution_count": 9,
            "source": [
                "X.head()"
            ],
            "outputs": [
                {
                    "output_type": "execute_result",
                    "data": {
                        "text/html": [
                            "<div>\n",
                            "<style scoped>\n",
                            "    .dataframe tbody tr th:only-of-type {\n",
                            "        vertical-align: middle;\n",
                            "    }\n",
                            "\n",
                            "    .dataframe tbody tr th {\n",
                            "        vertical-align: top;\n",
                            "    }\n",
                            "\n",
                            "    .dataframe thead th {\n",
                            "        text-align: right;\n",
                            "    }\n",
                            "</style>\n",
                            "<table border=\"1\" class=\"dataframe\">\n",
                            "  <thead>\n",
                            "    <tr style=\"text-align: right;\">\n",
                            "      <th></th>\n",
                            "      <th>kms_driven</th>\n",
                            "      <th>owner</th>\n",
                            "      <th>location</th>\n",
                            "      <th>mileage</th>\n",
                            "      <th>power</th>\n",
                            "      <th>brand</th>\n",
                            "      <th>engine</th>\n",
                            "      <th>age</th>\n",
                            "    </tr>\n",
                            "  </thead>\n",
                            "  <tbody>\n",
                            "    <tr>\n",
                            "      <th>0</th>\n",
                            "      <td>38998.0</td>\n",
                            "      <td>first</td>\n",
                            "      <td>bangalore</td>\n",
                            "      <td>40.0</td>\n",
                            "      <td>19.80</td>\n",
                            "      <td>Royal Enfield</td>\n",
                            "      <td>350.0</td>\n",
                            "      <td>10</td>\n",
                            "    </tr>\n",
                            "    <tr>\n",
                            "      <th>1</th>\n",
                            "      <td>24561.0</td>\n",
                            "      <td>third</td>\n",
                            "      <td>bangalore</td>\n",
                            "      <td>35.0</td>\n",
                            "      <td>25.00</td>\n",
                            "      <td>KTM</td>\n",
                            "      <td>200.0</td>\n",
                            "      <td>9</td>\n",
                            "    </tr>\n",
                            "    <tr>\n",
                            "      <th>2</th>\n",
                            "      <td>NaN</td>\n",
                            "      <td>first</td>\n",
                            "      <td>other</td>\n",
                            "      <td>40.0</td>\n",
                            "      <td>20.21</td>\n",
                            "      <td>TVS</td>\n",
                            "      <td>NaN</td>\n",
                            "      <td>1</td>\n",
                            "    </tr>\n",
                            "    <tr>\n",
                            "      <th>3</th>\n",
                            "      <td>19500.0</td>\n",
                            "      <td>first</td>\n",
                            "      <td>delhi</td>\n",
                            "      <td>32.0</td>\n",
                            "      <td>27.20</td>\n",
                            "      <td>Royal Enfield</td>\n",
                            "      <td>500.0</td>\n",
                            "      <td>11</td>\n",
                            "    </tr>\n",
                            "    <tr>\n",
                            "      <th>4</th>\n",
                            "      <td>5947.0</td>\n",
                            "      <td>first</td>\n",
                            "      <td>chennai</td>\n",
                            "      <td>53.0</td>\n",
                            "      <td>19.00</td>\n",
                            "      <td>Bajaj</td>\n",
                            "      <td>NaN</td>\n",
                            "      <td>4</td>\n",
                            "    </tr>\n",
                            "  </tbody>\n",
                            "</table>\n",
                            "</div>"
                        ],
                        "text/plain": [
                            "   kms_driven  owner   location  mileage  power          brand  engine  age\n",
                            "0     38998.0  first  bangalore     40.0  19.80  Royal Enfield   350.0   10\n",
                            "1     24561.0  third  bangalore     35.0  25.00            KTM   200.0    9\n",
                            "2         NaN  first      other     40.0  20.21            TVS     NaN    1\n",
                            "3     19500.0  first      delhi     32.0  27.20  Royal Enfield   500.0   11\n",
                            "4      5947.0  first    chennai     53.0  19.00          Bajaj     NaN    4"
                        ]
                    },
                    "metadata": {},
                    "execution_count": 9
                }
            ],
            "metadata": {}
        },
        {
            "cell_type": "markdown",
            "source": [
                "## Impute missing values"
            ],
            "metadata": {}
        },
        {
            "cell_type": "code",
            "execution_count": 10,
            "source": [
                "from sklearn.impute import KNNImputer\n",
                "\n",
                "num_cols = [ col for col in X.columns if X[col].dtypes != 'object' ]\n",
                "print(num_cols)"
            ],
            "outputs": [
                {
                    "output_type": "stream",
                    "name": "stdout",
                    "text": [
                        "['kms_driven', 'mileage', 'power', 'engine', 'age']\n"
                    ]
                }
            ],
            "metadata": {}
        },
        {
            "cell_type": "code",
            "execution_count": 11,
            "source": [
                "imputer = KNNImputer(n_neighbors=7,weights='distance')\n",
                "\n",
                "imputer.fit(X_train[num_cols])\n",
                "\n",
                "# X_train[num_cols] = imputer.transform(X_train[num_cols])\n",
                "# X_test[num_cols] = imputer.transform(X_test[num_cols])\n",
                "\n",
                "X_train.loc[:][num_cols] = imputer.fit_transform(X_train[num_cols])\n",
                "X_test.loc[:][num_cols] = imputer.transform(X_test[num_cols])"
            ],
            "outputs": [],
            "metadata": {}
        },
        {
            "cell_type": "code",
            "execution_count": 12,
            "source": [
                "print('Missing Values in Train set',X_train.isnull().sum())\n",
                "print('Missing Values in Test set',X_test.isnull().sum())"
            ],
            "outputs": [
                {
                    "output_type": "stream",
                    "name": "stdout",
                    "text": [
                        "Missing Values in Train set kms_driven    0\n",
                        "owner         0\n",
                        "location      0\n",
                        "mileage       0\n",
                        "power         0\n",
                        "brand         0\n",
                        "engine        0\n",
                        "age           0\n",
                        "dtype: int64\n",
                        "Missing Values in Test set kms_driven    0\n",
                        "owner         0\n",
                        "location      0\n",
                        "mileage       0\n",
                        "power         0\n",
                        "brand         0\n",
                        "engine        0\n",
                        "age           0\n",
                        "dtype: int64\n"
                    ]
                }
            ],
            "metadata": {}
        },
        {
            "cell_type": "code",
            "execution_count": 13,
            "source": [
                "X_train.head()"
            ],
            "outputs": [
                {
                    "output_type": "execute_result",
                    "data": {
                        "text/html": [
                            "<div>\n",
                            "<style scoped>\n",
                            "    .dataframe tbody tr th:only-of-type {\n",
                            "        vertical-align: middle;\n",
                            "    }\n",
                            "\n",
                            "    .dataframe tbody tr th {\n",
                            "        vertical-align: top;\n",
                            "    }\n",
                            "\n",
                            "    .dataframe thead th {\n",
                            "        text-align: right;\n",
                            "    }\n",
                            "</style>\n",
                            "<table border=\"1\" class=\"dataframe\">\n",
                            "  <thead>\n",
                            "    <tr style=\"text-align: right;\">\n",
                            "      <th></th>\n",
                            "      <th>kms_driven</th>\n",
                            "      <th>owner</th>\n",
                            "      <th>location</th>\n",
                            "      <th>mileage</th>\n",
                            "      <th>power</th>\n",
                            "      <th>brand</th>\n",
                            "      <th>engine</th>\n",
                            "      <th>age</th>\n",
                            "    </tr>\n",
                            "  </thead>\n",
                            "  <tbody>\n",
                            "    <tr>\n",
                            "      <th>1264</th>\n",
                            "      <td>32370.000000</td>\n",
                            "      <td>first</td>\n",
                            "      <td>other</td>\n",
                            "      <td>45.0</td>\n",
                            "      <td>13.0</td>\n",
                            "      <td>Yamaha</td>\n",
                            "      <td>150.0</td>\n",
                            "      <td>7</td>\n",
                            "    </tr>\n",
                            "    <tr>\n",
                            "      <th>1080</th>\n",
                            "      <td>28662.891172</td>\n",
                            "      <td>second</td>\n",
                            "      <td>delhi</td>\n",
                            "      <td>80.0</td>\n",
                            "      <td>7.7</td>\n",
                            "      <td>Bajaj</td>\n",
                            "      <td>100.0</td>\n",
                            "      <td>8</td>\n",
                            "    </tr>\n",
                            "    <tr>\n",
                            "      <th>5122</th>\n",
                            "      <td>11000.000000</td>\n",
                            "      <td>first</td>\n",
                            "      <td>other</td>\n",
                            "      <td>35.0</td>\n",
                            "      <td>19.8</td>\n",
                            "      <td>Royal Enfield</td>\n",
                            "      <td>350.0</td>\n",
                            "      <td>5</td>\n",
                            "    </tr>\n",
                            "    <tr>\n",
                            "      <th>2408</th>\n",
                            "      <td>29490.000000</td>\n",
                            "      <td>first</td>\n",
                            "      <td>other</td>\n",
                            "      <td>45.0</td>\n",
                            "      <td>13.0</td>\n",
                            "      <td>Yamaha</td>\n",
                            "      <td>150.0</td>\n",
                            "      <td>7</td>\n",
                            "    </tr>\n",
                            "    <tr>\n",
                            "      <th>370</th>\n",
                            "      <td>75000.000000</td>\n",
                            "      <td>first</td>\n",
                            "      <td>other</td>\n",
                            "      <td>35.0</td>\n",
                            "      <td>19.0</td>\n",
                            "      <td>Bajaj</td>\n",
                            "      <td>350.0</td>\n",
                            "      <td>5</td>\n",
                            "    </tr>\n",
                            "  </tbody>\n",
                            "</table>\n",
                            "</div>"
                        ],
                        "text/plain": [
                            "        kms_driven   owner location  mileage  power          brand  engine  \\\n",
                            "1264  32370.000000   first    other     45.0   13.0         Yamaha   150.0   \n",
                            "1080  28662.891172  second    delhi     80.0    7.7          Bajaj   100.0   \n",
                            "5122  11000.000000   first    other     35.0   19.8  Royal Enfield   350.0   \n",
                            "2408  29490.000000   first    other     45.0   13.0         Yamaha   150.0   \n",
                            "370   75000.000000   first    other     35.0   19.0          Bajaj   350.0   \n",
                            "\n",
                            "      age  \n",
                            "1264    7  \n",
                            "1080    8  \n",
                            "5122    5  \n",
                            "2408    7  \n",
                            "370     5  "
                        ]
                    },
                    "metadata": {},
                    "execution_count": 13
                }
            ],
            "metadata": {}
        },
        {
            "cell_type": "code",
            "execution_count": 14,
            "source": [
                "from sklearn.preprocessing import StandardScaler\n",
                "from sklearn.compose import ColumnTransformer\n",
                "from sklearn.preprocessing import OneHotEncoder,OrdinalEncoder,MinMaxScaler\n",
                "\n",
                "category_transformer = ColumnTransformer([\n",
                "    (\"kms_driven_engine_min_max_scaler\",MinMaxScaler(),[0,6,3,4]),\n",
                "    (\"owner_ordinal_enc\",OrdinalEncoder(categories=[['fourth','third','second','first']],handle_unknown='ignore',dtype=np.int16),[1]),\n",
                "    (\"brand_location_ohe\",OneHotEncoder(sparse=False,handle_unknown='error',drop='first',),[2,5]),\n",
                "],remainder='passthrough')\n",
                "\n"
            ],
            "outputs": [],
            "metadata": {}
        },
        {
            "cell_type": "markdown",
            "source": [
                "## Model Building"
            ],
            "metadata": {}
        },
        {
            "cell_type": "code",
            "execution_count": 15,
            "source": [
                "from sklearn.pipeline import Pipeline\n",
                "from sklearn.model_selection import GridSearchCV, RandomizedSearchCV\n",
                "from sklearn.linear_model import LinearRegression\n",
                "from sklearn.ensemble import RandomForestRegressor\n",
                "\n",
                "from sklearn import set_config\n",
                "\n",
                "set_config(display='diagram')"
            ],
            "outputs": [],
            "metadata": {}
        },
        {
            "cell_type": "code",
            "execution_count": 16,
            "source": [
                "\n",
                "def build_pipeline_with_estimator(estimator):\n",
                "    return Pipeline([\n",
                "    ('category_transformer',category_transformer),\n",
                "    ('estimator',estimator),\n",
                "])\n"
            ],
            "outputs": [],
            "metadata": {}
        },
        {
            "cell_type": "code",
            "execution_count": 17,
            "source": [
                "from sklearn.metrics import r2_score,mean_squared_error,mean_absolute_error\n",
                "from sklearn.model_selection import cross_val_score\n",
                "# MAPE\n",
                "def mape(targets, predictions):\n",
                "    return np.mean(np.abs((targets - predictions)) / targets) * 100\n",
                "\n",
                "# Adjusted R^2\n",
                "def adj_r2(ind_vars, targets, predictions):\n",
                "    r2 = r2_score(targets, predictions)\n",
                "    n = ind_vars.shape[0]\n",
                "    k = ind_vars.shape[1]\n",
                "    return 1-((1-r2)*(n-1)/(n-k-1))\n",
                "\n",
                "# Model performance check\n",
                "def model_perf(model, inp, out,cross_val=True):\n",
                "\n",
                "    y_pred = model.predict(inp)\n",
                "    y_act = out.values\n",
                "\n",
                "    cross_val_ = cross_val_score(model, inp,out,cv=10).mean() if cross_val else None\n",
                "    \n",
                "\n",
                "    return pd.DataFrame({\n",
                "                \"RMSE\": np.sqrt(mean_squared_error(y_act, y_pred)),\n",
                "                \"MAE\": mean_absolute_error(y_act, y_pred),\n",
                "                \"MAPE\": mape(y_act, y_pred),\n",
                "                \"R^2\": r2_score(y_act, y_pred),\n",
                "                \"Adjusted R^2\": adj_r2(inp, y_act, y_pred),\n",
                "                \"Cross Val Score (Mean)\": cross_val_ if cross_val else None\n",
                "           }, index=[0])"
            ],
            "outputs": [],
            "metadata": {}
        },
        {
            "cell_type": "markdown",
            "source": [
                "## LinearRegression"
            ],
            "metadata": {}
        },
        {
            "cell_type": "code",
            "execution_count": 18,
            "source": [
                "linear_regressor = build_pipeline_with_estimator(LinearRegression())\n",
                "\n",
                "linear_regressor.fit(X_train,y_train)\n",
                "\n",
                "print('Linear Regression Train Performance.\\n')\n",
                "print(model_perf(linear_regressor,X_train,y_train,True))\n",
                "\n",
                "print('Linear Regression Test Performance.\\n')\n",
                "print(model_perf(linear_regressor,X_test,y_test,True))"
            ],
            "outputs": [
                {
                    "output_type": "stream",
                    "name": "stdout",
                    "text": [
                        "Linear Regression Train Performance.\n",
                        "\n",
                        "           RMSE           MAE      MAPE       R^2  Adjusted R^2  \\\n",
                        "0  18111.515693  13224.347863  21.33513  0.800981      0.800632   \n",
                        "\n",
                        "   Cross Val Score (Mean)  \n",
                        "0                0.798108  \n",
                        "Linear Regression Test Performance.\n",
                        "\n",
                        "           RMSE          MAE       MAPE       R^2  Adjusted R^2  \\\n",
                        "0  19800.274167  14091.17944  22.807015  0.769399      0.768182   \n",
                        "\n",
                        "   Cross Val Score (Mean)  \n",
                        "0                 0.78942  \n"
                    ]
                }
            ],
            "metadata": {}
        },
        {
            "cell_type": "markdown",
            "source": [
                "## RandomForest"
            ],
            "metadata": {}
        },
        {
            "cell_type": "code",
            "execution_count": 19,
            "source": [
                "from sklearn.ensemble import RandomForestRegressor\n",
                "from sklearn.model_selection import RandomizedSearchCV\n",
                "\n",
                "model = build_pipeline_with_estimator(RandomForestRegressor())\n",
                "\n",
                "params = {\n",
                "    'estimator__criterion': ['mse','mae'],\n",
                "    'estimator__n_estimators': [100,110,120,130],\n",
                "    'estimator__max_depth': [5,10,15,20,25,30],\n",
                "    'estimator__min_samples_split': range(2,20),\n",
                "    'estimator__max_features': ['auto','sqrt','log2'],\n",
                "}\n",
                "\n",
                "model = RandomizedSearchCV(model,params,cv=5)\n",
                "\n",
                "model.fit(X_train,y_train)\n",
                "\n",
                "print('RandomForest Train Performance.\\n')\n",
                "print(model_perf(model,X_train,y_train,False))\n",
                "\n",
                "print('RandomForest Test Performance.\\n')\n",
                "print(model_perf(model,X_test,y_test,False))"
            ],
            "outputs": [
                {
                    "output_type": "stream",
                    "name": "stdout",
                    "text": [
                        "RandomForest Train Performance.\n",
                        "\n",
                        "           RMSE         MAE       MAPE       R^2  Adjusted R^2  \\\n",
                        "0  10921.497971  7980.95635  11.869051  0.927632      0.927505   \n",
                        "\n",
                        "  Cross Val Score (Mean)  \n",
                        "0                   None  \n",
                        "RandomForest Test Performance.\n",
                        "\n",
                        "           RMSE           MAE       MAPE       R^2  Adjusted R^2  \\\n",
                        "0  15185.914704  10948.174361  16.426377  0.864356       0.86364   \n",
                        "\n",
                        "  Cross Val Score (Mean)  \n",
                        "0                   None  \n"
                    ]
                }
            ],
            "metadata": {}
        },
        {
            "cell_type": "markdown",
            "source": [
                "## XGBoost"
            ],
            "metadata": {}
        },
        {
            "cell_type": "code",
            "execution_count": 20,
            "source": [
                "from xgboost import XGBRegressor\n",
                "\n",
                "xgboost = build_pipeline_with_estimator(XGBRegressor())\n",
                "\n",
                "xgboost.fit(X_train,y_train)\n",
                "\n",
                "print('xgboost Train Performance.\\n')\n",
                "print(model_perf(xgboost,X_train,y_train))\n",
                "\n",
                "print('xgboost Test Performance.\\n')\n",
                "print(model_perf(xgboost,X_test,y_test))"
            ],
            "outputs": [
                {
                    "output_type": "stream",
                    "name": "stdout",
                    "text": [
                        "xgboost Train Performance.\n",
                        "\n",
                        "         RMSE          MAE      MAPE       R^2  Adjusted R^2  \\\n",
                        "0  8167.73837  5791.911425  8.708507  0.959525      0.959454   \n",
                        "\n",
                        "   Cross Val Score (Mean)  \n",
                        "0                0.879804  \n",
                        "xgboost Test Performance.\n",
                        "\n",
                        "          RMSE           MAE      MAPE       R^2  Adjusted R^2  \\\n",
                        "0  15564.82773  11024.974895  16.10422  0.857503      0.856751   \n",
                        "\n",
                        "   Cross Val Score (Mean)  \n",
                        "0                0.820553  \n"
                    ]
                }
            ],
            "metadata": {}
        },
        {
            "cell_type": "markdown",
            "source": [
                "## KNeighborsRegressor"
            ],
            "metadata": {}
        },
        {
            "cell_type": "code",
            "execution_count": 21,
            "source": [
                "from sklearn.neighbors import KNeighborsRegressor\n",
                "\n",
                "model = build_pipeline_with_estimator(KNeighborsRegressor())\n",
                "\n",
                "params = {\n",
                "    'estimator__n_neighbors': [3,5,7,9],\n",
                "    'estimator__algorithm': ['ball_tree','kd_tree','brute'],\n",
                "    'estimator__leaf_size': [5,10,30,32,35]\n",
                "}\n",
                "\n",
                "model = GridSearchCV(model,params,cv=5)\n",
                "\n",
                "model.fit(X_train,y_train)\n",
                "\n",
                "print('KNeighborsRegressor Train Performance.\\n')\n",
                "print(model_perf(model,X_train,y_train))\n",
                "\n",
                "print('KNeighborsRegressor Test Performance.\\n')\n",
                "print(model_perf(model,X_test,y_test))"
            ],
            "outputs": [
                {
                    "output_type": "stream",
                    "name": "stdout",
                    "text": [
                        "KNeighborsRegressor Train Performance.\n",
                        "\n",
                        "           RMSE           MAE       MAPE       R^2  Adjusted R^2  \\\n",
                        "0  14286.714217  10092.882279  15.063668  0.876163      0.875946   \n",
                        "\n",
                        "   Cross Val Score (Mean)  \n",
                        "0                0.828097  \n",
                        "KNeighborsRegressor Test Performance.\n",
                        "\n",
                        "           RMSE           MAE       MAPE       R^2  Adjusted R^2  \\\n",
                        "0  17928.583286  12729.075972  18.780364  0.810935      0.809938   \n",
                        "\n",
                        "   Cross Val Score (Mean)  \n",
                        "0                0.789219  \n"
                    ]
                }
            ],
            "metadata": {}
        },
        {
            "cell_type": "markdown",
            "source": [
                "## GradientBoostingRegressor"
            ],
            "metadata": {}
        },
        {
            "cell_type": "code",
            "execution_count": 22,
            "source": [
                "from sklearn.ensemble import GradientBoostingRegressor\n",
                "\n",
                "model = build_pipeline_with_estimator(GradientBoostingRegressor())\n",
                "\n",
                "# params = {\n",
                "#     'estimator__loss': ['ls','lad','huber','quantile'],\n",
                "#     'estimator__learning_rate': [0.1,0.01,0.001],\n",
                "#     'estimator__n_estimators': [100],\n",
                "#     'estimator__criterion': ['friedman_mse','mse'],\n",
                "# }\n",
                "\n",
                "# model = RandomizedSearchCV(model,params,cv=5)\n",
                "\n",
                "model.fit(X_train,y_train)\n",
                "\n",
                "print('GradientBoostingRegressor Train Performance.\\n')\n",
                "print(model_perf(model,X_train,y_train))\n",
                "\n",
                "print('GradientBoostingRegressor Test Performance.\\n')\n",
                "print(model_perf(model,X_test,y_test))"
            ],
            "outputs": [
                {
                    "output_type": "stream",
                    "name": "stdout",
                    "text": [
                        "GradientBoostingRegressor Train Performance.\n",
                        "\n",
                        "           RMSE          MAE       MAPE       R^2  Adjusted R^2  \\\n",
                        "0  13403.229862  9574.418762  14.247485  0.891006      0.890815   \n",
                        "\n",
                        "   Cross Val Score (Mean)  \n",
                        "0                0.875947  \n",
                        "GradientBoostingRegressor Test Performance.\n",
                        "\n",
                        "           RMSE          MAE       MAPE       R^2  Adjusted R^2  \\\n",
                        "0  14902.504679  10760.41641  16.052187  0.869372      0.868682   \n",
                        "\n",
                        "   Cross Val Score (Mean)  \n",
                        "0                0.854162  \n"
                    ]
                }
            ],
            "metadata": {}
        }
    ],
    "metadata": {
        "orig_nbformat": 4,
        "language_info": {
            "name": "python",
            "version": "3.8.8",
            "mimetype": "text/x-python",
            "codemirror_mode": {
                "name": "ipython",
                "version": 3
            },
            "pygments_lexer": "ipython3",
            "nbconvert_exporter": "python",
            "file_extension": ".py"
        },
        "kernelspec": {
            "name": "python3",
            "display_name": "Python 3.8.8 64-bit ('anaconda3': virtualenv)"
        },
        "interpreter": {
            "hash": "d213f6e5b8fd7d14bb00958cfb5f51bfe315e9248ff051fde0d0d79c3d0f4eba"
        }
    },
    "nbformat": 4,
    "nbformat_minor": 2
}