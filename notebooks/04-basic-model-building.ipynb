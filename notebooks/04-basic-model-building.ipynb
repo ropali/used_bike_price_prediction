{
    "cells": [
        {
            "cell_type": "code",
            "execution_count": 1,
            "source": [
                "import pandas as pd\n",
                "import numpy as np\n",
                "import matplotlib.pyplot as plt\n",
                "import seaborn as sns"
            ],
            "outputs": [],
            "metadata": {}
        },
        {
            "cell_type": "code",
            "execution_count": 2,
            "source": [
                "df = pd.read_csv('../data/processed/processed.csv')"
            ],
            "outputs": [],
            "metadata": {}
        },
        {
            "cell_type": "code",
            "execution_count": 3,
            "source": [
                "df.shape"
            ],
            "outputs": [
                {
                    "output_type": "execute_result",
                    "data": {
                        "text/plain": [
                            "(5084, 6)"
                        ]
                    },
                    "metadata": {},
                    "execution_count": 3
                }
            ],
            "metadata": {}
        },
        {
            "cell_type": "code",
            "execution_count": 4,
            "source": [
                "df.sample(3)"
            ],
            "outputs": [
                {
                    "output_type": "execute_result",
                    "data": {
                        "text/plain": [
                            "       brand  model_year  kms_driven owner   location  price\n",
                            "1186  Yamaha        2019      9400.0   1st  New Delhi  85000\n",
                            "478    Bajaj        2017     33500.0   1st      other  40000\n",
                            "3275    Hero        2017     52818.0   1st      Delhi  49000"
                        ],
                        "text/html": [
                            "<div>\n",
                            "<style scoped>\n",
                            "    .dataframe tbody tr th:only-of-type {\n",
                            "        vertical-align: middle;\n",
                            "    }\n",
                            "\n",
                            "    .dataframe tbody tr th {\n",
                            "        vertical-align: top;\n",
                            "    }\n",
                            "\n",
                            "    .dataframe thead th {\n",
                            "        text-align: right;\n",
                            "    }\n",
                            "</style>\n",
                            "<table border=\"1\" class=\"dataframe\">\n",
                            "  <thead>\n",
                            "    <tr style=\"text-align: right;\">\n",
                            "      <th></th>\n",
                            "      <th>brand</th>\n",
                            "      <th>model_year</th>\n",
                            "      <th>kms_driven</th>\n",
                            "      <th>owner</th>\n",
                            "      <th>location</th>\n",
                            "      <th>price</th>\n",
                            "    </tr>\n",
                            "  </thead>\n",
                            "  <tbody>\n",
                            "    <tr>\n",
                            "      <th>1186</th>\n",
                            "      <td>Yamaha</td>\n",
                            "      <td>2019</td>\n",
                            "      <td>9400.0</td>\n",
                            "      <td>1st</td>\n",
                            "      <td>New Delhi</td>\n",
                            "      <td>85000</td>\n",
                            "    </tr>\n",
                            "    <tr>\n",
                            "      <th>478</th>\n",
                            "      <td>Bajaj</td>\n",
                            "      <td>2017</td>\n",
                            "      <td>33500.0</td>\n",
                            "      <td>1st</td>\n",
                            "      <td>other</td>\n",
                            "      <td>40000</td>\n",
                            "    </tr>\n",
                            "    <tr>\n",
                            "      <th>3275</th>\n",
                            "      <td>Hero</td>\n",
                            "      <td>2017</td>\n",
                            "      <td>52818.0</td>\n",
                            "      <td>1st</td>\n",
                            "      <td>Delhi</td>\n",
                            "      <td>49000</td>\n",
                            "    </tr>\n",
                            "  </tbody>\n",
                            "</table>\n",
                            "</div>"
                        ]
                    },
                    "metadata": {},
                    "execution_count": 4
                }
            ],
            "metadata": {}
        },
        {
            "cell_type": "code",
            "execution_count": 5,
            "source": [
                "df.info()"
            ],
            "outputs": [
                {
                    "output_type": "stream",
                    "name": "stdout",
                    "text": [
                        "<class 'pandas.core.frame.DataFrame'>\n",
                        "RangeIndex: 5084 entries, 0 to 5083\n",
                        "Data columns (total 6 columns):\n",
                        " #   Column      Non-Null Count  Dtype  \n",
                        "---  ------      --------------  -----  \n",
                        " 0   brand       5084 non-null   object \n",
                        " 1   model_year  5084 non-null   int64  \n",
                        " 2   kms_driven  5084 non-null   float64\n",
                        " 3   owner       5084 non-null   object \n",
                        " 4   location    5084 non-null   object \n",
                        " 5   price       5084 non-null   int64  \n",
                        "dtypes: float64(1), int64(2), object(3)\n",
                        "memory usage: 238.4+ KB\n"
                    ]
                }
            ],
            "metadata": {}
        },
        {
            "cell_type": "code",
            "execution_count": 6,
            "source": [
                "# scale price value\n",
                "df['price'] = df['price'].apply(np.log1p)"
            ],
            "outputs": [],
            "metadata": {}
        },
        {
            "cell_type": "markdown",
            "source": [
                "## Category Encoding"
            ],
            "metadata": {}
        },
        {
            "cell_type": "code",
            "execution_count": 7,
            "source": [
                "from sklearn.compose import ColumnTransformer\n",
                "from sklearn.preprocessing import OneHotEncoder,OrdinalEncoder,MinMaxScaler\n"
            ],
            "outputs": [],
            "metadata": {}
        },
        {
            "cell_type": "code",
            "execution_count": 8,
            "source": [
                "owner_categories = list(df.owner.unique()[::-1])\n",
                "owner_categories"
            ],
            "outputs": [
                {
                    "output_type": "execute_result",
                    "data": {
                        "text/plain": [
                            "['5th', '4th', '2nd', '3rd', '1st']"
                        ]
                    },
                    "metadata": {},
                    "execution_count": 8
                }
            ],
            "metadata": {}
        },
        {
            "cell_type": "code",
            "execution_count": 9,
            "source": [
                "df.sample()"
            ],
            "outputs": [
                {
                    "output_type": "execute_result",
                    "data": {
                        "text/plain": [
                            "      brand  model_year  kms_driven owner location    price\n",
                            "3181  Bajaj        2013     20071.0   1st    Delhi  10.5187"
                        ],
                        "text/html": [
                            "<div>\n",
                            "<style scoped>\n",
                            "    .dataframe tbody tr th:only-of-type {\n",
                            "        vertical-align: middle;\n",
                            "    }\n",
                            "\n",
                            "    .dataframe tbody tr th {\n",
                            "        vertical-align: top;\n",
                            "    }\n",
                            "\n",
                            "    .dataframe thead th {\n",
                            "        text-align: right;\n",
                            "    }\n",
                            "</style>\n",
                            "<table border=\"1\" class=\"dataframe\">\n",
                            "  <thead>\n",
                            "    <tr style=\"text-align: right;\">\n",
                            "      <th></th>\n",
                            "      <th>brand</th>\n",
                            "      <th>model_year</th>\n",
                            "      <th>kms_driven</th>\n",
                            "      <th>owner</th>\n",
                            "      <th>location</th>\n",
                            "      <th>price</th>\n",
                            "    </tr>\n",
                            "  </thead>\n",
                            "  <tbody>\n",
                            "    <tr>\n",
                            "      <th>3181</th>\n",
                            "      <td>Bajaj</td>\n",
                            "      <td>2013</td>\n",
                            "      <td>20071.0</td>\n",
                            "      <td>1st</td>\n",
                            "      <td>Delhi</td>\n",
                            "      <td>10.5187</td>\n",
                            "    </tr>\n",
                            "  </tbody>\n",
                            "</table>\n",
                            "</div>"
                        ]
                    },
                    "metadata": {},
                    "execution_count": 9
                }
            ],
            "metadata": {}
        },
        {
            "cell_type": "code",
            "execution_count": 10,
            "source": [
                "# ## Change the owner category to numerical encoding\n",
                "# owners_ranks = {\n",
                "#     '1st': 5,\n",
                "#     '2nd': 4,\n",
                "#     '3rd': 3,\n",
                "#     '4th': 2,\n",
                "#     '5th': 1,\n",
                "    \n",
                "# }\n",
                "\n",
                "# df['owner'] = df['owner'].apply(lambda x: owners_ranks.get(x,1))\n",
                "\n",
                "# df.info()"
            ],
            "outputs": [],
            "metadata": {}
        },
        {
            "cell_type": "code",
            "execution_count": 11,
            "source": [
                "df.sample(3)"
            ],
            "outputs": [
                {
                    "output_type": "execute_result",
                    "data": {
                        "text/plain": [
                            "      brand  model_year  kms_driven owner   location      price\n",
                            "5024  Bajaj        2020     66000.0   3rd     Jaipur  10.905974\n",
                            "2586  Honda        2018     30108.0   1st      Delhi  11.034906\n",
                            "4499  other        2017      3300.0   1st  Bangalore  13.527830"
                        ],
                        "text/html": [
                            "<div>\n",
                            "<style scoped>\n",
                            "    .dataframe tbody tr th:only-of-type {\n",
                            "        vertical-align: middle;\n",
                            "    }\n",
                            "\n",
                            "    .dataframe tbody tr th {\n",
                            "        vertical-align: top;\n",
                            "    }\n",
                            "\n",
                            "    .dataframe thead th {\n",
                            "        text-align: right;\n",
                            "    }\n",
                            "</style>\n",
                            "<table border=\"1\" class=\"dataframe\">\n",
                            "  <thead>\n",
                            "    <tr style=\"text-align: right;\">\n",
                            "      <th></th>\n",
                            "      <th>brand</th>\n",
                            "      <th>model_year</th>\n",
                            "      <th>kms_driven</th>\n",
                            "      <th>owner</th>\n",
                            "      <th>location</th>\n",
                            "      <th>price</th>\n",
                            "    </tr>\n",
                            "  </thead>\n",
                            "  <tbody>\n",
                            "    <tr>\n",
                            "      <th>5024</th>\n",
                            "      <td>Bajaj</td>\n",
                            "      <td>2020</td>\n",
                            "      <td>66000.0</td>\n",
                            "      <td>3rd</td>\n",
                            "      <td>Jaipur</td>\n",
                            "      <td>10.905974</td>\n",
                            "    </tr>\n",
                            "    <tr>\n",
                            "      <th>2586</th>\n",
                            "      <td>Honda</td>\n",
                            "      <td>2018</td>\n",
                            "      <td>30108.0</td>\n",
                            "      <td>1st</td>\n",
                            "      <td>Delhi</td>\n",
                            "      <td>11.034906</td>\n",
                            "    </tr>\n",
                            "    <tr>\n",
                            "      <th>4499</th>\n",
                            "      <td>other</td>\n",
                            "      <td>2017</td>\n",
                            "      <td>3300.0</td>\n",
                            "      <td>1st</td>\n",
                            "      <td>Bangalore</td>\n",
                            "      <td>13.527830</td>\n",
                            "    </tr>\n",
                            "  </tbody>\n",
                            "</table>\n",
                            "</div>"
                        ]
                    },
                    "metadata": {},
                    "execution_count": 11
                }
            ],
            "metadata": {}
        },
        {
            "cell_type": "code",
            "execution_count": 12,
            "source": [
                "# ['5th','4th','3rd','2nd','1st']"
            ],
            "outputs": [],
            "metadata": {}
        },
        {
            "cell_type": "code",
            "execution_count": 13,
            "source": [
                "from sklearn.base import BaseEstimator, TransformerMixin\n",
                "# Custom transformer to normalize model_year\n",
                "class ModelYearTransformer(BaseEstimator, TransformerMixin):\n",
                "    def __init__(self):\n",
                "        super().__init__()\n",
                "\n",
                "    def fit(self,X,y = None):\n",
                "        return self\n",
                "\n",
                "    def transform(self,X,y=None):\n",
                "        X_ = X.copy()\n",
                "        X_.model_year = X_.model_year - 2010\n",
                "\n",
                "        return X_\n",
                "\n",
                "\n",
                "\n",
                "category_transformer = ColumnTransformer([\n",
                "    (\"brand_ohe\",OneHotEncoder(dtype=np.int16,sparse=False,handle_unknown='ignore'),[0]),\n",
                "    (\"model_year_normalizer\",ModelYearTransformer(),[1]),\n",
                "    (\"kms_driven_min_max_scaler\",MinMaxScaler(),[2]),\n",
                "    (\"owner_ordinal_enc\",OrdinalEncoder(categories='auto',handle_unknown='ignore',dtype=np.int16),[3]),\n",
                "    (\"location_ohe\",OneHotEncoder(dtype=np.int16, sparse=False,handle_unknown='ignore'),[4]),\n",
                "],remainder='passthrough')\n",
                "\n"
            ],
            "outputs": [],
            "metadata": {}
        },
        {
            "cell_type": "code",
            "execution_count": 14,
            "source": [
                "# Scale the price data\n",
                "# y = MinMaxScaler().fit_transform([y])[0]"
            ],
            "outputs": [],
            "metadata": {}
        },
        {
            "cell_type": "code",
            "execution_count": 15,
            "source": [
                "X = df.drop('price',axis=1)\n",
                "y = df['price']"
            ],
            "outputs": [],
            "metadata": {}
        },
        {
            "cell_type": "code",
            "execution_count": 16,
            "source": [
                "from sklearn.model_selection import train_test_split\n",
                "X_train,X_test,y_train,y_test = train_test_split(X,y,test_size=.2,random_state=1234)"
            ],
            "outputs": [],
            "metadata": {}
        },
        {
            "cell_type": "markdown",
            "source": [
                "## Model Building"
            ],
            "metadata": {}
        },
        {
            "cell_type": "code",
            "execution_count": 17,
            "source": [
                "from sklearn.pipeline import Pipeline\n",
                "from sklearn.model_selection import GridSearchCV, RandomizedSearchCV\n",
                "from sklearn.linear_model import LinearRegression\n",
                "from sklearn.ensemble import RandomForestRegressor\n",
                "\n",
                "from sklearn import set_config\n",
                "\n",
                "set_config(display='diagram')"
            ],
            "outputs": [],
            "metadata": {}
        },
        {
            "cell_type": "code",
            "execution_count": 18,
            "source": [
                "\n",
                "def build_pipeline_with_estimator(estimator):\n",
                "    return Pipeline([\n",
                "    ('category_transformer',category_transformer),\n",
                "    ('estimator',estimator),\n",
                "])\n"
            ],
            "outputs": [],
            "metadata": {}
        },
        {
            "cell_type": "code",
            "execution_count": 19,
            "source": [
                "from sklearn.metrics import r2_score,mean_squared_error,mean_absolute_error\n",
                "from sklearn.model_selection import cross_val_score\n",
                "# MAPE\n",
                "def mape(targets, predictions):\n",
                "    return np.mean(np.abs((targets - predictions)) / targets) * 100\n",
                "\n",
                "# Adjusted R^2\n",
                "def adj_r2(ind_vars, targets, predictions):\n",
                "    r2 = r2_score(targets, predictions)\n",
                "    n = ind_vars.shape[0]\n",
                "    k = ind_vars.shape[1]\n",
                "    return 1-((1-r2)*(n-1)/(n-k-1))\n",
                "\n",
                "# Model performance check\n",
                "def model_perf(model, inp, out):\n",
                "\n",
                "    y_pred = model.predict(inp)\n",
                "    y_act = out.values\n",
                "\n",
                "    cross_val = cross_val_score(model, inp,out,cv=10)\n",
                "    \n",
                "\n",
                "    return pd.DataFrame({\n",
                "                \"RMSE\": np.sqrt(mean_squared_error(y_act, y_pred)),\n",
                "                \"MAE\": mean_absolute_error(y_act, y_pred),\n",
                "                \"MAPE\": mape(y_act, y_pred),\n",
                "                \"R^2\": r2_score(y_act, y_pred),\n",
                "                \"Adjusted R^2\": adj_r2(inp, y_act, y_pred),\n",
                "                \"Cross Val Score (Mean)\": cross_val.mean()\n",
                "           }, index=[0])"
            ],
            "outputs": [],
            "metadata": {}
        },
        {
            "cell_type": "markdown",
            "source": [
                "## LinearRegression"
            ],
            "metadata": {}
        },
        {
            "cell_type": "code",
            "execution_count": 20,
            "source": [
                "liner_regressor = build_pipeline_with_estimator(LinearRegression())\n",
                "\n",
                "params = {}\n",
                "\n",
                "liner_regressor = GridSearchCV(liner_regressor,params,cv=10)\n",
                "\n",
                "liner_regressor.fit(X_train,y_train)\n",
                "\n",
                "print('Linear Regression Train Performance.\\n')\n",
                "print(model_perf(liner_regressor,X_train,y_train))\n",
                "\n",
                "print('Linear Regression Test Performance.\\n')\n",
                "print(model_perf(liner_regressor,X_test,y_test))"
            ],
            "outputs": [
                {
                    "output_type": "stream",
                    "name": "stdout",
                    "text": [
                        "Linear Regression Train Performance.\n",
                        "\n",
                        "       RMSE       MAE      MAPE       R^2  Adjusted R^2  \\\n",
                        "0  0.497377  0.354853  3.315087  0.571515      0.570988   \n",
                        "\n",
                        "   Cross Val Score (Mean)  \n",
                        "0                0.559561  \n",
                        "Linear Regression Test Performance.\n",
                        "\n",
                        "       RMSE       MAE     MAPE       R^2  Adjusted R^2  Cross Val Score (Mean)\n",
                        "0  0.484819  0.341853  3.20454  0.583979      0.581921                0.567064\n"
                    ]
                }
            ],
            "metadata": {}
        },
        {
            "cell_type": "markdown",
            "source": [
                "## RandomForest"
            ],
            "metadata": {}
        },
        {
            "cell_type": "code",
            "execution_count": 21,
            "source": [
                "from sklearn.ensemble import RandomForestRegressor\n",
                "\n",
                "model = build_pipeline_with_estimator(RandomForestRegressor())\n",
                "\n",
                "# params = {\n",
                "#     'estimator__criterion': ['gini','entropy'],\n",
                "#     'estimator__n_estimators': [100],\n",
                "#     'estimator__max_depth': [5,10,15,20,25],\n",
                "#     'estimator__min_samples_split': range(2,11),\n",
                "#     'estimator__max_features': ['auto','sqrt','log2'],\n",
                "# }\n",
                "\n",
                "# model = GridSearchCV(model,params,cv=10)\n",
                "\n",
                "model.fit(X_train,y_train)\n",
                "\n",
                "print('RandomForest Train Performance.\\n')\n",
                "print(model_perf(model,X_train,y_train))\n",
                "\n",
                "print('RandomForest Test Performance.\\n')\n",
                "print(model_perf(model,X_test,y_test))"
            ],
            "outputs": [
                {
                    "output_type": "stream",
                    "name": "stdout",
                    "text": [
                        "RandomForest Train Performance.\n",
                        "\n",
                        "       RMSE      MAE      MAPE       R^2  Adjusted R^2  Cross Val Score (Mean)\n",
                        "0  0.191249  0.12293  1.142833  0.936648       0.93657                0.623409\n",
                        "RandomForest Test Performance.\n",
                        "\n",
                        "       RMSE       MAE      MAPE       R^2  Adjusted R^2  \\\n",
                        "0  0.452873  0.293273  2.727927  0.636998      0.635203   \n",
                        "\n",
                        "   Cross Val Score (Mean)  \n",
                        "0                0.549022  \n"
                    ]
                }
            ],
            "metadata": {}
        },
        {
            "cell_type": "markdown",
            "source": [
                "## XGBoost"
            ],
            "metadata": {}
        },
        {
            "cell_type": "code",
            "execution_count": 22,
            "source": [
                "from xgboost import XGBRegressor\n",
                "\n",
                "xgboost = build_pipeline_with_estimator(XGBRegressor())\n",
                "\n",
                "xgboost.fit(X_train,y_train)\n",
                "\n",
                "print('xgboost Train Performance.\\n')\n",
                "print(model_perf(xgboost,X_train,y_train))\n",
                "\n",
                "print('xgboost Test Performance.\\n')\n",
                "print(model_perf(xgboost,X_test,y_test))"
            ],
            "outputs": [
                {
                    "output_type": "stream",
                    "name": "stdout",
                    "text": [
                        "xgboost Train Performance.\n",
                        "\n",
                        "       RMSE       MAE      MAPE      R^2  Adjusted R^2  Cross Val Score (Mean)\n",
                        "0  0.261629  0.180147  1.669747  0.88144      0.881294                0.655665\n",
                        "xgboost Test Performance.\n",
                        "\n",
                        "       RMSE      MAE      MAPE       R^2  Adjusted R^2  Cross Val Score (Mean)\n",
                        "0  0.450211  0.29155  2.715033  0.641252      0.639478                 0.55722\n"
                    ]
                }
            ],
            "metadata": {}
        },
        {
            "cell_type": "code",
            "execution_count": 23,
            "source": [
                "from sklearn.neighbors import KNeighborsRegressor\n",
                "\n",
                "model = build_pipeline_with_estimator(KNeighborsRegressor())\n",
                "\n",
                "params = {\n",
                "    'estimator__n_neighbors': [3,5,7,9,12],\n",
                "    'estimator__algorithm': ['ball_tree','kd_tree','brute'],\n",
                "    'estimator__leaf_size': [5,10,30,32,35,40,50]\n",
                "}\n",
                "\n",
                "model = GridSearchCV(model,params,cv=10)\n",
                "\n",
                "model.fit(X_train,y_train)\n",
                "\n",
                "print('KNeighborsRegressor Train Performance.\\n')\n",
                "print(model_perf(model,X_train,y_train))\n",
                "\n",
                "print('KNeighborsRegressor Test Performance.\\n')\n",
                "print(model_perf(model,X_test,y_test))"
            ],
            "outputs": [],
            "metadata": {}
        }
    ],
    "metadata": {
        "orig_nbformat": 4,
        "language_info": {
            "name": "python",
            "version": "3.8.8",
            "mimetype": "text/x-python",
            "codemirror_mode": {
                "name": "ipython",
                "version": 3
            },
            "pygments_lexer": "ipython3",
            "nbconvert_exporter": "python",
            "file_extension": ".py"
        },
        "kernelspec": {
            "name": "python3",
            "display_name": "Python 3.8.8 64-bit ('anaconda3': virtualenv)"
        },
        "interpreter": {
            "hash": "d213f6e5b8fd7d14bb00958cfb5f51bfe315e9248ff051fde0d0d79c3d0f4eba"
        }
    },
    "nbformat": 4,
    "nbformat_minor": 2
}