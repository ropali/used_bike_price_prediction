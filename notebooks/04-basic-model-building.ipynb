{
    "cells": [
        {
            "cell_type": "code",
            "execution_count": 1,
            "source": [
                "import pandas as pd\n",
                "import numpy as np\n",
                "import matplotlib.pyplot as plt\n",
                "import seaborn as sns"
            ],
            "outputs": [],
            "metadata": {}
        },
        {
            "cell_type": "code",
            "execution_count": 2,
            "source": [
                "df = pd.read_csv('../data/processed/processed.csv')"
            ],
            "outputs": [],
            "metadata": {}
        },
        {
            "cell_type": "code",
            "execution_count": 3,
            "source": [
                "df.shape"
            ],
            "outputs": [
                {
                    "output_type": "execute_result",
                    "data": {
                        "text/plain": [
                            "(4132, 7)"
                        ]
                    },
                    "metadata": {},
                    "execution_count": 3
                }
            ],
            "metadata": {}
        },
        {
            "cell_type": "code",
            "execution_count": 4,
            "source": [
                "df.sample(3)"
            ],
            "outputs": [
                {
                    "output_type": "execute_result",
                    "data": {
                        "text/html": [
                            "<div>\n",
                            "<style scoped>\n",
                            "    .dataframe tbody tr th:only-of-type {\n",
                            "        vertical-align: middle;\n",
                            "    }\n",
                            "\n",
                            "    .dataframe tbody tr th {\n",
                            "        vertical-align: top;\n",
                            "    }\n",
                            "\n",
                            "    .dataframe thead th {\n",
                            "        text-align: right;\n",
                            "    }\n",
                            "</style>\n",
                            "<table border=\"1\" class=\"dataframe\">\n",
                            "  <thead>\n",
                            "    <tr style=\"text-align: right;\">\n",
                            "      <th></th>\n",
                            "      <th>brand</th>\n",
                            "      <th>model_year</th>\n",
                            "      <th>kms_driven</th>\n",
                            "      <th>owner</th>\n",
                            "      <th>location</th>\n",
                            "      <th>price</th>\n",
                            "      <th>model_age</th>\n",
                            "    </tr>\n",
                            "  </thead>\n",
                            "  <tbody>\n",
                            "    <tr>\n",
                            "      <th>2773</th>\n",
                            "      <td>KTM</td>\n",
                            "      <td>2016</td>\n",
                            "      <td>7488</td>\n",
                            "      <td>1st</td>\n",
                            "      <td>Delhi</td>\n",
                            "      <td>120000</td>\n",
                            "      <td>5</td>\n",
                            "    </tr>\n",
                            "    <tr>\n",
                            "      <th>2889</th>\n",
                            "      <td>Hero</td>\n",
                            "      <td>2018</td>\n",
                            "      <td>6750</td>\n",
                            "      <td>1st</td>\n",
                            "      <td>other</td>\n",
                            "      <td>22500</td>\n",
                            "      <td>3</td>\n",
                            "    </tr>\n",
                            "    <tr>\n",
                            "      <th>175</th>\n",
                            "      <td>Yamaha</td>\n",
                            "      <td>2015</td>\n",
                            "      <td>36000</td>\n",
                            "      <td>1st</td>\n",
                            "      <td>other</td>\n",
                            "      <td>37000</td>\n",
                            "      <td>6</td>\n",
                            "    </tr>\n",
                            "  </tbody>\n",
                            "</table>\n",
                            "</div>"
                        ],
                        "text/plain": [
                            "       brand  model_year  kms_driven owner location   price  model_age\n",
                            "2773     KTM        2016        7488   1st    Delhi  120000          5\n",
                            "2889    Hero        2018        6750   1st    other   22500          3\n",
                            "175   Yamaha        2015       36000   1st    other   37000          6"
                        ]
                    },
                    "metadata": {},
                    "execution_count": 4
                }
            ],
            "metadata": {}
        },
        {
            "cell_type": "code",
            "execution_count": 5,
            "source": [
                "df = df.drop(['location'],axis=1)"
            ],
            "outputs": [],
            "metadata": {}
        },
        {
            "cell_type": "code",
            "execution_count": 6,
            "source": [
                "df.info()"
            ],
            "outputs": [
                {
                    "output_type": "stream",
                    "name": "stdout",
                    "text": [
                        "<class 'pandas.core.frame.DataFrame'>\n",
                        "RangeIndex: 4132 entries, 0 to 4131\n",
                        "Data columns (total 6 columns):\n",
                        " #   Column      Non-Null Count  Dtype \n",
                        "---  ------      --------------  ----- \n",
                        " 0   brand       4132 non-null   object\n",
                        " 1   model_year  4132 non-null   int64 \n",
                        " 2   kms_driven  4132 non-null   int64 \n",
                        " 3   owner       4132 non-null   object\n",
                        " 4   price       4132 non-null   int64 \n",
                        " 5   model_age   4132 non-null   int64 \n",
                        "dtypes: int64(4), object(2)\n",
                        "memory usage: 193.8+ KB\n"
                    ]
                }
            ],
            "metadata": {}
        },
        {
            "cell_type": "markdown",
            "source": [
                "## Category Encoding"
            ],
            "metadata": {}
        },
        {
            "cell_type": "code",
            "execution_count": 7,
            "source": [
                "owner_categories = list(df.owner.unique()[::-1])\n",
                "owner_categories"
            ],
            "outputs": [
                {
                    "output_type": "execute_result",
                    "data": {
                        "text/plain": [
                            "['5th', '4th', '3rd', '2nd', '1st']"
                        ]
                    },
                    "metadata": {},
                    "execution_count": 7
                }
            ],
            "metadata": {}
        },
        {
            "cell_type": "code",
            "execution_count": 8,
            "source": [
                "df.sample()"
            ],
            "outputs": [
                {
                    "output_type": "execute_result",
                    "data": {
                        "text/html": [
                            "<div>\n",
                            "<style scoped>\n",
                            "    .dataframe tbody tr th:only-of-type {\n",
                            "        vertical-align: middle;\n",
                            "    }\n",
                            "\n",
                            "    .dataframe tbody tr th {\n",
                            "        vertical-align: top;\n",
                            "    }\n",
                            "\n",
                            "    .dataframe thead th {\n",
                            "        text-align: right;\n",
                            "    }\n",
                            "</style>\n",
                            "<table border=\"1\" class=\"dataframe\">\n",
                            "  <thead>\n",
                            "    <tr style=\"text-align: right;\">\n",
                            "      <th></th>\n",
                            "      <th>brand</th>\n",
                            "      <th>model_year</th>\n",
                            "      <th>kms_driven</th>\n",
                            "      <th>owner</th>\n",
                            "      <th>price</th>\n",
                            "      <th>model_age</th>\n",
                            "    </tr>\n",
                            "  </thead>\n",
                            "  <tbody>\n",
                            "    <tr>\n",
                            "      <th>1971</th>\n",
                            "      <td>Bajaj</td>\n",
                            "      <td>2020</td>\n",
                            "      <td>11000</td>\n",
                            "      <td>1st</td>\n",
                            "      <td>80000</td>\n",
                            "      <td>1</td>\n",
                            "    </tr>\n",
                            "  </tbody>\n",
                            "</table>\n",
                            "</div>"
                        ],
                        "text/plain": [
                            "      brand  model_year  kms_driven owner  price  model_age\n",
                            "1971  Bajaj        2020       11000   1st  80000          1"
                        ]
                    },
                    "metadata": {},
                    "execution_count": 8
                }
            ],
            "metadata": {}
        },
        {
            "cell_type": "code",
            "execution_count": 9,
            "source": [
                "# ## Change the owner category to numerical encoding\n",
                "# owners_ranks = {\n",
                "#     '1st': 5,\n",
                "#     '2nd': 4,\n",
                "#     '3rd': 3,\n",
                "#     '4th': 2,\n",
                "#     '5th': 1,\n",
                "    \n",
                "# }\n",
                "\n",
                "# df['owner'] = df['owner'].apply(lambda x: owners_ranks.get(x,1))\n",
                "\n",
                "# df.info()"
            ],
            "outputs": [],
            "metadata": {}
        },
        {
            "cell_type": "code",
            "execution_count": 10,
            "source": [
                "X = df.drop('price',axis=1)\n",
                "y = df['price']"
            ],
            "outputs": [],
            "metadata": {}
        },
        {
            "cell_type": "code",
            "execution_count": 11,
            "source": [
                "y = y.apply(np.log1p)"
            ],
            "outputs": [],
            "metadata": {}
        },
        {
            "cell_type": "code",
            "execution_count": 12,
            "source": [
                "X.sample(3)"
            ],
            "outputs": [
                {
                    "output_type": "execute_result",
                    "data": {
                        "text/html": [
                            "<div>\n",
                            "<style scoped>\n",
                            "    .dataframe tbody tr th:only-of-type {\n",
                            "        vertical-align: middle;\n",
                            "    }\n",
                            "\n",
                            "    .dataframe tbody tr th {\n",
                            "        vertical-align: top;\n",
                            "    }\n",
                            "\n",
                            "    .dataframe thead th {\n",
                            "        text-align: right;\n",
                            "    }\n",
                            "</style>\n",
                            "<table border=\"1\" class=\"dataframe\">\n",
                            "  <thead>\n",
                            "    <tr style=\"text-align: right;\">\n",
                            "      <th></th>\n",
                            "      <th>brand</th>\n",
                            "      <th>model_year</th>\n",
                            "      <th>kms_driven</th>\n",
                            "      <th>owner</th>\n",
                            "      <th>model_age</th>\n",
                            "    </tr>\n",
                            "  </thead>\n",
                            "  <tbody>\n",
                            "    <tr>\n",
                            "      <th>516</th>\n",
                            "      <td>Royal Enfield</td>\n",
                            "      <td>2015</td>\n",
                            "      <td>12100</td>\n",
                            "      <td>1st</td>\n",
                            "      <td>6</td>\n",
                            "    </tr>\n",
                            "    <tr>\n",
                            "      <th>3743</th>\n",
                            "      <td>Bajaj</td>\n",
                            "      <td>2009</td>\n",
                            "      <td>43000</td>\n",
                            "      <td>2nd</td>\n",
                            "      <td>12</td>\n",
                            "    </tr>\n",
                            "    <tr>\n",
                            "      <th>3079</th>\n",
                            "      <td>Bajaj</td>\n",
                            "      <td>2013</td>\n",
                            "      <td>20000</td>\n",
                            "      <td>1st</td>\n",
                            "      <td>8</td>\n",
                            "    </tr>\n",
                            "  </tbody>\n",
                            "</table>\n",
                            "</div>"
                        ],
                        "text/plain": [
                            "              brand  model_year  kms_driven owner  model_age\n",
                            "516   Royal Enfield        2015       12100   1st          6\n",
                            "3743          Bajaj        2009       43000   2nd         12\n",
                            "3079          Bajaj        2013       20000   1st          8"
                        ]
                    },
                    "metadata": {},
                    "execution_count": 12
                }
            ],
            "metadata": {}
        },
        {
            "cell_type": "code",
            "execution_count": 13,
            "source": [
                "# ['5th','4th','3rd','2nd','1st']"
            ],
            "outputs": [],
            "metadata": {}
        },
        {
            "cell_type": "code",
            "execution_count": 14,
            "source": [
                "from sklearn.preprocessing import StandardScaler\n",
                "from sklearn.compose import ColumnTransformer\n",
                "from sklearn.preprocessing import OneHotEncoder,OrdinalEncoder,MinMaxScaler\n",
                "\n",
                "\n",
                "from sklearn.base import BaseEstimator, TransformerMixin\n",
                "# Custom transformer to normalize model_year\n",
                "class ModelYearTransformer(BaseEstimator, TransformerMixin):\n",
                "    def __init__(self):\n",
                "        super().__init__()\n",
                "\n",
                "    def fit(self,X,y = None):\n",
                "        return self\n",
                "\n",
                "    def transform(self,X,y=None):\n",
                "        X_ = X.copy()\n",
                "        X_.model_year = X_.model_year - 2010\n",
                "\n",
                "        return X_\n",
                "\n",
                "\n",
                "\n",
                "category_transformer = ColumnTransformer([\n",
                "    (\"brand_ohe\",OneHotEncoder(dtype=np.int16,sparse=False,handle_unknown='ignore'),[0]),\n",
                "    # (\"model_year_normalizer\",ModelYearTransformer(),[1]),\n",
                "    (\"kms_driven_min_max_scaler\",MinMaxScaler(),[2]),\n",
                "    (\"owner_ordinal_enc\",OrdinalEncoder(categories='auto',handle_unknown='ignore',dtype=np.int16),[3]),\n",
                "    # (\"location_ohe\",OneHotEncoder(dtype=np.int16, sparse=False,handle_unknown='ignore'),[4]),\n",
                "],remainder='passthrough')\n",
                "\n"
            ],
            "outputs": [],
            "metadata": {}
        },
        {
            "cell_type": "code",
            "execution_count": 15,
            "source": [
                "# Scale the price data\n",
                "# y = MinMaxScaler().fit_transform([y])[0]"
            ],
            "outputs": [],
            "metadata": {}
        },
        {
            "cell_type": "code",
            "execution_count": 16,
            "source": [
                "from sklearn.model_selection import train_test_split\n",
                "X_train,X_test,y_train,y_test = train_test_split(X,y,test_size=.2,random_state=1234)"
            ],
            "outputs": [],
            "metadata": {}
        },
        {
            "cell_type": "markdown",
            "source": [
                "## Model Building"
            ],
            "metadata": {}
        },
        {
            "cell_type": "code",
            "execution_count": 17,
            "source": [
                "from sklearn.pipeline import Pipeline\n",
                "from sklearn.model_selection import GridSearchCV, RandomizedSearchCV\n",
                "from sklearn.linear_model import LinearRegression\n",
                "from sklearn.ensemble import RandomForestRegressor\n",
                "\n",
                "from sklearn import set_config\n",
                "\n",
                "set_config(display='diagram')"
            ],
            "outputs": [],
            "metadata": {}
        },
        {
            "cell_type": "code",
            "execution_count": 18,
            "source": [
                "\n",
                "def build_pipeline_with_estimator(estimator):\n",
                "    return Pipeline([\n",
                "    ('category_transformer',category_transformer),\n",
                "    ('estimator',estimator),\n",
                "])\n"
            ],
            "outputs": [],
            "metadata": {}
        },
        {
            "cell_type": "code",
            "execution_count": 19,
            "source": [
                "from sklearn.metrics import r2_score,mean_squared_error,mean_absolute_error\n",
                "from sklearn.model_selection import cross_val_score\n",
                "# MAPE\n",
                "def mape(targets, predictions):\n",
                "    return np.mean(np.abs((targets - predictions)) / targets) * 100\n",
                "\n",
                "# Adjusted R^2\n",
                "def adj_r2(ind_vars, targets, predictions):\n",
                "    r2 = r2_score(targets, predictions)\n",
                "    n = ind_vars.shape[0]\n",
                "    k = ind_vars.shape[1]\n",
                "    return 1-((1-r2)*(n-1)/(n-k-1))\n",
                "\n",
                "# Model performance check\n",
                "def model_perf(model, inp, out):\n",
                "\n",
                "    y_pred = model.predict(inp)\n",
                "    y_act = out.values\n",
                "\n",
                "    cross_val = cross_val_score(model, inp,out,cv=10)\n",
                "    \n",
                "\n",
                "    return pd.DataFrame({\n",
                "                \"RMSE\": np.sqrt(mean_squared_error(y_act, y_pred)),\n",
                "                \"MAE\": mean_absolute_error(y_act, y_pred),\n",
                "                \"MAPE\": mape(y_act, y_pred),\n",
                "                \"R^2\": r2_score(y_act, y_pred),\n",
                "                \"Adjusted R^2\": adj_r2(inp, y_act, y_pred),\n",
                "                \"Cross Val Score (Mean)\": cross_val.mean()\n",
                "           }, index=[0])"
            ],
            "outputs": [],
            "metadata": {}
        },
        {
            "cell_type": "code",
            "execution_count": 20,
            "source": [
                "# linear_regressor = build_pipeline_with_estimator(LinearRegression())\n",
                "# scores = []\n",
                "# for i in range(1000):\n",
                "#     X_train,X_test,y_train,y_test = train_test_split(X,y,test_size=.2,random_state=1)\n",
                "\n",
                "#     linear_regressor.fit(X_train,y_train)\n",
                "\n",
                "#     y_pred = linear_regressor.predict(X_test)\n",
                "\n",
                "#     s = r2_score(y_test,y_pred)\n",
                "\n",
                "#     scores.append(s)\n",
                "\n",
                "# print(scores)\n",
                "    \n",
                "# liner_regressor.fit(X_train,y_train)\n",
                "\n",
                "# print('Linear Regression Train Performance.\\n')\n",
                "# print(model_perf(liner_regressor,X_train,y_train))\n",
                "\n",
                "# print('Linear Regression Test Performance.\\n')\n",
                "# print(model_perf(liner_regressor,X_test,y_test))"
            ],
            "outputs": [],
            "metadata": {}
        },
        {
            "cell_type": "markdown",
            "source": [
                "## LinearRegression"
            ],
            "metadata": {}
        },
        {
            "cell_type": "code",
            "execution_count": 21,
            "source": [
                "liner_regressor = build_pipeline_with_estimator(LinearRegression())\n",
                "\n",
                "params = {}\n",
                "\n",
                "liner_regressor = GridSearchCV(liner_regressor,params,cv=10)\n",
                "\n",
                "liner_regressor.fit(X_train,y_train)\n",
                "\n",
                "print('Linear Regression Train Performance.\\n')\n",
                "print(model_perf(liner_regressor,X_train,y_train))\n",
                "\n",
                "print('Linear Regression Test Performance.\\n')\n",
                "print(model_perf(liner_regressor,X_test,y_test))"
            ],
            "outputs": [
                {
                    "output_type": "stream",
                    "name": "stdout",
                    "text": [
                        "Linear Regression Train Performance.\n",
                        "\n",
                        "       RMSE       MAE      MAPE      R^2  Adjusted R^2  Cross Val Score (Mean)\n",
                        "0  0.477585  0.362975  3.361202  0.54204      0.541346                0.537353\n",
                        "Linear Regression Test Performance.\n",
                        "\n",
                        "       RMSE       MAE      MAPE       R^2  Adjusted R^2  \\\n",
                        "0  0.477753  0.366346  3.375539  0.540805      0.538008   \n",
                        "\n",
                        "   Cross Val Score (Mean)  \n",
                        "0               -0.241627  \n"
                    ]
                }
            ],
            "metadata": {}
        },
        {
            "cell_type": "markdown",
            "source": [
                "## RandomForest"
            ],
            "metadata": {}
        },
        {
            "cell_type": "code",
            "execution_count": 22,
            "source": [
                "from sklearn.ensemble import RandomForestRegressor\n",
                "\n",
                "model = build_pipeline_with_estimator(RandomForestRegressor())\n",
                "\n",
                "# params = {\n",
                "#     'estimator__criterion': ['gini','entropy'],\n",
                "#     'estimator__n_estimators': [100],\n",
                "#     'estimator__max_depth': [5,10,15,20,25],\n",
                "#     'estimator__min_samples_split': range(2,11),\n",
                "#     'estimator__max_features': ['auto','sqrt','log2'],\n",
                "# }\n",
                "\n",
                "# model = GridSearchCV(model,params,cv=10)\n",
                "\n",
                "model.fit(X_train,y_train)\n",
                "\n",
                "print('RandomForest Train Performance.\\n')\n",
                "print(model_perf(model,X_train,y_train))\n",
                "\n",
                "print('RandomForest Test Performance.\\n')\n",
                "print(model_perf(model,X_test,y_test))"
            ],
            "outputs": [
                {
                    "output_type": "stream",
                    "name": "stdout",
                    "text": [
                        "RandomForest Train Performance.\n",
                        "\n",
                        "       RMSE       MAE      MAPE       R^2  Adjusted R^2  \\\n",
                        "0  0.230062  0.152402  1.399345  0.893729      0.893567   \n",
                        "\n",
                        "   Cross Val Score (Mean)  \n",
                        "0                  0.5461  \n",
                        "RandomForest Test Performance.\n",
                        "\n",
                        "       RMSE       MAE      MAPE      R^2  Adjusted R^2  Cross Val Score (Mean)\n",
                        "0  0.459848  0.324745  2.967276  0.57458      0.571989                 0.47915\n"
                    ]
                }
            ],
            "metadata": {}
        },
        {
            "cell_type": "markdown",
            "source": [
                "## XGBoost"
            ],
            "metadata": {}
        },
        {
            "cell_type": "code",
            "execution_count": 23,
            "source": [
                "from xgboost import XGBRegressor\n",
                "\n",
                "xgboost = build_pipeline_with_estimator(XGBRegressor())\n",
                "\n",
                "xgboost.fit(X_train,y_train)\n",
                "\n",
                "print('xgboost Train Performance.\\n')\n",
                "print(model_perf(xgboost,X_train,y_train))\n",
                "\n",
                "print('xgboost Test Performance.\\n')\n",
                "print(model_perf(xgboost,X_test,y_test))"
            ],
            "outputs": [
                {
                    "output_type": "stream",
                    "name": "stdout",
                    "text": [
                        "xgboost Train Performance.\n",
                        "\n",
                        "       RMSE       MAE      MAPE       R^2  Adjusted R^2  \\\n",
                        "0  0.279987  0.199967  1.840092  0.842602      0.842363   \n",
                        "\n",
                        "   Cross Val Score (Mean)  \n",
                        "0                0.578851  \n",
                        "xgboost Test Performance.\n",
                        "\n",
                        "       RMSE       MAE      MAPE       R^2  Adjusted R^2  \\\n",
                        "0  0.445467  0.316339  2.889716  0.600771       0.59834   \n",
                        "\n",
                        "   Cross Val Score (Mean)  \n",
                        "0                  0.4764  \n"
                    ]
                }
            ],
            "metadata": {}
        },
        {
            "cell_type": "code",
            "execution_count": 24,
            "source": [
                "from sklearn.neighbors import KNeighborsRegressor\n",
                "\n",
                "model = build_pipeline_with_estimator(KNeighborsRegressor())\n",
                "\n",
                "# params = {\n",
                "#     'estimator__n_neighbors': [3,5,7,9],\n",
                "#     'estimator__algorithm': ['ball_tree','kd_tree','brute'],\n",
                "#     'estimator__leaf_size': [5,10,30,32,35]\n",
                "# }\n",
                "\n",
                "# model = GridSearchCV(model,params,cv=5)\n",
                "\n",
                "model.fit(X_train,y_train)\n",
                "\n",
                "print('KNeighborsRegressor Train Performance.\\n')\n",
                "print(model_perf(model,X_train,y_train))\n",
                "\n",
                "print('KNeighborsRegressor Test Performance.\\n')\n",
                "print(model_perf(model,X_test,y_test))"
            ],
            "outputs": [
                {
                    "output_type": "stream",
                    "name": "stdout",
                    "text": [
                        "KNeighborsRegressor Train Performance.\n",
                        "\n",
                        "       RMSE       MAE      MAPE       R^2  Adjusted R^2  \\\n",
                        "0  0.388821  0.274376  2.511198  0.696453      0.695993   \n",
                        "\n",
                        "   Cross Val Score (Mean)  \n",
                        "0                0.540933  \n",
                        "KNeighborsRegressor Test Performance.\n",
                        "\n",
                        "       RMSE       MAE      MAPE       R^2  Adjusted R^2  \\\n",
                        "0  0.479743  0.341066  3.110378  0.536971      0.534151   \n",
                        "\n",
                        "   Cross Val Score (Mean)  \n",
                        "0                0.455039  \n"
                    ]
                }
            ],
            "metadata": {}
        },
        {
            "cell_type": "markdown",
            "source": [
                "## GradientBoostingRegressor"
            ],
            "metadata": {}
        },
        {
            "cell_type": "code",
            "execution_count": 25,
            "source": [
                "from sklearn.ensemble import GradientBoostingRegressor\n",
                "\n",
                "model = build_pipeline_with_estimator(GradientBoostingRegressor())\n",
                "\n",
                "# params = {\n",
                "#     'estimator__loss': ['ls','lad','huber','quantile'],\n",
                "#     'estimator__learning_rate': [0.1],\n",
                "#     'estimator__n_estimators': [100],\n",
                "#     'estimator__criterion': ['friedman_mse','mse','mae'],\n",
                "# }\n",
                "\n",
                "# model = GridSearchCV(model,params,cv=5)\n",
                "\n",
                "model.fit(X_train,y_train)\n",
                "\n",
                "print('GradientBoostingRegressor Train Performance.\\n')\n",
                "print(model_perf(model,X_train,y_train))\n",
                "\n",
                "print('GradientBoostingRegressor Test Performance.\\n')\n",
                "print(model_perf(model,X_test,y_test))"
            ],
            "outputs": [
                {
                    "output_type": "stream",
                    "name": "stdout",
                    "text": [
                        "GradientBoostingRegressor Train Performance.\n",
                        "\n",
                        "       RMSE       MAE      MAPE       R^2  Adjusted R^2  \\\n",
                        "0  0.419139  0.314055  2.896082  0.647271      0.646737   \n",
                        "\n",
                        "   Cross Val Score (Mean)  \n",
                        "0                0.598646  \n",
                        "GradientBoostingRegressor Test Performance.\n",
                        "\n",
                        "       RMSE       MAE      MAPE       R^2  Adjusted R^2  \\\n",
                        "0  0.443787  0.329871  3.025058  0.603778      0.601365   \n",
                        "\n",
                        "   Cross Val Score (Mean)  \n",
                        "0                0.558512  \n"
                    ]
                }
            ],
            "metadata": {}
        }
    ],
    "metadata": {
        "orig_nbformat": 4,
        "language_info": {
            "name": "python",
            "version": "3.8.8",
            "mimetype": "text/x-python",
            "codemirror_mode": {
                "name": "ipython",
                "version": 3
            },
            "pygments_lexer": "ipython3",
            "nbconvert_exporter": "python",
            "file_extension": ".py"
        },
        "kernelspec": {
            "name": "python3",
            "display_name": "Python 3.8.8 64-bit ('base': conda)"
        },
        "interpreter": {
            "hash": "d213f6e5b8fd7d14bb00958cfb5f51bfe315e9248ff051fde0d0d79c3d0f4eba"
        }
    },
    "nbformat": 4,
    "nbformat_minor": 2
}