{
    "cells": [
        {
            "cell_type": "code",
            "execution_count": 1,
            "source": [
                "import pandas as pd\n",
                "import numpy as np\n",
                "import matplotlib.pyplot as plt\n",
                "import seaborn as sns"
            ],
            "outputs": [],
            "metadata": {}
        },
        {
            "cell_type": "code",
            "execution_count": 2,
            "source": [
                "df = pd.read_csv('../data/processed/data.csv')"
            ],
            "outputs": [],
            "metadata": {}
        },
        {
            "cell_type": "code",
            "execution_count": 3,
            "source": [
                "df.head()"
            ],
            "outputs": [
                {
                    "output_type": "execute_result",
                    "data": {
                        "text/plain": [
                            "                                 model_name  model_year  kms_driven  \\\n",
                            "0                 Yamaha Fazer Dlx Standard        2014       12600   \n",
                            "1                     Yamaha RX135 Standard        1996       14500   \n",
                            "2   Bajaj Pulsar 150 [2001-2011] Kick Start        2007       51000   \n",
                            "3  Royal Enfield Electra Twinspark Standard        2013       57500   \n",
                            "4        Hero Honda Glamour Alloy Drum Self        2006       69569   \n",
                            "\n",
                            "       owner    location   price  \n",
                            "0  1st Owner     Raigad    34999  \n",
                            "1  2nd Owner    Madurai    85000  \n",
                            "2  2nd Owner  Bangalore    25000  \n",
                            "3  1st Owner  Bangalore   100000  \n",
                            "4  2nd Owner   Azamgarh    21000  "
                        ],
                        "text/html": [
                            "<div>\n",
                            "<style scoped>\n",
                            "    .dataframe tbody tr th:only-of-type {\n",
                            "        vertical-align: middle;\n",
                            "    }\n",
                            "\n",
                            "    .dataframe tbody tr th {\n",
                            "        vertical-align: top;\n",
                            "    }\n",
                            "\n",
                            "    .dataframe thead th {\n",
                            "        text-align: right;\n",
                            "    }\n",
                            "</style>\n",
                            "<table border=\"1\" class=\"dataframe\">\n",
                            "  <thead>\n",
                            "    <tr style=\"text-align: right;\">\n",
                            "      <th></th>\n",
                            "      <th>model_name</th>\n",
                            "      <th>model_year</th>\n",
                            "      <th>kms_driven</th>\n",
                            "      <th>owner</th>\n",
                            "      <th>location</th>\n",
                            "      <th>price</th>\n",
                            "    </tr>\n",
                            "  </thead>\n",
                            "  <tbody>\n",
                            "    <tr>\n",
                            "      <th>0</th>\n",
                            "      <td>Yamaha Fazer Dlx Standard</td>\n",
                            "      <td>2014</td>\n",
                            "      <td>12600</td>\n",
                            "      <td>1st Owner</td>\n",
                            "      <td>Raigad</td>\n",
                            "      <td>34999</td>\n",
                            "    </tr>\n",
                            "    <tr>\n",
                            "      <th>1</th>\n",
                            "      <td>Yamaha RX135 Standard</td>\n",
                            "      <td>1996</td>\n",
                            "      <td>14500</td>\n",
                            "      <td>2nd Owner</td>\n",
                            "      <td>Madurai</td>\n",
                            "      <td>85000</td>\n",
                            "    </tr>\n",
                            "    <tr>\n",
                            "      <th>2</th>\n",
                            "      <td>Bajaj Pulsar 150 [2001-2011] Kick Start</td>\n",
                            "      <td>2007</td>\n",
                            "      <td>51000</td>\n",
                            "      <td>2nd Owner</td>\n",
                            "      <td>Bangalore</td>\n",
                            "      <td>25000</td>\n",
                            "    </tr>\n",
                            "    <tr>\n",
                            "      <th>3</th>\n",
                            "      <td>Royal Enfield Electra Twinspark Standard</td>\n",
                            "      <td>2013</td>\n",
                            "      <td>57500</td>\n",
                            "      <td>1st Owner</td>\n",
                            "      <td>Bangalore</td>\n",
                            "      <td>100000</td>\n",
                            "    </tr>\n",
                            "    <tr>\n",
                            "      <th>4</th>\n",
                            "      <td>Hero Honda Glamour Alloy Drum Self</td>\n",
                            "      <td>2006</td>\n",
                            "      <td>69569</td>\n",
                            "      <td>2nd Owner</td>\n",
                            "      <td>Azamgarh</td>\n",
                            "      <td>21000</td>\n",
                            "    </tr>\n",
                            "  </tbody>\n",
                            "</table>\n",
                            "</div>"
                        ]
                    },
                    "metadata": {},
                    "execution_count": 3
                }
            ],
            "metadata": {}
        },
        {
            "cell_type": "code",
            "execution_count": 4,
            "source": [
                "df.info()"
            ],
            "outputs": [
                {
                    "output_type": "stream",
                    "name": "stdout",
                    "text": [
                        "<class 'pandas.core.frame.DataFrame'>\n",
                        "RangeIndex: 1327 entries, 0 to 1326\n",
                        "Data columns (total 6 columns):\n",
                        " #   Column      Non-Null Count  Dtype \n",
                        "---  ------      --------------  ----- \n",
                        " 0   model_name  1327 non-null   object\n",
                        " 1   model_year  1327 non-null   int64 \n",
                        " 2   kms_driven  1327 non-null   int64 \n",
                        " 3   owner       1327 non-null   object\n",
                        " 4   location    1327 non-null   object\n",
                        " 5   price       1327 non-null   int64 \n",
                        "dtypes: int64(3), object(3)\n",
                        "memory usage: 62.3+ KB\n"
                    ]
                }
            ],
            "metadata": {}
        },
        {
            "cell_type": "markdown",
            "source": [
                "## Feature Engineering"
            ],
            "metadata": {}
        },
        {
            "cell_type": "markdown",
            "source": [
                "### Handle model_name"
            ],
            "metadata": {}
        },
        {
            "cell_type": "code",
            "execution_count": 6,
            "source": [
                "# Let's simplify model_name variable\n",
                "# Take only first 3 words from the value\n",
                "\n",
                "def build_model_name(val):\n",
                "    splits = val.strip().split(' ')\n",
                "\n",
                "    if len(splits) > 3:\n",
                "        return f\"{splits[0]} {splits[1]} {splits[2]}\"\n",
                "    else:\n",
                "        return val.strip()\n",
                "\n",
                "df['model_name'] = df.model_name.apply(build_model_name)\n"
            ],
            "outputs": [],
            "metadata": {}
        },
        {
            "cell_type": "code",
            "execution_count": 7,
            "source": [
                "df.head()"
            ],
            "outputs": [
                {
                    "output_type": "execute_result",
                    "data": {
                        "text/plain": [
                            "              model_name  model_year  kms_driven      owner    location  \\\n",
                            "0       Yamaha Fazer Dlx        2014       12600  1st Owner     Raigad    \n",
                            "1  Yamaha RX135 Standard        1996       14500  2nd Owner    Madurai    \n",
                            "2       Bajaj Pulsar 150        2007       51000  2nd Owner  Bangalore    \n",
                            "3  Royal Enfield Electra        2013       57500  1st Owner  Bangalore    \n",
                            "4     Hero Honda Glamour        2006       69569  2nd Owner   Azamgarh    \n",
                            "\n",
                            "    price  \n",
                            "0   34999  \n",
                            "1   85000  \n",
                            "2   25000  \n",
                            "3  100000  \n",
                            "4   21000  "
                        ],
                        "text/html": [
                            "<div>\n",
                            "<style scoped>\n",
                            "    .dataframe tbody tr th:only-of-type {\n",
                            "        vertical-align: middle;\n",
                            "    }\n",
                            "\n",
                            "    .dataframe tbody tr th {\n",
                            "        vertical-align: top;\n",
                            "    }\n",
                            "\n",
                            "    .dataframe thead th {\n",
                            "        text-align: right;\n",
                            "    }\n",
                            "</style>\n",
                            "<table border=\"1\" class=\"dataframe\">\n",
                            "  <thead>\n",
                            "    <tr style=\"text-align: right;\">\n",
                            "      <th></th>\n",
                            "      <th>model_name</th>\n",
                            "      <th>model_year</th>\n",
                            "      <th>kms_driven</th>\n",
                            "      <th>owner</th>\n",
                            "      <th>location</th>\n",
                            "      <th>price</th>\n",
                            "    </tr>\n",
                            "  </thead>\n",
                            "  <tbody>\n",
                            "    <tr>\n",
                            "      <th>0</th>\n",
                            "      <td>Yamaha Fazer Dlx</td>\n",
                            "      <td>2014</td>\n",
                            "      <td>12600</td>\n",
                            "      <td>1st Owner</td>\n",
                            "      <td>Raigad</td>\n",
                            "      <td>34999</td>\n",
                            "    </tr>\n",
                            "    <tr>\n",
                            "      <th>1</th>\n",
                            "      <td>Yamaha RX135 Standard</td>\n",
                            "      <td>1996</td>\n",
                            "      <td>14500</td>\n",
                            "      <td>2nd Owner</td>\n",
                            "      <td>Madurai</td>\n",
                            "      <td>85000</td>\n",
                            "    </tr>\n",
                            "    <tr>\n",
                            "      <th>2</th>\n",
                            "      <td>Bajaj Pulsar 150</td>\n",
                            "      <td>2007</td>\n",
                            "      <td>51000</td>\n",
                            "      <td>2nd Owner</td>\n",
                            "      <td>Bangalore</td>\n",
                            "      <td>25000</td>\n",
                            "    </tr>\n",
                            "    <tr>\n",
                            "      <th>3</th>\n",
                            "      <td>Royal Enfield Electra</td>\n",
                            "      <td>2013</td>\n",
                            "      <td>57500</td>\n",
                            "      <td>1st Owner</td>\n",
                            "      <td>Bangalore</td>\n",
                            "      <td>100000</td>\n",
                            "    </tr>\n",
                            "    <tr>\n",
                            "      <th>4</th>\n",
                            "      <td>Hero Honda Glamour</td>\n",
                            "      <td>2006</td>\n",
                            "      <td>69569</td>\n",
                            "      <td>2nd Owner</td>\n",
                            "      <td>Azamgarh</td>\n",
                            "      <td>21000</td>\n",
                            "    </tr>\n",
                            "  </tbody>\n",
                            "</table>\n",
                            "</div>"
                        ]
                    },
                    "metadata": {},
                    "execution_count": 7
                }
            ],
            "metadata": {}
        },
        {
            "cell_type": "code",
            "execution_count": 8,
            "source": [
                "print(\"Model name has unique values:\",len(df.model_name.unique()))"
            ],
            "outputs": [
                {
                    "output_type": "stream",
                    "name": "stdout",
                    "text": [
                        "Model name has unique values: 215\n"
                    ]
                }
            ],
            "metadata": {}
        },
        {
            "cell_type": "code",
            "execution_count": 9,
            "source": [
                "top_models = df.model_name.value_counts()[:40].index"
            ],
            "outputs": [],
            "metadata": {}
        },
        {
            "cell_type": "markdown",
            "source": [
                "### Take only top models as main categories & make other categories as \"others\""
            ],
            "metadata": {}
        },
        {
            "cell_type": "code",
            "execution_count": 10,
            "source": [
                "df['model_name'] = df.model_name.apply(lambda x: x if x in list(top_models) else \"others\")"
            ],
            "outputs": [],
            "metadata": {}
        },
        {
            "cell_type": "code",
            "execution_count": 11,
            "source": [
                "df.tail()"
            ],
            "outputs": [
                {
                    "output_type": "execute_result",
                    "data": {
                        "text/plain": [
                            "                model_name  model_year  kms_driven      owner    location  \\\n",
                            "1322                others        2020        6000  1st Owner  Hyderabad    \n",
                            "1323                others        2018       12000  1st Owner   Srinagar    \n",
                            "1324        Yamaha YZF R15        2016       33000  2nd Owner     Gondia    \n",
                            "1325      Honda CB Unicorn        2011       50000  1st Owner     Mumbai    \n",
                            "1326  Bajaj Avenger Street        2016       23600  1st Owner  Bangalore    \n",
                            "\n",
                            "      price  \n",
                            "1322  65000  \n",
                            "1323  65000  \n",
                            "1324  80000  \n",
                            "1325  40000  \n",
                            "1326  60000  "
                        ],
                        "text/html": [
                            "<div>\n",
                            "<style scoped>\n",
                            "    .dataframe tbody tr th:only-of-type {\n",
                            "        vertical-align: middle;\n",
                            "    }\n",
                            "\n",
                            "    .dataframe tbody tr th {\n",
                            "        vertical-align: top;\n",
                            "    }\n",
                            "\n",
                            "    .dataframe thead th {\n",
                            "        text-align: right;\n",
                            "    }\n",
                            "</style>\n",
                            "<table border=\"1\" class=\"dataframe\">\n",
                            "  <thead>\n",
                            "    <tr style=\"text-align: right;\">\n",
                            "      <th></th>\n",
                            "      <th>model_name</th>\n",
                            "      <th>model_year</th>\n",
                            "      <th>kms_driven</th>\n",
                            "      <th>owner</th>\n",
                            "      <th>location</th>\n",
                            "      <th>price</th>\n",
                            "    </tr>\n",
                            "  </thead>\n",
                            "  <tbody>\n",
                            "    <tr>\n",
                            "      <th>1322</th>\n",
                            "      <td>others</td>\n",
                            "      <td>2020</td>\n",
                            "      <td>6000</td>\n",
                            "      <td>1st Owner</td>\n",
                            "      <td>Hyderabad</td>\n",
                            "      <td>65000</td>\n",
                            "    </tr>\n",
                            "    <tr>\n",
                            "      <th>1323</th>\n",
                            "      <td>others</td>\n",
                            "      <td>2018</td>\n",
                            "      <td>12000</td>\n",
                            "      <td>1st Owner</td>\n",
                            "      <td>Srinagar</td>\n",
                            "      <td>65000</td>\n",
                            "    </tr>\n",
                            "    <tr>\n",
                            "      <th>1324</th>\n",
                            "      <td>Yamaha YZF R15</td>\n",
                            "      <td>2016</td>\n",
                            "      <td>33000</td>\n",
                            "      <td>2nd Owner</td>\n",
                            "      <td>Gondia</td>\n",
                            "      <td>80000</td>\n",
                            "    </tr>\n",
                            "    <tr>\n",
                            "      <th>1325</th>\n",
                            "      <td>Honda CB Unicorn</td>\n",
                            "      <td>2011</td>\n",
                            "      <td>50000</td>\n",
                            "      <td>1st Owner</td>\n",
                            "      <td>Mumbai</td>\n",
                            "      <td>40000</td>\n",
                            "    </tr>\n",
                            "    <tr>\n",
                            "      <th>1326</th>\n",
                            "      <td>Bajaj Avenger Street</td>\n",
                            "      <td>2016</td>\n",
                            "      <td>23600</td>\n",
                            "      <td>1st Owner</td>\n",
                            "      <td>Bangalore</td>\n",
                            "      <td>60000</td>\n",
                            "    </tr>\n",
                            "  </tbody>\n",
                            "</table>\n",
                            "</div>"
                        ]
                    },
                    "metadata": {},
                    "execution_count": 11
                }
            ],
            "metadata": {}
        },
        {
            "cell_type": "markdown",
            "source": [
                "### Handle location categories"
            ],
            "metadata": {}
        },
        {
            "cell_type": "code",
            "execution_count": 12,
            "source": [
                "top_locations = df.location.value_counts()[:25].index\n",
                "top_locations"
            ],
            "outputs": [
                {
                    "output_type": "execute_result",
                    "data": {
                        "text/plain": [
                            "Index(['Bangalore ', 'Delhi ', 'Pune ', 'Mumbai ', 'Hyderabad ', 'Chennai ',\n",
                            "       'Ahmedabad ', 'Gurgaon ', 'Kolkata ', 'Thane ', 'Ghaziabad ',\n",
                            "       'Lucknow ', 'Jaipur ', 'Bhopal ', 'Noida ', 'Vijaywada ',\n",
                            "       'Navi Mumbai ', 'Surat ', 'Nagpur ', 'Indore ', 'Bhubaneswar ',\n",
                            "       'Patna ', 'Faridabad ', 'Coimbatore ', 'Rewari '],\n",
                            "      dtype='object')"
                        ]
                    },
                    "metadata": {},
                    "execution_count": 12
                }
            ],
            "metadata": {}
        },
        {
            "cell_type": "markdown",
            "source": [
                "### Take only top locations as main categories & make other categories as \"others\""
            ],
            "metadata": {}
        },
        {
            "cell_type": "code",
            "execution_count": 13,
            "source": [
                "df['location'] = df.location.apply(lambda x: x if x in top_locations else \"others\")"
            ],
            "outputs": [],
            "metadata": {}
        },
        {
            "cell_type": "code",
            "execution_count": 14,
            "source": [
                "df.tail()"
            ],
            "outputs": [
                {
                    "output_type": "execute_result",
                    "data": {
                        "text/plain": [
                            "                model_name  model_year  kms_driven      owner    location  \\\n",
                            "1322                others        2020        6000  1st Owner  Hyderabad    \n",
                            "1323                others        2018       12000  1st Owner      others   \n",
                            "1324        Yamaha YZF R15        2016       33000  2nd Owner      others   \n",
                            "1325      Honda CB Unicorn        2011       50000  1st Owner     Mumbai    \n",
                            "1326  Bajaj Avenger Street        2016       23600  1st Owner  Bangalore    \n",
                            "\n",
                            "      price  \n",
                            "1322  65000  \n",
                            "1323  65000  \n",
                            "1324  80000  \n",
                            "1325  40000  \n",
                            "1326  60000  "
                        ],
                        "text/html": [
                            "<div>\n",
                            "<style scoped>\n",
                            "    .dataframe tbody tr th:only-of-type {\n",
                            "        vertical-align: middle;\n",
                            "    }\n",
                            "\n",
                            "    .dataframe tbody tr th {\n",
                            "        vertical-align: top;\n",
                            "    }\n",
                            "\n",
                            "    .dataframe thead th {\n",
                            "        text-align: right;\n",
                            "    }\n",
                            "</style>\n",
                            "<table border=\"1\" class=\"dataframe\">\n",
                            "  <thead>\n",
                            "    <tr style=\"text-align: right;\">\n",
                            "      <th></th>\n",
                            "      <th>model_name</th>\n",
                            "      <th>model_year</th>\n",
                            "      <th>kms_driven</th>\n",
                            "      <th>owner</th>\n",
                            "      <th>location</th>\n",
                            "      <th>price</th>\n",
                            "    </tr>\n",
                            "  </thead>\n",
                            "  <tbody>\n",
                            "    <tr>\n",
                            "      <th>1322</th>\n",
                            "      <td>others</td>\n",
                            "      <td>2020</td>\n",
                            "      <td>6000</td>\n",
                            "      <td>1st Owner</td>\n",
                            "      <td>Hyderabad</td>\n",
                            "      <td>65000</td>\n",
                            "    </tr>\n",
                            "    <tr>\n",
                            "      <th>1323</th>\n",
                            "      <td>others</td>\n",
                            "      <td>2018</td>\n",
                            "      <td>12000</td>\n",
                            "      <td>1st Owner</td>\n",
                            "      <td>others</td>\n",
                            "      <td>65000</td>\n",
                            "    </tr>\n",
                            "    <tr>\n",
                            "      <th>1324</th>\n",
                            "      <td>Yamaha YZF R15</td>\n",
                            "      <td>2016</td>\n",
                            "      <td>33000</td>\n",
                            "      <td>2nd Owner</td>\n",
                            "      <td>others</td>\n",
                            "      <td>80000</td>\n",
                            "    </tr>\n",
                            "    <tr>\n",
                            "      <th>1325</th>\n",
                            "      <td>Honda CB Unicorn</td>\n",
                            "      <td>2011</td>\n",
                            "      <td>50000</td>\n",
                            "      <td>1st Owner</td>\n",
                            "      <td>Mumbai</td>\n",
                            "      <td>40000</td>\n",
                            "    </tr>\n",
                            "    <tr>\n",
                            "      <th>1326</th>\n",
                            "      <td>Bajaj Avenger Street</td>\n",
                            "      <td>2016</td>\n",
                            "      <td>23600</td>\n",
                            "      <td>1st Owner</td>\n",
                            "      <td>Bangalore</td>\n",
                            "      <td>60000</td>\n",
                            "    </tr>\n",
                            "  </tbody>\n",
                            "</table>\n",
                            "</div>"
                        ]
                    },
                    "metadata": {},
                    "execution_count": 14
                }
            ],
            "metadata": {}
        },
        {
            "cell_type": "code",
            "execution_count": 15,
            "source": [
                "df.owner.unique()[::-1]"
            ],
            "outputs": [
                {
                    "output_type": "execute_result",
                    "data": {
                        "text/plain": [
                            "array(['5th Owner', '4th Owner', '3rd Owner', '2nd Owner', '1st Owner'],\n",
                            "      dtype=object)"
                        ]
                    },
                    "metadata": {},
                    "execution_count": 15
                }
            ],
            "metadata": {}
        },
        {
            "cell_type": "markdown",
            "source": [
                "## Split Data"
            ],
            "metadata": {}
        },
        {
            "cell_type": "code",
            "execution_count": 16,
            "source": [
                "X = df.drop('price',axis=1)\n",
                "y = df['price']"
            ],
            "outputs": [],
            "metadata": {}
        },
        {
            "cell_type": "code",
            "execution_count": 17,
            "source": [
                "from sklearn.model_selection import train_test_split\n",
                "X_train,X_test,y_train,y_test = train_test_split(X,y,random_state=1234)"
            ],
            "outputs": [],
            "metadata": {}
        },
        {
            "cell_type": "code",
            "execution_count": 18,
            "source": [
                "X_train.head()"
            ],
            "outputs": [
                {
                    "output_type": "execute_result",
                    "data": {
                        "text/plain": [
                            "                   model_name  model_year  kms_driven      owner    location\n",
                            "643        Bajaj Pulsar NS200        2013       90000  1st Owner       Pune \n",
                            "919          Honda CB Unicorn        2009       95000  1st Owner      others\n",
                            "680                    others        2003       49000  1st Owner      others\n",
                            "778  Honda Activa [2000-2015]        2009       41000  1st Owner    Gurgaon \n",
                            "641     Royal Enfield Classic        2020       11000  1st Owner  Bangalore "
                        ],
                        "text/html": [
                            "<div>\n",
                            "<style scoped>\n",
                            "    .dataframe tbody tr th:only-of-type {\n",
                            "        vertical-align: middle;\n",
                            "    }\n",
                            "\n",
                            "    .dataframe tbody tr th {\n",
                            "        vertical-align: top;\n",
                            "    }\n",
                            "\n",
                            "    .dataframe thead th {\n",
                            "        text-align: right;\n",
                            "    }\n",
                            "</style>\n",
                            "<table border=\"1\" class=\"dataframe\">\n",
                            "  <thead>\n",
                            "    <tr style=\"text-align: right;\">\n",
                            "      <th></th>\n",
                            "      <th>model_name</th>\n",
                            "      <th>model_year</th>\n",
                            "      <th>kms_driven</th>\n",
                            "      <th>owner</th>\n",
                            "      <th>location</th>\n",
                            "    </tr>\n",
                            "  </thead>\n",
                            "  <tbody>\n",
                            "    <tr>\n",
                            "      <th>643</th>\n",
                            "      <td>Bajaj Pulsar NS200</td>\n",
                            "      <td>2013</td>\n",
                            "      <td>90000</td>\n",
                            "      <td>1st Owner</td>\n",
                            "      <td>Pune</td>\n",
                            "    </tr>\n",
                            "    <tr>\n",
                            "      <th>919</th>\n",
                            "      <td>Honda CB Unicorn</td>\n",
                            "      <td>2009</td>\n",
                            "      <td>95000</td>\n",
                            "      <td>1st Owner</td>\n",
                            "      <td>others</td>\n",
                            "    </tr>\n",
                            "    <tr>\n",
                            "      <th>680</th>\n",
                            "      <td>others</td>\n",
                            "      <td>2003</td>\n",
                            "      <td>49000</td>\n",
                            "      <td>1st Owner</td>\n",
                            "      <td>others</td>\n",
                            "    </tr>\n",
                            "    <tr>\n",
                            "      <th>778</th>\n",
                            "      <td>Honda Activa [2000-2015]</td>\n",
                            "      <td>2009</td>\n",
                            "      <td>41000</td>\n",
                            "      <td>1st Owner</td>\n",
                            "      <td>Gurgaon</td>\n",
                            "    </tr>\n",
                            "    <tr>\n",
                            "      <th>641</th>\n",
                            "      <td>Royal Enfield Classic</td>\n",
                            "      <td>2020</td>\n",
                            "      <td>11000</td>\n",
                            "      <td>1st Owner</td>\n",
                            "      <td>Bangalore</td>\n",
                            "    </tr>\n",
                            "  </tbody>\n",
                            "</table>\n",
                            "</div>"
                        ]
                    },
                    "metadata": {},
                    "execution_count": 18
                }
            ],
            "metadata": {}
        },
        {
            "cell_type": "markdown",
            "source": [
                "## Create column transformer for encoding"
            ],
            "metadata": {}
        },
        {
            "cell_type": "code",
            "execution_count": 19,
            "source": [
                "from sklearn.compose import ColumnTransformer\n",
                "from sklearn.preprocessing import OneHotEncoder,OrdinalEncoder,MinMaxScaler\n"
            ],
            "outputs": [],
            "metadata": {}
        },
        {
            "cell_type": "code",
            "execution_count": 20,
            "source": [
                "owner_categories = list(df.owner.unique()[::-1])\n",
                "owner_categories"
            ],
            "outputs": [
                {
                    "output_type": "execute_result",
                    "data": {
                        "text/plain": [
                            "['5th Owner', '4th Owner', '3rd Owner', '2nd Owner', '1st Owner']"
                        ]
                    },
                    "metadata": {},
                    "execution_count": 20
                }
            ],
            "metadata": {}
        },
        {
            "cell_type": "code",
            "execution_count": 21,
            "source": [
                "column_transformer = ColumnTransformer([\n",
                "    (\"model_name_ohe\",OneHotEncoder(dtype=np.int16,sparse=False,handle_unknown='ignore'),[0]),\n",
                "    (\"kms_driven_min_max_scaler\",MinMaxScaler(),[2]),\n",
                "    (\"owner_ordinal_enc\",OrdinalEncoder(categories='auto',handle_unknown='ignore',dtype=np.int16),[3]),\n",
                "    (\"location_ohe\",OneHotEncoder(dtype=np.int16, sparse=False,handle_unknown='ignore'),[4]),\n",
                "],remainder='passthrough')\n",
                "\n"
            ],
            "outputs": [],
            "metadata": {}
        },
        {
            "cell_type": "markdown",
            "source": [
                "## Model Building"
            ],
            "metadata": {}
        },
        {
            "cell_type": "code",
            "execution_count": 22,
            "source": [
                "from sklearn.pipeline import Pipeline\n",
                "from sklearn.linear_model import LinearRegression\n",
                "from sklearn.ensemble import RandomForestRegressor\n",
                "\n",
                "from sklearn import set_config\n",
                "\n",
                "set_config(display='diagram')"
            ],
            "outputs": [],
            "metadata": {}
        },
        {
            "cell_type": "code",
            "execution_count": 23,
            "source": [
                "def build_pipeline_with_estimator(estimator):\n",
                "    return Pipeline([\n",
                "    ('transformer',column_transformer),\n",
                "    ('estimator',estimator),\n",
                "])\n"
            ],
            "outputs": [],
            "metadata": {}
        },
        {
            "cell_type": "code",
            "execution_count": 24,
            "source": [
                "from sklearn.metrics import r2_score,mean_squared_error,mean_absolute_error\n",
                "from sklearn.model_selection import cross_val_score\n",
                "# MAPE\n",
                "def mape(targets, predictions):\n",
                "    return np.mean(np.abs((targets - predictions)) / targets) * 100\n",
                "\n",
                "# Adjusted R^2\n",
                "def adj_r2(ind_vars, targets, predictions):\n",
                "    r2 = r2_score(targets, predictions)\n",
                "    n = ind_vars.shape[0]\n",
                "    k = ind_vars.shape[1]\n",
                "    return 1-((1-r2)*(n-1)/(n-k-1))\n",
                "\n",
                "# Model performance check\n",
                "def model_perf(model, inp, out):\n",
                "\n",
                "    y_pred = model.predict(inp)\n",
                "    y_act = out.values\n",
                "\n",
                "    cross_val = cross_val_score(model, inp,out,cv=10)\n",
                "    \n",
                "\n",
                "    return pd.DataFrame({\n",
                "                \"RMSE\": np.sqrt(mean_squared_error(y_act, y_pred)),\n",
                "                \"MAE\": mean_absolute_error(y_act, y_pred),\n",
                "                \"MAPE\": mape(y_act, y_pred),\n",
                "                \"R^2\": r2_score(y_act, y_pred),\n",
                "                \"Adjusted R^2\": adj_r2(inp, y_act, y_pred),\n",
                "                \"Cross Val Score (Mean)\": cross_val.mean()\n",
                "           }, index=[0])"
            ],
            "outputs": [],
            "metadata": {}
        },
        {
            "cell_type": "code",
            "execution_count": 25,
            "source": [
                "liner_regressor = build_pipeline_with_estimator(LinearRegression())\n",
                "liner_regressor.fit(X_train,y_train)\n",
                "\n",
                "print('Linear Regression Train Performance.\\n')\n",
                "model_perf(liner_regressor,X_train,y_train)"
            ],
            "outputs": [
                {
                    "output_type": "stream",
                    "name": "stdout",
                    "text": [
                        "Linear Regression Train Performance.\n",
                        "\n"
                    ]
                },
                {
                    "output_type": "execute_result",
                    "data": {
                        "text/plain": [
                            "           RMSE          MAE       MAPE       R^2  Adjusted R^2  \\\n",
                            "0  99646.388638  36220.59799  75.636546  0.246927       0.24312   \n",
                            "\n",
                            "   Cross Val Score (Mean)  \n",
                            "0                0.285164  "
                        ],
                        "text/html": [
                            "<div>\n",
                            "<style scoped>\n",
                            "    .dataframe tbody tr th:only-of-type {\n",
                            "        vertical-align: middle;\n",
                            "    }\n",
                            "\n",
                            "    .dataframe tbody tr th {\n",
                            "        vertical-align: top;\n",
                            "    }\n",
                            "\n",
                            "    .dataframe thead th {\n",
                            "        text-align: right;\n",
                            "    }\n",
                            "</style>\n",
                            "<table border=\"1\" class=\"dataframe\">\n",
                            "  <thead>\n",
                            "    <tr style=\"text-align: right;\">\n",
                            "      <th></th>\n",
                            "      <th>RMSE</th>\n",
                            "      <th>MAE</th>\n",
                            "      <th>MAPE</th>\n",
                            "      <th>R^2</th>\n",
                            "      <th>Adjusted R^2</th>\n",
                            "      <th>Cross Val Score (Mean)</th>\n",
                            "    </tr>\n",
                            "  </thead>\n",
                            "  <tbody>\n",
                            "    <tr>\n",
                            "      <th>0</th>\n",
                            "      <td>99646.388638</td>\n",
                            "      <td>36220.59799</td>\n",
                            "      <td>75.636546</td>\n",
                            "      <td>0.246927</td>\n",
                            "      <td>0.24312</td>\n",
                            "      <td>0.285164</td>\n",
                            "    </tr>\n",
                            "  </tbody>\n",
                            "</table>\n",
                            "</div>"
                        ]
                    },
                    "metadata": {},
                    "execution_count": 25
                }
            ],
            "metadata": {}
        },
        {
            "cell_type": "code",
            "execution_count": 26,
            "source": [
                "from sklearn.ensemble import RandomForestRegressor\n",
                "\n",
                "rf = build_pipeline_with_estimator(RandomForestRegressor())\n",
                "\n",
                "rf.fit(X_train,y_train)\n",
                "\n",
                "print('RandomForest Train Performance.\\n')\n",
                "model_perf(rf,X_train,y_train)"
            ],
            "outputs": [
                {
                    "output_type": "stream",
                    "name": "stdout",
                    "text": [
                        "RandomForest Train Performance.\n",
                        "\n"
                    ]
                },
                {
                    "output_type": "execute_result",
                    "data": {
                        "text/plain": [
                            "           RMSE           MAE       MAPE       R^2  Adjusted R^2  \\\n",
                            "0  45858.979792  11742.020151  14.270398  0.840499      0.839693   \n",
                            "\n",
                            "   Cross Val Score (Mean)  \n",
                            "0                0.114848  "
                        ],
                        "text/html": [
                            "<div>\n",
                            "<style scoped>\n",
                            "    .dataframe tbody tr th:only-of-type {\n",
                            "        vertical-align: middle;\n",
                            "    }\n",
                            "\n",
                            "    .dataframe tbody tr th {\n",
                            "        vertical-align: top;\n",
                            "    }\n",
                            "\n",
                            "    .dataframe thead th {\n",
                            "        text-align: right;\n",
                            "    }\n",
                            "</style>\n",
                            "<table border=\"1\" class=\"dataframe\">\n",
                            "  <thead>\n",
                            "    <tr style=\"text-align: right;\">\n",
                            "      <th></th>\n",
                            "      <th>RMSE</th>\n",
                            "      <th>MAE</th>\n",
                            "      <th>MAPE</th>\n",
                            "      <th>R^2</th>\n",
                            "      <th>Adjusted R^2</th>\n",
                            "      <th>Cross Val Score (Mean)</th>\n",
                            "    </tr>\n",
                            "  </thead>\n",
                            "  <tbody>\n",
                            "    <tr>\n",
                            "      <th>0</th>\n",
                            "      <td>45858.979792</td>\n",
                            "      <td>11742.020151</td>\n",
                            "      <td>14.270398</td>\n",
                            "      <td>0.840499</td>\n",
                            "      <td>0.839693</td>\n",
                            "      <td>0.114848</td>\n",
                            "    </tr>\n",
                            "  </tbody>\n",
                            "</table>\n",
                            "</div>"
                        ]
                    },
                    "metadata": {},
                    "execution_count": 26
                }
            ],
            "metadata": {}
        },
        {
            "cell_type": "code",
            "execution_count": 27,
            "source": [
                "rf2 = build_pipeline_with_estimator(RandomForestRegressor())\n",
                "\n",
                "rf2.fit(X_train,y_train)\n",
                "\n",
                "y_pred = rf2.predict(X_test)\n",
                "\n",
                "print('R2 score',r2_score(y_test,y_pred))"
            ],
            "outputs": [
                {
                    "output_type": "stream",
                    "name": "stdout",
                    "text": [
                        "R2 score 0.2850990545035412\n"
                    ]
                }
            ],
            "metadata": {}
        },
        {
            "cell_type": "code",
            "execution_count": 28,
            "source": [
                "from sklearn.linear_model import Lasso\n",
                "\n",
                "model = build_pipeline_with_estimator(Lasso())\n",
                "\n",
                "model.fit(X_train,y_train)\n",
                "\n",
                "print('Lasso Train Performance.\\n')\n",
                "model_perf(model,X_train,y_train)"
            ],
            "outputs": [
                {
                    "output_type": "stream",
                    "name": "stdout",
                    "text": [
                        "Lasso Train Performance.\n",
                        "\n"
                    ]
                },
                {
                    "output_type": "stream",
                    "name": "stderr",
                    "text": [
                        "/home/ropali/anaconda3/lib/python3.8/site-packages/sklearn/linear_model/_coordinate_descent.py:530: ConvergenceWarning: Objective did not converge. You might want to increase the number of iterations. Duality gap: 11800706829.425781, tolerance: 1282982095.916661\n",
                        "  model = cd_fast.enet_coordinate_descent(\n",
                        "/home/ropali/anaconda3/lib/python3.8/site-packages/sklearn/linear_model/_coordinate_descent.py:530: ConvergenceWarning: Objective did not converge. You might want to increase the number of iterations. Duality gap: 516881260265.04004, tolerance: 1182268281.2842429\n",
                        "  model = cd_fast.enet_coordinate_descent(\n",
                        "/home/ropali/anaconda3/lib/python3.8/site-packages/sklearn/linear_model/_coordinate_descent.py:530: ConvergenceWarning: Objective did not converge. You might want to increase the number of iterations. Duality gap: 10814062730.59961, tolerance: 1204930793.6648176\n",
                        "  model = cd_fast.enet_coordinate_descent(\n",
                        "/home/ropali/anaconda3/lib/python3.8/site-packages/sklearn/linear_model/_coordinate_descent.py:530: ConvergenceWarning: Objective did not converge. You might want to increase the number of iterations. Duality gap: 3736978126.953125, tolerance: 1240403367.3921914\n",
                        "  model = cd_fast.enet_coordinate_descent(\n",
                        "/home/ropali/anaconda3/lib/python3.8/site-packages/sklearn/linear_model/_coordinate_descent.py:530: ConvergenceWarning: Objective did not converge. You might want to increase the number of iterations. Duality gap: 8267848482.369629, tolerance: 726663821.4351497\n",
                        "  model = cd_fast.enet_coordinate_descent(\n",
                        "/home/ropali/anaconda3/lib/python3.8/site-packages/sklearn/linear_model/_coordinate_descent.py:530: ConvergenceWarning: Objective did not converge. You might want to increase the number of iterations. Duality gap: 9662993413.36914, tolerance: 1103492811.4997883\n",
                        "  model = cd_fast.enet_coordinate_descent(\n",
                        "/home/ropali/anaconda3/lib/python3.8/site-packages/sklearn/linear_model/_coordinate_descent.py:530: ConvergenceWarning: Objective did not converge. You might want to increase the number of iterations. Duality gap: 12024522741.498047, tolerance: 1283153127.1268125\n",
                        "  model = cd_fast.enet_coordinate_descent(\n",
                        "/home/ropali/anaconda3/lib/python3.8/site-packages/sklearn/linear_model/_coordinate_descent.py:530: ConvergenceWarning: Objective did not converge. You might want to increase the number of iterations. Duality gap: 162038779608.50684, tolerance: 1262424688.6528685\n",
                        "  model = cd_fast.enet_coordinate_descent(\n"
                    ]
                },
                {
                    "output_type": "execute_result",
                    "data": {
                        "text/plain": [
                            "           RMSE           MAE       MAPE       R^2  Adjusted R^2  \\\n",
                            "0  99646.336849  36217.660794  75.601018  0.246928       0.24312   \n",
                            "\n",
                            "   Cross Val Score (Mean)  \n",
                            "0                0.284009  "
                        ],
                        "text/html": [
                            "<div>\n",
                            "<style scoped>\n",
                            "    .dataframe tbody tr th:only-of-type {\n",
                            "        vertical-align: middle;\n",
                            "    }\n",
                            "\n",
                            "    .dataframe tbody tr th {\n",
                            "        vertical-align: top;\n",
                            "    }\n",
                            "\n",
                            "    .dataframe thead th {\n",
                            "        text-align: right;\n",
                            "    }\n",
                            "</style>\n",
                            "<table border=\"1\" class=\"dataframe\">\n",
                            "  <thead>\n",
                            "    <tr style=\"text-align: right;\">\n",
                            "      <th></th>\n",
                            "      <th>RMSE</th>\n",
                            "      <th>MAE</th>\n",
                            "      <th>MAPE</th>\n",
                            "      <th>R^2</th>\n",
                            "      <th>Adjusted R^2</th>\n",
                            "      <th>Cross Val Score (Mean)</th>\n",
                            "    </tr>\n",
                            "  </thead>\n",
                            "  <tbody>\n",
                            "    <tr>\n",
                            "      <th>0</th>\n",
                            "      <td>99646.336849</td>\n",
                            "      <td>36217.660794</td>\n",
                            "      <td>75.601018</td>\n",
                            "      <td>0.246928</td>\n",
                            "      <td>0.24312</td>\n",
                            "      <td>0.284009</td>\n",
                            "    </tr>\n",
                            "  </tbody>\n",
                            "</table>\n",
                            "</div>"
                        ]
                    },
                    "metadata": {},
                    "execution_count": 28
                }
            ],
            "metadata": {}
        }
    ],
    "metadata": {
        "orig_nbformat": 4,
        "language_info": {
            "name": "python",
            "version": "3.8.8",
            "mimetype": "text/x-python",
            "codemirror_mode": {
                "name": "ipython",
                "version": 3
            },
            "pygments_lexer": "ipython3",
            "nbconvert_exporter": "python",
            "file_extension": ".py"
        },
        "kernelspec": {
            "name": "python3",
            "display_name": "Python 3.8.8 64-bit ('base': conda)"
        },
        "interpreter": {
            "hash": "d213f6e5b8fd7d14bb00958cfb5f51bfe315e9248ff051fde0d0d79c3d0f4eba"
        }
    },
    "nbformat": 4,
    "nbformat_minor": 2
}