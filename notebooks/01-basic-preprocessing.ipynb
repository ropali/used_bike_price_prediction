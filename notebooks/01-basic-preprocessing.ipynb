{
    "cells": [
        {
            "cell_type": "code",
            "execution_count": 1,
            "source": [
                "import pandas as pd\n",
                "import numpy as np\n",
                "import matplotlib.pyplot as plt\n",
                "import seaborn as sns"
            ],
            "outputs": [],
            "metadata": {}
        },
        {
            "cell_type": "code",
            "execution_count": 2,
            "source": [
                "df = pd.read_csv('../data/raw/data.csv')"
            ],
            "outputs": [],
            "metadata": {}
        },
        {
            "cell_type": "code",
            "execution_count": 3,
            "source": [
                "df.shape"
            ],
            "outputs": [
                {
                    "output_type": "execute_result",
                    "data": {
                        "text/plain": [
                            "(9630, 10)"
                        ]
                    },
                    "metadata": {},
                    "execution_count": 3
                }
            ],
            "metadata": {}
        },
        {
            "cell_type": "code",
            "execution_count": 4,
            "source": [
                "df.head()"
            ],
            "outputs": [
                {
                    "output_type": "execute_result",
                    "data": {
                        "text/html": [
                            "<div>\n",
                            "<style scoped>\n",
                            "    .dataframe tbody tr th:only-of-type {\n",
                            "        vertical-align: middle;\n",
                            "    }\n",
                            "\n",
                            "    .dataframe tbody tr th {\n",
                            "        vertical-align: top;\n",
                            "    }\n",
                            "\n",
                            "    .dataframe thead th {\n",
                            "        text-align: right;\n",
                            "    }\n",
                            "</style>\n",
                            "<table border=\"1\" class=\"dataframe\">\n",
                            "  <thead>\n",
                            "    <tr style=\"text-align: right;\">\n",
                            "      <th></th>\n",
                            "      <th>model_name</th>\n",
                            "      <th>model_year</th>\n",
                            "      <th>kms_driven</th>\n",
                            "      <th>owner</th>\n",
                            "      <th>location</th>\n",
                            "      <th>mileage</th>\n",
                            "      <th>engine</th>\n",
                            "      <th>power</th>\n",
                            "      <th>wheel_size</th>\n",
                            "      <th>price</th>\n",
                            "    </tr>\n",
                            "  </thead>\n",
                            "  <tbody>\n",
                            "    <tr>\n",
                            "      <th>0</th>\n",
                            "      <td>Bajaj Pulsar 180cc 2016</td>\n",
                            "      <td>2016</td>\n",
                            "      <td>19718 Km</td>\n",
                            "      <td>first owner</td>\n",
                            "      <td>bangalore</td>\n",
                            "      <td>\\n\\n 65 kmpl</td>\n",
                            "      <td>NaN</td>\n",
                            "      <td>17 bhp</td>\n",
                            "      <td>NaN</td>\n",
                            "      <td>55000</td>\n",
                            "    </tr>\n",
                            "    <tr>\n",
                            "      <th>1</th>\n",
                            "      <td>Jawa Perak 330cc 2020</td>\n",
                            "      <td>2020</td>\n",
                            "      <td>2000 Km</td>\n",
                            "      <td>first owner</td>\n",
                            "      <td>bangalore</td>\n",
                            "      <td>\\n\\n</td>\n",
                            "      <td>NaN</td>\n",
                            "      <td>30 bhp</td>\n",
                            "      <td>NaN</td>\n",
                            "      <td>197500</td>\n",
                            "    </tr>\n",
                            "    <tr>\n",
                            "      <th>2</th>\n",
                            "      <td>TVS Apache RTR 200 4V Dual Channel ABS BS6 2020</td>\n",
                            "      <td>2020</td>\n",
                            "      <td>Mileage 40 Kmpl</td>\n",
                            "      <td>first owner</td>\n",
                            "      <td>hyderabad</td>\n",
                            "      <td>\\n\\n 40 Kmpl</td>\n",
                            "      <td>NaN</td>\n",
                            "      <td>20.21 bhp</td>\n",
                            "      <td>NaN</td>\n",
                            "      <td>130500</td>\n",
                            "    </tr>\n",
                            "    <tr>\n",
                            "      <th>3</th>\n",
                            "      <td>KTM Duke 200cc 2012</td>\n",
                            "      <td>2012</td>\n",
                            "      <td>24561 Km</td>\n",
                            "      <td>third owner</td>\n",
                            "      <td>bangalore</td>\n",
                            "      <td>\\n\\n 35 kmpl</td>\n",
                            "      <td>NaN</td>\n",
                            "      <td>25 bhp</td>\n",
                            "      <td>NaN</td>\n",
                            "      <td>63400</td>\n",
                            "    </tr>\n",
                            "    <tr>\n",
                            "      <th>4</th>\n",
                            "      <td>Royal Enfield Bullet Electra 350cc 2011</td>\n",
                            "      <td>2011</td>\n",
                            "      <td>38998 Km</td>\n",
                            "      <td>first owner</td>\n",
                            "      <td>bangalore</td>\n",
                            "      <td>\\n\\n 40 kmpl</td>\n",
                            "      <td>NaN</td>\n",
                            "      <td>19.8 Bhp</td>\n",
                            "      <td>NaN</td>\n",
                            "      <td>95000</td>\n",
                            "    </tr>\n",
                            "  </tbody>\n",
                            "</table>\n",
                            "</div>"
                        ],
                        "text/plain": [
                            "                                        model_name  model_year  \\\n",
                            "0                          Bajaj Pulsar 180cc 2016        2016   \n",
                            "1                            Jawa Perak 330cc 2020        2020   \n",
                            "2  TVS Apache RTR 200 4V Dual Channel ABS BS6 2020        2020   \n",
                            "3                              KTM Duke 200cc 2012        2012   \n",
                            "4          Royal Enfield Bullet Electra 350cc 2011        2011   \n",
                            "\n",
                            "        kms_driven        owner   location       mileage  engine      power  \\\n",
                            "0         19718 Km  first owner  bangalore  \\n\\n 65 kmpl     NaN     17 bhp   \n",
                            "1          2000 Km  first owner  bangalore         \\n\\n      NaN     30 bhp   \n",
                            "2  Mileage 40 Kmpl  first owner  hyderabad  \\n\\n 40 Kmpl     NaN  20.21 bhp   \n",
                            "3         24561 Km  third owner  bangalore  \\n\\n 35 kmpl     NaN     25 bhp   \n",
                            "4         38998 Km  first owner  bangalore  \\n\\n 40 kmpl     NaN   19.8 Bhp   \n",
                            "\n",
                            "   wheel_size   price  \n",
                            "0         NaN   55000  \n",
                            "1         NaN  197500  \n",
                            "2         NaN  130500  \n",
                            "3         NaN   63400  \n",
                            "4         NaN   95000  "
                        ]
                    },
                    "metadata": {},
                    "execution_count": 4
                }
            ],
            "metadata": {}
        },
        {
            "cell_type": "code",
            "execution_count": 5,
            "source": [
                "df.tail(10)"
            ],
            "outputs": [
                {
                    "output_type": "execute_result",
                    "data": {
                        "text/html": [
                            "<div>\n",
                            "<style scoped>\n",
                            "    .dataframe tbody tr th:only-of-type {\n",
                            "        vertical-align: middle;\n",
                            "    }\n",
                            "\n",
                            "    .dataframe tbody tr th {\n",
                            "        vertical-align: top;\n",
                            "    }\n",
                            "\n",
                            "    .dataframe thead th {\n",
                            "        text-align: right;\n",
                            "    }\n",
                            "</style>\n",
                            "<table border=\"1\" class=\"dataframe\">\n",
                            "  <thead>\n",
                            "    <tr style=\"text-align: right;\">\n",
                            "      <th></th>\n",
                            "      <th>model_name</th>\n",
                            "      <th>model_year</th>\n",
                            "      <th>kms_driven</th>\n",
                            "      <th>owner</th>\n",
                            "      <th>location</th>\n",
                            "      <th>mileage</th>\n",
                            "      <th>engine</th>\n",
                            "      <th>power</th>\n",
                            "      <th>wheel_size</th>\n",
                            "      <th>price</th>\n",
                            "    </tr>\n",
                            "  </thead>\n",
                            "  <tbody>\n",
                            "    <tr>\n",
                            "      <th>9620</th>\n",
                            "      <td>Husqvarna Svartpilen 250 2020</td>\n",
                            "      <td>2020</td>\n",
                            "      <td>7000 Km</td>\n",
                            "      <td>first owner</td>\n",
                            "      <td>mumbai</td>\n",
                            "      <td>\\n\\n 31.85 kmpl</td>\n",
                            "      <td>NaN</td>\n",
                            "      <td>29.63 bhp</td>\n",
                            "      <td>NaN</td>\n",
                            "      <td>197125</td>\n",
                            "    </tr>\n",
                            "    <tr>\n",
                            "      <th>9621</th>\n",
                            "      <td>KTM RC 200cc ABS BS6 2021</td>\n",
                            "      <td>2021</td>\n",
                            "      <td>5700 Km</td>\n",
                            "      <td>first owner</td>\n",
                            "      <td>mumbai</td>\n",
                            "      <td>\\n\\n 35 kmpl</td>\n",
                            "      <td>NaN</td>\n",
                            "      <td>24.6 bhp</td>\n",
                            "      <td>NaN</td>\n",
                            "      <td>207500</td>\n",
                            "    </tr>\n",
                            "    <tr>\n",
                            "      <th>9622</th>\n",
                            "      <td>Bajaj Dominar 400 2017</td>\n",
                            "      <td>2017</td>\n",
                            "      <td>16000 Km</td>\n",
                            "      <td>first owner</td>\n",
                            "      <td>bangalore</td>\n",
                            "      <td>NaN</td>\n",
                            "      <td>NaN</td>\n",
                            "      <td>34.50 bhp @ 8,000 rpm</td>\n",
                            "      <td>NaN</td>\n",
                            "      <td>150000</td>\n",
                            "    </tr>\n",
                            "    <tr>\n",
                            "      <th>9623</th>\n",
                            "      <td>Royal Enfield Classic 350cc ABS BS6 2020</td>\n",
                            "      <td>2020</td>\n",
                            "      <td>9000 Km</td>\n",
                            "      <td>first owner</td>\n",
                            "      <td>mumbai</td>\n",
                            "      <td>\\n\\n 35 kmpl</td>\n",
                            "      <td>NaN</td>\n",
                            "      <td>19.1 bhp</td>\n",
                            "      <td>NaN</td>\n",
                            "      <td>207500</td>\n",
                            "    </tr>\n",
                            "    <tr>\n",
                            "      <th>9624</th>\n",
                            "      <td>Bajaj Pulsar 220cc 2017</td>\n",
                            "      <td>2017</td>\n",
                            "      <td>20864 Km</td>\n",
                            "      <td>first owner</td>\n",
                            "      <td>delhi</td>\n",
                            "      <td>\\n\\n 38 kmpl</td>\n",
                            "      <td>NaN</td>\n",
                            "      <td>21 bhp</td>\n",
                            "      <td>NaN</td>\n",
                            "      <td>55000</td>\n",
                            "    </tr>\n",
                            "    <tr>\n",
                            "      <th>9625</th>\n",
                            "      <td>Royal Enfield Thunderbird X 350cc ABS 2019</td>\n",
                            "      <td>2019</td>\n",
                            "      <td>9000 Km</td>\n",
                            "      <td>first owner</td>\n",
                            "      <td>mumbai</td>\n",
                            "      <td>\\n\\n</td>\n",
                            "      <td>NaN</td>\n",
                            "      <td>19.80 bhp</td>\n",
                            "      <td>NaN</td>\n",
                            "      <td>166000</td>\n",
                            "    </tr>\n",
                            "    <tr>\n",
                            "      <th>9626</th>\n",
                            "      <td>Yamaha SZ RR V 2.0 150cc 2013</td>\n",
                            "      <td>2013</td>\n",
                            "      <td>37788 Km</td>\n",
                            "      <td>first owner</td>\n",
                            "      <td>siliguri</td>\n",
                            "      <td>NaN</td>\n",
                            "      <td>NaN</td>\n",
                            "      <td>11.90 bhp @ 7,500 rpm</td>\n",
                            "      <td>NaN</td>\n",
                            "      <td>43000</td>\n",
                            "    </tr>\n",
                            "    <tr>\n",
                            "      <th>9627</th>\n",
                            "      <td>Honda CBF Stunner 125cc 2011</td>\n",
                            "      <td>2011</td>\n",
                            "      <td>22000 Km</td>\n",
                            "      <td>first owner</td>\n",
                            "      <td>mohali</td>\n",
                            "      <td>NaN</td>\n",
                            "      <td>NaN</td>\n",
                            "      <td>11 Bhp @ 8000 rpm</td>\n",
                            "      <td>NaN</td>\n",
                            "      <td>21000</td>\n",
                            "    </tr>\n",
                            "    <tr>\n",
                            "      <th>9628</th>\n",
                            "      <td>Honda CB ShineSP 125cc Disc 2018</td>\n",
                            "      <td>2018</td>\n",
                            "      <td>Mileage 65 Kmpl</td>\n",
                            "      <td>first owner</td>\n",
                            "      <td>kukatpally</td>\n",
                            "      <td>\\n\\n 65 Kmpl</td>\n",
                            "      <td>NaN</td>\n",
                            "      <td>10 bhp</td>\n",
                            "      <td>NaN</td>\n",
                            "      <td>70000</td>\n",
                            "    </tr>\n",
                            "    <tr>\n",
                            "      <th>9629</th>\n",
                            "      <td>Honda CB Hornet 160R  ABS DLX 2019</td>\n",
                            "      <td>2019</td>\n",
                            "      <td>Mileage 52 Kmpl</td>\n",
                            "      <td>first owner</td>\n",
                            "      <td>patna</td>\n",
                            "      <td>\\n\\n 52 Kmpl</td>\n",
                            "      <td>NaN</td>\n",
                            "      <td>15.44 bhp</td>\n",
                            "      <td>NaN</td>\n",
                            "      <td>82000</td>\n",
                            "    </tr>\n",
                            "  </tbody>\n",
                            "</table>\n",
                            "</div>"
                        ],
                        "text/plain": [
                            "                                      model_name  model_year       kms_driven  \\\n",
                            "9620               Husqvarna Svartpilen 250 2020        2020          7000 Km   \n",
                            "9621                   KTM RC 200cc ABS BS6 2021        2021          5700 Km   \n",
                            "9622                      Bajaj Dominar 400 2017        2017         16000 Km   \n",
                            "9623    Royal Enfield Classic 350cc ABS BS6 2020        2020          9000 Km   \n",
                            "9624                     Bajaj Pulsar 220cc 2017        2017         20864 Km   \n",
                            "9625  Royal Enfield Thunderbird X 350cc ABS 2019        2019          9000 Km   \n",
                            "9626               Yamaha SZ RR V 2.0 150cc 2013        2013         37788 Km   \n",
                            "9627                Honda CBF Stunner 125cc 2011        2011         22000 Km   \n",
                            "9628            Honda CB ShineSP 125cc Disc 2018        2018  Mileage 65 Kmpl   \n",
                            "9629          Honda CB Hornet 160R  ABS DLX 2019        2019  Mileage 52 Kmpl   \n",
                            "\n",
                            "            owner    location          mileage  engine                  power  \\\n",
                            "9620  first owner      mumbai  \\n\\n 31.85 kmpl     NaN              29.63 bhp   \n",
                            "9621  first owner      mumbai     \\n\\n 35 kmpl     NaN               24.6 bhp   \n",
                            "9622  first owner   bangalore              NaN     NaN  34.50 bhp @ 8,000 rpm   \n",
                            "9623  first owner      mumbai     \\n\\n 35 kmpl     NaN               19.1 bhp   \n",
                            "9624  first owner       delhi     \\n\\n 38 kmpl     NaN                 21 bhp   \n",
                            "9625  first owner      mumbai            \\n\\n      NaN              19.80 bhp   \n",
                            "9626  first owner    siliguri              NaN     NaN  11.90 bhp @ 7,500 rpm   \n",
                            "9627  first owner      mohali              NaN     NaN      11 Bhp @ 8000 rpm   \n",
                            "9628  first owner  kukatpally     \\n\\n 65 Kmpl     NaN                 10 bhp   \n",
                            "9629  first owner       patna     \\n\\n 52 Kmpl     NaN              15.44 bhp   \n",
                            "\n",
                            "      wheel_size   price  \n",
                            "9620         NaN  197125  \n",
                            "9621         NaN  207500  \n",
                            "9622         NaN  150000  \n",
                            "9623         NaN  207500  \n",
                            "9624         NaN   55000  \n",
                            "9625         NaN  166000  \n",
                            "9626         NaN   43000  \n",
                            "9627         NaN   21000  \n",
                            "9628         NaN   70000  \n",
                            "9629         NaN   82000  "
                        ]
                    },
                    "metadata": {},
                    "execution_count": 5
                }
            ],
            "metadata": {}
        },
        {
            "cell_type": "code",
            "execution_count": 6,
            "source": [
                "df.shape"
            ],
            "outputs": [
                {
                    "output_type": "execute_result",
                    "data": {
                        "text/plain": [
                            "(9630, 10)"
                        ]
                    },
                    "metadata": {},
                    "execution_count": 6
                }
            ],
            "metadata": {}
        },
        {
            "cell_type": "code",
            "execution_count": 7,
            "source": [
                "df.info()"
            ],
            "outputs": [
                {
                    "output_type": "stream",
                    "name": "stdout",
                    "text": [
                        "<class 'pandas.core.frame.DataFrame'>\n",
                        "RangeIndex: 9630 entries, 0 to 9629\n",
                        "Data columns (total 10 columns):\n",
                        " #   Column      Non-Null Count  Dtype  \n",
                        "---  ------      --------------  -----  \n",
                        " 0   model_name  9630 non-null   object \n",
                        " 1   model_year  9630 non-null   int64  \n",
                        " 2   kms_driven  9630 non-null   object \n",
                        " 3   owner       9630 non-null   object \n",
                        " 4   location    9605 non-null   object \n",
                        " 5   mileage     9606 non-null   object \n",
                        " 6   engine      0 non-null      float64\n",
                        " 7   power       9609 non-null   object \n",
                        " 8   wheel_size  0 non-null      float64\n",
                        " 9   price       9630 non-null   int64  \n",
                        "dtypes: float64(2), int64(2), object(6)\n",
                        "memory usage: 752.5+ KB\n"
                    ]
                }
            ],
            "metadata": {}
        },
        {
            "cell_type": "markdown",
            "source": [
                "## Data Cleaning"
            ],
            "metadata": {}
        },
        {
            "cell_type": "code",
            "execution_count": 8,
            "source": [
                "# remove whitespace from data\n",
                "df['model_name'] = df.model_name.str.strip()\n",
                "df['mileage'] = df.mileage.str.strip()"
            ],
            "outputs": [],
            "metadata": {}
        },
        {
            "cell_type": "code",
            "execution_count": 9,
            "source": [
                "df.sample(5)"
            ],
            "outputs": [
                {
                    "output_type": "execute_result",
                    "data": {
                        "text/html": [
                            "<div>\n",
                            "<style scoped>\n",
                            "    .dataframe tbody tr th:only-of-type {\n",
                            "        vertical-align: middle;\n",
                            "    }\n",
                            "\n",
                            "    .dataframe tbody tr th {\n",
                            "        vertical-align: top;\n",
                            "    }\n",
                            "\n",
                            "    .dataframe thead th {\n",
                            "        text-align: right;\n",
                            "    }\n",
                            "</style>\n",
                            "<table border=\"1\" class=\"dataframe\">\n",
                            "  <thead>\n",
                            "    <tr style=\"text-align: right;\">\n",
                            "      <th></th>\n",
                            "      <th>model_name</th>\n",
                            "      <th>model_year</th>\n",
                            "      <th>kms_driven</th>\n",
                            "      <th>owner</th>\n",
                            "      <th>location</th>\n",
                            "      <th>mileage</th>\n",
                            "      <th>engine</th>\n",
                            "      <th>power</th>\n",
                            "      <th>wheel_size</th>\n",
                            "      <th>price</th>\n",
                            "    </tr>\n",
                            "  </thead>\n",
                            "  <tbody>\n",
                            "    <tr>\n",
                            "      <th>5790</th>\n",
                            "      <td>Honda CB Shine 125cc Disc 2016</td>\n",
                            "      <td>2016</td>\n",
                            "      <td>Mileage 65 Kmpl</td>\n",
                            "      <td>first owner</td>\n",
                            "      <td>coimbatore</td>\n",
                            "      <td>65 Kmpl</td>\n",
                            "      <td>NaN</td>\n",
                            "      <td>10 bhp</td>\n",
                            "      <td>NaN</td>\n",
                            "      <td>45000</td>\n",
                            "    </tr>\n",
                            "    <tr>\n",
                            "      <th>2094</th>\n",
                            "      <td>Royal Enfield Thunderbird 350cc 2018</td>\n",
                            "      <td>2018</td>\n",
                            "      <td>17225 Km</td>\n",
                            "      <td>first owner</td>\n",
                            "      <td>delhi</td>\n",
                            "      <td>40 kmpl</td>\n",
                            "      <td>NaN</td>\n",
                            "      <td>19.80 bhp</td>\n",
                            "      <td>NaN</td>\n",
                            "      <td>126500</td>\n",
                            "    </tr>\n",
                            "    <tr>\n",
                            "      <th>8917</th>\n",
                            "      <td>Bajaj Pulsar RS200 2015</td>\n",
                            "      <td>2015</td>\n",
                            "      <td>Mileage 35 Kmpl</td>\n",
                            "      <td>first owner</td>\n",
                            "      <td>pune</td>\n",
                            "      <td>35 Kmpl</td>\n",
                            "      <td>NaN</td>\n",
                            "      <td>24.16 bhp</td>\n",
                            "      <td>NaN</td>\n",
                            "      <td>80000</td>\n",
                            "    </tr>\n",
                            "    <tr>\n",
                            "      <th>9515</th>\n",
                            "      <td>Bajaj V15 150cc 2016</td>\n",
                            "      <td>2016</td>\n",
                            "      <td>5000 Km</td>\n",
                            "      <td>first owner</td>\n",
                            "      <td>ludhiana</td>\n",
                            "      <td>57 kmpl</td>\n",
                            "      <td>NaN</td>\n",
                            "      <td>11.80 bhp</td>\n",
                            "      <td>NaN</td>\n",
                            "      <td>39000</td>\n",
                            "    </tr>\n",
                            "    <tr>\n",
                            "      <th>5736</th>\n",
                            "      <td>Yamaha SZ 150cc 2012</td>\n",
                            "      <td>2012</td>\n",
                            "      <td>172082 Km</td>\n",
                            "      <td>first owner</td>\n",
                            "      <td>vidisha</td>\n",
                            "      <td></td>\n",
                            "      <td>NaN</td>\n",
                            "      <td>12 bhp</td>\n",
                            "      <td>NaN</td>\n",
                            "      <td>25000</td>\n",
                            "    </tr>\n",
                            "  </tbody>\n",
                            "</table>\n",
                            "</div>"
                        ],
                        "text/plain": [
                            "                                model_name  model_year       kms_driven  \\\n",
                            "5790        Honda CB Shine 125cc Disc 2016        2016  Mileage 65 Kmpl   \n",
                            "2094  Royal Enfield Thunderbird 350cc 2018        2018         17225 Km   \n",
                            "8917               Bajaj Pulsar RS200 2015        2015  Mileage 35 Kmpl   \n",
                            "9515                  Bajaj V15 150cc 2016        2016          5000 Km   \n",
                            "5736                  Yamaha SZ 150cc 2012        2012        172082 Km   \n",
                            "\n",
                            "            owner    location  mileage  engine      power  wheel_size   price  \n",
                            "5790  first owner  coimbatore  65 Kmpl     NaN     10 bhp         NaN   45000  \n",
                            "2094  first owner       delhi  40 kmpl     NaN  19.80 bhp         NaN  126500  \n",
                            "8917  first owner        pune  35 Kmpl     NaN  24.16 bhp         NaN   80000  \n",
                            "9515  first owner    ludhiana  57 kmpl     NaN  11.80 bhp         NaN   39000  \n",
                            "5736  first owner     vidisha              NaN     12 bhp         NaN   25000  "
                        ]
                    },
                    "metadata": {},
                    "execution_count": 9
                }
            ],
            "metadata": {}
        },
        {
            "cell_type": "code",
            "execution_count": 10,
            "source": [
                "# Remove commas from kms_driven and price columns\n",
                "\n",
                "def clean_kms_driven(val):\n",
                "    if not val:\n",
                "        return ''\n",
                "\n",
                "    val = val.lower()\n",
                "\n",
                "    if 'kms' in val:\n",
                "        val = val.replace('kms','')\n",
                "\n",
                "    if 'km' in val:\n",
                "        val = val.replace('km','')\n",
                "\n",
                "    if 'mileage' in val.lower():\n",
                "        return np.nan\n",
                "\n",
                "    return val.replace(',','')\n",
                "\n",
                "\n",
                "def clean_price(val):\n",
                "    \"\"\"\n",
                "    1. remove currency symbol.\n",
                "    2. remove commas\n",
                "    \"\"\"\n",
                "    if not val:\n",
                "        return ''\n",
                "\n",
                "    val = str(val)\n",
                "\n",
                "    val = val.replace(',','')\n",
                "\n",
                "    if 'lakh' in val.lower():\n",
                "        val = val.lower().replace('lakh','')\n",
                "        val = float(val)\n",
                "        return val * 100000\n",
                "\n",
                "    return val\n",
                "    \n",
                "\n",
                "df['kms_driven'] = df['kms_driven'].apply(clean_kms_driven)\n",
                "\n",
                "df['price'] = df['price'].apply(clean_price)\n",
                "\n"
            ],
            "outputs": [],
            "metadata": {}
        },
        {
            "cell_type": "code",
            "execution_count": 11,
            "source": [
                "df['kms_driven'] = pd.to_numeric(df['kms_driven'],errors='coerce',downcast='integer')\n",
                "df['price'] = pd.to_numeric(df['price'],errors='coerce',downcast='integer')"
            ],
            "outputs": [],
            "metadata": {}
        },
        {
            "cell_type": "code",
            "execution_count": 12,
            "source": [
                "# location feature have comma separated values\n",
                "# need to make it a single value, for that let's take\n",
                "# the last value as it is the main city name\n",
                "\n",
                "def clean_location(val):\n",
                "    if not val:\n",
                "        return ''\n",
                "    \n",
                "    return str(val).split(',')[-1].strip()\n",
                "\n",
                "df['location'] = df['location'].apply(clean_location)"
            ],
            "outputs": [],
            "metadata": {}
        },
        {
            "cell_type": "code",
            "execution_count": 13,
            "source": [
                "df.location.value_counts()[:10]"
            ],
            "outputs": [
                {
                    "output_type": "execute_result",
                    "data": {
                        "text/plain": [
                            "delhi        1790\n",
                            "mumbai        943\n",
                            "bangalore     930\n",
                            "pune          436\n",
                            "chennai       422\n",
                            "hyderabad     416\n",
                            "gurgaon       380\n",
                            "jaipur        376\n",
                            "ahmedabad     309\n",
                            "faridabad     214\n",
                            "Name: location, dtype: int64"
                        ]
                    },
                    "metadata": {},
                    "execution_count": 13
                }
            ],
            "metadata": {}
        },
        {
            "cell_type": "code",
            "execution_count": 14,
            "source": [
                "\n",
                "def clean_owner(val):\n",
                "    if not val:\n",
                "        return val\n",
                "\n",
                "    val = val.replace('owner','')\n",
                "\n",
                "    if 'or more' in val.lower():\n",
                "        return 'fourth'\n",
                "\n",
                "    return val\n",
                "\n",
                "df['owner'] = df['owner'].apply(clean_owner)"
            ],
            "outputs": [],
            "metadata": {}
        },
        {
            "cell_type": "code",
            "execution_count": 15,
            "source": [
                "df.sample(5)"
            ],
            "outputs": [
                {
                    "output_type": "execute_result",
                    "data": {
                        "text/html": [
                            "<div>\n",
                            "<style scoped>\n",
                            "    .dataframe tbody tr th:only-of-type {\n",
                            "        vertical-align: middle;\n",
                            "    }\n",
                            "\n",
                            "    .dataframe tbody tr th {\n",
                            "        vertical-align: top;\n",
                            "    }\n",
                            "\n",
                            "    .dataframe thead th {\n",
                            "        text-align: right;\n",
                            "    }\n",
                            "</style>\n",
                            "<table border=\"1\" class=\"dataframe\">\n",
                            "  <thead>\n",
                            "    <tr style=\"text-align: right;\">\n",
                            "      <th></th>\n",
                            "      <th>model_name</th>\n",
                            "      <th>model_year</th>\n",
                            "      <th>kms_driven</th>\n",
                            "      <th>owner</th>\n",
                            "      <th>location</th>\n",
                            "      <th>mileage</th>\n",
                            "      <th>engine</th>\n",
                            "      <th>power</th>\n",
                            "      <th>wheel_size</th>\n",
                            "      <th>price</th>\n",
                            "    </tr>\n",
                            "  </thead>\n",
                            "  <tbody>\n",
                            "    <tr>\n",
                            "      <th>2233</th>\n",
                            "      <td>UM Renegade Commando 2017</td>\n",
                            "      <td>2017</td>\n",
                            "      <td>9000.0</td>\n",
                            "      <td>first</td>\n",
                            "      <td>delhi</td>\n",
                            "      <td>35 kmpl</td>\n",
                            "      <td>NaN</td>\n",
                            "      <td>24.80 bhp</td>\n",
                            "      <td>NaN</td>\n",
                            "      <td>130800.0</td>\n",
                            "    </tr>\n",
                            "    <tr>\n",
                            "      <th>2145</th>\n",
                            "      <td>Hero HF Deluxe Eco 100cc 2018</td>\n",
                            "      <td>2018</td>\n",
                            "      <td>6750.0</td>\n",
                            "      <td>first</td>\n",
                            "      <td>ahmednagar</td>\n",
                            "      <td>65 kmpl</td>\n",
                            "      <td>NaN</td>\n",
                            "      <td>8.10 bhp</td>\n",
                            "      <td>NaN</td>\n",
                            "      <td>22500.0</td>\n",
                            "    </tr>\n",
                            "    <tr>\n",
                            "      <th>2178</th>\n",
                            "      <td>Bajaj Pulsar 150cc 2018</td>\n",
                            "      <td>2018</td>\n",
                            "      <td>NaN</td>\n",
                            "      <td>first</td>\n",
                            "      <td>bangalore</td>\n",
                            "      <td>65 Kmpl</td>\n",
                            "      <td>NaN</td>\n",
                            "      <td>15 bhp</td>\n",
                            "      <td>NaN</td>\n",
                            "      <td>75000.0</td>\n",
                            "    </tr>\n",
                            "    <tr>\n",
                            "      <th>5577</th>\n",
                            "      <td>TVS Apache RTR 200 4V ABS Race Edition 2018</td>\n",
                            "      <td>2018</td>\n",
                            "      <td>NaN</td>\n",
                            "      <td>first</td>\n",
                            "      <td>delhi</td>\n",
                            "      <td>40 Kmpl</td>\n",
                            "      <td>NaN</td>\n",
                            "      <td>20.23 BHP</td>\n",
                            "      <td>NaN</td>\n",
                            "      <td>95000.0</td>\n",
                            "    </tr>\n",
                            "    <tr>\n",
                            "      <th>3689</th>\n",
                            "      <td>KTM Duke 200cc 2017</td>\n",
                            "      <td>2017</td>\n",
                            "      <td>23000.0</td>\n",
                            "      <td>first</td>\n",
                            "      <td>dhamtari</td>\n",
                            "      <td>35 kmpl</td>\n",
                            "      <td>NaN</td>\n",
                            "      <td>24.60 bhp</td>\n",
                            "      <td>NaN</td>\n",
                            "      <td>95000.0</td>\n",
                            "    </tr>\n",
                            "  </tbody>\n",
                            "</table>\n",
                            "</div>"
                        ],
                        "text/plain": [
                            "                                       model_name  model_year  kms_driven  \\\n",
                            "2233                    UM Renegade Commando 2017        2017      9000.0   \n",
                            "2145                Hero HF Deluxe Eco 100cc 2018        2018      6750.0   \n",
                            "2178                      Bajaj Pulsar 150cc 2018        2018         NaN   \n",
                            "5577  TVS Apache RTR 200 4V ABS Race Edition 2018        2018         NaN   \n",
                            "3689                          KTM Duke 200cc 2017        2017     23000.0   \n",
                            "\n",
                            "       owner    location  mileage  engine      power  wheel_size     price  \n",
                            "2233  first        delhi  35 kmpl     NaN  24.80 bhp         NaN  130800.0  \n",
                            "2145  first   ahmednagar  65 kmpl     NaN   8.10 bhp         NaN   22500.0  \n",
                            "2178  first    bangalore  65 Kmpl     NaN     15 bhp         NaN   75000.0  \n",
                            "5577  first        delhi  40 Kmpl     NaN  20.23 BHP         NaN   95000.0  \n",
                            "3689  first     dhamtari  35 kmpl     NaN  24.60 bhp         NaN   95000.0  "
                        ]
                    },
                    "metadata": {},
                    "execution_count": 15
                }
            ],
            "metadata": {}
        },
        {
            "cell_type": "code",
            "execution_count": 16,
            "source": [
                "df.info()"
            ],
            "outputs": [
                {
                    "output_type": "stream",
                    "name": "stdout",
                    "text": [
                        "<class 'pandas.core.frame.DataFrame'>\n",
                        "RangeIndex: 9630 entries, 0 to 9629\n",
                        "Data columns (total 10 columns):\n",
                        " #   Column      Non-Null Count  Dtype  \n",
                        "---  ------      --------------  -----  \n",
                        " 0   model_name  9630 non-null   object \n",
                        " 1   model_year  9630 non-null   int64  \n",
                        " 2   kms_driven  6994 non-null   float64\n",
                        " 3   owner       9630 non-null   object \n",
                        " 4   location    9630 non-null   object \n",
                        " 5   mileage     9606 non-null   object \n",
                        " 6   engine      0 non-null      float64\n",
                        " 7   power       9609 non-null   object \n",
                        " 8   wheel_size  0 non-null      float64\n",
                        " 9   price       9590 non-null   float64\n",
                        "dtypes: float64(4), int64(1), object(5)\n",
                        "memory usage: 752.5+ KB\n"
                    ]
                }
            ],
            "metadata": {}
        },
        {
            "cell_type": "markdown",
            "source": [
                "### Handle Mileage"
            ],
            "metadata": {}
        },
        {
            "cell_type": "code",
            "execution_count": 17,
            "source": [
                "def clean_mileage(val):\n",
                "    if not val:\n",
                "        return np.nan\n",
                "    \n",
                "    return str(val).lower().replace('kmpl','')\n",
                "\n",
                "df['mileage'] = df.mileage.apply(clean_mileage)"
            ],
            "outputs": [],
            "metadata": {}
        },
        {
            "cell_type": "code",
            "execution_count": 18,
            "source": [
                "df.drop('engine',axis=1,inplace=True)"
            ],
            "outputs": [],
            "metadata": {}
        },
        {
            "cell_type": "markdown",
            "source": [
                "### Hanlde power"
            ],
            "metadata": {}
        },
        {
            "cell_type": "code",
            "execution_count": 19,
            "source": [
                "def clean_power(val):\n",
                "    if not val:\n",
                "        return np.nan\n",
                "    \n",
                "    return str(val).lower().replace('bhp','')\n",
                "\n",
                "df['power'] = df.power.apply(clean_power)"
            ],
            "outputs": [],
            "metadata": {}
        },
        {
            "cell_type": "code",
            "execution_count": 20,
            "source": [
                "df.drop('wheel_size',axis=1,inplace=True)"
            ],
            "outputs": [],
            "metadata": {}
        },
        {
            "cell_type": "code",
            "execution_count": 21,
            "source": [
                "df.sample(5)"
            ],
            "outputs": [
                {
                    "output_type": "execute_result",
                    "data": {
                        "text/html": [
                            "<div>\n",
                            "<style scoped>\n",
                            "    .dataframe tbody tr th:only-of-type {\n",
                            "        vertical-align: middle;\n",
                            "    }\n",
                            "\n",
                            "    .dataframe tbody tr th {\n",
                            "        vertical-align: top;\n",
                            "    }\n",
                            "\n",
                            "    .dataframe thead th {\n",
                            "        text-align: right;\n",
                            "    }\n",
                            "</style>\n",
                            "<table border=\"1\" class=\"dataframe\">\n",
                            "  <thead>\n",
                            "    <tr style=\"text-align: right;\">\n",
                            "      <th></th>\n",
                            "      <th>model_name</th>\n",
                            "      <th>model_year</th>\n",
                            "      <th>kms_driven</th>\n",
                            "      <th>owner</th>\n",
                            "      <th>location</th>\n",
                            "      <th>mileage</th>\n",
                            "      <th>power</th>\n",
                            "      <th>price</th>\n",
                            "    </tr>\n",
                            "  </thead>\n",
                            "  <tbody>\n",
                            "    <tr>\n",
                            "      <th>6671</th>\n",
                            "      <td>Royal Enfield Classic 350cc 2017</td>\n",
                            "      <td>2017</td>\n",
                            "      <td>23000.0</td>\n",
                            "      <td>first</td>\n",
                            "      <td>faridabad</td>\n",
                            "      <td>35</td>\n",
                            "      <td>19.80</td>\n",
                            "      <td>109999.0</td>\n",
                            "    </tr>\n",
                            "    <tr>\n",
                            "      <th>1591</th>\n",
                            "      <td>KTM RC 390cc 2016</td>\n",
                            "      <td>2016</td>\n",
                            "      <td>26000.0</td>\n",
                            "      <td>first</td>\n",
                            "      <td>bangalore</td>\n",
                            "      <td>26</td>\n",
                            "      <td>42.30</td>\n",
                            "      <td>128000.0</td>\n",
                            "    </tr>\n",
                            "    <tr>\n",
                            "      <th>5060</th>\n",
                            "      <td>TVS Apache RTR 200 4V ABS 2018</td>\n",
                            "      <td>2018</td>\n",
                            "      <td>NaN</td>\n",
                            "      <td>first</td>\n",
                            "      <td>bangalore</td>\n",
                            "      <td>40</td>\n",
                            "      <td>20.23</td>\n",
                            "      <td>100389.0</td>\n",
                            "    </tr>\n",
                            "    <tr>\n",
                            "      <th>4180</th>\n",
                            "      <td>UM Renegade Commando 2018</td>\n",
                            "      <td>2018</td>\n",
                            "      <td>8000.0</td>\n",
                            "      <td>first</td>\n",
                            "      <td>lucknow</td>\n",
                            "      <td>35</td>\n",
                            "      <td>24.80</td>\n",
                            "      <td>144500.0</td>\n",
                            "    </tr>\n",
                            "    <tr>\n",
                            "      <th>7072</th>\n",
                            "      <td>Royal Enfield Thunderbird 500cc 2017</td>\n",
                            "      <td>2017</td>\n",
                            "      <td>5192.0</td>\n",
                            "      <td>first</td>\n",
                            "      <td>mumbai</td>\n",
                            "      <td>25</td>\n",
                            "      <td>27.20</td>\n",
                            "      <td>155000.0</td>\n",
                            "    </tr>\n",
                            "  </tbody>\n",
                            "</table>\n",
                            "</div>"
                        ],
                        "text/plain": [
                            "                                model_name  model_year  kms_driven   owner  \\\n",
                            "6671      Royal Enfield Classic 350cc 2017        2017     23000.0  first    \n",
                            "1591                     KTM RC 390cc 2016        2016     26000.0  first    \n",
                            "5060        TVS Apache RTR 200 4V ABS 2018        2018         NaN  first    \n",
                            "4180             UM Renegade Commando 2018        2018      8000.0  first    \n",
                            "7072  Royal Enfield Thunderbird 500cc 2017        2017      5192.0  first    \n",
                            "\n",
                            "       location mileage   power     price  \n",
                            "6671  faridabad     35   19.80   109999.0  \n",
                            "1591  bangalore      26  42.30   128000.0  \n",
                            "5060  bangalore     40   20.23   100389.0  \n",
                            "4180    lucknow     35   24.80   144500.0  \n",
                            "7072     mumbai     25   27.20   155000.0  "
                        ]
                    },
                    "metadata": {},
                    "execution_count": 21
                }
            ],
            "metadata": {}
        },
        {
            "cell_type": "code",
            "execution_count": 22,
            "source": [
                "df.duplicated().sum()"
            ],
            "outputs": [
                {
                    "output_type": "execute_result",
                    "data": {
                        "text/plain": [
                            "124"
                        ]
                    },
                    "metadata": {},
                    "execution_count": 22
                }
            ],
            "metadata": {}
        },
        {
            "cell_type": "code",
            "execution_count": 23,
            "source": [
                "df = df[~df.duplicated()]"
            ],
            "outputs": [],
            "metadata": {}
        },
        {
            "cell_type": "code",
            "execution_count": 24,
            "source": [
                "df.shape"
            ],
            "outputs": [
                {
                    "output_type": "execute_result",
                    "data": {
                        "text/plain": [
                            "(9506, 8)"
                        ]
                    },
                    "metadata": {},
                    "execution_count": 24
                }
            ],
            "metadata": {}
        },
        {
            "cell_type": "markdown",
            "source": [
                "## Handle Missing Values"
            ],
            "metadata": {}
        },
        {
            "cell_type": "code",
            "execution_count": 25,
            "source": [
                "df.isnull().sum()"
            ],
            "outputs": [
                {
                    "output_type": "execute_result",
                    "data": {
                        "text/plain": [
                            "model_name       0\n",
                            "model_year       0\n",
                            "kms_driven    2563\n",
                            "owner            0\n",
                            "location         0\n",
                            "mileage        799\n",
                            "power            0\n",
                            "price           40\n",
                            "dtype: int64"
                        ]
                    },
                    "metadata": {},
                    "execution_count": 25
                }
            ],
            "metadata": {}
        },
        {
            "cell_type": "markdown",
            "source": [
                "## Fix column type"
            ],
            "metadata": {}
        },
        {
            "cell_type": "code",
            "execution_count": 26,
            "source": [
                "df.info()"
            ],
            "outputs": [
                {
                    "output_type": "stream",
                    "name": "stdout",
                    "text": [
                        "<class 'pandas.core.frame.DataFrame'>\n",
                        "Int64Index: 9506 entries, 0 to 9629\n",
                        "Data columns (total 8 columns):\n",
                        " #   Column      Non-Null Count  Dtype  \n",
                        "---  ------      --------------  -----  \n",
                        " 0   model_name  9506 non-null   object \n",
                        " 1   model_year  9506 non-null   int64  \n",
                        " 2   kms_driven  6943 non-null   float64\n",
                        " 3   owner       9506 non-null   object \n",
                        " 4   location    9506 non-null   object \n",
                        " 5   mileage     8707 non-null   object \n",
                        " 6   power       9506 non-null   object \n",
                        " 7   price       9466 non-null   float64\n",
                        "dtypes: float64(2), int64(1), object(5)\n",
                        "memory usage: 668.4+ KB\n"
                    ]
                }
            ],
            "metadata": {}
        },
        {
            "cell_type": "code",
            "execution_count": 27,
            "source": [
                "df['mileage'] = pd.to_numeric(df['mileage'],errors='coerce') #df.mileage.astype(int,errors='ignore')\n",
                "df['power'] = pd.to_numeric(df['power'],errors='coerce')"
            ],
            "outputs": [],
            "metadata": {}
        },
        {
            "cell_type": "code",
            "execution_count": 28,
            "source": [
                "df['mileage'] = df.mileage.astype(int,errors='ignore') #pd.to_numeric(df['mileage'],errors='coerce',downcast='integer') #df.mileage.astype(int,errors='ignore')\n",
                "df['power'] = df.power.astype(int,errors='ignore')"
            ],
            "outputs": [],
            "metadata": {}
        },
        {
            "cell_type": "code",
            "execution_count": 29,
            "source": [
                "df.info()"
            ],
            "outputs": [
                {
                    "output_type": "stream",
                    "name": "stdout",
                    "text": [
                        "<class 'pandas.core.frame.DataFrame'>\n",
                        "Int64Index: 9506 entries, 0 to 9629\n",
                        "Data columns (total 8 columns):\n",
                        " #   Column      Non-Null Count  Dtype  \n",
                        "---  ------      --------------  -----  \n",
                        " 0   model_name  9506 non-null   object \n",
                        " 1   model_year  9506 non-null   int64  \n",
                        " 2   kms_driven  6943 non-null   float64\n",
                        " 3   owner       9506 non-null   object \n",
                        " 4   location    9506 non-null   object \n",
                        " 5   mileage     8385 non-null   float64\n",
                        " 6   power       8958 non-null   float64\n",
                        " 7   price       9466 non-null   float64\n",
                        "dtypes: float64(4), int64(1), object(3)\n",
                        "memory usage: 668.4+ KB\n"
                    ]
                }
            ],
            "metadata": {}
        },
        {
            "cell_type": "code",
            "execution_count": 30,
            "source": [
                "df.shape"
            ],
            "outputs": [
                {
                    "output_type": "execute_result",
                    "data": {
                        "text/plain": [
                            "(9506, 8)"
                        ]
                    },
                    "metadata": {},
                    "execution_count": 30
                }
            ],
            "metadata": {}
        },
        {
            "cell_type": "code",
            "execution_count": 31,
            "source": [
                "cols = ['kms_driven', 'price']\n",
                "for col in cols:\n",
                "    df[col] = pd.to_numeric(df[col], errors='coerce', downcast='integer')"
            ],
            "outputs": [],
            "metadata": {}
        },
        {
            "cell_type": "code",
            "execution_count": 32,
            "source": [
                "df.to_csv('../data/processed/data.csv',index=False)"
            ],
            "outputs": [],
            "metadata": {}
        }
    ],
    "metadata": {
        "orig_nbformat": 4,
        "language_info": {
            "name": "python",
            "version": "3.8.8",
            "mimetype": "text/x-python",
            "codemirror_mode": {
                "name": "ipython",
                "version": 3
            },
            "pygments_lexer": "ipython3",
            "nbconvert_exporter": "python",
            "file_extension": ".py"
        },
        "kernelspec": {
            "name": "python3",
            "display_name": "Python 3.8.8 64-bit ('base': conda)"
        },
        "interpreter": {
            "hash": "d213f6e5b8fd7d14bb00958cfb5f51bfe315e9248ff051fde0d0d79c3d0f4eba"
        }
    },
    "nbformat": 4,
    "nbformat_minor": 2
}