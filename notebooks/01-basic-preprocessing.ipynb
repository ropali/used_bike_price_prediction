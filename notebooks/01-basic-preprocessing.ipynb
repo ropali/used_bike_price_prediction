{
    "cells": [
        {
            "cell_type": "code",
            "execution_count": 1,
            "source": [
                "import pandas as pd\n",
                "import numpy as np\n",
                "import matplotlib.pyplot as plt\n",
                "import seaborn as sns"
            ],
            "outputs": [],
            "metadata": {}
        },
        {
            "cell_type": "code",
            "execution_count": 2,
            "source": [
                "df = pd.read_csv('../data/raw/data.csv')"
            ],
            "outputs": [],
            "metadata": {}
        },
        {
            "cell_type": "code",
            "execution_count": 3,
            "source": [
                "df.head()"
            ],
            "outputs": [
                {
                    "output_type": "execute_result",
                    "data": {
                        "text/plain": [
                            "   Unnamed: 0                                  model_name  model_year  \\\n",
                            "0           0                  Yamaha Fazer Dlx Standard   2014 model   \n",
                            "1           1                      Yamaha RX135 Standard   1996 model   \n",
                            "2           2    Bajaj Pulsar 150 [2001-2011] Kick Start   2007 model   \n",
                            "3           3   Royal Enfield Electra Twinspark Standard   2013 model   \n",
                            "4           4         Hero Honda Glamour Alloy Drum Self   2006 model   \n",
                            "\n",
                            "    kms_driven      owner    location      price  \n",
                            "0  12,600  kms  1st Owner     Raigad     34,999   \n",
                            "1  14,500  kms  2nd Owner    Madurai     85,000   \n",
                            "2  51,000  kms  2nd Owner  Bangalore     25,000   \n",
                            "3  57,500  kms  1st Owner  Bangalore   1,00,000   \n",
                            "4  69,569  kms  2nd Owner   Azamgarh     21,000   "
                        ],
                        "text/html": [
                            "<div>\n",
                            "<style scoped>\n",
                            "    .dataframe tbody tr th:only-of-type {\n",
                            "        vertical-align: middle;\n",
                            "    }\n",
                            "\n",
                            "    .dataframe tbody tr th {\n",
                            "        vertical-align: top;\n",
                            "    }\n",
                            "\n",
                            "    .dataframe thead th {\n",
                            "        text-align: right;\n",
                            "    }\n",
                            "</style>\n",
                            "<table border=\"1\" class=\"dataframe\">\n",
                            "  <thead>\n",
                            "    <tr style=\"text-align: right;\">\n",
                            "      <th></th>\n",
                            "      <th>Unnamed: 0</th>\n",
                            "      <th>model_name</th>\n",
                            "      <th>model_year</th>\n",
                            "      <th>kms_driven</th>\n",
                            "      <th>owner</th>\n",
                            "      <th>location</th>\n",
                            "      <th>price</th>\n",
                            "    </tr>\n",
                            "  </thead>\n",
                            "  <tbody>\n",
                            "    <tr>\n",
                            "      <th>0</th>\n",
                            "      <td>0</td>\n",
                            "      <td>Yamaha Fazer Dlx Standard</td>\n",
                            "      <td>2014 model</td>\n",
                            "      <td>12,600  kms</td>\n",
                            "      <td>1st Owner</td>\n",
                            "      <td>Raigad</td>\n",
                            "      <td>34,999</td>\n",
                            "    </tr>\n",
                            "    <tr>\n",
                            "      <th>1</th>\n",
                            "      <td>1</td>\n",
                            "      <td>Yamaha RX135 Standard</td>\n",
                            "      <td>1996 model</td>\n",
                            "      <td>14,500  kms</td>\n",
                            "      <td>2nd Owner</td>\n",
                            "      <td>Madurai</td>\n",
                            "      <td>85,000</td>\n",
                            "    </tr>\n",
                            "    <tr>\n",
                            "      <th>2</th>\n",
                            "      <td>2</td>\n",
                            "      <td>Bajaj Pulsar 150 [2001-2011] Kick Start</td>\n",
                            "      <td>2007 model</td>\n",
                            "      <td>51,000  kms</td>\n",
                            "      <td>2nd Owner</td>\n",
                            "      <td>Bangalore</td>\n",
                            "      <td>25,000</td>\n",
                            "    </tr>\n",
                            "    <tr>\n",
                            "      <th>3</th>\n",
                            "      <td>3</td>\n",
                            "      <td>Royal Enfield Electra Twinspark Standard</td>\n",
                            "      <td>2013 model</td>\n",
                            "      <td>57,500  kms</td>\n",
                            "      <td>1st Owner</td>\n",
                            "      <td>Bangalore</td>\n",
                            "      <td>1,00,000</td>\n",
                            "    </tr>\n",
                            "    <tr>\n",
                            "      <th>4</th>\n",
                            "      <td>4</td>\n",
                            "      <td>Hero Honda Glamour Alloy Drum Self</td>\n",
                            "      <td>2006 model</td>\n",
                            "      <td>69,569  kms</td>\n",
                            "      <td>2nd Owner</td>\n",
                            "      <td>Azamgarh</td>\n",
                            "      <td>21,000</td>\n",
                            "    </tr>\n",
                            "  </tbody>\n",
                            "</table>\n",
                            "</div>"
                        ]
                    },
                    "metadata": {},
                    "execution_count": 3
                }
            ],
            "metadata": {}
        },
        {
            "cell_type": "code",
            "execution_count": 4,
            "source": [
                "df.shape"
            ],
            "outputs": [
                {
                    "output_type": "execute_result",
                    "data": {
                        "text/plain": [
                            "(1327, 7)"
                        ]
                    },
                    "metadata": {},
                    "execution_count": 4
                }
            ],
            "metadata": {}
        },
        {
            "cell_type": "code",
            "execution_count": 5,
            "source": [
                "df = df.drop(columns=['Unnamed: 0'])"
            ],
            "outputs": [],
            "metadata": {}
        },
        {
            "cell_type": "code",
            "execution_count": 6,
            "source": [
                "df.head()"
            ],
            "outputs": [
                {
                    "output_type": "execute_result",
                    "data": {
                        "text/plain": [
                            "                                   model_name  model_year   kms_driven  \\\n",
                            "0                  Yamaha Fazer Dlx Standard   2014 model  12,600  kms   \n",
                            "1                      Yamaha RX135 Standard   1996 model  14,500  kms   \n",
                            "2    Bajaj Pulsar 150 [2001-2011] Kick Start   2007 model  51,000  kms   \n",
                            "3   Royal Enfield Electra Twinspark Standard   2013 model  57,500  kms   \n",
                            "4         Hero Honda Glamour Alloy Drum Self   2006 model  69,569  kms   \n",
                            "\n",
                            "       owner    location      price  \n",
                            "0  1st Owner     Raigad     34,999   \n",
                            "1  2nd Owner    Madurai     85,000   \n",
                            "2  2nd Owner  Bangalore     25,000   \n",
                            "3  1st Owner  Bangalore   1,00,000   \n",
                            "4  2nd Owner   Azamgarh     21,000   "
                        ],
                        "text/html": [
                            "<div>\n",
                            "<style scoped>\n",
                            "    .dataframe tbody tr th:only-of-type {\n",
                            "        vertical-align: middle;\n",
                            "    }\n",
                            "\n",
                            "    .dataframe tbody tr th {\n",
                            "        vertical-align: top;\n",
                            "    }\n",
                            "\n",
                            "    .dataframe thead th {\n",
                            "        text-align: right;\n",
                            "    }\n",
                            "</style>\n",
                            "<table border=\"1\" class=\"dataframe\">\n",
                            "  <thead>\n",
                            "    <tr style=\"text-align: right;\">\n",
                            "      <th></th>\n",
                            "      <th>model_name</th>\n",
                            "      <th>model_year</th>\n",
                            "      <th>kms_driven</th>\n",
                            "      <th>owner</th>\n",
                            "      <th>location</th>\n",
                            "      <th>price</th>\n",
                            "    </tr>\n",
                            "  </thead>\n",
                            "  <tbody>\n",
                            "    <tr>\n",
                            "      <th>0</th>\n",
                            "      <td>Yamaha Fazer Dlx Standard</td>\n",
                            "      <td>2014 model</td>\n",
                            "      <td>12,600  kms</td>\n",
                            "      <td>1st Owner</td>\n",
                            "      <td>Raigad</td>\n",
                            "      <td>34,999</td>\n",
                            "    </tr>\n",
                            "    <tr>\n",
                            "      <th>1</th>\n",
                            "      <td>Yamaha RX135 Standard</td>\n",
                            "      <td>1996 model</td>\n",
                            "      <td>14,500  kms</td>\n",
                            "      <td>2nd Owner</td>\n",
                            "      <td>Madurai</td>\n",
                            "      <td>85,000</td>\n",
                            "    </tr>\n",
                            "    <tr>\n",
                            "      <th>2</th>\n",
                            "      <td>Bajaj Pulsar 150 [2001-2011] Kick Start</td>\n",
                            "      <td>2007 model</td>\n",
                            "      <td>51,000  kms</td>\n",
                            "      <td>2nd Owner</td>\n",
                            "      <td>Bangalore</td>\n",
                            "      <td>25,000</td>\n",
                            "    </tr>\n",
                            "    <tr>\n",
                            "      <th>3</th>\n",
                            "      <td>Royal Enfield Electra Twinspark Standard</td>\n",
                            "      <td>2013 model</td>\n",
                            "      <td>57,500  kms</td>\n",
                            "      <td>1st Owner</td>\n",
                            "      <td>Bangalore</td>\n",
                            "      <td>1,00,000</td>\n",
                            "    </tr>\n",
                            "    <tr>\n",
                            "      <th>4</th>\n",
                            "      <td>Hero Honda Glamour Alloy Drum Self</td>\n",
                            "      <td>2006 model</td>\n",
                            "      <td>69,569  kms</td>\n",
                            "      <td>2nd Owner</td>\n",
                            "      <td>Azamgarh</td>\n",
                            "      <td>21,000</td>\n",
                            "    </tr>\n",
                            "  </tbody>\n",
                            "</table>\n",
                            "</div>"
                        ]
                    },
                    "metadata": {},
                    "execution_count": 6
                }
            ],
            "metadata": {}
        },
        {
            "cell_type": "markdown",
            "source": [
                "## Data Cleaning"
            ],
            "metadata": {}
        },
        {
            "cell_type": "code",
            "execution_count": 7,
            "source": [
                "# Remove commas from kms_driven and price columns\n",
                "df['kms_driven'] = df['kms_driven'].str.replace(',','')\n",
                "df['kms_driven'] = df['kms_driven'].str.replace('kms','')\n",
                "df['price'] = df['price'].str.replace(',','')"
            ],
            "outputs": [],
            "metadata": {}
        },
        {
            "cell_type": "code",
            "execution_count": 8,
            "source": [
                "df.head()"
            ],
            "outputs": [
                {
                    "output_type": "execute_result",
                    "data": {
                        "text/plain": [
                            "                                   model_name  model_year kms_driven  \\\n",
                            "0                  Yamaha Fazer Dlx Standard   2014 model    12600     \n",
                            "1                      Yamaha RX135 Standard   1996 model    14500     \n",
                            "2    Bajaj Pulsar 150 [2001-2011] Kick Start   2007 model    51000     \n",
                            "3   Royal Enfield Electra Twinspark Standard   2013 model    57500     \n",
                            "4         Hero Honda Glamour Alloy Drum Self   2006 model    69569     \n",
                            "\n",
                            "       owner    location    price  \n",
                            "0  1st Owner     Raigad    34999   \n",
                            "1  2nd Owner    Madurai    85000   \n",
                            "2  2nd Owner  Bangalore    25000   \n",
                            "3  1st Owner  Bangalore   100000   \n",
                            "4  2nd Owner   Azamgarh    21000   "
                        ],
                        "text/html": [
                            "<div>\n",
                            "<style scoped>\n",
                            "    .dataframe tbody tr th:only-of-type {\n",
                            "        vertical-align: middle;\n",
                            "    }\n",
                            "\n",
                            "    .dataframe tbody tr th {\n",
                            "        vertical-align: top;\n",
                            "    }\n",
                            "\n",
                            "    .dataframe thead th {\n",
                            "        text-align: right;\n",
                            "    }\n",
                            "</style>\n",
                            "<table border=\"1\" class=\"dataframe\">\n",
                            "  <thead>\n",
                            "    <tr style=\"text-align: right;\">\n",
                            "      <th></th>\n",
                            "      <th>model_name</th>\n",
                            "      <th>model_year</th>\n",
                            "      <th>kms_driven</th>\n",
                            "      <th>owner</th>\n",
                            "      <th>location</th>\n",
                            "      <th>price</th>\n",
                            "    </tr>\n",
                            "  </thead>\n",
                            "  <tbody>\n",
                            "    <tr>\n",
                            "      <th>0</th>\n",
                            "      <td>Yamaha Fazer Dlx Standard</td>\n",
                            "      <td>2014 model</td>\n",
                            "      <td>12600</td>\n",
                            "      <td>1st Owner</td>\n",
                            "      <td>Raigad</td>\n",
                            "      <td>34999</td>\n",
                            "    </tr>\n",
                            "    <tr>\n",
                            "      <th>1</th>\n",
                            "      <td>Yamaha RX135 Standard</td>\n",
                            "      <td>1996 model</td>\n",
                            "      <td>14500</td>\n",
                            "      <td>2nd Owner</td>\n",
                            "      <td>Madurai</td>\n",
                            "      <td>85000</td>\n",
                            "    </tr>\n",
                            "    <tr>\n",
                            "      <th>2</th>\n",
                            "      <td>Bajaj Pulsar 150 [2001-2011] Kick Start</td>\n",
                            "      <td>2007 model</td>\n",
                            "      <td>51000</td>\n",
                            "      <td>2nd Owner</td>\n",
                            "      <td>Bangalore</td>\n",
                            "      <td>25000</td>\n",
                            "    </tr>\n",
                            "    <tr>\n",
                            "      <th>3</th>\n",
                            "      <td>Royal Enfield Electra Twinspark Standard</td>\n",
                            "      <td>2013 model</td>\n",
                            "      <td>57500</td>\n",
                            "      <td>1st Owner</td>\n",
                            "      <td>Bangalore</td>\n",
                            "      <td>100000</td>\n",
                            "    </tr>\n",
                            "    <tr>\n",
                            "      <th>4</th>\n",
                            "      <td>Hero Honda Glamour Alloy Drum Self</td>\n",
                            "      <td>2006 model</td>\n",
                            "      <td>69569</td>\n",
                            "      <td>2nd Owner</td>\n",
                            "      <td>Azamgarh</td>\n",
                            "      <td>21000</td>\n",
                            "    </tr>\n",
                            "  </tbody>\n",
                            "</table>\n",
                            "</div>"
                        ]
                    },
                    "metadata": {},
                    "execution_count": 8
                }
            ],
            "metadata": {}
        },
        {
            "cell_type": "code",
            "execution_count": 9,
            "source": [
                "# Let's make the model_year columm as number only by removing the 'model' string\n",
                "df['model_year'] = df['model_year'].str.replace('model','')"
            ],
            "outputs": [],
            "metadata": {}
        },
        {
            "cell_type": "code",
            "execution_count": 10,
            "source": [
                "df.head()"
            ],
            "outputs": [
                {
                    "output_type": "execute_result",
                    "data": {
                        "text/plain": [
                            "                                   model_name model_year kms_driven  \\\n",
                            "0                  Yamaha Fazer Dlx Standard       2014     12600     \n",
                            "1                      Yamaha RX135 Standard       1996     14500     \n",
                            "2    Bajaj Pulsar 150 [2001-2011] Kick Start       2007     51000     \n",
                            "3   Royal Enfield Electra Twinspark Standard       2013     57500     \n",
                            "4         Hero Honda Glamour Alloy Drum Self       2006     69569     \n",
                            "\n",
                            "       owner    location    price  \n",
                            "0  1st Owner     Raigad    34999   \n",
                            "1  2nd Owner    Madurai    85000   \n",
                            "2  2nd Owner  Bangalore    25000   \n",
                            "3  1st Owner  Bangalore   100000   \n",
                            "4  2nd Owner   Azamgarh    21000   "
                        ],
                        "text/html": [
                            "<div>\n",
                            "<style scoped>\n",
                            "    .dataframe tbody tr th:only-of-type {\n",
                            "        vertical-align: middle;\n",
                            "    }\n",
                            "\n",
                            "    .dataframe tbody tr th {\n",
                            "        vertical-align: top;\n",
                            "    }\n",
                            "\n",
                            "    .dataframe thead th {\n",
                            "        text-align: right;\n",
                            "    }\n",
                            "</style>\n",
                            "<table border=\"1\" class=\"dataframe\">\n",
                            "  <thead>\n",
                            "    <tr style=\"text-align: right;\">\n",
                            "      <th></th>\n",
                            "      <th>model_name</th>\n",
                            "      <th>model_year</th>\n",
                            "      <th>kms_driven</th>\n",
                            "      <th>owner</th>\n",
                            "      <th>location</th>\n",
                            "      <th>price</th>\n",
                            "    </tr>\n",
                            "  </thead>\n",
                            "  <tbody>\n",
                            "    <tr>\n",
                            "      <th>0</th>\n",
                            "      <td>Yamaha Fazer Dlx Standard</td>\n",
                            "      <td>2014</td>\n",
                            "      <td>12600</td>\n",
                            "      <td>1st Owner</td>\n",
                            "      <td>Raigad</td>\n",
                            "      <td>34999</td>\n",
                            "    </tr>\n",
                            "    <tr>\n",
                            "      <th>1</th>\n",
                            "      <td>Yamaha RX135 Standard</td>\n",
                            "      <td>1996</td>\n",
                            "      <td>14500</td>\n",
                            "      <td>2nd Owner</td>\n",
                            "      <td>Madurai</td>\n",
                            "      <td>85000</td>\n",
                            "    </tr>\n",
                            "    <tr>\n",
                            "      <th>2</th>\n",
                            "      <td>Bajaj Pulsar 150 [2001-2011] Kick Start</td>\n",
                            "      <td>2007</td>\n",
                            "      <td>51000</td>\n",
                            "      <td>2nd Owner</td>\n",
                            "      <td>Bangalore</td>\n",
                            "      <td>25000</td>\n",
                            "    </tr>\n",
                            "    <tr>\n",
                            "      <th>3</th>\n",
                            "      <td>Royal Enfield Electra Twinspark Standard</td>\n",
                            "      <td>2013</td>\n",
                            "      <td>57500</td>\n",
                            "      <td>1st Owner</td>\n",
                            "      <td>Bangalore</td>\n",
                            "      <td>100000</td>\n",
                            "    </tr>\n",
                            "    <tr>\n",
                            "      <th>4</th>\n",
                            "      <td>Hero Honda Glamour Alloy Drum Self</td>\n",
                            "      <td>2006</td>\n",
                            "      <td>69569</td>\n",
                            "      <td>2nd Owner</td>\n",
                            "      <td>Azamgarh</td>\n",
                            "      <td>21000</td>\n",
                            "    </tr>\n",
                            "  </tbody>\n",
                            "</table>\n",
                            "</div>"
                        ]
                    },
                    "metadata": {},
                    "execution_count": 10
                }
            ],
            "metadata": {}
        },
        {
            "cell_type": "code",
            "execution_count": 11,
            "source": [
                "df.info()"
            ],
            "outputs": [
                {
                    "output_type": "stream",
                    "name": "stdout",
                    "text": [
                        "<class 'pandas.core.frame.DataFrame'>\n",
                        "RangeIndex: 1327 entries, 0 to 1326\n",
                        "Data columns (total 6 columns):\n",
                        " #   Column      Non-Null Count  Dtype \n",
                        "---  ------      --------------  ----- \n",
                        " 0   model_name  1327 non-null   object\n",
                        " 1   model_year  1327 non-null   object\n",
                        " 2   kms_driven  1327 non-null   object\n",
                        " 3   owner       1327 non-null   object\n",
                        " 4   location    1327 non-null   object\n",
                        " 5   price       1327 non-null   object\n",
                        "dtypes: object(6)\n",
                        "memory usage: 62.3+ KB\n"
                    ]
                }
            ],
            "metadata": {}
        },
        {
            "cell_type": "code",
            "execution_count": 12,
            "source": [
                "df['model_year'] = pd.to_numeric(df['model_year'],errors='coerce')\n",
                "df['kms_driven'] = pd.to_numeric(df['kms_driven'],errors='coerce')\n",
                "df['price'] = pd.to_numeric(df['price'],errors='coerce')"
            ],
            "outputs": [],
            "metadata": {}
        },
        {
            "cell_type": "code",
            "execution_count": 13,
            "source": [
                "df.info()"
            ],
            "outputs": [
                {
                    "output_type": "stream",
                    "name": "stdout",
                    "text": [
                        "<class 'pandas.core.frame.DataFrame'>\n",
                        "RangeIndex: 1327 entries, 0 to 1326\n",
                        "Data columns (total 6 columns):\n",
                        " #   Column      Non-Null Count  Dtype \n",
                        "---  ------      --------------  ----- \n",
                        " 0   model_name  1327 non-null   object\n",
                        " 1   model_year  1327 non-null   int64 \n",
                        " 2   kms_driven  1327 non-null   int64 \n",
                        " 3   owner       1327 non-null   object\n",
                        " 4   location    1327 non-null   object\n",
                        " 5   price       1327 non-null   int64 \n",
                        "dtypes: int64(3), object(3)\n",
                        "memory usage: 62.3+ KB\n"
                    ]
                }
            ],
            "metadata": {}
        },
        {
            "cell_type": "code",
            "execution_count": 16,
            "source": [
                "df.isnull().sum()"
            ],
            "outputs": [
                {
                    "output_type": "execute_result",
                    "data": {
                        "text/plain": [
                            "model_name    0\n",
                            "model_year    0\n",
                            "kms_driven    0\n",
                            "owner         0\n",
                            "location      0\n",
                            "price         0\n",
                            "dtype: int64"
                        ]
                    },
                    "metadata": {},
                    "execution_count": 16
                }
            ],
            "metadata": {}
        },
        {
            "cell_type": "code",
            "execution_count": 14,
            "source": [
                "df.to_csv('../data/processed/data.csv',index=False)"
            ],
            "outputs": [],
            "metadata": {}
        }
    ],
    "metadata": {
        "orig_nbformat": 4,
        "language_info": {
            "name": "python",
            "version": "3.8.8",
            "mimetype": "text/x-python",
            "codemirror_mode": {
                "name": "ipython",
                "version": 3
            },
            "pygments_lexer": "ipython3",
            "nbconvert_exporter": "python",
            "file_extension": ".py"
        },
        "kernelspec": {
            "name": "python3",
            "display_name": "Python 3.8.8 64-bit ('base': conda)"
        },
        "interpreter": {
            "hash": "d213f6e5b8fd7d14bb00958cfb5f51bfe315e9248ff051fde0d0d79c3d0f4eba"
        }
    },
    "nbformat": 4,
    "nbformat_minor": 2
}