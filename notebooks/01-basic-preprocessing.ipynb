{
    "cells": [
        {
            "cell_type": "code",
            "execution_count": 4,
            "source": [
                "import pandas as pd\n",
                "import numpy as np\n",
                "import matplotlib.pyplot as plt\n",
                "import seaborn as sns"
            ],
            "outputs": [],
            "metadata": {}
        },
        {
            "cell_type": "code",
            "execution_count": 5,
            "source": [
                "df = pd.read_csv('../data/raw/data.csv')"
            ],
            "outputs": [],
            "metadata": {}
        },
        {
            "cell_type": "code",
            "execution_count": 6,
            "source": [
                "df.shape"
            ],
            "outputs": [
                {
                    "output_type": "execute_result",
                    "data": {
                        "text/plain": [
                            "(8064, 8)"
                        ]
                    },
                    "metadata": {},
                    "execution_count": 6
                }
            ],
            "metadata": {}
        },
        {
            "cell_type": "code",
            "execution_count": 7,
            "source": [
                "df.head()"
            ],
            "outputs": [
                {
                    "output_type": "execute_result",
                    "data": {
                        "text/html": [
                            "<div>\n",
                            "<style scoped>\n",
                            "    .dataframe tbody tr th:only-of-type {\n",
                            "        vertical-align: middle;\n",
                            "    }\n",
                            "\n",
                            "    .dataframe tbody tr th {\n",
                            "        vertical-align: top;\n",
                            "    }\n",
                            "\n",
                            "    .dataframe thead th {\n",
                            "        text-align: right;\n",
                            "    }\n",
                            "</style>\n",
                            "<table border=\"1\" class=\"dataframe\">\n",
                            "  <thead>\n",
                            "    <tr style=\"text-align: right;\">\n",
                            "      <th></th>\n",
                            "      <th>model_name</th>\n",
                            "      <th>model_year</th>\n",
                            "      <th>kms_driven</th>\n",
                            "      <th>owner</th>\n",
                            "      <th>location</th>\n",
                            "      <th>mileage</th>\n",
                            "      <th>power</th>\n",
                            "      <th>price</th>\n",
                            "    </tr>\n",
                            "  </thead>\n",
                            "  <tbody>\n",
                            "    <tr>\n",
                            "      <th>0</th>\n",
                            "      <td>Royal Enfield Thunderbird 350cc 2016</td>\n",
                            "      <td>2016</td>\n",
                            "      <td>15144 Km</td>\n",
                            "      <td>first owner</td>\n",
                            "      <td>pune</td>\n",
                            "      <td>\\n\\n 40 kmpl</td>\n",
                            "      <td>19.80 bhp</td>\n",
                            "      <td>115320</td>\n",
                            "    </tr>\n",
                            "    <tr>\n",
                            "      <th>1</th>\n",
                            "      <td>Yamaha FZ16 150cc 2014</td>\n",
                            "      <td>2014</td>\n",
                            "      <td>Mileage 58 Kmpl</td>\n",
                            "      <td>first owner</td>\n",
                            "      <td>bangalore</td>\n",
                            "      <td>\\n\\n 58 Kmpl</td>\n",
                            "      <td>13 bhp</td>\n",
                            "      <td>40000</td>\n",
                            "    </tr>\n",
                            "    <tr>\n",
                            "      <th>2</th>\n",
                            "      <td>Royal Enfield Classic 350cc 2018</td>\n",
                            "      <td>2018</td>\n",
                            "      <td>25000 Km</td>\n",
                            "      <td>first owner</td>\n",
                            "      <td>chennai</td>\n",
                            "      <td>\\n\\n 35 kmpl</td>\n",
                            "      <td>19.80 bhp</td>\n",
                            "      <td>136900</td>\n",
                            "    </tr>\n",
                            "    <tr>\n",
                            "      <th>3</th>\n",
                            "      <td>Yamaha MT-15 150cc 2019</td>\n",
                            "      <td>2019</td>\n",
                            "      <td>5169 Km</td>\n",
                            "      <td>first owner</td>\n",
                            "      <td>bangalore</td>\n",
                            "      <td>\\n\\n</td>\n",
                            "      <td>19 bhp</td>\n",
                            "      <td>122374</td>\n",
                            "    </tr>\n",
                            "    <tr>\n",
                            "      <th>4</th>\n",
                            "      <td>Yamaha YZF-R15 150cc 2010</td>\n",
                            "      <td>2010</td>\n",
                            "      <td>86728 Km</td>\n",
                            "      <td>first owner</td>\n",
                            "      <td>pune</td>\n",
                            "      <td>\\n\\n 42 kmpl</td>\n",
                            "      <td>16 bhp</td>\n",
                            "      <td>38000</td>\n",
                            "    </tr>\n",
                            "  </tbody>\n",
                            "</table>\n",
                            "</div>"
                        ],
                        "text/plain": [
                            "                             model_name  model_year       kms_driven  \\\n",
                            "0  Royal Enfield Thunderbird 350cc 2016        2016         15144 Km   \n",
                            "1                Yamaha FZ16 150cc 2014        2014  Mileage 58 Kmpl   \n",
                            "2      Royal Enfield Classic 350cc 2018        2018         25000 Km   \n",
                            "3               Yamaha MT-15 150cc 2019        2019          5169 Km   \n",
                            "4             Yamaha YZF-R15 150cc 2010        2010         86728 Km   \n",
                            "\n",
                            "         owner   location       mileage      power   price  \n",
                            "0  first owner       pune  \\n\\n 40 kmpl  19.80 bhp  115320  \n",
                            "1  first owner  bangalore  \\n\\n 58 Kmpl     13 bhp   40000  \n",
                            "2  first owner    chennai  \\n\\n 35 kmpl  19.80 bhp  136900  \n",
                            "3  first owner  bangalore         \\n\\n      19 bhp  122374  \n",
                            "4  first owner       pune  \\n\\n 42 kmpl     16 bhp   38000  "
                        ]
                    },
                    "metadata": {},
                    "execution_count": 7
                }
            ],
            "metadata": {}
        },
        {
            "cell_type": "code",
            "execution_count": 8,
            "source": [
                "df.tail(10)"
            ],
            "outputs": [
                {
                    "output_type": "execute_result",
                    "data": {
                        "text/html": [
                            "<div>\n",
                            "<style scoped>\n",
                            "    .dataframe tbody tr th:only-of-type {\n",
                            "        vertical-align: middle;\n",
                            "    }\n",
                            "\n",
                            "    .dataframe tbody tr th {\n",
                            "        vertical-align: top;\n",
                            "    }\n",
                            "\n",
                            "    .dataframe thead th {\n",
                            "        text-align: right;\n",
                            "    }\n",
                            "</style>\n",
                            "<table border=\"1\" class=\"dataframe\">\n",
                            "  <thead>\n",
                            "    <tr style=\"text-align: right;\">\n",
                            "      <th></th>\n",
                            "      <th>model_name</th>\n",
                            "      <th>model_year</th>\n",
                            "      <th>kms_driven</th>\n",
                            "      <th>owner</th>\n",
                            "      <th>location</th>\n",
                            "      <th>mileage</th>\n",
                            "      <th>power</th>\n",
                            "      <th>price</th>\n",
                            "    </tr>\n",
                            "  </thead>\n",
                            "  <tbody>\n",
                            "    <tr>\n",
                            "      <th>8054</th>\n",
                            "      <td>Yamaha YZF-R15 2.0 150cc 2014</td>\n",
                            "      <td>2014</td>\n",
                            "      <td>15910 Km</td>\n",
                            "      <td>first owner</td>\n",
                            "      <td>gurgaon</td>\n",
                            "      <td>NaN</td>\n",
                            "      <td>NaN</td>\n",
                            "      <td>45000</td>\n",
                            "    </tr>\n",
                            "    <tr>\n",
                            "      <th>8055</th>\n",
                            "      <td>Yamaha YZF-R15 150cc 2008</td>\n",
                            "      <td>2008</td>\n",
                            "      <td>33487 Km</td>\n",
                            "      <td>first owner</td>\n",
                            "      <td>faridabad</td>\n",
                            "      <td>NaN</td>\n",
                            "      <td>NaN</td>\n",
                            "      <td>32000</td>\n",
                            "    </tr>\n",
                            "    <tr>\n",
                            "      <th>8056</th>\n",
                            "      <td>Royal Enfield Classic 350cc 2017</td>\n",
                            "      <td>2017</td>\n",
                            "      <td>4932 Km</td>\n",
                            "      <td>first owner</td>\n",
                            "      <td>ludhiana</td>\n",
                            "      <td>NaN</td>\n",
                            "      <td>NaN</td>\n",
                            "      <td>130000</td>\n",
                            "    </tr>\n",
                            "    <tr>\n",
                            "      <th>8057</th>\n",
                            "      <td>Hero Passion Xpro Alloy 2016</td>\n",
                            "      <td>2016</td>\n",
                            "      <td>12009 Km</td>\n",
                            "      <td>first owner</td>\n",
                            "      <td>bhopal</td>\n",
                            "      <td>NaN</td>\n",
                            "      <td>NaN</td>\n",
                            "      <td>43000</td>\n",
                            "    </tr>\n",
                            "    <tr>\n",
                            "      <th>8058</th>\n",
                            "      <td>TVS Apache RTR 160cc 2010</td>\n",
                            "      <td>2010</td>\n",
                            "      <td>60 Kmpl</td>\n",
                            "      <td>second owner</td>\n",
                            "      <td>chennai</td>\n",
                            "      <td>NaN</td>\n",
                            "      <td>NaN</td>\n",
                            "      <td>23000</td>\n",
                            "    </tr>\n",
                            "    <tr>\n",
                            "      <th>8059</th>\n",
                            "      <td>Honda CB Hornet 160R CBS 2016</td>\n",
                            "      <td>2016</td>\n",
                            "      <td>52 Kmpl</td>\n",
                            "      <td>first owner</td>\n",
                            "      <td>bangalore</td>\n",
                            "      <td>NaN</td>\n",
                            "      <td>NaN</td>\n",
                            "      <td>49000</td>\n",
                            "    </tr>\n",
                            "    <tr>\n",
                            "      <th>8060</th>\n",
                            "      <td>KTM Duke 390cc 2016</td>\n",
                            "      <td>2016</td>\n",
                            "      <td>38500 Km</td>\n",
                            "      <td>first owner</td>\n",
                            "      <td>pune</td>\n",
                            "      <td>NaN</td>\n",
                            "      <td>NaN</td>\n",
                            "      <td>115000</td>\n",
                            "    </tr>\n",
                            "    <tr>\n",
                            "      <th>8061</th>\n",
                            "      <td>Bajaj Pulsar 150cc 2008</td>\n",
                            "      <td>2008</td>\n",
                            "      <td>65 Kmpl</td>\n",
                            "      <td>first owner</td>\n",
                            "      <td>chennai</td>\n",
                            "      <td>NaN</td>\n",
                            "      <td>NaN</td>\n",
                            "      <td>16000</td>\n",
                            "    </tr>\n",
                            "    <tr>\n",
                            "      <th>8062</th>\n",
                            "      <td>Honda CB Twister 110cc 2010</td>\n",
                            "      <td>2010</td>\n",
                            "      <td>71 Kmpl</td>\n",
                            "      <td>first owner</td>\n",
                            "      <td>chennai</td>\n",
                            "      <td>NaN</td>\n",
                            "      <td>NaN</td>\n",
                            "      <td>16500</td>\n",
                            "    </tr>\n",
                            "    <tr>\n",
                            "      <th>8063</th>\n",
                            "      <td>TVS Apache RTR 200 4V FI Race Edition 2.0 2018</td>\n",
                            "      <td>2018</td>\n",
                            "      <td>40 Kmpl</td>\n",
                            "      <td>first owner</td>\n",
                            "      <td>indore</td>\n",
                            "      <td>NaN</td>\n",
                            "      <td>NaN</td>\n",
                            "      <td>78000</td>\n",
                            "    </tr>\n",
                            "  </tbody>\n",
                            "</table>\n",
                            "</div>"
                        ],
                        "text/plain": [
                            "                                          model_name  model_year kms_driven  \\\n",
                            "8054                   Yamaha YZF-R15 2.0 150cc 2014        2014   15910 Km   \n",
                            "8055                       Yamaha YZF-R15 150cc 2008        2008   33487 Km   \n",
                            "8056                Royal Enfield Classic 350cc 2017        2017    4932 Km   \n",
                            "8057                    Hero Passion Xpro Alloy 2016        2016   12009 Km   \n",
                            "8058                       TVS Apache RTR 160cc 2010        2010    60 Kmpl   \n",
                            "8059                   Honda CB Hornet 160R CBS 2016        2016    52 Kmpl   \n",
                            "8060                             KTM Duke 390cc 2016        2016   38500 Km   \n",
                            "8061                         Bajaj Pulsar 150cc 2008        2008    65 Kmpl   \n",
                            "8062                     Honda CB Twister 110cc 2010        2010    71 Kmpl   \n",
                            "8063  TVS Apache RTR 200 4V FI Race Edition 2.0 2018        2018    40 Kmpl   \n",
                            "\n",
                            "             owner   location mileage power   price  \n",
                            "8054   first owner    gurgaon     NaN   NaN   45000  \n",
                            "8055   first owner  faridabad     NaN   NaN   32000  \n",
                            "8056   first owner   ludhiana     NaN   NaN  130000  \n",
                            "8057   first owner     bhopal     NaN   NaN   43000  \n",
                            "8058  second owner    chennai     NaN   NaN   23000  \n",
                            "8059   first owner  bangalore     NaN   NaN   49000  \n",
                            "8060   first owner       pune     NaN   NaN  115000  \n",
                            "8061   first owner    chennai     NaN   NaN   16000  \n",
                            "8062   first owner    chennai     NaN   NaN   16500  \n",
                            "8063   first owner     indore     NaN   NaN   78000  "
                        ]
                    },
                    "metadata": {},
                    "execution_count": 8
                }
            ],
            "metadata": {}
        },
        {
            "cell_type": "code",
            "execution_count": 9,
            "source": [
                "df.info()"
            ],
            "outputs": [
                {
                    "output_type": "stream",
                    "name": "stdout",
                    "text": [
                        "<class 'pandas.core.frame.DataFrame'>\n",
                        "RangeIndex: 8064 entries, 0 to 8063\n",
                        "Data columns (total 8 columns):\n",
                        " #   Column      Non-Null Count  Dtype \n",
                        "---  ------      --------------  ----- \n",
                        " 0   model_name  8064 non-null   object\n",
                        " 1   model_year  8064 non-null   int64 \n",
                        " 2   kms_driven  8064 non-null   object\n",
                        " 3   owner       8064 non-null   object\n",
                        " 4   location    8043 non-null   object\n",
                        " 5   mileage     2872 non-null   object\n",
                        " 6   power       2875 non-null   object\n",
                        " 7   price       8064 non-null   int64 \n",
                        "dtypes: int64(2), object(6)\n",
                        "memory usage: 504.1+ KB\n"
                    ]
                }
            ],
            "metadata": {}
        },
        {
            "cell_type": "markdown",
            "source": [
                "## Data Cleaning"
            ],
            "metadata": {}
        },
        {
            "cell_type": "code",
            "execution_count": 10,
            "source": [
                "# remove whitespace from data\n",
                "df['model_name'] = df.model_name.str.strip()\n",
                "df['mileage'] = df.mileage.str.strip()"
            ],
            "outputs": [],
            "metadata": {}
        },
        {
            "cell_type": "code",
            "execution_count": 11,
            "source": [
                "df.sample(5)"
            ],
            "outputs": [
                {
                    "output_type": "execute_result",
                    "data": {
                        "text/html": [
                            "<div>\n",
                            "<style scoped>\n",
                            "    .dataframe tbody tr th:only-of-type {\n",
                            "        vertical-align: middle;\n",
                            "    }\n",
                            "\n",
                            "    .dataframe tbody tr th {\n",
                            "        vertical-align: top;\n",
                            "    }\n",
                            "\n",
                            "    .dataframe thead th {\n",
                            "        text-align: right;\n",
                            "    }\n",
                            "</style>\n",
                            "<table border=\"1\" class=\"dataframe\">\n",
                            "  <thead>\n",
                            "    <tr style=\"text-align: right;\">\n",
                            "      <th></th>\n",
                            "      <th>model_name</th>\n",
                            "      <th>model_year</th>\n",
                            "      <th>kms_driven</th>\n",
                            "      <th>owner</th>\n",
                            "      <th>location</th>\n",
                            "      <th>mileage</th>\n",
                            "      <th>power</th>\n",
                            "      <th>price</th>\n",
                            "    </tr>\n",
                            "  </thead>\n",
                            "  <tbody>\n",
                            "    <tr>\n",
                            "      <th>7407</th>\n",
                            "      <td>Bajaj Pulsar RS200 2015</td>\n",
                            "      <td>2015</td>\n",
                            "      <td>35 Kmpl</td>\n",
                            "      <td>first owner</td>\n",
                            "      <td>delhi</td>\n",
                            "      <td>NaN</td>\n",
                            "      <td>NaN</td>\n",
                            "      <td>87000</td>\n",
                            "    </tr>\n",
                            "    <tr>\n",
                            "      <th>5582</th>\n",
                            "      <td>Hero Splendor Plus 100cc 2019</td>\n",
                            "      <td>2019</td>\n",
                            "      <td>16057 Km</td>\n",
                            "      <td>first owner</td>\n",
                            "      <td>bangalore</td>\n",
                            "      <td>NaN</td>\n",
                            "      <td>NaN</td>\n",
                            "      <td>72000</td>\n",
                            "    </tr>\n",
                            "    <tr>\n",
                            "      <th>3816</th>\n",
                            "      <td>Bajaj Avenger Street 160 ABS 2019</td>\n",
                            "      <td>2019</td>\n",
                            "      <td>2000 Km</td>\n",
                            "      <td>first owner</td>\n",
                            "      <td>kolkata</td>\n",
                            "      <td>NaN</td>\n",
                            "      <td>NaN</td>\n",
                            "      <td>95000</td>\n",
                            "    </tr>\n",
                            "    <tr>\n",
                            "      <th>1982</th>\n",
                            "      <td>Bajaj Pulsar 125cc Disc BS6 2020</td>\n",
                            "      <td>2020</td>\n",
                            "      <td>66000 Km</td>\n",
                            "      <td>third owner</td>\n",
                            "      <td>jaipur</td>\n",
                            "      <td>62 kmpl</td>\n",
                            "      <td>11.64 bhp</td>\n",
                            "      <td>54500</td>\n",
                            "    </tr>\n",
                            "    <tr>\n",
                            "      <th>1292</th>\n",
                            "      <td>TVS Apache RTR 200 4V Carburetor 2017</td>\n",
                            "      <td>2017</td>\n",
                            "      <td>Mileage 40 Kmpl</td>\n",
                            "      <td>first owner</td>\n",
                            "      <td>thane</td>\n",
                            "      <td>40 Kmpl</td>\n",
                            "      <td>20.70 bhp</td>\n",
                            "      <td>71600</td>\n",
                            "    </tr>\n",
                            "  </tbody>\n",
                            "</table>\n",
                            "</div>"
                        ],
                        "text/plain": [
                            "                                 model_name  model_year       kms_driven  \\\n",
                            "7407                Bajaj Pulsar RS200 2015        2015          35 Kmpl   \n",
                            "5582          Hero Splendor Plus 100cc 2019        2019         16057 Km   \n",
                            "3816      Bajaj Avenger Street 160 ABS 2019        2019          2000 Km   \n",
                            "1982       Bajaj Pulsar 125cc Disc BS6 2020        2020         66000 Km   \n",
                            "1292  TVS Apache RTR 200 4V Carburetor 2017        2017  Mileage 40 Kmpl   \n",
                            "\n",
                            "            owner   location  mileage      power  price  \n",
                            "7407  first owner      delhi      NaN        NaN  87000  \n",
                            "5582  first owner  bangalore      NaN        NaN  72000  \n",
                            "3816  first owner    kolkata      NaN        NaN  95000  \n",
                            "1982  third owner     jaipur  62 kmpl  11.64 bhp  54500  \n",
                            "1292  first owner      thane  40 Kmpl  20.70 bhp  71600  "
                        ]
                    },
                    "metadata": {},
                    "execution_count": 11
                }
            ],
            "metadata": {}
        },
        {
            "cell_type": "code",
            "execution_count": 12,
            "source": [
                "# Remove commas from kms_driven and price columns\n",
                "\n",
                "def clean_kms_driven(val):\n",
                "    if not val:\n",
                "        return ''\n",
                "\n",
                "    val = val.lower()\n",
                "\n",
                "    if 'kms' in val:\n",
                "        val = val.replace('kms','')\n",
                "\n",
                "    if 'km' in val:\n",
                "        val = val.replace('km','')\n",
                "\n",
                "    if 'mileage' in val.lower():\n",
                "        return np.nan\n",
                "\n",
                "    return val.replace(',','')\n",
                "\n",
                "\n",
                "def clean_price(val):\n",
                "    \"\"\"\n",
                "    1. remove currency symbol.\n",
                "    2. remove commas\n",
                "    \"\"\"\n",
                "    if not val:\n",
                "        return ''\n",
                "\n",
                "    val = str(val)\n",
                "\n",
                "    val = val.replace(',','')\n",
                "\n",
                "    if 'lakh' in val.lower():\n",
                "        val = val.lower().replace('lakh','')\n",
                "        val = float(val)\n",
                "        return val * 100000\n",
                "\n",
                "    return val\n",
                "    \n",
                "\n",
                "df['kms_driven'] = df['kms_driven'].apply(clean_kms_driven)\n",
                "\n",
                "df['price'] = df['price'].apply(clean_price)\n",
                "\n"
            ],
            "outputs": [],
            "metadata": {}
        },
        {
            "cell_type": "code",
            "execution_count": 13,
            "source": [
                "df['kms_driven'] = pd.to_numeric(df['kms_driven'],errors='coerce',downcast='integer')\n",
                "df['price'] = pd.to_numeric(df['price'],errors='coerce',downcast='integer')"
            ],
            "outputs": [],
            "metadata": {}
        },
        {
            "cell_type": "code",
            "execution_count": 14,
            "source": [
                "# location feature have comma separated values\n",
                "# need to make it a single value, for that let's take\n",
                "# the last value as it is the main city name\n",
                "\n",
                "def clean_location(val):\n",
                "    if not val:\n",
                "        return ''\n",
                "    \n",
                "    return str(val).split(',')[-1].strip()\n",
                "\n",
                "df['location'] = df['location'].apply(clean_location)"
            ],
            "outputs": [],
            "metadata": {}
        },
        {
            "cell_type": "code",
            "execution_count": 15,
            "source": [
                "df.location.value_counts()[:10]"
            ],
            "outputs": [
                {
                    "output_type": "execute_result",
                    "data": {
                        "text/plain": [
                            "delhi         1523\n",
                            "bangalore      805\n",
                            "mumbai         788\n",
                            "chennai        349\n",
                            "jaipur         338\n",
                            "gurgaon        337\n",
                            "hyderabad      326\n",
                            "pune           321\n",
                            "ahmedabad      250\n",
                            "chandigarh     172\n",
                            "Name: location, dtype: int64"
                        ]
                    },
                    "metadata": {},
                    "execution_count": 15
                }
            ],
            "metadata": {}
        },
        {
            "cell_type": "code",
            "execution_count": 16,
            "source": [
                "\n",
                "def clean_owner(val):\n",
                "    if not val:\n",
                "        return val\n",
                "\n",
                "    val = val.replace('owner','')\n",
                "\n",
                "    if 'or more' in val.lower():\n",
                "        return 'fourth'\n",
                "\n",
                "    return val\n",
                "\n",
                "df['owner'] = df['owner'].apply(clean_owner)"
            ],
            "outputs": [],
            "metadata": {}
        },
        {
            "cell_type": "code",
            "execution_count": 17,
            "source": [
                "df.sample(5)"
            ],
            "outputs": [
                {
                    "output_type": "execute_result",
                    "data": {
                        "text/html": [
                            "<div>\n",
                            "<style scoped>\n",
                            "    .dataframe tbody tr th:only-of-type {\n",
                            "        vertical-align: middle;\n",
                            "    }\n",
                            "\n",
                            "    .dataframe tbody tr th {\n",
                            "        vertical-align: top;\n",
                            "    }\n",
                            "\n",
                            "    .dataframe thead th {\n",
                            "        text-align: right;\n",
                            "    }\n",
                            "</style>\n",
                            "<table border=\"1\" class=\"dataframe\">\n",
                            "  <thead>\n",
                            "    <tr style=\"text-align: right;\">\n",
                            "      <th></th>\n",
                            "      <th>model_name</th>\n",
                            "      <th>model_year</th>\n",
                            "      <th>kms_driven</th>\n",
                            "      <th>owner</th>\n",
                            "      <th>location</th>\n",
                            "      <th>mileage</th>\n",
                            "      <th>power</th>\n",
                            "      <th>price</th>\n",
                            "    </tr>\n",
                            "  </thead>\n",
                            "  <tbody>\n",
                            "    <tr>\n",
                            "      <th>5211</th>\n",
                            "      <td>Bajaj Avenger Street 150 2016</td>\n",
                            "      <td>2016</td>\n",
                            "      <td>40000.0</td>\n",
                            "      <td>second</td>\n",
                            "      <td>pune</td>\n",
                            "      <td>NaN</td>\n",
                            "      <td>NaN</td>\n",
                            "      <td>70000.0</td>\n",
                            "    </tr>\n",
                            "    <tr>\n",
                            "      <th>6703</th>\n",
                            "      <td>Royal Enfield Standard 500cc 2018</td>\n",
                            "      <td>2017</td>\n",
                            "      <td>2330.0</td>\n",
                            "      <td>first</td>\n",
                            "      <td>delhi</td>\n",
                            "      <td>NaN</td>\n",
                            "      <td>NaN</td>\n",
                            "      <td>161793.0</td>\n",
                            "    </tr>\n",
                            "    <tr>\n",
                            "      <th>1948</th>\n",
                            "      <td>TVS Apache RTR 160cc 2017</td>\n",
                            "      <td>2017</td>\n",
                            "      <td>NaN</td>\n",
                            "      <td>first</td>\n",
                            "      <td>chandigarh</td>\n",
                            "      <td>60 Kmpl</td>\n",
                            "      <td>15.2 bhp</td>\n",
                            "      <td>56800.0</td>\n",
                            "    </tr>\n",
                            "    <tr>\n",
                            "      <th>4790</th>\n",
                            "      <td>Bajaj Pulsar RS200 ABS 2018</td>\n",
                            "      <td>2018</td>\n",
                            "      <td>NaN</td>\n",
                            "      <td>first</td>\n",
                            "      <td>jalandhar</td>\n",
                            "      <td>NaN</td>\n",
                            "      <td>NaN</td>\n",
                            "      <td>120000.0</td>\n",
                            "    </tr>\n",
                            "    <tr>\n",
                            "      <th>6036</th>\n",
                            "      <td>Royal Enfield Electra 350cc 2017</td>\n",
                            "      <td>2017</td>\n",
                            "      <td>4500.0</td>\n",
                            "      <td>first</td>\n",
                            "      <td>noida</td>\n",
                            "      <td>NaN</td>\n",
                            "      <td>NaN</td>\n",
                            "      <td>106000.0</td>\n",
                            "    </tr>\n",
                            "  </tbody>\n",
                            "</table>\n",
                            "</div>"
                        ],
                        "text/plain": [
                            "                             model_name  model_year  kms_driven    owner  \\\n",
                            "5211      Bajaj Avenger Street 150 2016        2016     40000.0  second    \n",
                            "6703  Royal Enfield Standard 500cc 2018        2017      2330.0   first    \n",
                            "1948          TVS Apache RTR 160cc 2017        2017         NaN   first    \n",
                            "4790        Bajaj Pulsar RS200 ABS 2018        2018         NaN   first    \n",
                            "6036   Royal Enfield Electra 350cc 2017        2017      4500.0   first    \n",
                            "\n",
                            "        location  mileage     power     price  \n",
                            "5211        pune      NaN       NaN   70000.0  \n",
                            "6703       delhi      NaN       NaN  161793.0  \n",
                            "1948  chandigarh  60 Kmpl  15.2 bhp   56800.0  \n",
                            "4790   jalandhar      NaN       NaN  120000.0  \n",
                            "6036       noida      NaN       NaN  106000.0  "
                        ]
                    },
                    "metadata": {},
                    "execution_count": 17
                }
            ],
            "metadata": {}
        },
        {
            "cell_type": "code",
            "execution_count": 18,
            "source": [
                "df.info()"
            ],
            "outputs": [
                {
                    "output_type": "stream",
                    "name": "stdout",
                    "text": [
                        "<class 'pandas.core.frame.DataFrame'>\n",
                        "RangeIndex: 8064 entries, 0 to 8063\n",
                        "Data columns (total 8 columns):\n",
                        " #   Column      Non-Null Count  Dtype  \n",
                        "---  ------      --------------  -----  \n",
                        " 0   model_name  8064 non-null   object \n",
                        " 1   model_year  8064 non-null   int64  \n",
                        " 2   kms_driven  5987 non-null   float64\n",
                        " 3   owner       8064 non-null   object \n",
                        " 4   location    8064 non-null   object \n",
                        " 5   mileage     2872 non-null   object \n",
                        " 6   power       2875 non-null   object \n",
                        " 7   price       8029 non-null   float64\n",
                        "dtypes: float64(2), int64(1), object(5)\n",
                        "memory usage: 504.1+ KB\n"
                    ]
                }
            ],
            "metadata": {}
        },
        {
            "cell_type": "markdown",
            "source": [
                "### Handle Mileage"
            ],
            "metadata": {}
        },
        {
            "cell_type": "code",
            "execution_count": 19,
            "source": [
                "def clean_mileage(val):\n",
                "    if not val:\n",
                "        return np.nan\n",
                "    \n",
                "    return str(val).lower().replace('kmpl','')\n",
                "\n",
                "df['mileage'] = df.mileage.apply(clean_mileage)"
            ],
            "outputs": [],
            "metadata": {}
        },
        {
            "cell_type": "markdown",
            "source": [
                "### Hanlde power"
            ],
            "metadata": {}
        },
        {
            "cell_type": "code",
            "execution_count": 20,
            "source": [
                "def clean_power(val):\n",
                "    if not val:\n",
                "        return np.nan\n",
                "    \n",
                "    return str(val).lower().replace('bhp','')\n",
                "\n",
                "df['power'] = df.power.apply(clean_power)"
            ],
            "outputs": [],
            "metadata": {}
        },
        {
            "cell_type": "code",
            "execution_count": 21,
            "source": [
                "df.sample(5)"
            ],
            "outputs": [
                {
                    "output_type": "execute_result",
                    "data": {
                        "text/html": [
                            "<div>\n",
                            "<style scoped>\n",
                            "    .dataframe tbody tr th:only-of-type {\n",
                            "        vertical-align: middle;\n",
                            "    }\n",
                            "\n",
                            "    .dataframe tbody tr th {\n",
                            "        vertical-align: top;\n",
                            "    }\n",
                            "\n",
                            "    .dataframe thead th {\n",
                            "        text-align: right;\n",
                            "    }\n",
                            "</style>\n",
                            "<table border=\"1\" class=\"dataframe\">\n",
                            "  <thead>\n",
                            "    <tr style=\"text-align: right;\">\n",
                            "      <th></th>\n",
                            "      <th>model_name</th>\n",
                            "      <th>model_year</th>\n",
                            "      <th>kms_driven</th>\n",
                            "      <th>owner</th>\n",
                            "      <th>location</th>\n",
                            "      <th>mileage</th>\n",
                            "      <th>power</th>\n",
                            "      <th>price</th>\n",
                            "    </tr>\n",
                            "  </thead>\n",
                            "  <tbody>\n",
                            "    <tr>\n",
                            "      <th>3542</th>\n",
                            "      <td>Royal Enfield Classic Gunmetal Grey 350cc 2018</td>\n",
                            "      <td>2018</td>\n",
                            "      <td>3500.0</td>\n",
                            "      <td>first</td>\n",
                            "      <td>patiala</td>\n",
                            "      <td>nan</td>\n",
                            "      <td>nan</td>\n",
                            "      <td>135000.0</td>\n",
                            "    </tr>\n",
                            "    <tr>\n",
                            "      <th>7308</th>\n",
                            "      <td>Hero Passion Plus 100cc 2005</td>\n",
                            "      <td>2005</td>\n",
                            "      <td>30000.0</td>\n",
                            "      <td>first</td>\n",
                            "      <td>delhi</td>\n",
                            "      <td>nan</td>\n",
                            "      <td>nan</td>\n",
                            "      <td>9000.0</td>\n",
                            "    </tr>\n",
                            "    <tr>\n",
                            "      <th>7782</th>\n",
                            "      <td>Royal Enfield Classic 350cc 2017</td>\n",
                            "      <td>2017</td>\n",
                            "      <td>13190.0</td>\n",
                            "      <td>first</td>\n",
                            "      <td>delhi</td>\n",
                            "      <td>nan</td>\n",
                            "      <td>nan</td>\n",
                            "      <td>100000.0</td>\n",
                            "    </tr>\n",
                            "    <tr>\n",
                            "      <th>3455</th>\n",
                            "      <td>Yamaha FZ16 150cc 2011</td>\n",
                            "      <td>2011</td>\n",
                            "      <td>NaN</td>\n",
                            "      <td>first</td>\n",
                            "      <td>mumbai</td>\n",
                            "      <td>nan</td>\n",
                            "      <td>nan</td>\n",
                            "      <td>25000.0</td>\n",
                            "    </tr>\n",
                            "    <tr>\n",
                            "      <th>1667</th>\n",
                            "      <td>Hero Xtreme 160R Front Disc BS6 2020</td>\n",
                            "      <td>2020</td>\n",
                            "      <td>15000.0</td>\n",
                            "      <td>first</td>\n",
                            "      <td>jaipur</td>\n",
                            "      <td>55.47</td>\n",
                            "      <td>15</td>\n",
                            "      <td>93000.0</td>\n",
                            "    </tr>\n",
                            "  </tbody>\n",
                            "</table>\n",
                            "</div>"
                        ],
                        "text/plain": [
                            "                                          model_name  model_year  kms_driven  \\\n",
                            "3542  Royal Enfield Classic Gunmetal Grey 350cc 2018        2018      3500.0   \n",
                            "7308                    Hero Passion Plus 100cc 2005        2005     30000.0   \n",
                            "7782                Royal Enfield Classic 350cc 2017        2017     13190.0   \n",
                            "3455                          Yamaha FZ16 150cc 2011        2011         NaN   \n",
                            "1667            Hero Xtreme 160R Front Disc BS6 2020        2020     15000.0   \n",
                            "\n",
                            "       owner location mileage power     price  \n",
                            "3542  first   patiala     nan   nan  135000.0  \n",
                            "7308  first     delhi     nan   nan    9000.0  \n",
                            "7782  first     delhi     nan   nan  100000.0  \n",
                            "3455  first    mumbai     nan   nan   25000.0  \n",
                            "1667  first    jaipur  55.47    15    93000.0  "
                        ]
                    },
                    "metadata": {},
                    "execution_count": 21
                }
            ],
            "metadata": {}
        },
        {
            "cell_type": "code",
            "execution_count": 22,
            "source": [
                "df.duplicated().sum()"
            ],
            "outputs": [
                {
                    "output_type": "execute_result",
                    "data": {
                        "text/plain": [
                            "73"
                        ]
                    },
                    "metadata": {},
                    "execution_count": 22
                }
            ],
            "metadata": {}
        },
        {
            "cell_type": "code",
            "execution_count": 23,
            "source": [
                "df = df[~df.duplicated()]"
            ],
            "outputs": [],
            "metadata": {}
        },
        {
            "cell_type": "code",
            "execution_count": 24,
            "source": [
                "df.shape"
            ],
            "outputs": [
                {
                    "output_type": "execute_result",
                    "data": {
                        "text/plain": [
                            "(7991, 8)"
                        ]
                    },
                    "metadata": {},
                    "execution_count": 24
                }
            ],
            "metadata": {}
        },
        {
            "cell_type": "markdown",
            "source": [
                "## Handle Missing Values"
            ],
            "metadata": {}
        },
        {
            "cell_type": "code",
            "execution_count": 25,
            "source": [
                "df.isnull().sum()"
            ],
            "outputs": [
                {
                    "output_type": "execute_result",
                    "data": {
                        "text/plain": [
                            "model_name       0\n",
                            "model_year       0\n",
                            "kms_driven    2043\n",
                            "owner            0\n",
                            "location         0\n",
                            "mileage        312\n",
                            "power            0\n",
                            "price           35\n",
                            "dtype: int64"
                        ]
                    },
                    "metadata": {},
                    "execution_count": 25
                }
            ],
            "metadata": {}
        },
        {
            "cell_type": "markdown",
            "source": [
                "## Fix column type"
            ],
            "metadata": {}
        },
        {
            "cell_type": "code",
            "execution_count": 26,
            "source": [
                "df.info()"
            ],
            "outputs": [
                {
                    "output_type": "stream",
                    "name": "stdout",
                    "text": [
                        "<class 'pandas.core.frame.DataFrame'>\n",
                        "Int64Index: 7991 entries, 0 to 8063\n",
                        "Data columns (total 8 columns):\n",
                        " #   Column      Non-Null Count  Dtype  \n",
                        "---  ------      --------------  -----  \n",
                        " 0   model_name  7991 non-null   object \n",
                        " 1   model_year  7991 non-null   int64  \n",
                        " 2   kms_driven  5948 non-null   float64\n",
                        " 3   owner       7991 non-null   object \n",
                        " 4   location    7991 non-null   object \n",
                        " 5   mileage     7679 non-null   object \n",
                        " 6   power       7991 non-null   object \n",
                        " 7   price       7956 non-null   float64\n",
                        "dtypes: float64(2), int64(1), object(5)\n",
                        "memory usage: 561.9+ KB\n"
                    ]
                }
            ],
            "metadata": {}
        },
        {
            "cell_type": "code",
            "execution_count": 27,
            "source": [
                "df['mileage'] = pd.to_numeric(df['mileage'],errors='coerce') #df.mileage.astype(int,errors='ignore')\n",
                "df['power'] = pd.to_numeric(df['power'],errors='coerce')"
            ],
            "outputs": [],
            "metadata": {}
        },
        {
            "cell_type": "code",
            "execution_count": 28,
            "source": [
                "df['mileage'] = df.mileage.astype(int,errors='ignore') #pd.to_numeric(df['mileage'],errors='coerce',downcast='integer') #df.mileage.astype(int,errors='ignore')\n",
                "df['power'] = df.power.astype(int,errors='ignore')"
            ],
            "outputs": [],
            "metadata": {}
        },
        {
            "cell_type": "code",
            "execution_count": 29,
            "source": [
                "df.info()"
            ],
            "outputs": [
                {
                    "output_type": "stream",
                    "name": "stdout",
                    "text": [
                        "<class 'pandas.core.frame.DataFrame'>\n",
                        "Int64Index: 7991 entries, 0 to 8063\n",
                        "Data columns (total 8 columns):\n",
                        " #   Column      Non-Null Count  Dtype  \n",
                        "---  ------      --------------  -----  \n",
                        " 0   model_name  7991 non-null   object \n",
                        " 1   model_year  7991 non-null   int64  \n",
                        " 2   kms_driven  5948 non-null   float64\n",
                        " 3   owner       7991 non-null   object \n",
                        " 4   location    7991 non-null   object \n",
                        " 5   mileage     2436 non-null   float64\n",
                        " 6   power       2722 non-null   float64\n",
                        " 7   price       7956 non-null   float64\n",
                        "dtypes: float64(4), int64(1), object(3)\n",
                        "memory usage: 561.9+ KB\n"
                    ]
                }
            ],
            "metadata": {}
        },
        {
            "cell_type": "code",
            "execution_count": 30,
            "source": [
                "df.shape"
            ],
            "outputs": [
                {
                    "output_type": "execute_result",
                    "data": {
                        "text/plain": [
                            "(7991, 8)"
                        ]
                    },
                    "metadata": {},
                    "execution_count": 30
                }
            ],
            "metadata": {}
        },
        {
            "cell_type": "code",
            "execution_count": 31,
            "source": [
                "cols = ['kms_driven', 'price','mileage','power']\n",
                "for col in cols:\n",
                "    df[col] = pd.to_numeric(df[col], errors='coerce', downcast='integer')"
            ],
            "outputs": [],
            "metadata": {}
        },
        {
            "cell_type": "code",
            "execution_count": 32,
            "source": [
                "df.to_csv('../data/processed/data.csv',index=False)"
            ],
            "outputs": [],
            "metadata": {}
        }
    ],
    "metadata": {
        "orig_nbformat": 4,
        "language_info": {
            "name": "python",
            "version": "3.8.8",
            "mimetype": "text/x-python",
            "codemirror_mode": {
                "name": "ipython",
                "version": 3
            },
            "pygments_lexer": "ipython3",
            "nbconvert_exporter": "python",
            "file_extension": ".py"
        },
        "kernelspec": {
            "name": "python3",
            "display_name": "Python 3.8.8 64-bit ('base': conda)"
        },
        "interpreter": {
            "hash": "d213f6e5b8fd7d14bb00958cfb5f51bfe315e9248ff051fde0d0d79c3d0f4eba"
        }
    },
    "nbformat": 4,
    "nbformat_minor": 2
}