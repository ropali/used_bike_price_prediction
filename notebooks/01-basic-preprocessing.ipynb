{
    "cells": [
        {
            "cell_type": "code",
            "execution_count": 1,
            "source": [
                "import pandas as pd\n",
                "import numpy as np\n",
                "import matplotlib.pyplot as plt\n",
                "import seaborn as sns"
            ],
            "outputs": [],
            "metadata": {}
        },
        {
            "cell_type": "code",
            "execution_count": 2,
            "source": [
                "df = pd.read_csv('../data/raw/data.csv')"
            ],
            "outputs": [],
            "metadata": {}
        },
        {
            "cell_type": "code",
            "execution_count": 3,
            "source": [
                "df.shape"
            ],
            "outputs": [
                {
                    "output_type": "execute_result",
                    "data": {
                        "text/plain": [
                            "(7924, 10)"
                        ]
                    },
                    "metadata": {},
                    "execution_count": 3
                }
            ],
            "metadata": {}
        },
        {
            "cell_type": "code",
            "execution_count": 4,
            "source": [
                "df.head()"
            ],
            "outputs": [
                {
                    "output_type": "execute_result",
                    "data": {
                        "text/html": [
                            "<div>\n",
                            "<style scoped>\n",
                            "    .dataframe tbody tr th:only-of-type {\n",
                            "        vertical-align: middle;\n",
                            "    }\n",
                            "\n",
                            "    .dataframe tbody tr th {\n",
                            "        vertical-align: top;\n",
                            "    }\n",
                            "\n",
                            "    .dataframe thead th {\n",
                            "        text-align: right;\n",
                            "    }\n",
                            "</style>\n",
                            "<table border=\"1\" class=\"dataframe\">\n",
                            "  <thead>\n",
                            "    <tr style=\"text-align: right;\">\n",
                            "      <th></th>\n",
                            "      <th>model_name</th>\n",
                            "      <th>model_year</th>\n",
                            "      <th>kms_driven</th>\n",
                            "      <th>owner</th>\n",
                            "      <th>location</th>\n",
                            "      <th>mileage</th>\n",
                            "      <th>engine</th>\n",
                            "      <th>power</th>\n",
                            "      <th>wheel_size</th>\n",
                            "      <th>price</th>\n",
                            "    </tr>\n",
                            "  </thead>\n",
                            "  <tbody>\n",
                            "    <tr>\n",
                            "      <th>0</th>\n",
                            "      <td>Yamaha SZR 150cc 2012</td>\n",
                            "      <td>2012</td>\n",
                            "      <td>34000 Km</td>\n",
                            "      <td>first owner</td>\n",
                            "      <td>bengaluru</td>\n",
                            "      <td>\\n\\n</td>\n",
                            "      <td>NaN</td>\n",
                            "      <td>12 bhp</td>\n",
                            "      <td>NaN</td>\n",
                            "      <td>24000</td>\n",
                            "    </tr>\n",
                            "    <tr>\n",
                            "      <th>1</th>\n",
                            "      <td>Hero CD Dawn 100cc 2005</td>\n",
                            "      <td>2005</td>\n",
                            "      <td>28000 Km</td>\n",
                            "      <td>first owner</td>\n",
                            "      <td>ghaziabad</td>\n",
                            "      <td>\\n\\n 72 kmpl</td>\n",
                            "      <td>NaN</td>\n",
                            "      <td>7.0 bhp</td>\n",
                            "      <td>NaN</td>\n",
                            "      <td>10000</td>\n",
                            "    </tr>\n",
                            "    <tr>\n",
                            "      <th>2</th>\n",
                            "      <td>Bajaj Avenger Street 220 2017</td>\n",
                            "      <td>2017</td>\n",
                            "      <td>5947 Km</td>\n",
                            "      <td>first owner</td>\n",
                            "      <td>chennai</td>\n",
                            "      <td>\\n\\n 53 kmpl</td>\n",
                            "      <td>NaN</td>\n",
                            "      <td>19 bhp</td>\n",
                            "      <td>NaN</td>\n",
                            "      <td>80000</td>\n",
                            "    </tr>\n",
                            "    <tr>\n",
                            "      <th>3</th>\n",
                            "      <td>Jawa Standard 295CC Dual ABS BS6 2020</td>\n",
                            "      <td>2020</td>\n",
                            "      <td>2700 Km</td>\n",
                            "      <td>first owner</td>\n",
                            "      <td>mumbai</td>\n",
                            "      <td>\\n\\n Liquid Cooled</td>\n",
                            "      <td>NaN</td>\n",
                            "      <td>27 bhp</td>\n",
                            "      <td>NaN</td>\n",
                            "      <td>160000</td>\n",
                            "    </tr>\n",
                            "    <tr>\n",
                            "      <th>4</th>\n",
                            "      <td>Hero Xpulse 200cc BS6 2021</td>\n",
                            "      <td>2021</td>\n",
                            "      <td>628 Km</td>\n",
                            "      <td>first owner</td>\n",
                            "      <td>gwalior</td>\n",
                            "      <td>\\n\\n 46.40 kmpl</td>\n",
                            "      <td>NaN</td>\n",
                            "      <td>17.8 bhp</td>\n",
                            "      <td>NaN</td>\n",
                            "      <td>110000</td>\n",
                            "    </tr>\n",
                            "  </tbody>\n",
                            "</table>\n",
                            "</div>"
                        ],
                        "text/plain": [
                            "                              model_name  model_year kms_driven        owner  \\\n",
                            "0                  Yamaha SZR 150cc 2012        2012   34000 Km  first owner   \n",
                            "1                Hero CD Dawn 100cc 2005        2005   28000 Km  first owner   \n",
                            "2          Bajaj Avenger Street 220 2017        2017    5947 Km  first owner   \n",
                            "3  Jawa Standard 295CC Dual ABS BS6 2020        2020    2700 Km  first owner   \n",
                            "4             Hero Xpulse 200cc BS6 2021        2021     628 Km  first owner   \n",
                            "\n",
                            "    location             mileage  engine     power  wheel_size   price  \n",
                            "0  bengaluru               \\n\\n      NaN    12 bhp         NaN   24000  \n",
                            "1  ghaziabad        \\n\\n 72 kmpl     NaN   7.0 bhp         NaN   10000  \n",
                            "2    chennai        \\n\\n 53 kmpl     NaN    19 bhp         NaN   80000  \n",
                            "3     mumbai  \\n\\n Liquid Cooled     NaN    27 bhp         NaN  160000  \n",
                            "4    gwalior     \\n\\n 46.40 kmpl     NaN  17.8 bhp         NaN  110000  "
                        ]
                    },
                    "metadata": {},
                    "execution_count": 4
                }
            ],
            "metadata": {}
        },
        {
            "cell_type": "code",
            "execution_count": 5,
            "source": [
                "df.tail(10)"
            ],
            "outputs": [
                {
                    "output_type": "execute_result",
                    "data": {
                        "text/html": [
                            "<div>\n",
                            "<style scoped>\n",
                            "    .dataframe tbody tr th:only-of-type {\n",
                            "        vertical-align: middle;\n",
                            "    }\n",
                            "\n",
                            "    .dataframe tbody tr th {\n",
                            "        vertical-align: top;\n",
                            "    }\n",
                            "\n",
                            "    .dataframe thead th {\n",
                            "        text-align: right;\n",
                            "    }\n",
                            "</style>\n",
                            "<table border=\"1\" class=\"dataframe\">\n",
                            "  <thead>\n",
                            "    <tr style=\"text-align: right;\">\n",
                            "      <th></th>\n",
                            "      <th>model_name</th>\n",
                            "      <th>model_year</th>\n",
                            "      <th>kms_driven</th>\n",
                            "      <th>owner</th>\n",
                            "      <th>location</th>\n",
                            "      <th>mileage</th>\n",
                            "      <th>engine</th>\n",
                            "      <th>power</th>\n",
                            "      <th>wheel_size</th>\n",
                            "      <th>price</th>\n",
                            "    </tr>\n",
                            "  </thead>\n",
                            "  <tbody>\n",
                            "    <tr>\n",
                            "      <th>7914</th>\n",
                            "      <td>KTM RC 200cc 2017</td>\n",
                            "      <td>2017</td>\n",
                            "      <td>15000 Km</td>\n",
                            "      <td>first owner</td>\n",
                            "      <td>thane</td>\n",
                            "      <td>\\n\\n 35 kmpl</td>\n",
                            "      <td>NaN</td>\n",
                            "      <td>25.10 bhp</td>\n",
                            "      <td>NaN</td>\n",
                            "      <td>115000</td>\n",
                            "    </tr>\n",
                            "    <tr>\n",
                            "      <th>7915</th>\n",
                            "      <td>Yamaha FZ16 150cc 2013</td>\n",
                            "      <td>2013</td>\n",
                            "      <td>Mileage 58 Kmpl</td>\n",
                            "      <td>first owner</td>\n",
                            "      <td>delhi</td>\n",
                            "      <td>\\n\\n 58 Kmpl</td>\n",
                            "      <td>NaN</td>\n",
                            "      <td>13 bhp</td>\n",
                            "      <td>NaN</td>\n",
                            "      <td>30000</td>\n",
                            "    </tr>\n",
                            "    <tr>\n",
                            "      <th>7916</th>\n",
                            "      <td>Bajaj Pulsar 150cc 2011</td>\n",
                            "      <td>2011</td>\n",
                            "      <td>Mileage 65 Kmpl</td>\n",
                            "      <td>first owner</td>\n",
                            "      <td>faridabad</td>\n",
                            "      <td>\\n\\n 65 Kmpl</td>\n",
                            "      <td>NaN</td>\n",
                            "      <td>14.85 bhp</td>\n",
                            "      <td>NaN</td>\n",
                            "      <td>21100</td>\n",
                            "    </tr>\n",
                            "    <tr>\n",
                            "      <th>7917</th>\n",
                            "      <td>Bajaj Avenger Street 150 2017</td>\n",
                            "      <td>2017</td>\n",
                            "      <td>9000 Km</td>\n",
                            "      <td>first owner</td>\n",
                            "      <td>lansdowne</td>\n",
                            "      <td>\\n\\n 45 kmpl</td>\n",
                            "      <td>NaN</td>\n",
                            "      <td>14.30 bhp</td>\n",
                            "      <td>NaN</td>\n",
                            "      <td>70000</td>\n",
                            "    </tr>\n",
                            "    <tr>\n",
                            "      <th>7918</th>\n",
                            "      <td>Bajaj Avenger 220cc 2015</td>\n",
                            "      <td>2015</td>\n",
                            "      <td>7600 Km</td>\n",
                            "      <td>first owner</td>\n",
                            "      <td>bangalore</td>\n",
                            "      <td>\\n\\n 40 kmpl</td>\n",
                            "      <td>NaN</td>\n",
                            "      <td>19 bhp</td>\n",
                            "      <td>NaN</td>\n",
                            "      <td>60000</td>\n",
                            "    </tr>\n",
                            "    <tr>\n",
                            "      <th>7919</th>\n",
                            "      <td>Bajaj Pulsar NS200 2013</td>\n",
                            "      <td>2013</td>\n",
                            "      <td>Mileage 35 Kmpl</td>\n",
                            "      <td>first owner</td>\n",
                            "      <td>navi mumbai</td>\n",
                            "      <td>\\n\\n 35 Kmpl</td>\n",
                            "      <td>NaN</td>\n",
                            "      <td>23.19 bhp</td>\n",
                            "      <td>NaN</td>\n",
                            "      <td>45999</td>\n",
                            "    </tr>\n",
                            "    <tr>\n",
                            "      <th>7920</th>\n",
                            "      <td>Bajaj Dominar 400 ABS 2017</td>\n",
                            "      <td>2017</td>\n",
                            "      <td>Mileage 28 Kms</td>\n",
                            "      <td>first owner</td>\n",
                            "      <td>delhi</td>\n",
                            "      <td>\\n\\n 28 Kms</td>\n",
                            "      <td>NaN</td>\n",
                            "      <td>34.50 bhp</td>\n",
                            "      <td>NaN</td>\n",
                            "      <td>140000</td>\n",
                            "    </tr>\n",
                            "    <tr>\n",
                            "      <th>7921</th>\n",
                            "      <td>Bajaj Pulsar RS200 ABS 2017</td>\n",
                            "      <td>2017</td>\n",
                            "      <td>Mileage 35 Kmpl</td>\n",
                            "      <td>first owner</td>\n",
                            "      <td>asansol</td>\n",
                            "      <td>\\n\\n 35 Kmpl</td>\n",
                            "      <td>NaN</td>\n",
                            "      <td>24.50 bhp</td>\n",
                            "      <td>NaN</td>\n",
                            "      <td>130000</td>\n",
                            "    </tr>\n",
                            "    <tr>\n",
                            "      <th>7922</th>\n",
                            "      <td>Yamaha Fazer FI V 2.0 150cc 2016</td>\n",
                            "      <td>2016</td>\n",
                            "      <td>Mileage 45 Kmpl</td>\n",
                            "      <td>first owner</td>\n",
                            "      <td>bangalore</td>\n",
                            "      <td>\\n\\n 45 Kmpl</td>\n",
                            "      <td>NaN</td>\n",
                            "      <td>13 bhp</td>\n",
                            "      <td>NaN</td>\n",
                            "      <td>70000</td>\n",
                            "    </tr>\n",
                            "    <tr>\n",
                            "      <th>7923</th>\n",
                            "      <td>Yamaha YZFR15 2.0 150 2016</td>\n",
                            "      <td>2016</td>\n",
                            "      <td>24500 Km</td>\n",
                            "      <td>first owner</td>\n",
                            "      <td>villupuram</td>\n",
                            "      <td>\\n\\n 42 kmpl</td>\n",
                            "      <td>NaN</td>\n",
                            "      <td>16.70 bhp</td>\n",
                            "      <td>NaN</td>\n",
                            "      <td>90000</td>\n",
                            "    </tr>\n",
                            "  </tbody>\n",
                            "</table>\n",
                            "</div>"
                        ],
                        "text/plain": [
                            "                            model_name  model_year       kms_driven  \\\n",
                            "7914                 KTM RC 200cc 2017        2017         15000 Km   \n",
                            "7915            Yamaha FZ16 150cc 2013        2013  Mileage 58 Kmpl   \n",
                            "7916           Bajaj Pulsar 150cc 2011        2011  Mileage 65 Kmpl   \n",
                            "7917     Bajaj Avenger Street 150 2017        2017          9000 Km   \n",
                            "7918          Bajaj Avenger 220cc 2015        2015          7600 Km   \n",
                            "7919           Bajaj Pulsar NS200 2013        2013  Mileage 35 Kmpl   \n",
                            "7920        Bajaj Dominar 400 ABS 2017        2017   Mileage 28 Kms   \n",
                            "7921       Bajaj Pulsar RS200 ABS 2017        2017  Mileage 35 Kmpl   \n",
                            "7922  Yamaha Fazer FI V 2.0 150cc 2016        2016  Mileage 45 Kmpl   \n",
                            "7923        Yamaha YZFR15 2.0 150 2016        2016         24500 Km   \n",
                            "\n",
                            "            owner     location       mileage  engine      power  wheel_size  \\\n",
                            "7914  first owner        thane  \\n\\n 35 kmpl     NaN  25.10 bhp         NaN   \n",
                            "7915  first owner        delhi  \\n\\n 58 Kmpl     NaN     13 bhp         NaN   \n",
                            "7916  first owner    faridabad  \\n\\n 65 Kmpl     NaN  14.85 bhp         NaN   \n",
                            "7917  first owner    lansdowne  \\n\\n 45 kmpl     NaN  14.30 bhp         NaN   \n",
                            "7918  first owner    bangalore  \\n\\n 40 kmpl     NaN     19 bhp         NaN   \n",
                            "7919  first owner  navi mumbai  \\n\\n 35 Kmpl     NaN  23.19 bhp         NaN   \n",
                            "7920  first owner        delhi   \\n\\n 28 Kms     NaN  34.50 bhp         NaN   \n",
                            "7921  first owner      asansol  \\n\\n 35 Kmpl     NaN  24.50 bhp         NaN   \n",
                            "7922  first owner    bangalore  \\n\\n 45 Kmpl     NaN     13 bhp         NaN   \n",
                            "7923  first owner   villupuram  \\n\\n 42 kmpl     NaN  16.70 bhp         NaN   \n",
                            "\n",
                            "       price  \n",
                            "7914  115000  \n",
                            "7915   30000  \n",
                            "7916   21100  \n",
                            "7917   70000  \n",
                            "7918   60000  \n",
                            "7919   45999  \n",
                            "7920  140000  \n",
                            "7921  130000  \n",
                            "7922   70000  \n",
                            "7923   90000  "
                        ]
                    },
                    "metadata": {},
                    "execution_count": 5
                }
            ],
            "metadata": {}
        },
        {
            "cell_type": "code",
            "execution_count": 6,
            "source": [
                "df.shape"
            ],
            "outputs": [
                {
                    "output_type": "execute_result",
                    "data": {
                        "text/plain": [
                            "(7924, 10)"
                        ]
                    },
                    "metadata": {},
                    "execution_count": 6
                }
            ],
            "metadata": {}
        },
        {
            "cell_type": "code",
            "execution_count": 7,
            "source": [
                "df.info()"
            ],
            "outputs": [
                {
                    "output_type": "stream",
                    "name": "stdout",
                    "text": [
                        "<class 'pandas.core.frame.DataFrame'>\n",
                        "RangeIndex: 7924 entries, 0 to 7923\n",
                        "Data columns (total 10 columns):\n",
                        " #   Column      Non-Null Count  Dtype  \n",
                        "---  ------      --------------  -----  \n",
                        " 0   model_name  7924 non-null   object \n",
                        " 1   model_year  7924 non-null   int64  \n",
                        " 2   kms_driven  7924 non-null   object \n",
                        " 3   owner       7924 non-null   object \n",
                        " 4   location    7908 non-null   object \n",
                        " 5   mileage     7908 non-null   object \n",
                        " 6   engine      0 non-null      float64\n",
                        " 7   power       7905 non-null   object \n",
                        " 8   wheel_size  0 non-null      float64\n",
                        " 9   price       7924 non-null   int64  \n",
                        "dtypes: float64(2), int64(2), object(6)\n",
                        "memory usage: 619.2+ KB\n"
                    ]
                }
            ],
            "metadata": {}
        },
        {
            "cell_type": "markdown",
            "source": [
                "## Data Cleaning"
            ],
            "metadata": {}
        },
        {
            "cell_type": "code",
            "execution_count": 8,
            "source": [
                "# remove whitespace from data\n",
                "df['model_name'] = df.model_name.str.strip()\n",
                "df['mileage'] = df.mileage.str.strip()"
            ],
            "outputs": [],
            "metadata": {}
        },
        {
            "cell_type": "code",
            "execution_count": 9,
            "source": [
                "df.sample(5)"
            ],
            "outputs": [
                {
                    "output_type": "execute_result",
                    "data": {
                        "text/html": [
                            "<div>\n",
                            "<style scoped>\n",
                            "    .dataframe tbody tr th:only-of-type {\n",
                            "        vertical-align: middle;\n",
                            "    }\n",
                            "\n",
                            "    .dataframe tbody tr th {\n",
                            "        vertical-align: top;\n",
                            "    }\n",
                            "\n",
                            "    .dataframe thead th {\n",
                            "        text-align: right;\n",
                            "    }\n",
                            "</style>\n",
                            "<table border=\"1\" class=\"dataframe\">\n",
                            "  <thead>\n",
                            "    <tr style=\"text-align: right;\">\n",
                            "      <th></th>\n",
                            "      <th>model_name</th>\n",
                            "      <th>model_year</th>\n",
                            "      <th>kms_driven</th>\n",
                            "      <th>owner</th>\n",
                            "      <th>location</th>\n",
                            "      <th>mileage</th>\n",
                            "      <th>engine</th>\n",
                            "      <th>power</th>\n",
                            "      <th>wheel_size</th>\n",
                            "      <th>price</th>\n",
                            "    </tr>\n",
                            "  </thead>\n",
                            "  <tbody>\n",
                            "    <tr>\n",
                            "      <th>1095</th>\n",
                            "      <td>Yamaha FZS-FI V 3.0 150cc ABS BS6 2019</td>\n",
                            "      <td>2019</td>\n",
                            "      <td>50 Km</td>\n",
                            "      <td>first owner</td>\n",
                            "      <td>chennai</td>\n",
                            "      <td></td>\n",
                            "      <td>NaN</td>\n",
                            "      <td>12.2 bhp</td>\n",
                            "      <td>NaN</td>\n",
                            "      <td>104500</td>\n",
                            "    </tr>\n",
                            "    <tr>\n",
                            "      <th>629</th>\n",
                            "      <td>Royal Enfield Himalayan 410cc 2019</td>\n",
                            "      <td>2019</td>\n",
                            "      <td>8000 Km</td>\n",
                            "      <td>first owner</td>\n",
                            "      <td>bangalore</td>\n",
                            "      <td>32 kmpl</td>\n",
                            "      <td>NaN</td>\n",
                            "      <td>24.50 bhp</td>\n",
                            "      <td>NaN</td>\n",
                            "      <td>180000</td>\n",
                            "    </tr>\n",
                            "    <tr>\n",
                            "      <th>5841</th>\n",
                            "      <td>Yamaha MT-15 150cc 2019</td>\n",
                            "      <td>2019</td>\n",
                            "      <td>1500 Km</td>\n",
                            "      <td>first owner</td>\n",
                            "      <td>delhi</td>\n",
                            "      <td></td>\n",
                            "      <td>NaN</td>\n",
                            "      <td>19 bhp</td>\n",
                            "      <td>NaN</td>\n",
                            "      <td>125000</td>\n",
                            "    </tr>\n",
                            "    <tr>\n",
                            "      <th>4503</th>\n",
                            "      <td>Yamaha YZF-R15 S 150cc 2017</td>\n",
                            "      <td>2017</td>\n",
                            "      <td>12500 Km</td>\n",
                            "      <td>first owner</td>\n",
                            "      <td>mumbai</td>\n",
                            "      <td>42 kmpl</td>\n",
                            "      <td>NaN</td>\n",
                            "      <td>16 bhp</td>\n",
                            "      <td>NaN</td>\n",
                            "      <td>85000</td>\n",
                            "    </tr>\n",
                            "    <tr>\n",
                            "      <th>6075</th>\n",
                            "      <td>Honda CBR 150R 150cc 2014</td>\n",
                            "      <td>2014</td>\n",
                            "      <td>14600 Km</td>\n",
                            "      <td>first owner</td>\n",
                            "      <td>vadodara</td>\n",
                            "      <td>38 kmpl</td>\n",
                            "      <td>NaN</td>\n",
                            "      <td>18.28 bhp</td>\n",
                            "      <td>NaN</td>\n",
                            "      <td>59000</td>\n",
                            "    </tr>\n",
                            "  </tbody>\n",
                            "</table>\n",
                            "</div>"
                        ],
                        "text/plain": [
                            "                                  model_name  model_year kms_driven  \\\n",
                            "1095  Yamaha FZS-FI V 3.0 150cc ABS BS6 2019        2019      50 Km   \n",
                            "629       Royal Enfield Himalayan 410cc 2019        2019    8000 Km   \n",
                            "5841                 Yamaha MT-15 150cc 2019        2019    1500 Km   \n",
                            "4503             Yamaha YZF-R15 S 150cc 2017        2017   12500 Km   \n",
                            "6075               Honda CBR 150R 150cc 2014        2014   14600 Km   \n",
                            "\n",
                            "            owner   location  mileage  engine      power  wheel_size   price  \n",
                            "1095  first owner    chennai              NaN   12.2 bhp         NaN  104500  \n",
                            "629   first owner  bangalore  32 kmpl     NaN  24.50 bhp         NaN  180000  \n",
                            "5841  first owner      delhi              NaN     19 bhp         NaN  125000  \n",
                            "4503  first owner     mumbai  42 kmpl     NaN     16 bhp         NaN   85000  \n",
                            "6075  first owner   vadodara  38 kmpl     NaN  18.28 bhp         NaN   59000  "
                        ]
                    },
                    "metadata": {},
                    "execution_count": 9
                }
            ],
            "metadata": {}
        },
        {
            "cell_type": "code",
            "execution_count": 10,
            "source": [
                "# Remove commas from kms_driven and price columns\n",
                "\n",
                "def clean_kms_driven(val):\n",
                "    if not val:\n",
                "        return ''\n",
                "\n",
                "    val = val.lower()\n",
                "\n",
                "    if 'kms' in val:\n",
                "        val = val.replace('kms','')\n",
                "\n",
                "    if 'km' in val:\n",
                "        val = val.replace('km','')\n",
                "\n",
                "    if 'mileage' in val.lower():\n",
                "        return np.nan\n",
                "\n",
                "    return val.replace(',','')\n",
                "\n",
                "\n",
                "def clean_price(val):\n",
                "    \"\"\"\n",
                "    1. remove currency symbol.\n",
                "    2. remove commas\n",
                "    3. fix the val which is represented as lakh\n",
                "    \"\"\"\n",
                "    if not val:\n",
                "        return ''\n",
                "\n",
                "    val = str(val)\n",
                "\n",
                "    val = val.replace('₹','')\n",
                "\n",
                "    val = val.replace(',','')\n",
                "\n",
                "    if 'lakh' in val.lower():\n",
                "        val = val.lower().replace('lakh','')\n",
                "        val = float(val)\n",
                "        return val * 100000\n",
                "\n",
                "    return val\n",
                "    \n",
                "\n",
                "df['kms_driven'] = df['kms_driven'].apply(clean_kms_driven)\n",
                "\n",
                "df['price'] = df['price'].apply(clean_price)\n",
                "\n"
            ],
            "outputs": [],
            "metadata": {}
        },
        {
            "cell_type": "code",
            "execution_count": 11,
            "source": [
                "df['kms_driven'] = pd.to_numeric(df['kms_driven'],errors='coerce',downcast='integer')\n",
                "df['price'] = pd.to_numeric(df['price'],errors='coerce',downcast='integer')"
            ],
            "outputs": [],
            "metadata": {}
        },
        {
            "cell_type": "code",
            "execution_count": 12,
            "source": [
                "# location feature have comma separated values\n",
                "# need to make it a single value, for that let's take\n",
                "# the last value as it is the main city name\n",
                "\n",
                "def clean_location(val):\n",
                "    if not val:\n",
                "        return ''\n",
                "    \n",
                "    return str(val).split(',')[-1].strip()\n",
                "\n",
                "df['location'] = df['location'].apply(clean_location)"
            ],
            "outputs": [],
            "metadata": {}
        },
        {
            "cell_type": "code",
            "execution_count": 13,
            "source": [
                "df.location.value_counts()[:10]"
            ],
            "outputs": [
                {
                    "output_type": "execute_result",
                    "data": {
                        "text/plain": [
                            "delhi        1509\n",
                            "bangalore     781\n",
                            "mumbai        728\n",
                            "jaipur        389\n",
                            "pune          353\n",
                            "chennai       342\n",
                            "gurgaon       314\n",
                            "hyderabad     310\n",
                            "ahmedabad     270\n",
                            "faridabad     181\n",
                            "Name: location, dtype: int64"
                        ]
                    },
                    "metadata": {},
                    "execution_count": 13
                }
            ],
            "metadata": {}
        },
        {
            "cell_type": "code",
            "execution_count": 14,
            "source": [
                "\n",
                "def clean_owner(val):\n",
                "    if not val:\n",
                "        return val\n",
                "\n",
                "    val = val.replace('owner','')\n",
                "\n",
                "    if 'or more' in val.lower():\n",
                "        return 'fourth'\n",
                "\n",
                "    return val\n",
                "\n",
                "df['owner'] = df['owner'].apply(clean_owner)"
            ],
            "outputs": [],
            "metadata": {}
        },
        {
            "cell_type": "code",
            "execution_count": 15,
            "source": [
                "df.sample(5)"
            ],
            "outputs": [
                {
                    "output_type": "execute_result",
                    "data": {
                        "text/html": [
                            "<div>\n",
                            "<style scoped>\n",
                            "    .dataframe tbody tr th:only-of-type {\n",
                            "        vertical-align: middle;\n",
                            "    }\n",
                            "\n",
                            "    .dataframe tbody tr th {\n",
                            "        vertical-align: top;\n",
                            "    }\n",
                            "\n",
                            "    .dataframe thead th {\n",
                            "        text-align: right;\n",
                            "    }\n",
                            "</style>\n",
                            "<table border=\"1\" class=\"dataframe\">\n",
                            "  <thead>\n",
                            "    <tr style=\"text-align: right;\">\n",
                            "      <th></th>\n",
                            "      <th>model_name</th>\n",
                            "      <th>model_year</th>\n",
                            "      <th>kms_driven</th>\n",
                            "      <th>owner</th>\n",
                            "      <th>location</th>\n",
                            "      <th>mileage</th>\n",
                            "      <th>engine</th>\n",
                            "      <th>power</th>\n",
                            "      <th>wheel_size</th>\n",
                            "      <th>price</th>\n",
                            "    </tr>\n",
                            "  </thead>\n",
                            "  <tbody>\n",
                            "    <tr>\n",
                            "      <th>842</th>\n",
                            "      <td>Honda CB Hornet 160R STD 2016</td>\n",
                            "      <td>2016</td>\n",
                            "      <td>NaN</td>\n",
                            "      <td>first</td>\n",
                            "      <td>chennai</td>\n",
                            "      <td>52 Kmpl</td>\n",
                            "      <td>NaN</td>\n",
                            "      <td>15.44 bhp</td>\n",
                            "      <td>NaN</td>\n",
                            "      <td>47000.0</td>\n",
                            "    </tr>\n",
                            "    <tr>\n",
                            "      <th>7175</th>\n",
                            "      <td>Bajaj Platina  Alloy ES-100cc 2018</td>\n",
                            "      <td>2018</td>\n",
                            "      <td>NaN</td>\n",
                            "      <td>first</td>\n",
                            "      <td>faridabad</td>\n",
                            "      <td>104 Kmpl</td>\n",
                            "      <td>NaN</td>\n",
                            "      <td>8.20 bhp</td>\n",
                            "      <td>NaN</td>\n",
                            "      <td>32000.0</td>\n",
                            "    </tr>\n",
                            "    <tr>\n",
                            "      <th>2812</th>\n",
                            "      <td>Royal Enfield Thunderbird 350cc 2016</td>\n",
                            "      <td>2016</td>\n",
                            "      <td>7200.0</td>\n",
                            "      <td>first</td>\n",
                            "      <td>kalyan</td>\n",
                            "      <td>40 kmpl</td>\n",
                            "      <td>NaN</td>\n",
                            "      <td>19.80 bhp</td>\n",
                            "      <td>NaN</td>\n",
                            "      <td>130000.0</td>\n",
                            "    </tr>\n",
                            "    <tr>\n",
                            "      <th>5036</th>\n",
                            "      <td>Bajaj Pulsar RS200 2016</td>\n",
                            "      <td>2016</td>\n",
                            "      <td>NaN</td>\n",
                            "      <td>first</td>\n",
                            "      <td>pune</td>\n",
                            "      <td>35 Kmpl</td>\n",
                            "      <td>NaN</td>\n",
                            "      <td>24.50 bhp</td>\n",
                            "      <td>NaN</td>\n",
                            "      <td>108000.0</td>\n",
                            "    </tr>\n",
                            "    <tr>\n",
                            "      <th>2999</th>\n",
                            "      <td>Yamaha FZs 150cc 2013</td>\n",
                            "      <td>2013</td>\n",
                            "      <td>24028.0</td>\n",
                            "      <td>first</td>\n",
                            "      <td>bangalore</td>\n",
                            "      <td>45 kmpl</td>\n",
                            "      <td>NaN</td>\n",
                            "      <td>13 bhp</td>\n",
                            "      <td>NaN</td>\n",
                            "      <td>38000.0</td>\n",
                            "    </tr>\n",
                            "  </tbody>\n",
                            "</table>\n",
                            "</div>"
                        ],
                        "text/plain": [
                            "                                model_name  model_year  kms_driven   owner  \\\n",
                            "842          Honda CB Hornet 160R STD 2016        2016         NaN  first    \n",
                            "7175    Bajaj Platina  Alloy ES-100cc 2018        2018         NaN  first    \n",
                            "2812  Royal Enfield Thunderbird 350cc 2016        2016      7200.0  first    \n",
                            "5036               Bajaj Pulsar RS200 2016        2016         NaN  first    \n",
                            "2999                 Yamaha FZs 150cc 2013        2013     24028.0  first    \n",
                            "\n",
                            "       location   mileage  engine      power  wheel_size     price  \n",
                            "842     chennai   52 Kmpl     NaN  15.44 bhp         NaN   47000.0  \n",
                            "7175  faridabad  104 Kmpl     NaN   8.20 bhp         NaN   32000.0  \n",
                            "2812     kalyan   40 kmpl     NaN  19.80 bhp         NaN  130000.0  \n",
                            "5036       pune   35 Kmpl     NaN  24.50 bhp         NaN  108000.0  \n",
                            "2999  bangalore   45 kmpl     NaN     13 bhp         NaN   38000.0  "
                        ]
                    },
                    "metadata": {},
                    "execution_count": 15
                }
            ],
            "metadata": {}
        },
        {
            "cell_type": "code",
            "execution_count": 16,
            "source": [
                "df.info()"
            ],
            "outputs": [
                {
                    "output_type": "stream",
                    "name": "stdout",
                    "text": [
                        "<class 'pandas.core.frame.DataFrame'>\n",
                        "RangeIndex: 7924 entries, 0 to 7923\n",
                        "Data columns (total 10 columns):\n",
                        " #   Column      Non-Null Count  Dtype  \n",
                        "---  ------      --------------  -----  \n",
                        " 0   model_name  7924 non-null   object \n",
                        " 1   model_year  7924 non-null   int64  \n",
                        " 2   kms_driven  5734 non-null   float64\n",
                        " 3   owner       7924 non-null   object \n",
                        " 4   location    7924 non-null   object \n",
                        " 5   mileage     7908 non-null   object \n",
                        " 6   engine      0 non-null      float64\n",
                        " 7   power       7905 non-null   object \n",
                        " 8   wheel_size  0 non-null      float64\n",
                        " 9   price       7889 non-null   float64\n",
                        "dtypes: float64(4), int64(1), object(5)\n",
                        "memory usage: 619.2+ KB\n"
                    ]
                }
            ],
            "metadata": {}
        },
        {
            "cell_type": "markdown",
            "source": [
                "### Handle Mileage"
            ],
            "metadata": {}
        },
        {
            "cell_type": "code",
            "execution_count": 17,
            "source": [
                "def clean_mileage(val):\n",
                "    if not val:\n",
                "        return np.nan\n",
                "    \n",
                "    return str(val).lower().replace('kmpl','')\n",
                "\n",
                "df['mileage'] = df.mileage.apply(clean_mileage)"
            ],
            "outputs": [],
            "metadata": {}
        },
        {
            "cell_type": "code",
            "execution_count": 18,
            "source": [
                "df.drop('engine',axis=1,inplace=True)"
            ],
            "outputs": [],
            "metadata": {}
        },
        {
            "cell_type": "markdown",
            "source": [
                "### Hanlde power"
            ],
            "metadata": {}
        },
        {
            "cell_type": "code",
            "execution_count": 19,
            "source": [
                "def clean_power(val):\n",
                "    if not val:\n",
                "        return np.nan\n",
                "    \n",
                "    return str(val).lower().replace('bhp','')\n",
                "\n",
                "df['power'] = df.power.apply(clean_power)"
            ],
            "outputs": [],
            "metadata": {}
        },
        {
            "cell_type": "code",
            "execution_count": 20,
            "source": [
                "df.drop('wheel_size',axis=1,inplace=True)"
            ],
            "outputs": [],
            "metadata": {}
        },
        {
            "cell_type": "code",
            "execution_count": 21,
            "source": [
                "df.sample(5)"
            ],
            "outputs": [
                {
                    "output_type": "execute_result",
                    "data": {
                        "text/html": [
                            "<div>\n",
                            "<style scoped>\n",
                            "    .dataframe tbody tr th:only-of-type {\n",
                            "        vertical-align: middle;\n",
                            "    }\n",
                            "\n",
                            "    .dataframe tbody tr th {\n",
                            "        vertical-align: top;\n",
                            "    }\n",
                            "\n",
                            "    .dataframe thead th {\n",
                            "        text-align: right;\n",
                            "    }\n",
                            "</style>\n",
                            "<table border=\"1\" class=\"dataframe\">\n",
                            "  <thead>\n",
                            "    <tr style=\"text-align: right;\">\n",
                            "      <th></th>\n",
                            "      <th>model_name</th>\n",
                            "      <th>model_year</th>\n",
                            "      <th>kms_driven</th>\n",
                            "      <th>owner</th>\n",
                            "      <th>location</th>\n",
                            "      <th>mileage</th>\n",
                            "      <th>power</th>\n",
                            "      <th>price</th>\n",
                            "    </tr>\n",
                            "  </thead>\n",
                            "  <tbody>\n",
                            "    <tr>\n",
                            "      <th>3118</th>\n",
                            "      <td>Yamaha FZs 150cc 2015</td>\n",
                            "      <td>2015</td>\n",
                            "      <td>15678.0</td>\n",
                            "      <td>first</td>\n",
                            "      <td>hyderabad</td>\n",
                            "      <td>45</td>\n",
                            "      <td>13</td>\n",
                            "      <td>59000.0</td>\n",
                            "    </tr>\n",
                            "    <tr>\n",
                            "      <th>7255</th>\n",
                            "      <td>Bajaj Pulsar 220cc 2014</td>\n",
                            "      <td>2014</td>\n",
                            "      <td>25000.0</td>\n",
                            "      <td>first</td>\n",
                            "      <td>rohtak</td>\n",
                            "      <td>38</td>\n",
                            "      <td>21</td>\n",
                            "      <td>40000.0</td>\n",
                            "    </tr>\n",
                            "    <tr>\n",
                            "      <th>3289</th>\n",
                            "      <td>Bajaj Pulsar 180cc 2014</td>\n",
                            "      <td>2014</td>\n",
                            "      <td>33540.0</td>\n",
                            "      <td>second</td>\n",
                            "      <td>bangalore</td>\n",
                            "      <td>45</td>\n",
                            "      <td>17</td>\n",
                            "      <td>35000.0</td>\n",
                            "    </tr>\n",
                            "    <tr>\n",
                            "      <th>7807</th>\n",
                            "      <td>Yamaha YZF-R15 S 150cc 2017</td>\n",
                            "      <td>2017</td>\n",
                            "      <td>3800.0</td>\n",
                            "      <td>first</td>\n",
                            "      <td>bangalore</td>\n",
                            "      <td>42</td>\n",
                            "      <td>16</td>\n",
                            "      <td>125000.0</td>\n",
                            "    </tr>\n",
                            "    <tr>\n",
                            "      <th>528</th>\n",
                            "      <td>Bajaj Pulsar NS160 2019</td>\n",
                            "      <td>2019</td>\n",
                            "      <td>77000.0</td>\n",
                            "      <td>second</td>\n",
                            "      <td>delhi</td>\n",
                            "      <td>NaN</td>\n",
                            "      <td>15.5 ps</td>\n",
                            "      <td>55900.0</td>\n",
                            "    </tr>\n",
                            "  </tbody>\n",
                            "</table>\n",
                            "</div>"
                        ],
                        "text/plain": [
                            "                       model_name  model_year  kms_driven    owner   location  \\\n",
                            "3118        Yamaha FZs 150cc 2015        2015     15678.0   first   hyderabad   \n",
                            "7255      Bajaj Pulsar 220cc 2014        2014     25000.0   first      rohtak   \n",
                            "3289      Bajaj Pulsar 180cc 2014        2014     33540.0  second   bangalore   \n",
                            "7807  Yamaha YZF-R15 S 150cc 2017        2017      3800.0   first   bangalore   \n",
                            "528       Bajaj Pulsar NS160 2019        2019     77000.0  second       delhi   \n",
                            "\n",
                            "     mileage    power     price  \n",
                            "3118     45       13    59000.0  \n",
                            "7255     38       21    40000.0  \n",
                            "3289     45       17    35000.0  \n",
                            "7807     42       16   125000.0  \n",
                            "528      NaN  15.5 ps   55900.0  "
                        ]
                    },
                    "metadata": {},
                    "execution_count": 21
                }
            ],
            "metadata": {}
        },
        {
            "cell_type": "code",
            "execution_count": 22,
            "source": [
                "df.duplicated().sum()"
            ],
            "outputs": [
                {
                    "output_type": "execute_result",
                    "data": {
                        "text/plain": [
                            "108"
                        ]
                    },
                    "metadata": {},
                    "execution_count": 22
                }
            ],
            "metadata": {}
        },
        {
            "cell_type": "code",
            "execution_count": 23,
            "source": [
                "df = df[~df.duplicated()]"
            ],
            "outputs": [],
            "metadata": {}
        },
        {
            "cell_type": "code",
            "execution_count": 24,
            "source": [
                "df.shape"
            ],
            "outputs": [
                {
                    "output_type": "execute_result",
                    "data": {
                        "text/plain": [
                            "(7816, 8)"
                        ]
                    },
                    "metadata": {},
                    "execution_count": 24
                }
            ],
            "metadata": {}
        },
        {
            "cell_type": "markdown",
            "source": [
                "## Handle Missing Values"
            ],
            "metadata": {}
        },
        {
            "cell_type": "code",
            "execution_count": 25,
            "source": [
                "df.isnull().sum()"
            ],
            "outputs": [
                {
                    "output_type": "execute_result",
                    "data": {
                        "text/plain": [
                            "model_name       0\n",
                            "model_year       0\n",
                            "kms_driven    2131\n",
                            "owner            0\n",
                            "location         0\n",
                            "mileage        669\n",
                            "power            0\n",
                            "price           35\n",
                            "dtype: int64"
                        ]
                    },
                    "metadata": {},
                    "execution_count": 25
                }
            ],
            "metadata": {}
        },
        {
            "cell_type": "markdown",
            "source": [
                "## Fix column type"
            ],
            "metadata": {}
        },
        {
            "cell_type": "code",
            "execution_count": 26,
            "source": [
                "df.info()"
            ],
            "outputs": [
                {
                    "output_type": "stream",
                    "name": "stdout",
                    "text": [
                        "<class 'pandas.core.frame.DataFrame'>\n",
                        "Int64Index: 7816 entries, 0 to 7923\n",
                        "Data columns (total 8 columns):\n",
                        " #   Column      Non-Null Count  Dtype  \n",
                        "---  ------      --------------  -----  \n",
                        " 0   model_name  7816 non-null   object \n",
                        " 1   model_year  7816 non-null   int64  \n",
                        " 2   kms_driven  5685 non-null   float64\n",
                        " 3   owner       7816 non-null   object \n",
                        " 4   location    7816 non-null   object \n",
                        " 5   mileage     7147 non-null   object \n",
                        " 6   power       7816 non-null   object \n",
                        " 7   price       7781 non-null   float64\n",
                        "dtypes: float64(2), int64(1), object(5)\n",
                        "memory usage: 549.6+ KB\n"
                    ]
                }
            ],
            "metadata": {}
        },
        {
            "cell_type": "code",
            "execution_count": 27,
            "source": [
                "df['mileage'] = pd.to_numeric(df['mileage'],errors='coerce') #df.mileage.astype(int,errors='ignore')\n",
                "df['power'] = pd.to_numeric(df['power'],errors='coerce')"
            ],
            "outputs": [],
            "metadata": {}
        },
        {
            "cell_type": "code",
            "execution_count": 28,
            "source": [
                "df['mileage'] = df.mileage.astype(int,errors='ignore') #pd.to_numeric(df['mileage'],errors='coerce',downcast='integer') #df.mileage.astype(int,errors='ignore')\n",
                "df['power'] = df.power.astype(int,errors='ignore')"
            ],
            "outputs": [],
            "metadata": {}
        },
        {
            "cell_type": "code",
            "execution_count": 29,
            "source": [
                "df.info()"
            ],
            "outputs": [
                {
                    "output_type": "stream",
                    "name": "stdout",
                    "text": [
                        "<class 'pandas.core.frame.DataFrame'>\n",
                        "Int64Index: 7816 entries, 0 to 7923\n",
                        "Data columns (total 8 columns):\n",
                        " #   Column      Non-Null Count  Dtype  \n",
                        "---  ------      --------------  -----  \n",
                        " 0   model_name  7816 non-null   object \n",
                        " 1   model_year  7816 non-null   int64  \n",
                        " 2   kms_driven  5685 non-null   float64\n",
                        " 3   owner       7816 non-null   object \n",
                        " 4   location    7816 non-null   object \n",
                        " 5   mileage     6887 non-null   float64\n",
                        " 6   power       7373 non-null   float64\n",
                        " 7   price       7781 non-null   float64\n",
                        "dtypes: float64(4), int64(1), object(3)\n",
                        "memory usage: 549.6+ KB\n"
                    ]
                }
            ],
            "metadata": {}
        },
        {
            "cell_type": "code",
            "execution_count": 31,
            "source": [
                "df.shape"
            ],
            "outputs": [
                {
                    "output_type": "execute_result",
                    "data": {
                        "text/plain": [
                            "(7816, 8)"
                        ]
                    },
                    "metadata": {},
                    "execution_count": 31
                }
            ],
            "metadata": {}
        },
        {
            "cell_type": "code",
            "execution_count": 30,
            "source": [
                "df.to_csv('../data/processed/data.csv',index=False)"
            ],
            "outputs": [],
            "metadata": {}
        }
    ],
    "metadata": {
        "orig_nbformat": 4,
        "language_info": {
            "name": "python",
            "version": "3.8.8",
            "mimetype": "text/x-python",
            "codemirror_mode": {
                "name": "ipython",
                "version": 3
            },
            "pygments_lexer": "ipython3",
            "nbconvert_exporter": "python",
            "file_extension": ".py"
        },
        "kernelspec": {
            "name": "python3",
            "display_name": "Python 3.8.8 64-bit ('anaconda3': virtualenv)"
        },
        "interpreter": {
            "hash": "d213f6e5b8fd7d14bb00958cfb5f51bfe315e9248ff051fde0d0d79c3d0f4eba"
        }
    },
    "nbformat": 4,
    "nbformat_minor": 2
}