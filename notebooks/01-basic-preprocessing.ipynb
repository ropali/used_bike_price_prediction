{
    "cells": [
        {
            "cell_type": "code",
            "execution_count": 91,
            "source": [
                "import pandas as pd\n",
                "import numpy as np\n",
                "import matplotlib.pyplot as plt\n",
                "import seaborn as sns"
            ],
            "outputs": [],
            "metadata": {}
        },
        {
            "cell_type": "code",
            "execution_count": 92,
            "source": [
                "df = pd.read_csv('../data/raw/data.csv')"
            ],
            "outputs": [],
            "metadata": {}
        },
        {
            "cell_type": "code",
            "execution_count": 93,
            "source": [
                "df.shape"
            ],
            "outputs": [
                {
                    "output_type": "execute_result",
                    "data": {
                        "text/plain": [
                            "(38486, 8)"
                        ]
                    },
                    "metadata": {},
                    "execution_count": 93
                }
            ],
            "metadata": {}
        },
        {
            "cell_type": "code",
            "execution_count": 94,
            "source": [
                "df.head()"
            ],
            "outputs": [
                {
                    "output_type": "execute_result",
                    "data": {
                        "text/html": [
                            "<div>\n",
                            "<style scoped>\n",
                            "    .dataframe tbody tr th:only-of-type {\n",
                            "        vertical-align: middle;\n",
                            "    }\n",
                            "\n",
                            "    .dataframe tbody tr th {\n",
                            "        vertical-align: top;\n",
                            "    }\n",
                            "\n",
                            "    .dataframe thead th {\n",
                            "        text-align: right;\n",
                            "    }\n",
                            "</style>\n",
                            "<table border=\"1\" class=\"dataframe\">\n",
                            "  <thead>\n",
                            "    <tr style=\"text-align: right;\">\n",
                            "      <th></th>\n",
                            "      <th>model_name</th>\n",
                            "      <th>model_year</th>\n",
                            "      <th>kms_driven</th>\n",
                            "      <th>owner</th>\n",
                            "      <th>location</th>\n",
                            "      <th>mileage</th>\n",
                            "      <th>power</th>\n",
                            "      <th>price</th>\n",
                            "    </tr>\n",
                            "  </thead>\n",
                            "  <tbody>\n",
                            "    <tr>\n",
                            "      <th>0</th>\n",
                            "      <td>Bajaj Avenger Cruise 220 2017</td>\n",
                            "      <td>2017</td>\n",
                            "      <td>17000 Km</td>\n",
                            "      <td>first owner</td>\n",
                            "      <td>hyderabad</td>\n",
                            "      <td>\\n\\n 35 kmpl</td>\n",
                            "      <td>19 bhp</td>\n",
                            "      <td>63500</td>\n",
                            "    </tr>\n",
                            "    <tr>\n",
                            "      <th>1</th>\n",
                            "      <td>Royal Enfield Classic 350cc 2016</td>\n",
                            "      <td>2016</td>\n",
                            "      <td>50000 Km</td>\n",
                            "      <td>first owner</td>\n",
                            "      <td>hyderabad</td>\n",
                            "      <td>\\n\\n 35 kmpl</td>\n",
                            "      <td>19.80 bhp</td>\n",
                            "      <td>115000</td>\n",
                            "    </tr>\n",
                            "    <tr>\n",
                            "      <th>2</th>\n",
                            "      <td>Hyosung GT250R 2012</td>\n",
                            "      <td>2012</td>\n",
                            "      <td>14795 Km</td>\n",
                            "      <td>first owner</td>\n",
                            "      <td>hyderabad</td>\n",
                            "      <td>\\n\\n 30 kmpl</td>\n",
                            "      <td>28 bhp</td>\n",
                            "      <td>300000</td>\n",
                            "    </tr>\n",
                            "    <tr>\n",
                            "      <th>3</th>\n",
                            "      <td>Bajaj Dominar 400 ABS 2017</td>\n",
                            "      <td>2017</td>\n",
                            "      <td>Mileage 28 Kms</td>\n",
                            "      <td>first owner</td>\n",
                            "      <td>pondicherry</td>\n",
                            "      <td>\\n\\n 28 Kms</td>\n",
                            "      <td>34.50 bhp</td>\n",
                            "      <td>100000</td>\n",
                            "    </tr>\n",
                            "    <tr>\n",
                            "      <th>4</th>\n",
                            "      <td>Jawa Perak 330cc 2020</td>\n",
                            "      <td>2020</td>\n",
                            "      <td>2000 Km</td>\n",
                            "      <td>first owner</td>\n",
                            "      <td>bangalore</td>\n",
                            "      <td>\\n\\n</td>\n",
                            "      <td>30 bhp</td>\n",
                            "      <td>197500</td>\n",
                            "    </tr>\n",
                            "  </tbody>\n",
                            "</table>\n",
                            "</div>"
                        ],
                        "text/plain": [
                            "                         model_name  model_year      kms_driven        owner  \\\n",
                            "0     Bajaj Avenger Cruise 220 2017        2017        17000 Km  first owner   \n",
                            "1  Royal Enfield Classic 350cc 2016        2016        50000 Km  first owner   \n",
                            "2               Hyosung GT250R 2012        2012        14795 Km  first owner   \n",
                            "3        Bajaj Dominar 400 ABS 2017        2017  Mileage 28 Kms  first owner   \n",
                            "4             Jawa Perak 330cc 2020        2020         2000 Km  first owner   \n",
                            "\n",
                            "      location       mileage      power   price  \n",
                            "0    hyderabad  \\n\\n 35 kmpl     19 bhp   63500  \n",
                            "1    hyderabad  \\n\\n 35 kmpl  19.80 bhp  115000  \n",
                            "2    hyderabad  \\n\\n 30 kmpl     28 bhp  300000  \n",
                            "3  pondicherry   \\n\\n 28 Kms  34.50 bhp  100000  \n",
                            "4    bangalore         \\n\\n      30 bhp  197500  "
                        ]
                    },
                    "metadata": {},
                    "execution_count": 94
                }
            ],
            "metadata": {}
        },
        {
            "cell_type": "code",
            "execution_count": 95,
            "source": [
                "df.tail(10)"
            ],
            "outputs": [
                {
                    "output_type": "execute_result",
                    "data": {
                        "text/html": [
                            "<div>\n",
                            "<style scoped>\n",
                            "    .dataframe tbody tr th:only-of-type {\n",
                            "        vertical-align: middle;\n",
                            "    }\n",
                            "\n",
                            "    .dataframe tbody tr th {\n",
                            "        vertical-align: top;\n",
                            "    }\n",
                            "\n",
                            "    .dataframe thead th {\n",
                            "        text-align: right;\n",
                            "    }\n",
                            "</style>\n",
                            "<table border=\"1\" class=\"dataframe\">\n",
                            "  <thead>\n",
                            "    <tr style=\"text-align: right;\">\n",
                            "      <th></th>\n",
                            "      <th>model_name</th>\n",
                            "      <th>model_year</th>\n",
                            "      <th>kms_driven</th>\n",
                            "      <th>owner</th>\n",
                            "      <th>location</th>\n",
                            "      <th>mileage</th>\n",
                            "      <th>power</th>\n",
                            "      <th>price</th>\n",
                            "    </tr>\n",
                            "  </thead>\n",
                            "  <tbody>\n",
                            "    <tr>\n",
                            "      <th>38476</th>\n",
                            "      <td>TVS Apache RTR 160cc 2014</td>\n",
                            "      <td>2014</td>\n",
                            "      <td>Mileage 60 Kmpl</td>\n",
                            "      <td>first owner</td>\n",
                            "      <td>chennai</td>\n",
                            "      <td>\\n\\n 60 Kmpl</td>\n",
                            "      <td>15.2 bhp</td>\n",
                            "      <td>30000</td>\n",
                            "    </tr>\n",
                            "    <tr>\n",
                            "      <th>38477</th>\n",
                            "      <td>Yamaha FZs 150cc 2014</td>\n",
                            "      <td>2014</td>\n",
                            "      <td>14326 Km</td>\n",
                            "      <td>first owner</td>\n",
                            "      <td>chennai</td>\n",
                            "      <td>\\n\\n 45 kmpl</td>\n",
                            "      <td>13 bhp</td>\n",
                            "      <td>48000</td>\n",
                            "    </tr>\n",
                            "    <tr>\n",
                            "      <th>38478</th>\n",
                            "      <td>Yamaha FZs 150cc 2010</td>\n",
                            "      <td>2010</td>\n",
                            "      <td>9614 Km</td>\n",
                            "      <td>first owner</td>\n",
                            "      <td>delhi</td>\n",
                            "      <td>\\n\\n 45 kmpl</td>\n",
                            "      <td>13 bhp</td>\n",
                            "      <td>24000</td>\n",
                            "    </tr>\n",
                            "    <tr>\n",
                            "      <th>38479</th>\n",
                            "      <td>Hero CBZ Xtreme 150cc 2011</td>\n",
                            "      <td>2011</td>\n",
                            "      <td>9500 Km</td>\n",
                            "      <td>first owner</td>\n",
                            "      <td>delhi</td>\n",
                            "      <td>\\n\\n 65kmpl</td>\n",
                            "      <td>14.4PS</td>\n",
                            "      <td>21000</td>\n",
                            "    </tr>\n",
                            "    <tr>\n",
                            "      <th>38480</th>\n",
                            "      <td>Hero Passion Pro 100cc 2017</td>\n",
                            "      <td>2017</td>\n",
                            "      <td>22000 Km</td>\n",
                            "      <td>first owner</td>\n",
                            "      <td>delhi</td>\n",
                            "      <td>\\n\\n 5 kmpl</td>\n",
                            "      <td>8.2 Bhp</td>\n",
                            "      <td>39000</td>\n",
                            "    </tr>\n",
                            "    <tr>\n",
                            "      <th>38481</th>\n",
                            "      <td>Bajaj V12 125cc 2017</td>\n",
                            "      <td>2017</td>\n",
                            "      <td>15621 Km</td>\n",
                            "      <td>first owner</td>\n",
                            "      <td>delhi</td>\n",
                            "      <td>\\n\\n 57 kmpl</td>\n",
                            "      <td>12bhp</td>\n",
                            "      <td>35000</td>\n",
                            "    </tr>\n",
                            "    <tr>\n",
                            "      <th>38482</th>\n",
                            "      <td>Bajaj Discover 125cc 2012</td>\n",
                            "      <td>2012</td>\n",
                            "      <td>16206 Km</td>\n",
                            "      <td>first owner</td>\n",
                            "      <td>faridabad</td>\n",
                            "      <td>\\n\\n 65 kmpl</td>\n",
                            "      <td>12.5 ps</td>\n",
                            "      <td>19000</td>\n",
                            "    </tr>\n",
                            "    <tr>\n",
                            "      <th>38483</th>\n",
                            "      <td>Bajaj Dominar 400 2017</td>\n",
                            "      <td>2017</td>\n",
                            "      <td>Mileage 28 Kms</td>\n",
                            "      <td>first owner</td>\n",
                            "      <td>delhi</td>\n",
                            "      <td>\\n\\n 28 Kms</td>\n",
                            "      <td>34.50 bhp</td>\n",
                            "      <td>114000</td>\n",
                            "    </tr>\n",
                            "    <tr>\n",
                            "      <th>38484</th>\n",
                            "      <td>UM Renegade Commando Classic 2018</td>\n",
                            "      <td>2018</td>\n",
                            "      <td>2911 Km</td>\n",
                            "      <td>first owner</td>\n",
                            "      <td>delhi</td>\n",
                            "      <td>\\n\\n 35 kmpl</td>\n",
                            "      <td>25 bhp</td>\n",
                            "      <td>165000</td>\n",
                            "    </tr>\n",
                            "    <tr>\n",
                            "      <th>38485</th>\n",
                            "      <td>Royal Enfield Bullet Twinspark 350cc 2015</td>\n",
                            "      <td>2015</td>\n",
                            "      <td>Mileage 37 Kmpl</td>\n",
                            "      <td>first owner</td>\n",
                            "      <td>delhi</td>\n",
                            "      <td>\\n\\n 37 Kmpl</td>\n",
                            "      <td>19.80 bhp</td>\n",
                            "      <td>87500</td>\n",
                            "    </tr>\n",
                            "  </tbody>\n",
                            "</table>\n",
                            "</div>"
                        ],
                        "text/plain": [
                            "                                      model_name  model_year       kms_driven  \\\n",
                            "38476                  TVS Apache RTR 160cc 2014        2014  Mileage 60 Kmpl   \n",
                            "38477                      Yamaha FZs 150cc 2014        2014         14326 Km   \n",
                            "38478                      Yamaha FZs 150cc 2010        2010          9614 Km   \n",
                            "38479                 Hero CBZ Xtreme 150cc 2011        2011          9500 Km   \n",
                            "38480                Hero Passion Pro 100cc 2017        2017         22000 Km   \n",
                            "38481                       Bajaj V12 125cc 2017        2017         15621 Km   \n",
                            "38482                  Bajaj Discover 125cc 2012        2012         16206 Km   \n",
                            "38483                     Bajaj Dominar 400 2017        2017   Mileage 28 Kms   \n",
                            "38484          UM Renegade Commando Classic 2018        2018          2911 Km   \n",
                            "38485  Royal Enfield Bullet Twinspark 350cc 2015        2015  Mileage 37 Kmpl   \n",
                            "\n",
                            "             owner   location       mileage      power   price  \n",
                            "38476  first owner    chennai  \\n\\n 60 Kmpl   15.2 bhp   30000  \n",
                            "38477  first owner    chennai  \\n\\n 45 kmpl     13 bhp   48000  \n",
                            "38478  first owner      delhi  \\n\\n 45 kmpl     13 bhp   24000  \n",
                            "38479  first owner      delhi   \\n\\n 65kmpl     14.4PS   21000  \n",
                            "38480  first owner      delhi   \\n\\n 5 kmpl    8.2 Bhp   39000  \n",
                            "38481  first owner      delhi  \\n\\n 57 kmpl      12bhp   35000  \n",
                            "38482  first owner  faridabad  \\n\\n 65 kmpl    12.5 ps   19000  \n",
                            "38483  first owner      delhi   \\n\\n 28 Kms  34.50 bhp  114000  \n",
                            "38484  first owner      delhi  \\n\\n 35 kmpl     25 bhp  165000  \n",
                            "38485  first owner      delhi  \\n\\n 37 Kmpl  19.80 bhp   87500  "
                        ]
                    },
                    "metadata": {},
                    "execution_count": 95
                }
            ],
            "metadata": {}
        },
        {
            "cell_type": "code",
            "execution_count": 96,
            "source": [
                "df.info()"
            ],
            "outputs": [
                {
                    "output_type": "stream",
                    "name": "stdout",
                    "text": [
                        "<class 'pandas.core.frame.DataFrame'>\n",
                        "RangeIndex: 38486 entries, 0 to 38485\n",
                        "Data columns (total 8 columns):\n",
                        " #   Column      Non-Null Count  Dtype \n",
                        "---  ------      --------------  ----- \n",
                        " 0   model_name  38486 non-null  object\n",
                        " 1   model_year  38486 non-null  int64 \n",
                        " 2   kms_driven  38486 non-null  object\n",
                        " 3   owner       38486 non-null  object\n",
                        " 4   location    38462 non-null  object\n",
                        " 5   mileage     38473 non-null  object\n",
                        " 6   power       37851 non-null  object\n",
                        " 7   price       38486 non-null  int64 \n",
                        "dtypes: int64(2), object(6)\n",
                        "memory usage: 2.3+ MB\n"
                    ]
                }
            ],
            "metadata": {}
        },
        {
            "cell_type": "markdown",
            "source": [
                "## Data Cleaning"
            ],
            "metadata": {}
        },
        {
            "cell_type": "code",
            "execution_count": 97,
            "source": [
                "# remove whitespace from data\n",
                "df['model_name'] = df.model_name.str.strip()\n",
                "df['mileage'] = df.mileage.str.strip()"
            ],
            "outputs": [],
            "metadata": {}
        },
        {
            "cell_type": "code",
            "execution_count": 98,
            "source": [
                "df.sample(5)"
            ],
            "outputs": [
                {
                    "output_type": "execute_result",
                    "data": {
                        "text/html": [
                            "<div>\n",
                            "<style scoped>\n",
                            "    .dataframe tbody tr th:only-of-type {\n",
                            "        vertical-align: middle;\n",
                            "    }\n",
                            "\n",
                            "    .dataframe tbody tr th {\n",
                            "        vertical-align: top;\n",
                            "    }\n",
                            "\n",
                            "    .dataframe thead th {\n",
                            "        text-align: right;\n",
                            "    }\n",
                            "</style>\n",
                            "<table border=\"1\" class=\"dataframe\">\n",
                            "  <thead>\n",
                            "    <tr style=\"text-align: right;\">\n",
                            "      <th></th>\n",
                            "      <th>model_name</th>\n",
                            "      <th>model_year</th>\n",
                            "      <th>kms_driven</th>\n",
                            "      <th>owner</th>\n",
                            "      <th>location</th>\n",
                            "      <th>mileage</th>\n",
                            "      <th>power</th>\n",
                            "      <th>price</th>\n",
                            "    </tr>\n",
                            "  </thead>\n",
                            "  <tbody>\n",
                            "    <tr>\n",
                            "      <th>9315</th>\n",
                            "      <td>Royal Enfield Thunderbird 500cc 2017</td>\n",
                            "      <td>2017</td>\n",
                            "      <td>900 Km</td>\n",
                            "      <td>first owner</td>\n",
                            "      <td>roorkee</td>\n",
                            "      <td>25 kmpl</td>\n",
                            "      <td>27.20 bhp</td>\n",
                            "      <td>150000</td>\n",
                            "    </tr>\n",
                            "    <tr>\n",
                            "      <th>22521</th>\n",
                            "      <td>Suzuki Gixxer 150cc 2016</td>\n",
                            "      <td>2016</td>\n",
                            "      <td>18000 Km</td>\n",
                            "      <td>second owner</td>\n",
                            "      <td>delhi</td>\n",
                            "      <td>63kmpl</td>\n",
                            "      <td>14 bhp</td>\n",
                            "      <td>45000</td>\n",
                            "    </tr>\n",
                            "    <tr>\n",
                            "      <th>26568</th>\n",
                            "      <td>Royal Enfield Classic 350cc 2010</td>\n",
                            "      <td>2010</td>\n",
                            "      <td>3000 Km</td>\n",
                            "      <td>first owner</td>\n",
                            "      <td>chennai</td>\n",
                            "      <td>35 kmpl</td>\n",
                            "      <td>19.80 Bhp</td>\n",
                            "      <td>89889</td>\n",
                            "    </tr>\n",
                            "    <tr>\n",
                            "      <th>19596</th>\n",
                            "      <td>Bajaj Pulsar 200cc 2013</td>\n",
                            "      <td>2013</td>\n",
                            "      <td>25000 Km</td>\n",
                            "      <td>first owner</td>\n",
                            "      <td>mumbai</td>\n",
                            "      <td></td>\n",
                            "      <td>NaN</td>\n",
                            "      <td>37000</td>\n",
                            "    </tr>\n",
                            "    <tr>\n",
                            "      <th>23444</th>\n",
                            "      <td>Bajaj Pulsar AS200 2014</td>\n",
                            "      <td>2014</td>\n",
                            "      <td>Mileage 42 Kmpl</td>\n",
                            "      <td>second owner</td>\n",
                            "      <td>bangalore</td>\n",
                            "      <td>42 Kmpl</td>\n",
                            "      <td>23.20 bhp</td>\n",
                            "      <td>45000</td>\n",
                            "    </tr>\n",
                            "  </tbody>\n",
                            "</table>\n",
                            "</div>"
                        ],
                        "text/plain": [
                            "                                 model_name  model_year       kms_driven  \\\n",
                            "9315   Royal Enfield Thunderbird 500cc 2017        2017           900 Km   \n",
                            "22521              Suzuki Gixxer 150cc 2016        2016         18000 Km   \n",
                            "26568      Royal Enfield Classic 350cc 2010        2010          3000 Km   \n",
                            "19596               Bajaj Pulsar 200cc 2013        2013         25000 Km   \n",
                            "23444               Bajaj Pulsar AS200 2014        2014  Mileage 42 Kmpl   \n",
                            "\n",
                            "              owner   location  mileage      power   price  \n",
                            "9315    first owner    roorkee  25 kmpl  27.20 bhp  150000  \n",
                            "22521  second owner      delhi   63kmpl     14 bhp   45000  \n",
                            "26568   first owner    chennai  35 kmpl  19.80 Bhp   89889  \n",
                            "19596   first owner     mumbai                 NaN   37000  \n",
                            "23444  second owner  bangalore  42 Kmpl  23.20 bhp   45000  "
                        ]
                    },
                    "metadata": {},
                    "execution_count": 98
                }
            ],
            "metadata": {}
        },
        {
            "cell_type": "code",
            "execution_count": 99,
            "source": [
                "# Remove commas from kms_driven and price columns\n",
                "\n",
                "def clean_kms_driven(val):\n",
                "    if not val:\n",
                "        return ''\n",
                "\n",
                "    val = val.lower()\n",
                "\n",
                "    if 'kms' in val:\n",
                "        val = val.replace('kms','')\n",
                "\n",
                "    if 'km' in val:\n",
                "        val = val.replace('km','')\n",
                "\n",
                "    if 'mileage' in val.lower():\n",
                "        return np.nan\n",
                "\n",
                "    return val.replace(',','')\n",
                "\n",
                "\n",
                "def clean_price(val):\n",
                "    \"\"\"\n",
                "    1. remove currency symbol.\n",
                "    2. remove commas\n",
                "    \"\"\"\n",
                "    if not val:\n",
                "        return ''\n",
                "\n",
                "    val = str(val)\n",
                "\n",
                "    val = val.replace(',','')\n",
                "\n",
                "    if 'lakh' in val.lower():\n",
                "        val = val.lower().replace('lakh','')\n",
                "        val = float(val)\n",
                "        return val * 100000\n",
                "\n",
                "    return val\n",
                "    \n",
                "\n",
                "df['kms_driven'] = df['kms_driven'].apply(clean_kms_driven)\n",
                "\n",
                "df['price'] = df['price'].apply(clean_price)\n",
                "\n"
            ],
            "outputs": [],
            "metadata": {}
        },
        {
            "cell_type": "code",
            "execution_count": 100,
            "source": [
                "df['kms_driven'] = pd.to_numeric(df['kms_driven'],errors='coerce',downcast='integer')\n",
                "df['price'] = pd.to_numeric(df['price'],errors='coerce',downcast='integer')"
            ],
            "outputs": [],
            "metadata": {}
        },
        {
            "cell_type": "code",
            "execution_count": 101,
            "source": [
                "# location feature have comma separated values\n",
                "# need to make it a single value, for that let's take\n",
                "# the last value as it is the main city name\n",
                "\n",
                "def clean_location(val):\n",
                "    if not val:\n",
                "        return ''\n",
                "    \n",
                "    return str(val).split(',')[-1].strip()\n",
                "\n",
                "df['location'] = df['location'].apply(clean_location)"
            ],
            "outputs": [],
            "metadata": {}
        },
        {
            "cell_type": "code",
            "execution_count": 102,
            "source": [
                "df.location.value_counts()[:10]"
            ],
            "outputs": [
                {
                    "output_type": "execute_result",
                    "data": {
                        "text/plain": [
                            "delhi        10662\n",
                            "chennai       6196\n",
                            "mumbai        3514\n",
                            "faridabad     1828\n",
                            "jaipur        1515\n",
                            "vadodara      1241\n",
                            "bangalore     1205\n",
                            "ludhiana      1161\n",
                            "gurgaon       1081\n",
                            "pune           903\n",
                            "Name: location, dtype: int64"
                        ]
                    },
                    "metadata": {},
                    "execution_count": 102
                }
            ],
            "metadata": {}
        },
        {
            "cell_type": "code",
            "execution_count": 103,
            "source": [
                "\n",
                "def clean_owner(val):\n",
                "    if not val:\n",
                "        return val\n",
                "\n",
                "    val = val.replace('owner','')\n",
                "\n",
                "    if 'or more' in val.lower():\n",
                "        return 'fourth'\n",
                "\n",
                "    return val\n",
                "\n",
                "df['owner'] = df['owner'].apply(clean_owner)"
            ],
            "outputs": [],
            "metadata": {}
        },
        {
            "cell_type": "code",
            "execution_count": 104,
            "source": [
                "df.sample(5)"
            ],
            "outputs": [
                {
                    "output_type": "execute_result",
                    "data": {
                        "text/html": [
                            "<div>\n",
                            "<style scoped>\n",
                            "    .dataframe tbody tr th:only-of-type {\n",
                            "        vertical-align: middle;\n",
                            "    }\n",
                            "\n",
                            "    .dataframe tbody tr th {\n",
                            "        vertical-align: top;\n",
                            "    }\n",
                            "\n",
                            "    .dataframe thead th {\n",
                            "        text-align: right;\n",
                            "    }\n",
                            "</style>\n",
                            "<table border=\"1\" class=\"dataframe\">\n",
                            "  <thead>\n",
                            "    <tr style=\"text-align: right;\">\n",
                            "      <th></th>\n",
                            "      <th>model_name</th>\n",
                            "      <th>model_year</th>\n",
                            "      <th>kms_driven</th>\n",
                            "      <th>owner</th>\n",
                            "      <th>location</th>\n",
                            "      <th>mileage</th>\n",
                            "      <th>power</th>\n",
                            "      <th>price</th>\n",
                            "    </tr>\n",
                            "  </thead>\n",
                            "  <tbody>\n",
                            "    <tr>\n",
                            "      <th>20916</th>\n",
                            "      <td>Hero Splendor Plus 100 CC 2014</td>\n",
                            "      <td>2014</td>\n",
                            "      <td>10000.0</td>\n",
                            "      <td>first</td>\n",
                            "      <td>jaipur</td>\n",
                            "      <td></td>\n",
                            "      <td>NaN</td>\n",
                            "      <td>35000.0</td>\n",
                            "    </tr>\n",
                            "    <tr>\n",
                            "      <th>10744</th>\n",
                            "      <td>Hero Splendor 100cc 2002</td>\n",
                            "      <td>2002</td>\n",
                            "      <td>55000.0</td>\n",
                            "      <td>first</td>\n",
                            "      <td>hyderabad</td>\n",
                            "      <td>45 kmpl</td>\n",
                            "      <td>7.44bhp</td>\n",
                            "      <td>20000.0</td>\n",
                            "    </tr>\n",
                            "    <tr>\n",
                            "      <th>22352</th>\n",
                            "      <td>Bajaj Discover 125cc 2012</td>\n",
                            "      <td>2012</td>\n",
                            "      <td>16206.0</td>\n",
                            "      <td>first</td>\n",
                            "      <td>faridabad</td>\n",
                            "      <td>65 kmpl</td>\n",
                            "      <td>12.5 ps</td>\n",
                            "      <td>19000.0</td>\n",
                            "    </tr>\n",
                            "    <tr>\n",
                            "      <th>2041</th>\n",
                            "      <td>Bajaj Pulsar NS160 2018</td>\n",
                            "      <td>2018</td>\n",
                            "      <td>71000.0</td>\n",
                            "      <td>second</td>\n",
                            "      <td>jaipur</td>\n",
                            "      <td></td>\n",
                            "      <td>15.5 PS</td>\n",
                            "      <td>59000.0</td>\n",
                            "    </tr>\n",
                            "    <tr>\n",
                            "      <th>7381</th>\n",
                            "      <td>Hero Glamour 125cc 2014</td>\n",
                            "      <td>2014</td>\n",
                            "      <td>35000.0</td>\n",
                            "      <td>first</td>\n",
                            "      <td>bhubaneshwar</td>\n",
                            "      <td>55 kmpl</td>\n",
                            "      <td>8.90 bhp</td>\n",
                            "      <td>41000.0</td>\n",
                            "    </tr>\n",
                            "  </tbody>\n",
                            "</table>\n",
                            "</div>"
                        ],
                        "text/plain": [
                            "                           model_name  model_year  kms_driven    owner  \\\n",
                            "20916  Hero Splendor Plus 100 CC 2014        2014     10000.0   first    \n",
                            "10744        Hero Splendor 100cc 2002        2002     55000.0   first    \n",
                            "22352       Bajaj Discover 125cc 2012        2012     16206.0   first    \n",
                            "2041          Bajaj Pulsar NS160 2018        2018     71000.0  second    \n",
                            "7381          Hero Glamour 125cc 2014        2014     35000.0   first    \n",
                            "\n",
                            "           location  mileage     power    price  \n",
                            "20916        jaipur                NaN  35000.0  \n",
                            "10744     hyderabad  45 kmpl   7.44bhp  20000.0  \n",
                            "22352     faridabad  65 kmpl   12.5 ps  19000.0  \n",
                            "2041         jaipur            15.5 PS  59000.0  \n",
                            "7381   bhubaneshwar  55 kmpl  8.90 bhp  41000.0  "
                        ]
                    },
                    "metadata": {},
                    "execution_count": 104
                }
            ],
            "metadata": {}
        },
        {
            "cell_type": "code",
            "execution_count": 105,
            "source": [
                "df.info()"
            ],
            "outputs": [
                {
                    "output_type": "stream",
                    "name": "stdout",
                    "text": [
                        "<class 'pandas.core.frame.DataFrame'>\n",
                        "RangeIndex: 38486 entries, 0 to 38485\n",
                        "Data columns (total 8 columns):\n",
                        " #   Column      Non-Null Count  Dtype  \n",
                        "---  ------      --------------  -----  \n",
                        " 0   model_name  38486 non-null  object \n",
                        " 1   model_year  38486 non-null  int64  \n",
                        " 2   kms_driven  26660 non-null  float64\n",
                        " 3   owner       38486 non-null  object \n",
                        " 4   location    38486 non-null  object \n",
                        " 5   mileage     38473 non-null  object \n",
                        " 6   power       37851 non-null  object \n",
                        " 7   price       36479 non-null  float64\n",
                        "dtypes: float64(2), int64(1), object(5)\n",
                        "memory usage: 2.3+ MB\n"
                    ]
                }
            ],
            "metadata": {}
        },
        {
            "cell_type": "markdown",
            "source": [
                "### Handle Mileage"
            ],
            "metadata": {}
        },
        {
            "cell_type": "code",
            "execution_count": 106,
            "source": [
                "def clean_mileage(val):\n",
                "    if not val:\n",
                "        return np.nan\n",
                "    \n",
                "    return str(val).lower().replace('kmpl','')\n",
                "\n",
                "df['mileage'] = df.mileage.apply(clean_mileage)"
            ],
            "outputs": [],
            "metadata": {}
        },
        {
            "cell_type": "markdown",
            "source": [
                "### Hanlde power"
            ],
            "metadata": {}
        },
        {
            "cell_type": "code",
            "execution_count": 107,
            "source": [
                "def clean_power(val):\n",
                "    if not val:\n",
                "        return np.nan\n",
                "    \n",
                "    return str(val).lower().replace('bhp','')\n",
                "\n",
                "df['power'] = df.power.apply(clean_power)"
            ],
            "outputs": [],
            "metadata": {}
        },
        {
            "cell_type": "code",
            "execution_count": 108,
            "source": [
                "df.sample(5)"
            ],
            "outputs": [
                {
                    "output_type": "execute_result",
                    "data": {
                        "text/html": [
                            "<div>\n",
                            "<style scoped>\n",
                            "    .dataframe tbody tr th:only-of-type {\n",
                            "        vertical-align: middle;\n",
                            "    }\n",
                            "\n",
                            "    .dataframe tbody tr th {\n",
                            "        vertical-align: top;\n",
                            "    }\n",
                            "\n",
                            "    .dataframe thead th {\n",
                            "        text-align: right;\n",
                            "    }\n",
                            "</style>\n",
                            "<table border=\"1\" class=\"dataframe\">\n",
                            "  <thead>\n",
                            "    <tr style=\"text-align: right;\">\n",
                            "      <th></th>\n",
                            "      <th>model_name</th>\n",
                            "      <th>model_year</th>\n",
                            "      <th>kms_driven</th>\n",
                            "      <th>owner</th>\n",
                            "      <th>location</th>\n",
                            "      <th>mileage</th>\n",
                            "      <th>power</th>\n",
                            "      <th>price</th>\n",
                            "    </tr>\n",
                            "  </thead>\n",
                            "  <tbody>\n",
                            "    <tr>\n",
                            "      <th>33195</th>\n",
                            "      <td>TVS Apache RTR 160cc 2011</td>\n",
                            "      <td>2011</td>\n",
                            "      <td>NaN</td>\n",
                            "      <td>first</td>\n",
                            "      <td>chennai</td>\n",
                            "      <td>60</td>\n",
                            "      <td>15.2</td>\n",
                            "      <td>NaN</td>\n",
                            "    </tr>\n",
                            "    <tr>\n",
                            "      <th>2001</th>\n",
                            "      <td>Yamaha YZF-R15 V3 150CC Dual Channel ABS BS6 2020</td>\n",
                            "      <td>2020</td>\n",
                            "      <td>15000.0</td>\n",
                            "      <td>first</td>\n",
                            "      <td>gurgaon</td>\n",
                            "      <td>40</td>\n",
                            "      <td>18.3</td>\n",
                            "      <td>130000.0</td>\n",
                            "    </tr>\n",
                            "    <tr>\n",
                            "      <th>22879</th>\n",
                            "      <td>Bajaj V12 125cc 2017</td>\n",
                            "      <td>2017</td>\n",
                            "      <td>15621.0</td>\n",
                            "      <td>first</td>\n",
                            "      <td>delhi</td>\n",
                            "      <td>57</td>\n",
                            "      <td>12</td>\n",
                            "      <td>35000.0</td>\n",
                            "    </tr>\n",
                            "    <tr>\n",
                            "      <th>18836</th>\n",
                            "      <td>Royal Enfield Bullet Twinspark 350cc 2013</td>\n",
                            "      <td>2013</td>\n",
                            "      <td>NaN</td>\n",
                            "      <td>first</td>\n",
                            "      <td>rohtak</td>\n",
                            "      <td>37</td>\n",
                            "      <td>19.80</td>\n",
                            "      <td>52000.0</td>\n",
                            "    </tr>\n",
                            "    <tr>\n",
                            "      <th>2079</th>\n",
                            "      <td>Bajaj Discover 150cc 2010</td>\n",
                            "      <td>2010</td>\n",
                            "      <td>NaN</td>\n",
                            "      <td>first</td>\n",
                            "      <td>delhi</td>\n",
                            "      <td>70</td>\n",
                            "      <td>13.0 ps</td>\n",
                            "      <td>16500.0</td>\n",
                            "    </tr>\n",
                            "  </tbody>\n",
                            "</table>\n",
                            "</div>"
                        ],
                        "text/plain": [
                            "                                              model_name  model_year  \\\n",
                            "33195                          TVS Apache RTR 160cc 2011        2011   \n",
                            "2001   Yamaha YZF-R15 V3 150CC Dual Channel ABS BS6 2020        2020   \n",
                            "22879                               Bajaj V12 125cc 2017        2017   \n",
                            "18836          Royal Enfield Bullet Twinspark 350cc 2013        2013   \n",
                            "2079                           Bajaj Discover 150cc 2010        2010   \n",
                            "\n",
                            "       kms_driven   owner location mileage    power     price  \n",
                            "33195         NaN  first   chennai     60     15.2        NaN  \n",
                            "2001      15000.0  first   gurgaon     40     18.3   130000.0  \n",
                            "22879     15621.0  first     delhi     57        12   35000.0  \n",
                            "18836         NaN  first    rohtak     37    19.80    52000.0  \n",
                            "2079          NaN  first     delhi     70   13.0 ps   16500.0  "
                        ]
                    },
                    "metadata": {},
                    "execution_count": 108
                }
            ],
            "metadata": {}
        },
        {
            "cell_type": "code",
            "execution_count": 109,
            "source": [
                "df.duplicated().sum()"
            ],
            "outputs": [
                {
                    "output_type": "execute_result",
                    "data": {
                        "text/plain": [
                            "30629"
                        ]
                    },
                    "metadata": {},
                    "execution_count": 109
                }
            ],
            "metadata": {}
        },
        {
            "cell_type": "code",
            "execution_count": 110,
            "source": [
                "df = df[~df.duplicated()]"
            ],
            "outputs": [],
            "metadata": {}
        },
        {
            "cell_type": "code",
            "execution_count": 111,
            "source": [
                "df.shape"
            ],
            "outputs": [
                {
                    "output_type": "execute_result",
                    "data": {
                        "text/plain": [
                            "(7857, 8)"
                        ]
                    },
                    "metadata": {},
                    "execution_count": 111
                }
            ],
            "metadata": {}
        },
        {
            "cell_type": "markdown",
            "source": [
                "## Handle Missing Values"
            ],
            "metadata": {}
        },
        {
            "cell_type": "code",
            "execution_count": 112,
            "source": [
                "df.isnull().sum()"
            ],
            "outputs": [
                {
                    "output_type": "execute_result",
                    "data": {
                        "text/plain": [
                            "model_name       0\n",
                            "model_year       0\n",
                            "kms_driven    1988\n",
                            "owner            0\n",
                            "location         0\n",
                            "mileage        727\n",
                            "power            0\n",
                            "price           31\n",
                            "dtype: int64"
                        ]
                    },
                    "metadata": {},
                    "execution_count": 112
                }
            ],
            "metadata": {}
        },
        {
            "cell_type": "markdown",
            "source": [
                "## Fix column type"
            ],
            "metadata": {}
        },
        {
            "cell_type": "code",
            "execution_count": 113,
            "source": [
                "df.info()"
            ],
            "outputs": [
                {
                    "output_type": "stream",
                    "name": "stdout",
                    "text": [
                        "<class 'pandas.core.frame.DataFrame'>\n",
                        "Int64Index: 7857 entries, 0 to 37635\n",
                        "Data columns (total 8 columns):\n",
                        " #   Column      Non-Null Count  Dtype  \n",
                        "---  ------      --------------  -----  \n",
                        " 0   model_name  7857 non-null   object \n",
                        " 1   model_year  7857 non-null   int64  \n",
                        " 2   kms_driven  5869 non-null   float64\n",
                        " 3   owner       7857 non-null   object \n",
                        " 4   location    7857 non-null   object \n",
                        " 5   mileage     7130 non-null   object \n",
                        " 6   power       7857 non-null   object \n",
                        " 7   price       7826 non-null   float64\n",
                        "dtypes: float64(2), int64(1), object(5)\n",
                        "memory usage: 552.4+ KB\n"
                    ]
                }
            ],
            "metadata": {}
        },
        {
            "cell_type": "code",
            "execution_count": 114,
            "source": [
                "df['mileage'] = pd.to_numeric(df['mileage'],errors='coerce') #df.mileage.astype(int,errors='ignore')\n",
                "df['power'] = pd.to_numeric(df['power'],errors='coerce')"
            ],
            "outputs": [],
            "metadata": {}
        },
        {
            "cell_type": "code",
            "execution_count": 115,
            "source": [
                "df['mileage'] = df.mileage.astype(int,errors='ignore') #pd.to_numeric(df['mileage'],errors='coerce',downcast='integer') #df.mileage.astype(int,errors='ignore')\n",
                "df['power'] = df.power.astype(int,errors='ignore')"
            ],
            "outputs": [],
            "metadata": {}
        },
        {
            "cell_type": "code",
            "execution_count": 116,
            "source": [
                "df.info()"
            ],
            "outputs": [
                {
                    "output_type": "stream",
                    "name": "stdout",
                    "text": [
                        "<class 'pandas.core.frame.DataFrame'>\n",
                        "Int64Index: 7857 entries, 0 to 37635\n",
                        "Data columns (total 8 columns):\n",
                        " #   Column      Non-Null Count  Dtype  \n",
                        "---  ------      --------------  -----  \n",
                        " 0   model_name  7857 non-null   object \n",
                        " 1   model_year  7857 non-null   int64  \n",
                        " 2   kms_driven  5869 non-null   float64\n",
                        " 3   owner       7857 non-null   object \n",
                        " 4   location    7857 non-null   object \n",
                        " 5   mileage     6883 non-null   float64\n",
                        " 6   power       7429 non-null   float64\n",
                        " 7   price       7826 non-null   float64\n",
                        "dtypes: float64(4), int64(1), object(3)\n",
                        "memory usage: 552.4+ KB\n"
                    ]
                }
            ],
            "metadata": {}
        },
        {
            "cell_type": "code",
            "execution_count": 117,
            "source": [
                "df.shape"
            ],
            "outputs": [
                {
                    "output_type": "execute_result",
                    "data": {
                        "text/plain": [
                            "(7857, 8)"
                        ]
                    },
                    "metadata": {},
                    "execution_count": 117
                }
            ],
            "metadata": {}
        },
        {
            "cell_type": "code",
            "execution_count": 118,
            "source": [
                "cols = ['kms_driven', 'price','mileage','power']\n",
                "for col in cols:\n",
                "    df[col] = pd.to_numeric(df[col], errors='coerce', downcast='integer')"
            ],
            "outputs": [],
            "metadata": {}
        },
        {
            "cell_type": "code",
            "execution_count": 119,
            "source": [
                "df.to_csv('../data/processed/data.csv',index=False)"
            ],
            "outputs": [],
            "metadata": {}
        }
    ],
    "metadata": {
        "orig_nbformat": 4,
        "language_info": {
            "name": "python",
            "version": "3.8.8",
            "mimetype": "text/x-python",
            "codemirror_mode": {
                "name": "ipython",
                "version": 3
            },
            "pygments_lexer": "ipython3",
            "nbconvert_exporter": "python",
            "file_extension": ".py"
        },
        "kernelspec": {
            "name": "python3",
            "display_name": "Python 3.8.8 64-bit ('base': conda)"
        },
        "interpreter": {
            "hash": "d213f6e5b8fd7d14bb00958cfb5f51bfe315e9248ff051fde0d0d79c3d0f4eba"
        }
    },
    "nbformat": 4,
    "nbformat_minor": 2
}