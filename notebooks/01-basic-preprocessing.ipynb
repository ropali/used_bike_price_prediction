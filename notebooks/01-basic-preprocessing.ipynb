{
    "cells": [
        {
            "cell_type": "code",
            "execution_count": 1,
            "source": [
                "import pandas as pd\n",
                "import numpy as np\n",
                "import matplotlib.pyplot as plt\n",
                "import seaborn as sns"
            ],
            "outputs": [],
            "metadata": {}
        },
        {
            "cell_type": "code",
            "execution_count": 2,
            "source": [
                "df = pd.read_csv('../data/raw/data.csv')"
            ],
            "outputs": [],
            "metadata": {}
        },
        {
            "cell_type": "code",
            "execution_count": 3,
            "source": [
                "df.head()"
            ],
            "outputs": [
                {
                    "output_type": "execute_result",
                    "data": {
                        "text/html": [
                            "<div>\n",
                            "<style scoped>\n",
                            "    .dataframe tbody tr th:only-of-type {\n",
                            "        vertical-align: middle;\n",
                            "    }\n",
                            "\n",
                            "    .dataframe tbody tr th {\n",
                            "        vertical-align: top;\n",
                            "    }\n",
                            "\n",
                            "    .dataframe thead th {\n",
                            "        text-align: right;\n",
                            "    }\n",
                            "</style>\n",
                            "<table border=\"1\" class=\"dataframe\">\n",
                            "  <thead>\n",
                            "    <tr style=\"text-align: right;\">\n",
                            "      <th></th>\n",
                            "      <th>model_name</th>\n",
                            "      <th>model_year</th>\n",
                            "      <th>kms_driven</th>\n",
                            "      <th>owner</th>\n",
                            "      <th>location</th>\n",
                            "      <th>price</th>\n",
                            "    </tr>\n",
                            "  </thead>\n",
                            "  <tbody>\n",
                            "    <tr>\n",
                            "      <th>0</th>\n",
                            "      <td>Hero CBZ X-Treme Rear Disc</td>\n",
                            "      <td>2014 model</td>\n",
                            "      <td>26,916  kms</td>\n",
                            "      <td>1st Owner</td>\n",
                            "      <td>Lucknow</td>\n",
                            "      <td>40,000</td>\n",
                            "    </tr>\n",
                            "    <tr>\n",
                            "      <th>1</th>\n",
                            "      <td>Bajaj Pulsar 220 DTS-i Standard</td>\n",
                            "      <td>2017 model</td>\n",
                            "      <td>8,500  kms</td>\n",
                            "      <td>1st Owner</td>\n",
                            "      <td>Mumbai</td>\n",
                            "      <td>90,000</td>\n",
                            "    </tr>\n",
                            "    <tr>\n",
                            "      <th>2</th>\n",
                            "      <td>Bajaj Discover 135 Standard</td>\n",
                            "      <td>2011 model</td>\n",
                            "      <td>40,000  kms</td>\n",
                            "      <td>1st Owner</td>\n",
                            "      <td>Kolkata</td>\n",
                            "      <td>25,000</td>\n",
                            "    </tr>\n",
                            "    <tr>\n",
                            "      <th>3</th>\n",
                            "      <td>Hero Honda Splendor Plus Drum</td>\n",
                            "      <td>2011 model</td>\n",
                            "      <td>40,000  kms</td>\n",
                            "      <td>1st Owner</td>\n",
                            "      <td>Bangalore</td>\n",
                            "      <td>30,000</td>\n",
                            "    </tr>\n",
                            "    <tr>\n",
                            "      <th>4</th>\n",
                            "      <td>Bajaj Platina 100 ES Drum</td>\n",
                            "      <td>2018 model</td>\n",
                            "      <td>18,000  kms</td>\n",
                            "      <td>1st Owner</td>\n",
                            "      <td>Baran</td>\n",
                            "      <td>41,000</td>\n",
                            "    </tr>\n",
                            "  </tbody>\n",
                            "</table>\n",
                            "</div>"
                        ],
                        "text/plain": [
                            "                          model_name  model_year   kms_driven      owner  \\\n",
                            "0        Hero CBZ X-Treme Rear Disc   2014 model  26,916  kms  1st Owner   \n",
                            "1   Bajaj Pulsar 220 DTS-i Standard   2017 model   8,500  kms  1st Owner   \n",
                            "2       Bajaj Discover 135 Standard   2011 model  40,000  kms  1st Owner   \n",
                            "3     Hero Honda Splendor Plus Drum   2011 model  40,000  kms  1st Owner   \n",
                            "4         Bajaj Platina 100 ES Drum   2018 model  18,000  kms  1st Owner   \n",
                            "\n",
                            "     location    price  \n",
                            "0    Lucknow   40,000   \n",
                            "1     Mumbai   90,000   \n",
                            "2    Kolkata   25,000   \n",
                            "3  Bangalore   30,000   \n",
                            "4      Baran   41,000   "
                        ]
                    },
                    "metadata": {},
                    "execution_count": 3
                }
            ],
            "metadata": {}
        },
        {
            "cell_type": "code",
            "execution_count": 4,
            "source": [
                "df.tail(10)"
            ],
            "outputs": [
                {
                    "output_type": "execute_result",
                    "data": {
                        "text/html": [
                            "<div>\n",
                            "<style scoped>\n",
                            "    .dataframe tbody tr th:only-of-type {\n",
                            "        vertical-align: middle;\n",
                            "    }\n",
                            "\n",
                            "    .dataframe tbody tr th {\n",
                            "        vertical-align: top;\n",
                            "    }\n",
                            "\n",
                            "    .dataframe thead th {\n",
                            "        text-align: right;\n",
                            "    }\n",
                            "</style>\n",
                            "<table border=\"1\" class=\"dataframe\">\n",
                            "  <thead>\n",
                            "    <tr style=\"text-align: right;\">\n",
                            "      <th></th>\n",
                            "      <th>model_name</th>\n",
                            "      <th>model_year</th>\n",
                            "      <th>kms_driven</th>\n",
                            "      <th>owner</th>\n",
                            "      <th>location</th>\n",
                            "      <th>price</th>\n",
                            "    </tr>\n",
                            "  </thead>\n",
                            "  <tbody>\n",
                            "    <tr>\n",
                            "      <th>6562</th>\n",
                            "      <td>Royal Enfield Bullet Electra 350cc</td>\n",
                            "      <td>2015</td>\n",
                            "      <td>40,822 Km</td>\n",
                            "      <td>First Owner</td>\n",
                            "      <td>Areraj</td>\n",
                            "      <td>\\n 90,001\\n</td>\n",
                            "    </tr>\n",
                            "    <tr>\n",
                            "      <th>6563</th>\n",
                            "      <td>Suzuki Intruder 150cc</td>\n",
                            "      <td>2018</td>\n",
                            "      <td>19,000 Km</td>\n",
                            "      <td>First Owner</td>\n",
                            "      <td>Jajpur</td>\n",
                            "      <td>\\n 68,200\\n</td>\n",
                            "    </tr>\n",
                            "    <tr>\n",
                            "      <th>6564</th>\n",
                            "      <td>Bajaj Pulsar AS150</td>\n",
                            "      <td>2015</td>\n",
                            "      <td>12,566 Km</td>\n",
                            "      <td>First Owner</td>\n",
                            "      <td>Dhanbad</td>\n",
                            "      <td>\\n 54,999\\n</td>\n",
                            "    </tr>\n",
                            "    <tr>\n",
                            "      <th>6565</th>\n",
                            "      <td>Suzuki Gixxer 150cc</td>\n",
                            "      <td>2018</td>\n",
                            "      <td>10,815 Km</td>\n",
                            "      <td>First Owner</td>\n",
                            "      <td>Pune</td>\n",
                            "      <td>\\n 75,000\\n</td>\n",
                            "    </tr>\n",
                            "    <tr>\n",
                            "      <th>6566</th>\n",
                            "      <td>KTM RC 200cc</td>\n",
                            "      <td>2018</td>\n",
                            "      <td>11,000 Km</td>\n",
                            "      <td>First Owner</td>\n",
                            "      <td>Indore</td>\n",
                            "      <td>\\n 1,60,000\\n</td>\n",
                            "    </tr>\n",
                            "    <tr>\n",
                            "      <th>6567</th>\n",
                            "      <td>Hero Impulse 150cc</td>\n",
                            "      <td>2016</td>\n",
                            "      <td>40,000 Km</td>\n",
                            "      <td>First Owner</td>\n",
                            "      <td>Mumbai</td>\n",
                            "      <td>\\n 35,000\\n</td>\n",
                            "    </tr>\n",
                            "    <tr>\n",
                            "      <th>6568</th>\n",
                            "      <td>Royal Enfield Classic Chrome 500cc</td>\n",
                            "      <td>2013</td>\n",
                            "      <td>10,000 Km</td>\n",
                            "      <td>First Owner</td>\n",
                            "      <td>Anand</td>\n",
                            "      <td>\\n 1,10,000\\n</td>\n",
                            "    </tr>\n",
                            "    <tr>\n",
                            "      <th>6569</th>\n",
                            "      <td>Bajaj Avenger Street 220</td>\n",
                            "      <td>2017</td>\n",
                            "      <td>16,462 Km</td>\n",
                            "      <td>Second Owner</td>\n",
                            "      <td>Pune</td>\n",
                            "      <td>\\n 60,000\\n</td>\n",
                            "    </tr>\n",
                            "    <tr>\n",
                            "      <th>6570</th>\n",
                            "      <td>Royal Enfield Classic Desert Storm 500cc</td>\n",
                            "      <td>2013</td>\n",
                            "      <td>13,000 Km</td>\n",
                            "      <td>Second Owner</td>\n",
                            "      <td>Jaipur</td>\n",
                            "      <td>\\n 1,04,000\\n</td>\n",
                            "    </tr>\n",
                            "    <tr>\n",
                            "      <th>6571</th>\n",
                            "      <td>Honda CBR 250R</td>\n",
                            "      <td>2016</td>\n",
                            "      <td>17,000 Km</td>\n",
                            "      <td>Second Owner</td>\n",
                            "      <td>Chennai</td>\n",
                            "      <td>\\n 95,999\\n</td>\n",
                            "    </tr>\n",
                            "  </tbody>\n",
                            "</table>\n",
                            "</div>"
                        ],
                        "text/plain": [
                            "                                    model_name model_year kms_driven  \\\n",
                            "6562        Royal Enfield Bullet Electra 350cc       2015  40,822 Km   \n",
                            "6563                     Suzuki Intruder 150cc       2018  19,000 Km   \n",
                            "6564                        Bajaj Pulsar AS150       2015  12,566 Km   \n",
                            "6565                       Suzuki Gixxer 150cc       2018  10,815 Km   \n",
                            "6566                              KTM RC 200cc       2018  11,000 Km   \n",
                            "6567                        Hero Impulse 150cc       2016  40,000 Km   \n",
                            "6568        Royal Enfield Classic Chrome 500cc       2013  10,000 Km   \n",
                            "6569                  Bajaj Avenger Street 220       2017  16,462 Km   \n",
                            "6570  Royal Enfield Classic Desert Storm 500cc       2013  13,000 Km   \n",
                            "6571                            Honda CBR 250R       2016  17,000 Km   \n",
                            "\n",
                            "             owner location                                              price  \n",
                            "6562   First Owner   Areraj    \\n 90,001\\n                                      \n",
                            "6563   First Owner   Jajpur    \\n 68,200\\n                                      \n",
                            "6564   First Owner  Dhanbad    \\n 54,999\\n                                      \n",
                            "6565   First Owner     Pune    \\n 75,000\\n                                      \n",
                            "6566   First Owner   Indore  \\n 1,60,000\\n                                      \n",
                            "6567   First Owner   Mumbai    \\n 35,000\\n                                      \n",
                            "6568   First Owner    Anand  \\n 1,10,000\\n                                      \n",
                            "6569  Second Owner     Pune    \\n 60,000\\n                                      \n",
                            "6570  Second Owner   Jaipur  \\n 1,04,000\\n                                      \n",
                            "6571  Second Owner  Chennai    \\n 95,999\\n                                      "
                        ]
                    },
                    "metadata": {},
                    "execution_count": 4
                }
            ],
            "metadata": {}
        },
        {
            "cell_type": "code",
            "execution_count": 5,
            "source": [
                "df.shape"
            ],
            "outputs": [
                {
                    "output_type": "execute_result",
                    "data": {
                        "text/plain": [
                            "(6572, 6)"
                        ]
                    },
                    "metadata": {},
                    "execution_count": 5
                }
            ],
            "metadata": {}
        },
        {
            "cell_type": "markdown",
            "source": [
                "## Data Cleaning"
            ],
            "metadata": {}
        },
        {
            "cell_type": "code",
            "execution_count": 6,
            "source": [
                "# remove whitespace from data\n",
                "for col in df.columns:\n",
                "    df[col] = df[col].apply(lambda x: x.strip() if x else x)"
            ],
            "outputs": [],
            "metadata": {}
        },
        {
            "cell_type": "code",
            "execution_count": 7,
            "source": [
                "# Remove commas from kms_driven and price columns\n",
                "\n",
                "def clean_kms_driven(val):\n",
                "    if not val:\n",
                "        return ''\n",
                "\n",
                "    val = val.lower()\n",
                "\n",
                "    if 'kms' in val:\n",
                "        val = val.replace('kms','')\n",
                "\n",
                "    if 'km' in val:\n",
                "        val = val.replace('km','')\n",
                "\n",
                "    return val.replace(',','')\n",
                "\n",
                "\n",
                "def clean_price(val):\n",
                "    \"\"\"\n",
                "    1. remove currency symbol.\n",
                "    2. remove commas\n",
                "    3. fix the val which is represented as lakh\n",
                "    \"\"\"\n",
                "    if not val:\n",
                "        return ''\n",
                "\n",
                "    val = val.replace('₹','')\n",
                "\n",
                "    val = val.replace(',','')\n",
                "\n",
                "    if 'lakh' in val.lower():\n",
                "        val = val.lower().replace('lakh','')\n",
                "        val = float(val)\n",
                "        return val * 100000\n",
                "\n",
                "    return val\n",
                "    \n",
                "\n",
                "df['kms_driven'] = df['kms_driven'].apply(clean_kms_driven)\n",
                "\n",
                "df['price'] = df['price'].apply(clean_price)"
            ],
            "outputs": [],
            "metadata": {}
        },
        {
            "cell_type": "code",
            "execution_count": 8,
            "source": [
                "# Let's make the model_year columm as number only by removing the 'model' string\n",
                "df['model_year'] = df['model_year'].str.replace('model','')"
            ],
            "outputs": [],
            "metadata": {}
        },
        {
            "cell_type": "code",
            "execution_count": 9,
            "source": [
                "# location feature have comma separated values\n",
                "# need to make it a single value, for that let's take\n",
                "# the last value as it is the main city name\n",
                "\n",
                "def clean_location(val):\n",
                "    if not val:\n",
                "        return ''\n",
                "    \n",
                "    return val.split(',')[-1].strip()\n",
                "\n",
                "df['location'] = df['location'].apply(clean_location)"
            ],
            "outputs": [],
            "metadata": {}
        },
        {
            "cell_type": "code",
            "execution_count": 10,
            "source": [
                "df.location.value_counts()[:21]"
            ],
            "outputs": [
                {
                    "output_type": "execute_result",
                    "data": {
                        "text/plain": [
                            "Delhi          1762\n",
                            "Mumbai          658\n",
                            "Bangalore       647\n",
                            "New Delhi       373\n",
                            "Hyderabad       367\n",
                            "Jaipur          240\n",
                            "Kolkata         207\n",
                            "Ahmedabad       199\n",
                            "Chennai         187\n",
                            "Pune            178\n",
                            "Gurgaon         115\n",
                            "Chandigarh      105\n",
                            "Thane            68\n",
                            "Faridabad        66\n",
                            "Noida            60\n",
                            "Ghaziabad        59\n",
                            "Rajkot           36\n",
                            "Vadodara         28\n",
                            "Navi Mumbai      21\n",
                            "Patna            19\n",
                            "Surat            18\n",
                            "Name: location, dtype: int64"
                        ]
                    },
                    "metadata": {},
                    "execution_count": 10
                }
            ],
            "metadata": {}
        },
        {
            "cell_type": "code",
            "execution_count": 11,
            "source": [
                "# Fix owner column values\n",
                "# it is represented in two different way one as 1st owner and other in words like first owner\n",
                "# let's make them homogeneous\n",
                "\n",
                "def clean_owner(val):\n",
                "    if not val:\n",
                "        return val\n",
                "\n",
                "    owners = {\n",
                "        '1st Owner': '1st',\n",
                "        '2nd Owner': '2nd',\n",
                "        '3rd Owner': '3rd',\n",
                "        '4th Owner': '4th',\n",
                "        '5th Owner': '5th',\n",
                "        'First Owner': '1st',\n",
                "        'Second Owner': '2nd',\n",
                "        'Third Owner': '3rd',\n",
                "        'Fourth Owner': '4th',\n",
                "        'Fourth Owner Or More': '5th',\n",
                "    }\n",
                "\n",
                "    return owners.get(val,'')\n",
                "\n",
                "df['owner'] = df['owner'].apply(clean_owner)"
            ],
            "outputs": [],
            "metadata": {}
        },
        {
            "cell_type": "code",
            "execution_count": 12,
            "source": [
                "df.sample(10)"
            ],
            "outputs": [
                {
                    "output_type": "execute_result",
                    "data": {
                        "text/html": [
                            "<div>\n",
                            "<style scoped>\n",
                            "    .dataframe tbody tr th:only-of-type {\n",
                            "        vertical-align: middle;\n",
                            "    }\n",
                            "\n",
                            "    .dataframe tbody tr th {\n",
                            "        vertical-align: top;\n",
                            "    }\n",
                            "\n",
                            "    .dataframe thead th {\n",
                            "        text-align: right;\n",
                            "    }\n",
                            "</style>\n",
                            "<table border=\"1\" class=\"dataframe\">\n",
                            "  <thead>\n",
                            "    <tr style=\"text-align: right;\">\n",
                            "      <th></th>\n",
                            "      <th>model_name</th>\n",
                            "      <th>model_year</th>\n",
                            "      <th>kms_driven</th>\n",
                            "      <th>owner</th>\n",
                            "      <th>location</th>\n",
                            "      <th>price</th>\n",
                            "    </tr>\n",
                            "  </thead>\n",
                            "  <tbody>\n",
                            "    <tr>\n",
                            "      <th>1391</th>\n",
                            "      <td>Royal Enfield Bullet 350 ES</td>\n",
                            "      <td>2016</td>\n",
                            "      <td>31000</td>\n",
                            "      <td>1st</td>\n",
                            "      <td>New Delhi</td>\n",
                            "      <td>95000</td>\n",
                            "    </tr>\n",
                            "    <tr>\n",
                            "      <th>1491</th>\n",
                            "      <td>Royal Enfield Bullet 350 ES ABS BS VI</td>\n",
                            "      <td>2018</td>\n",
                            "      <td>19858</td>\n",
                            "      <td>1st</td>\n",
                            "      <td>North West Delhi</td>\n",
                            "      <td>65500</td>\n",
                            "    </tr>\n",
                            "    <tr>\n",
                            "      <th>4257</th>\n",
                            "      <td>TVS Apache RTR 180cc</td>\n",
                            "      <td>2019</td>\n",
                            "      <td>88000</td>\n",
                            "      <td>1st</td>\n",
                            "      <td>Jaipur</td>\n",
                            "      <td>61000</td>\n",
                            "    </tr>\n",
                            "    <tr>\n",
                            "      <th>4272</th>\n",
                            "      <td>Bajaj Pulsar 180cc</td>\n",
                            "      <td>2008</td>\n",
                            "      <td>24000</td>\n",
                            "      <td>1st</td>\n",
                            "      <td>Mumbai</td>\n",
                            "      <td>14000</td>\n",
                            "    </tr>\n",
                            "    <tr>\n",
                            "      <th>2141</th>\n",
                            "      <td>Royal Enfield Classic 350 Redditch Rear Disc</td>\n",
                            "      <td>2019</td>\n",
                            "      <td>22000</td>\n",
                            "      <td>1st</td>\n",
                            "      <td>Mumbai</td>\n",
                            "      <td>65000</td>\n",
                            "    </tr>\n",
                            "    <tr>\n",
                            "      <th>4701</th>\n",
                            "      <td>Bajaj Pulsar 150cc</td>\n",
                            "      <td>2017</td>\n",
                            "      <td>56000</td>\n",
                            "      <td>1st</td>\n",
                            "      <td>Pune</td>\n",
                            "      <td>57000</td>\n",
                            "    </tr>\n",
                            "    <tr>\n",
                            "      <th>1168</th>\n",
                            "      <td>Hero Honda Passion PRO [2012] Standard</td>\n",
                            "      <td>2010</td>\n",
                            "      <td>40318</td>\n",
                            "      <td>2nd</td>\n",
                            "      <td>Sitamarhi</td>\n",
                            "      <td>30000</td>\n",
                            "    </tr>\n",
                            "    <tr>\n",
                            "      <th>2865</th>\n",
                            "      <td>TVS Ntorq 125 Super Squad Edition BS VI</td>\n",
                            "      <td>2018</td>\n",
                            "      <td>7000</td>\n",
                            "      <td>1st</td>\n",
                            "      <td>Kolkata</td>\n",
                            "      <td>25000</td>\n",
                            "    </tr>\n",
                            "    <tr>\n",
                            "      <th>1146</th>\n",
                            "      <td>Honda Activa [2000-2015] Standard</td>\n",
                            "      <td>2008</td>\n",
                            "      <td>40000</td>\n",
                            "      <td>2nd</td>\n",
                            "      <td>Zirakpur</td>\n",
                            "      <td>10000</td>\n",
                            "    </tr>\n",
                            "    <tr>\n",
                            "      <th>5156</th>\n",
                            "      <td>Yamaha FZS FI 150cc</td>\n",
                            "      <td>2018</td>\n",
                            "      <td>20517</td>\n",
                            "      <td>1st</td>\n",
                            "      <td>Delhi</td>\n",
                            "      <td>68000</td>\n",
                            "    </tr>\n",
                            "  </tbody>\n",
                            "</table>\n",
                            "</div>"
                        ],
                        "text/plain": [
                            "                                        model_name model_year kms_driven  \\\n",
                            "1391                   Royal Enfield Bullet 350 ES       2016     31000    \n",
                            "1491         Royal Enfield Bullet 350 ES ABS BS VI       2018     19858    \n",
                            "4257                          TVS Apache RTR 180cc       2019     88000    \n",
                            "4272                            Bajaj Pulsar 180cc       2008     24000    \n",
                            "2141  Royal Enfield Classic 350 Redditch Rear Disc       2019     22000    \n",
                            "4701                            Bajaj Pulsar 150cc       2017     56000    \n",
                            "1168        Hero Honda Passion PRO [2012] Standard      2010     40318     \n",
                            "2865       TVS Ntorq 125 Super Squad Edition BS VI       2018      7000    \n",
                            "1146             Honda Activa [2000-2015] Standard      2008     40000     \n",
                            "5156                           Yamaha FZS FI 150cc       2018     20517    \n",
                            "\n",
                            "     owner          location   price  \n",
                            "1391   1st         New Delhi   95000  \n",
                            "1491   1st  North West Delhi   65500  \n",
                            "4257   1st            Jaipur   61000  \n",
                            "4272   1st            Mumbai   14000  \n",
                            "2141   1st            Mumbai   65000  \n",
                            "4701   1st              Pune   57000  \n",
                            "1168   2nd         Sitamarhi   30000  \n",
                            "2865   1st           Kolkata   25000  \n",
                            "1146   2nd          Zirakpur   10000  \n",
                            "5156   1st             Delhi   68000  "
                        ]
                    },
                    "metadata": {},
                    "execution_count": 12
                }
            ],
            "metadata": {}
        },
        {
            "cell_type": "code",
            "execution_count": 13,
            "source": [
                "df.info()"
            ],
            "outputs": [
                {
                    "output_type": "stream",
                    "name": "stdout",
                    "text": [
                        "<class 'pandas.core.frame.DataFrame'>\n",
                        "RangeIndex: 6572 entries, 0 to 6571\n",
                        "Data columns (total 6 columns):\n",
                        " #   Column      Non-Null Count  Dtype \n",
                        "---  ------      --------------  ----- \n",
                        " 0   model_name  6572 non-null   object\n",
                        " 1   model_year  6572 non-null   object\n",
                        " 2   kms_driven  6572 non-null   object\n",
                        " 3   owner       6572 non-null   object\n",
                        " 4   location    6572 non-null   object\n",
                        " 5   price       6572 non-null   object\n",
                        "dtypes: object(6)\n",
                        "memory usage: 308.2+ KB\n"
                    ]
                }
            ],
            "metadata": {}
        },
        {
            "cell_type": "code",
            "execution_count": 14,
            "source": [
                "df['model_year'] = pd.to_numeric(df['model_year'],errors='coerce')\n",
                "df['kms_driven'] = pd.to_numeric(df['kms_driven'],errors='coerce')\n",
                "df['price'] = pd.to_numeric(df['price'],errors='coerce')"
            ],
            "outputs": [],
            "metadata": {}
        },
        {
            "cell_type": "code",
            "execution_count": 15,
            "source": [
                "df.info()"
            ],
            "outputs": [
                {
                    "output_type": "stream",
                    "name": "stdout",
                    "text": [
                        "<class 'pandas.core.frame.DataFrame'>\n",
                        "RangeIndex: 6572 entries, 0 to 6571\n",
                        "Data columns (total 6 columns):\n",
                        " #   Column      Non-Null Count  Dtype  \n",
                        "---  ------      --------------  -----  \n",
                        " 0   model_name  6572 non-null   object \n",
                        " 1   model_year  6572 non-null   int64  \n",
                        " 2   kms_driven  6569 non-null   float64\n",
                        " 3   owner       6572 non-null   object \n",
                        " 4   location    6572 non-null   object \n",
                        " 5   price       6319 non-null   float64\n",
                        "dtypes: float64(2), int64(1), object(3)\n",
                        "memory usage: 308.2+ KB\n"
                    ]
                }
            ],
            "metadata": {}
        },
        {
            "cell_type": "code",
            "execution_count": 16,
            "source": [
                "df.duplicated().sum()"
            ],
            "outputs": [
                {
                    "output_type": "execute_result",
                    "data": {
                        "text/plain": [
                            "858"
                        ]
                    },
                    "metadata": {},
                    "execution_count": 16
                }
            ],
            "metadata": {}
        },
        {
            "cell_type": "code",
            "execution_count": 17,
            "source": [
                "df = df[~df.duplicated()]"
            ],
            "outputs": [],
            "metadata": {}
        },
        {
            "cell_type": "code",
            "execution_count": 18,
            "source": [
                "df.shape"
            ],
            "outputs": [
                {
                    "output_type": "execute_result",
                    "data": {
                        "text/plain": [
                            "(5714, 6)"
                        ]
                    },
                    "metadata": {},
                    "execution_count": 18
                }
            ],
            "metadata": {}
        },
        {
            "cell_type": "markdown",
            "source": [
                "## Handle Missing Values"
            ],
            "metadata": {}
        },
        {
            "cell_type": "code",
            "execution_count": 19,
            "source": [
                "df.isnull().sum()"
            ],
            "outputs": [
                {
                    "output_type": "execute_result",
                    "data": {
                        "text/plain": [
                            "model_name      0\n",
                            "model_year      0\n",
                            "kms_driven      3\n",
                            "owner           0\n",
                            "location        0\n",
                            "price         207\n",
                            "dtype: int64"
                        ]
                    },
                    "metadata": {},
                    "execution_count": 19
                }
            ],
            "metadata": {}
        },
        {
            "cell_type": "markdown",
            "source": [
                "### It looks like there are empty rows present,let's drop them."
            ],
            "metadata": {}
        },
        {
            "cell_type": "code",
            "execution_count": 21,
            "source": [
                "df.dropna(inplace=True)"
            ],
            "outputs": [],
            "metadata": {}
        },
        {
            "cell_type": "code",
            "execution_count": 22,
            "source": [
                "df.shape"
            ],
            "outputs": [
                {
                    "output_type": "execute_result",
                    "data": {
                        "text/plain": [
                            "(5504, 6)"
                        ]
                    },
                    "metadata": {},
                    "execution_count": 22
                }
            ],
            "metadata": {}
        },
        {
            "cell_type": "code",
            "execution_count": 23,
            "source": [
                "df.to_csv('../data/processed/data.csv',index=False)"
            ],
            "outputs": [],
            "metadata": {}
        }
    ],
    "metadata": {
        "orig_nbformat": 4,
        "language_info": {
            "name": "python",
            "version": "3.8.8",
            "mimetype": "text/x-python",
            "codemirror_mode": {
                "name": "ipython",
                "version": 3
            },
            "pygments_lexer": "ipython3",
            "nbconvert_exporter": "python",
            "file_extension": ".py"
        },
        "kernelspec": {
            "name": "python3",
            "display_name": "Python 3.8.8 64-bit ('base': conda)"
        },
        "interpreter": {
            "hash": "d213f6e5b8fd7d14bb00958cfb5f51bfe315e9248ff051fde0d0d79c3d0f4eba"
        }
    },
    "nbformat": 4,
    "nbformat_minor": 2
}