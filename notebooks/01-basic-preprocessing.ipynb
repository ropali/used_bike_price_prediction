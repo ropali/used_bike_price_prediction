{
    "cells": [
        {
            "cell_type": "code",
            "execution_count": 2,
            "source": [
                "import pandas as pd\n",
                "import numpy as np\n",
                "import matplotlib.pyplot as plt\n",
                "import seaborn as sns"
            ],
            "outputs": [],
            "metadata": {}
        },
        {
            "cell_type": "code",
            "execution_count": 3,
            "source": [
                "df = pd.read_csv('../data/raw/data.csv')"
            ],
            "outputs": [],
            "metadata": {}
        },
        {
            "cell_type": "code",
            "execution_count": 4,
            "source": [
                "df.shape"
            ],
            "outputs": [
                {
                    "output_type": "execute_result",
                    "data": {
                        "text/plain": [
                            "(8917, 10)"
                        ]
                    },
                    "metadata": {},
                    "execution_count": 4
                }
            ],
            "metadata": {}
        },
        {
            "cell_type": "code",
            "execution_count": 5,
            "source": [
                "df.head()"
            ],
            "outputs": [
                {
                    "output_type": "execute_result",
                    "data": {
                        "text/html": [
                            "<div>\n",
                            "<style scoped>\n",
                            "    .dataframe tbody tr th:only-of-type {\n",
                            "        vertical-align: middle;\n",
                            "    }\n",
                            "\n",
                            "    .dataframe tbody tr th {\n",
                            "        vertical-align: top;\n",
                            "    }\n",
                            "\n",
                            "    .dataframe thead th {\n",
                            "        text-align: right;\n",
                            "    }\n",
                            "</style>\n",
                            "<table border=\"1\" class=\"dataframe\">\n",
                            "  <thead>\n",
                            "    <tr style=\"text-align: right;\">\n",
                            "      <th></th>\n",
                            "      <th>model_name</th>\n",
                            "      <th>model_year</th>\n",
                            "      <th>kms_driven</th>\n",
                            "      <th>owner</th>\n",
                            "      <th>location</th>\n",
                            "      <th>mileage</th>\n",
                            "      <th>engine</th>\n",
                            "      <th>power</th>\n",
                            "      <th>wheel_size</th>\n",
                            "      <th>price</th>\n",
                            "    </tr>\n",
                            "  </thead>\n",
                            "  <tbody>\n",
                            "    <tr>\n",
                            "      <th>0</th>\n",
                            "      <td>Royal Enfield Bullet Electra 350cc 2011</td>\n",
                            "      <td>2011</td>\n",
                            "      <td>38998 Km</td>\n",
                            "      <td>first owner</td>\n",
                            "      <td>bangalore</td>\n",
                            "      <td>\\n\\n 40 kmpl</td>\n",
                            "      <td>NaN</td>\n",
                            "      <td>19.8 Bhp</td>\n",
                            "      <td>NaN</td>\n",
                            "      <td>95000</td>\n",
                            "    </tr>\n",
                            "    <tr>\n",
                            "      <th>1</th>\n",
                            "      <td>Jawa Perak 330cc 2020</td>\n",
                            "      <td>2020</td>\n",
                            "      <td>2000 Km</td>\n",
                            "      <td>first owner</td>\n",
                            "      <td>bangalore</td>\n",
                            "      <td>\\n\\n</td>\n",
                            "      <td>NaN</td>\n",
                            "      <td>30 bhp</td>\n",
                            "      <td>NaN</td>\n",
                            "      <td>197500</td>\n",
                            "    </tr>\n",
                            "    <tr>\n",
                            "      <th>2</th>\n",
                            "      <td>Hero CD Dawn 100cc 2005</td>\n",
                            "      <td>2005</td>\n",
                            "      <td>28000 Km</td>\n",
                            "      <td>first owner</td>\n",
                            "      <td>ghaziabad</td>\n",
                            "      <td>\\n\\n 72 kmpl</td>\n",
                            "      <td>NaN</td>\n",
                            "      <td>7.0 bhp</td>\n",
                            "      <td>NaN</td>\n",
                            "      <td>9000</td>\n",
                            "    </tr>\n",
                            "    <tr>\n",
                            "      <th>3</th>\n",
                            "      <td>KTM Duke 200cc 2012</td>\n",
                            "      <td>2012</td>\n",
                            "      <td>24561 Km</td>\n",
                            "      <td>third owner</td>\n",
                            "      <td>bangalore</td>\n",
                            "      <td>\\n\\n 35 kmpl</td>\n",
                            "      <td>NaN</td>\n",
                            "      <td>25 bhp</td>\n",
                            "      <td>NaN</td>\n",
                            "      <td>63400</td>\n",
                            "    </tr>\n",
                            "    <tr>\n",
                            "      <th>4</th>\n",
                            "      <td>TVS Apache RTR 200 4V Dual Channel ABS BS6 2020</td>\n",
                            "      <td>2020</td>\n",
                            "      <td>Mileage 40 Kmpl</td>\n",
                            "      <td>first owner</td>\n",
                            "      <td>hyderabad</td>\n",
                            "      <td>\\n\\n 40 Kmpl</td>\n",
                            "      <td>NaN</td>\n",
                            "      <td>20.21 bhp</td>\n",
                            "      <td>NaN</td>\n",
                            "      <td>130500</td>\n",
                            "    </tr>\n",
                            "  </tbody>\n",
                            "</table>\n",
                            "</div>"
                        ],
                        "text/plain": [
                            "                                        model_name  model_year  \\\n",
                            "0          Royal Enfield Bullet Electra 350cc 2011        2011   \n",
                            "1                            Jawa Perak 330cc 2020        2020   \n",
                            "2                          Hero CD Dawn 100cc 2005        2005   \n",
                            "3                              KTM Duke 200cc 2012        2012   \n",
                            "4  TVS Apache RTR 200 4V Dual Channel ABS BS6 2020        2020   \n",
                            "\n",
                            "        kms_driven        owner   location       mileage  engine      power  \\\n",
                            "0         38998 Km  first owner  bangalore  \\n\\n 40 kmpl     NaN   19.8 Bhp   \n",
                            "1          2000 Km  first owner  bangalore         \\n\\n      NaN     30 bhp   \n",
                            "2         28000 Km  first owner  ghaziabad  \\n\\n 72 kmpl     NaN    7.0 bhp   \n",
                            "3         24561 Km  third owner  bangalore  \\n\\n 35 kmpl     NaN     25 bhp   \n",
                            "4  Mileage 40 Kmpl  first owner  hyderabad  \\n\\n 40 Kmpl     NaN  20.21 bhp   \n",
                            "\n",
                            "   wheel_size   price  \n",
                            "0         NaN   95000  \n",
                            "1         NaN  197500  \n",
                            "2         NaN    9000  \n",
                            "3         NaN   63400  \n",
                            "4         NaN  130500  "
                        ]
                    },
                    "metadata": {},
                    "execution_count": 5
                }
            ],
            "metadata": {}
        },
        {
            "cell_type": "code",
            "execution_count": 6,
            "source": [
                "df.tail(10)"
            ],
            "outputs": [
                {
                    "output_type": "execute_result",
                    "data": {
                        "text/html": [
                            "<div>\n",
                            "<style scoped>\n",
                            "    .dataframe tbody tr th:only-of-type {\n",
                            "        vertical-align: middle;\n",
                            "    }\n",
                            "\n",
                            "    .dataframe tbody tr th {\n",
                            "        vertical-align: top;\n",
                            "    }\n",
                            "\n",
                            "    .dataframe thead th {\n",
                            "        text-align: right;\n",
                            "    }\n",
                            "</style>\n",
                            "<table border=\"1\" class=\"dataframe\">\n",
                            "  <thead>\n",
                            "    <tr style=\"text-align: right;\">\n",
                            "      <th></th>\n",
                            "      <th>model_name</th>\n",
                            "      <th>model_year</th>\n",
                            "      <th>kms_driven</th>\n",
                            "      <th>owner</th>\n",
                            "      <th>location</th>\n",
                            "      <th>mileage</th>\n",
                            "      <th>engine</th>\n",
                            "      <th>power</th>\n",
                            "      <th>wheel_size</th>\n",
                            "      <th>price</th>\n",
                            "    </tr>\n",
                            "  </thead>\n",
                            "  <tbody>\n",
                            "    <tr>\n",
                            "      <th>8907</th>\n",
                            "      <td>Honda CB Trigger 150cc 2014</td>\n",
                            "      <td>2014</td>\n",
                            "      <td>10000 Km</td>\n",
                            "      <td>first owner</td>\n",
                            "      <td>mumbai</td>\n",
                            "      <td>\\n\\n 60 kmpl</td>\n",
                            "      <td>NaN</td>\n",
                            "      <td>14 bhp</td>\n",
                            "      <td>NaN</td>\n",
                            "      <td>49000</td>\n",
                            "    </tr>\n",
                            "    <tr>\n",
                            "      <th>8908</th>\n",
                            "      <td>Bajaj Pulsar 220F 2017</td>\n",
                            "      <td>2017</td>\n",
                            "      <td>1500 Km</td>\n",
                            "      <td>first owner</td>\n",
                            "      <td>kanpur nagar</td>\n",
                            "      <td>\\n\\n 38 kmpl</td>\n",
                            "      <td>NaN</td>\n",
                            "      <td>21 bhp</td>\n",
                            "      <td>NaN</td>\n",
                            "      <td>89000</td>\n",
                            "    </tr>\n",
                            "    <tr>\n",
                            "      <th>8909</th>\n",
                            "      <td>Bajaj Pulsar RS200 ABS 2015</td>\n",
                            "      <td>2015</td>\n",
                            "      <td>Mileage 35 Kmpl</td>\n",
                            "      <td>first owner</td>\n",
                            "      <td>delhi</td>\n",
                            "      <td>\\n\\n 35 Kmpl</td>\n",
                            "      <td>NaN</td>\n",
                            "      <td>24.16 bhp</td>\n",
                            "      <td>NaN</td>\n",
                            "      <td>80000</td>\n",
                            "    </tr>\n",
                            "    <tr>\n",
                            "      <th>8910</th>\n",
                            "      <td>Bajaj Pulsar RS200 ABS 2016</td>\n",
                            "      <td>2016</td>\n",
                            "      <td>Mileage 35 Kmpl</td>\n",
                            "      <td>first owner</td>\n",
                            "      <td>bangalore</td>\n",
                            "      <td>\\n\\n 35 Kmpl</td>\n",
                            "      <td>NaN</td>\n",
                            "      <td>24.50 bhp</td>\n",
                            "      <td>NaN</td>\n",
                            "      <td>120000</td>\n",
                            "    </tr>\n",
                            "    <tr>\n",
                            "      <th>8911</th>\n",
                            "      <td>Bajaj Avenger 220cc 2015</td>\n",
                            "      <td>2015</td>\n",
                            "      <td>38000 Km</td>\n",
                            "      <td>first owner</td>\n",
                            "      <td>mathura</td>\n",
                            "      <td>\\n\\n 40 kmpl</td>\n",
                            "      <td>NaN</td>\n",
                            "      <td>19 bhp</td>\n",
                            "      <td>NaN</td>\n",
                            "      <td>55000</td>\n",
                            "    </tr>\n",
                            "    <tr>\n",
                            "      <th>8912</th>\n",
                            "      <td>Royal Enfield Thunderbird 500cc 2013</td>\n",
                            "      <td>2013</td>\n",
                            "      <td>40500 Km</td>\n",
                            "      <td>first owner</td>\n",
                            "      <td>pune</td>\n",
                            "      <td>\\n\\n 25 kmpl</td>\n",
                            "      <td>NaN</td>\n",
                            "      <td>27.20 bhp</td>\n",
                            "      <td>NaN</td>\n",
                            "      <td>95000</td>\n",
                            "    </tr>\n",
                            "    <tr>\n",
                            "      <th>8913</th>\n",
                            "      <td>Bajaj Dominar 400 ABS 2017</td>\n",
                            "      <td>2017</td>\n",
                            "      <td>Mileage 28 Kms</td>\n",
                            "      <td>first owner</td>\n",
                            "      <td>pune</td>\n",
                            "      <td>\\n\\n 28 Kms</td>\n",
                            "      <td>NaN</td>\n",
                            "      <td>34.50 bhp</td>\n",
                            "      <td>NaN</td>\n",
                            "      <td>147500</td>\n",
                            "    </tr>\n",
                            "    <tr>\n",
                            "      <th>8914</th>\n",
                            "      <td>KTM RC 390cc 2016</td>\n",
                            "      <td>2016</td>\n",
                            "      <td>1700 Km</td>\n",
                            "      <td>first owner</td>\n",
                            "      <td>delhi</td>\n",
                            "      <td>\\n\\n 26kmpl</td>\n",
                            "      <td>NaN</td>\n",
                            "      <td>42.30 bhp</td>\n",
                            "      <td>NaN</td>\n",
                            "      <td>190000</td>\n",
                            "    </tr>\n",
                            "    <tr>\n",
                            "      <th>8915</th>\n",
                            "      <td>Bajaj Pulsar 200 NS 200cc 2014</td>\n",
                            "      <td>2014</td>\n",
                            "      <td>43000 Km</td>\n",
                            "      <td>first owner</td>\n",
                            "      <td>chennai</td>\n",
                            "      <td>\\n\\n 40 kmpl</td>\n",
                            "      <td>NaN</td>\n",
                            "      <td>24.2 BHP</td>\n",
                            "      <td>NaN</td>\n",
                            "      <td>53000</td>\n",
                            "    </tr>\n",
                            "    <tr>\n",
                            "      <th>8916</th>\n",
                            "      <td>Bajaj Pulsar 180cc 2016</td>\n",
                            "      <td>2016</td>\n",
                            "      <td>19718 Km</td>\n",
                            "      <td>first owner</td>\n",
                            "      <td>bangalore</td>\n",
                            "      <td>\\n\\n 65 kmpl</td>\n",
                            "      <td>NaN</td>\n",
                            "      <td>17 bhp</td>\n",
                            "      <td>NaN</td>\n",
                            "      <td>55000</td>\n",
                            "    </tr>\n",
                            "  </tbody>\n",
                            "</table>\n",
                            "</div>"
                        ],
                        "text/plain": [
                            "                                model_name  model_year       kms_driven  \\\n",
                            "8907           Honda CB Trigger 150cc 2014        2014         10000 Km   \n",
                            "8908                Bajaj Pulsar 220F 2017        2017          1500 Km   \n",
                            "8909           Bajaj Pulsar RS200 ABS 2015        2015  Mileage 35 Kmpl   \n",
                            "8910           Bajaj Pulsar RS200 ABS 2016        2016  Mileage 35 Kmpl   \n",
                            "8911              Bajaj Avenger 220cc 2015        2015         38000 Km   \n",
                            "8912  Royal Enfield Thunderbird 500cc 2013        2013         40500 Km   \n",
                            "8913            Bajaj Dominar 400 ABS 2017        2017   Mileage 28 Kms   \n",
                            "8914                     KTM RC 390cc 2016        2016          1700 Km   \n",
                            "8915        Bajaj Pulsar 200 NS 200cc 2014        2014         43000 Km   \n",
                            "8916               Bajaj Pulsar 180cc 2016        2016         19718 Km   \n",
                            "\n",
                            "            owner      location       mileage  engine      power  wheel_size  \\\n",
                            "8907  first owner        mumbai  \\n\\n 60 kmpl     NaN     14 bhp         NaN   \n",
                            "8908  first owner  kanpur nagar  \\n\\n 38 kmpl     NaN     21 bhp         NaN   \n",
                            "8909  first owner         delhi  \\n\\n 35 Kmpl     NaN  24.16 bhp         NaN   \n",
                            "8910  first owner     bangalore  \\n\\n 35 Kmpl     NaN  24.50 bhp         NaN   \n",
                            "8911  first owner       mathura  \\n\\n 40 kmpl     NaN     19 bhp         NaN   \n",
                            "8912  first owner          pune  \\n\\n 25 kmpl     NaN  27.20 bhp         NaN   \n",
                            "8913  first owner          pune   \\n\\n 28 Kms     NaN  34.50 bhp         NaN   \n",
                            "8914  first owner         delhi   \\n\\n 26kmpl     NaN  42.30 bhp         NaN   \n",
                            "8915  first owner       chennai  \\n\\n 40 kmpl     NaN   24.2 BHP         NaN   \n",
                            "8916  first owner     bangalore  \\n\\n 65 kmpl     NaN     17 bhp         NaN   \n",
                            "\n",
                            "       price  \n",
                            "8907   49000  \n",
                            "8908   89000  \n",
                            "8909   80000  \n",
                            "8910  120000  \n",
                            "8911   55000  \n",
                            "8912   95000  \n",
                            "8913  147500  \n",
                            "8914  190000  \n",
                            "8915   53000  \n",
                            "8916   55000  "
                        ]
                    },
                    "metadata": {},
                    "execution_count": 6
                }
            ],
            "metadata": {}
        },
        {
            "cell_type": "code",
            "execution_count": 7,
            "source": [
                "df.shape"
            ],
            "outputs": [
                {
                    "output_type": "execute_result",
                    "data": {
                        "text/plain": [
                            "(8917, 10)"
                        ]
                    },
                    "metadata": {},
                    "execution_count": 7
                }
            ],
            "metadata": {}
        },
        {
            "cell_type": "code",
            "execution_count": 8,
            "source": [
                "df.info()"
            ],
            "outputs": [
                {
                    "output_type": "stream",
                    "name": "stdout",
                    "text": [
                        "<class 'pandas.core.frame.DataFrame'>\n",
                        "RangeIndex: 8917 entries, 0 to 8916\n",
                        "Data columns (total 10 columns):\n",
                        " #   Column      Non-Null Count  Dtype  \n",
                        "---  ------      --------------  -----  \n",
                        " 0   model_name  8917 non-null   object \n",
                        " 1   model_year  8917 non-null   int64  \n",
                        " 2   kms_driven  8917 non-null   object \n",
                        " 3   owner       8917 non-null   object \n",
                        " 4   location    8891 non-null   object \n",
                        " 5   mileage     8900 non-null   object \n",
                        " 6   engine      0 non-null      float64\n",
                        " 7   power       8899 non-null   object \n",
                        " 8   wheel_size  0 non-null      float64\n",
                        " 9   price       8917 non-null   int64  \n",
                        "dtypes: float64(2), int64(2), object(6)\n",
                        "memory usage: 696.8+ KB\n"
                    ]
                }
            ],
            "metadata": {}
        },
        {
            "cell_type": "markdown",
            "source": [
                "## Data Cleaning"
            ],
            "metadata": {}
        },
        {
            "cell_type": "code",
            "execution_count": 9,
            "source": [
                "# remove whitespace from data\n",
                "df['model_name'] = df.model_name.str.strip()\n",
                "df['mileage'] = df.mileage.str.strip()"
            ],
            "outputs": [],
            "metadata": {}
        },
        {
            "cell_type": "code",
            "execution_count": 10,
            "source": [
                "df.sample(5)"
            ],
            "outputs": [
                {
                    "output_type": "execute_result",
                    "data": {
                        "text/html": [
                            "<div>\n",
                            "<style scoped>\n",
                            "    .dataframe tbody tr th:only-of-type {\n",
                            "        vertical-align: middle;\n",
                            "    }\n",
                            "\n",
                            "    .dataframe tbody tr th {\n",
                            "        vertical-align: top;\n",
                            "    }\n",
                            "\n",
                            "    .dataframe thead th {\n",
                            "        text-align: right;\n",
                            "    }\n",
                            "</style>\n",
                            "<table border=\"1\" class=\"dataframe\">\n",
                            "  <thead>\n",
                            "    <tr style=\"text-align: right;\">\n",
                            "      <th></th>\n",
                            "      <th>model_name</th>\n",
                            "      <th>model_year</th>\n",
                            "      <th>kms_driven</th>\n",
                            "      <th>owner</th>\n",
                            "      <th>location</th>\n",
                            "      <th>mileage</th>\n",
                            "      <th>engine</th>\n",
                            "      <th>power</th>\n",
                            "      <th>wheel_size</th>\n",
                            "      <th>price</th>\n",
                            "    </tr>\n",
                            "  </thead>\n",
                            "  <tbody>\n",
                            "    <tr>\n",
                            "      <th>7826</th>\n",
                            "      <td>Royal Enfield Classic 350cc 2017</td>\n",
                            "      <td>2017</td>\n",
                            "      <td>14779 Km</td>\n",
                            "      <td>first owner</td>\n",
                            "      <td>delhi</td>\n",
                            "      <td>35 kmpl</td>\n",
                            "      <td>NaN</td>\n",
                            "      <td>19.80 bhp</td>\n",
                            "      <td>NaN</td>\n",
                            "      <td>105000</td>\n",
                            "    </tr>\n",
                            "    <tr>\n",
                            "      <th>3641</th>\n",
                            "      <td>TVS Apache RTR 200 4V Fi 2016</td>\n",
                            "      <td>2016</td>\n",
                            "      <td>Mileage 40 Kmpl</td>\n",
                            "      <td>first owner</td>\n",
                            "      <td>bangalore</td>\n",
                            "      <td>40 Kmpl</td>\n",
                            "      <td>NaN</td>\n",
                            "      <td>20.23 BHP</td>\n",
                            "      <td>NaN</td>\n",
                            "      <td>75000</td>\n",
                            "    </tr>\n",
                            "    <tr>\n",
                            "      <th>6073</th>\n",
                            "      <td>Bajaj Platina 100cc 2017</td>\n",
                            "      <td>2017</td>\n",
                            "      <td>Mileage 104 Kmpl</td>\n",
                            "      <td>first owner</td>\n",
                            "      <td>faridabad</td>\n",
                            "      <td>104 Kmpl</td>\n",
                            "      <td>NaN</td>\n",
                            "      <td>8.10 bhp</td>\n",
                            "      <td>NaN</td>\n",
                            "      <td>21000</td>\n",
                            "    </tr>\n",
                            "    <tr>\n",
                            "      <th>7516</th>\n",
                            "      <td>Royal Enfield Thunderbird 500cc 2016</td>\n",
                            "      <td>2016</td>\n",
                            "      <td>35006 Km</td>\n",
                            "      <td>first owner</td>\n",
                            "      <td>bangalore</td>\n",
                            "      <td>25 kmpl</td>\n",
                            "      <td>NaN</td>\n",
                            "      <td>27.20 bhp</td>\n",
                            "      <td>NaN</td>\n",
                            "      <td>110000</td>\n",
                            "    </tr>\n",
                            "    <tr>\n",
                            "      <th>7487</th>\n",
                            "      <td>UM Renegade Commando Classic 2018</td>\n",
                            "      <td>2018</td>\n",
                            "      <td>10009 Km</td>\n",
                            "      <td>first owner</td>\n",
                            "      <td>patna</td>\n",
                            "      <td>35 kmpl</td>\n",
                            "      <td>NaN</td>\n",
                            "      <td>25 bhp</td>\n",
                            "      <td>NaN</td>\n",
                            "      <td>160000</td>\n",
                            "    </tr>\n",
                            "  </tbody>\n",
                            "</table>\n",
                            "</div>"
                        ],
                        "text/plain": [
                            "                                model_name  model_year        kms_driven  \\\n",
                            "7826      Royal Enfield Classic 350cc 2017        2017          14779 Km   \n",
                            "3641         TVS Apache RTR 200 4V Fi 2016        2016   Mileage 40 Kmpl   \n",
                            "6073              Bajaj Platina 100cc 2017        2017  Mileage 104 Kmpl   \n",
                            "7516  Royal Enfield Thunderbird 500cc 2016        2016          35006 Km   \n",
                            "7487     UM Renegade Commando Classic 2018        2018          10009 Km   \n",
                            "\n",
                            "            owner   location   mileage  engine      power  wheel_size   price  \n",
                            "7826  first owner      delhi   35 kmpl     NaN  19.80 bhp         NaN  105000  \n",
                            "3641  first owner  bangalore   40 Kmpl     NaN  20.23 BHP         NaN   75000  \n",
                            "6073  first owner  faridabad  104 Kmpl     NaN   8.10 bhp         NaN   21000  \n",
                            "7516  first owner  bangalore   25 kmpl     NaN  27.20 bhp         NaN  110000  \n",
                            "7487  first owner      patna   35 kmpl     NaN     25 bhp         NaN  160000  "
                        ]
                    },
                    "metadata": {},
                    "execution_count": 10
                }
            ],
            "metadata": {}
        },
        {
            "cell_type": "code",
            "execution_count": 11,
            "source": [
                "# Remove commas from kms_driven and price columns\n",
                "\n",
                "def clean_kms_driven(val):\n",
                "    if not val:\n",
                "        return ''\n",
                "\n",
                "    val = val.lower()\n",
                "\n",
                "    if 'kms' in val:\n",
                "        val = val.replace('kms','')\n",
                "\n",
                "    if 'km' in val:\n",
                "        val = val.replace('km','')\n",
                "\n",
                "    if 'mileage' in val.lower():\n",
                "        return np.nan\n",
                "\n",
                "    return val.replace(',','')\n",
                "\n",
                "\n",
                "def clean_price(val):\n",
                "    \"\"\"\n",
                "    1. remove currency symbol.\n",
                "    2. remove commas\n",
                "    \"\"\"\n",
                "    if not val:\n",
                "        return ''\n",
                "\n",
                "    val = str(val)\n",
                "\n",
                "    val = val.replace(',','')\n",
                "\n",
                "    if 'lakh' in val.lower():\n",
                "        val = val.lower().replace('lakh','')\n",
                "        val = float(val)\n",
                "        return val * 100000\n",
                "\n",
                "    return val\n",
                "    \n",
                "\n",
                "df['kms_driven'] = df['kms_driven'].apply(clean_kms_driven)\n",
                "\n",
                "df['price'] = df['price'].apply(clean_price)\n",
                "\n"
            ],
            "outputs": [],
            "metadata": {}
        },
        {
            "cell_type": "code",
            "execution_count": 12,
            "source": [
                "df['kms_driven'] = pd.to_numeric(df['kms_driven'],errors='coerce',downcast='integer')\n",
                "df['price'] = pd.to_numeric(df['price'],errors='coerce',downcast='integer')"
            ],
            "outputs": [],
            "metadata": {}
        },
        {
            "cell_type": "code",
            "execution_count": 13,
            "source": [
                "# location feature have comma separated values\n",
                "# need to make it a single value, for that let's take\n",
                "# the last value as it is the main city name\n",
                "\n",
                "def clean_location(val):\n",
                "    if not val:\n",
                "        return ''\n",
                "    \n",
                "    return str(val).split(',')[-1].strip()\n",
                "\n",
                "df['location'] = df['location'].apply(clean_location)"
            ],
            "outputs": [],
            "metadata": {}
        },
        {
            "cell_type": "code",
            "execution_count": 14,
            "source": [
                "df.location.value_counts()[:10]"
            ],
            "outputs": [
                {
                    "output_type": "execute_result",
                    "data": {
                        "text/plain": [
                            "delhi        1624\n",
                            "mumbai        898\n",
                            "bangalore     851\n",
                            "pune          423\n",
                            "chennai       406\n",
                            "hyderabad     376\n",
                            "gurgaon       357\n",
                            "jaipur        354\n",
                            "ahmedabad     303\n",
                            "faridabad     192\n",
                            "Name: location, dtype: int64"
                        ]
                    },
                    "metadata": {},
                    "execution_count": 14
                }
            ],
            "metadata": {}
        },
        {
            "cell_type": "code",
            "execution_count": 15,
            "source": [
                "\n",
                "def clean_owner(val):\n",
                "    if not val:\n",
                "        return val\n",
                "\n",
                "    val = val.replace('owner','')\n",
                "\n",
                "    if 'or more' in val.lower():\n",
                "        return 'fourth'\n",
                "\n",
                "    return val\n",
                "\n",
                "df['owner'] = df['owner'].apply(clean_owner)"
            ],
            "outputs": [],
            "metadata": {}
        },
        {
            "cell_type": "code",
            "execution_count": 16,
            "source": [
                "df.sample(5)"
            ],
            "outputs": [
                {
                    "output_type": "execute_result",
                    "data": {
                        "text/html": [
                            "<div>\n",
                            "<style scoped>\n",
                            "    .dataframe tbody tr th:only-of-type {\n",
                            "        vertical-align: middle;\n",
                            "    }\n",
                            "\n",
                            "    .dataframe tbody tr th {\n",
                            "        vertical-align: top;\n",
                            "    }\n",
                            "\n",
                            "    .dataframe thead th {\n",
                            "        text-align: right;\n",
                            "    }\n",
                            "</style>\n",
                            "<table border=\"1\" class=\"dataframe\">\n",
                            "  <thead>\n",
                            "    <tr style=\"text-align: right;\">\n",
                            "      <th></th>\n",
                            "      <th>model_name</th>\n",
                            "      <th>model_year</th>\n",
                            "      <th>kms_driven</th>\n",
                            "      <th>owner</th>\n",
                            "      <th>location</th>\n",
                            "      <th>mileage</th>\n",
                            "      <th>engine</th>\n",
                            "      <th>power</th>\n",
                            "      <th>wheel_size</th>\n",
                            "      <th>price</th>\n",
                            "    </tr>\n",
                            "  </thead>\n",
                            "  <tbody>\n",
                            "    <tr>\n",
                            "      <th>2193</th>\n",
                            "      <td>TVS Apache RTR 160 4V Disc 2018</td>\n",
                            "      <td>2018</td>\n",
                            "      <td>37000.0</td>\n",
                            "      <td>first</td>\n",
                            "      <td>delhi</td>\n",
                            "      <td></td>\n",
                            "      <td>NaN</td>\n",
                            "      <td>16.10 bhp</td>\n",
                            "      <td>NaN</td>\n",
                            "      <td>47025.0</td>\n",
                            "    </tr>\n",
                            "    <tr>\n",
                            "      <th>2060</th>\n",
                            "      <td>Bajaj Discover 100cc 2011</td>\n",
                            "      <td>2011</td>\n",
                            "      <td>NaN</td>\n",
                            "      <td>first</td>\n",
                            "      <td>karauli</td>\n",
                            "      <td>80 Kmpl</td>\n",
                            "      <td>NaN</td>\n",
                            "      <td>7.7</td>\n",
                            "      <td>NaN</td>\n",
                            "      <td>20000.0</td>\n",
                            "    </tr>\n",
                            "    <tr>\n",
                            "      <th>1754</th>\n",
                            "      <td>Yamaha YZF-R15 2.0 150cc 2014</td>\n",
                            "      <td>2014</td>\n",
                            "      <td>18000.0</td>\n",
                            "      <td>fourth</td>\n",
                            "      <td>bangalore</td>\n",
                            "      <td>42 kmpl</td>\n",
                            "      <td>NaN</td>\n",
                            "      <td>16.70 bhp</td>\n",
                            "      <td>NaN</td>\n",
                            "      <td>57541.0</td>\n",
                            "    </tr>\n",
                            "    <tr>\n",
                            "      <th>1852</th>\n",
                            "      <td>Honda CB Shine 125cc Drum BS6 2020</td>\n",
                            "      <td>2020</td>\n",
                            "      <td>11037.0</td>\n",
                            "      <td>first</td>\n",
                            "      <td>jaipur</td>\n",
                            "      <td>60 kmpl</td>\n",
                            "      <td>NaN</td>\n",
                            "      <td>10.59 bhp</td>\n",
                            "      <td>NaN</td>\n",
                            "      <td>50000.0</td>\n",
                            "    </tr>\n",
                            "    <tr>\n",
                            "      <th>3220</th>\n",
                            "      <td>Yamaha Fazer 150cc 2016</td>\n",
                            "      <td>2016</td>\n",
                            "      <td>NaN</td>\n",
                            "      <td>first</td>\n",
                            "      <td>hyderabad</td>\n",
                            "      <td>45 Kmpl</td>\n",
                            "      <td>NaN</td>\n",
                            "      <td>13 bhp</td>\n",
                            "      <td>NaN</td>\n",
                            "      <td>75000.0</td>\n",
                            "    </tr>\n",
                            "  </tbody>\n",
                            "</table>\n",
                            "</div>"
                        ],
                        "text/plain": [
                            "                              model_name  model_year  kms_driven   owner  \\\n",
                            "2193     TVS Apache RTR 160 4V Disc 2018        2018     37000.0  first    \n",
                            "2060           Bajaj Discover 100cc 2011        2011         NaN  first    \n",
                            "1754       Yamaha YZF-R15 2.0 150cc 2014        2014     18000.0  fourth   \n",
                            "1852  Honda CB Shine 125cc Drum BS6 2020        2020     11037.0  first    \n",
                            "3220             Yamaha Fazer 150cc 2016        2016         NaN  first    \n",
                            "\n",
                            "       location  mileage  engine      power  wheel_size    price  \n",
                            "2193      delhi              NaN  16.10 bhp         NaN  47025.0  \n",
                            "2060    karauli  80 Kmpl     NaN        7.7         NaN  20000.0  \n",
                            "1754  bangalore  42 kmpl     NaN  16.70 bhp         NaN  57541.0  \n",
                            "1852     jaipur  60 kmpl     NaN  10.59 bhp         NaN  50000.0  \n",
                            "3220  hyderabad  45 Kmpl     NaN     13 bhp         NaN  75000.0  "
                        ]
                    },
                    "metadata": {},
                    "execution_count": 16
                }
            ],
            "metadata": {}
        },
        {
            "cell_type": "code",
            "execution_count": 17,
            "source": [
                "df.info()"
            ],
            "outputs": [
                {
                    "output_type": "stream",
                    "name": "stdout",
                    "text": [
                        "<class 'pandas.core.frame.DataFrame'>\n",
                        "RangeIndex: 8917 entries, 0 to 8916\n",
                        "Data columns (total 10 columns):\n",
                        " #   Column      Non-Null Count  Dtype  \n",
                        "---  ------      --------------  -----  \n",
                        " 0   model_name  8917 non-null   object \n",
                        " 1   model_year  8917 non-null   int64  \n",
                        " 2   kms_driven  6500 non-null   float64\n",
                        " 3   owner       8917 non-null   object \n",
                        " 4   location    8917 non-null   object \n",
                        " 5   mileage     8900 non-null   object \n",
                        " 6   engine      0 non-null      float64\n",
                        " 7   power       8899 non-null   object \n",
                        " 8   wheel_size  0 non-null      float64\n",
                        " 9   price       8882 non-null   float64\n",
                        "dtypes: float64(4), int64(1), object(5)\n",
                        "memory usage: 696.8+ KB\n"
                    ]
                }
            ],
            "metadata": {}
        },
        {
            "cell_type": "markdown",
            "source": [
                "### Handle Mileage"
            ],
            "metadata": {}
        },
        {
            "cell_type": "code",
            "execution_count": 18,
            "source": [
                "def clean_mileage(val):\n",
                "    if not val:\n",
                "        return np.nan\n",
                "    \n",
                "    return str(val).lower().replace('kmpl','')\n",
                "\n",
                "df['mileage'] = df.mileage.apply(clean_mileage)"
            ],
            "outputs": [],
            "metadata": {}
        },
        {
            "cell_type": "code",
            "execution_count": 19,
            "source": [
                "df.drop('engine',axis=1,inplace=True)"
            ],
            "outputs": [],
            "metadata": {}
        },
        {
            "cell_type": "markdown",
            "source": [
                "### Hanlde power"
            ],
            "metadata": {}
        },
        {
            "cell_type": "code",
            "execution_count": 20,
            "source": [
                "def clean_power(val):\n",
                "    if not val:\n",
                "        return np.nan\n",
                "    \n",
                "    return str(val).lower().replace('bhp','')\n",
                "\n",
                "df['power'] = df.power.apply(clean_power)"
            ],
            "outputs": [],
            "metadata": {}
        },
        {
            "cell_type": "code",
            "execution_count": 21,
            "source": [
                "df.drop('wheel_size',axis=1,inplace=True)"
            ],
            "outputs": [],
            "metadata": {}
        },
        {
            "cell_type": "code",
            "execution_count": 22,
            "source": [
                "df.sample(5)"
            ],
            "outputs": [
                {
                    "output_type": "execute_result",
                    "data": {
                        "text/html": [
                            "<div>\n",
                            "<style scoped>\n",
                            "    .dataframe tbody tr th:only-of-type {\n",
                            "        vertical-align: middle;\n",
                            "    }\n",
                            "\n",
                            "    .dataframe tbody tr th {\n",
                            "        vertical-align: top;\n",
                            "    }\n",
                            "\n",
                            "    .dataframe thead th {\n",
                            "        text-align: right;\n",
                            "    }\n",
                            "</style>\n",
                            "<table border=\"1\" class=\"dataframe\">\n",
                            "  <thead>\n",
                            "    <tr style=\"text-align: right;\">\n",
                            "      <th></th>\n",
                            "      <th>model_name</th>\n",
                            "      <th>model_year</th>\n",
                            "      <th>kms_driven</th>\n",
                            "      <th>owner</th>\n",
                            "      <th>location</th>\n",
                            "      <th>mileage</th>\n",
                            "      <th>power</th>\n",
                            "      <th>price</th>\n",
                            "    </tr>\n",
                            "  </thead>\n",
                            "  <tbody>\n",
                            "    <tr>\n",
                            "      <th>5293</th>\n",
                            "      <td>Bajaj Avenger Street 160 ABS 2019</td>\n",
                            "      <td>2019</td>\n",
                            "      <td>32000.0</td>\n",
                            "      <td>first</td>\n",
                            "      <td>chennai</td>\n",
                            "      <td>NaN</td>\n",
                            "      <td>15.3</td>\n",
                            "      <td>75000.0</td>\n",
                            "    </tr>\n",
                            "    <tr>\n",
                            "      <th>1422</th>\n",
                            "      <td>Suzuki Gixxer SF 150cc Rear Disc 2016</td>\n",
                            "      <td>2016</td>\n",
                            "      <td>24500.0</td>\n",
                            "      <td>third</td>\n",
                            "      <td>delhi</td>\n",
                            "      <td>40</td>\n",
                            "      <td>14.60</td>\n",
                            "      <td>43000.0</td>\n",
                            "    </tr>\n",
                            "    <tr>\n",
                            "      <th>5700</th>\n",
                            "      <td>Royal Enfield Classic 350cc 2016</td>\n",
                            "      <td>2016</td>\n",
                            "      <td>64000.0</td>\n",
                            "      <td>first</td>\n",
                            "      <td>mumbai</td>\n",
                            "      <td>35</td>\n",
                            "      <td>19.80</td>\n",
                            "      <td>110000.0</td>\n",
                            "    </tr>\n",
                            "    <tr>\n",
                            "      <th>2470</th>\n",
                            "      <td>Royal Enfield Thunderbird 350cc 2017</td>\n",
                            "      <td>2017</td>\n",
                            "      <td>24745.0</td>\n",
                            "      <td>first</td>\n",
                            "      <td>bangalore</td>\n",
                            "      <td>40</td>\n",
                            "      <td>19.80</td>\n",
                            "      <td>125000.0</td>\n",
                            "    </tr>\n",
                            "    <tr>\n",
                            "      <th>3742</th>\n",
                            "      <td>KTM Duke 200cc 2013</td>\n",
                            "      <td>2013</td>\n",
                            "      <td>20000.0</td>\n",
                            "      <td>third</td>\n",
                            "      <td>mumbai</td>\n",
                            "      <td>35</td>\n",
                            "      <td>25</td>\n",
                            "      <td>70000.0</td>\n",
                            "    </tr>\n",
                            "  </tbody>\n",
                            "</table>\n",
                            "</div>"
                        ],
                        "text/plain": [
                            "                                 model_name  model_year  kms_driven   owner  \\\n",
                            "5293      Bajaj Avenger Street 160 ABS 2019        2019     32000.0  first    \n",
                            "1422  Suzuki Gixxer SF 150cc Rear Disc 2016        2016     24500.0  third    \n",
                            "5700       Royal Enfield Classic 350cc 2016        2016     64000.0  first    \n",
                            "2470   Royal Enfield Thunderbird 350cc 2017        2017     24745.0  first    \n",
                            "3742                    KTM Duke 200cc 2013        2013     20000.0  third    \n",
                            "\n",
                            "       location mileage   power     price  \n",
                            "5293    chennai     NaN   15.3    75000.0  \n",
                            "1422      delhi     40   14.60    43000.0  \n",
                            "5700     mumbai     35   19.80   110000.0  \n",
                            "2470  bangalore     40   19.80   125000.0  \n",
                            "3742     mumbai     35      25    70000.0  "
                        ]
                    },
                    "metadata": {},
                    "execution_count": 22
                }
            ],
            "metadata": {}
        },
        {
            "cell_type": "code",
            "execution_count": 23,
            "source": [
                "df.duplicated().sum()"
            ],
            "outputs": [
                {
                    "output_type": "execute_result",
                    "data": {
                        "text/plain": [
                            "110"
                        ]
                    },
                    "metadata": {},
                    "execution_count": 23
                }
            ],
            "metadata": {}
        },
        {
            "cell_type": "code",
            "execution_count": 24,
            "source": [
                "df = df[~df.duplicated()]"
            ],
            "outputs": [],
            "metadata": {}
        },
        {
            "cell_type": "code",
            "execution_count": 25,
            "source": [
                "df.shape"
            ],
            "outputs": [
                {
                    "output_type": "execute_result",
                    "data": {
                        "text/plain": [
                            "(8807, 8)"
                        ]
                    },
                    "metadata": {},
                    "execution_count": 25
                }
            ],
            "metadata": {}
        },
        {
            "cell_type": "markdown",
            "source": [
                "## Handle Missing Values"
            ],
            "metadata": {}
        },
        {
            "cell_type": "code",
            "execution_count": 26,
            "source": [
                "df.isnull().sum()"
            ],
            "outputs": [
                {
                    "output_type": "execute_result",
                    "data": {
                        "text/plain": [
                            "model_name       0\n",
                            "model_year       0\n",
                            "kms_driven    2360\n",
                            "owner            0\n",
                            "location         0\n",
                            "mileage        748\n",
                            "power            0\n",
                            "price           35\n",
                            "dtype: int64"
                        ]
                    },
                    "metadata": {},
                    "execution_count": 26
                }
            ],
            "metadata": {}
        },
        {
            "cell_type": "markdown",
            "source": [
                "## Fix column type"
            ],
            "metadata": {}
        },
        {
            "cell_type": "code",
            "execution_count": 27,
            "source": [
                "df.info()"
            ],
            "outputs": [
                {
                    "output_type": "stream",
                    "name": "stdout",
                    "text": [
                        "<class 'pandas.core.frame.DataFrame'>\n",
                        "Int64Index: 8807 entries, 0 to 8916\n",
                        "Data columns (total 8 columns):\n",
                        " #   Column      Non-Null Count  Dtype  \n",
                        "---  ------      --------------  -----  \n",
                        " 0   model_name  8807 non-null   object \n",
                        " 1   model_year  8807 non-null   int64  \n",
                        " 2   kms_driven  6447 non-null   float64\n",
                        " 3   owner       8807 non-null   object \n",
                        " 4   location    8807 non-null   object \n",
                        " 5   mileage     8059 non-null   object \n",
                        " 6   power       8807 non-null   object \n",
                        " 7   price       8772 non-null   float64\n",
                        "dtypes: float64(2), int64(1), object(5)\n",
                        "memory usage: 619.2+ KB\n"
                    ]
                }
            ],
            "metadata": {}
        },
        {
            "cell_type": "code",
            "execution_count": 28,
            "source": [
                "df['mileage'] = pd.to_numeric(df['mileage'],errors='coerce') #df.mileage.astype(int,errors='ignore')\n",
                "df['power'] = pd.to_numeric(df['power'],errors='coerce')"
            ],
            "outputs": [],
            "metadata": {}
        },
        {
            "cell_type": "code",
            "execution_count": 29,
            "source": [
                "df['mileage'] = df.mileage.astype(int,errors='ignore') #pd.to_numeric(df['mileage'],errors='coerce',downcast='integer') #df.mileage.astype(int,errors='ignore')\n",
                "df['power'] = df.power.astype(int,errors='ignore')"
            ],
            "outputs": [],
            "metadata": {}
        },
        {
            "cell_type": "code",
            "execution_count": 30,
            "source": [
                "df.info()"
            ],
            "outputs": [
                {
                    "output_type": "stream",
                    "name": "stdout",
                    "text": [
                        "<class 'pandas.core.frame.DataFrame'>\n",
                        "Int64Index: 8807 entries, 0 to 8916\n",
                        "Data columns (total 8 columns):\n",
                        " #   Column      Non-Null Count  Dtype  \n",
                        "---  ------      --------------  -----  \n",
                        " 0   model_name  8807 non-null   object \n",
                        " 1   model_year  8807 non-null   int64  \n",
                        " 2   kms_driven  6447 non-null   float64\n",
                        " 3   owner       8807 non-null   object \n",
                        " 4   location    8807 non-null   object \n",
                        " 5   mileage     7764 non-null   float64\n",
                        " 6   power       8320 non-null   float64\n",
                        " 7   price       8772 non-null   float64\n",
                        "dtypes: float64(4), int64(1), object(3)\n",
                        "memory usage: 619.2+ KB\n"
                    ]
                }
            ],
            "metadata": {}
        },
        {
            "cell_type": "code",
            "execution_count": 31,
            "source": [
                "df.shape"
            ],
            "outputs": [
                {
                    "output_type": "execute_result",
                    "data": {
                        "text/plain": [
                            "(8807, 8)"
                        ]
                    },
                    "metadata": {},
                    "execution_count": 31
                }
            ],
            "metadata": {}
        },
        {
            "cell_type": "code",
            "execution_count": 35,
            "source": [
                "cols = ['kms_driven', 'price']\n",
                "for col in cols:\n",
                "    df[col] = pd.to_numeric(df[col], errors='coerce', downcast='integer')"
            ],
            "outputs": [],
            "metadata": {}
        },
        {
            "cell_type": "code",
            "execution_count": null,
            "source": [
                "df.to_csv('../data/processed/data.csv',index=False)"
            ],
            "outputs": [],
            "metadata": {}
        }
    ],
    "metadata": {
        "orig_nbformat": 4,
        "language_info": {
            "name": "python",
            "version": "3.8.8",
            "mimetype": "text/x-python",
            "codemirror_mode": {
                "name": "ipython",
                "version": 3
            },
            "pygments_lexer": "ipython3",
            "nbconvert_exporter": "python",
            "file_extension": ".py"
        },
        "kernelspec": {
            "name": "python3",
            "display_name": "Python 3.8.8 64-bit ('anaconda3': virtualenv)"
        },
        "interpreter": {
            "hash": "d213f6e5b8fd7d14bb00958cfb5f51bfe315e9248ff051fde0d0d79c3d0f4eba"
        }
    },
    "nbformat": 4,
    "nbformat_minor": 2
}