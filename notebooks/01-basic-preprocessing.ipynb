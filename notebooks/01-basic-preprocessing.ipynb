{
    "cells": [
        {
            "cell_type": "code",
            "execution_count": 1,
            "source": [
                "import pandas as pd\n",
                "import numpy as np\n",
                "import matplotlib.pyplot as plt\n",
                "import seaborn as sns"
            ],
            "outputs": [],
            "metadata": {}
        },
        {
            "cell_type": "code",
            "execution_count": 2,
            "source": [
                "df = pd.read_csv('../data/raw/data.csv')"
            ],
            "outputs": [],
            "metadata": {}
        },
        {
            "cell_type": "code",
            "execution_count": 3,
            "source": [
                "df.head()"
            ],
            "outputs": [
                {
                    "output_type": "execute_result",
                    "data": {
                        "text/html": [
                            "<div>\n",
                            "<style scoped>\n",
                            "    .dataframe tbody tr th:only-of-type {\n",
                            "        vertical-align: middle;\n",
                            "    }\n",
                            "\n",
                            "    .dataframe tbody tr th {\n",
                            "        vertical-align: top;\n",
                            "    }\n",
                            "\n",
                            "    .dataframe thead th {\n",
                            "        text-align: right;\n",
                            "    }\n",
                            "</style>\n",
                            "<table border=\"1\" class=\"dataframe\">\n",
                            "  <thead>\n",
                            "    <tr style=\"text-align: right;\">\n",
                            "      <th></th>\n",
                            "      <th>model_name</th>\n",
                            "      <th>model_year</th>\n",
                            "      <th>kms_driven</th>\n",
                            "      <th>owner</th>\n",
                            "      <th>location</th>\n",
                            "      <th>mileage</th>\n",
                            "      <th>engine</th>\n",
                            "      <th>power</th>\n",
                            "      <th>wheel_size</th>\n",
                            "      <th>price</th>\n",
                            "    </tr>\n",
                            "  </thead>\n",
                            "  <tbody>\n",
                            "    <tr>\n",
                            "      <th>0</th>\n",
                            "      <td>Yamaha SZR 150cc 2012</td>\n",
                            "      <td>2012</td>\n",
                            "      <td>34000 Km</td>\n",
                            "      <td>first owner</td>\n",
                            "      <td>bengaluru</td>\n",
                            "      <td>\\n\\n</td>\n",
                            "      <td>NaN</td>\n",
                            "      <td>12 bhp</td>\n",
                            "      <td>NaN</td>\n",
                            "      <td>24000</td>\n",
                            "    </tr>\n",
                            "    <tr>\n",
                            "      <th>1</th>\n",
                            "      <td>Hero CD Dawn 100cc 2005</td>\n",
                            "      <td>2005</td>\n",
                            "      <td>28000 Km</td>\n",
                            "      <td>first owner</td>\n",
                            "      <td>ghaziabad</td>\n",
                            "      <td>\\n\\n 72 kmpl</td>\n",
                            "      <td>NaN</td>\n",
                            "      <td>7.0 bhp</td>\n",
                            "      <td>NaN</td>\n",
                            "      <td>10000</td>\n",
                            "    </tr>\n",
                            "    <tr>\n",
                            "      <th>2</th>\n",
                            "      <td>Bajaj Avenger Street 220 2017</td>\n",
                            "      <td>2017</td>\n",
                            "      <td>5947 Km</td>\n",
                            "      <td>first owner</td>\n",
                            "      <td>chennai</td>\n",
                            "      <td>\\n\\n 53 kmpl</td>\n",
                            "      <td>NaN</td>\n",
                            "      <td>19 bhp</td>\n",
                            "      <td>NaN</td>\n",
                            "      <td>80000</td>\n",
                            "    </tr>\n",
                            "    <tr>\n",
                            "      <th>3</th>\n",
                            "      <td>Jawa Standard 295CC Dual ABS BS6 2020</td>\n",
                            "      <td>2020</td>\n",
                            "      <td>2700 Km</td>\n",
                            "      <td>first owner</td>\n",
                            "      <td>mumbai</td>\n",
                            "      <td>\\n\\n Liquid Cooled</td>\n",
                            "      <td>NaN</td>\n",
                            "      <td>27 bhp</td>\n",
                            "      <td>NaN</td>\n",
                            "      <td>160000</td>\n",
                            "    </tr>\n",
                            "    <tr>\n",
                            "      <th>4</th>\n",
                            "      <td>Hero Xpulse 200cc BS6 2021</td>\n",
                            "      <td>2021</td>\n",
                            "      <td>628 Km</td>\n",
                            "      <td>first owner</td>\n",
                            "      <td>gwalior</td>\n",
                            "      <td>\\n\\n 46.40 kmpl</td>\n",
                            "      <td>NaN</td>\n",
                            "      <td>17.8 bhp</td>\n",
                            "      <td>NaN</td>\n",
                            "      <td>110000</td>\n",
                            "    </tr>\n",
                            "  </tbody>\n",
                            "</table>\n",
                            "</div>"
                        ],
                        "text/plain": [
                            "                              model_name  model_year kms_driven        owner  \\\n",
                            "0                  Yamaha SZR 150cc 2012        2012   34000 Km  first owner   \n",
                            "1                Hero CD Dawn 100cc 2005        2005   28000 Km  first owner   \n",
                            "2          Bajaj Avenger Street 220 2017        2017    5947 Km  first owner   \n",
                            "3  Jawa Standard 295CC Dual ABS BS6 2020        2020    2700 Km  first owner   \n",
                            "4             Hero Xpulse 200cc BS6 2021        2021     628 Km  first owner   \n",
                            "\n",
                            "    location             mileage  engine     power  wheel_size   price  \n",
                            "0  bengaluru               \\n\\n      NaN    12 bhp         NaN   24000  \n",
                            "1  ghaziabad        \\n\\n 72 kmpl     NaN   7.0 bhp         NaN   10000  \n",
                            "2    chennai        \\n\\n 53 kmpl     NaN    19 bhp         NaN   80000  \n",
                            "3     mumbai  \\n\\n Liquid Cooled     NaN    27 bhp         NaN  160000  \n",
                            "4    gwalior     \\n\\n 46.40 kmpl     NaN  17.8 bhp         NaN  110000  "
                        ]
                    },
                    "metadata": {},
                    "execution_count": 3
                }
            ],
            "metadata": {}
        },
        {
            "cell_type": "code",
            "execution_count": 4,
            "source": [
                "df.tail(10)"
            ],
            "outputs": [
                {
                    "output_type": "execute_result",
                    "data": {
                        "text/html": [
                            "<div>\n",
                            "<style scoped>\n",
                            "    .dataframe tbody tr th:only-of-type {\n",
                            "        vertical-align: middle;\n",
                            "    }\n",
                            "\n",
                            "    .dataframe tbody tr th {\n",
                            "        vertical-align: top;\n",
                            "    }\n",
                            "\n",
                            "    .dataframe thead th {\n",
                            "        text-align: right;\n",
                            "    }\n",
                            "</style>\n",
                            "<table border=\"1\" class=\"dataframe\">\n",
                            "  <thead>\n",
                            "    <tr style=\"text-align: right;\">\n",
                            "      <th></th>\n",
                            "      <th>model_name</th>\n",
                            "      <th>model_year</th>\n",
                            "      <th>kms_driven</th>\n",
                            "      <th>owner</th>\n",
                            "      <th>location</th>\n",
                            "      <th>mileage</th>\n",
                            "      <th>engine</th>\n",
                            "      <th>power</th>\n",
                            "      <th>wheel_size</th>\n",
                            "      <th>price</th>\n",
                            "    </tr>\n",
                            "  </thead>\n",
                            "  <tbody>\n",
                            "    <tr>\n",
                            "      <th>4402</th>\n",
                            "      <td>Hero Karizma ZMR 223cc 2014</td>\n",
                            "      <td>2014</td>\n",
                            "      <td>68000 Km</td>\n",
                            "      <td>second owner</td>\n",
                            "      <td>surat</td>\n",
                            "      <td>\\n\\n 48 kmpl</td>\n",
                            "      <td>NaN</td>\n",
                            "      <td>20 bhp</td>\n",
                            "      <td>NaN</td>\n",
                            "      <td>55786</td>\n",
                            "    </tr>\n",
                            "    <tr>\n",
                            "      <th>4403</th>\n",
                            "      <td>Royal Enfield Thunderbird 350cc 2015</td>\n",
                            "      <td>2015</td>\n",
                            "      <td>54000 Km</td>\n",
                            "      <td>first owner</td>\n",
                            "      <td>chennai</td>\n",
                            "      <td>\\n\\n 40 kmpl</td>\n",
                            "      <td>NaN</td>\n",
                            "      <td>19.80 bhp</td>\n",
                            "      <td>NaN</td>\n",
                            "      <td>85000</td>\n",
                            "    </tr>\n",
                            "    <tr>\n",
                            "      <th>4404</th>\n",
                            "      <td>Royal Enfield Thunderbird X 350cc 2018</td>\n",
                            "      <td>2018</td>\n",
                            "      <td>15000 Km</td>\n",
                            "      <td>first owner</td>\n",
                            "      <td>bangalore</td>\n",
                            "      <td>\\n\\n</td>\n",
                            "      <td>NaN</td>\n",
                            "      <td>19.80 bhp</td>\n",
                            "      <td>NaN</td>\n",
                            "      <td>150000</td>\n",
                            "    </tr>\n",
                            "    <tr>\n",
                            "      <th>4405</th>\n",
                            "      <td>Royal Enfield Thunderbird 350cc 2017</td>\n",
                            "      <td>2017</td>\n",
                            "      <td>17000 Km</td>\n",
                            "      <td>first owner</td>\n",
                            "      <td>jaipur</td>\n",
                            "      <td>\\n\\n 40 kmpl</td>\n",
                            "      <td>NaN</td>\n",
                            "      <td>19.80 bhp</td>\n",
                            "      <td>NaN</td>\n",
                            "      <td>135000</td>\n",
                            "    </tr>\n",
                            "    <tr>\n",
                            "      <th>4406</th>\n",
                            "      <td>Yamaha YZF-R15 V3 150CC ABS 2019</td>\n",
                            "      <td>2019</td>\n",
                            "      <td>1305 Km</td>\n",
                            "      <td>first owner</td>\n",
                            "      <td>indore</td>\n",
                            "      <td>\\n\\n</td>\n",
                            "      <td>NaN</td>\n",
                            "      <td>18.70 bhp</td>\n",
                            "      <td>NaN</td>\n",
                            "      <td>155000</td>\n",
                            "    </tr>\n",
                            "    <tr>\n",
                            "      <th>4407</th>\n",
                            "      <td>Yamaha YZF-R15 V3 150CC ABS LIMITED EDITION 2019</td>\n",
                            "      <td>2019</td>\n",
                            "      <td>3200 Km</td>\n",
                            "      <td>first owner</td>\n",
                            "      <td>haridwar</td>\n",
                            "      <td>\\n\\n</td>\n",
                            "      <td>NaN</td>\n",
                            "      <td>18.70 bhp</td>\n",
                            "      <td>NaN</td>\n",
                            "      <td>145000</td>\n",
                            "    </tr>\n",
                            "    <tr>\n",
                            "      <th>4408</th>\n",
                            "      <td>Bajaj Pulsar RS200 ABS 2016</td>\n",
                            "      <td>2016</td>\n",
                            "      <td>Mileage 35 Kmpl</td>\n",
                            "      <td>first owner</td>\n",
                            "      <td>ratnagiri</td>\n",
                            "      <td>\\n\\n 35 Kmpl</td>\n",
                            "      <td>NaN</td>\n",
                            "      <td>24.50 bhp</td>\n",
                            "      <td>NaN</td>\n",
                            "      <td>80000</td>\n",
                            "    </tr>\n",
                            "    <tr>\n",
                            "      <th>4409</th>\n",
                            "      <td>Royal Enfield Electra 350cc 2017</td>\n",
                            "      <td>2017</td>\n",
                            "      <td>2000 Km</td>\n",
                            "      <td>first owner</td>\n",
                            "      <td>bihar shariff</td>\n",
                            "      <td>\\n\\n 25 kmpl</td>\n",
                            "      <td>NaN</td>\n",
                            "      <td>19.80 bhp</td>\n",
                            "      <td>NaN</td>\n",
                            "      <td>90000</td>\n",
                            "    </tr>\n",
                            "    <tr>\n",
                            "      <th>4410</th>\n",
                            "      <td>Suzuki Gixxer 150cc SP ABS 2019</td>\n",
                            "      <td>2019</td>\n",
                            "      <td>3700 Km</td>\n",
                            "      <td>first owner</td>\n",
                            "      <td>bangalore</td>\n",
                            "      <td>\\n\\n 63kmpl</td>\n",
                            "      <td>NaN</td>\n",
                            "      <td>14 bhp</td>\n",
                            "      <td>NaN</td>\n",
                            "      <td>81800</td>\n",
                            "    </tr>\n",
                            "    <tr>\n",
                            "      <th>4411</th>\n",
                            "      <td>Bajaj V12 125cc Disc 2017</td>\n",
                            "      <td>2017</td>\n",
                            "      <td>20400 Km</td>\n",
                            "      <td>first owner</td>\n",
                            "      <td>rohtak</td>\n",
                            "      <td>\\n\\n 57 kmpl</td>\n",
                            "      <td>NaN</td>\n",
                            "      <td>10.60 bhp</td>\n",
                            "      <td>NaN</td>\n",
                            "      <td>35740</td>\n",
                            "    </tr>\n",
                            "  </tbody>\n",
                            "</table>\n",
                            "</div>"
                        ],
                        "text/plain": [
                            "                                            model_name  model_year  \\\n",
                            "4402                       Hero Karizma ZMR 223cc 2014        2014   \n",
                            "4403              Royal Enfield Thunderbird 350cc 2015        2015   \n",
                            "4404            Royal Enfield Thunderbird X 350cc 2018        2018   \n",
                            "4405              Royal Enfield Thunderbird 350cc 2017        2017   \n",
                            "4406                  Yamaha YZF-R15 V3 150CC ABS 2019        2019   \n",
                            "4407  Yamaha YZF-R15 V3 150CC ABS LIMITED EDITION 2019        2019   \n",
                            "4408                       Bajaj Pulsar RS200 ABS 2016        2016   \n",
                            "4409                  Royal Enfield Electra 350cc 2017        2017   \n",
                            "4410                   Suzuki Gixxer 150cc SP ABS 2019        2019   \n",
                            "4411                         Bajaj V12 125cc Disc 2017        2017   \n",
                            "\n",
                            "           kms_driven         owner       location       mileage  engine  \\\n",
                            "4402         68000 Km  second owner          surat  \\n\\n 48 kmpl     NaN   \n",
                            "4403         54000 Km   first owner        chennai  \\n\\n 40 kmpl     NaN   \n",
                            "4404         15000 Km   first owner      bangalore         \\n\\n      NaN   \n",
                            "4405         17000 Km   first owner         jaipur  \\n\\n 40 kmpl     NaN   \n",
                            "4406          1305 Km   first owner         indore         \\n\\n      NaN   \n",
                            "4407          3200 Km   first owner       haridwar         \\n\\n      NaN   \n",
                            "4408  Mileage 35 Kmpl   first owner      ratnagiri  \\n\\n 35 Kmpl     NaN   \n",
                            "4409          2000 Km   first owner  bihar shariff  \\n\\n 25 kmpl     NaN   \n",
                            "4410          3700 Km   first owner      bangalore   \\n\\n 63kmpl     NaN   \n",
                            "4411         20400 Km   first owner         rohtak  \\n\\n 57 kmpl     NaN   \n",
                            "\n",
                            "          power  wheel_size   price  \n",
                            "4402     20 bhp         NaN   55786  \n",
                            "4403  19.80 bhp         NaN   85000  \n",
                            "4404  19.80 bhp         NaN  150000  \n",
                            "4405  19.80 bhp         NaN  135000  \n",
                            "4406  18.70 bhp         NaN  155000  \n",
                            "4407  18.70 bhp         NaN  145000  \n",
                            "4408  24.50 bhp         NaN   80000  \n",
                            "4409  19.80 bhp         NaN   90000  \n",
                            "4410     14 bhp         NaN   81800  \n",
                            "4411  10.60 bhp         NaN   35740  "
                        ]
                    },
                    "metadata": {},
                    "execution_count": 4
                }
            ],
            "metadata": {}
        },
        {
            "cell_type": "code",
            "execution_count": 5,
            "source": [
                "df.shape"
            ],
            "outputs": [
                {
                    "output_type": "execute_result",
                    "data": {
                        "text/plain": [
                            "(4412, 10)"
                        ]
                    },
                    "metadata": {},
                    "execution_count": 5
                }
            ],
            "metadata": {}
        },
        {
            "cell_type": "code",
            "execution_count": 6,
            "source": [
                "df.info()"
            ],
            "outputs": [
                {
                    "output_type": "stream",
                    "name": "stdout",
                    "text": [
                        "<class 'pandas.core.frame.DataFrame'>\n",
                        "RangeIndex: 4412 entries, 0 to 4411\n",
                        "Data columns (total 10 columns):\n",
                        " #   Column      Non-Null Count  Dtype  \n",
                        "---  ------      --------------  -----  \n",
                        " 0   model_name  4412 non-null   object \n",
                        " 1   model_year  4412 non-null   int64  \n",
                        " 2   kms_driven  4412 non-null   object \n",
                        " 3   owner       4412 non-null   object \n",
                        " 4   location    4397 non-null   object \n",
                        " 5   mileage     4398 non-null   object \n",
                        " 6   engine      0 non-null      float64\n",
                        " 7   power       4409 non-null   object \n",
                        " 8   wheel_size  0 non-null      float64\n",
                        " 9   price       4412 non-null   int64  \n",
                        "dtypes: float64(2), int64(2), object(6)\n",
                        "memory usage: 344.8+ KB\n"
                    ]
                }
            ],
            "metadata": {}
        },
        {
            "cell_type": "markdown",
            "source": [
                "## Data Cleaning"
            ],
            "metadata": {}
        },
        {
            "cell_type": "code",
            "execution_count": 7,
            "source": [
                "# remove whitespace from data\n",
                "df['model_name'] = df.model_name.str.strip()\n",
                "df['mileage'] = df.mileage.str.strip()"
            ],
            "outputs": [],
            "metadata": {}
        },
        {
            "cell_type": "code",
            "execution_count": 8,
            "source": [
                "df.sample(5)"
            ],
            "outputs": [
                {
                    "output_type": "execute_result",
                    "data": {
                        "text/html": [
                            "<div>\n",
                            "<style scoped>\n",
                            "    .dataframe tbody tr th:only-of-type {\n",
                            "        vertical-align: middle;\n",
                            "    }\n",
                            "\n",
                            "    .dataframe tbody tr th {\n",
                            "        vertical-align: top;\n",
                            "    }\n",
                            "\n",
                            "    .dataframe thead th {\n",
                            "        text-align: right;\n",
                            "    }\n",
                            "</style>\n",
                            "<table border=\"1\" class=\"dataframe\">\n",
                            "  <thead>\n",
                            "    <tr style=\"text-align: right;\">\n",
                            "      <th></th>\n",
                            "      <th>model_name</th>\n",
                            "      <th>model_year</th>\n",
                            "      <th>kms_driven</th>\n",
                            "      <th>owner</th>\n",
                            "      <th>location</th>\n",
                            "      <th>mileage</th>\n",
                            "      <th>engine</th>\n",
                            "      <th>power</th>\n",
                            "      <th>wheel_size</th>\n",
                            "      <th>price</th>\n",
                            "    </tr>\n",
                            "  </thead>\n",
                            "  <tbody>\n",
                            "    <tr>\n",
                            "      <th>256</th>\n",
                            "      <td>Bajaj Pulsar 150cc 2018</td>\n",
                            "      <td>2018</td>\n",
                            "      <td>Mileage 65 Kmpl</td>\n",
                            "      <td>first owner</td>\n",
                            "      <td>ahmedabad</td>\n",
                            "      <td>65 Kmpl</td>\n",
                            "      <td>NaN</td>\n",
                            "      <td>15 bhp</td>\n",
                            "      <td>NaN</td>\n",
                            "      <td>53000</td>\n",
                            "    </tr>\n",
                            "    <tr>\n",
                            "      <th>2898</th>\n",
                            "      <td>Honda CB ShineSP 125cc CBS 2019</td>\n",
                            "      <td>2019</td>\n",
                            "      <td>Mileage 65 Kmpl</td>\n",
                            "      <td>first owner</td>\n",
                            "      <td>delhi</td>\n",
                            "      <td>65 Kmpl</td>\n",
                            "      <td>NaN</td>\n",
                            "      <td>10 bhp</td>\n",
                            "      <td>NaN</td>\n",
                            "      <td>53000</td>\n",
                            "    </tr>\n",
                            "    <tr>\n",
                            "      <th>1077</th>\n",
                            "      <td>Royal Enfield Thunderbird 350cc 2015</td>\n",
                            "      <td>2015</td>\n",
                            "      <td>25000 Km</td>\n",
                            "      <td>first owner</td>\n",
                            "      <td>delhi</td>\n",
                            "      <td>40 kmpl</td>\n",
                            "      <td>NaN</td>\n",
                            "      <td>19.80 bhp</td>\n",
                            "      <td>NaN</td>\n",
                            "      <td>78000</td>\n",
                            "    </tr>\n",
                            "    <tr>\n",
                            "      <th>4278</th>\n",
                            "      <td>Royal Enfield Thunderbird 350cc 2012</td>\n",
                            "      <td>2012</td>\n",
                            "      <td>21000 Km</td>\n",
                            "      <td>first owner</td>\n",
                            "      <td>faridabad</td>\n",
                            "      <td>40 kmpl</td>\n",
                            "      <td>NaN</td>\n",
                            "      <td>19.80 bhp</td>\n",
                            "      <td>NaN</td>\n",
                            "      <td>47000</td>\n",
                            "    </tr>\n",
                            "    <tr>\n",
                            "      <th>4161</th>\n",
                            "      <td>Yamaha Saluto 125cc 2016</td>\n",
                            "      <td>2016</td>\n",
                            "      <td>Mileage 70 Kmpl</td>\n",
                            "      <td>first owner</td>\n",
                            "      <td>delhi</td>\n",
                            "      <td>70 Kmpl</td>\n",
                            "      <td>NaN</td>\n",
                            "      <td>6.1 kW (8.3PS)</td>\n",
                            "      <td>NaN</td>\n",
                            "      <td>42000</td>\n",
                            "    </tr>\n",
                            "  </tbody>\n",
                            "</table>\n",
                            "</div>"
                        ],
                        "text/plain": [
                            "                                model_name  model_year       kms_driven  \\\n",
                            "256                Bajaj Pulsar 150cc 2018        2018  Mileage 65 Kmpl   \n",
                            "2898       Honda CB ShineSP 125cc CBS 2019        2019  Mileage 65 Kmpl   \n",
                            "1077  Royal Enfield Thunderbird 350cc 2015        2015         25000 Km   \n",
                            "4278  Royal Enfield Thunderbird 350cc 2012        2012         21000 Km   \n",
                            "4161              Yamaha Saluto 125cc 2016        2016  Mileage 70 Kmpl   \n",
                            "\n",
                            "            owner   location  mileage  engine           power  wheel_size  \\\n",
                            "256   first owner  ahmedabad  65 Kmpl     NaN          15 bhp         NaN   \n",
                            "2898  first owner      delhi  65 Kmpl     NaN          10 bhp         NaN   \n",
                            "1077  first owner      delhi  40 kmpl     NaN       19.80 bhp         NaN   \n",
                            "4278  first owner  faridabad  40 kmpl     NaN       19.80 bhp         NaN   \n",
                            "4161  first owner      delhi  70 Kmpl     NaN  6.1 kW (8.3PS)         NaN   \n",
                            "\n",
                            "      price  \n",
                            "256   53000  \n",
                            "2898  53000  \n",
                            "1077  78000  \n",
                            "4278  47000  \n",
                            "4161  42000  "
                        ]
                    },
                    "metadata": {},
                    "execution_count": 8
                }
            ],
            "metadata": {}
        },
        {
            "cell_type": "code",
            "execution_count": 9,
            "source": [
                "# Remove commas from kms_driven and price columns\n",
                "\n",
                "def clean_kms_driven(val):\n",
                "    if not val:\n",
                "        return ''\n",
                "\n",
                "    val = val.lower()\n",
                "\n",
                "    if 'kms' in val:\n",
                "        val = val.replace('kms','')\n",
                "\n",
                "    if 'km' in val:\n",
                "        val = val.replace('km','')\n",
                "\n",
                "    if 'mileage' in val.lower():\n",
                "        return np.nan\n",
                "\n",
                "    return val.replace(',','')\n",
                "\n",
                "\n",
                "def clean_price(val):\n",
                "    \"\"\"\n",
                "    1. remove currency symbol.\n",
                "    2. remove commas\n",
                "    3. fix the val which is represented as lakh\n",
                "    \"\"\"\n",
                "    if not val:\n",
                "        return ''\n",
                "\n",
                "    val = str(val)\n",
                "\n",
                "    val = val.replace('₹','')\n",
                "\n",
                "    val = val.replace(',','')\n",
                "\n",
                "    if 'lakh' in val.lower():\n",
                "        val = val.lower().replace('lakh','')\n",
                "        val = float(val)\n",
                "        return val * 100000\n",
                "\n",
                "    return val\n",
                "    \n",
                "\n",
                "df['kms_driven'] = df['kms_driven'].apply(clean_kms_driven)\n",
                "\n",
                "df['price'] = df['price'].apply(clean_price)\n",
                "\n"
            ],
            "outputs": [],
            "metadata": {}
        },
        {
            "cell_type": "code",
            "execution_count": 10,
            "source": [
                "df['kms_driven'] = pd.to_numeric(df['kms_driven'],errors='coerce',downcast='integer')\n",
                "df['price'] = pd.to_numeric(df['price'],errors='coerce',downcast='integer')"
            ],
            "outputs": [],
            "metadata": {}
        },
        {
            "cell_type": "code",
            "execution_count": 11,
            "source": [
                "# location feature have comma separated values\n",
                "# need to make it a single value, for that let's take\n",
                "# the last value as it is the main city name\n",
                "\n",
                "def clean_location(val):\n",
                "    if not val:\n",
                "        return ''\n",
                "    \n",
                "    return str(val).split(',')[-1].strip()\n",
                "\n",
                "df['location'] = df['location'].apply(clean_location)"
            ],
            "outputs": [],
            "metadata": {}
        },
        {
            "cell_type": "code",
            "execution_count": 12,
            "source": [
                "df.location.value_counts()[:10]"
            ],
            "outputs": [
                {
                    "output_type": "execute_result",
                    "data": {
                        "text/plain": [
                            "delhi         852\n",
                            "bangalore     477\n",
                            "mumbai        437\n",
                            "jaipur        279\n",
                            "pune          199\n",
                            "hyderabad     181\n",
                            "ahmedabad     159\n",
                            "gurgaon       149\n",
                            "chennai       120\n",
                            "chandigarh     94\n",
                            "Name: location, dtype: int64"
                        ]
                    },
                    "metadata": {},
                    "execution_count": 12
                }
            ],
            "metadata": {}
        },
        {
            "cell_type": "code",
            "execution_count": 13,
            "source": [
                "\n",
                "def clean_owner(val):\n",
                "    if not val:\n",
                "        return val\n",
                "\n",
                "    val = val.replace('owner','')\n",
                "\n",
                "    if 'or more' in val.lower():\n",
                "        return 'fourth'\n",
                "\n",
                "    return val\n",
                "\n",
                "df['owner'] = df['owner'].apply(clean_owner)"
            ],
            "outputs": [],
            "metadata": {}
        },
        {
            "cell_type": "code",
            "execution_count": 14,
            "source": [
                "df.sample(5)"
            ],
            "outputs": [
                {
                    "output_type": "execute_result",
                    "data": {
                        "text/html": [
                            "<div>\n",
                            "<style scoped>\n",
                            "    .dataframe tbody tr th:only-of-type {\n",
                            "        vertical-align: middle;\n",
                            "    }\n",
                            "\n",
                            "    .dataframe tbody tr th {\n",
                            "        vertical-align: top;\n",
                            "    }\n",
                            "\n",
                            "    .dataframe thead th {\n",
                            "        text-align: right;\n",
                            "    }\n",
                            "</style>\n",
                            "<table border=\"1\" class=\"dataframe\">\n",
                            "  <thead>\n",
                            "    <tr style=\"text-align: right;\">\n",
                            "      <th></th>\n",
                            "      <th>model_name</th>\n",
                            "      <th>model_year</th>\n",
                            "      <th>kms_driven</th>\n",
                            "      <th>owner</th>\n",
                            "      <th>location</th>\n",
                            "      <th>mileage</th>\n",
                            "      <th>engine</th>\n",
                            "      <th>power</th>\n",
                            "      <th>wheel_size</th>\n",
                            "      <th>price</th>\n",
                            "    </tr>\n",
                            "  </thead>\n",
                            "  <tbody>\n",
                            "    <tr>\n",
                            "      <th>3506</th>\n",
                            "      <td>TVS Apache RTR 200 4V FI 2018</td>\n",
                            "      <td>2018</td>\n",
                            "      <td>NaN</td>\n",
                            "      <td>first</td>\n",
                            "      <td>chennai</td>\n",
                            "      <td>40 Kmpl</td>\n",
                            "      <td>NaN</td>\n",
                            "      <td>20.70 bhp</td>\n",
                            "      <td>NaN</td>\n",
                            "      <td>70000.0</td>\n",
                            "    </tr>\n",
                            "    <tr>\n",
                            "      <th>3614</th>\n",
                            "      <td>Yamaha YZF-R15 150cc 2015</td>\n",
                            "      <td>2015</td>\n",
                            "      <td>22000.0</td>\n",
                            "      <td>third</td>\n",
                            "      <td>bangalore</td>\n",
                            "      <td>42 kmpl</td>\n",
                            "      <td>NaN</td>\n",
                            "      <td>16 bhp</td>\n",
                            "      <td>NaN</td>\n",
                            "      <td>80000.0</td>\n",
                            "    </tr>\n",
                            "    <tr>\n",
                            "      <th>820</th>\n",
                            "      <td>Suzuki Intruder 150cc 2018</td>\n",
                            "      <td>2018</td>\n",
                            "      <td>12000.0</td>\n",
                            "      <td>second</td>\n",
                            "      <td>delhi</td>\n",
                            "      <td></td>\n",
                            "      <td>NaN</td>\n",
                            "      <td>14.60 bhp</td>\n",
                            "      <td>NaN</td>\n",
                            "      <td>60000.0</td>\n",
                            "    </tr>\n",
                            "    <tr>\n",
                            "      <th>541</th>\n",
                            "      <td>Bajaj Avenger Street 150 2016</td>\n",
                            "      <td>2016</td>\n",
                            "      <td>13500.0</td>\n",
                            "      <td>first</td>\n",
                            "      <td>gurgaon</td>\n",
                            "      <td>50 kmpl</td>\n",
                            "      <td>NaN</td>\n",
                            "      <td>14.30 bhp</td>\n",
                            "      <td>NaN</td>\n",
                            "      <td>45000.0</td>\n",
                            "    </tr>\n",
                            "    <tr>\n",
                            "      <th>3197</th>\n",
                            "      <td>Yamaha MT-15 150cc Special Edition BS6 2020</td>\n",
                            "      <td>2020</td>\n",
                            "      <td>1400.0</td>\n",
                            "      <td>first</td>\n",
                            "      <td>hyderabad</td>\n",
                            "      <td></td>\n",
                            "      <td>NaN</td>\n",
                            "      <td>18.23 bhp</td>\n",
                            "      <td>NaN</td>\n",
                            "      <td>150100.0</td>\n",
                            "    </tr>\n",
                            "  </tbody>\n",
                            "</table>\n",
                            "</div>"
                        ],
                        "text/plain": [
                            "                                       model_name  model_year  kms_driven  \\\n",
                            "3506                TVS Apache RTR 200 4V FI 2018        2018         NaN   \n",
                            "3614                    Yamaha YZF-R15 150cc 2015        2015     22000.0   \n",
                            "820                    Suzuki Intruder 150cc 2018        2018     12000.0   \n",
                            "541                 Bajaj Avenger Street 150 2016        2016     13500.0   \n",
                            "3197  Yamaha MT-15 150cc Special Edition BS6 2020        2020      1400.0   \n",
                            "\n",
                            "        owner   location  mileage  engine      power  wheel_size     price  \n",
                            "3506   first     chennai  40 Kmpl     NaN  20.70 bhp         NaN   70000.0  \n",
                            "3614   third   bangalore  42 kmpl     NaN     16 bhp         NaN   80000.0  \n",
                            "820   second       delhi              NaN  14.60 bhp         NaN   60000.0  \n",
                            "541    first     gurgaon  50 kmpl     NaN  14.30 bhp         NaN   45000.0  \n",
                            "3197   first   hyderabad              NaN  18.23 bhp         NaN  150100.0  "
                        ]
                    },
                    "metadata": {},
                    "execution_count": 14
                }
            ],
            "metadata": {}
        },
        {
            "cell_type": "code",
            "execution_count": 15,
            "source": [
                "df.info()"
            ],
            "outputs": [
                {
                    "output_type": "stream",
                    "name": "stdout",
                    "text": [
                        "<class 'pandas.core.frame.DataFrame'>\n",
                        "RangeIndex: 4412 entries, 0 to 4411\n",
                        "Data columns (total 10 columns):\n",
                        " #   Column      Non-Null Count  Dtype  \n",
                        "---  ------      --------------  -----  \n",
                        " 0   model_name  4412 non-null   object \n",
                        " 1   model_year  4412 non-null   int64  \n",
                        " 2   kms_driven  3158 non-null   float64\n",
                        " 3   owner       4412 non-null   object \n",
                        " 4   location    4412 non-null   object \n",
                        " 5   mileage     4398 non-null   object \n",
                        " 6   engine      0 non-null      float64\n",
                        " 7   power       4409 non-null   object \n",
                        " 8   wheel_size  0 non-null      float64\n",
                        " 9   price       4411 non-null   float64\n",
                        "dtypes: float64(4), int64(1), object(5)\n",
                        "memory usage: 344.8+ KB\n"
                    ]
                }
            ],
            "metadata": {}
        },
        {
            "cell_type": "markdown",
            "source": [
                "### Handle Mileage"
            ],
            "metadata": {}
        },
        {
            "cell_type": "code",
            "execution_count": 16,
            "source": [
                "def clean_mileage(val):\n",
                "    if not val:\n",
                "        return np.nan\n",
                "    \n",
                "    return str(val).lower().replace('kmpl','')\n",
                "\n",
                "df['mileage'] = df.mileage.apply(clean_mileage)"
            ],
            "outputs": [],
            "metadata": {}
        },
        {
            "cell_type": "code",
            "execution_count": 17,
            "source": [
                "df.drop('engine',axis=1,inplace=True)"
            ],
            "outputs": [],
            "metadata": {}
        },
        {
            "cell_type": "markdown",
            "source": [
                "### Hanlde power"
            ],
            "metadata": {}
        },
        {
            "cell_type": "code",
            "execution_count": 18,
            "source": [
                "def clean_power(val):\n",
                "    if not val:\n",
                "        return np.nan\n",
                "    \n",
                "    return str(val).lower().replace('bhp','')\n",
                "\n",
                "df['power'] = df.power.apply(clean_power)"
            ],
            "outputs": [],
            "metadata": {}
        },
        {
            "cell_type": "code",
            "execution_count": 19,
            "source": [
                "df.drop('wheel_size',axis=1,inplace=True)"
            ],
            "outputs": [],
            "metadata": {}
        },
        {
            "cell_type": "code",
            "execution_count": 20,
            "source": [
                "df.sample(5)"
            ],
            "outputs": [
                {
                    "output_type": "execute_result",
                    "data": {
                        "text/html": [
                            "<div>\n",
                            "<style scoped>\n",
                            "    .dataframe tbody tr th:only-of-type {\n",
                            "        vertical-align: middle;\n",
                            "    }\n",
                            "\n",
                            "    .dataframe tbody tr th {\n",
                            "        vertical-align: top;\n",
                            "    }\n",
                            "\n",
                            "    .dataframe thead th {\n",
                            "        text-align: right;\n",
                            "    }\n",
                            "</style>\n",
                            "<table border=\"1\" class=\"dataframe\">\n",
                            "  <thead>\n",
                            "    <tr style=\"text-align: right;\">\n",
                            "      <th></th>\n",
                            "      <th>model_name</th>\n",
                            "      <th>model_year</th>\n",
                            "      <th>kms_driven</th>\n",
                            "      <th>owner</th>\n",
                            "      <th>location</th>\n",
                            "      <th>mileage</th>\n",
                            "      <th>power</th>\n",
                            "      <th>price</th>\n",
                            "    </tr>\n",
                            "  </thead>\n",
                            "  <tbody>\n",
                            "    <tr>\n",
                            "      <th>3140</th>\n",
                            "      <td>Yamaha YZF-R15 150cc 2014</td>\n",
                            "      <td>2014</td>\n",
                            "      <td>24535.0</td>\n",
                            "      <td>second</td>\n",
                            "      <td>chandigarh</td>\n",
                            "      <td>42</td>\n",
                            "      <td>16</td>\n",
                            "      <td>61380.0</td>\n",
                            "    </tr>\n",
                            "    <tr>\n",
                            "      <th>3157</th>\n",
                            "      <td>Yamaha FZs 150cc 2017</td>\n",
                            "      <td>2017</td>\n",
                            "      <td>15000.0</td>\n",
                            "      <td>first</td>\n",
                            "      <td>delhi</td>\n",
                            "      <td>45</td>\n",
                            "      <td>13</td>\n",
                            "      <td>62900.0</td>\n",
                            "    </tr>\n",
                            "    <tr>\n",
                            "      <th>1665</th>\n",
                            "      <td>Suzuki Gixxer 150cc SP ABS 2019</td>\n",
                            "      <td>2019</td>\n",
                            "      <td>9800.0</td>\n",
                            "      <td>first</td>\n",
                            "      <td>sikar</td>\n",
                            "      <td>63</td>\n",
                            "      <td>14</td>\n",
                            "      <td>80000.0</td>\n",
                            "    </tr>\n",
                            "    <tr>\n",
                            "      <th>4143</th>\n",
                            "      <td>Yamaha YZF-R15 V3 150cc Darknight edition BS6 ...</td>\n",
                            "      <td>2020</td>\n",
                            "      <td>8650.0</td>\n",
                            "      <td>first</td>\n",
                            "      <td>dehradun</td>\n",
                            "      <td>40</td>\n",
                            "      <td>18.3</td>\n",
                            "      <td>147000.0</td>\n",
                            "    </tr>\n",
                            "    <tr>\n",
                            "      <th>3607</th>\n",
                            "      <td>Yamaha FZs 150cc 2016</td>\n",
                            "      <td>2016</td>\n",
                            "      <td>32000.0</td>\n",
                            "      <td>first</td>\n",
                            "      <td>thanjavur</td>\n",
                            "      <td>45</td>\n",
                            "      <td>13</td>\n",
                            "      <td>65000.0</td>\n",
                            "    </tr>\n",
                            "  </tbody>\n",
                            "</table>\n",
                            "</div>"
                        ],
                        "text/plain": [
                            "                                             model_name  model_year  \\\n",
                            "3140                          Yamaha YZF-R15 150cc 2014        2014   \n",
                            "3157                              Yamaha FZs 150cc 2017        2017   \n",
                            "1665                    Suzuki Gixxer 150cc SP ABS 2019        2019   \n",
                            "4143  Yamaha YZF-R15 V3 150cc Darknight edition BS6 ...        2020   \n",
                            "3607                              Yamaha FZs 150cc 2016        2016   \n",
                            "\n",
                            "      kms_driven    owner    location mileage  power     price  \n",
                            "3140     24535.0  second   chandigarh     42     16    61380.0  \n",
                            "3157     15000.0   first        delhi     45     13    62900.0  \n",
                            "1665      9800.0   first        sikar      63    14    80000.0  \n",
                            "4143      8650.0   first     dehradun     40   18.3   147000.0  \n",
                            "3607     32000.0   first    thanjavur     45     13    65000.0  "
                        ]
                    },
                    "metadata": {},
                    "execution_count": 20
                }
            ],
            "metadata": {}
        },
        {
            "cell_type": "code",
            "execution_count": 21,
            "source": [
                "df.duplicated().sum()"
            ],
            "outputs": [
                {
                    "output_type": "execute_result",
                    "data": {
                        "text/plain": [
                            "63"
                        ]
                    },
                    "metadata": {},
                    "execution_count": 21
                }
            ],
            "metadata": {}
        },
        {
            "cell_type": "code",
            "execution_count": 22,
            "source": [
                "df = df[~df.duplicated()]"
            ],
            "outputs": [],
            "metadata": {}
        },
        {
            "cell_type": "code",
            "execution_count": 23,
            "source": [
                "df.shape"
            ],
            "outputs": [
                {
                    "output_type": "execute_result",
                    "data": {
                        "text/plain": [
                            "(4349, 8)"
                        ]
                    },
                    "metadata": {},
                    "execution_count": 23
                }
            ],
            "metadata": {}
        },
        {
            "cell_type": "markdown",
            "source": [
                "## Handle Missing Values"
            ],
            "metadata": {}
        },
        {
            "cell_type": "code",
            "execution_count": 24,
            "source": [
                "df.isnull().sum()"
            ],
            "outputs": [
                {
                    "output_type": "execute_result",
                    "data": {
                        "text/plain": [
                            "model_name       0\n",
                            "model_year       0\n",
                            "kms_driven    1223\n",
                            "owner            0\n",
                            "location         0\n",
                            "mileage        461\n",
                            "power            0\n",
                            "price            1\n",
                            "dtype: int64"
                        ]
                    },
                    "metadata": {},
                    "execution_count": 24
                }
            ],
            "metadata": {}
        },
        {
            "cell_type": "markdown",
            "source": [
                "## Fix column type"
            ],
            "metadata": {}
        },
        {
            "cell_type": "code",
            "execution_count": 25,
            "source": [
                "df.info()"
            ],
            "outputs": [
                {
                    "output_type": "stream",
                    "name": "stdout",
                    "text": [
                        "<class 'pandas.core.frame.DataFrame'>\n",
                        "Int64Index: 4349 entries, 0 to 4411\n",
                        "Data columns (total 8 columns):\n",
                        " #   Column      Non-Null Count  Dtype  \n",
                        "---  ------      --------------  -----  \n",
                        " 0   model_name  4349 non-null   object \n",
                        " 1   model_year  4349 non-null   int64  \n",
                        " 2   kms_driven  3126 non-null   float64\n",
                        " 3   owner       4349 non-null   object \n",
                        " 4   location    4349 non-null   object \n",
                        " 5   mileage     3888 non-null   object \n",
                        " 6   power       4349 non-null   object \n",
                        " 7   price       4348 non-null   float64\n",
                        "dtypes: float64(2), int64(1), object(5)\n",
                        "memory usage: 305.8+ KB\n"
                    ]
                }
            ],
            "metadata": {}
        },
        {
            "cell_type": "code",
            "execution_count": 26,
            "source": [
                "df['mileage'] = pd.to_numeric(df['mileage'],errors='coerce') #df.mileage.astype(int,errors='ignore')\n",
                "df['power'] = pd.to_numeric(df['power'],errors='coerce')"
            ],
            "outputs": [],
            "metadata": {}
        },
        {
            "cell_type": "code",
            "execution_count": 27,
            "source": [
                "df['mileage'] = df.mileage.astype(int,errors='ignore') #pd.to_numeric(df['mileage'],errors='coerce',downcast='integer') #df.mileage.astype(int,errors='ignore')\n",
                "df['power'] = df.power.astype(int,errors='ignore')"
            ],
            "outputs": [],
            "metadata": {}
        },
        {
            "cell_type": "code",
            "execution_count": 28,
            "source": [
                "df.info()"
            ],
            "outputs": [
                {
                    "output_type": "stream",
                    "name": "stdout",
                    "text": [
                        "<class 'pandas.core.frame.DataFrame'>\n",
                        "Int64Index: 4349 entries, 0 to 4411\n",
                        "Data columns (total 8 columns):\n",
                        " #   Column      Non-Null Count  Dtype  \n",
                        "---  ------      --------------  -----  \n",
                        " 0   model_name  4349 non-null   object \n",
                        " 1   model_year  4349 non-null   int64  \n",
                        " 2   kms_driven  3126 non-null   float64\n",
                        " 3   owner       4349 non-null   object \n",
                        " 4   location    4349 non-null   object \n",
                        " 5   mileage     3729 non-null   float64\n",
                        " 6   power       4140 non-null   float64\n",
                        " 7   price       4348 non-null   float64\n",
                        "dtypes: float64(4), int64(1), object(3)\n",
                        "memory usage: 305.8+ KB\n"
                    ]
                }
            ],
            "metadata": {}
        },
        {
            "cell_type": "code",
            "execution_count": 29,
            "source": [
                "df.to_csv('../data/processed/data.csv',index=False)"
            ],
            "outputs": [],
            "metadata": {}
        }
    ],
    "metadata": {
        "orig_nbformat": 4,
        "language_info": {
            "name": "python",
            "version": "3.8.8",
            "mimetype": "text/x-python",
            "codemirror_mode": {
                "name": "ipython",
                "version": 3
            },
            "pygments_lexer": "ipython3",
            "nbconvert_exporter": "python",
            "file_extension": ".py"
        },
        "kernelspec": {
            "name": "python3",
            "display_name": "Python 3.8.8 64-bit ('base': conda)"
        },
        "interpreter": {
            "hash": "d213f6e5b8fd7d14bb00958cfb5f51bfe315e9248ff051fde0d0d79c3d0f4eba"
        }
    },
    "nbformat": 4,
    "nbformat_minor": 2
}