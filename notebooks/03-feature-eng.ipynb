{
    "cells": [
        {
            "cell_type": "code",
            "execution_count": 1,
            "source": [
                "import pandas as pd\n",
                "import numpy as np\n",
                "import matplotlib.pyplot as plt\n",
                "import seaborn as sns"
            ],
            "outputs": [],
            "metadata": {}
        },
        {
            "cell_type": "code",
            "execution_count": 2,
            "source": [
                "df = pd.read_csv('../data/processed/data.csv')"
            ],
            "outputs": [],
            "metadata": {}
        },
        {
            "cell_type": "code",
            "execution_count": 3,
            "source": [
                "df.head()"
            ],
            "outputs": [
                {
                    "output_type": "execute_result",
                    "data": {
                        "text/html": [
                            "<div>\n",
                            "<style scoped>\n",
                            "    .dataframe tbody tr th:only-of-type {\n",
                            "        vertical-align: middle;\n",
                            "    }\n",
                            "\n",
                            "    .dataframe tbody tr th {\n",
                            "        vertical-align: top;\n",
                            "    }\n",
                            "\n",
                            "    .dataframe thead th {\n",
                            "        text-align: right;\n",
                            "    }\n",
                            "</style>\n",
                            "<table border=\"1\" class=\"dataframe\">\n",
                            "  <thead>\n",
                            "    <tr style=\"text-align: right;\">\n",
                            "      <th></th>\n",
                            "      <th>model_name</th>\n",
                            "      <th>model_year</th>\n",
                            "      <th>kms_driven</th>\n",
                            "      <th>owner</th>\n",
                            "      <th>location</th>\n",
                            "      <th>price</th>\n",
                            "    </tr>\n",
                            "  </thead>\n",
                            "  <tbody>\n",
                            "    <tr>\n",
                            "      <th>0</th>\n",
                            "      <td>Hero CBZ X-Treme Rear Disc</td>\n",
                            "      <td>2014</td>\n",
                            "      <td>26916.0</td>\n",
                            "      <td>1st</td>\n",
                            "      <td>Lucknow</td>\n",
                            "      <td>40000.0</td>\n",
                            "    </tr>\n",
                            "    <tr>\n",
                            "      <th>1</th>\n",
                            "      <td>Bajaj Pulsar 220 DTS-i Standard</td>\n",
                            "      <td>2017</td>\n",
                            "      <td>8500.0</td>\n",
                            "      <td>1st</td>\n",
                            "      <td>Mumbai</td>\n",
                            "      <td>90000.0</td>\n",
                            "    </tr>\n",
                            "    <tr>\n",
                            "      <th>2</th>\n",
                            "      <td>Bajaj Discover 135 Standard</td>\n",
                            "      <td>2011</td>\n",
                            "      <td>40000.0</td>\n",
                            "      <td>1st</td>\n",
                            "      <td>Kolkata</td>\n",
                            "      <td>25000.0</td>\n",
                            "    </tr>\n",
                            "    <tr>\n",
                            "      <th>3</th>\n",
                            "      <td>Hero Honda Splendor Plus Drum</td>\n",
                            "      <td>2011</td>\n",
                            "      <td>40000.0</td>\n",
                            "      <td>1st</td>\n",
                            "      <td>Bangalore</td>\n",
                            "      <td>30000.0</td>\n",
                            "    </tr>\n",
                            "    <tr>\n",
                            "      <th>4</th>\n",
                            "      <td>Bajaj Platina 100 ES Drum</td>\n",
                            "      <td>2018</td>\n",
                            "      <td>18000.0</td>\n",
                            "      <td>1st</td>\n",
                            "      <td>Baran</td>\n",
                            "      <td>41000.0</td>\n",
                            "    </tr>\n",
                            "  </tbody>\n",
                            "</table>\n",
                            "</div>"
                        ],
                        "text/plain": [
                            "                        model_name  model_year  kms_driven owner   location  \\\n",
                            "0       Hero CBZ X-Treme Rear Disc        2014     26916.0   1st    Lucknow   \n",
                            "1  Bajaj Pulsar 220 DTS-i Standard        2017      8500.0   1st     Mumbai   \n",
                            "2      Bajaj Discover 135 Standard        2011     40000.0   1st    Kolkata   \n",
                            "3    Hero Honda Splendor Plus Drum        2011     40000.0   1st  Bangalore   \n",
                            "4        Bajaj Platina 100 ES Drum        2018     18000.0   1st      Baran   \n",
                            "\n",
                            "     price  \n",
                            "0  40000.0  \n",
                            "1  90000.0  \n",
                            "2  25000.0  \n",
                            "3  30000.0  \n",
                            "4  41000.0  "
                        ]
                    },
                    "metadata": {},
                    "execution_count": 3
                }
            ],
            "metadata": {}
        },
        {
            "cell_type": "code",
            "execution_count": 4,
            "source": [
                "df.describe()"
            ],
            "outputs": [
                {
                    "output_type": "execute_result",
                    "data": {
                        "text/html": [
                            "<div>\n",
                            "<style scoped>\n",
                            "    .dataframe tbody tr th:only-of-type {\n",
                            "        vertical-align: middle;\n",
                            "    }\n",
                            "\n",
                            "    .dataframe tbody tr th {\n",
                            "        vertical-align: top;\n",
                            "    }\n",
                            "\n",
                            "    .dataframe thead th {\n",
                            "        text-align: right;\n",
                            "    }\n",
                            "</style>\n",
                            "<table border=\"1\" class=\"dataframe\">\n",
                            "  <thead>\n",
                            "    <tr style=\"text-align: right;\">\n",
                            "      <th></th>\n",
                            "      <th>model_year</th>\n",
                            "      <th>kms_driven</th>\n",
                            "      <th>price</th>\n",
                            "    </tr>\n",
                            "  </thead>\n",
                            "  <tbody>\n",
                            "    <tr>\n",
                            "      <th>count</th>\n",
                            "      <td>5504.000000</td>\n",
                            "      <td>5504.000000</td>\n",
                            "      <td>5.504000e+03</td>\n",
                            "    </tr>\n",
                            "    <tr>\n",
                            "      <th>mean</th>\n",
                            "      <td>2016.235647</td>\n",
                            "      <td>28860.420058</td>\n",
                            "      <td>7.649927e+04</td>\n",
                            "    </tr>\n",
                            "    <tr>\n",
                            "      <th>std</th>\n",
                            "      <td>3.657750</td>\n",
                            "      <td>31203.686275</td>\n",
                            "      <td>9.650346e+04</td>\n",
                            "    </tr>\n",
                            "    <tr>\n",
                            "      <th>min</th>\n",
                            "      <td>1970.000000</td>\n",
                            "      <td>1.000000</td>\n",
                            "      <td>1.000000e+03</td>\n",
                            "    </tr>\n",
                            "    <tr>\n",
                            "      <th>25%</th>\n",
                            "      <td>2015.000000</td>\n",
                            "      <td>11000.000000</td>\n",
                            "      <td>3.400000e+04</td>\n",
                            "    </tr>\n",
                            "    <tr>\n",
                            "      <th>50%</th>\n",
                            "      <td>2017.000000</td>\n",
                            "      <td>22000.000000</td>\n",
                            "      <td>5.300000e+04</td>\n",
                            "    </tr>\n",
                            "    <tr>\n",
                            "      <th>75%</th>\n",
                            "      <td>2019.000000</td>\n",
                            "      <td>38000.000000</td>\n",
                            "      <td>9.000000e+04</td>\n",
                            "    </tr>\n",
                            "    <tr>\n",
                            "      <th>max</th>\n",
                            "      <td>2021.000000</td>\n",
                            "      <td>720000.000000</td>\n",
                            "      <td>2.400000e+06</td>\n",
                            "    </tr>\n",
                            "  </tbody>\n",
                            "</table>\n",
                            "</div>"
                        ],
                        "text/plain": [
                            "        model_year     kms_driven         price\n",
                            "count  5504.000000    5504.000000  5.504000e+03\n",
                            "mean   2016.235647   28860.420058  7.649927e+04\n",
                            "std       3.657750   31203.686275  9.650346e+04\n",
                            "min    1970.000000       1.000000  1.000000e+03\n",
                            "25%    2015.000000   11000.000000  3.400000e+04\n",
                            "50%    2017.000000   22000.000000  5.300000e+04\n",
                            "75%    2019.000000   38000.000000  9.000000e+04\n",
                            "max    2021.000000  720000.000000  2.400000e+06"
                        ]
                    },
                    "metadata": {},
                    "execution_count": 4
                }
            ],
            "metadata": {}
        },
        {
            "cell_type": "code",
            "execution_count": 5,
            "source": [
                "df.model_year.unique()"
            ],
            "outputs": [
                {
                    "output_type": "execute_result",
                    "data": {
                        "text/plain": [
                            "array([2014, 2017, 2011, 2018, 2012, 2019, 1996, 2007, 2008, 2006, 2013,\n",
                            "       1986, 2015, 2010, 1998, 2016, 2020, 2021, 2000, 2009, 2003, 2005,\n",
                            "       2004, 2002, 1989, 1999, 2001, 1983, 1982, 1995, 1980, 1981, 1997,\n",
                            "       1970, 1991])"
                        ]
                    },
                    "metadata": {},
                    "execution_count": 5
                }
            ],
            "metadata": {}
        },
        {
            "cell_type": "code",
            "execution_count": 6,
            "source": [
                "df.sample(5)"
            ],
            "outputs": [
                {
                    "output_type": "execute_result",
                    "data": {
                        "text/html": [
                            "<div>\n",
                            "<style scoped>\n",
                            "    .dataframe tbody tr th:only-of-type {\n",
                            "        vertical-align: middle;\n",
                            "    }\n",
                            "\n",
                            "    .dataframe tbody tr th {\n",
                            "        vertical-align: top;\n",
                            "    }\n",
                            "\n",
                            "    .dataframe thead th {\n",
                            "        text-align: right;\n",
                            "    }\n",
                            "</style>\n",
                            "<table border=\"1\" class=\"dataframe\">\n",
                            "  <thead>\n",
                            "    <tr style=\"text-align: right;\">\n",
                            "      <th></th>\n",
                            "      <th>model_name</th>\n",
                            "      <th>model_year</th>\n",
                            "      <th>kms_driven</th>\n",
                            "      <th>owner</th>\n",
                            "      <th>location</th>\n",
                            "      <th>price</th>\n",
                            "    </tr>\n",
                            "  </thead>\n",
                            "  <tbody>\n",
                            "    <tr>\n",
                            "      <th>4450</th>\n",
                            "      <td>Royal Enfield Classic 350cc</td>\n",
                            "      <td>2016</td>\n",
                            "      <td>49376.0</td>\n",
                            "      <td>1st</td>\n",
                            "      <td>Hyderabad</td>\n",
                            "      <td>160000.0</td>\n",
                            "    </tr>\n",
                            "    <tr>\n",
                            "      <th>4346</th>\n",
                            "      <td>Bajaj Discover 100cc</td>\n",
                            "      <td>2014</td>\n",
                            "      <td>38000.0</td>\n",
                            "      <td>1st</td>\n",
                            "      <td>Masaurhi</td>\n",
                            "      <td>16000.0</td>\n",
                            "    </tr>\n",
                            "    <tr>\n",
                            "      <th>733</th>\n",
                            "      <td>Royal Enfield Classic Gunmetal Grey ABS</td>\n",
                            "      <td>2019</td>\n",
                            "      <td>7500.0</td>\n",
                            "      <td>1st</td>\n",
                            "      <td>Ajmer</td>\n",
                            "      <td>170000.0</td>\n",
                            "    </tr>\n",
                            "    <tr>\n",
                            "      <th>2346</th>\n",
                            "      <td>Hero Splendor Plus 100 Million Edition</td>\n",
                            "      <td>2019</td>\n",
                            "      <td>12000.0</td>\n",
                            "      <td>1st</td>\n",
                            "      <td>Ahmedabad</td>\n",
                            "      <td>25000.0</td>\n",
                            "    </tr>\n",
                            "    <tr>\n",
                            "      <th>1252</th>\n",
                            "      <td>Hero Maestro Edge Self Start Drum Brake Alloy ...</td>\n",
                            "      <td>2019</td>\n",
                            "      <td>3900.0</td>\n",
                            "      <td>1st</td>\n",
                            "      <td>New Delhi</td>\n",
                            "      <td>42000.0</td>\n",
                            "    </tr>\n",
                            "  </tbody>\n",
                            "</table>\n",
                            "</div>"
                        ],
                        "text/plain": [
                            "                                             model_name  model_year  \\\n",
                            "4450                        Royal Enfield Classic 350cc        2016   \n",
                            "4346                               Bajaj Discover 100cc        2014   \n",
                            "733             Royal Enfield Classic Gunmetal Grey ABS        2019   \n",
                            "2346             Hero Splendor Plus 100 Million Edition        2019   \n",
                            "1252  Hero Maestro Edge Self Start Drum Brake Alloy ...        2019   \n",
                            "\n",
                            "      kms_driven owner   location     price  \n",
                            "4450     49376.0   1st  Hyderabad  160000.0  \n",
                            "4346     38000.0   1st   Masaurhi   16000.0  \n",
                            "733       7500.0   1st      Ajmer  170000.0  \n",
                            "2346     12000.0   1st  Ahmedabad   25000.0  \n",
                            "1252      3900.0   1st  New Delhi   42000.0  "
                        ]
                    },
                    "metadata": {},
                    "execution_count": 6
                }
            ],
            "metadata": {}
        },
        {
            "cell_type": "markdown",
            "source": [
                "## Handle model_name"
            ],
            "metadata": {}
        },
        {
            "cell_type": "markdown",
            "source": [
                "### Let's take only first two words of model_name"
            ],
            "metadata": {}
        },
        {
            "cell_type": "code",
            "execution_count": 7,
            "source": [
                "df['model_name'] = df['model_name'].apply(lambda x: ' '.join(x.split()[:2]))"
            ],
            "outputs": [],
            "metadata": {}
        },
        {
            "cell_type": "code",
            "execution_count": 8,
            "source": [
                "df.sample(10)"
            ],
            "outputs": [
                {
                    "output_type": "execute_result",
                    "data": {
                        "text/html": [
                            "<div>\n",
                            "<style scoped>\n",
                            "    .dataframe tbody tr th:only-of-type {\n",
                            "        vertical-align: middle;\n",
                            "    }\n",
                            "\n",
                            "    .dataframe tbody tr th {\n",
                            "        vertical-align: top;\n",
                            "    }\n",
                            "\n",
                            "    .dataframe thead th {\n",
                            "        text-align: right;\n",
                            "    }\n",
                            "</style>\n",
                            "<table border=\"1\" class=\"dataframe\">\n",
                            "  <thead>\n",
                            "    <tr style=\"text-align: right;\">\n",
                            "      <th></th>\n",
                            "      <th>model_name</th>\n",
                            "      <th>model_year</th>\n",
                            "      <th>kms_driven</th>\n",
                            "      <th>owner</th>\n",
                            "      <th>location</th>\n",
                            "      <th>price</th>\n",
                            "    </tr>\n",
                            "  </thead>\n",
                            "  <tbody>\n",
                            "    <tr>\n",
                            "      <th>2079</th>\n",
                            "      <td>Bajaj Pulsar</td>\n",
                            "      <td>2015</td>\n",
                            "      <td>27820.0</td>\n",
                            "      <td>1st</td>\n",
                            "      <td>Chennai</td>\n",
                            "      <td>170000.0</td>\n",
                            "    </tr>\n",
                            "    <tr>\n",
                            "      <th>2499</th>\n",
                            "      <td>Hero Splendor</td>\n",
                            "      <td>2021</td>\n",
                            "      <td>12000.0</td>\n",
                            "      <td>1st</td>\n",
                            "      <td>Kolkata</td>\n",
                            "      <td>175000.0</td>\n",
                            "    </tr>\n",
                            "    <tr>\n",
                            "      <th>1721</th>\n",
                            "      <td>Honda Activa</td>\n",
                            "      <td>2018</td>\n",
                            "      <td>5123.0</td>\n",
                            "      <td>1st</td>\n",
                            "      <td>Mumbai</td>\n",
                            "      <td>19500.0</td>\n",
                            "    </tr>\n",
                            "    <tr>\n",
                            "      <th>879</th>\n",
                            "      <td>TVS Centra</td>\n",
                            "      <td>2004</td>\n",
                            "      <td>31000.0</td>\n",
                            "      <td>1st</td>\n",
                            "      <td>Bharuch</td>\n",
                            "      <td>10000.0</td>\n",
                            "    </tr>\n",
                            "    <tr>\n",
                            "      <th>4030</th>\n",
                            "      <td>Benelli TNT</td>\n",
                            "      <td>2018</td>\n",
                            "      <td>3806.0</td>\n",
                            "      <td>1st</td>\n",
                            "      <td>Mumbai</td>\n",
                            "      <td>250000.0</td>\n",
                            "    </tr>\n",
                            "    <tr>\n",
                            "      <th>1743</th>\n",
                            "      <td>Bajaj Pulsar</td>\n",
                            "      <td>2018</td>\n",
                            "      <td>32000.0</td>\n",
                            "      <td>1st</td>\n",
                            "      <td>Mumbai</td>\n",
                            "      <td>65000.0</td>\n",
                            "    </tr>\n",
                            "    <tr>\n",
                            "      <th>1827</th>\n",
                            "      <td>Royal Enfield</td>\n",
                            "      <td>2017</td>\n",
                            "      <td>23000.0</td>\n",
                            "      <td>1st</td>\n",
                            "      <td>Bangalore</td>\n",
                            "      <td>50000.0</td>\n",
                            "    </tr>\n",
                            "    <tr>\n",
                            "      <th>3281</th>\n",
                            "      <td>Hero</td>\n",
                            "      <td>2016</td>\n",
                            "      <td>97896.0</td>\n",
                            "      <td>1st</td>\n",
                            "      <td>Delhi</td>\n",
                            "      <td>41000.0</td>\n",
                            "    </tr>\n",
                            "    <tr>\n",
                            "      <th>5089</th>\n",
                            "      <td>Yamaha FZS-FI</td>\n",
                            "      <td>2019</td>\n",
                            "      <td>2000.0</td>\n",
                            "      <td>1st</td>\n",
                            "      <td>Hyderabad</td>\n",
                            "      <td>95000.0</td>\n",
                            "    </tr>\n",
                            "    <tr>\n",
                            "      <th>5432</th>\n",
                            "      <td>Bajaj Pulsar</td>\n",
                            "      <td>2011</td>\n",
                            "      <td>41000.0</td>\n",
                            "      <td>1st</td>\n",
                            "      <td>Mumbai</td>\n",
                            "      <td>29000.0</td>\n",
                            "    </tr>\n",
                            "  </tbody>\n",
                            "</table>\n",
                            "</div>"
                        ],
                        "text/plain": [
                            "         model_name  model_year  kms_driven owner   location     price\n",
                            "2079   Bajaj Pulsar        2015     27820.0   1st    Chennai  170000.0\n",
                            "2499  Hero Splendor        2021     12000.0   1st    Kolkata  175000.0\n",
                            "1721   Honda Activa        2018      5123.0   1st     Mumbai   19500.0\n",
                            "879      TVS Centra        2004     31000.0   1st    Bharuch   10000.0\n",
                            "4030    Benelli TNT        2018      3806.0   1st     Mumbai  250000.0\n",
                            "1743   Bajaj Pulsar        2018     32000.0   1st     Mumbai   65000.0\n",
                            "1827  Royal Enfield        2017     23000.0   1st  Bangalore   50000.0\n",
                            "3281           Hero        2016     97896.0   1st      Delhi   41000.0\n",
                            "5089  Yamaha FZS-FI        2019      2000.0   1st  Hyderabad   95000.0\n",
                            "5432   Bajaj Pulsar        2011     41000.0   1st     Mumbai   29000.0"
                        ]
                    },
                    "metadata": {},
                    "execution_count": 8
                }
            ],
            "metadata": {}
        },
        {
            "cell_type": "code",
            "execution_count": 9,
            "source": [
                "df.model_name.value_counts()"
            ],
            "outputs": [
                {
                    "output_type": "execute_result",
                    "data": {
                        "text/plain": [
                            "Royal Enfield              751\n",
                            "Bajaj Pulsar               655\n",
                            "Honda Activa               438\n",
                            "Honda                      321\n",
                            "TVS Apache                 302\n",
                            "                          ... \n",
                            "Yamaha YZF-R1M               1\n",
                            "Kawasaki Z800                1\n",
                            "TVS Excel                    1\n",
                            "Harley-Davidson XR1200X      1\n",
                            "Suzuki SlingShot             1\n",
                            "Name: model_name, Length: 200, dtype: int64"
                        ]
                    },
                    "metadata": {},
                    "execution_count": 9
                }
            ],
            "metadata": {}
        },
        {
            "cell_type": "markdown",
            "source": [
                "### There are too many models, let try to create a brand category using the model name."
            ],
            "metadata": {}
        },
        {
            "cell_type": "code",
            "execution_count": 10,
            "source": [
                "df['brand'] = df['model_name'].apply(lambda x: x.split(' ')[0])"
            ],
            "outputs": [],
            "metadata": {}
        },
        {
            "cell_type": "code",
            "execution_count": 11,
            "source": [
                "df.sample(10)"
            ],
            "outputs": [
                {
                    "output_type": "execute_result",
                    "data": {
                        "text/html": [
                            "<div>\n",
                            "<style scoped>\n",
                            "    .dataframe tbody tr th:only-of-type {\n",
                            "        vertical-align: middle;\n",
                            "    }\n",
                            "\n",
                            "    .dataframe tbody tr th {\n",
                            "        vertical-align: top;\n",
                            "    }\n",
                            "\n",
                            "    .dataframe thead th {\n",
                            "        text-align: right;\n",
                            "    }\n",
                            "</style>\n",
                            "<table border=\"1\" class=\"dataframe\">\n",
                            "  <thead>\n",
                            "    <tr style=\"text-align: right;\">\n",
                            "      <th></th>\n",
                            "      <th>model_name</th>\n",
                            "      <th>model_year</th>\n",
                            "      <th>kms_driven</th>\n",
                            "      <th>owner</th>\n",
                            "      <th>location</th>\n",
                            "      <th>price</th>\n",
                            "      <th>brand</th>\n",
                            "    </tr>\n",
                            "  </thead>\n",
                            "  <tbody>\n",
                            "    <tr>\n",
                            "      <th>4864</th>\n",
                            "      <td>Hero Splendor</td>\n",
                            "      <td>2014</td>\n",
                            "      <td>50000.0</td>\n",
                            "      <td>2nd</td>\n",
                            "      <td>Baghpat</td>\n",
                            "      <td>25000.0</td>\n",
                            "      <td>Hero</td>\n",
                            "    </tr>\n",
                            "    <tr>\n",
                            "      <th>3324</th>\n",
                            "      <td>Hero</td>\n",
                            "      <td>2018</td>\n",
                            "      <td>21324.0</td>\n",
                            "      <td>1st</td>\n",
                            "      <td>Delhi</td>\n",
                            "      <td>53000.0</td>\n",
                            "      <td>Hero</td>\n",
                            "    </tr>\n",
                            "    <tr>\n",
                            "      <th>3180</th>\n",
                            "      <td>TVS</td>\n",
                            "      <td>2017</td>\n",
                            "      <td>43663.0</td>\n",
                            "      <td>1st</td>\n",
                            "      <td>Delhi</td>\n",
                            "      <td>65000.0</td>\n",
                            "      <td>TVS</td>\n",
                            "    </tr>\n",
                            "    <tr>\n",
                            "      <th>1474</th>\n",
                            "      <td>Bajaj Pulsar</td>\n",
                            "      <td>2017</td>\n",
                            "      <td>31000.0</td>\n",
                            "      <td>1st</td>\n",
                            "      <td>Mumbai</td>\n",
                            "      <td>35000.0</td>\n",
                            "      <td>Bajaj</td>\n",
                            "    </tr>\n",
                            "    <tr>\n",
                            "      <th>39</th>\n",
                            "      <td>KTM 200</td>\n",
                            "      <td>2021</td>\n",
                            "      <td>1000.0</td>\n",
                            "      <td>1st</td>\n",
                            "      <td>Satara</td>\n",
                            "      <td>200000.0</td>\n",
                            "      <td>KTM</td>\n",
                            "    </tr>\n",
                            "    <tr>\n",
                            "      <th>1480</th>\n",
                            "      <td>Suzuki Burgman</td>\n",
                            "      <td>2018</td>\n",
                            "      <td>490.0</td>\n",
                            "      <td>1st</td>\n",
                            "      <td>Mumbai</td>\n",
                            "      <td>75000.0</td>\n",
                            "      <td>Suzuki</td>\n",
                            "    </tr>\n",
                            "    <tr>\n",
                            "      <th>2364</th>\n",
                            "      <td>Honda Activa</td>\n",
                            "      <td>2019</td>\n",
                            "      <td>16173.0</td>\n",
                            "      <td>1st</td>\n",
                            "      <td>Ahmedabad</td>\n",
                            "      <td>21500.0</td>\n",
                            "      <td>Honda</td>\n",
                            "    </tr>\n",
                            "    <tr>\n",
                            "      <th>2194</th>\n",
                            "      <td>KTM RC</td>\n",
                            "      <td>2018</td>\n",
                            "      <td>12300.0</td>\n",
                            "      <td>1st</td>\n",
                            "      <td>Hyderabad</td>\n",
                            "      <td>30000.0</td>\n",
                            "      <td>KTM</td>\n",
                            "    </tr>\n",
                            "    <tr>\n",
                            "      <th>921</th>\n",
                            "      <td>Bajaj Discover</td>\n",
                            "      <td>2012</td>\n",
                            "      <td>74800.0</td>\n",
                            "      <td>1st</td>\n",
                            "      <td>Lucknow</td>\n",
                            "      <td>22000.0</td>\n",
                            "      <td>Bajaj</td>\n",
                            "    </tr>\n",
                            "    <tr>\n",
                            "      <th>3090</th>\n",
                            "      <td>Hero</td>\n",
                            "      <td>2017</td>\n",
                            "      <td>33024.0</td>\n",
                            "      <td>1st</td>\n",
                            "      <td>Delhi</td>\n",
                            "      <td>42000.0</td>\n",
                            "      <td>Hero</td>\n",
                            "    </tr>\n",
                            "  </tbody>\n",
                            "</table>\n",
                            "</div>"
                        ],
                        "text/plain": [
                            "          model_name  model_year  kms_driven owner   location     price  \\\n",
                            "4864   Hero Splendor        2014     50000.0   2nd    Baghpat   25000.0   \n",
                            "3324            Hero        2018     21324.0   1st      Delhi   53000.0   \n",
                            "3180             TVS        2017     43663.0   1st      Delhi   65000.0   \n",
                            "1474    Bajaj Pulsar        2017     31000.0   1st     Mumbai   35000.0   \n",
                            "39           KTM 200        2021      1000.0   1st     Satara  200000.0   \n",
                            "1480  Suzuki Burgman        2018       490.0   1st     Mumbai   75000.0   \n",
                            "2364    Honda Activa        2019     16173.0   1st  Ahmedabad   21500.0   \n",
                            "2194          KTM RC        2018     12300.0   1st  Hyderabad   30000.0   \n",
                            "921   Bajaj Discover        2012     74800.0   1st    Lucknow   22000.0   \n",
                            "3090            Hero        2017     33024.0   1st      Delhi   42000.0   \n",
                            "\n",
                            "       brand  \n",
                            "4864    Hero  \n",
                            "3324    Hero  \n",
                            "3180     TVS  \n",
                            "1474   Bajaj  \n",
                            "39       KTM  \n",
                            "1480  Suzuki  \n",
                            "2364   Honda  \n",
                            "2194     KTM  \n",
                            "921    Bajaj  \n",
                            "3090    Hero  "
                        ]
                    },
                    "metadata": {},
                    "execution_count": 11
                }
            ],
            "metadata": {}
        },
        {
            "cell_type": "code",
            "execution_count": 12,
            "source": [
                "# Let's check how may brands we get\n",
                "print('Unique Brands :',len(df['brand'].unique()))\n",
                "df['brand'].value_counts()"
            ],
            "outputs": [
                {
                    "output_type": "stream",
                    "name": "stdout",
                    "text": [
                        "Unique Brands : 28\n"
                    ]
                },
                {
                    "output_type": "execute_result",
                    "data": {
                        "text/plain": [
                            "Bajaj              1103\n",
                            "Honda              1061\n",
                            "Royal               845\n",
                            "Hero                815\n",
                            "TVS                 677\n",
                            "Yamaha              349\n",
                            "KTM                 309\n",
                            "Suzuki              144\n",
                            "Harley-Davidson      40\n",
                            "Jawa                 33\n",
                            "UM                   27\n",
                            "Kawasaki             16\n",
                            "Benelli              13\n",
                            "Triumph              11\n",
                            "Hyosung              10\n",
                            "Aprilia               9\n",
                            "Mahindra              8\n",
                            "Husqvarna             8\n",
                            "Vespa                 6\n",
                            "Ducati                6\n",
                            "JAWA                  3\n",
                            "BMW                   3\n",
                            "LML                   2\n",
                            "Okinawa               2\n",
                            "Piaggio               1\n",
                            "22Kymco               1\n",
                            "Indian                1\n",
                            "Fb                    1\n",
                            "Name: brand, dtype: int64"
                        ]
                    },
                    "metadata": {},
                    "execution_count": 12
                }
            ],
            "metadata": {}
        },
        {
            "cell_type": "markdown",
            "source": [
                "### Let's take only top 13 brands as our base brand & make other as 'other' category"
            ],
            "metadata": {}
        },
        {
            "cell_type": "code",
            "execution_count": 13,
            "source": [
                "top_brands = df['brand'].value_counts().index[:10]"
            ],
            "outputs": [],
            "metadata": {}
        },
        {
            "cell_type": "code",
            "execution_count": 14,
            "source": [
                "df['brand'] = df['brand'].apply(lambda x: x if x in top_brands else 'other')"
            ],
            "outputs": [],
            "metadata": {}
        },
        {
            "cell_type": "code",
            "execution_count": 15,
            "source": [
                "df.sample(10)"
            ],
            "outputs": [
                {
                    "output_type": "execute_result",
                    "data": {
                        "text/html": [
                            "<div>\n",
                            "<style scoped>\n",
                            "    .dataframe tbody tr th:only-of-type {\n",
                            "        vertical-align: middle;\n",
                            "    }\n",
                            "\n",
                            "    .dataframe tbody tr th {\n",
                            "        vertical-align: top;\n",
                            "    }\n",
                            "\n",
                            "    .dataframe thead th {\n",
                            "        text-align: right;\n",
                            "    }\n",
                            "</style>\n",
                            "<table border=\"1\" class=\"dataframe\">\n",
                            "  <thead>\n",
                            "    <tr style=\"text-align: right;\">\n",
                            "      <th></th>\n",
                            "      <th>model_name</th>\n",
                            "      <th>model_year</th>\n",
                            "      <th>kms_driven</th>\n",
                            "      <th>owner</th>\n",
                            "      <th>location</th>\n",
                            "      <th>price</th>\n",
                            "      <th>brand</th>\n",
                            "    </tr>\n",
                            "  </thead>\n",
                            "  <tbody>\n",
                            "    <tr>\n",
                            "      <th>1686</th>\n",
                            "      <td>Honda Activa</td>\n",
                            "      <td>2018</td>\n",
                            "      <td>11521.0</td>\n",
                            "      <td>1st</td>\n",
                            "      <td>Mumbai</td>\n",
                            "      <td>18500.0</td>\n",
                            "      <td>Honda</td>\n",
                            "    </tr>\n",
                            "    <tr>\n",
                            "      <th>3567</th>\n",
                            "      <td>TVS</td>\n",
                            "      <td>2018</td>\n",
                            "      <td>30971.0</td>\n",
                            "      <td>1st</td>\n",
                            "      <td>Delhi</td>\n",
                            "      <td>52000.0</td>\n",
                            "      <td>TVS</td>\n",
                            "    </tr>\n",
                            "    <tr>\n",
                            "      <th>4517</th>\n",
                            "      <td>Bajaj Pulsar</td>\n",
                            "      <td>2013</td>\n",
                            "      <td>17000.0</td>\n",
                            "      <td>1st</td>\n",
                            "      <td>Mumbai</td>\n",
                            "      <td>25200.0</td>\n",
                            "      <td>Bajaj</td>\n",
                            "    </tr>\n",
                            "    <tr>\n",
                            "      <th>3120</th>\n",
                            "      <td>TVS</td>\n",
                            "      <td>2018</td>\n",
                            "      <td>16142.0</td>\n",
                            "      <td>1st</td>\n",
                            "      <td>Delhi</td>\n",
                            "      <td>55000.0</td>\n",
                            "      <td>TVS</td>\n",
                            "    </tr>\n",
                            "    <tr>\n",
                            "      <th>1773</th>\n",
                            "      <td>Honda Activa</td>\n",
                            "      <td>2018</td>\n",
                            "      <td>10400.0</td>\n",
                            "      <td>1st</td>\n",
                            "      <td>Mumbai</td>\n",
                            "      <td>25000.0</td>\n",
                            "      <td>Honda</td>\n",
                            "    </tr>\n",
                            "    <tr>\n",
                            "      <th>4673</th>\n",
                            "      <td>Royal Enfield</td>\n",
                            "      <td>2018</td>\n",
                            "      <td>3745.0</td>\n",
                            "      <td>1st</td>\n",
                            "      <td>Mohali</td>\n",
                            "      <td>171700.0</td>\n",
                            "      <td>Royal</td>\n",
                            "    </tr>\n",
                            "    <tr>\n",
                            "      <th>1220</th>\n",
                            "      <td>Suzuki Gixxer</td>\n",
                            "      <td>2015</td>\n",
                            "      <td>42000.0</td>\n",
                            "      <td>1st</td>\n",
                            "      <td>New Delhi</td>\n",
                            "      <td>35000.0</td>\n",
                            "      <td>Suzuki</td>\n",
                            "    </tr>\n",
                            "    <tr>\n",
                            "      <th>238</th>\n",
                            "      <td>Hero Glamour</td>\n",
                            "      <td>2020</td>\n",
                            "      <td>18500.0</td>\n",
                            "      <td>1st</td>\n",
                            "      <td>Narasaropet</td>\n",
                            "      <td>78000.0</td>\n",
                            "      <td>Hero</td>\n",
                            "    </tr>\n",
                            "    <tr>\n",
                            "      <th>5292</th>\n",
                            "      <td>Suzuki Gixxer</td>\n",
                            "      <td>2018</td>\n",
                            "      <td>15000.0</td>\n",
                            "      <td>1st</td>\n",
                            "      <td>Delhi</td>\n",
                            "      <td>75900.0</td>\n",
                            "      <td>Suzuki</td>\n",
                            "    </tr>\n",
                            "    <tr>\n",
                            "      <th>3617</th>\n",
                            "      <td>Hero</td>\n",
                            "      <td>2016</td>\n",
                            "      <td>13555.0</td>\n",
                            "      <td>1st</td>\n",
                            "      <td>Delhi</td>\n",
                            "      <td>38000.0</td>\n",
                            "      <td>Hero</td>\n",
                            "    </tr>\n",
                            "  </tbody>\n",
                            "</table>\n",
                            "</div>"
                        ],
                        "text/plain": [
                            "         model_name  model_year  kms_driven owner     location     price  \\\n",
                            "1686   Honda Activa        2018     11521.0   1st       Mumbai   18500.0   \n",
                            "3567            TVS        2018     30971.0   1st        Delhi   52000.0   \n",
                            "4517   Bajaj Pulsar        2013     17000.0   1st       Mumbai   25200.0   \n",
                            "3120            TVS        2018     16142.0   1st        Delhi   55000.0   \n",
                            "1773   Honda Activa        2018     10400.0   1st       Mumbai   25000.0   \n",
                            "4673  Royal Enfield        2018      3745.0   1st       Mohali  171700.0   \n",
                            "1220  Suzuki Gixxer        2015     42000.0   1st    New Delhi   35000.0   \n",
                            "238    Hero Glamour        2020     18500.0   1st  Narasaropet   78000.0   \n",
                            "5292  Suzuki Gixxer        2018     15000.0   1st        Delhi   75900.0   \n",
                            "3617           Hero        2016     13555.0   1st        Delhi   38000.0   \n",
                            "\n",
                            "       brand  \n",
                            "1686   Honda  \n",
                            "3567     TVS  \n",
                            "4517   Bajaj  \n",
                            "3120     TVS  \n",
                            "1773   Honda  \n",
                            "4673   Royal  \n",
                            "1220  Suzuki  \n",
                            "238     Hero  \n",
                            "5292  Suzuki  \n",
                            "3617    Hero  "
                        ]
                    },
                    "metadata": {},
                    "execution_count": 15
                }
            ],
            "metadata": {}
        },
        {
            "cell_type": "markdown",
            "source": [
                "### Let's change the 'Royal' to 'Royal Enfield' as the actual brand"
            ],
            "metadata": {}
        },
        {
            "cell_type": "code",
            "execution_count": 16,
            "source": [
                "df['brand'] = df.brand.str.replace('Royal','Royal Enfield')"
            ],
            "outputs": [],
            "metadata": {}
        },
        {
            "cell_type": "code",
            "execution_count": 17,
            "source": [
                "df.sample(5)"
            ],
            "outputs": [
                {
                    "output_type": "execute_result",
                    "data": {
                        "text/html": [
                            "<div>\n",
                            "<style scoped>\n",
                            "    .dataframe tbody tr th:only-of-type {\n",
                            "        vertical-align: middle;\n",
                            "    }\n",
                            "\n",
                            "    .dataframe tbody tr th {\n",
                            "        vertical-align: top;\n",
                            "    }\n",
                            "\n",
                            "    .dataframe thead th {\n",
                            "        text-align: right;\n",
                            "    }\n",
                            "</style>\n",
                            "<table border=\"1\" class=\"dataframe\">\n",
                            "  <thead>\n",
                            "    <tr style=\"text-align: right;\">\n",
                            "      <th></th>\n",
                            "      <th>model_name</th>\n",
                            "      <th>model_year</th>\n",
                            "      <th>kms_driven</th>\n",
                            "      <th>owner</th>\n",
                            "      <th>location</th>\n",
                            "      <th>price</th>\n",
                            "      <th>brand</th>\n",
                            "    </tr>\n",
                            "  </thead>\n",
                            "  <tbody>\n",
                            "    <tr>\n",
                            "      <th>1154</th>\n",
                            "      <td>Honda Activa</td>\n",
                            "      <td>2017</td>\n",
                            "      <td>7500.0</td>\n",
                            "      <td>1st</td>\n",
                            "      <td>New Delhi</td>\n",
                            "      <td>40000.0</td>\n",
                            "      <td>Honda</td>\n",
                            "    </tr>\n",
                            "    <tr>\n",
                            "      <th>889</th>\n",
                            "      <td>Honda Activa</td>\n",
                            "      <td>2015</td>\n",
                            "      <td>55000.0</td>\n",
                            "      <td>1st</td>\n",
                            "      <td>Kochi</td>\n",
                            "      <td>45000.0</td>\n",
                            "      <td>Honda</td>\n",
                            "    </tr>\n",
                            "    <tr>\n",
                            "      <th>1097</th>\n",
                            "      <td>Hero Splendor</td>\n",
                            "      <td>2011</td>\n",
                            "      <td>25000.0</td>\n",
                            "      <td>3rd</td>\n",
                            "      <td>New Delhi</td>\n",
                            "      <td>27000.0</td>\n",
                            "      <td>Hero</td>\n",
                            "    </tr>\n",
                            "    <tr>\n",
                            "      <th>4517</th>\n",
                            "      <td>Bajaj Pulsar</td>\n",
                            "      <td>2013</td>\n",
                            "      <td>17000.0</td>\n",
                            "      <td>1st</td>\n",
                            "      <td>Mumbai</td>\n",
                            "      <td>25200.0</td>\n",
                            "      <td>Bajaj</td>\n",
                            "    </tr>\n",
                            "    <tr>\n",
                            "      <th>3763</th>\n",
                            "      <td>Royal Enfield</td>\n",
                            "      <td>2015</td>\n",
                            "      <td>15000.0</td>\n",
                            "      <td>2nd</td>\n",
                            "      <td>Bangalore</td>\n",
                            "      <td>100000.0</td>\n",
                            "      <td>Royal Enfield</td>\n",
                            "    </tr>\n",
                            "  </tbody>\n",
                            "</table>\n",
                            "</div>"
                        ],
                        "text/plain": [
                            "         model_name  model_year  kms_driven owner   location     price  \\\n",
                            "1154   Honda Activa        2017      7500.0   1st  New Delhi   40000.0   \n",
                            "889    Honda Activa        2015     55000.0   1st      Kochi   45000.0   \n",
                            "1097  Hero Splendor        2011     25000.0   3rd  New Delhi   27000.0   \n",
                            "4517   Bajaj Pulsar        2013     17000.0   1st     Mumbai   25200.0   \n",
                            "3763  Royal Enfield        2015     15000.0   2nd  Bangalore  100000.0   \n",
                            "\n",
                            "              brand  \n",
                            "1154          Honda  \n",
                            "889           Honda  \n",
                            "1097           Hero  \n",
                            "4517          Bajaj  \n",
                            "3763  Royal Enfield  "
                        ]
                    },
                    "metadata": {},
                    "execution_count": 17
                }
            ],
            "metadata": {}
        },
        {
            "cell_type": "markdown",
            "source": [
                "### Drop the model_name as we can work with the brand only"
            ],
            "metadata": {}
        },
        {
            "cell_type": "code",
            "execution_count": 18,
            "source": [
                "df = df.drop('model_name',axis=1)"
            ],
            "outputs": [],
            "metadata": {}
        },
        {
            "cell_type": "markdown",
            "source": [
                "## Handle owner"
            ],
            "metadata": {}
        },
        {
            "cell_type": "code",
            "execution_count": 19,
            "source": [
                "df.owner.unique()"
            ],
            "outputs": [
                {
                    "output_type": "execute_result",
                    "data": {
                        "text/plain": [
                            "array(['1st', '3rd', '2nd', '5th', '4th'], dtype=object)"
                        ]
                    },
                    "metadata": {},
                    "execution_count": 19
                }
            ],
            "metadata": {}
        },
        {
            "cell_type": "markdown",
            "source": [
                "### owner category is pretty much sorted, we can directly encode that using OrdinalEncoding during model building."
            ],
            "metadata": {}
        },
        {
            "cell_type": "markdown",
            "source": [
                "## Handle location"
            ],
            "metadata": {}
        },
        {
            "cell_type": "code",
            "execution_count": 20,
            "source": [
                "print('Total Unique Locations :',len(df.location.unique()))"
            ],
            "outputs": [
                {
                    "output_type": "stream",
                    "name": "stdout",
                    "text": [
                        "Total Unique Locations : 430\n"
                    ]
                }
            ],
            "metadata": {}
        },
        {
            "cell_type": "code",
            "execution_count": 21,
            "source": [
                "df.location.value_counts()[:10]"
            ],
            "outputs": [
                {
                    "output_type": "execute_result",
                    "data": {
                        "text/plain": [
                            "Delhi        1590\n",
                            "Bangalore     559\n",
                            "Mumbai        525\n",
                            "Hyderabad     332\n",
                            "New Delhi     249\n",
                            "Kolkata       190\n",
                            "Jaipur        181\n",
                            "Ahmedabad     174\n",
                            "Chennai       168\n",
                            "Pune          146\n",
                            "Name: location, dtype: int64"
                        ]
                    },
                    "metadata": {},
                    "execution_count": 21
                }
            ],
            "metadata": {}
        },
        {
            "cell_type": "code",
            "execution_count": 22,
            "source": [
                "# Let's merge new delhi with delhi\n",
                "df['location'] = df.location.str.replace('New Delhi','Delhi')"
            ],
            "outputs": [],
            "metadata": {}
        },
        {
            "cell_type": "code",
            "execution_count": 23,
            "source": [
                "df.location.value_counts()[:10]"
            ],
            "outputs": [
                {
                    "output_type": "execute_result",
                    "data": {
                        "text/plain": [
                            "Delhi        1839\n",
                            "Bangalore     559\n",
                            "Mumbai        525\n",
                            "Hyderabad     332\n",
                            "Kolkata       190\n",
                            "Jaipur        181\n",
                            "Ahmedabad     174\n",
                            "Chennai       168\n",
                            "Pune          146\n",
                            "Gurgaon        90\n",
                            "Name: location, dtype: int64"
                        ]
                    },
                    "metadata": {},
                    "execution_count": 23
                }
            ],
            "metadata": {}
        },
        {
            "cell_type": "markdown",
            "source": [
                "### Let's take only top 5 locations as our base categories and make others as 'other' category"
            ],
            "metadata": {}
        },
        {
            "cell_type": "code",
            "execution_count": 24,
            "source": [
                "top_locations = df.location.value_counts().index[:10]"
            ],
            "outputs": [],
            "metadata": {}
        },
        {
            "cell_type": "code",
            "execution_count": 25,
            "source": [
                "df['location'] = df.location.apply(lambda x: x if x in top_locations else 'other')"
            ],
            "outputs": [],
            "metadata": {}
        },
        {
            "cell_type": "code",
            "execution_count": 26,
            "source": [
                "df.sample(10)"
            ],
            "outputs": [
                {
                    "output_type": "execute_result",
                    "data": {
                        "text/html": [
                            "<div>\n",
                            "<style scoped>\n",
                            "    .dataframe tbody tr th:only-of-type {\n",
                            "        vertical-align: middle;\n",
                            "    }\n",
                            "\n",
                            "    .dataframe tbody tr th {\n",
                            "        vertical-align: top;\n",
                            "    }\n",
                            "\n",
                            "    .dataframe thead th {\n",
                            "        text-align: right;\n",
                            "    }\n",
                            "</style>\n",
                            "<table border=\"1\" class=\"dataframe\">\n",
                            "  <thead>\n",
                            "    <tr style=\"text-align: right;\">\n",
                            "      <th></th>\n",
                            "      <th>model_year</th>\n",
                            "      <th>kms_driven</th>\n",
                            "      <th>owner</th>\n",
                            "      <th>location</th>\n",
                            "      <th>price</th>\n",
                            "      <th>brand</th>\n",
                            "    </tr>\n",
                            "  </thead>\n",
                            "  <tbody>\n",
                            "    <tr>\n",
                            "      <th>3223</th>\n",
                            "      <td>2018</td>\n",
                            "      <td>44200.0</td>\n",
                            "      <td>1st</td>\n",
                            "      <td>Delhi</td>\n",
                            "      <td>44000.0</td>\n",
                            "      <td>TVS</td>\n",
                            "    </tr>\n",
                            "    <tr>\n",
                            "      <th>181</th>\n",
                            "      <td>2011</td>\n",
                            "      <td>8885.0</td>\n",
                            "      <td>1st</td>\n",
                            "      <td>other</td>\n",
                            "      <td>20000.0</td>\n",
                            "      <td>Bajaj</td>\n",
                            "    </tr>\n",
                            "    <tr>\n",
                            "      <th>4673</th>\n",
                            "      <td>2018</td>\n",
                            "      <td>3745.0</td>\n",
                            "      <td>1st</td>\n",
                            "      <td>other</td>\n",
                            "      <td>171700.0</td>\n",
                            "      <td>Royal Enfield</td>\n",
                            "    </tr>\n",
                            "    <tr>\n",
                            "      <th>3453</th>\n",
                            "      <td>2017</td>\n",
                            "      <td>26287.0</td>\n",
                            "      <td>1st</td>\n",
                            "      <td>Delhi</td>\n",
                            "      <td>78000.0</td>\n",
                            "      <td>TVS</td>\n",
                            "    </tr>\n",
                            "    <tr>\n",
                            "      <th>156</th>\n",
                            "      <td>2015</td>\n",
                            "      <td>45000.0</td>\n",
                            "      <td>1st</td>\n",
                            "      <td>other</td>\n",
                            "      <td>100000.0</td>\n",
                            "      <td>Royal Enfield</td>\n",
                            "    </tr>\n",
                            "    <tr>\n",
                            "      <th>4127</th>\n",
                            "      <td>2020</td>\n",
                            "      <td>4790.0</td>\n",
                            "      <td>1st</td>\n",
                            "      <td>other</td>\n",
                            "      <td>95000.0</td>\n",
                            "      <td>TVS</td>\n",
                            "    </tr>\n",
                            "    <tr>\n",
                            "      <th>1409</th>\n",
                            "      <td>2021</td>\n",
                            "      <td>10000.0</td>\n",
                            "      <td>1st</td>\n",
                            "      <td>other</td>\n",
                            "      <td>45000.0</td>\n",
                            "      <td>Honda</td>\n",
                            "    </tr>\n",
                            "    <tr>\n",
                            "      <th>5240</th>\n",
                            "      <td>2010</td>\n",
                            "      <td>4950.0</td>\n",
                            "      <td>1st</td>\n",
                            "      <td>Mumbai</td>\n",
                            "      <td>70000.0</td>\n",
                            "      <td>Royal Enfield</td>\n",
                            "    </tr>\n",
                            "    <tr>\n",
                            "      <th>617</th>\n",
                            "      <td>2017</td>\n",
                            "      <td>50000.0</td>\n",
                            "      <td>1st</td>\n",
                            "      <td>other</td>\n",
                            "      <td>40000.0</td>\n",
                            "      <td>Honda</td>\n",
                            "    </tr>\n",
                            "    <tr>\n",
                            "      <th>4749</th>\n",
                            "      <td>2017</td>\n",
                            "      <td>22000.0</td>\n",
                            "      <td>1st</td>\n",
                            "      <td>Jaipur</td>\n",
                            "      <td>40000.0</td>\n",
                            "      <td>Bajaj</td>\n",
                            "    </tr>\n",
                            "  </tbody>\n",
                            "</table>\n",
                            "</div>"
                        ],
                        "text/plain": [
                            "      model_year  kms_driven owner location     price          brand\n",
                            "3223        2018     44200.0   1st    Delhi   44000.0            TVS\n",
                            "181         2011      8885.0   1st    other   20000.0          Bajaj\n",
                            "4673        2018      3745.0   1st    other  171700.0  Royal Enfield\n",
                            "3453        2017     26287.0   1st    Delhi   78000.0            TVS\n",
                            "156         2015     45000.0   1st    other  100000.0  Royal Enfield\n",
                            "4127        2020      4790.0   1st    other   95000.0            TVS\n",
                            "1409        2021     10000.0   1st    other   45000.0          Honda\n",
                            "5240        2010      4950.0   1st   Mumbai   70000.0  Royal Enfield\n",
                            "617         2017     50000.0   1st    other   40000.0          Honda\n",
                            "4749        2017     22000.0   1st   Jaipur   40000.0          Bajaj"
                        ]
                    },
                    "metadata": {},
                    "execution_count": 26
                }
            ],
            "metadata": {}
        },
        {
            "cell_type": "code",
            "execution_count": 27,
            "source": [
                "# Recorder the column\n",
                "# new_order = ['brand','model_year','kms_driven','owner','location','price']\n",
                "new_order = [5,0,1,2,3,4]\n",
                "df = df[df.columns[new_order]]"
            ],
            "outputs": [],
            "metadata": {}
        },
        {
            "cell_type": "code",
            "execution_count": 28,
            "source": [
                "df.sample()"
            ],
            "outputs": [
                {
                    "output_type": "execute_result",
                    "data": {
                        "text/html": [
                            "<div>\n",
                            "<style scoped>\n",
                            "    .dataframe tbody tr th:only-of-type {\n",
                            "        vertical-align: middle;\n",
                            "    }\n",
                            "\n",
                            "    .dataframe tbody tr th {\n",
                            "        vertical-align: top;\n",
                            "    }\n",
                            "\n",
                            "    .dataframe thead th {\n",
                            "        text-align: right;\n",
                            "    }\n",
                            "</style>\n",
                            "<table border=\"1\" class=\"dataframe\">\n",
                            "  <thead>\n",
                            "    <tr style=\"text-align: right;\">\n",
                            "      <th></th>\n",
                            "      <th>brand</th>\n",
                            "      <th>model_year</th>\n",
                            "      <th>kms_driven</th>\n",
                            "      <th>owner</th>\n",
                            "      <th>location</th>\n",
                            "      <th>price</th>\n",
                            "    </tr>\n",
                            "  </thead>\n",
                            "  <tbody>\n",
                            "    <tr>\n",
                            "      <th>138</th>\n",
                            "      <td>Suzuki</td>\n",
                            "      <td>2019</td>\n",
                            "      <td>7500.0</td>\n",
                            "      <td>1st</td>\n",
                            "      <td>Bangalore</td>\n",
                            "      <td>70000.0</td>\n",
                            "    </tr>\n",
                            "  </tbody>\n",
                            "</table>\n",
                            "</div>"
                        ],
                        "text/plain": [
                            "      brand  model_year  kms_driven owner   location    price\n",
                            "138  Suzuki        2019      7500.0   1st  Bangalore  70000.0"
                        ]
                    },
                    "metadata": {},
                    "execution_count": 28
                }
            ],
            "metadata": {}
        },
        {
            "cell_type": "code",
            "execution_count": 29,
            "source": [
                "# make the price,model_year as int data type\n",
                "df['price'] = df['price'].astype(int)\n",
                "df['model_year'] = df['model_year'].astype(int)\n",
                "df['kms_driven'] = df['kms_driven'].astype(int)"
            ],
            "outputs": [],
            "metadata": {}
        },
        {
            "cell_type": "markdown",
            "source": [
                "### Build age feature using model_year"
            ],
            "metadata": {}
        },
        {
            "cell_type": "code",
            "execution_count": 30,
            "source": [
                "import datetime\n",
                "current_year = datetime.date.today().year\n",
                "\n",
                "df['model_age'] = df.model_year.apply(lambda x: current_year - x)"
            ],
            "outputs": [],
            "metadata": {}
        },
        {
            "cell_type": "code",
            "execution_count": 31,
            "source": [
                "df.head()"
            ],
            "outputs": [
                {
                    "output_type": "execute_result",
                    "data": {
                        "text/html": [
                            "<div>\n",
                            "<style scoped>\n",
                            "    .dataframe tbody tr th:only-of-type {\n",
                            "        vertical-align: middle;\n",
                            "    }\n",
                            "\n",
                            "    .dataframe tbody tr th {\n",
                            "        vertical-align: top;\n",
                            "    }\n",
                            "\n",
                            "    .dataframe thead th {\n",
                            "        text-align: right;\n",
                            "    }\n",
                            "</style>\n",
                            "<table border=\"1\" class=\"dataframe\">\n",
                            "  <thead>\n",
                            "    <tr style=\"text-align: right;\">\n",
                            "      <th></th>\n",
                            "      <th>brand</th>\n",
                            "      <th>model_year</th>\n",
                            "      <th>kms_driven</th>\n",
                            "      <th>owner</th>\n",
                            "      <th>location</th>\n",
                            "      <th>price</th>\n",
                            "      <th>model_age</th>\n",
                            "    </tr>\n",
                            "  </thead>\n",
                            "  <tbody>\n",
                            "    <tr>\n",
                            "      <th>0</th>\n",
                            "      <td>Hero</td>\n",
                            "      <td>2014</td>\n",
                            "      <td>26916</td>\n",
                            "      <td>1st</td>\n",
                            "      <td>other</td>\n",
                            "      <td>40000</td>\n",
                            "      <td>7</td>\n",
                            "    </tr>\n",
                            "    <tr>\n",
                            "      <th>1</th>\n",
                            "      <td>Bajaj</td>\n",
                            "      <td>2017</td>\n",
                            "      <td>8500</td>\n",
                            "      <td>1st</td>\n",
                            "      <td>Mumbai</td>\n",
                            "      <td>90000</td>\n",
                            "      <td>4</td>\n",
                            "    </tr>\n",
                            "    <tr>\n",
                            "      <th>2</th>\n",
                            "      <td>Bajaj</td>\n",
                            "      <td>2011</td>\n",
                            "      <td>40000</td>\n",
                            "      <td>1st</td>\n",
                            "      <td>Kolkata</td>\n",
                            "      <td>25000</td>\n",
                            "      <td>10</td>\n",
                            "    </tr>\n",
                            "    <tr>\n",
                            "      <th>3</th>\n",
                            "      <td>Hero</td>\n",
                            "      <td>2011</td>\n",
                            "      <td>40000</td>\n",
                            "      <td>1st</td>\n",
                            "      <td>Bangalore</td>\n",
                            "      <td>30000</td>\n",
                            "      <td>10</td>\n",
                            "    </tr>\n",
                            "    <tr>\n",
                            "      <th>4</th>\n",
                            "      <td>Bajaj</td>\n",
                            "      <td>2018</td>\n",
                            "      <td>18000</td>\n",
                            "      <td>1st</td>\n",
                            "      <td>other</td>\n",
                            "      <td>41000</td>\n",
                            "      <td>3</td>\n",
                            "    </tr>\n",
                            "  </tbody>\n",
                            "</table>\n",
                            "</div>"
                        ],
                        "text/plain": [
                            "   brand  model_year  kms_driven owner   location  price  model_age\n",
                            "0   Hero        2014       26916   1st      other  40000          7\n",
                            "1  Bajaj        2017        8500   1st     Mumbai  90000          4\n",
                            "2  Bajaj        2011       40000   1st    Kolkata  25000         10\n",
                            "3   Hero        2011       40000   1st  Bangalore  30000         10\n",
                            "4  Bajaj        2018       18000   1st      other  41000          3"
                        ]
                    },
                    "metadata": {},
                    "execution_count": 31
                }
            ],
            "metadata": {}
        },
        {
            "cell_type": "code",
            "execution_count": 32,
            "source": [
                "df.info()"
            ],
            "outputs": [
                {
                    "output_type": "stream",
                    "name": "stdout",
                    "text": [
                        "<class 'pandas.core.frame.DataFrame'>\n",
                        "RangeIndex: 5504 entries, 0 to 5503\n",
                        "Data columns (total 7 columns):\n",
                        " #   Column      Non-Null Count  Dtype \n",
                        "---  ------      --------------  ----- \n",
                        " 0   brand       5504 non-null   object\n",
                        " 1   model_year  5504 non-null   int64 \n",
                        " 2   kms_driven  5504 non-null   int64 \n",
                        " 3   owner       5504 non-null   object\n",
                        " 4   location    5504 non-null   object\n",
                        " 5   price       5504 non-null   int64 \n",
                        " 6   model_age   5504 non-null   int64 \n",
                        "dtypes: int64(4), object(3)\n",
                        "memory usage: 301.1+ KB\n"
                    ]
                }
            ],
            "metadata": {}
        },
        {
            "cell_type": "markdown",
            "source": [
                "## Outlier Detection"
            ],
            "metadata": {}
        },
        {
            "cell_type": "code",
            "execution_count": 33,
            "source": [
                "def box_plot(df):\n",
                "    numeric_columns = df.select_dtypes(include=np.number).columns.tolist()\n",
                "\n",
                "    # outlier detection using boxplot\n",
                "    plt.figure(figsize=(20,30))\n",
                "\n",
                "    for i, variable in enumerate(numeric_columns):\n",
                "        plt.subplot(5,4,i+1)\n",
                "        plt.boxplot(df[variable],whis=1.5)\n",
                "        plt.tight_layout()\n",
                "        plt.title(variable)\n",
                "\n",
                "    plt.show()\n",
                "\n",
                "box_plot(df)"
            ],
            "outputs": [
                {
                    "output_type": "display_data",
                    "data": {
                        "image/png": "[encoded data removed]",
                        "text/plain": [
                            "<Figure size 1440x2160 with 4 Axes>"
                        ]
                    },
                    "metadata": {
                        "needs_background": "light"
                    }
                }
            ],
            "metadata": {}
        },
        {
            "cell_type": "code",
            "execution_count": 34,
            "source": [
                "new_df = df[(df['kms_driven'] <= 50000) & (df['kms_driven'] > 5000)]"
            ],
            "outputs": [],
            "metadata": {}
        },
        {
            "cell_type": "code",
            "execution_count": 35,
            "source": [
                "new_df = new_df[(new_df['price'] >= 10000) & (new_df['price'] <= 1.5e6)]"
            ],
            "outputs": [],
            "metadata": {}
        },
        {
            "cell_type": "code",
            "execution_count": 36,
            "source": [
                "new_df = new_df[new_df['model_year'] >= 2000]\n",
                "new_df.shape"
            ],
            "outputs": [
                {
                    "output_type": "execute_result",
                    "data": {
                        "text/plain": [
                            "(4132, 7)"
                        ]
                    },
                    "metadata": {},
                    "execution_count": 36
                }
            ],
            "metadata": {}
        },
        {
            "cell_type": "code",
            "execution_count": 37,
            "source": [
                "box_plot(new_df)"
            ],
            "outputs": [
                {
                    "output_type": "display_data",
                    "data": {
                        "image/png": "[encoded data removed]",
                        "text/plain": [
                            "<Figure size 1440x2160 with 4 Axes>"
                        ]
                    },
                    "metadata": {
                        "needs_background": "light"
                    }
                }
            ],
            "metadata": {}
        },
        {
            "cell_type": "code",
            "execution_count": 38,
            "source": [
                "new_df.describe()"
            ],
            "outputs": [
                {
                    "output_type": "execute_result",
                    "data": {
                        "text/html": [
                            "<div>\n",
                            "<style scoped>\n",
                            "    .dataframe tbody tr th:only-of-type {\n",
                            "        vertical-align: middle;\n",
                            "    }\n",
                            "\n",
                            "    .dataframe tbody tr th {\n",
                            "        vertical-align: top;\n",
                            "    }\n",
                            "\n",
                            "    .dataframe thead th {\n",
                            "        text-align: right;\n",
                            "    }\n",
                            "</style>\n",
                            "<table border=\"1\" class=\"dataframe\">\n",
                            "  <thead>\n",
                            "    <tr style=\"text-align: right;\">\n",
                            "      <th></th>\n",
                            "      <th>model_year</th>\n",
                            "      <th>kms_driven</th>\n",
                            "      <th>price</th>\n",
                            "      <th>model_age</th>\n",
                            "    </tr>\n",
                            "  </thead>\n",
                            "  <tbody>\n",
                            "    <tr>\n",
                            "      <th>count</th>\n",
                            "      <td>4132.000000</td>\n",
                            "      <td>4132.000000</td>\n",
                            "      <td>4.132000e+03</td>\n",
                            "      <td>4132.000000</td>\n",
                            "    </tr>\n",
                            "    <tr>\n",
                            "      <th>mean</th>\n",
                            "      <td>2016.447483</td>\n",
                            "      <td>22966.928122</td>\n",
                            "      <td>7.371314e+04</td>\n",
                            "      <td>4.552517</td>\n",
                            "    </tr>\n",
                            "    <tr>\n",
                            "      <th>std</th>\n",
                            "      <td>2.992187</td>\n",
                            "      <td>12101.734389</td>\n",
                            "      <td>8.023525e+04</td>\n",
                            "      <td>2.992187</td>\n",
                            "    </tr>\n",
                            "    <tr>\n",
                            "      <th>min</th>\n",
                            "      <td>2000.000000</td>\n",
                            "      <td>5100.000000</td>\n",
                            "      <td>1.000000e+04</td>\n",
                            "      <td>0.000000</td>\n",
                            "    </tr>\n",
                            "    <tr>\n",
                            "      <th>25%</th>\n",
                            "      <td>2015.000000</td>\n",
                            "      <td>12652.500000</td>\n",
                            "      <td>3.500000e+04</td>\n",
                            "      <td>3.000000</td>\n",
                            "    </tr>\n",
                            "    <tr>\n",
                            "      <th>50%</th>\n",
                            "      <td>2017.000000</td>\n",
                            "      <td>21000.000000</td>\n",
                            "      <td>5.500000e+04</td>\n",
                            "      <td>4.000000</td>\n",
                            "    </tr>\n",
                            "    <tr>\n",
                            "      <th>75%</th>\n",
                            "      <td>2018.000000</td>\n",
                            "      <td>31511.750000</td>\n",
                            "      <td>9.000000e+04</td>\n",
                            "      <td>6.000000</td>\n",
                            "    </tr>\n",
                            "    <tr>\n",
                            "      <th>max</th>\n",
                            "      <td>2021.000000</td>\n",
                            "      <td>50000.000000</td>\n",
                            "      <td>1.369500e+06</td>\n",
                            "      <td>21.000000</td>\n",
                            "    </tr>\n",
                            "  </tbody>\n",
                            "</table>\n",
                            "</div>"
                        ],
                        "text/plain": [
                            "        model_year    kms_driven         price    model_age\n",
                            "count  4132.000000   4132.000000  4.132000e+03  4132.000000\n",
                            "mean   2016.447483  22966.928122  7.371314e+04     4.552517\n",
                            "std       2.992187  12101.734389  8.023525e+04     2.992187\n",
                            "min    2000.000000   5100.000000  1.000000e+04     0.000000\n",
                            "25%    2015.000000  12652.500000  3.500000e+04     3.000000\n",
                            "50%    2017.000000  21000.000000  5.500000e+04     4.000000\n",
                            "75%    2018.000000  31511.750000  9.000000e+04     6.000000\n",
                            "max    2021.000000  50000.000000  1.369500e+06    21.000000"
                        ]
                    },
                    "metadata": {},
                    "execution_count": 38
                }
            ],
            "metadata": {}
        },
        {
            "cell_type": "code",
            "execution_count": 39,
            "source": [
                "new_df.shape"
            ],
            "outputs": [
                {
                    "output_type": "execute_result",
                    "data": {
                        "text/plain": [
                            "(4132, 7)"
                        ]
                    },
                    "metadata": {},
                    "execution_count": 39
                }
            ],
            "metadata": {}
        },
        {
            "cell_type": "code",
            "execution_count": 40,
            "source": [
                "## Save the processed data\n",
                "df = new_df\n",
                "df.to_csv('../data/processed/processed.csv',index=False)"
            ],
            "outputs": [],
            "metadata": {}
        }
    ],
    "metadata": {
        "orig_nbformat": 4,
        "language_info": {
            "name": "python",
            "version": "3.8.8",
            "mimetype": "text/x-python",
            "codemirror_mode": {
                "name": "ipython",
                "version": 3
            },
            "pygments_lexer": "ipython3",
            "nbconvert_exporter": "python",
            "file_extension": ".py"
        },
        "kernelspec": {
            "name": "python3",
            "display_name": "Python 3.8.8 64-bit ('base': conda)"
        },
        "interpreter": {
            "hash": "d213f6e5b8fd7d14bb00958cfb5f51bfe315e9248ff051fde0d0d79c3d0f4eba"
        }
    },
    "nbformat": 4,
    "nbformat_minor": 2
}