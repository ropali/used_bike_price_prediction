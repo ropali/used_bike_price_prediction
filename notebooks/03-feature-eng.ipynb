{
    "cells": [
        {
            "cell_type": "code",
            "execution_count": 45,
            "source": [
                "import pandas as pd\n",
                "import numpy as np\n",
                "import matplotlib.pyplot as plt\n",
                "import seaborn as sns"
            ],
            "outputs": [],
            "metadata": {}
        },
        {
            "cell_type": "code",
            "execution_count": 46,
            "source": [
                "df = pd.read_csv('../data/processed/data.csv')"
            ],
            "outputs": [],
            "metadata": {}
        },
        {
            "cell_type": "code",
            "execution_count": 47,
            "source": [
                "df.shape"
            ],
            "outputs": [
                {
                    "output_type": "execute_result",
                    "data": {
                        "text/plain": [
                            "(8807, 8)"
                        ]
                    },
                    "metadata": {},
                    "execution_count": 47
                }
            ],
            "metadata": {}
        },
        {
            "cell_type": "code",
            "execution_count": 48,
            "source": [
                "df.head()"
            ],
            "outputs": [
                {
                    "output_type": "execute_result",
                    "data": {
                        "text/html": [
                            "<div>\n",
                            "<style scoped>\n",
                            "    .dataframe tbody tr th:only-of-type {\n",
                            "        vertical-align: middle;\n",
                            "    }\n",
                            "\n",
                            "    .dataframe tbody tr th {\n",
                            "        vertical-align: top;\n",
                            "    }\n",
                            "\n",
                            "    .dataframe thead th {\n",
                            "        text-align: right;\n",
                            "    }\n",
                            "</style>\n",
                            "<table border=\"1\" class=\"dataframe\">\n",
                            "  <thead>\n",
                            "    <tr style=\"text-align: right;\">\n",
                            "      <th></th>\n",
                            "      <th>model_name</th>\n",
                            "      <th>model_year</th>\n",
                            "      <th>kms_driven</th>\n",
                            "      <th>owner</th>\n",
                            "      <th>location</th>\n",
                            "      <th>mileage</th>\n",
                            "      <th>power</th>\n",
                            "      <th>price</th>\n",
                            "    </tr>\n",
                            "  </thead>\n",
                            "  <tbody>\n",
                            "    <tr>\n",
                            "      <th>0</th>\n",
                            "      <td>Royal Enfield Bullet Electra 350cc 2011</td>\n",
                            "      <td>2011</td>\n",
                            "      <td>38998.0</td>\n",
                            "      <td>first</td>\n",
                            "      <td>bangalore</td>\n",
                            "      <td>40.0</td>\n",
                            "      <td>19.80</td>\n",
                            "      <td>95000.0</td>\n",
                            "    </tr>\n",
                            "    <tr>\n",
                            "      <th>1</th>\n",
                            "      <td>Jawa Perak 330cc 2020</td>\n",
                            "      <td>2020</td>\n",
                            "      <td>2000.0</td>\n",
                            "      <td>first</td>\n",
                            "      <td>bangalore</td>\n",
                            "      <td>NaN</td>\n",
                            "      <td>30.00</td>\n",
                            "      <td>197500.0</td>\n",
                            "    </tr>\n",
                            "    <tr>\n",
                            "      <th>2</th>\n",
                            "      <td>Hero CD Dawn 100cc 2005</td>\n",
                            "      <td>2005</td>\n",
                            "      <td>28000.0</td>\n",
                            "      <td>first</td>\n",
                            "      <td>ghaziabad</td>\n",
                            "      <td>72.0</td>\n",
                            "      <td>7.00</td>\n",
                            "      <td>9000.0</td>\n",
                            "    </tr>\n",
                            "    <tr>\n",
                            "      <th>3</th>\n",
                            "      <td>KTM Duke 200cc 2012</td>\n",
                            "      <td>2012</td>\n",
                            "      <td>24561.0</td>\n",
                            "      <td>third</td>\n",
                            "      <td>bangalore</td>\n",
                            "      <td>35.0</td>\n",
                            "      <td>25.00</td>\n",
                            "      <td>63400.0</td>\n",
                            "    </tr>\n",
                            "    <tr>\n",
                            "      <th>4</th>\n",
                            "      <td>TVS Apache RTR 200 4V Dual Channel ABS BS6 2020</td>\n",
                            "      <td>2020</td>\n",
                            "      <td>NaN</td>\n",
                            "      <td>first</td>\n",
                            "      <td>hyderabad</td>\n",
                            "      <td>40.0</td>\n",
                            "      <td>20.21</td>\n",
                            "      <td>130500.0</td>\n",
                            "    </tr>\n",
                            "  </tbody>\n",
                            "</table>\n",
                            "</div>"
                        ],
                        "text/plain": [
                            "                                        model_name  model_year  kms_driven  \\\n",
                            "0          Royal Enfield Bullet Electra 350cc 2011        2011     38998.0   \n",
                            "1                            Jawa Perak 330cc 2020        2020      2000.0   \n",
                            "2                          Hero CD Dawn 100cc 2005        2005     28000.0   \n",
                            "3                              KTM Duke 200cc 2012        2012     24561.0   \n",
                            "4  TVS Apache RTR 200 4V Dual Channel ABS BS6 2020        2020         NaN   \n",
                            "\n",
                            "    owner   location  mileage  power     price  \n",
                            "0  first   bangalore     40.0  19.80   95000.0  \n",
                            "1  first   bangalore      NaN  30.00  197500.0  \n",
                            "2  first   ghaziabad     72.0   7.00    9000.0  \n",
                            "3  third   bangalore     35.0  25.00   63400.0  \n",
                            "4  first   hyderabad     40.0  20.21  130500.0  "
                        ]
                    },
                    "metadata": {},
                    "execution_count": 48
                }
            ],
            "metadata": {}
        },
        {
            "cell_type": "code",
            "execution_count": 49,
            "source": [
                "df.describe()"
            ],
            "outputs": [
                {
                    "output_type": "execute_result",
                    "data": {
                        "text/html": [
                            "<div>\n",
                            "<style scoped>\n",
                            "    .dataframe tbody tr th:only-of-type {\n",
                            "        vertical-align: middle;\n",
                            "    }\n",
                            "\n",
                            "    .dataframe tbody tr th {\n",
                            "        vertical-align: top;\n",
                            "    }\n",
                            "\n",
                            "    .dataframe thead th {\n",
                            "        text-align: right;\n",
                            "    }\n",
                            "</style>\n",
                            "<table border=\"1\" class=\"dataframe\">\n",
                            "  <thead>\n",
                            "    <tr style=\"text-align: right;\">\n",
                            "      <th></th>\n",
                            "      <th>model_year</th>\n",
                            "      <th>kms_driven</th>\n",
                            "      <th>mileage</th>\n",
                            "      <th>power</th>\n",
                            "      <th>price</th>\n",
                            "    </tr>\n",
                            "  </thead>\n",
                            "  <tbody>\n",
                            "    <tr>\n",
                            "      <th>count</th>\n",
                            "      <td>8807.000000</td>\n",
                            "      <td>6447.000000</td>\n",
                            "      <td>7764.000000</td>\n",
                            "      <td>8320.000000</td>\n",
                            "      <td>8.772000e+03</td>\n",
                            "    </tr>\n",
                            "    <tr>\n",
                            "      <th>mean</th>\n",
                            "      <td>2015.296923</td>\n",
                            "      <td>24227.728711</td>\n",
                            "      <td>46.468465</td>\n",
                            "      <td>18.857073</td>\n",
                            "      <td>8.458634e+04</td>\n",
                            "    </tr>\n",
                            "    <tr>\n",
                            "      <th>std</th>\n",
                            "      <td>3.780764</td>\n",
                            "      <td>30137.639084</td>\n",
                            "      <td>16.616913</td>\n",
                            "      <td>8.860959</td>\n",
                            "      <td>7.774293e+04</td>\n",
                            "    </tr>\n",
                            "    <tr>\n",
                            "      <th>min</th>\n",
                            "      <td>1950.000000</td>\n",
                            "      <td>0.000000</td>\n",
                            "      <td>5.000000</td>\n",
                            "      <td>7.000000</td>\n",
                            "      <td>2.000000e+03</td>\n",
                            "    </tr>\n",
                            "    <tr>\n",
                            "      <th>25%</th>\n",
                            "      <td>2014.000000</td>\n",
                            "      <td>9500.000000</td>\n",
                            "      <td>35.000000</td>\n",
                            "      <td>14.000000</td>\n",
                            "      <td>4.000000e+04</td>\n",
                            "    </tr>\n",
                            "    <tr>\n",
                            "      <th>50%</th>\n",
                            "      <td>2016.000000</td>\n",
                            "      <td>18000.000000</td>\n",
                            "      <td>40.000000</td>\n",
                            "      <td>19.000000</td>\n",
                            "      <td>7.000000e+04</td>\n",
                            "    </tr>\n",
                            "    <tr>\n",
                            "      <th>75%</th>\n",
                            "      <td>2018.000000</td>\n",
                            "      <td>30000.000000</td>\n",
                            "      <td>58.000000</td>\n",
                            "      <td>21.000000</td>\n",
                            "      <td>1.150000e+05</td>\n",
                            "    </tr>\n",
                            "    <tr>\n",
                            "      <th>max</th>\n",
                            "      <td>2021.000000</td>\n",
                            "      <td>1000000.000000</td>\n",
                            "      <td>104.000000</td>\n",
                            "      <td>197.300000</td>\n",
                            "      <td>3.000000e+06</td>\n",
                            "    </tr>\n",
                            "  </tbody>\n",
                            "</table>\n",
                            "</div>"
                        ],
                        "text/plain": [
                            "        model_year      kms_driven      mileage        power         price\n",
                            "count  8807.000000     6447.000000  7764.000000  8320.000000  8.772000e+03\n",
                            "mean   2015.296923    24227.728711    46.468465    18.857073  8.458634e+04\n",
                            "std       3.780764    30137.639084    16.616913     8.860959  7.774293e+04\n",
                            "min    1950.000000        0.000000     5.000000     7.000000  2.000000e+03\n",
                            "25%    2014.000000     9500.000000    35.000000    14.000000  4.000000e+04\n",
                            "50%    2016.000000    18000.000000    40.000000    19.000000  7.000000e+04\n",
                            "75%    2018.000000    30000.000000    58.000000    21.000000  1.150000e+05\n",
                            "max    2021.000000  1000000.000000   104.000000   197.300000  3.000000e+06"
                        ]
                    },
                    "metadata": {},
                    "execution_count": 49
                }
            ],
            "metadata": {}
        },
        {
            "cell_type": "markdown",
            "source": [
                "# Handle model_name"
            ],
            "metadata": {}
        },
        {
            "cell_type": "markdown",
            "source": [
                "### There are too many models, let try to create a brand category using the model name."
            ],
            "metadata": {}
        },
        {
            "cell_type": "code",
            "execution_count": 50,
            "source": [
                "df['brand'] = df['model_name'].apply(lambda x: ' '.join(x.split()[:1]))"
            ],
            "outputs": [],
            "metadata": {}
        },
        {
            "cell_type": "code",
            "execution_count": 51,
            "source": [
                "df.sample(5)"
            ],
            "outputs": [
                {
                    "output_type": "execute_result",
                    "data": {
                        "text/html": [
                            "<div>\n",
                            "<style scoped>\n",
                            "    .dataframe tbody tr th:only-of-type {\n",
                            "        vertical-align: middle;\n",
                            "    }\n",
                            "\n",
                            "    .dataframe tbody tr th {\n",
                            "        vertical-align: top;\n",
                            "    }\n",
                            "\n",
                            "    .dataframe thead th {\n",
                            "        text-align: right;\n",
                            "    }\n",
                            "</style>\n",
                            "<table border=\"1\" class=\"dataframe\">\n",
                            "  <thead>\n",
                            "    <tr style=\"text-align: right;\">\n",
                            "      <th></th>\n",
                            "      <th>model_name</th>\n",
                            "      <th>model_year</th>\n",
                            "      <th>kms_driven</th>\n",
                            "      <th>owner</th>\n",
                            "      <th>location</th>\n",
                            "      <th>mileage</th>\n",
                            "      <th>power</th>\n",
                            "      <th>price</th>\n",
                            "      <th>brand</th>\n",
                            "    </tr>\n",
                            "  </thead>\n",
                            "  <tbody>\n",
                            "    <tr>\n",
                            "      <th>8684</th>\n",
                            "      <td>Bajaj Avenger 220cc 2015</td>\n",
                            "      <td>2015</td>\n",
                            "      <td>17000.0</td>\n",
                            "      <td>second</td>\n",
                            "      <td>bangalore</td>\n",
                            "      <td>40.0</td>\n",
                            "      <td>19.0</td>\n",
                            "      <td>65000.0</td>\n",
                            "      <td>Bajaj</td>\n",
                            "    </tr>\n",
                            "    <tr>\n",
                            "      <th>3316</th>\n",
                            "      <td>Royal Enfield Thunderbird 500cc 2017</td>\n",
                            "      <td>2017</td>\n",
                            "      <td>6100.0</td>\n",
                            "      <td>first</td>\n",
                            "      <td>delhi</td>\n",
                            "      <td>25.0</td>\n",
                            "      <td>27.2</td>\n",
                            "      <td>160000.0</td>\n",
                            "      <td>Royal</td>\n",
                            "    </tr>\n",
                            "    <tr>\n",
                            "      <th>5205</th>\n",
                            "      <td>Honda CBF Stunner 125cc 2012</td>\n",
                            "      <td>2012</td>\n",
                            "      <td>NaN</td>\n",
                            "      <td>first</td>\n",
                            "      <td>faridabad</td>\n",
                            "      <td>65.0</td>\n",
                            "      <td>11.0</td>\n",
                            "      <td>30000.0</td>\n",
                            "      <td>Honda</td>\n",
                            "    </tr>\n",
                            "    <tr>\n",
                            "      <th>7327</th>\n",
                            "      <td>Bajaj Discover 125cc Disc 2018</td>\n",
                            "      <td>2018</td>\n",
                            "      <td>10000.0</td>\n",
                            "      <td>first</td>\n",
                            "      <td>delhi</td>\n",
                            "      <td>65.0</td>\n",
                            "      <td>10.9</td>\n",
                            "      <td>45000.0</td>\n",
                            "      <td>Bajaj</td>\n",
                            "    </tr>\n",
                            "    <tr>\n",
                            "      <th>5229</th>\n",
                            "      <td>Royal Enfield Bullet 350cc KS EFI Black BS6 2020</td>\n",
                            "      <td>2020</td>\n",
                            "      <td>NaN</td>\n",
                            "      <td>first</td>\n",
                            "      <td>ahmedabad</td>\n",
                            "      <td>37.0</td>\n",
                            "      <td>19.8</td>\n",
                            "      <td>165000.0</td>\n",
                            "      <td>Royal</td>\n",
                            "    </tr>\n",
                            "  </tbody>\n",
                            "</table>\n",
                            "</div>"
                        ],
                        "text/plain": [
                            "                                            model_name  model_year  \\\n",
                            "8684                          Bajaj Avenger 220cc 2015        2015   \n",
                            "3316              Royal Enfield Thunderbird 500cc 2017        2017   \n",
                            "5205                      Honda CBF Stunner 125cc 2012        2012   \n",
                            "7327                    Bajaj Discover 125cc Disc 2018        2018   \n",
                            "5229  Royal Enfield Bullet 350cc KS EFI Black BS6 2020        2020   \n",
                            "\n",
                            "      kms_driven    owner   location  mileage  power     price  brand  \n",
                            "8684     17000.0  second   bangalore     40.0   19.0   65000.0  Bajaj  \n",
                            "3316      6100.0   first       delhi     25.0   27.2  160000.0  Royal  \n",
                            "5205         NaN   first   faridabad     65.0   11.0   30000.0  Honda  \n",
                            "7327     10000.0   first       delhi     65.0   10.9   45000.0  Bajaj  \n",
                            "5229         NaN   first   ahmedabad     37.0   19.8  165000.0  Royal  "
                        ]
                    },
                    "metadata": {},
                    "execution_count": 51
                }
            ],
            "metadata": {}
        },
        {
            "cell_type": "code",
            "execution_count": 52,
            "source": [
                "df.brand.value_counts()"
            ],
            "outputs": [
                {
                    "output_type": "execute_result",
                    "data": {
                        "text/plain": [
                            "Bajaj               2488\n",
                            "Royal               1964\n",
                            "Hero                 997\n",
                            "Yamaha               893\n",
                            "TVS                  675\n",
                            "Honda                623\n",
                            "KTM                  591\n",
                            "Suzuki               256\n",
                            "UM                   135\n",
                            "Jawa                  54\n",
                            "Mahindra              38\n",
                            "Harley-Davidson       34\n",
                            "Hyosung               14\n",
                            "Husqvarna             13\n",
                            "Benelli                7\n",
                            "Kawasaki               7\n",
                            "BenelliImperiale       6\n",
                            "Fb                     4\n",
                            "Ducati                 3\n",
                            "Triumph                2\n",
                            "BMW                    1\n",
                            "yamaha                 1\n",
                            "MV                     1\n",
                            "Name: brand, dtype: int64"
                        ]
                    },
                    "metadata": {},
                    "execution_count": 52
                }
            ],
            "metadata": {}
        },
        {
            "cell_type": "markdown",
            "source": [
                "### We can also extract the engine details as cc from model_name"
            ],
            "metadata": {}
        },
        {
            "cell_type": "code",
            "execution_count": 53,
            "source": [
                "import re\n",
                "def extract_cc(val):\n",
                "    match =  re.search(r\"\\d{2,}(cc)\", val) \n",
                "    if match:\n",
                "        return match.group().replace('cc','')\n",
                "    else:\n",
                "        return None\n",
                "    \n",
                "\n",
                "df['engine'] = df['model_name'].apply(extract_cc)"
            ],
            "outputs": [],
            "metadata": {}
        },
        {
            "cell_type": "code",
            "execution_count": 54,
            "source": [
                "df.sample(5)"
            ],
            "outputs": [
                {
                    "output_type": "execute_result",
                    "data": {
                        "text/html": [
                            "<div>\n",
                            "<style scoped>\n",
                            "    .dataframe tbody tr th:only-of-type {\n",
                            "        vertical-align: middle;\n",
                            "    }\n",
                            "\n",
                            "    .dataframe tbody tr th {\n",
                            "        vertical-align: top;\n",
                            "    }\n",
                            "\n",
                            "    .dataframe thead th {\n",
                            "        text-align: right;\n",
                            "    }\n",
                            "</style>\n",
                            "<table border=\"1\" class=\"dataframe\">\n",
                            "  <thead>\n",
                            "    <tr style=\"text-align: right;\">\n",
                            "      <th></th>\n",
                            "      <th>model_name</th>\n",
                            "      <th>model_year</th>\n",
                            "      <th>kms_driven</th>\n",
                            "      <th>owner</th>\n",
                            "      <th>location</th>\n",
                            "      <th>mileage</th>\n",
                            "      <th>power</th>\n",
                            "      <th>price</th>\n",
                            "      <th>brand</th>\n",
                            "      <th>engine</th>\n",
                            "    </tr>\n",
                            "  </thead>\n",
                            "  <tbody>\n",
                            "    <tr>\n",
                            "      <th>5760</th>\n",
                            "      <td>Bajaj Pulsar NS160 Rear Disc ABS 2019</td>\n",
                            "      <td>2019</td>\n",
                            "      <td>500.0</td>\n",
                            "      <td>first</td>\n",
                            "      <td>delhi</td>\n",
                            "      <td>NaN</td>\n",
                            "      <td>NaN</td>\n",
                            "      <td>100000.0</td>\n",
                            "      <td>Bajaj</td>\n",
                            "      <td>None</td>\n",
                            "    </tr>\n",
                            "    <tr>\n",
                            "      <th>1895</th>\n",
                            "      <td>Royal Enfield Classic 350cc 2013</td>\n",
                            "      <td>2013</td>\n",
                            "      <td>20000.0</td>\n",
                            "      <td>first</td>\n",
                            "      <td>madurai</td>\n",
                            "      <td>35.0</td>\n",
                            "      <td>19.8</td>\n",
                            "      <td>97000.0</td>\n",
                            "      <td>Royal</td>\n",
                            "      <td>350</td>\n",
                            "    </tr>\n",
                            "    <tr>\n",
                            "      <th>5270</th>\n",
                            "      <td>Royal Enfield Classic 350cc 2015</td>\n",
                            "      <td>2015</td>\n",
                            "      <td>23000.0</td>\n",
                            "      <td>first</td>\n",
                            "      <td>bhubaneshwar</td>\n",
                            "      <td>35.0</td>\n",
                            "      <td>19.8</td>\n",
                            "      <td>115000.0</td>\n",
                            "      <td>Royal</td>\n",
                            "      <td>350</td>\n",
                            "    </tr>\n",
                            "    <tr>\n",
                            "      <th>7375</th>\n",
                            "      <td>Royal Enfield Bullet 350cc 2016</td>\n",
                            "      <td>2016</td>\n",
                            "      <td>23544.0</td>\n",
                            "      <td>first</td>\n",
                            "      <td>gurgaon</td>\n",
                            "      <td>37.0</td>\n",
                            "      <td>19.8</td>\n",
                            "      <td>90000.0</td>\n",
                            "      <td>Royal</td>\n",
                            "      <td>350</td>\n",
                            "    </tr>\n",
                            "    <tr>\n",
                            "      <th>411</th>\n",
                            "      <td>Honda CB Shine 125cc 2011</td>\n",
                            "      <td>2011</td>\n",
                            "      <td>NaN</td>\n",
                            "      <td>first</td>\n",
                            "      <td>vadodara</td>\n",
                            "      <td>65.0</td>\n",
                            "      <td>10.0</td>\n",
                            "      <td>25000.0</td>\n",
                            "      <td>Honda</td>\n",
                            "      <td>125</td>\n",
                            "    </tr>\n",
                            "  </tbody>\n",
                            "</table>\n",
                            "</div>"
                        ],
                        "text/plain": [
                            "                                 model_name  model_year  kms_driven   owner  \\\n",
                            "5760  Bajaj Pulsar NS160 Rear Disc ABS 2019        2019       500.0  first    \n",
                            "1895       Royal Enfield Classic 350cc 2013        2013     20000.0  first    \n",
                            "5270       Royal Enfield Classic 350cc 2015        2015     23000.0  first    \n",
                            "7375        Royal Enfield Bullet 350cc 2016        2016     23544.0  first    \n",
                            "411               Honda CB Shine 125cc 2011        2011         NaN  first    \n",
                            "\n",
                            "          location  mileage  power     price  brand engine  \n",
                            "5760         delhi      NaN    NaN  100000.0  Bajaj   None  \n",
                            "1895       madurai     35.0   19.8   97000.0  Royal    350  \n",
                            "5270  bhubaneshwar     35.0   19.8  115000.0  Royal    350  \n",
                            "7375       gurgaon     37.0   19.8   90000.0  Royal    350  \n",
                            "411       vadodara     65.0   10.0   25000.0  Honda    125  "
                        ]
                    },
                    "metadata": {},
                    "execution_count": 54
                }
            ],
            "metadata": {}
        },
        {
            "cell_type": "markdown",
            "source": [
                "### We can now drop the model_name feature"
            ],
            "metadata": {}
        },
        {
            "cell_type": "code",
            "execution_count": 55,
            "source": [
                "df = df.drop('model_name',axis=1)"
            ],
            "outputs": [],
            "metadata": {}
        },
        {
            "cell_type": "markdown",
            "source": [
                "# Handle model_year"
            ],
            "metadata": {}
        },
        {
            "cell_type": "markdown",
            "source": [
                "We can use model_year to calculate the age of the bike, Age might give us the better results or representation"
            ],
            "metadata": {}
        },
        {
            "cell_type": "code",
            "execution_count": 56,
            "source": [
                "from datetime import date\n",
                "current_year = date.today().year\n",
                "\n",
                "df['age'] = df.model_year.apply(lambda x: current_year - x if x else None )"
            ],
            "outputs": [],
            "metadata": {}
        },
        {
            "cell_type": "markdown",
            "source": [
                "### Let's drop the model_year"
            ],
            "metadata": {}
        },
        {
            "cell_type": "code",
            "execution_count": 57,
            "source": [
                "df = df.drop('model_year',axis=1)"
            ],
            "outputs": [],
            "metadata": {}
        },
        {
            "cell_type": "markdown",
            "source": [
                "# Handle kms_driven"
            ],
            "metadata": {}
        },
        {
            "cell_type": "markdown",
            "source": [
                "### Missing values will be hanled latter"
            ],
            "metadata": {}
        },
        {
            "cell_type": "markdown",
            "source": [
                "# Handle owner"
            ],
            "metadata": {}
        },
        {
            "cell_type": "code",
            "execution_count": 58,
            "source": [
                "# remove whitespace\n",
                "df['owner'] = df.owner.str.strip()"
            ],
            "outputs": [],
            "metadata": {}
        },
        {
            "cell_type": "code",
            "execution_count": 59,
            "source": [
                "df.owner.unique()"
            ],
            "outputs": [
                {
                    "output_type": "execute_result",
                    "data": {
                        "text/plain": [
                            "array(['first', 'third', 'second', 'fourth'], dtype=object)"
                        ]
                    },
                    "metadata": {},
                    "execution_count": 59
                }
            ],
            "metadata": {}
        },
        {
            "cell_type": "code",
            "execution_count": 60,
            "source": [
                "print(df.owner.isnull().sum())"
            ],
            "outputs": [
                {
                    "output_type": "stream",
                    "name": "stdout",
                    "text": [
                        "0\n"
                    ]
                }
            ],
            "metadata": {}
        },
        {
            "cell_type": "markdown",
            "source": [
                "### Let's leave here only other things will handle during encoding"
            ],
            "metadata": {}
        },
        {
            "cell_type": "markdown",
            "source": [
                "# Handle location"
            ],
            "metadata": {}
        },
        {
            "cell_type": "code",
            "execution_count": 61,
            "source": [
                "df.location.value_counts()[:10]"
            ],
            "outputs": [
                {
                    "output_type": "execute_result",
                    "data": {
                        "text/plain": [
                            "delhi        1583\n",
                            "mumbai        882\n",
                            "bangalore     843\n",
                            "pune          423\n",
                            "chennai       401\n",
                            "hyderabad     373\n",
                            "gurgaon       356\n",
                            "jaipur        351\n",
                            "ahmedabad     300\n",
                            "faridabad     189\n",
                            "Name: location, dtype: int64"
                        ]
                    },
                    "metadata": {},
                    "execution_count": 61
                }
            ],
            "metadata": {}
        },
        {
            "cell_type": "markdown",
            "source": [
                "## Let's take only top 5 locations and make other as 'others'"
            ],
            "metadata": {}
        },
        {
            "cell_type": "code",
            "execution_count": 62,
            "source": [
                "top_locations = df.location.value_counts().index[:5]\n",
                "print(top_locations)"
            ],
            "outputs": [
                {
                    "output_type": "stream",
                    "name": "stdout",
                    "text": [
                        "Index(['delhi', 'mumbai', 'bangalore', 'pune', 'chennai'], dtype='object')\n"
                    ]
                }
            ],
            "metadata": {}
        },
        {
            "cell_type": "code",
            "execution_count": 63,
            "source": [
                "df['location'] = df.location.apply(lambda x: x if x in top_locations else 'other')"
            ],
            "outputs": [],
            "metadata": {}
        },
        {
            "cell_type": "markdown",
            "source": [
                "# Handle mileage"
            ],
            "metadata": {}
        },
        {
            "cell_type": "markdown",
            "source": [
                "### Nothing to do much here,missing values will be handle latter"
            ],
            "metadata": {}
        },
        {
            "cell_type": "markdown",
            "source": [
                "# Handle power"
            ],
            "metadata": {}
        },
        {
            "cell_type": "markdown",
            "source": [
                "### Nothing to do much here,missing values will be handle latter"
            ],
            "metadata": {}
        },
        {
            "cell_type": "markdown",
            "source": [
                "# Handle brand"
            ],
            "metadata": {}
        },
        {
            "cell_type": "code",
            "execution_count": 64,
            "source": [
                "# Let's check how may brands we get\n",
                "print('Unique Brands :',len(df['brand'].unique()))\n",
                "df['brand'].value_counts()[:10]"
            ],
            "outputs": [
                {
                    "output_type": "stream",
                    "name": "stdout",
                    "text": [
                        "Unique Brands : 23\n"
                    ]
                },
                {
                    "output_type": "execute_result",
                    "data": {
                        "text/plain": [
                            "Bajaj     2488\n",
                            "Royal     1964\n",
                            "Hero       997\n",
                            "Yamaha     893\n",
                            "TVS        675\n",
                            "Honda      623\n",
                            "KTM        591\n",
                            "Suzuki     256\n",
                            "UM         135\n",
                            "Jawa        54\n",
                            "Name: brand, dtype: int64"
                        ]
                    },
                    "metadata": {},
                    "execution_count": 64
                }
            ],
            "metadata": {}
        },
        {
            "cell_type": "markdown",
            "source": [
                "### Let's take only top 10 brands as our base brand & make other as 'other' category"
            ],
            "metadata": {}
        },
        {
            "cell_type": "code",
            "execution_count": 65,
            "source": [
                "top_brands = df['brand'].value_counts().index[:10]\n",
                "df['brand'] = df['brand'].apply(lambda x: x if x in top_brands else 'other')"
            ],
            "outputs": [],
            "metadata": {}
        },
        {
            "cell_type": "markdown",
            "source": [
                "### Let's change the 'Royal' to 'Royal Enfield' as the actual brand"
            ],
            "metadata": {}
        },
        {
            "cell_type": "code",
            "execution_count": 66,
            "source": [
                "df['brand'] = df.brand.str.replace('Royal','Royal Enfield')"
            ],
            "outputs": [],
            "metadata": {}
        },
        {
            "cell_type": "markdown",
            "source": [
                "# Reorder the columns"
            ],
            "metadata": {}
        },
        {
            "cell_type": "code",
            "execution_count": 67,
            "source": [
                "# new_order = ['brand','model_year','kms_driven','owner','location','price']\n",
                "# new_order = [6,0,1,2,3,4,6,7,8,5]\n",
                "# df = df[df.columns[new_order]]"
            ],
            "outputs": [],
            "metadata": {}
        },
        {
            "cell_type": "code",
            "execution_count": 68,
            "source": [
                "df.sample(4)"
            ],
            "outputs": [
                {
                    "output_type": "execute_result",
                    "data": {
                        "text/html": [
                            "<div>\n",
                            "<style scoped>\n",
                            "    .dataframe tbody tr th:only-of-type {\n",
                            "        vertical-align: middle;\n",
                            "    }\n",
                            "\n",
                            "    .dataframe tbody tr th {\n",
                            "        vertical-align: top;\n",
                            "    }\n",
                            "\n",
                            "    .dataframe thead th {\n",
                            "        text-align: right;\n",
                            "    }\n",
                            "</style>\n",
                            "<table border=\"1\" class=\"dataframe\">\n",
                            "  <thead>\n",
                            "    <tr style=\"text-align: right;\">\n",
                            "      <th></th>\n",
                            "      <th>kms_driven</th>\n",
                            "      <th>owner</th>\n",
                            "      <th>location</th>\n",
                            "      <th>mileage</th>\n",
                            "      <th>power</th>\n",
                            "      <th>price</th>\n",
                            "      <th>brand</th>\n",
                            "      <th>engine</th>\n",
                            "      <th>age</th>\n",
                            "    </tr>\n",
                            "  </thead>\n",
                            "  <tbody>\n",
                            "    <tr>\n",
                            "      <th>5619</th>\n",
                            "      <td>37000.0</td>\n",
                            "      <td>first</td>\n",
                            "      <td>other</td>\n",
                            "      <td>35.0</td>\n",
                            "      <td>19.8</td>\n",
                            "      <td>124300.0</td>\n",
                            "      <td>Royal Enfield</td>\n",
                            "      <td>350</td>\n",
                            "      <td>5</td>\n",
                            "    </tr>\n",
                            "    <tr>\n",
                            "      <th>4245</th>\n",
                            "      <td>22500.0</td>\n",
                            "      <td>first</td>\n",
                            "      <td>other</td>\n",
                            "      <td>57.0</td>\n",
                            "      <td>11.8</td>\n",
                            "      <td>43000.0</td>\n",
                            "      <td>Bajaj</td>\n",
                            "      <td>150</td>\n",
                            "      <td>3</td>\n",
                            "    </tr>\n",
                            "    <tr>\n",
                            "      <th>6817</th>\n",
                            "      <td>28000.0</td>\n",
                            "      <td>first</td>\n",
                            "      <td>other</td>\n",
                            "      <td>53.0</td>\n",
                            "      <td>19.0</td>\n",
                            "      <td>22000.0</td>\n",
                            "      <td>Bajaj</td>\n",
                            "      <td>200</td>\n",
                            "      <td>12</td>\n",
                            "    </tr>\n",
                            "    <tr>\n",
                            "      <th>6165</th>\n",
                            "      <td>20000.0</td>\n",
                            "      <td>first</td>\n",
                            "      <td>delhi</td>\n",
                            "      <td>45.0</td>\n",
                            "      <td>17.0</td>\n",
                            "      <td>32000.0</td>\n",
                            "      <td>Bajaj</td>\n",
                            "      <td>180</td>\n",
                            "      <td>8</td>\n",
                            "    </tr>\n",
                            "  </tbody>\n",
                            "</table>\n",
                            "</div>"
                        ],
                        "text/plain": [
                            "      kms_driven  owner location  mileage  power     price          brand  \\\n",
                            "5619     37000.0  first    other     35.0   19.8  124300.0  Royal Enfield   \n",
                            "4245     22500.0  first    other     57.0   11.8   43000.0          Bajaj   \n",
                            "6817     28000.0  first    other     53.0   19.0   22000.0          Bajaj   \n",
                            "6165     20000.0  first    delhi     45.0   17.0   32000.0          Bajaj   \n",
                            "\n",
                            "     engine  age  \n",
                            "5619    350    5  \n",
                            "4245    150    3  \n",
                            "6817    200   12  \n",
                            "6165    180    8  "
                        ]
                    },
                    "metadata": {},
                    "execution_count": 68
                }
            ],
            "metadata": {}
        },
        {
            "cell_type": "markdown",
            "source": [
                "# Outlier Detection"
            ],
            "metadata": {}
        },
        {
            "cell_type": "code",
            "execution_count": 69,
            "source": [
                "def box_plot(df):\n",
                "    numeric_columns = df.select_dtypes(include=np.number).columns.tolist()\n",
                "    # outlier detection using boxplot\n",
                "    plt.figure(figsize=(16,22))\n",
                "\n",
                "    for i, variable in enumerate(numeric_columns):\n",
                "        plt.subplot(5,4,i+1)\n",
                "        plt.boxplot(df[variable],whis=1.5)\n",
                "        plt.tight_layout()\n",
                "        plt.title(variable)\n",
                "\n",
                "    plt.show()\n",
                "\n",
                "# box_plot(df)"
            ],
            "outputs": [],
            "metadata": {}
        },
        {
            "cell_type": "markdown",
            "source": [
                "## kms_driven"
            ],
            "metadata": {}
        },
        {
            "cell_type": "code",
            "execution_count": 70,
            "source": [
                "# max_val = df['kms_driven'].quantile(.99)\n",
                "\n",
                "# min_val = df['kms_driven'].quantile(.1)\n",
                "\n",
                "# df = df[(df['kms_driven'] <= max_val) & (df['kms_driven'] > min_val)]"
            ],
            "outputs": [],
            "metadata": {}
        },
        {
            "cell_type": "code",
            "execution_count": 71,
            "source": [
                "df.shape"
            ],
            "outputs": [
                {
                    "output_type": "execute_result",
                    "data": {
                        "text/plain": [
                            "(8807, 9)"
                        ]
                    },
                    "metadata": {},
                    "execution_count": 71
                }
            ],
            "metadata": {}
        },
        {
            "cell_type": "code",
            "execution_count": 72,
            "source": [
                "plt.figure(figsize=(8,6))\n",
                "sns.boxplot(data=df['kms_driven'])"
            ],
            "outputs": [
                {
                    "output_type": "execute_result",
                    "data": {
                        "text/plain": [
                            "<AxesSubplot:>"
                        ]
                    },
                    "metadata": {},
                    "execution_count": 72
                },
                {
                    "output_type": "display_data",
                    "data": {
                        "image/png": "[encoded data removed]",
                        "text/plain": [
                            "<Figure size 576x432 with 1 Axes>"
                        ]
                    },
                    "metadata": {
                        "needs_background": "light"
                    }
                }
            ],
            "metadata": {}
        },
        {
            "cell_type": "markdown",
            "source": [
                "## Mileage"
            ],
            "metadata": {}
        },
        {
            "cell_type": "code",
            "execution_count": 73,
            "source": [
                "max_val = df['mileage'].quantile(.99)\n",
                "\n",
                "min_val = df['mileage'].quantile(.1)\n",
                "\n",
                "df = df[(df['mileage'] <= max_val) & (df['mileage'] > min_val)]"
            ],
            "outputs": [],
            "metadata": {}
        },
        {
            "cell_type": "code",
            "execution_count": 74,
            "source": [
                "plt.figure(figsize=(8,6))\n",
                "sns.boxplot(y=df['mileage'])"
            ],
            "outputs": [
                {
                    "output_type": "execute_result",
                    "data": {
                        "text/plain": [
                            "<AxesSubplot:ylabel='mileage'>"
                        ]
                    },
                    "metadata": {},
                    "execution_count": 74
                },
                {
                    "output_type": "display_data",
                    "data": {
                        "image/png": "[encoded data removed]",
                        "text/plain": [
                            "<Figure size 576x432 with 1 Axes>"
                        ]
                    },
                    "metadata": {
                        "needs_background": "light"
                    }
                }
            ],
            "metadata": {}
        },
        {
            "cell_type": "markdown",
            "source": [
                "## Power"
            ],
            "metadata": {}
        },
        {
            "cell_type": "code",
            "execution_count": 75,
            "source": [
                "# plt.figure(figsize=(8,6))\n",
                "# sns.boxplot(y=df['power'])"
            ],
            "outputs": [],
            "metadata": {}
        },
        {
            "cell_type": "markdown",
            "source": [
                "## Age"
            ],
            "metadata": {}
        },
        {
            "cell_type": "code",
            "execution_count": 76,
            "source": [
                "plt.figure(figsize=(8,6))\n",
                "sns.boxplot(y=df['age'])"
            ],
            "outputs": [
                {
                    "output_type": "execute_result",
                    "data": {
                        "text/plain": [
                            "<AxesSubplot:ylabel='age'>"
                        ]
                    },
                    "metadata": {},
                    "execution_count": 76
                },
                {
                    "output_type": "display_data",
                    "data": {
                        "image/png": "[encoded data removed]",
                        "text/plain": [
                            "<Figure size 576x432 with 1 Axes>"
                        ]
                    },
                    "metadata": {
                        "needs_background": "light"
                    }
                }
            ],
            "metadata": {}
        },
        {
            "cell_type": "markdown",
            "source": [
                "### More than 20 years old bikes are not that much good enough to be bought by anyone,let's take only age upto 20 years."
            ],
            "metadata": {}
        },
        {
            "cell_type": "code",
            "execution_count": 77,
            "source": [
                "df.sample(3)"
            ],
            "outputs": [
                {
                    "output_type": "execute_result",
                    "data": {
                        "text/html": [
                            "<div>\n",
                            "<style scoped>\n",
                            "    .dataframe tbody tr th:only-of-type {\n",
                            "        vertical-align: middle;\n",
                            "    }\n",
                            "\n",
                            "    .dataframe tbody tr th {\n",
                            "        vertical-align: top;\n",
                            "    }\n",
                            "\n",
                            "    .dataframe thead th {\n",
                            "        text-align: right;\n",
                            "    }\n",
                            "</style>\n",
                            "<table border=\"1\" class=\"dataframe\">\n",
                            "  <thead>\n",
                            "    <tr style=\"text-align: right;\">\n",
                            "      <th></th>\n",
                            "      <th>kms_driven</th>\n",
                            "      <th>owner</th>\n",
                            "      <th>location</th>\n",
                            "      <th>mileage</th>\n",
                            "      <th>power</th>\n",
                            "      <th>price</th>\n",
                            "      <th>brand</th>\n",
                            "      <th>engine</th>\n",
                            "      <th>age</th>\n",
                            "    </tr>\n",
                            "  </thead>\n",
                            "  <tbody>\n",
                            "    <tr>\n",
                            "      <th>6945</th>\n",
                            "      <td>43509.0</td>\n",
                            "      <td>first</td>\n",
                            "      <td>delhi</td>\n",
                            "      <td>40.0</td>\n",
                            "      <td>17.0</td>\n",
                            "      <td>20000.0</td>\n",
                            "      <td>Hero</td>\n",
                            "      <td>223</td>\n",
                            "      <td>13</td>\n",
                            "    </tr>\n",
                            "    <tr>\n",
                            "      <th>7707</th>\n",
                            "      <td>5935.0</td>\n",
                            "      <td>first</td>\n",
                            "      <td>other</td>\n",
                            "      <td>35.0</td>\n",
                            "      <td>24.6</td>\n",
                            "      <td>121100.0</td>\n",
                            "      <td>KTM</td>\n",
                            "      <td>200</td>\n",
                            "      <td>4</td>\n",
                            "    </tr>\n",
                            "    <tr>\n",
                            "      <th>4391</th>\n",
                            "      <td>43400.0</td>\n",
                            "      <td>first</td>\n",
                            "      <td>pune</td>\n",
                            "      <td>65.0</td>\n",
                            "      <td>NaN</td>\n",
                            "      <td>35000.0</td>\n",
                            "      <td>Hero</td>\n",
                            "      <td>150</td>\n",
                            "      <td>9</td>\n",
                            "    </tr>\n",
                            "  </tbody>\n",
                            "</table>\n",
                            "</div>"
                        ],
                        "text/plain": [
                            "      kms_driven  owner location  mileage  power     price brand engine  age\n",
                            "6945     43509.0  first    delhi     40.0   17.0   20000.0  Hero    223   13\n",
                            "7707      5935.0  first    other     35.0   24.6  121100.0   KTM    200    4\n",
                            "4391     43400.0  first     pune     65.0    NaN   35000.0  Hero    150    9"
                        ]
                    },
                    "metadata": {},
                    "execution_count": 77
                }
            ],
            "metadata": {}
        },
        {
            "cell_type": "code",
            "execution_count": 78,
            "source": [
                "df = df[df['age'] <= 20]"
            ],
            "outputs": [],
            "metadata": {}
        },
        {
            "cell_type": "code",
            "execution_count": 79,
            "source": [
                "df.sample(3)"
            ],
            "outputs": [
                {
                    "output_type": "execute_result",
                    "data": {
                        "text/html": [
                            "<div>\n",
                            "<style scoped>\n",
                            "    .dataframe tbody tr th:only-of-type {\n",
                            "        vertical-align: middle;\n",
                            "    }\n",
                            "\n",
                            "    .dataframe tbody tr th {\n",
                            "        vertical-align: top;\n",
                            "    }\n",
                            "\n",
                            "    .dataframe thead th {\n",
                            "        text-align: right;\n",
                            "    }\n",
                            "</style>\n",
                            "<table border=\"1\" class=\"dataframe\">\n",
                            "  <thead>\n",
                            "    <tr style=\"text-align: right;\">\n",
                            "      <th></th>\n",
                            "      <th>kms_driven</th>\n",
                            "      <th>owner</th>\n",
                            "      <th>location</th>\n",
                            "      <th>mileage</th>\n",
                            "      <th>power</th>\n",
                            "      <th>price</th>\n",
                            "      <th>brand</th>\n",
                            "      <th>engine</th>\n",
                            "      <th>age</th>\n",
                            "    </tr>\n",
                            "  </thead>\n",
                            "  <tbody>\n",
                            "    <tr>\n",
                            "      <th>2606</th>\n",
                            "      <td>6000.0</td>\n",
                            "      <td>first</td>\n",
                            "      <td>mumbai</td>\n",
                            "      <td>40.0</td>\n",
                            "      <td>19.8</td>\n",
                            "      <td>140000.0</td>\n",
                            "      <td>Royal Enfield</td>\n",
                            "      <td>350</td>\n",
                            "      <td>6</td>\n",
                            "    </tr>\n",
                            "    <tr>\n",
                            "      <th>4832</th>\n",
                            "      <td>NaN</td>\n",
                            "      <td>first</td>\n",
                            "      <td>other</td>\n",
                            "      <td>35.0</td>\n",
                            "      <td>24.5</td>\n",
                            "      <td>110000.0</td>\n",
                            "      <td>Bajaj</td>\n",
                            "      <td>None</td>\n",
                            "      <td>3</td>\n",
                            "    </tr>\n",
                            "    <tr>\n",
                            "      <th>490</th>\n",
                            "      <td>22000.0</td>\n",
                            "      <td>second</td>\n",
                            "      <td>mumbai</td>\n",
                            "      <td>40.0</td>\n",
                            "      <td>19.0</td>\n",
                            "      <td>36814.0</td>\n",
                            "      <td>Bajaj</td>\n",
                            "      <td>220</td>\n",
                            "      <td>7</td>\n",
                            "    </tr>\n",
                            "  </tbody>\n",
                            "</table>\n",
                            "</div>"
                        ],
                        "text/plain": [
                            "      kms_driven   owner location  mileage  power     price          brand  \\\n",
                            "2606      6000.0   first   mumbai     40.0   19.8  140000.0  Royal Enfield   \n",
                            "4832         NaN   first    other     35.0   24.5  110000.0          Bajaj   \n",
                            "490      22000.0  second   mumbai     40.0   19.0   36814.0          Bajaj   \n",
                            "\n",
                            "     engine  age  \n",
                            "2606    350    6  \n",
                            "4832   None    3  \n",
                            "490     220    7  "
                        ]
                    },
                    "metadata": {},
                    "execution_count": 79
                }
            ],
            "metadata": {}
        },
        {
            "cell_type": "code",
            "execution_count": 80,
            "source": [
                "plt.figure(figsize=(8,6))\n",
                "sns.boxplot(y=df['age'])"
            ],
            "outputs": [
                {
                    "output_type": "execute_result",
                    "data": {
                        "text/plain": [
                            "<AxesSubplot:ylabel='age'>"
                        ]
                    },
                    "metadata": {},
                    "execution_count": 80
                },
                {
                    "output_type": "display_data",
                    "data": {
                        "image/png": "[encoded data removed]",
                        "text/plain": [
                            "<Figure size 576x432 with 1 Axes>"
                        ]
                    },
                    "metadata": {
                        "needs_background": "light"
                    }
                }
            ],
            "metadata": {}
        },
        {
            "cell_type": "markdown",
            "source": [
                "## Price"
            ],
            "metadata": {}
        },
        {
            "cell_type": "code",
            "execution_count": 81,
            "source": [
                "max_val = df['price'].quantile(.99)\n",
                "\n",
                "min_val = df['price'].quantile(.1)\n",
                "\n",
                "df = df[(df['price'] <= max_val) & (df['price'] > min_val)]"
            ],
            "outputs": [],
            "metadata": {}
        },
        {
            "cell_type": "code",
            "execution_count": 82,
            "source": [
                "plt.figure(figsize=(8,6))\n",
                "sns.boxplot(y=df['price'])"
            ],
            "outputs": [
                {
                    "output_type": "execute_result",
                    "data": {
                        "text/plain": [
                            "<AxesSubplot:ylabel='price'>"
                        ]
                    },
                    "metadata": {},
                    "execution_count": 82
                },
                {
                    "output_type": "display_data",
                    "data": {
                        "image/png": "[encoded data removed]",
                        "text/plain": [
                            "<Figure size 576x432 with 1 Axes>"
                        ]
                    },
                    "metadata": {
                        "needs_background": "light"
                    }
                }
            ],
            "metadata": {}
        },
        {
            "cell_type": "code",
            "execution_count": 83,
            "source": [
                "df.sample(5)"
            ],
            "outputs": [
                {
                    "output_type": "execute_result",
                    "data": {
                        "text/html": [
                            "<div>\n",
                            "<style scoped>\n",
                            "    .dataframe tbody tr th:only-of-type {\n",
                            "        vertical-align: middle;\n",
                            "    }\n",
                            "\n",
                            "    .dataframe tbody tr th {\n",
                            "        vertical-align: top;\n",
                            "    }\n",
                            "\n",
                            "    .dataframe thead th {\n",
                            "        text-align: right;\n",
                            "    }\n",
                            "</style>\n",
                            "<table border=\"1\" class=\"dataframe\">\n",
                            "  <thead>\n",
                            "    <tr style=\"text-align: right;\">\n",
                            "      <th></th>\n",
                            "      <th>kms_driven</th>\n",
                            "      <th>owner</th>\n",
                            "      <th>location</th>\n",
                            "      <th>mileage</th>\n",
                            "      <th>power</th>\n",
                            "      <th>price</th>\n",
                            "      <th>brand</th>\n",
                            "      <th>engine</th>\n",
                            "      <th>age</th>\n",
                            "    </tr>\n",
                            "  </thead>\n",
                            "  <tbody>\n",
                            "    <tr>\n",
                            "      <th>8194</th>\n",
                            "      <td>800.0</td>\n",
                            "      <td>first</td>\n",
                            "      <td>mumbai</td>\n",
                            "      <td>65.0</td>\n",
                            "      <td>NaN</td>\n",
                            "      <td>58000.0</td>\n",
                            "      <td>Hero</td>\n",
                            "      <td>150</td>\n",
                            "      <td>5</td>\n",
                            "    </tr>\n",
                            "    <tr>\n",
                            "      <th>8310</th>\n",
                            "      <td>NaN</td>\n",
                            "      <td>second</td>\n",
                            "      <td>other</td>\n",
                            "      <td>37.0</td>\n",
                            "      <td>19.8</td>\n",
                            "      <td>94000.0</td>\n",
                            "      <td>Royal Enfield</td>\n",
                            "      <td>350</td>\n",
                            "      <td>6</td>\n",
                            "    </tr>\n",
                            "    <tr>\n",
                            "      <th>5253</th>\n",
                            "      <td>NaN</td>\n",
                            "      <td>first</td>\n",
                            "      <td>mumbai</td>\n",
                            "      <td>35.0</td>\n",
                            "      <td>24.5</td>\n",
                            "      <td>70000.0</td>\n",
                            "      <td>Bajaj</td>\n",
                            "      <td>None</td>\n",
                            "      <td>5</td>\n",
                            "    </tr>\n",
                            "    <tr>\n",
                            "      <th>376</th>\n",
                            "      <td>NaN</td>\n",
                            "      <td>first</td>\n",
                            "      <td>other</td>\n",
                            "      <td>42.0</td>\n",
                            "      <td>23.2</td>\n",
                            "      <td>45700.0</td>\n",
                            "      <td>Bajaj</td>\n",
                            "      <td>None</td>\n",
                            "      <td>6</td>\n",
                            "    </tr>\n",
                            "    <tr>\n",
                            "      <th>7477</th>\n",
                            "      <td>NaN</td>\n",
                            "      <td>first</td>\n",
                            "      <td>delhi</td>\n",
                            "      <td>60.0</td>\n",
                            "      <td>15.2</td>\n",
                            "      <td>55000.0</td>\n",
                            "      <td>TVS</td>\n",
                            "      <td>160</td>\n",
                            "      <td>4</td>\n",
                            "    </tr>\n",
                            "  </tbody>\n",
                            "</table>\n",
                            "</div>"
                        ],
                        "text/plain": [
                            "      kms_driven   owner location  mileage  power    price          brand  \\\n",
                            "8194       800.0   first   mumbai     65.0    NaN  58000.0           Hero   \n",
                            "8310         NaN  second    other     37.0   19.8  94000.0  Royal Enfield   \n",
                            "5253         NaN   first   mumbai     35.0   24.5  70000.0          Bajaj   \n",
                            "376          NaN   first    other     42.0   23.2  45700.0          Bajaj   \n",
                            "7477         NaN   first    delhi     60.0   15.2  55000.0            TVS   \n",
                            "\n",
                            "     engine  age  \n",
                            "8194    150    5  \n",
                            "8310    350    6  \n",
                            "5253   None    5  \n",
                            "376    None    6  \n",
                            "7477    160    4  "
                        ]
                    },
                    "metadata": {},
                    "execution_count": 83
                }
            ],
            "metadata": {}
        },
        {
            "cell_type": "code",
            "execution_count": 84,
            "source": [
                "df.shape"
            ],
            "outputs": [
                {
                    "output_type": "execute_result",
                    "data": {
                        "text/plain": [
                            "(6100, 9)"
                        ]
                    },
                    "metadata": {},
                    "execution_count": 84
                }
            ],
            "metadata": {}
        },
        {
            "cell_type": "code",
            "execution_count": 85,
            "source": [
                "df.isnull().sum()"
            ],
            "outputs": [
                {
                    "output_type": "execute_result",
                    "data": {
                        "text/plain": [
                            "kms_driven    1850\n",
                            "owner            0\n",
                            "location         0\n",
                            "mileage          0\n",
                            "power          153\n",
                            "price            0\n",
                            "brand            0\n",
                            "engine        1484\n",
                            "age              0\n",
                            "dtype: int64"
                        ]
                    },
                    "metadata": {},
                    "execution_count": 85
                }
            ],
            "metadata": {}
        },
        {
            "cell_type": "code",
            "execution_count": 86,
            "source": [
                "# fill price with mean\n",
                "df.price.fillna(df.price.mean(),inplace=True)"
            ],
            "outputs": [],
            "metadata": {}
        },
        {
            "cell_type": "code",
            "execution_count": 87,
            "source": [
                "df.shape"
            ],
            "outputs": [
                {
                    "output_type": "execute_result",
                    "data": {
                        "text/plain": [
                            "(6100, 9)"
                        ]
                    },
                    "metadata": {},
                    "execution_count": 87
                }
            ],
            "metadata": {}
        },
        {
            "cell_type": "markdown",
            "source": [
                "## Save"
            ],
            "metadata": {}
        },
        {
            "cell_type": "code",
            "execution_count": 88,
            "source": [
                "## Save the processed data\n",
                "df.to_csv('../data/processed/processed.csv',index=False)"
            ],
            "outputs": [],
            "metadata": {}
        }
    ],
    "metadata": {
        "orig_nbformat": 4,
        "language_info": {
            "name": "python",
            "version": "3.8.8",
            "mimetype": "text/x-python",
            "codemirror_mode": {
                "name": "ipython",
                "version": 3
            },
            "pygments_lexer": "ipython3",
            "nbconvert_exporter": "python",
            "file_extension": ".py"
        },
        "kernelspec": {
            "name": "python3",
            "display_name": "Python 3.8.8 64-bit ('base': conda)"
        },
        "interpreter": {
            "hash": "d213f6e5b8fd7d14bb00958cfb5f51bfe315e9248ff051fde0d0d79c3d0f4eba"
        }
    },
    "nbformat": 4,
    "nbformat_minor": 2
}