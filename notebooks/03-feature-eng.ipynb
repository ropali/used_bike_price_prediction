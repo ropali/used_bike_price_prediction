{
    "cells": [
        {
            "cell_type": "code",
            "execution_count": 1,
            "source": [
                "import pandas as pd\n",
                "import numpy as np\n",
                "import matplotlib.pyplot as plt\n",
                "import seaborn as sns"
            ],
            "outputs": [],
            "metadata": {}
        },
        {
            "cell_type": "code",
            "execution_count": 2,
            "source": [
                "df = pd.read_csv('../data/processed/data.csv')"
            ],
            "outputs": [],
            "metadata": {}
        },
        {
            "cell_type": "code",
            "execution_count": 3,
            "source": [
                "df.model_year.unique()"
            ],
            "outputs": [
                {
                    "output_type": "execute_result",
                    "data": {
                        "text/plain": [
                            "array([2014, 2017, 2011, 2018, 2012, 2019, 1996, 2007, 2008, 2006, 2013,\n",
                            "       1986, 2015, 2010, 1998, 2016, 2020, 2021, 2000, 2009, 2003, 2005,\n",
                            "       2004, 2002, 1989, 1999, 2001, 1983, 1982, 1995, 1980, 1981, 1997,\n",
                            "       1970, 1991])"
                        ]
                    },
                    "metadata": {},
                    "execution_count": 3
                }
            ],
            "metadata": {}
        },
        {
            "cell_type": "code",
            "execution_count": 4,
            "source": [
                "df.sample(10)"
            ],
            "outputs": [
                {
                    "output_type": "execute_result",
                    "data": {
                        "text/plain": [
                            "                                             model_name  model_year  \\\n",
                            "293                    Suzuki Gixxer Single Channel ABS        2017   \n",
                            "4390  Royal Enfield Classic 350cc ABS Stealth Black BS6        2020   \n",
                            "1246                            Bajaj Pulsar RS 200 ABS        2015   \n",
                            "5104                                     Honda CBR 250R        2013   \n",
                            "3373                                              Honda        2015   \n",
                            "704                                  Bajaj V15 Standard        2018   \n",
                            "2782                                              Honda        2018   \n",
                            "918              Suzuki Access 125 [2007-2016] Standard        2011   \n",
                            "3204                                              Honda        2016   \n",
                            "2726                                             Yamaha        2018   \n",
                            "\n",
                            "      kms_driven owner   location     price  \n",
                            "293      37000.0   1st  Ahmedabad   60000.0  \n",
                            "4390      1200.0   1st    Asansol  180000.0  \n",
                            "1246     24500.0   2nd  New Delhi   70000.0  \n",
                            "5104     17000.0   3rd    Kolkata   50300.0  \n",
                            "3373     29818.0   2nd      Delhi   41000.0  \n",
                            "704      64854.0   1st   Varanasi   55000.0  \n",
                            "2782     41745.0   1st      Delhi   44000.0  \n",
                            "918      30000.0   1st     Mumbai   25000.0  \n",
                            "3204     28943.0   1st      Delhi   39000.0  \n",
                            "2726     15314.0   1st      Delhi   75000.0  "
                        ],
                        "text/html": [
                            "<div>\n",
                            "<style scoped>\n",
                            "    .dataframe tbody tr th:only-of-type {\n",
                            "        vertical-align: middle;\n",
                            "    }\n",
                            "\n",
                            "    .dataframe tbody tr th {\n",
                            "        vertical-align: top;\n",
                            "    }\n",
                            "\n",
                            "    .dataframe thead th {\n",
                            "        text-align: right;\n",
                            "    }\n",
                            "</style>\n",
                            "<table border=\"1\" class=\"dataframe\">\n",
                            "  <thead>\n",
                            "    <tr style=\"text-align: right;\">\n",
                            "      <th></th>\n",
                            "      <th>model_name</th>\n",
                            "      <th>model_year</th>\n",
                            "      <th>kms_driven</th>\n",
                            "      <th>owner</th>\n",
                            "      <th>location</th>\n",
                            "      <th>price</th>\n",
                            "    </tr>\n",
                            "  </thead>\n",
                            "  <tbody>\n",
                            "    <tr>\n",
                            "      <th>293</th>\n",
                            "      <td>Suzuki Gixxer Single Channel ABS</td>\n",
                            "      <td>2017</td>\n",
                            "      <td>37000.0</td>\n",
                            "      <td>1st</td>\n",
                            "      <td>Ahmedabad</td>\n",
                            "      <td>60000.0</td>\n",
                            "    </tr>\n",
                            "    <tr>\n",
                            "      <th>4390</th>\n",
                            "      <td>Royal Enfield Classic 350cc ABS Stealth Black BS6</td>\n",
                            "      <td>2020</td>\n",
                            "      <td>1200.0</td>\n",
                            "      <td>1st</td>\n",
                            "      <td>Asansol</td>\n",
                            "      <td>180000.0</td>\n",
                            "    </tr>\n",
                            "    <tr>\n",
                            "      <th>1246</th>\n",
                            "      <td>Bajaj Pulsar RS 200 ABS</td>\n",
                            "      <td>2015</td>\n",
                            "      <td>24500.0</td>\n",
                            "      <td>2nd</td>\n",
                            "      <td>New Delhi</td>\n",
                            "      <td>70000.0</td>\n",
                            "    </tr>\n",
                            "    <tr>\n",
                            "      <th>5104</th>\n",
                            "      <td>Honda CBR 250R</td>\n",
                            "      <td>2013</td>\n",
                            "      <td>17000.0</td>\n",
                            "      <td>3rd</td>\n",
                            "      <td>Kolkata</td>\n",
                            "      <td>50300.0</td>\n",
                            "    </tr>\n",
                            "    <tr>\n",
                            "      <th>3373</th>\n",
                            "      <td>Honda</td>\n",
                            "      <td>2015</td>\n",
                            "      <td>29818.0</td>\n",
                            "      <td>2nd</td>\n",
                            "      <td>Delhi</td>\n",
                            "      <td>41000.0</td>\n",
                            "    </tr>\n",
                            "    <tr>\n",
                            "      <th>704</th>\n",
                            "      <td>Bajaj V15 Standard</td>\n",
                            "      <td>2018</td>\n",
                            "      <td>64854.0</td>\n",
                            "      <td>1st</td>\n",
                            "      <td>Varanasi</td>\n",
                            "      <td>55000.0</td>\n",
                            "    </tr>\n",
                            "    <tr>\n",
                            "      <th>2782</th>\n",
                            "      <td>Honda</td>\n",
                            "      <td>2018</td>\n",
                            "      <td>41745.0</td>\n",
                            "      <td>1st</td>\n",
                            "      <td>Delhi</td>\n",
                            "      <td>44000.0</td>\n",
                            "    </tr>\n",
                            "    <tr>\n",
                            "      <th>918</th>\n",
                            "      <td>Suzuki Access 125 [2007-2016] Standard</td>\n",
                            "      <td>2011</td>\n",
                            "      <td>30000.0</td>\n",
                            "      <td>1st</td>\n",
                            "      <td>Mumbai</td>\n",
                            "      <td>25000.0</td>\n",
                            "    </tr>\n",
                            "    <tr>\n",
                            "      <th>3204</th>\n",
                            "      <td>Honda</td>\n",
                            "      <td>2016</td>\n",
                            "      <td>28943.0</td>\n",
                            "      <td>1st</td>\n",
                            "      <td>Delhi</td>\n",
                            "      <td>39000.0</td>\n",
                            "    </tr>\n",
                            "    <tr>\n",
                            "      <th>2726</th>\n",
                            "      <td>Yamaha</td>\n",
                            "      <td>2018</td>\n",
                            "      <td>15314.0</td>\n",
                            "      <td>1st</td>\n",
                            "      <td>Delhi</td>\n",
                            "      <td>75000.0</td>\n",
                            "    </tr>\n",
                            "  </tbody>\n",
                            "</table>\n",
                            "</div>"
                        ]
                    },
                    "metadata": {},
                    "execution_count": 4
                }
            ],
            "metadata": {}
        },
        {
            "cell_type": "markdown",
            "source": [
                "## Handle model_name"
            ],
            "metadata": {}
        },
        {
            "cell_type": "markdown",
            "source": [
                "### Let's take only first two words of model_name"
            ],
            "metadata": {}
        },
        {
            "cell_type": "code",
            "execution_count": 5,
            "source": [
                "df['model_name'] = df['model_name'].apply(lambda x: ' '.join(x.split()[:2]))"
            ],
            "outputs": [],
            "metadata": {}
        },
        {
            "cell_type": "code",
            "execution_count": 6,
            "source": [
                "df.sample(10)"
            ],
            "outputs": [
                {
                    "output_type": "execute_result",
                    "data": {
                        "text/plain": [
                            "         model_name  model_year  kms_driven owner           location     price\n",
                            "5096  Royal Enfield        2015     15182.0   1st            Chennai  110000.0\n",
                            "3333          Honda        2014     58242.0   1st              Delhi   31000.0\n",
                            "1141   Bajaj Pulsar        2015     33000.0   1st          New Delhi   33500.0\n",
                            "4876     TVS Apache        2019     16000.0   1st              Delhi   98000.0\n",
                            "4613  Bajaj Avenger        2016      6790.0   1st           Amritsar   60000.0\n",
                            "2491     TVS Apache        2020     11000.0   1st  North 24 Parganas  100000.0\n",
                            "52    Royal Enfield        2017     24000.0   2nd            Katihar  150000.0\n",
                            "225      TVS Apache        2020      5500.0   1st       Nagapattinam  250000.0\n",
                            "2814           Hero        2014     86247.0   1st              Delhi   34000.0\n",
                            "4469  Bajaj Avenger        2017     14500.0   1st              Thane   75000.0"
                        ],
                        "text/html": [
                            "<div>\n",
                            "<style scoped>\n",
                            "    .dataframe tbody tr th:only-of-type {\n",
                            "        vertical-align: middle;\n",
                            "    }\n",
                            "\n",
                            "    .dataframe tbody tr th {\n",
                            "        vertical-align: top;\n",
                            "    }\n",
                            "\n",
                            "    .dataframe thead th {\n",
                            "        text-align: right;\n",
                            "    }\n",
                            "</style>\n",
                            "<table border=\"1\" class=\"dataframe\">\n",
                            "  <thead>\n",
                            "    <tr style=\"text-align: right;\">\n",
                            "      <th></th>\n",
                            "      <th>model_name</th>\n",
                            "      <th>model_year</th>\n",
                            "      <th>kms_driven</th>\n",
                            "      <th>owner</th>\n",
                            "      <th>location</th>\n",
                            "      <th>price</th>\n",
                            "    </tr>\n",
                            "  </thead>\n",
                            "  <tbody>\n",
                            "    <tr>\n",
                            "      <th>5096</th>\n",
                            "      <td>Royal Enfield</td>\n",
                            "      <td>2015</td>\n",
                            "      <td>15182.0</td>\n",
                            "      <td>1st</td>\n",
                            "      <td>Chennai</td>\n",
                            "      <td>110000.0</td>\n",
                            "    </tr>\n",
                            "    <tr>\n",
                            "      <th>3333</th>\n",
                            "      <td>Honda</td>\n",
                            "      <td>2014</td>\n",
                            "      <td>58242.0</td>\n",
                            "      <td>1st</td>\n",
                            "      <td>Delhi</td>\n",
                            "      <td>31000.0</td>\n",
                            "    </tr>\n",
                            "    <tr>\n",
                            "      <th>1141</th>\n",
                            "      <td>Bajaj Pulsar</td>\n",
                            "      <td>2015</td>\n",
                            "      <td>33000.0</td>\n",
                            "      <td>1st</td>\n",
                            "      <td>New Delhi</td>\n",
                            "      <td>33500.0</td>\n",
                            "    </tr>\n",
                            "    <tr>\n",
                            "      <th>4876</th>\n",
                            "      <td>TVS Apache</td>\n",
                            "      <td>2019</td>\n",
                            "      <td>16000.0</td>\n",
                            "      <td>1st</td>\n",
                            "      <td>Delhi</td>\n",
                            "      <td>98000.0</td>\n",
                            "    </tr>\n",
                            "    <tr>\n",
                            "      <th>4613</th>\n",
                            "      <td>Bajaj Avenger</td>\n",
                            "      <td>2016</td>\n",
                            "      <td>6790.0</td>\n",
                            "      <td>1st</td>\n",
                            "      <td>Amritsar</td>\n",
                            "      <td>60000.0</td>\n",
                            "    </tr>\n",
                            "    <tr>\n",
                            "      <th>2491</th>\n",
                            "      <td>TVS Apache</td>\n",
                            "      <td>2020</td>\n",
                            "      <td>11000.0</td>\n",
                            "      <td>1st</td>\n",
                            "      <td>North 24 Parganas</td>\n",
                            "      <td>100000.0</td>\n",
                            "    </tr>\n",
                            "    <tr>\n",
                            "      <th>52</th>\n",
                            "      <td>Royal Enfield</td>\n",
                            "      <td>2017</td>\n",
                            "      <td>24000.0</td>\n",
                            "      <td>2nd</td>\n",
                            "      <td>Katihar</td>\n",
                            "      <td>150000.0</td>\n",
                            "    </tr>\n",
                            "    <tr>\n",
                            "      <th>225</th>\n",
                            "      <td>TVS Apache</td>\n",
                            "      <td>2020</td>\n",
                            "      <td>5500.0</td>\n",
                            "      <td>1st</td>\n",
                            "      <td>Nagapattinam</td>\n",
                            "      <td>250000.0</td>\n",
                            "    </tr>\n",
                            "    <tr>\n",
                            "      <th>2814</th>\n",
                            "      <td>Hero</td>\n",
                            "      <td>2014</td>\n",
                            "      <td>86247.0</td>\n",
                            "      <td>1st</td>\n",
                            "      <td>Delhi</td>\n",
                            "      <td>34000.0</td>\n",
                            "    </tr>\n",
                            "    <tr>\n",
                            "      <th>4469</th>\n",
                            "      <td>Bajaj Avenger</td>\n",
                            "      <td>2017</td>\n",
                            "      <td>14500.0</td>\n",
                            "      <td>1st</td>\n",
                            "      <td>Thane</td>\n",
                            "      <td>75000.0</td>\n",
                            "    </tr>\n",
                            "  </tbody>\n",
                            "</table>\n",
                            "</div>"
                        ]
                    },
                    "metadata": {},
                    "execution_count": 6
                }
            ],
            "metadata": {}
        },
        {
            "cell_type": "code",
            "execution_count": 7,
            "source": [
                "df.model_name.value_counts()"
            ],
            "outputs": [
                {
                    "output_type": "execute_result",
                    "data": {
                        "text/plain": [
                            "Royal Enfield     751\n",
                            "Bajaj Pulsar      655\n",
                            "Honda Activa      438\n",
                            "Honda             321\n",
                            "TVS Apache        302\n",
                            "                 ... \n",
                            "22Kymco Flow        1\n",
                            "Triumph Rocket      1\n",
                            "Yamaha Rx           1\n",
                            "Hyosung GD250R      1\n",
                            "Yamaha Ray-ZR       1\n",
                            "Name: model_name, Length: 200, dtype: int64"
                        ]
                    },
                    "metadata": {},
                    "execution_count": 7
                }
            ],
            "metadata": {}
        },
        {
            "cell_type": "markdown",
            "source": [
                "### There are too many models, let try to create a brand category using the model name."
            ],
            "metadata": {}
        },
        {
            "cell_type": "code",
            "execution_count": 8,
            "source": [
                "df['brand'] = df['model_name'].apply(lambda x: x.split(' ')[0])"
            ],
            "outputs": [],
            "metadata": {}
        },
        {
            "cell_type": "code",
            "execution_count": 9,
            "source": [
                "df.sample(10)"
            ],
            "outputs": [
                {
                    "output_type": "execute_result",
                    "data": {
                        "text/plain": [
                            "         model_name  model_year  kms_driven owner   location     price   brand\n",
                            "4167   Bajaj Pulsar        2011     75000.0   1st      Delhi   25000.0   Bajaj\n",
                            "3095           Hero        2017     55133.0   1st      Delhi   44000.0    Hero\n",
                            "5450   Bajaj Pulsar        2017     16200.0   1st    Gurgaon   60000.0   Bajaj\n",
                            "2064  Royal Enfield        2020      7450.0   1st    Chennai   50000.0   Royal\n",
                            "4404   Bajaj Pulsar        2018     26752.0   1st  Chirkunda   59000.0   Bajaj\n",
                            "4294     Yamaha FZs        2014     72000.0   2nd   Amritsar   38800.0  Yamaha\n",
                            "4330    UM Renegade        2017      4000.0   1st      Delhi  120000.0      UM\n",
                            "2124   Honda Activa        2013     50000.0   1st    Chennai   25000.0   Honda\n",
                            "2717          Honda        2019     14547.0   1st      Delhi   58000.0   Honda\n",
                            "2608         Yamaha        2017     19517.0   1st      Delhi   48000.0  Yamaha"
                        ],
                        "text/html": [
                            "<div>\n",
                            "<style scoped>\n",
                            "    .dataframe tbody tr th:only-of-type {\n",
                            "        vertical-align: middle;\n",
                            "    }\n",
                            "\n",
                            "    .dataframe tbody tr th {\n",
                            "        vertical-align: top;\n",
                            "    }\n",
                            "\n",
                            "    .dataframe thead th {\n",
                            "        text-align: right;\n",
                            "    }\n",
                            "</style>\n",
                            "<table border=\"1\" class=\"dataframe\">\n",
                            "  <thead>\n",
                            "    <tr style=\"text-align: right;\">\n",
                            "      <th></th>\n",
                            "      <th>model_name</th>\n",
                            "      <th>model_year</th>\n",
                            "      <th>kms_driven</th>\n",
                            "      <th>owner</th>\n",
                            "      <th>location</th>\n",
                            "      <th>price</th>\n",
                            "      <th>brand</th>\n",
                            "    </tr>\n",
                            "  </thead>\n",
                            "  <tbody>\n",
                            "    <tr>\n",
                            "      <th>4167</th>\n",
                            "      <td>Bajaj Pulsar</td>\n",
                            "      <td>2011</td>\n",
                            "      <td>75000.0</td>\n",
                            "      <td>1st</td>\n",
                            "      <td>Delhi</td>\n",
                            "      <td>25000.0</td>\n",
                            "      <td>Bajaj</td>\n",
                            "    </tr>\n",
                            "    <tr>\n",
                            "      <th>3095</th>\n",
                            "      <td>Hero</td>\n",
                            "      <td>2017</td>\n",
                            "      <td>55133.0</td>\n",
                            "      <td>1st</td>\n",
                            "      <td>Delhi</td>\n",
                            "      <td>44000.0</td>\n",
                            "      <td>Hero</td>\n",
                            "    </tr>\n",
                            "    <tr>\n",
                            "      <th>5450</th>\n",
                            "      <td>Bajaj Pulsar</td>\n",
                            "      <td>2017</td>\n",
                            "      <td>16200.0</td>\n",
                            "      <td>1st</td>\n",
                            "      <td>Gurgaon</td>\n",
                            "      <td>60000.0</td>\n",
                            "      <td>Bajaj</td>\n",
                            "    </tr>\n",
                            "    <tr>\n",
                            "      <th>2064</th>\n",
                            "      <td>Royal Enfield</td>\n",
                            "      <td>2020</td>\n",
                            "      <td>7450.0</td>\n",
                            "      <td>1st</td>\n",
                            "      <td>Chennai</td>\n",
                            "      <td>50000.0</td>\n",
                            "      <td>Royal</td>\n",
                            "    </tr>\n",
                            "    <tr>\n",
                            "      <th>4404</th>\n",
                            "      <td>Bajaj Pulsar</td>\n",
                            "      <td>2018</td>\n",
                            "      <td>26752.0</td>\n",
                            "      <td>1st</td>\n",
                            "      <td>Chirkunda</td>\n",
                            "      <td>59000.0</td>\n",
                            "      <td>Bajaj</td>\n",
                            "    </tr>\n",
                            "    <tr>\n",
                            "      <th>4294</th>\n",
                            "      <td>Yamaha FZs</td>\n",
                            "      <td>2014</td>\n",
                            "      <td>72000.0</td>\n",
                            "      <td>2nd</td>\n",
                            "      <td>Amritsar</td>\n",
                            "      <td>38800.0</td>\n",
                            "      <td>Yamaha</td>\n",
                            "    </tr>\n",
                            "    <tr>\n",
                            "      <th>4330</th>\n",
                            "      <td>UM Renegade</td>\n",
                            "      <td>2017</td>\n",
                            "      <td>4000.0</td>\n",
                            "      <td>1st</td>\n",
                            "      <td>Delhi</td>\n",
                            "      <td>120000.0</td>\n",
                            "      <td>UM</td>\n",
                            "    </tr>\n",
                            "    <tr>\n",
                            "      <th>2124</th>\n",
                            "      <td>Honda Activa</td>\n",
                            "      <td>2013</td>\n",
                            "      <td>50000.0</td>\n",
                            "      <td>1st</td>\n",
                            "      <td>Chennai</td>\n",
                            "      <td>25000.0</td>\n",
                            "      <td>Honda</td>\n",
                            "    </tr>\n",
                            "    <tr>\n",
                            "      <th>2717</th>\n",
                            "      <td>Honda</td>\n",
                            "      <td>2019</td>\n",
                            "      <td>14547.0</td>\n",
                            "      <td>1st</td>\n",
                            "      <td>Delhi</td>\n",
                            "      <td>58000.0</td>\n",
                            "      <td>Honda</td>\n",
                            "    </tr>\n",
                            "    <tr>\n",
                            "      <th>2608</th>\n",
                            "      <td>Yamaha</td>\n",
                            "      <td>2017</td>\n",
                            "      <td>19517.0</td>\n",
                            "      <td>1st</td>\n",
                            "      <td>Delhi</td>\n",
                            "      <td>48000.0</td>\n",
                            "      <td>Yamaha</td>\n",
                            "    </tr>\n",
                            "  </tbody>\n",
                            "</table>\n",
                            "</div>"
                        ]
                    },
                    "metadata": {},
                    "execution_count": 9
                }
            ],
            "metadata": {}
        },
        {
            "cell_type": "code",
            "execution_count": 10,
            "source": [
                "# Let's check how may brands we get\n",
                "print('Unique Brands :',len(df['brand'].unique()))\n",
                "df['brand'].value_counts()"
            ],
            "outputs": [
                {
                    "output_type": "stream",
                    "name": "stdout",
                    "text": [
                        "Unique Brands : 28\n"
                    ]
                },
                {
                    "output_type": "execute_result",
                    "data": {
                        "text/plain": [
                            "Bajaj              1103\n",
                            "Honda              1061\n",
                            "Royal               845\n",
                            "Hero                815\n",
                            "TVS                 677\n",
                            "Yamaha              349\n",
                            "KTM                 309\n",
                            "Suzuki              144\n",
                            "Harley-Davidson      40\n",
                            "Jawa                 33\n",
                            "UM                   27\n",
                            "Kawasaki             16\n",
                            "Benelli              13\n",
                            "Triumph              11\n",
                            "Hyosung              10\n",
                            "Aprilia               9\n",
                            "Husqvarna             8\n",
                            "Mahindra              8\n",
                            "Vespa                 6\n",
                            "Ducati                6\n",
                            "BMW                   3\n",
                            "JAWA                  3\n",
                            "LML                   2\n",
                            "Okinawa               2\n",
                            "22Kymco               1\n",
                            "Fb                    1\n",
                            "Piaggio               1\n",
                            "Indian                1\n",
                            "Name: brand, dtype: int64"
                        ]
                    },
                    "metadata": {},
                    "execution_count": 10
                }
            ],
            "metadata": {}
        },
        {
            "cell_type": "markdown",
            "source": [
                "### Let's take only top 13 brands as our base brand & make other as 'other' category"
            ],
            "metadata": {}
        },
        {
            "cell_type": "code",
            "execution_count": 11,
            "source": [
                "top_brands = df['brand'].value_counts().index[:13]"
            ],
            "outputs": [],
            "metadata": {}
        },
        {
            "cell_type": "code",
            "execution_count": 12,
            "source": [
                "df['brand'] = df['brand'].apply(lambda x: x if x in top_brands else 'other')"
            ],
            "outputs": [],
            "metadata": {}
        },
        {
            "cell_type": "code",
            "execution_count": 13,
            "source": [
                "df.sample(10)"
            ],
            "outputs": [
                {
                    "output_type": "execute_result",
                    "data": {
                        "text/plain": [
                            "               model_name  model_year  kms_driven owner    location  \\\n",
                            "2662                Honda        2017     29259.0   1st       Delhi   \n",
                            "3624                  KTM        2015     47507.0   1st       Delhi   \n",
                            "4525           TVS Apache        2020      5500.0   1st    Dehradun   \n",
                            "3402                Honda        2017     42650.0   1st       Delhi   \n",
                            "5129             Honda CB        2016     39000.0   1st   Hyderabad   \n",
                            "894         Honda Aviator        2013     40000.0   1st      Mumbai   \n",
                            "4665         Bajaj Pulsar        2019     56000.0   5th      Jaipur   \n",
                            "4081  Triumph Thunderbird        2017     15000.0   1st       Delhi   \n",
                            "2848                Royal        2018     34804.0   1st       Delhi   \n",
                            "834         Royal Enfield        2019     13000.0   1st  Kundrathur   \n",
                            "\n",
                            "          price  brand  \n",
                            "2662    52000.0  Honda  \n",
                            "3624    99000.0    KTM  \n",
                            "4525   100000.0    TVS  \n",
                            "3402    44000.0  Honda  \n",
                            "5129    53000.0  Honda  \n",
                            "894     30000.0  Honda  \n",
                            "4665    46800.0  Bajaj  \n",
                            "4081  1063500.0  other  \n",
                            "2848   139000.0  Royal  \n",
                            "834    170000.0  Royal  "
                        ],
                        "text/html": [
                            "<div>\n",
                            "<style scoped>\n",
                            "    .dataframe tbody tr th:only-of-type {\n",
                            "        vertical-align: middle;\n",
                            "    }\n",
                            "\n",
                            "    .dataframe tbody tr th {\n",
                            "        vertical-align: top;\n",
                            "    }\n",
                            "\n",
                            "    .dataframe thead th {\n",
                            "        text-align: right;\n",
                            "    }\n",
                            "</style>\n",
                            "<table border=\"1\" class=\"dataframe\">\n",
                            "  <thead>\n",
                            "    <tr style=\"text-align: right;\">\n",
                            "      <th></th>\n",
                            "      <th>model_name</th>\n",
                            "      <th>model_year</th>\n",
                            "      <th>kms_driven</th>\n",
                            "      <th>owner</th>\n",
                            "      <th>location</th>\n",
                            "      <th>price</th>\n",
                            "      <th>brand</th>\n",
                            "    </tr>\n",
                            "  </thead>\n",
                            "  <tbody>\n",
                            "    <tr>\n",
                            "      <th>2662</th>\n",
                            "      <td>Honda</td>\n",
                            "      <td>2017</td>\n",
                            "      <td>29259.0</td>\n",
                            "      <td>1st</td>\n",
                            "      <td>Delhi</td>\n",
                            "      <td>52000.0</td>\n",
                            "      <td>Honda</td>\n",
                            "    </tr>\n",
                            "    <tr>\n",
                            "      <th>3624</th>\n",
                            "      <td>KTM</td>\n",
                            "      <td>2015</td>\n",
                            "      <td>47507.0</td>\n",
                            "      <td>1st</td>\n",
                            "      <td>Delhi</td>\n",
                            "      <td>99000.0</td>\n",
                            "      <td>KTM</td>\n",
                            "    </tr>\n",
                            "    <tr>\n",
                            "      <th>4525</th>\n",
                            "      <td>TVS Apache</td>\n",
                            "      <td>2020</td>\n",
                            "      <td>5500.0</td>\n",
                            "      <td>1st</td>\n",
                            "      <td>Dehradun</td>\n",
                            "      <td>100000.0</td>\n",
                            "      <td>TVS</td>\n",
                            "    </tr>\n",
                            "    <tr>\n",
                            "      <th>3402</th>\n",
                            "      <td>Honda</td>\n",
                            "      <td>2017</td>\n",
                            "      <td>42650.0</td>\n",
                            "      <td>1st</td>\n",
                            "      <td>Delhi</td>\n",
                            "      <td>44000.0</td>\n",
                            "      <td>Honda</td>\n",
                            "    </tr>\n",
                            "    <tr>\n",
                            "      <th>5129</th>\n",
                            "      <td>Honda CB</td>\n",
                            "      <td>2016</td>\n",
                            "      <td>39000.0</td>\n",
                            "      <td>1st</td>\n",
                            "      <td>Hyderabad</td>\n",
                            "      <td>53000.0</td>\n",
                            "      <td>Honda</td>\n",
                            "    </tr>\n",
                            "    <tr>\n",
                            "      <th>894</th>\n",
                            "      <td>Honda Aviator</td>\n",
                            "      <td>2013</td>\n",
                            "      <td>40000.0</td>\n",
                            "      <td>1st</td>\n",
                            "      <td>Mumbai</td>\n",
                            "      <td>30000.0</td>\n",
                            "      <td>Honda</td>\n",
                            "    </tr>\n",
                            "    <tr>\n",
                            "      <th>4665</th>\n",
                            "      <td>Bajaj Pulsar</td>\n",
                            "      <td>2019</td>\n",
                            "      <td>56000.0</td>\n",
                            "      <td>5th</td>\n",
                            "      <td>Jaipur</td>\n",
                            "      <td>46800.0</td>\n",
                            "      <td>Bajaj</td>\n",
                            "    </tr>\n",
                            "    <tr>\n",
                            "      <th>4081</th>\n",
                            "      <td>Triumph Thunderbird</td>\n",
                            "      <td>2017</td>\n",
                            "      <td>15000.0</td>\n",
                            "      <td>1st</td>\n",
                            "      <td>Delhi</td>\n",
                            "      <td>1063500.0</td>\n",
                            "      <td>other</td>\n",
                            "    </tr>\n",
                            "    <tr>\n",
                            "      <th>2848</th>\n",
                            "      <td>Royal</td>\n",
                            "      <td>2018</td>\n",
                            "      <td>34804.0</td>\n",
                            "      <td>1st</td>\n",
                            "      <td>Delhi</td>\n",
                            "      <td>139000.0</td>\n",
                            "      <td>Royal</td>\n",
                            "    </tr>\n",
                            "    <tr>\n",
                            "      <th>834</th>\n",
                            "      <td>Royal Enfield</td>\n",
                            "      <td>2019</td>\n",
                            "      <td>13000.0</td>\n",
                            "      <td>1st</td>\n",
                            "      <td>Kundrathur</td>\n",
                            "      <td>170000.0</td>\n",
                            "      <td>Royal</td>\n",
                            "    </tr>\n",
                            "  </tbody>\n",
                            "</table>\n",
                            "</div>"
                        ]
                    },
                    "metadata": {},
                    "execution_count": 13
                }
            ],
            "metadata": {}
        },
        {
            "cell_type": "markdown",
            "source": [
                "### Let's change the 'Royal' to 'Royal Enfield' as the actual brand"
            ],
            "metadata": {}
        },
        {
            "cell_type": "code",
            "execution_count": 14,
            "source": [
                "df['brand'] = df.brand.str.replace('Royal','Royal Enfield')"
            ],
            "outputs": [],
            "metadata": {}
        },
        {
            "cell_type": "code",
            "execution_count": 15,
            "source": [
                "df.sample(5)"
            ],
            "outputs": [
                {
                    "output_type": "execute_result",
                    "data": {
                        "text/plain": [
                            "         model_name  model_year  kms_driven owner location     price  \\\n",
                            "1413   Honda Activa        2020      2000.0   1st  Bhiwadi   85000.0   \n",
                            "4874  Royal Enfield        2019     11000.0   1st    Delhi  165000.0   \n",
                            "338      TVS Apache        2019      6000.0   1st    Delhi  190000.0   \n",
                            "2072  Royal Enfield        2017     28000.0   1st  Chennai  120000.0   \n",
                            "2610            TVS        2015     35867.0   1st    Delhi   39000.0   \n",
                            "\n",
                            "              brand  \n",
                            "1413          Honda  \n",
                            "4874  Royal Enfield  \n",
                            "338             TVS  \n",
                            "2072  Royal Enfield  \n",
                            "2610            TVS  "
                        ],
                        "text/html": [
                            "<div>\n",
                            "<style scoped>\n",
                            "    .dataframe tbody tr th:only-of-type {\n",
                            "        vertical-align: middle;\n",
                            "    }\n",
                            "\n",
                            "    .dataframe tbody tr th {\n",
                            "        vertical-align: top;\n",
                            "    }\n",
                            "\n",
                            "    .dataframe thead th {\n",
                            "        text-align: right;\n",
                            "    }\n",
                            "</style>\n",
                            "<table border=\"1\" class=\"dataframe\">\n",
                            "  <thead>\n",
                            "    <tr style=\"text-align: right;\">\n",
                            "      <th></th>\n",
                            "      <th>model_name</th>\n",
                            "      <th>model_year</th>\n",
                            "      <th>kms_driven</th>\n",
                            "      <th>owner</th>\n",
                            "      <th>location</th>\n",
                            "      <th>price</th>\n",
                            "      <th>brand</th>\n",
                            "    </tr>\n",
                            "  </thead>\n",
                            "  <tbody>\n",
                            "    <tr>\n",
                            "      <th>1413</th>\n",
                            "      <td>Honda Activa</td>\n",
                            "      <td>2020</td>\n",
                            "      <td>2000.0</td>\n",
                            "      <td>1st</td>\n",
                            "      <td>Bhiwadi</td>\n",
                            "      <td>85000.0</td>\n",
                            "      <td>Honda</td>\n",
                            "    </tr>\n",
                            "    <tr>\n",
                            "      <th>4874</th>\n",
                            "      <td>Royal Enfield</td>\n",
                            "      <td>2019</td>\n",
                            "      <td>11000.0</td>\n",
                            "      <td>1st</td>\n",
                            "      <td>Delhi</td>\n",
                            "      <td>165000.0</td>\n",
                            "      <td>Royal Enfield</td>\n",
                            "    </tr>\n",
                            "    <tr>\n",
                            "      <th>338</th>\n",
                            "      <td>TVS Apache</td>\n",
                            "      <td>2019</td>\n",
                            "      <td>6000.0</td>\n",
                            "      <td>1st</td>\n",
                            "      <td>Delhi</td>\n",
                            "      <td>190000.0</td>\n",
                            "      <td>TVS</td>\n",
                            "    </tr>\n",
                            "    <tr>\n",
                            "      <th>2072</th>\n",
                            "      <td>Royal Enfield</td>\n",
                            "      <td>2017</td>\n",
                            "      <td>28000.0</td>\n",
                            "      <td>1st</td>\n",
                            "      <td>Chennai</td>\n",
                            "      <td>120000.0</td>\n",
                            "      <td>Royal Enfield</td>\n",
                            "    </tr>\n",
                            "    <tr>\n",
                            "      <th>2610</th>\n",
                            "      <td>TVS</td>\n",
                            "      <td>2015</td>\n",
                            "      <td>35867.0</td>\n",
                            "      <td>1st</td>\n",
                            "      <td>Delhi</td>\n",
                            "      <td>39000.0</td>\n",
                            "      <td>TVS</td>\n",
                            "    </tr>\n",
                            "  </tbody>\n",
                            "</table>\n",
                            "</div>"
                        ]
                    },
                    "metadata": {},
                    "execution_count": 15
                }
            ],
            "metadata": {}
        },
        {
            "cell_type": "markdown",
            "source": [
                "### Drop the model_name as we can work with the brand only"
            ],
            "metadata": {}
        },
        {
            "cell_type": "code",
            "execution_count": 16,
            "source": [
                "df = df.drop('model_name',axis=1)"
            ],
            "outputs": [],
            "metadata": {}
        },
        {
            "cell_type": "markdown",
            "source": [
                "## Handle owner"
            ],
            "metadata": {}
        },
        {
            "cell_type": "code",
            "execution_count": 17,
            "source": [
                "df.owner.unique()"
            ],
            "outputs": [
                {
                    "output_type": "execute_result",
                    "data": {
                        "text/plain": [
                            "array(['1st', '3rd', '2nd', '5th', '4th'], dtype=object)"
                        ]
                    },
                    "metadata": {},
                    "execution_count": 17
                }
            ],
            "metadata": {}
        },
        {
            "cell_type": "markdown",
            "source": [
                "### owner category is pretty much sorted, we can directly encode that using OrdinalEncoding during model building."
            ],
            "metadata": {}
        },
        {
            "cell_type": "markdown",
            "source": [
                "## Handle location"
            ],
            "metadata": {}
        },
        {
            "cell_type": "code",
            "execution_count": 18,
            "source": [
                "print('Total Unique Locations :',len(df.location.unique()))"
            ],
            "outputs": [
                {
                    "output_type": "stream",
                    "name": "stdout",
                    "text": [
                        "Total Unique Locations : 430\n"
                    ]
                }
            ],
            "metadata": {}
        },
        {
            "cell_type": "code",
            "execution_count": 19,
            "source": [
                "df.location.value_counts()[:10]"
            ],
            "outputs": [
                {
                    "output_type": "execute_result",
                    "data": {
                        "text/plain": [
                            "Delhi        1590\n",
                            "Bangalore     559\n",
                            "Mumbai        525\n",
                            "Hyderabad     332\n",
                            "New Delhi     249\n",
                            "Kolkata       190\n",
                            "Jaipur        181\n",
                            "Ahmedabad     174\n",
                            "Chennai       168\n",
                            "Pune          146\n",
                            "Name: location, dtype: int64"
                        ]
                    },
                    "metadata": {},
                    "execution_count": 19
                }
            ],
            "metadata": {}
        },
        {
            "cell_type": "markdown",
            "source": [
                "### Let's take only top 10 locations as our base categories and make others as 'other' category"
            ],
            "metadata": {}
        },
        {
            "cell_type": "code",
            "execution_count": 20,
            "source": [
                "top_locations = df.location.value_counts().index[:10]"
            ],
            "outputs": [],
            "metadata": {}
        },
        {
            "cell_type": "code",
            "execution_count": 21,
            "source": [
                "df['location'] = df.location.apply(lambda x: x if x in top_locations else 'other')"
            ],
            "outputs": [],
            "metadata": {}
        },
        {
            "cell_type": "code",
            "execution_count": 22,
            "source": [
                "df.sample(10)"
            ],
            "outputs": [
                {
                    "output_type": "execute_result",
                    "data": {
                        "text/plain": [
                            "      model_year  kms_driven owner   location     price          brand\n",
                            "2018        2017     11000.0   1st  Bangalore   18000.0          Honda\n",
                            "2867        2017     27497.0   1st      Delhi   51000.0          Bajaj\n",
                            "3029        2019     32083.0   1st      Delhi   61000.0           Hero\n",
                            "1453        2019      5500.0   1st     Mumbai   18500.0          Honda\n",
                            "589         2020      5300.0   1st       Pune  220000.0          Bajaj\n",
                            "4261        2018      6200.0   1st    Chennai   68500.0          Bajaj\n",
                            "5363        2016     16000.0   1st     Jaipur  136400.0  Royal Enfield\n",
                            "288         2009     39000.0   1st      other   35000.0           Hero\n",
                            "4676        2010     46000.0   1st      other   22000.0           Hero\n",
                            "906         2020      2000.0   1st      other  140000.0         Yamaha"
                        ],
                        "text/html": [
                            "<div>\n",
                            "<style scoped>\n",
                            "    .dataframe tbody tr th:only-of-type {\n",
                            "        vertical-align: middle;\n",
                            "    }\n",
                            "\n",
                            "    .dataframe tbody tr th {\n",
                            "        vertical-align: top;\n",
                            "    }\n",
                            "\n",
                            "    .dataframe thead th {\n",
                            "        text-align: right;\n",
                            "    }\n",
                            "</style>\n",
                            "<table border=\"1\" class=\"dataframe\">\n",
                            "  <thead>\n",
                            "    <tr style=\"text-align: right;\">\n",
                            "      <th></th>\n",
                            "      <th>model_year</th>\n",
                            "      <th>kms_driven</th>\n",
                            "      <th>owner</th>\n",
                            "      <th>location</th>\n",
                            "      <th>price</th>\n",
                            "      <th>brand</th>\n",
                            "    </tr>\n",
                            "  </thead>\n",
                            "  <tbody>\n",
                            "    <tr>\n",
                            "      <th>2018</th>\n",
                            "      <td>2017</td>\n",
                            "      <td>11000.0</td>\n",
                            "      <td>1st</td>\n",
                            "      <td>Bangalore</td>\n",
                            "      <td>18000.0</td>\n",
                            "      <td>Honda</td>\n",
                            "    </tr>\n",
                            "    <tr>\n",
                            "      <th>2867</th>\n",
                            "      <td>2017</td>\n",
                            "      <td>27497.0</td>\n",
                            "      <td>1st</td>\n",
                            "      <td>Delhi</td>\n",
                            "      <td>51000.0</td>\n",
                            "      <td>Bajaj</td>\n",
                            "    </tr>\n",
                            "    <tr>\n",
                            "      <th>3029</th>\n",
                            "      <td>2019</td>\n",
                            "      <td>32083.0</td>\n",
                            "      <td>1st</td>\n",
                            "      <td>Delhi</td>\n",
                            "      <td>61000.0</td>\n",
                            "      <td>Hero</td>\n",
                            "    </tr>\n",
                            "    <tr>\n",
                            "      <th>1453</th>\n",
                            "      <td>2019</td>\n",
                            "      <td>5500.0</td>\n",
                            "      <td>1st</td>\n",
                            "      <td>Mumbai</td>\n",
                            "      <td>18500.0</td>\n",
                            "      <td>Honda</td>\n",
                            "    </tr>\n",
                            "    <tr>\n",
                            "      <th>589</th>\n",
                            "      <td>2020</td>\n",
                            "      <td>5300.0</td>\n",
                            "      <td>1st</td>\n",
                            "      <td>Pune</td>\n",
                            "      <td>220000.0</td>\n",
                            "      <td>Bajaj</td>\n",
                            "    </tr>\n",
                            "    <tr>\n",
                            "      <th>4261</th>\n",
                            "      <td>2018</td>\n",
                            "      <td>6200.0</td>\n",
                            "      <td>1st</td>\n",
                            "      <td>Chennai</td>\n",
                            "      <td>68500.0</td>\n",
                            "      <td>Bajaj</td>\n",
                            "    </tr>\n",
                            "    <tr>\n",
                            "      <th>5363</th>\n",
                            "      <td>2016</td>\n",
                            "      <td>16000.0</td>\n",
                            "      <td>1st</td>\n",
                            "      <td>Jaipur</td>\n",
                            "      <td>136400.0</td>\n",
                            "      <td>Royal Enfield</td>\n",
                            "    </tr>\n",
                            "    <tr>\n",
                            "      <th>288</th>\n",
                            "      <td>2009</td>\n",
                            "      <td>39000.0</td>\n",
                            "      <td>1st</td>\n",
                            "      <td>other</td>\n",
                            "      <td>35000.0</td>\n",
                            "      <td>Hero</td>\n",
                            "    </tr>\n",
                            "    <tr>\n",
                            "      <th>4676</th>\n",
                            "      <td>2010</td>\n",
                            "      <td>46000.0</td>\n",
                            "      <td>1st</td>\n",
                            "      <td>other</td>\n",
                            "      <td>22000.0</td>\n",
                            "      <td>Hero</td>\n",
                            "    </tr>\n",
                            "    <tr>\n",
                            "      <th>906</th>\n",
                            "      <td>2020</td>\n",
                            "      <td>2000.0</td>\n",
                            "      <td>1st</td>\n",
                            "      <td>other</td>\n",
                            "      <td>140000.0</td>\n",
                            "      <td>Yamaha</td>\n",
                            "    </tr>\n",
                            "  </tbody>\n",
                            "</table>\n",
                            "</div>"
                        ]
                    },
                    "metadata": {},
                    "execution_count": 22
                }
            ],
            "metadata": {}
        },
        {
            "cell_type": "code",
            "execution_count": 23,
            "source": [
                "# Recorder the column\n",
                "# new_order = ['brand','model_year','kms_driven','owner','location','price']\n",
                "new_order = [5,0,1,2,3,4]\n",
                "df = df[df.columns[new_order]]"
            ],
            "outputs": [],
            "metadata": {}
        },
        {
            "cell_type": "code",
            "execution_count": 24,
            "source": [
                "df.sample()"
            ],
            "outputs": [
                {
                    "output_type": "execute_result",
                    "data": {
                        "text/plain": [
                            "              brand  model_year  kms_driven owner   location     price\n",
                            "4292  Royal Enfield        2015     24000.0   1st  Bangalore  115000.0"
                        ],
                        "text/html": [
                            "<div>\n",
                            "<style scoped>\n",
                            "    .dataframe tbody tr th:only-of-type {\n",
                            "        vertical-align: middle;\n",
                            "    }\n",
                            "\n",
                            "    .dataframe tbody tr th {\n",
                            "        vertical-align: top;\n",
                            "    }\n",
                            "\n",
                            "    .dataframe thead th {\n",
                            "        text-align: right;\n",
                            "    }\n",
                            "</style>\n",
                            "<table border=\"1\" class=\"dataframe\">\n",
                            "  <thead>\n",
                            "    <tr style=\"text-align: right;\">\n",
                            "      <th></th>\n",
                            "      <th>brand</th>\n",
                            "      <th>model_year</th>\n",
                            "      <th>kms_driven</th>\n",
                            "      <th>owner</th>\n",
                            "      <th>location</th>\n",
                            "      <th>price</th>\n",
                            "    </tr>\n",
                            "  </thead>\n",
                            "  <tbody>\n",
                            "    <tr>\n",
                            "      <th>4292</th>\n",
                            "      <td>Royal Enfield</td>\n",
                            "      <td>2015</td>\n",
                            "      <td>24000.0</td>\n",
                            "      <td>1st</td>\n",
                            "      <td>Bangalore</td>\n",
                            "      <td>115000.0</td>\n",
                            "    </tr>\n",
                            "  </tbody>\n",
                            "</table>\n",
                            "</div>"
                        ]
                    },
                    "metadata": {},
                    "execution_count": 24
                }
            ],
            "metadata": {}
        },
        {
            "cell_type": "code",
            "execution_count": 25,
            "source": [
                "# make the price as int data type\n",
                "df['price'] = df['price'].astype(int)"
            ],
            "outputs": [],
            "metadata": {}
        },
        {
            "cell_type": "code",
            "execution_count": 26,
            "source": [
                "df.info()"
            ],
            "outputs": [
                {
                    "output_type": "stream",
                    "name": "stdout",
                    "text": [
                        "<class 'pandas.core.frame.DataFrame'>\n",
                        "RangeIndex: 5504 entries, 0 to 5503\n",
                        "Data columns (total 6 columns):\n",
                        " #   Column      Non-Null Count  Dtype  \n",
                        "---  ------      --------------  -----  \n",
                        " 0   brand       5504 non-null   object \n",
                        " 1   model_year  5504 non-null   int64  \n",
                        " 2   kms_driven  5504 non-null   float64\n",
                        " 3   owner       5504 non-null   object \n",
                        " 4   location    5504 non-null   object \n",
                        " 5   price       5504 non-null   int64  \n",
                        "dtypes: float64(1), int64(2), object(3)\n",
                        "memory usage: 258.1+ KB\n"
                    ]
                }
            ],
            "metadata": {}
        },
        {
            "cell_type": "markdown",
            "source": [
                "## Outlier Detection"
            ],
            "metadata": {}
        },
        {
            "cell_type": "code",
            "execution_count": 27,
            "source": [
                "def box_plot(df):\n",
                "    numeric_columns = df.select_dtypes(include=np.number).columns.tolist()\n",
                "\n",
                "    # outlier detection using boxplot\n",
                "    plt.figure(figsize=(20,30))\n",
                "\n",
                "    for i, variable in enumerate(numeric_columns):\n",
                "        plt.subplot(5,4,i+1)\n",
                "        plt.boxplot(df[variable],whis=1.5)\n",
                "        plt.tight_layout()\n",
                "        plt.title(variable)\n",
                "\n",
                "    plt.show()\n",
                "\n",
                "box_plot(df)"
            ],
            "outputs": [
                {
                    "output_type": "display_data",
                    "data": {
                        "text/plain": [
                            "<Figure size 1440x2160 with 3 Axes>"
                        ],
                        "image/png": "[encoded data removed]"
                    },
                    "metadata": {
                        "needs_background": "light"
                    }
                }
            ],
            "metadata": {}
        },
        {
            "cell_type": "code",
            "execution_count": 28,
            "source": [
                "new_df = df[~(df['kms_driven'] >= 50000)]"
            ],
            "outputs": [],
            "metadata": {}
        },
        {
            "cell_type": "code",
            "execution_count": 29,
            "source": [
                "box_plot(new_df)"
            ],
            "outputs": [
                {
                    "output_type": "display_data",
                    "data": {
                        "text/plain": [
                            "<Figure size 1440x2160 with 3 Axes>"
                        ],
                        "image/png": "[encoded data removed]"
                    },
                    "metadata": {
                        "needs_background": "light"
                    }
                }
            ],
            "metadata": {}
        },
        {
            "cell_type": "code",
            "execution_count": 30,
            "source": [
                "new_df = new_df[new_df['price'] <= .5e6]"
            ],
            "outputs": [],
            "metadata": {}
        },
        {
            "cell_type": "code",
            "execution_count": 31,
            "source": [
                "box_plot(new_df)"
            ],
            "outputs": [
                {
                    "output_type": "display_data",
                    "data": {
                        "text/plain": [
                            "<Figure size 1440x2160 with 3 Axes>"
                        ],
                        "image/png": "[encoded data removed]"
                    },
                    "metadata": {
                        "needs_background": "light"
                    }
                }
            ],
            "metadata": {}
        },
        {
            "cell_type": "code",
            "execution_count": 32,
            "source": [
                "new_df = new_df[new_df['model_year'] >= 2000]\n",
                "new_df.shape"
            ],
            "outputs": [
                {
                    "output_type": "execute_result",
                    "data": {
                        "text/plain": [
                            "(0, 6)"
                        ]
                    },
                    "metadata": {},
                    "execution_count": 32
                }
            ],
            "metadata": {}
        },
        {
            "cell_type": "code",
            "execution_count": 33,
            "source": [
                "box_plot(new_df)"
            ],
            "outputs": [
                {
                    "output_type": "display_data",
                    "data": {
                        "text/plain": [
                            "<Figure size 1440x2160 with 3 Axes>"
                        ],
                        "image/png": "[encoded data removed]"
                    },
                    "metadata": {
                        "needs_background": "light"
                    }
                }
            ],
            "metadata": {}
        },
        {
            "cell_type": "code",
            "execution_count": 34,
            "source": [
                "new_df.describe()"
            ],
            "outputs": [
                {
                    "output_type": "execute_result",
                    "data": {
                        "text/plain": [
                            "       model_year  kms_driven  price\n",
                            "count         0.0         0.0    0.0\n",
                            "mean          NaN         NaN    NaN\n",
                            "std           NaN         NaN    NaN\n",
                            "min           NaN         NaN    NaN\n",
                            "25%           NaN         NaN    NaN\n",
                            "50%           NaN         NaN    NaN\n",
                            "75%           NaN         NaN    NaN\n",
                            "max           NaN         NaN    NaN"
                        ],
                        "text/html": [
                            "<div>\n",
                            "<style scoped>\n",
                            "    .dataframe tbody tr th:only-of-type {\n",
                            "        vertical-align: middle;\n",
                            "    }\n",
                            "\n",
                            "    .dataframe tbody tr th {\n",
                            "        vertical-align: top;\n",
                            "    }\n",
                            "\n",
                            "    .dataframe thead th {\n",
                            "        text-align: right;\n",
                            "    }\n",
                            "</style>\n",
                            "<table border=\"1\" class=\"dataframe\">\n",
                            "  <thead>\n",
                            "    <tr style=\"text-align: right;\">\n",
                            "      <th></th>\n",
                            "      <th>model_year</th>\n",
                            "      <th>kms_driven</th>\n",
                            "      <th>price</th>\n",
                            "    </tr>\n",
                            "  </thead>\n",
                            "  <tbody>\n",
                            "    <tr>\n",
                            "      <th>count</th>\n",
                            "      <td>0.0</td>\n",
                            "      <td>0.0</td>\n",
                            "      <td>0.0</td>\n",
                            "    </tr>\n",
                            "    <tr>\n",
                            "      <th>mean</th>\n",
                            "      <td>NaN</td>\n",
                            "      <td>NaN</td>\n",
                            "      <td>NaN</td>\n",
                            "    </tr>\n",
                            "    <tr>\n",
                            "      <th>std</th>\n",
                            "      <td>NaN</td>\n",
                            "      <td>NaN</td>\n",
                            "      <td>NaN</td>\n",
                            "    </tr>\n",
                            "    <tr>\n",
                            "      <th>min</th>\n",
                            "      <td>NaN</td>\n",
                            "      <td>NaN</td>\n",
                            "      <td>NaN</td>\n",
                            "    </tr>\n",
                            "    <tr>\n",
                            "      <th>25%</th>\n",
                            "      <td>NaN</td>\n",
                            "      <td>NaN</td>\n",
                            "      <td>NaN</td>\n",
                            "    </tr>\n",
                            "    <tr>\n",
                            "      <th>50%</th>\n",
                            "      <td>NaN</td>\n",
                            "      <td>NaN</td>\n",
                            "      <td>NaN</td>\n",
                            "    </tr>\n",
                            "    <tr>\n",
                            "      <th>75%</th>\n",
                            "      <td>NaN</td>\n",
                            "      <td>NaN</td>\n",
                            "      <td>NaN</td>\n",
                            "    </tr>\n",
                            "    <tr>\n",
                            "      <th>max</th>\n",
                            "      <td>NaN</td>\n",
                            "      <td>NaN</td>\n",
                            "      <td>NaN</td>\n",
                            "    </tr>\n",
                            "  </tbody>\n",
                            "</table>\n",
                            "</div>"
                        ]
                    },
                    "metadata": {},
                    "execution_count": 34
                }
            ],
            "metadata": {}
        },
        {
            "cell_type": "code",
            "execution_count": 35,
            "source": [
                "## Save the processed data\n",
                "df = new_df\n",
                "df.to_csv('../data/processed/processed.csv',index=False)"
            ],
            "outputs": [],
            "metadata": {}
        }
    ],
    "metadata": {
        "orig_nbformat": 4,
        "language_info": {
            "name": "python",
            "version": "3.8.8",
            "mimetype": "text/x-python",
            "codemirror_mode": {
                "name": "ipython",
                "version": 3
            },
            "pygments_lexer": "ipython3",
            "nbconvert_exporter": "python",
            "file_extension": ".py"
        },
        "kernelspec": {
            "name": "python3",
            "display_name": "Python 3.8.8 64-bit ('anaconda3': virtualenv)"
        },
        "interpreter": {
            "hash": "d213f6e5b8fd7d14bb00958cfb5f51bfe315e9248ff051fde0d0d79c3d0f4eba"
        }
    },
    "nbformat": 4,
    "nbformat_minor": 2
}