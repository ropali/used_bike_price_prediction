{
    "cells": [
        {
            "cell_type": "code",
            "execution_count": 1,
            "source": [
                "import pandas as pd\n",
                "import numpy as np\n",
                "import matplotlib.pyplot as plt\n",
                "import seaborn as sns"
            ],
            "outputs": [],
            "metadata": {}
        },
        {
            "cell_type": "code",
            "execution_count": 2,
            "source": [
                "df = pd.read_csv('../data/processed/data.csv')"
            ],
            "outputs": [],
            "metadata": {}
        },
        {
            "cell_type": "code",
            "execution_count": 3,
            "source": [
                "df.shape"
            ],
            "outputs": [
                {
                    "output_type": "execute_result",
                    "data": {
                        "text/plain": [
                            "(7816, 8)"
                        ]
                    },
                    "metadata": {},
                    "execution_count": 3
                }
            ],
            "metadata": {}
        },
        {
            "cell_type": "code",
            "execution_count": 4,
            "source": [
                "df.head()"
            ],
            "outputs": [
                {
                    "output_type": "execute_result",
                    "data": {
                        "text/html": [
                            "<div>\n",
                            "<style scoped>\n",
                            "    .dataframe tbody tr th:only-of-type {\n",
                            "        vertical-align: middle;\n",
                            "    }\n",
                            "\n",
                            "    .dataframe tbody tr th {\n",
                            "        vertical-align: top;\n",
                            "    }\n",
                            "\n",
                            "    .dataframe thead th {\n",
                            "        text-align: right;\n",
                            "    }\n",
                            "</style>\n",
                            "<table border=\"1\" class=\"dataframe\">\n",
                            "  <thead>\n",
                            "    <tr style=\"text-align: right;\">\n",
                            "      <th></th>\n",
                            "      <th>model_name</th>\n",
                            "      <th>model_year</th>\n",
                            "      <th>kms_driven</th>\n",
                            "      <th>owner</th>\n",
                            "      <th>location</th>\n",
                            "      <th>mileage</th>\n",
                            "      <th>power</th>\n",
                            "      <th>price</th>\n",
                            "    </tr>\n",
                            "  </thead>\n",
                            "  <tbody>\n",
                            "    <tr>\n",
                            "      <th>0</th>\n",
                            "      <td>Yamaha SZR 150cc 2012</td>\n",
                            "      <td>2012</td>\n",
                            "      <td>34000.0</td>\n",
                            "      <td>first</td>\n",
                            "      <td>bengaluru</td>\n",
                            "      <td>NaN</td>\n",
                            "      <td>12.0</td>\n",
                            "      <td>24000.0</td>\n",
                            "    </tr>\n",
                            "    <tr>\n",
                            "      <th>1</th>\n",
                            "      <td>Hero CD Dawn 100cc 2005</td>\n",
                            "      <td>2005</td>\n",
                            "      <td>28000.0</td>\n",
                            "      <td>first</td>\n",
                            "      <td>ghaziabad</td>\n",
                            "      <td>72.0</td>\n",
                            "      <td>7.0</td>\n",
                            "      <td>10000.0</td>\n",
                            "    </tr>\n",
                            "    <tr>\n",
                            "      <th>2</th>\n",
                            "      <td>Bajaj Avenger Street 220 2017</td>\n",
                            "      <td>2017</td>\n",
                            "      <td>5947.0</td>\n",
                            "      <td>first</td>\n",
                            "      <td>chennai</td>\n",
                            "      <td>53.0</td>\n",
                            "      <td>19.0</td>\n",
                            "      <td>80000.0</td>\n",
                            "    </tr>\n",
                            "    <tr>\n",
                            "      <th>3</th>\n",
                            "      <td>Jawa Standard 295CC Dual ABS BS6 2020</td>\n",
                            "      <td>2020</td>\n",
                            "      <td>2700.0</td>\n",
                            "      <td>first</td>\n",
                            "      <td>mumbai</td>\n",
                            "      <td>NaN</td>\n",
                            "      <td>27.0</td>\n",
                            "      <td>160000.0</td>\n",
                            "    </tr>\n",
                            "    <tr>\n",
                            "      <th>4</th>\n",
                            "      <td>Hero Xpulse 200cc BS6 2021</td>\n",
                            "      <td>2021</td>\n",
                            "      <td>628.0</td>\n",
                            "      <td>first</td>\n",
                            "      <td>gwalior</td>\n",
                            "      <td>46.4</td>\n",
                            "      <td>17.8</td>\n",
                            "      <td>110000.0</td>\n",
                            "    </tr>\n",
                            "  </tbody>\n",
                            "</table>\n",
                            "</div>"
                        ],
                        "text/plain": [
                            "                              model_name  model_year  kms_driven   owner  \\\n",
                            "0                  Yamaha SZR 150cc 2012        2012     34000.0  first    \n",
                            "1                Hero CD Dawn 100cc 2005        2005     28000.0  first    \n",
                            "2          Bajaj Avenger Street 220 2017        2017      5947.0  first    \n",
                            "3  Jawa Standard 295CC Dual ABS BS6 2020        2020      2700.0  first    \n",
                            "4             Hero Xpulse 200cc BS6 2021        2021       628.0  first    \n",
                            "\n",
                            "    location  mileage  power     price  \n",
                            "0  bengaluru      NaN   12.0   24000.0  \n",
                            "1  ghaziabad     72.0    7.0   10000.0  \n",
                            "2    chennai     53.0   19.0   80000.0  \n",
                            "3     mumbai      NaN   27.0  160000.0  \n",
                            "4    gwalior     46.4   17.8  110000.0  "
                        ]
                    },
                    "metadata": {},
                    "execution_count": 4
                }
            ],
            "metadata": {}
        },
        {
            "cell_type": "code",
            "execution_count": 5,
            "source": [
                "df.describe()"
            ],
            "outputs": [
                {
                    "output_type": "execute_result",
                    "data": {
                        "text/html": [
                            "<div>\n",
                            "<style scoped>\n",
                            "    .dataframe tbody tr th:only-of-type {\n",
                            "        vertical-align: middle;\n",
                            "    }\n",
                            "\n",
                            "    .dataframe tbody tr th {\n",
                            "        vertical-align: top;\n",
                            "    }\n",
                            "\n",
                            "    .dataframe thead th {\n",
                            "        text-align: right;\n",
                            "    }\n",
                            "</style>\n",
                            "<table border=\"1\" class=\"dataframe\">\n",
                            "  <thead>\n",
                            "    <tr style=\"text-align: right;\">\n",
                            "      <th></th>\n",
                            "      <th>model_year</th>\n",
                            "      <th>kms_driven</th>\n",
                            "      <th>mileage</th>\n",
                            "      <th>power</th>\n",
                            "      <th>price</th>\n",
                            "    </tr>\n",
                            "  </thead>\n",
                            "  <tbody>\n",
                            "    <tr>\n",
                            "      <th>count</th>\n",
                            "      <td>7816.000000</td>\n",
                            "      <td>5685.000000</td>\n",
                            "      <td>6887.000000</td>\n",
                            "      <td>7373.000000</td>\n",
                            "      <td>7.781000e+03</td>\n",
                            "    </tr>\n",
                            "    <tr>\n",
                            "      <th>mean</th>\n",
                            "      <td>2015.232728</td>\n",
                            "      <td>24044.275638</td>\n",
                            "      <td>46.688470</td>\n",
                            "      <td>18.819380</td>\n",
                            "      <td>8.312375e+04</td>\n",
                            "    </tr>\n",
                            "    <tr>\n",
                            "      <th>std</th>\n",
                            "      <td>3.766466</td>\n",
                            "      <td>30572.214968</td>\n",
                            "      <td>16.752272</td>\n",
                            "      <td>9.211988</td>\n",
                            "      <td>7.897726e+04</td>\n",
                            "    </tr>\n",
                            "    <tr>\n",
                            "      <th>min</th>\n",
                            "      <td>1950.000000</td>\n",
                            "      <td>0.000000</td>\n",
                            "      <td>5.000000</td>\n",
                            "      <td>7.000000</td>\n",
                            "      <td>2.000000e+03</td>\n",
                            "    </tr>\n",
                            "    <tr>\n",
                            "      <th>25%</th>\n",
                            "      <td>2014.000000</td>\n",
                            "      <td>9488.000000</td>\n",
                            "      <td>35.000000</td>\n",
                            "      <td>14.000000</td>\n",
                            "      <td>4.000000e+04</td>\n",
                            "    </tr>\n",
                            "    <tr>\n",
                            "      <th>50%</th>\n",
                            "      <td>2016.000000</td>\n",
                            "      <td>17933.000000</td>\n",
                            "      <td>40.000000</td>\n",
                            "      <td>18.700000</td>\n",
                            "      <td>6.850000e+04</td>\n",
                            "    </tr>\n",
                            "    <tr>\n",
                            "      <th>75%</th>\n",
                            "      <td>2018.000000</td>\n",
                            "      <td>30000.000000</td>\n",
                            "      <td>60.000000</td>\n",
                            "      <td>21.000000</td>\n",
                            "      <td>1.120000e+05</td>\n",
                            "    </tr>\n",
                            "    <tr>\n",
                            "      <th>max</th>\n",
                            "      <td>2021.000000</td>\n",
                            "      <td>1000000.000000</td>\n",
                            "      <td>104.000000</td>\n",
                            "      <td>197.300000</td>\n",
                            "      <td>3.000000e+06</td>\n",
                            "    </tr>\n",
                            "  </tbody>\n",
                            "</table>\n",
                            "</div>"
                        ],
                        "text/plain": [
                            "        model_year      kms_driven      mileage        power         price\n",
                            "count  7816.000000     5685.000000  6887.000000  7373.000000  7.781000e+03\n",
                            "mean   2015.232728    24044.275638    46.688470    18.819380  8.312375e+04\n",
                            "std       3.766466    30572.214968    16.752272     9.211988  7.897726e+04\n",
                            "min    1950.000000        0.000000     5.000000     7.000000  2.000000e+03\n",
                            "25%    2014.000000     9488.000000    35.000000    14.000000  4.000000e+04\n",
                            "50%    2016.000000    17933.000000    40.000000    18.700000  6.850000e+04\n",
                            "75%    2018.000000    30000.000000    60.000000    21.000000  1.120000e+05\n",
                            "max    2021.000000  1000000.000000   104.000000   197.300000  3.000000e+06"
                        ]
                    },
                    "metadata": {},
                    "execution_count": 5
                }
            ],
            "metadata": {}
        },
        {
            "cell_type": "markdown",
            "source": [
                "# Handle model_name"
            ],
            "metadata": {}
        },
        {
            "cell_type": "markdown",
            "source": [
                "### There are too many models, let try to create a brand category using the model name."
            ],
            "metadata": {}
        },
        {
            "cell_type": "code",
            "execution_count": 6,
            "source": [
                "df['brand'] = df['model_name'].apply(lambda x: ' '.join(x.split()[:1]))"
            ],
            "outputs": [],
            "metadata": {}
        },
        {
            "cell_type": "code",
            "execution_count": 7,
            "source": [
                "df.sample(5)"
            ],
            "outputs": [
                {
                    "output_type": "execute_result",
                    "data": {
                        "text/html": [
                            "<div>\n",
                            "<style scoped>\n",
                            "    .dataframe tbody tr th:only-of-type {\n",
                            "        vertical-align: middle;\n",
                            "    }\n",
                            "\n",
                            "    .dataframe tbody tr th {\n",
                            "        vertical-align: top;\n",
                            "    }\n",
                            "\n",
                            "    .dataframe thead th {\n",
                            "        text-align: right;\n",
                            "    }\n",
                            "</style>\n",
                            "<table border=\"1\" class=\"dataframe\">\n",
                            "  <thead>\n",
                            "    <tr style=\"text-align: right;\">\n",
                            "      <th></th>\n",
                            "      <th>model_name</th>\n",
                            "      <th>model_year</th>\n",
                            "      <th>kms_driven</th>\n",
                            "      <th>owner</th>\n",
                            "      <th>location</th>\n",
                            "      <th>mileage</th>\n",
                            "      <th>power</th>\n",
                            "      <th>price</th>\n",
                            "      <th>brand</th>\n",
                            "    </tr>\n",
                            "  </thead>\n",
                            "  <tbody>\n",
                            "    <tr>\n",
                            "      <th>7689</th>\n",
                            "      <td>Bajaj Avenger 220cc 2014</td>\n",
                            "      <td>2014</td>\n",
                            "      <td>17000.0</td>\n",
                            "      <td>first</td>\n",
                            "      <td>thane</td>\n",
                            "      <td>40.0</td>\n",
                            "      <td>19.0</td>\n",
                            "      <td>40000.0</td>\n",
                            "      <td>Bajaj</td>\n",
                            "    </tr>\n",
                            "    <tr>\n",
                            "      <th>5728</th>\n",
                            "      <td>Bajaj Pulsar RS200 ABS 2016</td>\n",
                            "      <td>2016</td>\n",
                            "      <td>NaN</td>\n",
                            "      <td>second</td>\n",
                            "      <td>bangalore</td>\n",
                            "      <td>35.0</td>\n",
                            "      <td>24.5</td>\n",
                            "      <td>80000.0</td>\n",
                            "      <td>Bajaj</td>\n",
                            "    </tr>\n",
                            "    <tr>\n",
                            "      <th>1957</th>\n",
                            "      <td>Bajaj Pulsar AS150 2015</td>\n",
                            "      <td>2015</td>\n",
                            "      <td>19500.0</td>\n",
                            "      <td>first</td>\n",
                            "      <td>pune</td>\n",
                            "      <td>53.0</td>\n",
                            "      <td>16.8</td>\n",
                            "      <td>42000.0</td>\n",
                            "      <td>Bajaj</td>\n",
                            "    </tr>\n",
                            "    <tr>\n",
                            "      <th>7412</th>\n",
                            "      <td>Hero Karizma R 223cc 2008</td>\n",
                            "      <td>2008</td>\n",
                            "      <td>30000.0</td>\n",
                            "      <td>second</td>\n",
                            "      <td>delhi</td>\n",
                            "      <td>40.0</td>\n",
                            "      <td>17.0</td>\n",
                            "      <td>16900.0</td>\n",
                            "      <td>Hero</td>\n",
                            "    </tr>\n",
                            "    <tr>\n",
                            "      <th>956</th>\n",
                            "      <td>Hero CBZ Xtreme 150cc 2013</td>\n",
                            "      <td>2013</td>\n",
                            "      <td>62000.0</td>\n",
                            "      <td>second</td>\n",
                            "      <td>sholinganallur</td>\n",
                            "      <td>65.0</td>\n",
                            "      <td>NaN</td>\n",
                            "      <td>16700.0</td>\n",
                            "      <td>Hero</td>\n",
                            "    </tr>\n",
                            "  </tbody>\n",
                            "</table>\n",
                            "</div>"
                        ],
                        "text/plain": [
                            "                       model_name  model_year  kms_driven    owner  \\\n",
                            "7689     Bajaj Avenger 220cc 2014        2014     17000.0   first    \n",
                            "5728  Bajaj Pulsar RS200 ABS 2016        2016         NaN  second    \n",
                            "1957      Bajaj Pulsar AS150 2015        2015     19500.0   first    \n",
                            "7412    Hero Karizma R 223cc 2008        2008     30000.0  second    \n",
                            "956    Hero CBZ Xtreme 150cc 2013        2013     62000.0  second    \n",
                            "\n",
                            "            location  mileage  power    price  brand  \n",
                            "7689           thane     40.0   19.0  40000.0  Bajaj  \n",
                            "5728       bangalore     35.0   24.5  80000.0  Bajaj  \n",
                            "1957            pune     53.0   16.8  42000.0  Bajaj  \n",
                            "7412           delhi     40.0   17.0  16900.0   Hero  \n",
                            "956   sholinganallur     65.0    NaN  16700.0   Hero  "
                        ]
                    },
                    "metadata": {},
                    "execution_count": 7
                }
            ],
            "metadata": {}
        },
        {
            "cell_type": "code",
            "execution_count": 8,
            "source": [
                "df.brand.value_counts()"
            ],
            "outputs": [
                {
                    "output_type": "execute_result",
                    "data": {
                        "text/plain": [
                            "Bajaj               2234\n",
                            "Royal               1663\n",
                            "Hero                 895\n",
                            "Yamaha               786\n",
                            "TVS                  615\n",
                            "Honda                578\n",
                            "KTM                  532\n",
                            "Suzuki               222\n",
                            "UM                   127\n",
                            "Jawa                  42\n",
                            "Mahindra              35\n",
                            "Harley-Davidson       33\n",
                            "Hyosung               14\n",
                            "Benelli                9\n",
                            "Husqvarna              8\n",
                            "Kawasaki               6\n",
                            "BenelliImperiale       4\n",
                            "Fb                     4\n",
                            "Ducati                 3\n",
                            "Triumph                2\n",
                            "MV                     1\n",
                            "Yazdi                  1\n",
                            "yamaha                 1\n",
                            "Aprilia                1\n",
                            "Name: brand, dtype: int64"
                        ]
                    },
                    "metadata": {},
                    "execution_count": 8
                }
            ],
            "metadata": {}
        },
        {
            "cell_type": "markdown",
            "source": [
                "### We can also extract the engine details as cc from model_name"
            ],
            "metadata": {}
        },
        {
            "cell_type": "code",
            "execution_count": 9,
            "source": [
                "import re\n",
                "def extract_cc(val):\n",
                "    match =  re.search(r\"\\d{2,}(cc)\", val) \n",
                "    if match:\n",
                "        return match.group().replace('cc','')\n",
                "    else:\n",
                "        return None\n",
                "    \n",
                "\n",
                "df['engine'] = df['model_name'].apply(extract_cc)"
            ],
            "outputs": [],
            "metadata": {}
        },
        {
            "cell_type": "code",
            "execution_count": 10,
            "source": [
                "df.sample(5)"
            ],
            "outputs": [
                {
                    "output_type": "execute_result",
                    "data": {
                        "text/html": [
                            "<div>\n",
                            "<style scoped>\n",
                            "    .dataframe tbody tr th:only-of-type {\n",
                            "        vertical-align: middle;\n",
                            "    }\n",
                            "\n",
                            "    .dataframe tbody tr th {\n",
                            "        vertical-align: top;\n",
                            "    }\n",
                            "\n",
                            "    .dataframe thead th {\n",
                            "        text-align: right;\n",
                            "    }\n",
                            "</style>\n",
                            "<table border=\"1\" class=\"dataframe\">\n",
                            "  <thead>\n",
                            "    <tr style=\"text-align: right;\">\n",
                            "      <th></th>\n",
                            "      <th>model_name</th>\n",
                            "      <th>model_year</th>\n",
                            "      <th>kms_driven</th>\n",
                            "      <th>owner</th>\n",
                            "      <th>location</th>\n",
                            "      <th>mileage</th>\n",
                            "      <th>power</th>\n",
                            "      <th>price</th>\n",
                            "      <th>brand</th>\n",
                            "      <th>engine</th>\n",
                            "    </tr>\n",
                            "  </thead>\n",
                            "  <tbody>\n",
                            "    <tr>\n",
                            "      <th>6346</th>\n",
                            "      <td>Royal Enfield Classic 350cc 2017</td>\n",
                            "      <td>2017</td>\n",
                            "      <td>2750.0</td>\n",
                            "      <td>first</td>\n",
                            "      <td>gurgaon</td>\n",
                            "      <td>35.0</td>\n",
                            "      <td>19.8</td>\n",
                            "      <td>134100.0</td>\n",
                            "      <td>Royal</td>\n",
                            "      <td>350</td>\n",
                            "    </tr>\n",
                            "    <tr>\n",
                            "      <th>854</th>\n",
                            "      <td>Honda CB Unicorn 150cc 2009</td>\n",
                            "      <td>2009</td>\n",
                            "      <td>NaN</td>\n",
                            "      <td>second</td>\n",
                            "      <td>thane</td>\n",
                            "      <td>60.0</td>\n",
                            "      <td>14.0</td>\n",
                            "      <td>33200.0</td>\n",
                            "      <td>Honda</td>\n",
                            "      <td>150</td>\n",
                            "    </tr>\n",
                            "    <tr>\n",
                            "      <th>5434</th>\n",
                            "      <td>KTM Duke 250cc 2018</td>\n",
                            "      <td>2018</td>\n",
                            "      <td>20000.0</td>\n",
                            "      <td>first</td>\n",
                            "      <td>pune</td>\n",
                            "      <td>NaN</td>\n",
                            "      <td>29.6</td>\n",
                            "      <td>160000.0</td>\n",
                            "      <td>KTM</td>\n",
                            "      <td>250</td>\n",
                            "    </tr>\n",
                            "    <tr>\n",
                            "      <th>3659</th>\n",
                            "      <td>Hero Passion Xpro 110cc 2013</td>\n",
                            "      <td>2013</td>\n",
                            "      <td>78000.0</td>\n",
                            "      <td>first</td>\n",
                            "      <td>ahmedabad</td>\n",
                            "      <td>55.0</td>\n",
                            "      <td>NaN</td>\n",
                            "      <td>27000.0</td>\n",
                            "      <td>Hero</td>\n",
                            "      <td>110</td>\n",
                            "    </tr>\n",
                            "    <tr>\n",
                            "      <th>3536</th>\n",
                            "      <td>Bajaj Avenger Street 160 ABS 2019</td>\n",
                            "      <td>2019</td>\n",
                            "      <td>2000.0</td>\n",
                            "      <td>first</td>\n",
                            "      <td>kolkata</td>\n",
                            "      <td>NaN</td>\n",
                            "      <td>15.3</td>\n",
                            "      <td>95000.0</td>\n",
                            "      <td>Bajaj</td>\n",
                            "      <td>None</td>\n",
                            "    </tr>\n",
                            "  </tbody>\n",
                            "</table>\n",
                            "</div>"
                        ],
                        "text/plain": [
                            "                             model_name  model_year  kms_driven    owner  \\\n",
                            "6346   Royal Enfield Classic 350cc 2017        2017      2750.0   first    \n",
                            "854         Honda CB Unicorn 150cc 2009        2009         NaN  second    \n",
                            "5434                KTM Duke 250cc 2018        2018     20000.0   first    \n",
                            "3659       Hero Passion Xpro 110cc 2013        2013     78000.0   first    \n",
                            "3536  Bajaj Avenger Street 160 ABS 2019        2019      2000.0   first    \n",
                            "\n",
                            "       location  mileage  power     price  brand engine  \n",
                            "6346    gurgaon     35.0   19.8  134100.0  Royal    350  \n",
                            "854       thane     60.0   14.0   33200.0  Honda    150  \n",
                            "5434       pune      NaN   29.6  160000.0    KTM    250  \n",
                            "3659  ahmedabad     55.0    NaN   27000.0   Hero    110  \n",
                            "3536    kolkata      NaN   15.3   95000.0  Bajaj   None  "
                        ]
                    },
                    "metadata": {},
                    "execution_count": 10
                }
            ],
            "metadata": {}
        },
        {
            "cell_type": "markdown",
            "source": [
                "### We can now drop the model_name feature"
            ],
            "metadata": {}
        },
        {
            "cell_type": "code",
            "execution_count": 11,
            "source": [
                "df = df.drop('model_name',axis=1)"
            ],
            "outputs": [],
            "metadata": {}
        },
        {
            "cell_type": "markdown",
            "source": [
                "# Handle model_year"
            ],
            "metadata": {}
        },
        {
            "cell_type": "markdown",
            "source": [
                "We can use model_year to calculate the age of the bike, Age might give us the better results or representation"
            ],
            "metadata": {}
        },
        {
            "cell_type": "code",
            "execution_count": 12,
            "source": [
                "from datetime import date\n",
                "current_year = date.today().year\n",
                "\n",
                "df['age'] = df.model_year.apply(lambda x: current_year - x if x else None )"
            ],
            "outputs": [],
            "metadata": {}
        },
        {
            "cell_type": "markdown",
            "source": [
                "### Let's drop the model_year"
            ],
            "metadata": {}
        },
        {
            "cell_type": "code",
            "execution_count": 13,
            "source": [
                "df = df.drop('model_year',axis=1)"
            ],
            "outputs": [],
            "metadata": {}
        },
        {
            "cell_type": "markdown",
            "source": [
                "# Handle kms_driven"
            ],
            "metadata": {}
        },
        {
            "cell_type": "markdown",
            "source": [
                "### Missing values will be hanled latter"
            ],
            "metadata": {}
        },
        {
            "cell_type": "markdown",
            "source": [
                "# Handle owner"
            ],
            "metadata": {}
        },
        {
            "cell_type": "code",
            "execution_count": 14,
            "source": [
                "# remove whitespace\n",
                "df['owner'] = df.owner.str.strip()"
            ],
            "outputs": [],
            "metadata": {}
        },
        {
            "cell_type": "code",
            "execution_count": 15,
            "source": [
                "df.owner.unique()"
            ],
            "outputs": [
                {
                    "output_type": "execute_result",
                    "data": {
                        "text/plain": [
                            "array(['first', 'second', 'fourth', 'third'], dtype=object)"
                        ]
                    },
                    "metadata": {},
                    "execution_count": 15
                }
            ],
            "metadata": {}
        },
        {
            "cell_type": "code",
            "execution_count": 16,
            "source": [
                "print(df.owner.isnull().sum())"
            ],
            "outputs": [
                {
                    "output_type": "stream",
                    "name": "stdout",
                    "text": [
                        "0\n"
                    ]
                }
            ],
            "metadata": {}
        },
        {
            "cell_type": "markdown",
            "source": [
                "### Let's leave here only other things will handle during encoding"
            ],
            "metadata": {}
        },
        {
            "cell_type": "markdown",
            "source": [
                "# Handle location"
            ],
            "metadata": {}
        },
        {
            "cell_type": "code",
            "execution_count": 17,
            "source": [
                "df.location.value_counts()[:10]"
            ],
            "outputs": [
                {
                    "output_type": "execute_result",
                    "data": {
                        "text/plain": [
                            "delhi        1475\n",
                            "bangalore     776\n",
                            "mumbai        714\n",
                            "jaipur        368\n",
                            "pune          350\n",
                            "chennai       340\n",
                            "gurgaon       314\n",
                            "hyderabad     307\n",
                            "ahmedabad     267\n",
                            "faridabad     179\n",
                            "Name: location, dtype: int64"
                        ]
                    },
                    "metadata": {},
                    "execution_count": 17
                }
            ],
            "metadata": {}
        },
        {
            "cell_type": "markdown",
            "source": [
                "## Let's take only top 5 locations and make other as 'others'"
            ],
            "metadata": {}
        },
        {
            "cell_type": "code",
            "execution_count": 18,
            "source": [
                "top_locations = df.location.value_counts().index[:5]\n",
                "print(top_locations)"
            ],
            "outputs": [
                {
                    "output_type": "stream",
                    "name": "stdout",
                    "text": [
                        "Index(['delhi', 'bangalore', 'mumbai', 'jaipur', 'pune'], dtype='object')\n"
                    ]
                }
            ],
            "metadata": {}
        },
        {
            "cell_type": "code",
            "execution_count": 19,
            "source": [
                "df['location'] = df.location.apply(lambda x: x if x in top_locations else 'other')"
            ],
            "outputs": [],
            "metadata": {}
        },
        {
            "cell_type": "markdown",
            "source": [
                "# Handle mileage"
            ],
            "metadata": {}
        },
        {
            "cell_type": "markdown",
            "source": [
                "### Nothing to do much here,missing values will be handle latter"
            ],
            "metadata": {}
        },
        {
            "cell_type": "markdown",
            "source": [
                "# Handle power"
            ],
            "metadata": {}
        },
        {
            "cell_type": "markdown",
            "source": [
                "### Nothing to do much here,missing values will be handle latter"
            ],
            "metadata": {}
        },
        {
            "cell_type": "markdown",
            "source": [
                "# Handle brand"
            ],
            "metadata": {}
        },
        {
            "cell_type": "code",
            "execution_count": 20,
            "source": [
                "# Let's check how may brands we get\n",
                "print('Unique Brands :',len(df['brand'].unique()))\n",
                "df['brand'].value_counts()[:10]"
            ],
            "outputs": [
                {
                    "output_type": "stream",
                    "name": "stdout",
                    "text": [
                        "Unique Brands : 24\n"
                    ]
                },
                {
                    "output_type": "execute_result",
                    "data": {
                        "text/plain": [
                            "Bajaj     2234\n",
                            "Royal     1663\n",
                            "Hero       895\n",
                            "Yamaha     786\n",
                            "TVS        615\n",
                            "Honda      578\n",
                            "KTM        532\n",
                            "Suzuki     222\n",
                            "UM         127\n",
                            "Jawa        42\n",
                            "Name: brand, dtype: int64"
                        ]
                    },
                    "metadata": {},
                    "execution_count": 20
                }
            ],
            "metadata": {}
        },
        {
            "cell_type": "markdown",
            "source": [
                "### Let's take only top 10 brands as our base brand & make other as 'other' category"
            ],
            "metadata": {}
        },
        {
            "cell_type": "code",
            "execution_count": 21,
            "source": [
                "top_brands = df['brand'].value_counts().index[:10]\n",
                "df['brand'] = df['brand'].apply(lambda x: x if x in top_brands else 'other')"
            ],
            "outputs": [],
            "metadata": {}
        },
        {
            "cell_type": "markdown",
            "source": [
                "### Let's change the 'Royal' to 'Royal Enfield' as the actual brand"
            ],
            "metadata": {}
        },
        {
            "cell_type": "code",
            "execution_count": 22,
            "source": [
                "df['brand'] = df.brand.str.replace('Royal','Royal Enfield')"
            ],
            "outputs": [],
            "metadata": {}
        },
        {
            "cell_type": "markdown",
            "source": [
                "# Reorder the columns"
            ],
            "metadata": {}
        },
        {
            "cell_type": "code",
            "execution_count": 23,
            "source": [
                "# new_order = ['brand','model_year','kms_driven','owner','location','price']\n",
                "# new_order = [6,0,1,2,3,4,6,7,8,5]\n",
                "# df = df[df.columns[new_order]]"
            ],
            "outputs": [],
            "metadata": {}
        },
        {
            "cell_type": "code",
            "execution_count": 24,
            "source": [
                "df.sample(4)"
            ],
            "outputs": [
                {
                    "output_type": "execute_result",
                    "data": {
                        "text/html": [
                            "<div>\n",
                            "<style scoped>\n",
                            "    .dataframe tbody tr th:only-of-type {\n",
                            "        vertical-align: middle;\n",
                            "    }\n",
                            "\n",
                            "    .dataframe tbody tr th {\n",
                            "        vertical-align: top;\n",
                            "    }\n",
                            "\n",
                            "    .dataframe thead th {\n",
                            "        text-align: right;\n",
                            "    }\n",
                            "</style>\n",
                            "<table border=\"1\" class=\"dataframe\">\n",
                            "  <thead>\n",
                            "    <tr style=\"text-align: right;\">\n",
                            "      <th></th>\n",
                            "      <th>kms_driven</th>\n",
                            "      <th>owner</th>\n",
                            "      <th>location</th>\n",
                            "      <th>mileage</th>\n",
                            "      <th>power</th>\n",
                            "      <th>price</th>\n",
                            "      <th>brand</th>\n",
                            "      <th>engine</th>\n",
                            "      <th>age</th>\n",
                            "    </tr>\n",
                            "  </thead>\n",
                            "  <tbody>\n",
                            "    <tr>\n",
                            "      <th>6737</th>\n",
                            "      <td>54845.0</td>\n",
                            "      <td>first</td>\n",
                            "      <td>delhi</td>\n",
                            "      <td>55.0</td>\n",
                            "      <td>7.5</td>\n",
                            "      <td>10000.0</td>\n",
                            "      <td>Hero</td>\n",
                            "      <td>100</td>\n",
                            "      <td>17</td>\n",
                            "    </tr>\n",
                            "    <tr>\n",
                            "      <th>636</th>\n",
                            "      <td>NaN</td>\n",
                            "      <td>first</td>\n",
                            "      <td>mumbai</td>\n",
                            "      <td>58.0</td>\n",
                            "      <td>13.0</td>\n",
                            "      <td>48000.0</td>\n",
                            "      <td>Yamaha</td>\n",
                            "      <td>150</td>\n",
                            "      <td>6</td>\n",
                            "    </tr>\n",
                            "    <tr>\n",
                            "      <th>5209</th>\n",
                            "      <td>6500.0</td>\n",
                            "      <td>first</td>\n",
                            "      <td>delhi</td>\n",
                            "      <td>35.0</td>\n",
                            "      <td>19.8</td>\n",
                            "      <td>108000.0</td>\n",
                            "      <td>Royal Enfield</td>\n",
                            "      <td>350</td>\n",
                            "      <td>5</td>\n",
                            "    </tr>\n",
                            "    <tr>\n",
                            "      <th>2467</th>\n",
                            "      <td>NaN</td>\n",
                            "      <td>first</td>\n",
                            "      <td>other</td>\n",
                            "      <td>NaN</td>\n",
                            "      <td>34.5</td>\n",
                            "      <td>170000.0</td>\n",
                            "      <td>Bajaj</td>\n",
                            "      <td>None</td>\n",
                            "      <td>2</td>\n",
                            "    </tr>\n",
                            "  </tbody>\n",
                            "</table>\n",
                            "</div>"
                        ],
                        "text/plain": [
                            "      kms_driven  owner location  mileage  power     price          brand  \\\n",
                            "6737     54845.0  first    delhi     55.0    7.5   10000.0           Hero   \n",
                            "636          NaN  first   mumbai     58.0   13.0   48000.0         Yamaha   \n",
                            "5209      6500.0  first    delhi     35.0   19.8  108000.0  Royal Enfield   \n",
                            "2467         NaN  first    other      NaN   34.5  170000.0          Bajaj   \n",
                            "\n",
                            "     engine  age  \n",
                            "6737    100   17  \n",
                            "636     150    6  \n",
                            "5209    350    5  \n",
                            "2467   None    2  "
                        ]
                    },
                    "metadata": {},
                    "execution_count": 24
                }
            ],
            "metadata": {}
        },
        {
            "cell_type": "markdown",
            "source": [
                "# Outlier Detection"
            ],
            "metadata": {}
        },
        {
            "cell_type": "code",
            "execution_count": 25,
            "source": [
                "df.info()"
            ],
            "outputs": [
                {
                    "output_type": "stream",
                    "name": "stdout",
                    "text": [
                        "<class 'pandas.core.frame.DataFrame'>\n",
                        "RangeIndex: 7816 entries, 0 to 7815\n",
                        "Data columns (total 9 columns):\n",
                        " #   Column      Non-Null Count  Dtype  \n",
                        "---  ------      --------------  -----  \n",
                        " 0   kms_driven  5685 non-null   float64\n",
                        " 1   owner       7816 non-null   object \n",
                        " 2   location    7816 non-null   object \n",
                        " 3   mileage     6887 non-null   float64\n",
                        " 4   power       7373 non-null   float64\n",
                        " 5   price       7781 non-null   float64\n",
                        " 6   brand       7816 non-null   object \n",
                        " 7   engine      5844 non-null   object \n",
                        " 8   age         7816 non-null   int64  \n",
                        "dtypes: float64(4), int64(1), object(4)\n",
                        "memory usage: 549.7+ KB\n"
                    ]
                }
            ],
            "metadata": {}
        },
        {
            "cell_type": "code",
            "execution_count": 26,
            "source": [
                "def box_plot(df):\n",
                "    numeric_columns = df.select_dtypes(include=np.number).columns.tolist()\n",
                "    # outlier detection using boxplot\n",
                "    plt.figure(figsize=(16,22))\n",
                "\n",
                "    for i, variable in enumerate(numeric_columns):\n",
                "        plt.subplot(5,4,i+1)\n",
                "        plt.boxplot(df[variable],whis=1.5)\n",
                "        plt.tight_layout()\n",
                "        plt.title(variable)\n",
                "\n",
                "    plt.show()\n",
                "\n",
                "# box_plot(df)"
            ],
            "outputs": [],
            "metadata": {}
        },
        {
            "cell_type": "markdown",
            "source": [
                "## kms_driven"
            ],
            "metadata": {}
        },
        {
            "cell_type": "code",
            "execution_count": 27,
            "source": [
                "max_val = df['kms_driven'].quantile(.99)\n",
                "\n",
                "min_val = df['kms_driven'].quantile(.1)\n",
                "\n",
                "df = df[(df['kms_driven'] <= max_val) & (df['kms_driven'] > min_val)]"
            ],
            "outputs": [],
            "metadata": {}
        },
        {
            "cell_type": "code",
            "execution_count": 28,
            "source": [
                "plt.figure(figsize=(8,6))\n",
                "sns.boxplot(data=df['kms_driven'])"
            ],
            "outputs": [
                {
                    "output_type": "execute_result",
                    "data": {
                        "text/plain": [
                            "<AxesSubplot:>"
                        ]
                    },
                    "metadata": {},
                    "execution_count": 28
                },
                {
                    "output_type": "display_data",
                    "data": {
                        "image/png": "[encoded data removed]",
                        "text/plain": [
                            "<Figure size 576x432 with 1 Axes>"
                        ]
                    },
                    "metadata": {
                        "needs_background": "light"
                    }
                }
            ],
            "metadata": {}
        },
        {
            "cell_type": "markdown",
            "source": [
                "## Mileage"
            ],
            "metadata": {}
        },
        {
            "cell_type": "code",
            "execution_count": 29,
            "source": [
                "max_val = df['mileage'].quantile(.99)\n",
                "\n",
                "min_val = df['mileage'].quantile(.1)\n",
                "\n",
                "df = df[(df['mileage'] <= max_val) & (df['mileage'] > min_val)]"
            ],
            "outputs": [],
            "metadata": {}
        },
        {
            "cell_type": "code",
            "execution_count": 30,
            "source": [
                "plt.figure(figsize=(8,6))\n",
                "sns.boxplot(y=df['mileage'])"
            ],
            "outputs": [
                {
                    "output_type": "execute_result",
                    "data": {
                        "text/plain": [
                            "<AxesSubplot:ylabel='mileage'>"
                        ]
                    },
                    "metadata": {},
                    "execution_count": 30
                },
                {
                    "output_type": "display_data",
                    "data": {
                        "image/png": "[encoded data removed]",
                        "text/plain": [
                            "<Figure size 576x432 with 1 Axes>"
                        ]
                    },
                    "metadata": {
                        "needs_background": "light"
                    }
                }
            ],
            "metadata": {}
        },
        {
            "cell_type": "markdown",
            "source": [
                "## Power"
            ],
            "metadata": {}
        },
        {
            "cell_type": "code",
            "execution_count": 31,
            "source": [
                "# plt.figure(figsize=(8,6))\n",
                "# sns.boxplot(y=df['power'])"
            ],
            "outputs": [],
            "metadata": {}
        },
        {
            "cell_type": "markdown",
            "source": [
                "## Age"
            ],
            "metadata": {}
        },
        {
            "cell_type": "code",
            "execution_count": 32,
            "source": [
                "plt.figure(figsize=(8,6))\n",
                "sns.boxplot(y=df['age'])"
            ],
            "outputs": [
                {
                    "output_type": "execute_result",
                    "data": {
                        "text/plain": [
                            "<AxesSubplot:ylabel='age'>"
                        ]
                    },
                    "metadata": {},
                    "execution_count": 32
                },
                {
                    "output_type": "display_data",
                    "data": {
                        "image/png": "[encoded data removed]",
                        "text/plain": [
                            "<Figure size 576x432 with 1 Axes>"
                        ]
                    },
                    "metadata": {
                        "needs_background": "light"
                    }
                }
            ],
            "metadata": {}
        },
        {
            "cell_type": "markdown",
            "source": [
                "### More than 20 years old bikes are not that much good enough to be bought by anyone,let's take only age upto 20 years."
            ],
            "metadata": {}
        },
        {
            "cell_type": "code",
            "execution_count": 33,
            "source": [
                "df.sample(3)"
            ],
            "outputs": [
                {
                    "output_type": "execute_result",
                    "data": {
                        "text/html": [
                            "<div>\n",
                            "<style scoped>\n",
                            "    .dataframe tbody tr th:only-of-type {\n",
                            "        vertical-align: middle;\n",
                            "    }\n",
                            "\n",
                            "    .dataframe tbody tr th {\n",
                            "        vertical-align: top;\n",
                            "    }\n",
                            "\n",
                            "    .dataframe thead th {\n",
                            "        text-align: right;\n",
                            "    }\n",
                            "</style>\n",
                            "<table border=\"1\" class=\"dataframe\">\n",
                            "  <thead>\n",
                            "    <tr style=\"text-align: right;\">\n",
                            "      <th></th>\n",
                            "      <th>kms_driven</th>\n",
                            "      <th>owner</th>\n",
                            "      <th>location</th>\n",
                            "      <th>mileage</th>\n",
                            "      <th>power</th>\n",
                            "      <th>price</th>\n",
                            "      <th>brand</th>\n",
                            "      <th>engine</th>\n",
                            "      <th>age</th>\n",
                            "    </tr>\n",
                            "  </thead>\n",
                            "  <tbody>\n",
                            "    <tr>\n",
                            "      <th>1371</th>\n",
                            "      <td>5000.0</td>\n",
                            "      <td>first</td>\n",
                            "      <td>other</td>\n",
                            "      <td>45.0</td>\n",
                            "      <td>14.3</td>\n",
                            "      <td>75750.0</td>\n",
                            "      <td>Bajaj</td>\n",
                            "      <td>None</td>\n",
                            "      <td>2</td>\n",
                            "    </tr>\n",
                            "    <tr>\n",
                            "      <th>3232</th>\n",
                            "      <td>22000.0</td>\n",
                            "      <td>first</td>\n",
                            "      <td>bangalore</td>\n",
                            "      <td>50.0</td>\n",
                            "      <td>14.3</td>\n",
                            "      <td>58000.0</td>\n",
                            "      <td>Bajaj</td>\n",
                            "      <td>None</td>\n",
                            "      <td>5</td>\n",
                            "    </tr>\n",
                            "    <tr>\n",
                            "      <th>4960</th>\n",
                            "      <td>4479.0</td>\n",
                            "      <td>second</td>\n",
                            "      <td>other</td>\n",
                            "      <td>64.0</td>\n",
                            "      <td>13.0</td>\n",
                            "      <td>20000.0</td>\n",
                            "      <td>Bajaj</td>\n",
                            "      <td>None</td>\n",
                            "      <td>9</td>\n",
                            "    </tr>\n",
                            "  </tbody>\n",
                            "</table>\n",
                            "</div>"
                        ],
                        "text/plain": [
                            "      kms_driven   owner   location  mileage  power    price  brand engine  \\\n",
                            "1371      5000.0   first      other     45.0   14.3  75750.0  Bajaj   None   \n",
                            "3232     22000.0   first  bangalore     50.0   14.3  58000.0  Bajaj   None   \n",
                            "4960      4479.0  second      other     64.0   13.0  20000.0  Bajaj   None   \n",
                            "\n",
                            "      age  \n",
                            "1371    2  \n",
                            "3232    5  \n",
                            "4960    9  "
                        ]
                    },
                    "metadata": {},
                    "execution_count": 33
                }
            ],
            "metadata": {}
        },
        {
            "cell_type": "code",
            "execution_count": 34,
            "source": [
                "df = df[df['age'] <= 20]"
            ],
            "outputs": [],
            "metadata": {}
        },
        {
            "cell_type": "code",
            "execution_count": 35,
            "source": [
                "df.sample(3)"
            ],
            "outputs": [
                {
                    "output_type": "execute_result",
                    "data": {
                        "text/html": [
                            "<div>\n",
                            "<style scoped>\n",
                            "    .dataframe tbody tr th:only-of-type {\n",
                            "        vertical-align: middle;\n",
                            "    }\n",
                            "\n",
                            "    .dataframe tbody tr th {\n",
                            "        vertical-align: top;\n",
                            "    }\n",
                            "\n",
                            "    .dataframe thead th {\n",
                            "        text-align: right;\n",
                            "    }\n",
                            "</style>\n",
                            "<table border=\"1\" class=\"dataframe\">\n",
                            "  <thead>\n",
                            "    <tr style=\"text-align: right;\">\n",
                            "      <th></th>\n",
                            "      <th>kms_driven</th>\n",
                            "      <th>owner</th>\n",
                            "      <th>location</th>\n",
                            "      <th>mileage</th>\n",
                            "      <th>power</th>\n",
                            "      <th>price</th>\n",
                            "      <th>brand</th>\n",
                            "      <th>engine</th>\n",
                            "      <th>age</th>\n",
                            "    </tr>\n",
                            "  </thead>\n",
                            "  <tbody>\n",
                            "    <tr>\n",
                            "      <th>4409</th>\n",
                            "      <td>12500.0</td>\n",
                            "      <td>first</td>\n",
                            "      <td>bangalore</td>\n",
                            "      <td>35.0</td>\n",
                            "      <td>19.0</td>\n",
                            "      <td>70000.0</td>\n",
                            "      <td>Bajaj</td>\n",
                            "      <td>None</td>\n",
                            "      <td>4</td>\n",
                            "    </tr>\n",
                            "    <tr>\n",
                            "      <th>113</th>\n",
                            "      <td>6750.0</td>\n",
                            "      <td>first</td>\n",
                            "      <td>other</td>\n",
                            "      <td>65.0</td>\n",
                            "      <td>8.1</td>\n",
                            "      <td>22500.0</td>\n",
                            "      <td>Hero</td>\n",
                            "      <td>100</td>\n",
                            "      <td>3</td>\n",
                            "    </tr>\n",
                            "    <tr>\n",
                            "      <th>7603</th>\n",
                            "      <td>40000.0</td>\n",
                            "      <td>second</td>\n",
                            "      <td>other</td>\n",
                            "      <td>37.0</td>\n",
                            "      <td>19.0</td>\n",
                            "      <td>75000.0</td>\n",
                            "      <td>Royal Enfield</td>\n",
                            "      <td>350</td>\n",
                            "      <td>11</td>\n",
                            "    </tr>\n",
                            "  </tbody>\n",
                            "</table>\n",
                            "</div>"
                        ],
                        "text/plain": [
                            "      kms_driven   owner   location  mileage  power    price          brand  \\\n",
                            "4409     12500.0   first  bangalore     35.0   19.0  70000.0          Bajaj   \n",
                            "113       6750.0   first      other     65.0    8.1  22500.0           Hero   \n",
                            "7603     40000.0  second      other     37.0   19.0  75000.0  Royal Enfield   \n",
                            "\n",
                            "     engine  age  \n",
                            "4409   None    4  \n",
                            "113     100    3  \n",
                            "7603    350   11  "
                        ]
                    },
                    "metadata": {},
                    "execution_count": 35
                }
            ],
            "metadata": {}
        },
        {
            "cell_type": "code",
            "execution_count": 36,
            "source": [
                "plt.figure(figsize=(8,6))\n",
                "sns.boxplot(y=df['age'])"
            ],
            "outputs": [
                {
                    "output_type": "execute_result",
                    "data": {
                        "text/plain": [
                            "<AxesSubplot:ylabel='age'>"
                        ]
                    },
                    "metadata": {},
                    "execution_count": 36
                },
                {
                    "output_type": "display_data",
                    "data": {
                        "image/png": "[encoded data removed]",
                        "text/plain": [
                            "<Figure size 576x432 with 1 Axes>"
                        ]
                    },
                    "metadata": {
                        "needs_background": "light"
                    }
                }
            ],
            "metadata": {}
        },
        {
            "cell_type": "markdown",
            "source": [
                "## Price"
            ],
            "metadata": {}
        },
        {
            "cell_type": "code",
            "execution_count": 37,
            "source": [
                "max_val = df['price'].quantile(.99)\n",
                "\n",
                "min_val = df['price'].quantile(.1)\n",
                "\n",
                "df = df[(df['price'] <= max_val) & (df['price'] > min_val)]"
            ],
            "outputs": [],
            "metadata": {}
        },
        {
            "cell_type": "code",
            "execution_count": 38,
            "source": [
                "plt.figure(figsize=(8,6))\n",
                "sns.boxplot(y=df['price'])"
            ],
            "outputs": [
                {
                    "output_type": "execute_result",
                    "data": {
                        "text/plain": [
                            "<AxesSubplot:ylabel='price'>"
                        ]
                    },
                    "metadata": {},
                    "execution_count": 38
                },
                {
                    "output_type": "display_data",
                    "data": {
                        "image/png": "[encoded data removed]",
                        "text/plain": [
                            "<Figure size 576x432 with 1 Axes>"
                        ]
                    },
                    "metadata": {
                        "needs_background": "light"
                    }
                }
            ],
            "metadata": {}
        },
        {
            "cell_type": "code",
            "execution_count": 39,
            "source": [
                "df.sample(5)"
            ],
            "outputs": [
                {
                    "output_type": "execute_result",
                    "data": {
                        "text/html": [
                            "<div>\n",
                            "<style scoped>\n",
                            "    .dataframe tbody tr th:only-of-type {\n",
                            "        vertical-align: middle;\n",
                            "    }\n",
                            "\n",
                            "    .dataframe tbody tr th {\n",
                            "        vertical-align: top;\n",
                            "    }\n",
                            "\n",
                            "    .dataframe thead th {\n",
                            "        text-align: right;\n",
                            "    }\n",
                            "</style>\n",
                            "<table border=\"1\" class=\"dataframe\">\n",
                            "  <thead>\n",
                            "    <tr style=\"text-align: right;\">\n",
                            "      <th></th>\n",
                            "      <th>kms_driven</th>\n",
                            "      <th>owner</th>\n",
                            "      <th>location</th>\n",
                            "      <th>mileage</th>\n",
                            "      <th>power</th>\n",
                            "      <th>price</th>\n",
                            "      <th>brand</th>\n",
                            "      <th>engine</th>\n",
                            "      <th>age</th>\n",
                            "    </tr>\n",
                            "  </thead>\n",
                            "  <tbody>\n",
                            "    <tr>\n",
                            "      <th>3016</th>\n",
                            "      <td>28000.0</td>\n",
                            "      <td>second</td>\n",
                            "      <td>bangalore</td>\n",
                            "      <td>45.0</td>\n",
                            "      <td>17.0</td>\n",
                            "      <td>35100.0</td>\n",
                            "      <td>Bajaj</td>\n",
                            "      <td>180</td>\n",
                            "      <td>7</td>\n",
                            "    </tr>\n",
                            "    <tr>\n",
                            "      <th>3136</th>\n",
                            "      <td>8000.0</td>\n",
                            "      <td>first</td>\n",
                            "      <td>delhi</td>\n",
                            "      <td>35.0</td>\n",
                            "      <td>24.8</td>\n",
                            "      <td>110000.0</td>\n",
                            "      <td>UM</td>\n",
                            "      <td>None</td>\n",
                            "      <td>4</td>\n",
                            "    </tr>\n",
                            "    <tr>\n",
                            "      <th>6804</th>\n",
                            "      <td>9000.0</td>\n",
                            "      <td>first</td>\n",
                            "      <td>mumbai</td>\n",
                            "      <td>40.0</td>\n",
                            "      <td>14.6</td>\n",
                            "      <td>90000.0</td>\n",
                            "      <td>Suzuki</td>\n",
                            "      <td>150</td>\n",
                            "      <td>3</td>\n",
                            "    </tr>\n",
                            "    <tr>\n",
                            "      <th>481</th>\n",
                            "      <td>25000.0</td>\n",
                            "      <td>first</td>\n",
                            "      <td>delhi</td>\n",
                            "      <td>38.0</td>\n",
                            "      <td>21.0</td>\n",
                            "      <td>31000.0</td>\n",
                            "      <td>Bajaj</td>\n",
                            "      <td>220</td>\n",
                            "      <td>9</td>\n",
                            "    </tr>\n",
                            "    <tr>\n",
                            "      <th>5892</th>\n",
                            "      <td>6903.0</td>\n",
                            "      <td>first</td>\n",
                            "      <td>other</td>\n",
                            "      <td>45.0</td>\n",
                            "      <td>15.3</td>\n",
                            "      <td>65000.0</td>\n",
                            "      <td>Bajaj</td>\n",
                            "      <td>None</td>\n",
                            "      <td>2</td>\n",
                            "    </tr>\n",
                            "  </tbody>\n",
                            "</table>\n",
                            "</div>"
                        ],
                        "text/plain": [
                            "      kms_driven   owner   location  mileage  power     price   brand engine  \\\n",
                            "3016     28000.0  second  bangalore     45.0   17.0   35100.0   Bajaj    180   \n",
                            "3136      8000.0   first      delhi     35.0   24.8  110000.0      UM   None   \n",
                            "6804      9000.0   first     mumbai     40.0   14.6   90000.0  Suzuki    150   \n",
                            "481      25000.0   first      delhi     38.0   21.0   31000.0   Bajaj    220   \n",
                            "5892      6903.0   first      other     45.0   15.3   65000.0   Bajaj   None   \n",
                            "\n",
                            "      age  \n",
                            "3016    7  \n",
                            "3136    4  \n",
                            "6804    3  \n",
                            "481     9  \n",
                            "5892    2  "
                        ]
                    },
                    "metadata": {},
                    "execution_count": 39
                }
            ],
            "metadata": {}
        },
        {
            "cell_type": "code",
            "execution_count": 40,
            "source": [
                "df.shape"
            ],
            "outputs": [
                {
                    "output_type": "execute_result",
                    "data": {
                        "text/plain": [
                            "(3439, 9)"
                        ]
                    },
                    "metadata": {},
                    "execution_count": 40
                }
            ],
            "metadata": {}
        },
        {
            "cell_type": "code",
            "execution_count": 41,
            "source": [
                "df.isnull().sum()"
            ],
            "outputs": [
                {
                    "output_type": "execute_result",
                    "data": {
                        "text/plain": [
                            "kms_driven      0\n",
                            "owner           0\n",
                            "location        0\n",
                            "mileage         0\n",
                            "power          99\n",
                            "price           0\n",
                            "brand           0\n",
                            "engine        588\n",
                            "age             0\n",
                            "dtype: int64"
                        ]
                    },
                    "metadata": {},
                    "execution_count": 41
                }
            ],
            "metadata": {}
        },
        {
            "cell_type": "code",
            "execution_count": 42,
            "source": [
                "# fill price with mean\n",
                "df.price.fillna(df.price.mean(),inplace=True)"
            ],
            "outputs": [],
            "metadata": {}
        },
        {
            "cell_type": "code",
            "execution_count": 43,
            "source": [
                "df.shape"
            ],
            "outputs": [
                {
                    "output_type": "execute_result",
                    "data": {
                        "text/plain": [
                            "(3439, 9)"
                        ]
                    },
                    "metadata": {},
                    "execution_count": 43
                }
            ],
            "metadata": {}
        },
        {
            "cell_type": "markdown",
            "source": [
                "## Save"
            ],
            "metadata": {}
        },
        {
            "cell_type": "code",
            "execution_count": 44,
            "source": [
                "## Save the processed data\n",
                "df.to_csv('../data/processed/processed.csv',index=False)"
            ],
            "outputs": [],
            "metadata": {}
        }
    ],
    "metadata": {
        "orig_nbformat": 4,
        "language_info": {
            "name": "python",
            "version": "3.8.8",
            "mimetype": "text/x-python",
            "codemirror_mode": {
                "name": "ipython",
                "version": 3
            },
            "pygments_lexer": "ipython3",
            "nbconvert_exporter": "python",
            "file_extension": ".py"
        },
        "kernelspec": {
            "name": "python3",
            "display_name": "Python 3.8.8 64-bit ('base': conda)"
        },
        "interpreter": {
            "hash": "d213f6e5b8fd7d14bb00958cfb5f51bfe315e9248ff051fde0d0d79c3d0f4eba"
        }
    },
    "nbformat": 4,
    "nbformat_minor": 2
}