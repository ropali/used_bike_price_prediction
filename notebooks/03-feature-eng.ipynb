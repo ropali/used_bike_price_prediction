{
    "cells": [
        {
            "cell_type": "code",
            "execution_count": 1,
            "source": [
                "import pandas as pd\n",
                "import numpy as np\n",
                "import matplotlib.pyplot as plt\n",
                "import seaborn as sns"
            ],
            "outputs": [],
            "metadata": {}
        },
        {
            "cell_type": "code",
            "execution_count": 2,
            "source": [
                "df = pd.read_csv('../data/processed/data.csv')"
            ],
            "outputs": [],
            "metadata": {}
        },
        {
            "cell_type": "code",
            "execution_count": 3,
            "source": [
                "df.shape"
            ],
            "outputs": [
                {
                    "output_type": "execute_result",
                    "data": {
                        "text/plain": [
                            "(9506, 8)"
                        ]
                    },
                    "metadata": {},
                    "execution_count": 3
                }
            ],
            "metadata": {}
        },
        {
            "cell_type": "code",
            "execution_count": 4,
            "source": [
                "df.head()"
            ],
            "outputs": [
                {
                    "output_type": "execute_result",
                    "data": {
                        "text/html": [
                            "<div>\n",
                            "<style scoped>\n",
                            "    .dataframe tbody tr th:only-of-type {\n",
                            "        vertical-align: middle;\n",
                            "    }\n",
                            "\n",
                            "    .dataframe tbody tr th {\n",
                            "        vertical-align: top;\n",
                            "    }\n",
                            "\n",
                            "    .dataframe thead th {\n",
                            "        text-align: right;\n",
                            "    }\n",
                            "</style>\n",
                            "<table border=\"1\" class=\"dataframe\">\n",
                            "  <thead>\n",
                            "    <tr style=\"text-align: right;\">\n",
                            "      <th></th>\n",
                            "      <th>model_name</th>\n",
                            "      <th>model_year</th>\n",
                            "      <th>kms_driven</th>\n",
                            "      <th>owner</th>\n",
                            "      <th>location</th>\n",
                            "      <th>mileage</th>\n",
                            "      <th>power</th>\n",
                            "      <th>price</th>\n",
                            "    </tr>\n",
                            "  </thead>\n",
                            "  <tbody>\n",
                            "    <tr>\n",
                            "      <th>0</th>\n",
                            "      <td>Bajaj Pulsar 180cc 2016</td>\n",
                            "      <td>2016</td>\n",
                            "      <td>19718.0</td>\n",
                            "      <td>first</td>\n",
                            "      <td>bangalore</td>\n",
                            "      <td>65.0</td>\n",
                            "      <td>17.00</td>\n",
                            "      <td>55000.0</td>\n",
                            "    </tr>\n",
                            "    <tr>\n",
                            "      <th>1</th>\n",
                            "      <td>Jawa Perak 330cc 2020</td>\n",
                            "      <td>2020</td>\n",
                            "      <td>2000.0</td>\n",
                            "      <td>first</td>\n",
                            "      <td>bangalore</td>\n",
                            "      <td>NaN</td>\n",
                            "      <td>30.00</td>\n",
                            "      <td>197500.0</td>\n",
                            "    </tr>\n",
                            "    <tr>\n",
                            "      <th>2</th>\n",
                            "      <td>TVS Apache RTR 200 4V Dual Channel ABS BS6 2020</td>\n",
                            "      <td>2020</td>\n",
                            "      <td>NaN</td>\n",
                            "      <td>first</td>\n",
                            "      <td>hyderabad</td>\n",
                            "      <td>40.0</td>\n",
                            "      <td>20.21</td>\n",
                            "      <td>130500.0</td>\n",
                            "    </tr>\n",
                            "    <tr>\n",
                            "      <th>3</th>\n",
                            "      <td>KTM Duke 200cc 2012</td>\n",
                            "      <td>2012</td>\n",
                            "      <td>24561.0</td>\n",
                            "      <td>third</td>\n",
                            "      <td>bangalore</td>\n",
                            "      <td>35.0</td>\n",
                            "      <td>25.00</td>\n",
                            "      <td>63400.0</td>\n",
                            "    </tr>\n",
                            "    <tr>\n",
                            "      <th>4</th>\n",
                            "      <td>Royal Enfield Bullet Electra 350cc 2011</td>\n",
                            "      <td>2011</td>\n",
                            "      <td>38998.0</td>\n",
                            "      <td>first</td>\n",
                            "      <td>bangalore</td>\n",
                            "      <td>40.0</td>\n",
                            "      <td>19.80</td>\n",
                            "      <td>95000.0</td>\n",
                            "    </tr>\n",
                            "  </tbody>\n",
                            "</table>\n",
                            "</div>"
                        ],
                        "text/plain": [
                            "                                        model_name  model_year  kms_driven  \\\n",
                            "0                          Bajaj Pulsar 180cc 2016        2016     19718.0   \n",
                            "1                            Jawa Perak 330cc 2020        2020      2000.0   \n",
                            "2  TVS Apache RTR 200 4V Dual Channel ABS BS6 2020        2020         NaN   \n",
                            "3                              KTM Duke 200cc 2012        2012     24561.0   \n",
                            "4          Royal Enfield Bullet Electra 350cc 2011        2011     38998.0   \n",
                            "\n",
                            "    owner   location  mileage  power     price  \n",
                            "0  first   bangalore     65.0  17.00   55000.0  \n",
                            "1  first   bangalore      NaN  30.00  197500.0  \n",
                            "2  first   hyderabad     40.0  20.21  130500.0  \n",
                            "3  third   bangalore     35.0  25.00   63400.0  \n",
                            "4  first   bangalore     40.0  19.80   95000.0  "
                        ]
                    },
                    "metadata": {},
                    "execution_count": 4
                }
            ],
            "metadata": {}
        },
        {
            "cell_type": "code",
            "execution_count": 5,
            "source": [
                "df.describe()"
            ],
            "outputs": [
                {
                    "output_type": "execute_result",
                    "data": {
                        "text/html": [
                            "<div>\n",
                            "<style scoped>\n",
                            "    .dataframe tbody tr th:only-of-type {\n",
                            "        vertical-align: middle;\n",
                            "    }\n",
                            "\n",
                            "    .dataframe tbody tr th {\n",
                            "        vertical-align: top;\n",
                            "    }\n",
                            "\n",
                            "    .dataframe thead th {\n",
                            "        text-align: right;\n",
                            "    }\n",
                            "</style>\n",
                            "<table border=\"1\" class=\"dataframe\">\n",
                            "  <thead>\n",
                            "    <tr style=\"text-align: right;\">\n",
                            "      <th></th>\n",
                            "      <th>model_year</th>\n",
                            "      <th>kms_driven</th>\n",
                            "      <th>mileage</th>\n",
                            "      <th>power</th>\n",
                            "      <th>price</th>\n",
                            "    </tr>\n",
                            "  </thead>\n",
                            "  <tbody>\n",
                            "    <tr>\n",
                            "      <th>count</th>\n",
                            "      <td>9506.000000</td>\n",
                            "      <td>6943.000000</td>\n",
                            "      <td>8385.000000</td>\n",
                            "      <td>8958.000000</td>\n",
                            "      <td>9.466000e+03</td>\n",
                            "    </tr>\n",
                            "    <tr>\n",
                            "      <th>mean</th>\n",
                            "      <td>2015.245529</td>\n",
                            "      <td>24215.077488</td>\n",
                            "      <td>46.662819</td>\n",
                            "      <td>18.808411</td>\n",
                            "      <td>8.399280e+04</td>\n",
                            "    </tr>\n",
                            "    <tr>\n",
                            "      <th>std</th>\n",
                            "      <td>3.818901</td>\n",
                            "      <td>30124.771545</td>\n",
                            "      <td>16.831523</td>\n",
                            "      <td>8.989003</td>\n",
                            "      <td>7.709274e+04</td>\n",
                            "    </tr>\n",
                            "    <tr>\n",
                            "      <th>min</th>\n",
                            "      <td>1950.000000</td>\n",
                            "      <td>0.000000</td>\n",
                            "      <td>5.000000</td>\n",
                            "      <td>7.000000</td>\n",
                            "      <td>2.000000e+03</td>\n",
                            "    </tr>\n",
                            "    <tr>\n",
                            "      <th>25%</th>\n",
                            "      <td>2014.000000</td>\n",
                            "      <td>9500.000000</td>\n",
                            "      <td>35.000000</td>\n",
                            "      <td>14.000000</td>\n",
                            "      <td>4.000000e+04</td>\n",
                            "    </tr>\n",
                            "    <tr>\n",
                            "      <th>50%</th>\n",
                            "      <td>2016.000000</td>\n",
                            "      <td>18000.000000</td>\n",
                            "      <td>40.000000</td>\n",
                            "      <td>19.000000</td>\n",
                            "      <td>6.950000e+04</td>\n",
                            "    </tr>\n",
                            "    <tr>\n",
                            "      <th>75%</th>\n",
                            "      <td>2018.000000</td>\n",
                            "      <td>30000.000000</td>\n",
                            "      <td>60.000000</td>\n",
                            "      <td>21.000000</td>\n",
                            "      <td>1.150000e+05</td>\n",
                            "    </tr>\n",
                            "    <tr>\n",
                            "      <th>max</th>\n",
                            "      <td>2021.000000</td>\n",
                            "      <td>1000000.000000</td>\n",
                            "      <td>104.000000</td>\n",
                            "      <td>197.300000</td>\n",
                            "      <td>3.000000e+06</td>\n",
                            "    </tr>\n",
                            "  </tbody>\n",
                            "</table>\n",
                            "</div>"
                        ],
                        "text/plain": [
                            "        model_year      kms_driven      mileage        power         price\n",
                            "count  9506.000000     6943.000000  8385.000000  8958.000000  9.466000e+03\n",
                            "mean   2015.245529    24215.077488    46.662819    18.808411  8.399280e+04\n",
                            "std       3.818901    30124.771545    16.831523     8.989003  7.709274e+04\n",
                            "min    1950.000000        0.000000     5.000000     7.000000  2.000000e+03\n",
                            "25%    2014.000000     9500.000000    35.000000    14.000000  4.000000e+04\n",
                            "50%    2016.000000    18000.000000    40.000000    19.000000  6.950000e+04\n",
                            "75%    2018.000000    30000.000000    60.000000    21.000000  1.150000e+05\n",
                            "max    2021.000000  1000000.000000   104.000000   197.300000  3.000000e+06"
                        ]
                    },
                    "metadata": {},
                    "execution_count": 5
                }
            ],
            "metadata": {}
        },
        {
            "cell_type": "markdown",
            "source": [
                "# Handle model_name"
            ],
            "metadata": {}
        },
        {
            "cell_type": "markdown",
            "source": [
                "### There are too many models, let try to create a brand category using the model name."
            ],
            "metadata": {}
        },
        {
            "cell_type": "code",
            "execution_count": 6,
            "source": [
                "df['brand'] = df['model_name'].apply(lambda x: ' '.join(x.split()[:1]))"
            ],
            "outputs": [],
            "metadata": {}
        },
        {
            "cell_type": "code",
            "execution_count": 7,
            "source": [
                "df.sample(5)"
            ],
            "outputs": [
                {
                    "output_type": "execute_result",
                    "data": {
                        "text/html": [
                            "<div>\n",
                            "<style scoped>\n",
                            "    .dataframe tbody tr th:only-of-type {\n",
                            "        vertical-align: middle;\n",
                            "    }\n",
                            "\n",
                            "    .dataframe tbody tr th {\n",
                            "        vertical-align: top;\n",
                            "    }\n",
                            "\n",
                            "    .dataframe thead th {\n",
                            "        text-align: right;\n",
                            "    }\n",
                            "</style>\n",
                            "<table border=\"1\" class=\"dataframe\">\n",
                            "  <thead>\n",
                            "    <tr style=\"text-align: right;\">\n",
                            "      <th></th>\n",
                            "      <th>model_name</th>\n",
                            "      <th>model_year</th>\n",
                            "      <th>kms_driven</th>\n",
                            "      <th>owner</th>\n",
                            "      <th>location</th>\n",
                            "      <th>mileage</th>\n",
                            "      <th>power</th>\n",
                            "      <th>price</th>\n",
                            "      <th>brand</th>\n",
                            "    </tr>\n",
                            "  </thead>\n",
                            "  <tbody>\n",
                            "    <tr>\n",
                            "      <th>5449</th>\n",
                            "      <td>Royal Enfield Thunderbird 500cc 2016</td>\n",
                            "      <td>2016</td>\n",
                            "      <td>7900.0</td>\n",
                            "      <td>first</td>\n",
                            "      <td>pune</td>\n",
                            "      <td>25.0</td>\n",
                            "      <td>27.2</td>\n",
                            "      <td>137999.0</td>\n",
                            "      <td>Royal</td>\n",
                            "    </tr>\n",
                            "    <tr>\n",
                            "      <th>1529</th>\n",
                            "      <td>Bajaj Pulsar 150cc 2019</td>\n",
                            "      <td>2019</td>\n",
                            "      <td>NaN</td>\n",
                            "      <td>first</td>\n",
                            "      <td>jodhpur</td>\n",
                            "      <td>65.0</td>\n",
                            "      <td>15.0</td>\n",
                            "      <td>68000.0</td>\n",
                            "      <td>Bajaj</td>\n",
                            "    </tr>\n",
                            "    <tr>\n",
                            "      <th>7066</th>\n",
                            "      <td>Hero Karizma ZMR 223cc 2014</td>\n",
                            "      <td>2014</td>\n",
                            "      <td>24340.0</td>\n",
                            "      <td>first</td>\n",
                            "      <td>pune</td>\n",
                            "      <td>48.0</td>\n",
                            "      <td>20.0</td>\n",
                            "      <td>41000.0</td>\n",
                            "      <td>Hero</td>\n",
                            "    </tr>\n",
                            "    <tr>\n",
                            "      <th>5339</th>\n",
                            "      <td>Yamaha FZ 150cc 2015</td>\n",
                            "      <td>2015</td>\n",
                            "      <td>NaN</td>\n",
                            "      <td>first</td>\n",
                            "      <td>pune</td>\n",
                            "      <td>58.0</td>\n",
                            "      <td>13.0</td>\n",
                            "      <td>65000.0</td>\n",
                            "      <td>Yamaha</td>\n",
                            "    </tr>\n",
                            "    <tr>\n",
                            "      <th>5516</th>\n",
                            "      <td>Royal Enfield Bullet Electra Twinspark 350cc 2016</td>\n",
                            "      <td>2016</td>\n",
                            "      <td>6500.0</td>\n",
                            "      <td>first</td>\n",
                            "      <td>delhi</td>\n",
                            "      <td>35.0</td>\n",
                            "      <td>19.8</td>\n",
                            "      <td>108000.0</td>\n",
                            "      <td>Royal</td>\n",
                            "    </tr>\n",
                            "  </tbody>\n",
                            "</table>\n",
                            "</div>"
                        ],
                        "text/plain": [
                            "                                             model_name  model_year  \\\n",
                            "5449               Royal Enfield Thunderbird 500cc 2016        2016   \n",
                            "1529                            Bajaj Pulsar 150cc 2019        2019   \n",
                            "7066                        Hero Karizma ZMR 223cc 2014        2014   \n",
                            "5339                               Yamaha FZ 150cc 2015        2015   \n",
                            "5516  Royal Enfield Bullet Electra Twinspark 350cc 2016        2016   \n",
                            "\n",
                            "      kms_driven   owner location  mileage  power     price   brand  \n",
                            "5449      7900.0  first      pune     25.0   27.2  137999.0   Royal  \n",
                            "1529         NaN  first   jodhpur     65.0   15.0   68000.0   Bajaj  \n",
                            "7066     24340.0  first      pune     48.0   20.0   41000.0    Hero  \n",
                            "5339         NaN  first      pune     58.0   13.0   65000.0  Yamaha  \n",
                            "5516      6500.0  first     delhi     35.0   19.8  108000.0   Royal  "
                        ]
                    },
                    "metadata": {},
                    "execution_count": 7
                }
            ],
            "metadata": {}
        },
        {
            "cell_type": "code",
            "execution_count": 8,
            "source": [
                "df.brand.value_counts()"
            ],
            "outputs": [
                {
                    "output_type": "execute_result",
                    "data": {
                        "text/plain": [
                            "Bajaj               2695\n",
                            "Royal               2124\n",
                            "Hero                1090\n",
                            "Yamaha               943\n",
                            "TVS                  725\n",
                            "Honda                672\n",
                            "KTM                  624\n",
                            "Suzuki               279\n",
                            "UM                   150\n",
                            "Jawa                  55\n",
                            "Mahindra              41\n",
                            "Harley-Davidson       36\n",
                            "Hyosung               19\n",
                            "Husqvarna             13\n",
                            "Benelli               11\n",
                            "Kawasaki               9\n",
                            "BenelliImperiale       6\n",
                            "Fb                     4\n",
                            "Ducati                 3\n",
                            "Triumph                2\n",
                            "Yazdi                  1\n",
                            "BMW                    1\n",
                            "yamaha                 1\n",
                            "MV                     1\n",
                            "Aprilia                1\n",
                            "Name: brand, dtype: int64"
                        ]
                    },
                    "metadata": {},
                    "execution_count": 8
                }
            ],
            "metadata": {}
        },
        {
            "cell_type": "markdown",
            "source": [
                "### We can also extract the engine details as cc from model_name"
            ],
            "metadata": {}
        },
        {
            "cell_type": "code",
            "execution_count": 9,
            "source": [
                "import re\n",
                "def extract_cc(val):\n",
                "    match =  re.search(r\"\\d{2,}(cc)\", val) \n",
                "    if match:\n",
                "        return match.group().replace('cc','')\n",
                "    else:\n",
                "        return None\n",
                "    \n",
                "\n",
                "df['engine'] = df['model_name'].apply(extract_cc)"
            ],
            "outputs": [],
            "metadata": {}
        },
        {
            "cell_type": "code",
            "execution_count": 10,
            "source": [
                "df.sample(5)"
            ],
            "outputs": [
                {
                    "output_type": "execute_result",
                    "data": {
                        "text/html": [
                            "<div>\n",
                            "<style scoped>\n",
                            "    .dataframe tbody tr th:only-of-type {\n",
                            "        vertical-align: middle;\n",
                            "    }\n",
                            "\n",
                            "    .dataframe tbody tr th {\n",
                            "        vertical-align: top;\n",
                            "    }\n",
                            "\n",
                            "    .dataframe thead th {\n",
                            "        text-align: right;\n",
                            "    }\n",
                            "</style>\n",
                            "<table border=\"1\" class=\"dataframe\">\n",
                            "  <thead>\n",
                            "    <tr style=\"text-align: right;\">\n",
                            "      <th></th>\n",
                            "      <th>model_name</th>\n",
                            "      <th>model_year</th>\n",
                            "      <th>kms_driven</th>\n",
                            "      <th>owner</th>\n",
                            "      <th>location</th>\n",
                            "      <th>mileage</th>\n",
                            "      <th>power</th>\n",
                            "      <th>price</th>\n",
                            "      <th>brand</th>\n",
                            "      <th>engine</th>\n",
                            "    </tr>\n",
                            "  </thead>\n",
                            "  <tbody>\n",
                            "    <tr>\n",
                            "      <th>3275</th>\n",
                            "      <td>Bajaj Pulsar 150cc 2007</td>\n",
                            "      <td>2007</td>\n",
                            "      <td>NaN</td>\n",
                            "      <td>first</td>\n",
                            "      <td>rajsamand</td>\n",
                            "      <td>65.0</td>\n",
                            "      <td>14.85</td>\n",
                            "      <td>10500.0</td>\n",
                            "      <td>Bajaj</td>\n",
                            "      <td>150</td>\n",
                            "    </tr>\n",
                            "    <tr>\n",
                            "      <th>7652</th>\n",
                            "      <td>Yamaha YZF-R15 150cc 2016</td>\n",
                            "      <td>2016</td>\n",
                            "      <td>9711.0</td>\n",
                            "      <td>first</td>\n",
                            "      <td>ludhiana</td>\n",
                            "      <td>42.0</td>\n",
                            "      <td>16.00</td>\n",
                            "      <td>85000.0</td>\n",
                            "      <td>Yamaha</td>\n",
                            "      <td>150</td>\n",
                            "    </tr>\n",
                            "    <tr>\n",
                            "      <th>4677</th>\n",
                            "      <td>Royal Enfield Classic 350cc 2017</td>\n",
                            "      <td>2017</td>\n",
                            "      <td>19300.0</td>\n",
                            "      <td>first</td>\n",
                            "      <td>ernakulam</td>\n",
                            "      <td>35.0</td>\n",
                            "      <td>19.80</td>\n",
                            "      <td>125000.0</td>\n",
                            "      <td>Royal</td>\n",
                            "      <td>350</td>\n",
                            "    </tr>\n",
                            "    <tr>\n",
                            "      <th>9380</th>\n",
                            "      <td>Bajaj Pulsar 220cc 2016</td>\n",
                            "      <td>2016</td>\n",
                            "      <td>22000.0</td>\n",
                            "      <td>first</td>\n",
                            "      <td>mumbai</td>\n",
                            "      <td>38.0</td>\n",
                            "      <td>21.00</td>\n",
                            "      <td>63000.0</td>\n",
                            "      <td>Bajaj</td>\n",
                            "      <td>220</td>\n",
                            "    </tr>\n",
                            "    <tr>\n",
                            "      <th>4539</th>\n",
                            "      <td>KTM RC 200cc 2016</td>\n",
                            "      <td>2016</td>\n",
                            "      <td>7500.0</td>\n",
                            "      <td>first</td>\n",
                            "      <td>kota</td>\n",
                            "      <td>35.0</td>\n",
                            "      <td>25.10</td>\n",
                            "      <td>150000.0</td>\n",
                            "      <td>KTM</td>\n",
                            "      <td>200</td>\n",
                            "    </tr>\n",
                            "  </tbody>\n",
                            "</table>\n",
                            "</div>"
                        ],
                        "text/plain": [
                            "                            model_name  model_year  kms_driven   owner  \\\n",
                            "3275           Bajaj Pulsar 150cc 2007        2007         NaN  first    \n",
                            "7652         Yamaha YZF-R15 150cc 2016        2016      9711.0  first    \n",
                            "4677  Royal Enfield Classic 350cc 2017        2017     19300.0  first    \n",
                            "9380           Bajaj Pulsar 220cc 2016        2016     22000.0  first    \n",
                            "4539                 KTM RC 200cc 2016        2016      7500.0  first    \n",
                            "\n",
                            "       location  mileage  power     price   brand engine  \n",
                            "3275  rajsamand     65.0  14.85   10500.0   Bajaj    150  \n",
                            "7652   ludhiana     42.0  16.00   85000.0  Yamaha    150  \n",
                            "4677  ernakulam     35.0  19.80  125000.0   Royal    350  \n",
                            "9380     mumbai     38.0  21.00   63000.0   Bajaj    220  \n",
                            "4539       kota     35.0  25.10  150000.0     KTM    200  "
                        ]
                    },
                    "metadata": {},
                    "execution_count": 10
                }
            ],
            "metadata": {}
        },
        {
            "cell_type": "markdown",
            "source": [
                "### We can now drop the model_name feature"
            ],
            "metadata": {}
        },
        {
            "cell_type": "code",
            "execution_count": 11,
            "source": [
                "df = df.drop('model_name',axis=1)"
            ],
            "outputs": [],
            "metadata": {}
        },
        {
            "cell_type": "markdown",
            "source": [
                "# Handle model_year"
            ],
            "metadata": {}
        },
        {
            "cell_type": "markdown",
            "source": [
                "We can use model_year to calculate the age of the bike, Age might give us the better results or representation"
            ],
            "metadata": {}
        },
        {
            "cell_type": "code",
            "execution_count": 12,
            "source": [
                "from datetime import date\n",
                "current_year = date.today().year\n",
                "\n",
                "df['age'] = df.model_year.apply(lambda x: current_year - x if x else None )"
            ],
            "outputs": [],
            "metadata": {}
        },
        {
            "cell_type": "markdown",
            "source": [
                "### Let's drop the model_year"
            ],
            "metadata": {}
        },
        {
            "cell_type": "code",
            "execution_count": 13,
            "source": [
                "df = df.drop('model_year',axis=1)"
            ],
            "outputs": [],
            "metadata": {}
        },
        {
            "cell_type": "markdown",
            "source": [
                "# Handle kms_driven"
            ],
            "metadata": {}
        },
        {
            "cell_type": "markdown",
            "source": [
                "### Missing values will be hanled latter"
            ],
            "metadata": {}
        },
        {
            "cell_type": "markdown",
            "source": [
                "# Handle owner"
            ],
            "metadata": {}
        },
        {
            "cell_type": "code",
            "execution_count": 14,
            "source": [
                "# remove whitespace\n",
                "df['owner'] = df.owner.str.strip()"
            ],
            "outputs": [],
            "metadata": {}
        },
        {
            "cell_type": "code",
            "execution_count": 15,
            "source": [
                "df.owner.unique()"
            ],
            "outputs": [
                {
                    "output_type": "execute_result",
                    "data": {
                        "text/plain": [
                            "array(['first', 'third', 'second', 'fourth'], dtype=object)"
                        ]
                    },
                    "metadata": {},
                    "execution_count": 15
                }
            ],
            "metadata": {}
        },
        {
            "cell_type": "code",
            "execution_count": 16,
            "source": [
                "print(df.owner.isnull().sum())"
            ],
            "outputs": [
                {
                    "output_type": "stream",
                    "name": "stdout",
                    "text": [
                        "0\n"
                    ]
                }
            ],
            "metadata": {}
        },
        {
            "cell_type": "markdown",
            "source": [
                "### Let's leave here only other things will handle during encoding"
            ],
            "metadata": {}
        },
        {
            "cell_type": "markdown",
            "source": [
                "# Handle location"
            ],
            "metadata": {}
        },
        {
            "cell_type": "code",
            "execution_count": 17,
            "source": [
                "df.location.value_counts()[:10]"
            ],
            "outputs": [
                {
                    "output_type": "execute_result",
                    "data": {
                        "text/plain": [
                            "delhi        1750\n",
                            "mumbai        925\n",
                            "bangalore     918\n",
                            "pune          435\n",
                            "chennai       415\n",
                            "hyderabad     412\n",
                            "gurgaon       379\n",
                            "jaipur        373\n",
                            "ahmedabad     305\n",
                            "faridabad     210\n",
                            "Name: location, dtype: int64"
                        ]
                    },
                    "metadata": {},
                    "execution_count": 17
                }
            ],
            "metadata": {}
        },
        {
            "cell_type": "markdown",
            "source": [
                "## Let's take only top 5 locations and make other as 'others'"
            ],
            "metadata": {}
        },
        {
            "cell_type": "code",
            "execution_count": 18,
            "source": [
                "top_locations = df.location.value_counts().index[:5]\n",
                "print(top_locations)"
            ],
            "outputs": [
                {
                    "output_type": "stream",
                    "name": "stdout",
                    "text": [
                        "Index(['delhi', 'mumbai', 'bangalore', 'pune', 'chennai'], dtype='object')\n"
                    ]
                }
            ],
            "metadata": {}
        },
        {
            "cell_type": "code",
            "execution_count": 19,
            "source": [
                "df['location'] = df.location.apply(lambda x: x if x in top_locations else 'other')"
            ],
            "outputs": [],
            "metadata": {}
        },
        {
            "cell_type": "markdown",
            "source": [
                "# Handle mileage"
            ],
            "metadata": {}
        },
        {
            "cell_type": "markdown",
            "source": [
                "### Nothing to do much here,missing values will be handle latter"
            ],
            "metadata": {}
        },
        {
            "cell_type": "markdown",
            "source": [
                "# Handle power"
            ],
            "metadata": {}
        },
        {
            "cell_type": "markdown",
            "source": [
                "### Nothing to do much here,missing values will be handle latter"
            ],
            "metadata": {}
        },
        {
            "cell_type": "markdown",
            "source": [
                "# Handle brand"
            ],
            "metadata": {}
        },
        {
            "cell_type": "code",
            "execution_count": 20,
            "source": [
                "# Let's check how may brands we get\n",
                "print('Unique Brands :',len(df['brand'].unique()))\n",
                "df['brand'].value_counts()[:10]"
            ],
            "outputs": [
                {
                    "output_type": "stream",
                    "name": "stdout",
                    "text": [
                        "Unique Brands : 25\n"
                    ]
                },
                {
                    "output_type": "execute_result",
                    "data": {
                        "text/plain": [
                            "Bajaj     2695\n",
                            "Royal     2124\n",
                            "Hero      1090\n",
                            "Yamaha     943\n",
                            "TVS        725\n",
                            "Honda      672\n",
                            "KTM        624\n",
                            "Suzuki     279\n",
                            "UM         150\n",
                            "Jawa        55\n",
                            "Name: brand, dtype: int64"
                        ]
                    },
                    "metadata": {},
                    "execution_count": 20
                }
            ],
            "metadata": {}
        },
        {
            "cell_type": "markdown",
            "source": [
                "### Let's take only top 10 brands as our base brand & make other as 'other' category"
            ],
            "metadata": {}
        },
        {
            "cell_type": "code",
            "execution_count": 21,
            "source": [
                "top_brands = df['brand'].value_counts().index[:10]\n",
                "df['brand'] = df['brand'].apply(lambda x: x if x in top_brands else 'other')"
            ],
            "outputs": [],
            "metadata": {}
        },
        {
            "cell_type": "markdown",
            "source": [
                "### Let's change the 'Royal' to 'Royal Enfield' as the actual brand"
            ],
            "metadata": {}
        },
        {
            "cell_type": "code",
            "execution_count": 22,
            "source": [
                "df['brand'] = df.brand.str.replace('Royal','Royal Enfield')"
            ],
            "outputs": [],
            "metadata": {}
        },
        {
            "cell_type": "markdown",
            "source": [
                "# Reorder the columns"
            ],
            "metadata": {}
        },
        {
            "cell_type": "code",
            "execution_count": 23,
            "source": [
                "# new_order = ['brand','model_year','kms_driven','owner','location','price']\n",
                "# new_order = [6,0,1,2,3,4,6,7,8,5]\n",
                "# df = df[df.columns[new_order]]"
            ],
            "outputs": [],
            "metadata": {}
        },
        {
            "cell_type": "code",
            "execution_count": 24,
            "source": [
                "df.sample(4)"
            ],
            "outputs": [
                {
                    "output_type": "execute_result",
                    "data": {
                        "text/html": [
                            "<div>\n",
                            "<style scoped>\n",
                            "    .dataframe tbody tr th:only-of-type {\n",
                            "        vertical-align: middle;\n",
                            "    }\n",
                            "\n",
                            "    .dataframe tbody tr th {\n",
                            "        vertical-align: top;\n",
                            "    }\n",
                            "\n",
                            "    .dataframe thead th {\n",
                            "        text-align: right;\n",
                            "    }\n",
                            "</style>\n",
                            "<table border=\"1\" class=\"dataframe\">\n",
                            "  <thead>\n",
                            "    <tr style=\"text-align: right;\">\n",
                            "      <th></th>\n",
                            "      <th>kms_driven</th>\n",
                            "      <th>owner</th>\n",
                            "      <th>location</th>\n",
                            "      <th>mileage</th>\n",
                            "      <th>power</th>\n",
                            "      <th>price</th>\n",
                            "      <th>brand</th>\n",
                            "      <th>engine</th>\n",
                            "      <th>age</th>\n",
                            "    </tr>\n",
                            "  </thead>\n",
                            "  <tbody>\n",
                            "    <tr>\n",
                            "      <th>3122</th>\n",
                            "      <td>2500.0</td>\n",
                            "      <td>first</td>\n",
                            "      <td>other</td>\n",
                            "      <td>35.0</td>\n",
                            "      <td>18.76</td>\n",
                            "      <td>131000.0</td>\n",
                            "      <td>Bajaj</td>\n",
                            "      <td>None</td>\n",
                            "      <td>1</td>\n",
                            "    </tr>\n",
                            "    <tr>\n",
                            "      <th>2929</th>\n",
                            "      <td>21322.0</td>\n",
                            "      <td>first</td>\n",
                            "      <td>other</td>\n",
                            "      <td>42.0</td>\n",
                            "      <td>16.00</td>\n",
                            "      <td>30000.0</td>\n",
                            "      <td>Yamaha</td>\n",
                            "      <td>150</td>\n",
                            "      <td>11</td>\n",
                            "    </tr>\n",
                            "    <tr>\n",
                            "      <th>1276</th>\n",
                            "      <td>NaN</td>\n",
                            "      <td>first</td>\n",
                            "      <td>bangalore</td>\n",
                            "      <td>35.0</td>\n",
                            "      <td>23.19</td>\n",
                            "      <td>42500.0</td>\n",
                            "      <td>Bajaj</td>\n",
                            "      <td>200</td>\n",
                            "      <td>9</td>\n",
                            "    </tr>\n",
                            "    <tr>\n",
                            "      <th>3846</th>\n",
                            "      <td>NaN</td>\n",
                            "      <td>first</td>\n",
                            "      <td>other</td>\n",
                            "      <td>65.0</td>\n",
                            "      <td>14.85</td>\n",
                            "      <td>20000.0</td>\n",
                            "      <td>Bajaj</td>\n",
                            "      <td>150</td>\n",
                            "      <td>15</td>\n",
                            "    </tr>\n",
                            "  </tbody>\n",
                            "</table>\n",
                            "</div>"
                        ],
                        "text/plain": [
                            "      kms_driven  owner   location  mileage  power     price   brand engine  \\\n",
                            "3122      2500.0  first      other     35.0  18.76  131000.0   Bajaj   None   \n",
                            "2929     21322.0  first      other     42.0  16.00   30000.0  Yamaha    150   \n",
                            "1276         NaN  first  bangalore     35.0  23.19   42500.0   Bajaj    200   \n",
                            "3846         NaN  first      other     65.0  14.85   20000.0   Bajaj    150   \n",
                            "\n",
                            "      age  \n",
                            "3122    1  \n",
                            "2929   11  \n",
                            "1276    9  \n",
                            "3846   15  "
                        ]
                    },
                    "metadata": {},
                    "execution_count": 24
                }
            ],
            "metadata": {}
        },
        {
            "cell_type": "markdown",
            "source": [
                "# Outlier Detection"
            ],
            "metadata": {}
        },
        {
            "cell_type": "code",
            "execution_count": 25,
            "source": [
                "def box_plot(df):\n",
                "    numeric_columns = df.select_dtypes(include=np.number).columns.tolist()\n",
                "    # outlier detection using boxplot\n",
                "    plt.figure(figsize=(16,22))\n",
                "\n",
                "    for i, variable in enumerate(numeric_columns):\n",
                "        plt.subplot(5,4,i+1)\n",
                "        plt.boxplot(df[variable],whis=1.5)\n",
                "        plt.tight_layout()\n",
                "        plt.title(variable)\n",
                "\n",
                "    plt.show()\n",
                "\n",
                "box_plot(df)"
            ],
            "outputs": [
                {
                    "output_type": "display_data",
                    "data": {
                        "image/png": "[encoded data removed]",
                        "text/plain": [
                            "<Figure size 1152x1584 with 5 Axes>"
                        ]
                    },
                    "metadata": {
                        "needs_background": "light"
                    }
                }
            ],
            "metadata": {}
        },
        {
            "cell_type": "markdown",
            "source": [
                "## kms_driven"
            ],
            "metadata": {}
        },
        {
            "cell_type": "code",
            "execution_count": 26,
            "source": [
                "max_val = df['kms_driven'].quantile(.99)\n",
                "\n",
                "min_val = df['kms_driven'].quantile(.1)\n",
                "\n",
                "df = df[(df['kms_driven'] <= max_val) & (df['kms_driven'] > min_val)]"
            ],
            "outputs": [],
            "metadata": {}
        },
        {
            "cell_type": "code",
            "execution_count": 27,
            "source": [
                "df.shape"
            ],
            "outputs": [
                {
                    "output_type": "execute_result",
                    "data": {
                        "text/plain": [
                            "(6187, 9)"
                        ]
                    },
                    "metadata": {},
                    "execution_count": 27
                }
            ],
            "metadata": {}
        },
        {
            "cell_type": "code",
            "execution_count": 28,
            "source": [
                "plt.figure(figsize=(8,6))\n",
                "sns.boxplot(data=df['kms_driven'])"
            ],
            "outputs": [
                {
                    "output_type": "execute_result",
                    "data": {
                        "text/plain": [
                            "<AxesSubplot:>"
                        ]
                    },
                    "metadata": {},
                    "execution_count": 28
                },
                {
                    "output_type": "display_data",
                    "data": {
                        "image/png": "[encoded data removed]",
                        "text/plain": [
                            "<Figure size 576x432 with 1 Axes>"
                        ]
                    },
                    "metadata": {
                        "needs_background": "light"
                    }
                }
            ],
            "metadata": {}
        },
        {
            "cell_type": "markdown",
            "source": [
                "## Mileage"
            ],
            "metadata": {}
        },
        {
            "cell_type": "code",
            "execution_count": 29,
            "source": [
                "# max_val = df['mileage'].quantile(.99)\n",
                "\n",
                "# min_val = df['mileage'].quantile(.1)\n",
                "\n",
                "# df = df[(df['mileage'] <= max_val) & (df['mileage'] > min_val)]"
            ],
            "outputs": [],
            "metadata": {}
        },
        {
            "cell_type": "code",
            "execution_count": 30,
            "source": [
                "plt.figure(figsize=(8,6))\n",
                "sns.boxplot(y=df['mileage'])"
            ],
            "outputs": [
                {
                    "output_type": "execute_result",
                    "data": {
                        "text/plain": [
                            "<AxesSubplot:ylabel='mileage'>"
                        ]
                    },
                    "metadata": {},
                    "execution_count": 30
                },
                {
                    "output_type": "display_data",
                    "data": {
                        "image/png": "[encoded data removed]",
                        "text/plain": [
                            "<Figure size 576x432 with 1 Axes>"
                        ]
                    },
                    "metadata": {
                        "needs_background": "light"
                    }
                }
            ],
            "metadata": {}
        },
        {
            "cell_type": "markdown",
            "source": [
                "## Power"
            ],
            "metadata": {}
        },
        {
            "cell_type": "code",
            "execution_count": 31,
            "source": [
                "# plt.figure(figsize=(8,6))\n",
                "# sns.boxplot(y=df['power'])"
            ],
            "outputs": [],
            "metadata": {}
        },
        {
            "cell_type": "markdown",
            "source": [
                "## Age"
            ],
            "metadata": {}
        },
        {
            "cell_type": "code",
            "execution_count": 32,
            "source": [
                "plt.figure(figsize=(8,6))\n",
                "sns.boxplot(y=df['age'])"
            ],
            "outputs": [
                {
                    "output_type": "execute_result",
                    "data": {
                        "text/plain": [
                            "<AxesSubplot:ylabel='age'>"
                        ]
                    },
                    "metadata": {},
                    "execution_count": 32
                },
                {
                    "output_type": "display_data",
                    "data": {
                        "image/png": "[encoded data removed]",
                        "text/plain": [
                            "<Figure size 576x432 with 1 Axes>"
                        ]
                    },
                    "metadata": {
                        "needs_background": "light"
                    }
                }
            ],
            "metadata": {}
        },
        {
            "cell_type": "markdown",
            "source": [
                "### More than 20 years old bikes are not that much good enough to be bought by anyone,let's take only age upto 20 years."
            ],
            "metadata": {}
        },
        {
            "cell_type": "code",
            "execution_count": 33,
            "source": [
                "df.sample(3)"
            ],
            "outputs": [
                {
                    "output_type": "execute_result",
                    "data": {
                        "text/html": [
                            "<div>\n",
                            "<style scoped>\n",
                            "    .dataframe tbody tr th:only-of-type {\n",
                            "        vertical-align: middle;\n",
                            "    }\n",
                            "\n",
                            "    .dataframe tbody tr th {\n",
                            "        vertical-align: top;\n",
                            "    }\n",
                            "\n",
                            "    .dataframe thead th {\n",
                            "        text-align: right;\n",
                            "    }\n",
                            "</style>\n",
                            "<table border=\"1\" class=\"dataframe\">\n",
                            "  <thead>\n",
                            "    <tr style=\"text-align: right;\">\n",
                            "      <th></th>\n",
                            "      <th>kms_driven</th>\n",
                            "      <th>owner</th>\n",
                            "      <th>location</th>\n",
                            "      <th>mileage</th>\n",
                            "      <th>power</th>\n",
                            "      <th>price</th>\n",
                            "      <th>brand</th>\n",
                            "      <th>engine</th>\n",
                            "      <th>age</th>\n",
                            "    </tr>\n",
                            "  </thead>\n",
                            "  <tbody>\n",
                            "    <tr>\n",
                            "      <th>5304</th>\n",
                            "      <td>12872.0</td>\n",
                            "      <td>first</td>\n",
                            "      <td>pune</td>\n",
                            "      <td>NaN</td>\n",
                            "      <td>33.0</td>\n",
                            "      <td>270000.0</td>\n",
                            "      <td>other</td>\n",
                            "      <td>None</td>\n",
                            "      <td>2</td>\n",
                            "    </tr>\n",
                            "    <tr>\n",
                            "      <th>244</th>\n",
                            "      <td>46740.0</td>\n",
                            "      <td>first</td>\n",
                            "      <td>mumbai</td>\n",
                            "      <td>38.0</td>\n",
                            "      <td>21.0</td>\n",
                            "      <td>40000.0</td>\n",
                            "      <td>Bajaj</td>\n",
                            "      <td>None</td>\n",
                            "      <td>6</td>\n",
                            "    </tr>\n",
                            "    <tr>\n",
                            "      <th>2875</th>\n",
                            "      <td>16000.0</td>\n",
                            "      <td>first</td>\n",
                            "      <td>mumbai</td>\n",
                            "      <td>42.0</td>\n",
                            "      <td>16.0</td>\n",
                            "      <td>96000.0</td>\n",
                            "      <td>Yamaha</td>\n",
                            "      <td>150</td>\n",
                            "      <td>4</td>\n",
                            "    </tr>\n",
                            "  </tbody>\n",
                            "</table>\n",
                            "</div>"
                        ],
                        "text/plain": [
                            "      kms_driven  owner location  mileage  power     price   brand engine  age\n",
                            "5304     12872.0  first     pune      NaN   33.0  270000.0   other   None    2\n",
                            "244      46740.0  first   mumbai     38.0   21.0   40000.0   Bajaj   None    6\n",
                            "2875     16000.0  first   mumbai     42.0   16.0   96000.0  Yamaha    150    4"
                        ]
                    },
                    "metadata": {},
                    "execution_count": 33
                }
            ],
            "metadata": {}
        },
        {
            "cell_type": "code",
            "execution_count": 34,
            "source": [
                "df = df[df['age'] <= 20]"
            ],
            "outputs": [],
            "metadata": {}
        },
        {
            "cell_type": "code",
            "execution_count": 35,
            "source": [
                "df.sample(3)"
            ],
            "outputs": [
                {
                    "output_type": "execute_result",
                    "data": {
                        "text/html": [
                            "<div>\n",
                            "<style scoped>\n",
                            "    .dataframe tbody tr th:only-of-type {\n",
                            "        vertical-align: middle;\n",
                            "    }\n",
                            "\n",
                            "    .dataframe tbody tr th {\n",
                            "        vertical-align: top;\n",
                            "    }\n",
                            "\n",
                            "    .dataframe thead th {\n",
                            "        text-align: right;\n",
                            "    }\n",
                            "</style>\n",
                            "<table border=\"1\" class=\"dataframe\">\n",
                            "  <thead>\n",
                            "    <tr style=\"text-align: right;\">\n",
                            "      <th></th>\n",
                            "      <th>kms_driven</th>\n",
                            "      <th>owner</th>\n",
                            "      <th>location</th>\n",
                            "      <th>mileage</th>\n",
                            "      <th>power</th>\n",
                            "      <th>price</th>\n",
                            "      <th>brand</th>\n",
                            "      <th>engine</th>\n",
                            "      <th>age</th>\n",
                            "    </tr>\n",
                            "  </thead>\n",
                            "  <tbody>\n",
                            "    <tr>\n",
                            "      <th>6334</th>\n",
                            "      <td>90000.0</td>\n",
                            "      <td>first</td>\n",
                            "      <td>other</td>\n",
                            "      <td>81.0</td>\n",
                            "      <td>8.2</td>\n",
                            "      <td>12200.0</td>\n",
                            "      <td>Hero</td>\n",
                            "      <td>100</td>\n",
                            "      <td>14</td>\n",
                            "    </tr>\n",
                            "    <tr>\n",
                            "      <th>2393</th>\n",
                            "      <td>13210.0</td>\n",
                            "      <td>first</td>\n",
                            "      <td>delhi</td>\n",
                            "      <td>35.0</td>\n",
                            "      <td>19.0</td>\n",
                            "      <td>85000.0</td>\n",
                            "      <td>Bajaj</td>\n",
                            "      <td>None</td>\n",
                            "      <td>3</td>\n",
                            "    </tr>\n",
                            "    <tr>\n",
                            "      <th>4521</th>\n",
                            "      <td>31000.0</td>\n",
                            "      <td>first</td>\n",
                            "      <td>other</td>\n",
                            "      <td>35.0</td>\n",
                            "      <td>19.8</td>\n",
                            "      <td>100000.0</td>\n",
                            "      <td>Royal Enfield</td>\n",
                            "      <td>350</td>\n",
                            "      <td>7</td>\n",
                            "    </tr>\n",
                            "  </tbody>\n",
                            "</table>\n",
                            "</div>"
                        ],
                        "text/plain": [
                            "      kms_driven  owner location  mileage  power     price          brand  \\\n",
                            "6334     90000.0  first    other     81.0    8.2   12200.0           Hero   \n",
                            "2393     13210.0  first    delhi     35.0   19.0   85000.0          Bajaj   \n",
                            "4521     31000.0  first    other     35.0   19.8  100000.0  Royal Enfield   \n",
                            "\n",
                            "     engine  age  \n",
                            "6334    100   14  \n",
                            "2393   None    3  \n",
                            "4521    350    7  "
                        ]
                    },
                    "metadata": {},
                    "execution_count": 35
                }
            ],
            "metadata": {}
        },
        {
            "cell_type": "code",
            "execution_count": 36,
            "source": [
                "plt.figure(figsize=(8,6))\n",
                "sns.boxplot(y=df['age'])"
            ],
            "outputs": [
                {
                    "output_type": "execute_result",
                    "data": {
                        "text/plain": [
                            "<AxesSubplot:ylabel='age'>"
                        ]
                    },
                    "metadata": {},
                    "execution_count": 36
                },
                {
                    "output_type": "display_data",
                    "data": {
                        "image/png": "[encoded data removed]",
                        "text/plain": [
                            "<Figure size 576x432 with 1 Axes>"
                        ]
                    },
                    "metadata": {
                        "needs_background": "light"
                    }
                }
            ],
            "metadata": {}
        },
        {
            "cell_type": "markdown",
            "source": [
                "## Price"
            ],
            "metadata": {}
        },
        {
            "cell_type": "code",
            "execution_count": 37,
            "source": [
                "max_val = df['price'].quantile(.99)\n",
                "\n",
                "min_val = df['price'].quantile(.1)\n",
                "\n",
                "# df = df[(df['price'] <= max_val) & (df['price'] > min_val)]"
            ],
            "outputs": [],
            "metadata": {}
        },
        {
            "cell_type": "code",
            "execution_count": 38,
            "source": [
                "df[~(df['price'] <= max_val) & (df['price'] > min_val)]"
            ],
            "outputs": [
                {
                    "output_type": "execute_result",
                    "data": {
                        "text/html": [
                            "<div>\n",
                            "<style scoped>\n",
                            "    .dataframe tbody tr th:only-of-type {\n",
                            "        vertical-align: middle;\n",
                            "    }\n",
                            "\n",
                            "    .dataframe tbody tr th {\n",
                            "        vertical-align: top;\n",
                            "    }\n",
                            "\n",
                            "    .dataframe thead th {\n",
                            "        text-align: right;\n",
                            "    }\n",
                            "</style>\n",
                            "<table border=\"1\" class=\"dataframe\">\n",
                            "  <thead>\n",
                            "    <tr style=\"text-align: right;\">\n",
                            "      <th></th>\n",
                            "      <th>kms_driven</th>\n",
                            "      <th>owner</th>\n",
                            "      <th>location</th>\n",
                            "      <th>mileage</th>\n",
                            "      <th>power</th>\n",
                            "      <th>price</th>\n",
                            "      <th>brand</th>\n",
                            "      <th>engine</th>\n",
                            "      <th>age</th>\n",
                            "    </tr>\n",
                            "  </thead>\n",
                            "  <tbody>\n",
                            "    <tr>\n",
                            "      <th>493</th>\n",
                            "      <td>60000.0</td>\n",
                            "      <td>second</td>\n",
                            "      <td>other</td>\n",
                            "      <td>18.0</td>\n",
                            "      <td>65.00</td>\n",
                            "      <td>545000.0</td>\n",
                            "      <td>other</td>\n",
                            "      <td>None</td>\n",
                            "      <td>8</td>\n",
                            "    </tr>\n",
                            "    <tr>\n",
                            "      <th>734</th>\n",
                            "      <td>6770.0</td>\n",
                            "      <td>first</td>\n",
                            "      <td>other</td>\n",
                            "      <td>NaN</td>\n",
                            "      <td>42.30</td>\n",
                            "      <td>314800.0</td>\n",
                            "      <td>KTM</td>\n",
                            "      <td>None</td>\n",
                            "      <td>1</td>\n",
                            "    </tr>\n",
                            "    <tr>\n",
                            "      <th>1253</th>\n",
                            "      <td>6000.0</td>\n",
                            "      <td>first</td>\n",
                            "      <td>bangalore</td>\n",
                            "      <td>NaN</td>\n",
                            "      <td>47.00</td>\n",
                            "      <td>290000.0</td>\n",
                            "      <td>Royal Enfield</td>\n",
                            "      <td>650</td>\n",
                            "      <td>4</td>\n",
                            "    </tr>\n",
                            "    <tr>\n",
                            "      <th>1282</th>\n",
                            "      <td>10500.0</td>\n",
                            "      <td>first</td>\n",
                            "      <td>delhi</td>\n",
                            "      <td>15.0</td>\n",
                            "      <td>139.00</td>\n",
                            "      <td>760000.0</td>\n",
                            "      <td>other</td>\n",
                            "      <td>None</td>\n",
                            "      <td>2</td>\n",
                            "    </tr>\n",
                            "    <tr>\n",
                            "      <th>1328</th>\n",
                            "      <td>12000.0</td>\n",
                            "      <td>first</td>\n",
                            "      <td>bangalore</td>\n",
                            "      <td>NaN</td>\n",
                            "      <td>47.00</td>\n",
                            "      <td>300000.0</td>\n",
                            "      <td>Royal Enfield</td>\n",
                            "      <td>650</td>\n",
                            "      <td>4</td>\n",
                            "    </tr>\n",
                            "    <tr>\n",
                            "      <th>...</th>\n",
                            "      <td>...</td>\n",
                            "      <td>...</td>\n",
                            "      <td>...</td>\n",
                            "      <td>...</td>\n",
                            "      <td>...</td>\n",
                            "      <td>...</td>\n",
                            "      <td>...</td>\n",
                            "      <td>...</td>\n",
                            "      <td>...</td>\n",
                            "    </tr>\n",
                            "    <tr>\n",
                            "      <th>9042</th>\n",
                            "      <td>15300.0</td>\n",
                            "      <td>first</td>\n",
                            "      <td>mumbai</td>\n",
                            "      <td>42.0</td>\n",
                            "      <td>16.70</td>\n",
                            "      <td>985625.0</td>\n",
                            "      <td>Yamaha</td>\n",
                            "      <td>150</td>\n",
                            "      <td>4</td>\n",
                            "    </tr>\n",
                            "    <tr>\n",
                            "      <th>9244</th>\n",
                            "      <td>5000.0</td>\n",
                            "      <td>second</td>\n",
                            "      <td>delhi</td>\n",
                            "      <td>20.0</td>\n",
                            "      <td>72.68</td>\n",
                            "      <td>310000.0</td>\n",
                            "      <td>other</td>\n",
                            "      <td>None</td>\n",
                            "      <td>5</td>\n",
                            "    </tr>\n",
                            "    <tr>\n",
                            "      <th>9299</th>\n",
                            "      <td>10619.0</td>\n",
                            "      <td>first</td>\n",
                            "      <td>other</td>\n",
                            "      <td>20.0</td>\n",
                            "      <td>47.00</td>\n",
                            "      <td>345000.0</td>\n",
                            "      <td>other</td>\n",
                            "      <td>None</td>\n",
                            "      <td>6</td>\n",
                            "    </tr>\n",
                            "    <tr>\n",
                            "      <th>9317</th>\n",
                            "      <td>5800.0</td>\n",
                            "      <td>second</td>\n",
                            "      <td>other</td>\n",
                            "      <td>20.0</td>\n",
                            "      <td>47.00</td>\n",
                            "      <td>280000.0</td>\n",
                            "      <td>other</td>\n",
                            "      <td>None</td>\n",
                            "      <td>6</td>\n",
                            "    </tr>\n",
                            "    <tr>\n",
                            "      <th>9318</th>\n",
                            "      <td>18259.0</td>\n",
                            "      <td>first</td>\n",
                            "      <td>other</td>\n",
                            "      <td>21.0</td>\n",
                            "      <td>93.70</td>\n",
                            "      <td>600000.0</td>\n",
                            "      <td>other</td>\n",
                            "      <td>None</td>\n",
                            "      <td>7</td>\n",
                            "    </tr>\n",
                            "  </tbody>\n",
                            "</table>\n",
                            "<p>62 rows × 9 columns</p>\n",
                            "</div>"
                        ],
                        "text/plain": [
                            "      kms_driven   owner   location  mileage   power     price          brand  \\\n",
                            "493      60000.0  second      other     18.0   65.00  545000.0          other   \n",
                            "734       6770.0   first      other      NaN   42.30  314800.0            KTM   \n",
                            "1253      6000.0   first  bangalore      NaN   47.00  290000.0  Royal Enfield   \n",
                            "1282     10500.0   first      delhi     15.0  139.00  760000.0          other   \n",
                            "1328     12000.0   first  bangalore      NaN   47.00  300000.0  Royal Enfield   \n",
                            "...          ...     ...        ...      ...     ...       ...            ...   \n",
                            "9042     15300.0   first     mumbai     42.0   16.70  985625.0         Yamaha   \n",
                            "9244      5000.0  second      delhi     20.0   72.68  310000.0          other   \n",
                            "9299     10619.0   first      other     20.0   47.00  345000.0          other   \n",
                            "9317      5800.0  second      other     20.0   47.00  280000.0          other   \n",
                            "9318     18259.0   first      other     21.0   93.70  600000.0          other   \n",
                            "\n",
                            "     engine  age  \n",
                            "493    None    8  \n",
                            "734    None    1  \n",
                            "1253    650    4  \n",
                            "1282   None    2  \n",
                            "1328    650    4  \n",
                            "...     ...  ...  \n",
                            "9042    150    4  \n",
                            "9244   None    5  \n",
                            "9299   None    6  \n",
                            "9317   None    6  \n",
                            "9318   None    7  \n",
                            "\n",
                            "[62 rows x 9 columns]"
                        ]
                    },
                    "metadata": {},
                    "execution_count": 38
                }
            ],
            "metadata": {}
        },
        {
            "cell_type": "code",
            "execution_count": 39,
            "source": [
                "plt.figure(figsize=(8,6))\n",
                "sns.boxplot(y=df['price'])"
            ],
            "outputs": [
                {
                    "output_type": "execute_result",
                    "data": {
                        "text/plain": [
                            "<AxesSubplot:ylabel='price'>"
                        ]
                    },
                    "metadata": {},
                    "execution_count": 39
                },
                {
                    "output_type": "display_data",
                    "data": {
                        "image/png": "[encoded data removed]",
                        "text/plain": [
                            "<Figure size 576x432 with 1 Axes>"
                        ]
                    },
                    "metadata": {
                        "needs_background": "light"
                    }
                }
            ],
            "metadata": {}
        },
        {
            "cell_type": "code",
            "execution_count": 40,
            "source": [
                "df.sample(5)"
            ],
            "outputs": [
                {
                    "output_type": "execute_result",
                    "data": {
                        "text/html": [
                            "<div>\n",
                            "<style scoped>\n",
                            "    .dataframe tbody tr th:only-of-type {\n",
                            "        vertical-align: middle;\n",
                            "    }\n",
                            "\n",
                            "    .dataframe tbody tr th {\n",
                            "        vertical-align: top;\n",
                            "    }\n",
                            "\n",
                            "    .dataframe thead th {\n",
                            "        text-align: right;\n",
                            "    }\n",
                            "</style>\n",
                            "<table border=\"1\" class=\"dataframe\">\n",
                            "  <thead>\n",
                            "    <tr style=\"text-align: right;\">\n",
                            "      <th></th>\n",
                            "      <th>kms_driven</th>\n",
                            "      <th>owner</th>\n",
                            "      <th>location</th>\n",
                            "      <th>mileage</th>\n",
                            "      <th>power</th>\n",
                            "      <th>price</th>\n",
                            "      <th>brand</th>\n",
                            "      <th>engine</th>\n",
                            "      <th>age</th>\n",
                            "    </tr>\n",
                            "  </thead>\n",
                            "  <tbody>\n",
                            "    <tr>\n",
                            "      <th>8176</th>\n",
                            "      <td>5394.0</td>\n",
                            "      <td>first</td>\n",
                            "      <td>mumbai</td>\n",
                            "      <td>40.0</td>\n",
                            "      <td>17.03</td>\n",
                            "      <td>125000.0</td>\n",
                            "      <td>Honda</td>\n",
                            "      <td>None</td>\n",
                            "      <td>1</td>\n",
                            "    </tr>\n",
                            "    <tr>\n",
                            "      <th>1490</th>\n",
                            "      <td>12200.0</td>\n",
                            "      <td>second</td>\n",
                            "      <td>bangalore</td>\n",
                            "      <td>42.0</td>\n",
                            "      <td>16.70</td>\n",
                            "      <td>70000.0</td>\n",
                            "      <td>Yamaha</td>\n",
                            "      <td>150</td>\n",
                            "      <td>8</td>\n",
                            "    </tr>\n",
                            "    <tr>\n",
                            "      <th>9224</th>\n",
                            "      <td>5411.0</td>\n",
                            "      <td>second</td>\n",
                            "      <td>other</td>\n",
                            "      <td>35.0</td>\n",
                            "      <td>24.80</td>\n",
                            "      <td>125000.0</td>\n",
                            "      <td>UM</td>\n",
                            "      <td>None</td>\n",
                            "      <td>4</td>\n",
                            "    </tr>\n",
                            "    <tr>\n",
                            "      <th>7045</th>\n",
                            "      <td>50000.0</td>\n",
                            "      <td>first</td>\n",
                            "      <td>other</td>\n",
                            "      <td>NaN</td>\n",
                            "      <td>NaN</td>\n",
                            "      <td>6000.0</td>\n",
                            "      <td>other</td>\n",
                            "      <td>110</td>\n",
                            "      <td>15</td>\n",
                            "    </tr>\n",
                            "    <tr>\n",
                            "      <th>8788</th>\n",
                            "      <td>18000.0</td>\n",
                            "      <td>first</td>\n",
                            "      <td>mumbai</td>\n",
                            "      <td>25.0</td>\n",
                            "      <td>42.90</td>\n",
                            "      <td>150000.0</td>\n",
                            "      <td>KTM</td>\n",
                            "      <td>390</td>\n",
                            "      <td>1</td>\n",
                            "    </tr>\n",
                            "  </tbody>\n",
                            "</table>\n",
                            "</div>"
                        ],
                        "text/plain": [
                            "      kms_driven   owner   location  mileage  power     price   brand engine  \\\n",
                            "8176      5394.0   first     mumbai     40.0  17.03  125000.0   Honda   None   \n",
                            "1490     12200.0  second  bangalore     42.0  16.70   70000.0  Yamaha    150   \n",
                            "9224      5411.0  second      other     35.0  24.80  125000.0      UM   None   \n",
                            "7045     50000.0   first      other      NaN    NaN    6000.0   other    110   \n",
                            "8788     18000.0   first     mumbai     25.0  42.90  150000.0     KTM    390   \n",
                            "\n",
                            "      age  \n",
                            "8176    1  \n",
                            "1490    8  \n",
                            "9224    4  \n",
                            "7045   15  \n",
                            "8788    1  "
                        ]
                    },
                    "metadata": {},
                    "execution_count": 40
                }
            ],
            "metadata": {}
        },
        {
            "cell_type": "code",
            "execution_count": 41,
            "source": [
                "df.shape"
            ],
            "outputs": [
                {
                    "output_type": "execute_result",
                    "data": {
                        "text/plain": [
                            "(6159, 9)"
                        ]
                    },
                    "metadata": {},
                    "execution_count": 41
                }
            ],
            "metadata": {}
        },
        {
            "cell_type": "code",
            "execution_count": 42,
            "source": [
                "df.isnull().sum()"
            ],
            "outputs": [
                {
                    "output_type": "execute_result",
                    "data": {
                        "text/plain": [
                            "kms_driven       0\n",
                            "owner            0\n",
                            "location         0\n",
                            "mileage        744\n",
                            "power          454\n",
                            "price           30\n",
                            "brand            0\n",
                            "engine        1160\n",
                            "age              0\n",
                            "dtype: int64"
                        ]
                    },
                    "metadata": {},
                    "execution_count": 42
                }
            ],
            "metadata": {}
        },
        {
            "cell_type": "code",
            "execution_count": 43,
            "source": [
                "# fill price with mean\n",
                "df.price.fillna(df.price.mean(),inplace=True)"
            ],
            "outputs": [],
            "metadata": {}
        },
        {
            "cell_type": "code",
            "execution_count": 44,
            "source": [
                "df.shape"
            ],
            "outputs": [
                {
                    "output_type": "execute_result",
                    "data": {
                        "text/plain": [
                            "(6159, 9)"
                        ]
                    },
                    "metadata": {},
                    "execution_count": 44
                }
            ],
            "metadata": {}
        },
        {
            "cell_type": "markdown",
            "source": [
                "## Save"
            ],
            "metadata": {}
        },
        {
            "cell_type": "code",
            "execution_count": 45,
            "source": [
                "## Save the processed data\n",
                "df.to_csv('../data/processed/processed.csv',index=False)"
            ],
            "outputs": [],
            "metadata": {}
        }
    ],
    "metadata": {
        "orig_nbformat": 4,
        "language_info": {
            "name": "python",
            "version": "3.8.8",
            "mimetype": "text/x-python",
            "codemirror_mode": {
                "name": "ipython",
                "version": 3
            },
            "pygments_lexer": "ipython3",
            "nbconvert_exporter": "python",
            "file_extension": ".py"
        },
        "kernelspec": {
            "name": "python3",
            "display_name": "Python 3.8.8 64-bit ('base': conda)"
        },
        "interpreter": {
            "hash": "d213f6e5b8fd7d14bb00958cfb5f51bfe315e9248ff051fde0d0d79c3d0f4eba"
        }
    },
    "nbformat": 4,
    "nbformat_minor": 2
}