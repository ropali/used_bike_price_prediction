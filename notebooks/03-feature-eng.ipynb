{
    "cells": [
        {
            "cell_type": "code",
            "execution_count": 1,
            "source": [
                "import pandas as pd\n",
                "import numpy as np\n",
                "import matplotlib.pyplot as plt\n",
                "import seaborn as sns"
            ],
            "outputs": [],
            "metadata": {}
        },
        {
            "cell_type": "code",
            "execution_count": 2,
            "source": [
                "df = pd.read_csv('../data/processed/data.csv')"
            ],
            "outputs": [],
            "metadata": {}
        },
        {
            "cell_type": "code",
            "execution_count": 3,
            "source": [
                "df.head()"
            ],
            "outputs": [
                {
                    "output_type": "execute_result",
                    "data": {
                        "text/html": [
                            "<div>\n",
                            "<style scoped>\n",
                            "    .dataframe tbody tr th:only-of-type {\n",
                            "        vertical-align: middle;\n",
                            "    }\n",
                            "\n",
                            "    .dataframe tbody tr th {\n",
                            "        vertical-align: top;\n",
                            "    }\n",
                            "\n",
                            "    .dataframe thead th {\n",
                            "        text-align: right;\n",
                            "    }\n",
                            "</style>\n",
                            "<table border=\"1\" class=\"dataframe\">\n",
                            "  <thead>\n",
                            "    <tr style=\"text-align: right;\">\n",
                            "      <th></th>\n",
                            "      <th>model_name</th>\n",
                            "      <th>model_year</th>\n",
                            "      <th>kms_driven</th>\n",
                            "      <th>owner</th>\n",
                            "      <th>location</th>\n",
                            "      <th>mileage</th>\n",
                            "      <th>power</th>\n",
                            "      <th>price</th>\n",
                            "    </tr>\n",
                            "  </thead>\n",
                            "  <tbody>\n",
                            "    <tr>\n",
                            "      <th>0</th>\n",
                            "      <td>Yamaha SZR 150cc 2012</td>\n",
                            "      <td>2012</td>\n",
                            "      <td>34000.0</td>\n",
                            "      <td>first</td>\n",
                            "      <td>bengaluru</td>\n",
                            "      <td>NaN</td>\n",
                            "      <td>12.0</td>\n",
                            "      <td>24000.0</td>\n",
                            "    </tr>\n",
                            "    <tr>\n",
                            "      <th>1</th>\n",
                            "      <td>Hero CD Dawn 100cc 2005</td>\n",
                            "      <td>2005</td>\n",
                            "      <td>28000.0</td>\n",
                            "      <td>first</td>\n",
                            "      <td>ghaziabad</td>\n",
                            "      <td>72.0</td>\n",
                            "      <td>7.0</td>\n",
                            "      <td>10000.0</td>\n",
                            "    </tr>\n",
                            "    <tr>\n",
                            "      <th>2</th>\n",
                            "      <td>Bajaj Avenger Street 220 2017</td>\n",
                            "      <td>2017</td>\n",
                            "      <td>5947.0</td>\n",
                            "      <td>first</td>\n",
                            "      <td>chennai</td>\n",
                            "      <td>53.0</td>\n",
                            "      <td>19.0</td>\n",
                            "      <td>80000.0</td>\n",
                            "    </tr>\n",
                            "    <tr>\n",
                            "      <th>3</th>\n",
                            "      <td>Jawa Standard 295CC Dual ABS BS6 2020</td>\n",
                            "      <td>2020</td>\n",
                            "      <td>2700.0</td>\n",
                            "      <td>first</td>\n",
                            "      <td>mumbai</td>\n",
                            "      <td>NaN</td>\n",
                            "      <td>27.0</td>\n",
                            "      <td>160000.0</td>\n",
                            "    </tr>\n",
                            "    <tr>\n",
                            "      <th>4</th>\n",
                            "      <td>Hero Xpulse 200cc BS6 2021</td>\n",
                            "      <td>2021</td>\n",
                            "      <td>628.0</td>\n",
                            "      <td>first</td>\n",
                            "      <td>gwalior</td>\n",
                            "      <td>46.4</td>\n",
                            "      <td>17.8</td>\n",
                            "      <td>110000.0</td>\n",
                            "    </tr>\n",
                            "  </tbody>\n",
                            "</table>\n",
                            "</div>"
                        ],
                        "text/plain": [
                            "                              model_name  model_year  kms_driven   owner  \\\n",
                            "0                  Yamaha SZR 150cc 2012        2012     34000.0  first    \n",
                            "1                Hero CD Dawn 100cc 2005        2005     28000.0  first    \n",
                            "2          Bajaj Avenger Street 220 2017        2017      5947.0  first    \n",
                            "3  Jawa Standard 295CC Dual ABS BS6 2020        2020      2700.0  first    \n",
                            "4             Hero Xpulse 200cc BS6 2021        2021       628.0  first    \n",
                            "\n",
                            "    location  mileage  power     price  \n",
                            "0  bengaluru      NaN   12.0   24000.0  \n",
                            "1  ghaziabad     72.0    7.0   10000.0  \n",
                            "2    chennai     53.0   19.0   80000.0  \n",
                            "3     mumbai      NaN   27.0  160000.0  \n",
                            "4    gwalior     46.4   17.8  110000.0  "
                        ]
                    },
                    "metadata": {},
                    "execution_count": 3
                }
            ],
            "metadata": {}
        },
        {
            "cell_type": "code",
            "execution_count": 4,
            "source": [
                "df.describe()"
            ],
            "outputs": [
                {
                    "output_type": "execute_result",
                    "data": {
                        "text/html": [
                            "<div>\n",
                            "<style scoped>\n",
                            "    .dataframe tbody tr th:only-of-type {\n",
                            "        vertical-align: middle;\n",
                            "    }\n",
                            "\n",
                            "    .dataframe tbody tr th {\n",
                            "        vertical-align: top;\n",
                            "    }\n",
                            "\n",
                            "    .dataframe thead th {\n",
                            "        text-align: right;\n",
                            "    }\n",
                            "</style>\n",
                            "<table border=\"1\" class=\"dataframe\">\n",
                            "  <thead>\n",
                            "    <tr style=\"text-align: right;\">\n",
                            "      <th></th>\n",
                            "      <th>model_year</th>\n",
                            "      <th>kms_driven</th>\n",
                            "      <th>mileage</th>\n",
                            "      <th>power</th>\n",
                            "      <th>price</th>\n",
                            "    </tr>\n",
                            "  </thead>\n",
                            "  <tbody>\n",
                            "    <tr>\n",
                            "      <th>count</th>\n",
                            "      <td>4349.000000</td>\n",
                            "      <td>3126.000000</td>\n",
                            "      <td>3729.000000</td>\n",
                            "      <td>4140.000000</td>\n",
                            "      <td>4.348000e+03</td>\n",
                            "    </tr>\n",
                            "    <tr>\n",
                            "      <th>mean</th>\n",
                            "      <td>2015.778570</td>\n",
                            "      <td>24981.737684</td>\n",
                            "      <td>46.573913</td>\n",
                            "      <td>18.576737</td>\n",
                            "      <td>8.505120e+04</td>\n",
                            "    </tr>\n",
                            "    <tr>\n",
                            "      <th>std</th>\n",
                            "      <td>3.768599</td>\n",
                            "      <td>31550.628098</td>\n",
                            "      <td>16.010920</td>\n",
                            "      <td>7.603788</td>\n",
                            "      <td>7.664979e+04</td>\n",
                            "    </tr>\n",
                            "    <tr>\n",
                            "      <th>min</th>\n",
                            "      <td>1950.000000</td>\n",
                            "      <td>4.000000</td>\n",
                            "      <td>5.000000</td>\n",
                            "      <td>7.000000</td>\n",
                            "      <td>3.900000e+03</td>\n",
                            "    </tr>\n",
                            "    <tr>\n",
                            "      <th>25%</th>\n",
                            "      <td>2014.000000</td>\n",
                            "      <td>10000.000000</td>\n",
                            "      <td>35.000000</td>\n",
                            "      <td>14.000000</td>\n",
                            "      <td>4.400000e+04</td>\n",
                            "    </tr>\n",
                            "    <tr>\n",
                            "      <th>50%</th>\n",
                            "      <td>2017.000000</td>\n",
                            "      <td>18000.000000</td>\n",
                            "      <td>40.000000</td>\n",
                            "      <td>18.700000</td>\n",
                            "      <td>7.000000e+04</td>\n",
                            "    </tr>\n",
                            "    <tr>\n",
                            "      <th>75%</th>\n",
                            "      <td>2018.000000</td>\n",
                            "      <td>30573.750000</td>\n",
                            "      <td>59.000000</td>\n",
                            "      <td>20.720000</td>\n",
                            "      <td>1.155250e+05</td>\n",
                            "    </tr>\n",
                            "    <tr>\n",
                            "      <th>max</th>\n",
                            "      <td>2021.000000</td>\n",
                            "      <td>1000000.000000</td>\n",
                            "      <td>104.000000</td>\n",
                            "      <td>139.000000</td>\n",
                            "      <td>3.000000e+06</td>\n",
                            "    </tr>\n",
                            "  </tbody>\n",
                            "</table>\n",
                            "</div>"
                        ],
                        "text/plain": [
                            "        model_year      kms_driven      mileage        power         price\n",
                            "count  4349.000000     3126.000000  3729.000000  4140.000000  4.348000e+03\n",
                            "mean   2015.778570    24981.737684    46.573913    18.576737  8.505120e+04\n",
                            "std       3.768599    31550.628098    16.010920     7.603788  7.664979e+04\n",
                            "min    1950.000000        4.000000     5.000000     7.000000  3.900000e+03\n",
                            "25%    2014.000000    10000.000000    35.000000    14.000000  4.400000e+04\n",
                            "50%    2017.000000    18000.000000    40.000000    18.700000  7.000000e+04\n",
                            "75%    2018.000000    30573.750000    59.000000    20.720000  1.155250e+05\n",
                            "max    2021.000000  1000000.000000   104.000000   139.000000  3.000000e+06"
                        ]
                    },
                    "metadata": {},
                    "execution_count": 4
                }
            ],
            "metadata": {}
        },
        {
            "cell_type": "markdown",
            "source": [
                "# Handle model_name"
            ],
            "metadata": {}
        },
        {
            "cell_type": "markdown",
            "source": [
                "### There are too many models, let try to create a brand category using the model name."
            ],
            "metadata": {}
        },
        {
            "cell_type": "code",
            "execution_count": 5,
            "source": [
                "df['brand'] = df['model_name'].apply(lambda x: ' '.join(x.split()[:1]))"
            ],
            "outputs": [],
            "metadata": {}
        },
        {
            "cell_type": "code",
            "execution_count": 6,
            "source": [
                "df.sample(5)"
            ],
            "outputs": [
                {
                    "output_type": "execute_result",
                    "data": {
                        "text/html": [
                            "<div>\n",
                            "<style scoped>\n",
                            "    .dataframe tbody tr th:only-of-type {\n",
                            "        vertical-align: middle;\n",
                            "    }\n",
                            "\n",
                            "    .dataframe tbody tr th {\n",
                            "        vertical-align: top;\n",
                            "    }\n",
                            "\n",
                            "    .dataframe thead th {\n",
                            "        text-align: right;\n",
                            "    }\n",
                            "</style>\n",
                            "<table border=\"1\" class=\"dataframe\">\n",
                            "  <thead>\n",
                            "    <tr style=\"text-align: right;\">\n",
                            "      <th></th>\n",
                            "      <th>model_name</th>\n",
                            "      <th>model_year</th>\n",
                            "      <th>kms_driven</th>\n",
                            "      <th>owner</th>\n",
                            "      <th>location</th>\n",
                            "      <th>mileage</th>\n",
                            "      <th>power</th>\n",
                            "      <th>price</th>\n",
                            "      <th>brand</th>\n",
                            "    </tr>\n",
                            "  </thead>\n",
                            "  <tbody>\n",
                            "    <tr>\n",
                            "      <th>3542</th>\n",
                            "      <td>Bajaj Pulsar 135LS 2016</td>\n",
                            "      <td>2016</td>\n",
                            "      <td>52000.0</td>\n",
                            "      <td>first</td>\n",
                            "      <td>mumbai</td>\n",
                            "      <td>64.0</td>\n",
                            "      <td>13.0</td>\n",
                            "      <td>45000.0</td>\n",
                            "      <td>Bajaj</td>\n",
                            "    </tr>\n",
                            "    <tr>\n",
                            "      <th>4043</th>\n",
                            "      <td>Bajaj Avenger Street 150 2017</td>\n",
                            "      <td>2017</td>\n",
                            "      <td>23250.0</td>\n",
                            "      <td>first</td>\n",
                            "      <td>bangalore</td>\n",
                            "      <td>45.0</td>\n",
                            "      <td>14.3</td>\n",
                            "      <td>59800.0</td>\n",
                            "      <td>Bajaj</td>\n",
                            "    </tr>\n",
                            "    <tr>\n",
                            "      <th>3010</th>\n",
                            "      <td>Royal Enfield Thunderbird 350cc 2017</td>\n",
                            "      <td>2017</td>\n",
                            "      <td>35000.0</td>\n",
                            "      <td>first</td>\n",
                            "      <td>kozhikode</td>\n",
                            "      <td>40.0</td>\n",
                            "      <td>19.8</td>\n",
                            "      <td>131100.0</td>\n",
                            "      <td>Royal</td>\n",
                            "    </tr>\n",
                            "    <tr>\n",
                            "      <th>2518</th>\n",
                            "      <td>Yamaha FZs 150cc 2014</td>\n",
                            "      <td>2014</td>\n",
                            "      <td>21000.0</td>\n",
                            "      <td>first</td>\n",
                            "      <td>delhi</td>\n",
                            "      <td>45.0</td>\n",
                            "      <td>13.0</td>\n",
                            "      <td>38000.0</td>\n",
                            "      <td>Yamaha</td>\n",
                            "    </tr>\n",
                            "    <tr>\n",
                            "      <th>3577</th>\n",
                            "      <td>Honda CB Shine 125cc 2019</td>\n",
                            "      <td>2019</td>\n",
                            "      <td>NaN</td>\n",
                            "      <td>first</td>\n",
                            "      <td>delhi</td>\n",
                            "      <td>65.0</td>\n",
                            "      <td>10.0</td>\n",
                            "      <td>55000.0</td>\n",
                            "      <td>Honda</td>\n",
                            "    </tr>\n",
                            "  </tbody>\n",
                            "</table>\n",
                            "</div>"
                        ],
                        "text/plain": [
                            "                                model_name  model_year  kms_driven   owner  \\\n",
                            "3542               Bajaj Pulsar 135LS 2016        2016     52000.0  first    \n",
                            "4043         Bajaj Avenger Street 150 2017        2017     23250.0  first    \n",
                            "3010  Royal Enfield Thunderbird 350cc 2017        2017     35000.0  first    \n",
                            "2518                 Yamaha FZs 150cc 2014        2014     21000.0  first    \n",
                            "3577             Honda CB Shine 125cc 2019        2019         NaN  first    \n",
                            "\n",
                            "       location  mileage  power     price   brand  \n",
                            "3542     mumbai     64.0   13.0   45000.0   Bajaj  \n",
                            "4043  bangalore     45.0   14.3   59800.0   Bajaj  \n",
                            "3010  kozhikode     40.0   19.8  131100.0   Royal  \n",
                            "2518      delhi     45.0   13.0   38000.0  Yamaha  \n",
                            "3577      delhi     65.0   10.0   55000.0   Honda  "
                        ]
                    },
                    "metadata": {},
                    "execution_count": 6
                }
            ],
            "metadata": {}
        },
        {
            "cell_type": "code",
            "execution_count": 7,
            "source": [
                "df.brand.value_counts()"
            ],
            "outputs": [
                {
                    "output_type": "execute_result",
                    "data": {
                        "text/plain": [
                            "Bajaj               1221\n",
                            "Royal                938\n",
                            "Yamaha               478\n",
                            "Hero                 430\n",
                            "TVS                  405\n",
                            "Honda                319\n",
                            "KTM                  286\n",
                            "Suzuki               129\n",
                            "UM                    62\n",
                            "Jawa                  38\n",
                            "Mahindra              11\n",
                            "Harley-Davidson        8\n",
                            "Husqvarna              7\n",
                            "Hyosung                6\n",
                            "Benelli                3\n",
                            "Fb                     3\n",
                            "BenelliImperiale       2\n",
                            "Kawasaki               2\n",
                            "Aprilia                1\n",
                            "Name: brand, dtype: int64"
                        ]
                    },
                    "metadata": {},
                    "execution_count": 7
                }
            ],
            "metadata": {}
        },
        {
            "cell_type": "markdown",
            "source": [
                "### We can also extract the engine details as cc from model_name"
            ],
            "metadata": {}
        },
        {
            "cell_type": "code",
            "execution_count": 8,
            "source": [
                "import re\n",
                "def extract_cc(val):\n",
                "    match =  re.search(r\"\\d{2,}(cc)\", val) \n",
                "    if match:\n",
                "        return match.group().replace('cc','')\n",
                "    else:\n",
                "        return None\n",
                "    \n",
                "\n",
                "df['engine'] = df['model_name'].apply(extract_cc)"
            ],
            "outputs": [],
            "metadata": {}
        },
        {
            "cell_type": "code",
            "execution_count": 9,
            "source": [
                "df.sample(5)"
            ],
            "outputs": [
                {
                    "output_type": "execute_result",
                    "data": {
                        "text/html": [
                            "<div>\n",
                            "<style scoped>\n",
                            "    .dataframe tbody tr th:only-of-type {\n",
                            "        vertical-align: middle;\n",
                            "    }\n",
                            "\n",
                            "    .dataframe tbody tr th {\n",
                            "        vertical-align: top;\n",
                            "    }\n",
                            "\n",
                            "    .dataframe thead th {\n",
                            "        text-align: right;\n",
                            "    }\n",
                            "</style>\n",
                            "<table border=\"1\" class=\"dataframe\">\n",
                            "  <thead>\n",
                            "    <tr style=\"text-align: right;\">\n",
                            "      <th></th>\n",
                            "      <th>model_name</th>\n",
                            "      <th>model_year</th>\n",
                            "      <th>kms_driven</th>\n",
                            "      <th>owner</th>\n",
                            "      <th>location</th>\n",
                            "      <th>mileage</th>\n",
                            "      <th>power</th>\n",
                            "      <th>price</th>\n",
                            "      <th>brand</th>\n",
                            "      <th>engine</th>\n",
                            "    </tr>\n",
                            "  </thead>\n",
                            "  <tbody>\n",
                            "    <tr>\n",
                            "      <th>2888</th>\n",
                            "      <td>Yamaha YZF-R15 V3 150CC ABS 2019</td>\n",
                            "      <td>2019</td>\n",
                            "      <td>8900.0</td>\n",
                            "      <td>first</td>\n",
                            "      <td>mumbai</td>\n",
                            "      <td>NaN</td>\n",
                            "      <td>18.70</td>\n",
                            "      <td>145000.0</td>\n",
                            "      <td>Yamaha</td>\n",
                            "      <td>None</td>\n",
                            "    </tr>\n",
                            "    <tr>\n",
                            "      <th>398</th>\n",
                            "      <td>Bajaj Pulsar ABS 220F 2020</td>\n",
                            "      <td>2020</td>\n",
                            "      <td>95000.0</td>\n",
                            "      <td>fourth</td>\n",
                            "      <td>jaipur</td>\n",
                            "      <td>38.0</td>\n",
                            "      <td>21.00</td>\n",
                            "      <td>48000.0</td>\n",
                            "      <td>Bajaj</td>\n",
                            "      <td>None</td>\n",
                            "    </tr>\n",
                            "    <tr>\n",
                            "      <th>1465</th>\n",
                            "      <td>Honda CD 110 Dream 2019</td>\n",
                            "      <td>2019</td>\n",
                            "      <td>NaN</td>\n",
                            "      <td>first</td>\n",
                            "      <td>jaipur</td>\n",
                            "      <td>84.0</td>\n",
                            "      <td>8.25</td>\n",
                            "      <td>45000.0</td>\n",
                            "      <td>Honda</td>\n",
                            "      <td>None</td>\n",
                            "    </tr>\n",
                            "    <tr>\n",
                            "      <th>1160</th>\n",
                            "      <td>Royal Enfield Classic 500cc 2016</td>\n",
                            "      <td>2016</td>\n",
                            "      <td>9000.0</td>\n",
                            "      <td>first</td>\n",
                            "      <td>delhi</td>\n",
                            "      <td>32.0</td>\n",
                            "      <td>27.20</td>\n",
                            "      <td>115000.0</td>\n",
                            "      <td>Royal</td>\n",
                            "      <td>500</td>\n",
                            "    </tr>\n",
                            "    <tr>\n",
                            "      <th>168</th>\n",
                            "      <td>Bajaj Pulsar 150cc 2014</td>\n",
                            "      <td>2014</td>\n",
                            "      <td>NaN</td>\n",
                            "      <td>third</td>\n",
                            "      <td>jaipur</td>\n",
                            "      <td>65.0</td>\n",
                            "      <td>14.85</td>\n",
                            "      <td>27000.0</td>\n",
                            "      <td>Bajaj</td>\n",
                            "      <td>150</td>\n",
                            "    </tr>\n",
                            "  </tbody>\n",
                            "</table>\n",
                            "</div>"
                        ],
                        "text/plain": [
                            "                            model_name  model_year  kms_driven   owner  \\\n",
                            "2888  Yamaha YZF-R15 V3 150CC ABS 2019        2019      8900.0  first    \n",
                            "398         Bajaj Pulsar ABS 220F 2020        2020     95000.0  fourth   \n",
                            "1465           Honda CD 110 Dream 2019        2019         NaN  first    \n",
                            "1160  Royal Enfield Classic 500cc 2016        2016      9000.0  first    \n",
                            "168            Bajaj Pulsar 150cc 2014        2014         NaN  third    \n",
                            "\n",
                            "     location  mileage  power     price   brand engine  \n",
                            "2888   mumbai      NaN  18.70  145000.0  Yamaha   None  \n",
                            "398    jaipur     38.0  21.00   48000.0   Bajaj   None  \n",
                            "1465   jaipur     84.0   8.25   45000.0   Honda   None  \n",
                            "1160    delhi     32.0  27.20  115000.0   Royal    500  \n",
                            "168    jaipur     65.0  14.85   27000.0   Bajaj    150  "
                        ]
                    },
                    "metadata": {},
                    "execution_count": 9
                }
            ],
            "metadata": {}
        },
        {
            "cell_type": "markdown",
            "source": [
                "### We can now drop the model_name feature"
            ],
            "metadata": {}
        },
        {
            "cell_type": "code",
            "execution_count": 10,
            "source": [
                "df = df.drop('model_name',axis=1)"
            ],
            "outputs": [],
            "metadata": {}
        },
        {
            "cell_type": "markdown",
            "source": [
                "# Handle model_year"
            ],
            "metadata": {}
        },
        {
            "cell_type": "markdown",
            "source": [
                "We can use model_year to calculate the age of the bike, Age might give us the better results or representation"
            ],
            "metadata": {}
        },
        {
            "cell_type": "code",
            "execution_count": 11,
            "source": [
                "from datetime import date\n",
                "current_year = date.today().year\n",
                "\n",
                "df['age'] = df.model_year.apply(lambda x: current_year - x if x else None )"
            ],
            "outputs": [],
            "metadata": {}
        },
        {
            "cell_type": "markdown",
            "source": [
                "### Let's drop the model_year"
            ],
            "metadata": {}
        },
        {
            "cell_type": "code",
            "execution_count": 12,
            "source": [
                "df = df.drop('model_year',axis=1)"
            ],
            "outputs": [],
            "metadata": {}
        },
        {
            "cell_type": "markdown",
            "source": [
                "# Handle kms_driven"
            ],
            "metadata": {}
        },
        {
            "cell_type": "markdown",
            "source": [
                "### Missing values will be hanled latter"
            ],
            "metadata": {}
        },
        {
            "cell_type": "markdown",
            "source": [
                "# Handle owner"
            ],
            "metadata": {}
        },
        {
            "cell_type": "code",
            "execution_count": 13,
            "source": [
                "# remove whitespace\n",
                "df['owner'] = df.owner.str.strip()"
            ],
            "outputs": [],
            "metadata": {}
        },
        {
            "cell_type": "code",
            "execution_count": 14,
            "source": [
                "df.owner.unique()"
            ],
            "outputs": [
                {
                    "output_type": "execute_result",
                    "data": {
                        "text/plain": [
                            "array(['first', 'second', 'fourth', 'third'], dtype=object)"
                        ]
                    },
                    "metadata": {},
                    "execution_count": 14
                }
            ],
            "metadata": {}
        },
        {
            "cell_type": "code",
            "execution_count": 15,
            "source": [
                "print(df.owner.isnull().sum())"
            ],
            "outputs": [
                {
                    "output_type": "stream",
                    "name": "stdout",
                    "text": [
                        "0\n"
                    ]
                }
            ],
            "metadata": {}
        },
        {
            "cell_type": "markdown",
            "source": [
                "### Let's leave here only other things will handle during encoding"
            ],
            "metadata": {}
        },
        {
            "cell_type": "markdown",
            "source": [
                "# Handle location"
            ],
            "metadata": {}
        },
        {
            "cell_type": "code",
            "execution_count": 16,
            "source": [
                "df.location.value_counts()[:10]"
            ],
            "outputs": [
                {
                    "output_type": "execute_result",
                    "data": {
                        "text/plain": [
                            "delhi         830\n",
                            "bangalore     475\n",
                            "mumbai        429\n",
                            "jaipur        258\n",
                            "pune          199\n",
                            "hyderabad     180\n",
                            "ahmedabad     158\n",
                            "gurgaon       149\n",
                            "chennai       119\n",
                            "chandigarh     94\n",
                            "Name: location, dtype: int64"
                        ]
                    },
                    "metadata": {},
                    "execution_count": 16
                }
            ],
            "metadata": {}
        },
        {
            "cell_type": "markdown",
            "source": [
                "## Let's take only top 5 locations and make other as 'others'"
            ],
            "metadata": {}
        },
        {
            "cell_type": "code",
            "execution_count": 17,
            "source": [
                "top_locations = df.location.value_counts().index[:5]\n",
                "print(top_locations)"
            ],
            "outputs": [
                {
                    "output_type": "stream",
                    "name": "stdout",
                    "text": [
                        "Index(['delhi', 'bangalore', 'mumbai', 'jaipur', 'pune'], dtype='object')\n"
                    ]
                }
            ],
            "metadata": {}
        },
        {
            "cell_type": "code",
            "execution_count": 18,
            "source": [
                "df['location'] = df.location.apply(lambda x: x if x in top_locations else 'other')"
            ],
            "outputs": [],
            "metadata": {}
        },
        {
            "cell_type": "markdown",
            "source": [
                "# Handle mileage"
            ],
            "metadata": {}
        },
        {
            "cell_type": "markdown",
            "source": [
                "### Nothing to do much here,missing values will be handle latter"
            ],
            "metadata": {}
        },
        {
            "cell_type": "markdown",
            "source": [
                "# Handle power"
            ],
            "metadata": {}
        },
        {
            "cell_type": "markdown",
            "source": [
                "### Nothing to do much here,missing values will be handle latter"
            ],
            "metadata": {}
        },
        {
            "cell_type": "markdown",
            "source": [
                "# Handle brand"
            ],
            "metadata": {}
        },
        {
            "cell_type": "code",
            "execution_count": 19,
            "source": [
                "# Let's check how may brands we get\n",
                "print('Unique Brands :',len(df['brand'].unique()))\n",
                "df['brand'].value_counts()[:10]"
            ],
            "outputs": [
                {
                    "output_type": "stream",
                    "name": "stdout",
                    "text": [
                        "Unique Brands : 19\n"
                    ]
                },
                {
                    "output_type": "execute_result",
                    "data": {
                        "text/plain": [
                            "Bajaj     1221\n",
                            "Royal      938\n",
                            "Yamaha     478\n",
                            "Hero       430\n",
                            "TVS        405\n",
                            "Honda      319\n",
                            "KTM        286\n",
                            "Suzuki     129\n",
                            "UM          62\n",
                            "Jawa        38\n",
                            "Name: brand, dtype: int64"
                        ]
                    },
                    "metadata": {},
                    "execution_count": 19
                }
            ],
            "metadata": {}
        },
        {
            "cell_type": "markdown",
            "source": [
                "### Let's take only top 10 brands as our base brand & make other as 'other' category"
            ],
            "metadata": {}
        },
        {
            "cell_type": "code",
            "execution_count": 20,
            "source": [
                "top_brands = df['brand'].value_counts().index[:10]\n",
                "df['brand'] = df['brand'].apply(lambda x: x if x in top_brands else 'other')"
            ],
            "outputs": [],
            "metadata": {}
        },
        {
            "cell_type": "markdown",
            "source": [
                "### Let's change the 'Royal' to 'Royal Enfield' as the actual brand"
            ],
            "metadata": {}
        },
        {
            "cell_type": "code",
            "execution_count": 21,
            "source": [
                "df['brand'] = df.brand.str.replace('Royal','Royal Enfield')"
            ],
            "outputs": [],
            "metadata": {}
        },
        {
            "cell_type": "markdown",
            "source": [
                "# Reorder the columns"
            ],
            "metadata": {}
        },
        {
            "cell_type": "code",
            "execution_count": 22,
            "source": [
                "# new_order = ['brand','model_year','kms_driven','owner','location','price']\n",
                "# new_order = [6,0,1,2,3,4,6,7,8,5]\n",
                "# df = df[df.columns[new_order]]"
            ],
            "outputs": [],
            "metadata": {}
        },
        {
            "cell_type": "code",
            "execution_count": 23,
            "source": [
                "df.sample(4)"
            ],
            "outputs": [
                {
                    "output_type": "execute_result",
                    "data": {
                        "text/html": [
                            "<div>\n",
                            "<style scoped>\n",
                            "    .dataframe tbody tr th:only-of-type {\n",
                            "        vertical-align: middle;\n",
                            "    }\n",
                            "\n",
                            "    .dataframe tbody tr th {\n",
                            "        vertical-align: top;\n",
                            "    }\n",
                            "\n",
                            "    .dataframe thead th {\n",
                            "        text-align: right;\n",
                            "    }\n",
                            "</style>\n",
                            "<table border=\"1\" class=\"dataframe\">\n",
                            "  <thead>\n",
                            "    <tr style=\"text-align: right;\">\n",
                            "      <th></th>\n",
                            "      <th>kms_driven</th>\n",
                            "      <th>owner</th>\n",
                            "      <th>location</th>\n",
                            "      <th>mileage</th>\n",
                            "      <th>power</th>\n",
                            "      <th>price</th>\n",
                            "      <th>brand</th>\n",
                            "      <th>engine</th>\n",
                            "      <th>age</th>\n",
                            "    </tr>\n",
                            "  </thead>\n",
                            "  <tbody>\n",
                            "    <tr>\n",
                            "      <th>979</th>\n",
                            "      <td>7600.0</td>\n",
                            "      <td>first</td>\n",
                            "      <td>other</td>\n",
                            "      <td>53.0</td>\n",
                            "      <td>19.0</td>\n",
                            "      <td>75800.0</td>\n",
                            "      <td>Bajaj</td>\n",
                            "      <td>None</td>\n",
                            "      <td>3</td>\n",
                            "    </tr>\n",
                            "    <tr>\n",
                            "      <th>657</th>\n",
                            "      <td>NaN</td>\n",
                            "      <td>first</td>\n",
                            "      <td>other</td>\n",
                            "      <td>65.0</td>\n",
                            "      <td>10.0</td>\n",
                            "      <td>35000.0</td>\n",
                            "      <td>Honda</td>\n",
                            "      <td>125</td>\n",
                            "      <td>7</td>\n",
                            "    </tr>\n",
                            "    <tr>\n",
                            "      <th>3964</th>\n",
                            "      <td>NaN</td>\n",
                            "      <td>first</td>\n",
                            "      <td>other</td>\n",
                            "      <td>65.0</td>\n",
                            "      <td>15.0</td>\n",
                            "      <td>70000.0</td>\n",
                            "      <td>Bajaj</td>\n",
                            "      <td>150</td>\n",
                            "      <td>3</td>\n",
                            "    </tr>\n",
                            "    <tr>\n",
                            "      <th>4030</th>\n",
                            "      <td>4476.0</td>\n",
                            "      <td>first</td>\n",
                            "      <td>other</td>\n",
                            "      <td>38.0</td>\n",
                            "      <td>21.0</td>\n",
                            "      <td>94000.0</td>\n",
                            "      <td>Bajaj</td>\n",
                            "      <td>None</td>\n",
                            "      <td>1</td>\n",
                            "    </tr>\n",
                            "  </tbody>\n",
                            "</table>\n",
                            "</div>"
                        ],
                        "text/plain": [
                            "      kms_driven  owner location  mileage  power    price  brand engine  age\n",
                            "979       7600.0  first    other     53.0   19.0  75800.0  Bajaj   None    3\n",
                            "657          NaN  first    other     65.0   10.0  35000.0  Honda    125    7\n",
                            "3964         NaN  first    other     65.0   15.0  70000.0  Bajaj    150    3\n",
                            "4030      4476.0  first    other     38.0   21.0  94000.0  Bajaj   None    1"
                        ]
                    },
                    "metadata": {},
                    "execution_count": 23
                }
            ],
            "metadata": {}
        },
        {
            "cell_type": "markdown",
            "source": [
                "# Outlier Detection"
            ],
            "metadata": {}
        },
        {
            "cell_type": "code",
            "execution_count": 24,
            "source": [
                "df.info()"
            ],
            "outputs": [
                {
                    "output_type": "stream",
                    "name": "stdout",
                    "text": [
                        "<class 'pandas.core.frame.DataFrame'>\n",
                        "RangeIndex: 4349 entries, 0 to 4348\n",
                        "Data columns (total 9 columns):\n",
                        " #   Column      Non-Null Count  Dtype  \n",
                        "---  ------      --------------  -----  \n",
                        " 0   kms_driven  3126 non-null   float64\n",
                        " 1   owner       4349 non-null   object \n",
                        " 2   location    4349 non-null   object \n",
                        " 3   mileage     3729 non-null   float64\n",
                        " 4   power       4140 non-null   float64\n",
                        " 5   price       4348 non-null   float64\n",
                        " 6   brand       4349 non-null   object \n",
                        " 7   engine      3198 non-null   object \n",
                        " 8   age         4349 non-null   int64  \n",
                        "dtypes: float64(4), int64(1), object(4)\n",
                        "memory usage: 305.9+ KB\n"
                    ]
                }
            ],
            "metadata": {}
        },
        {
            "cell_type": "code",
            "execution_count": 25,
            "source": [
                "def box_plot(df):\n",
                "    numeric_columns = df.select_dtypes(include=np.number).columns.tolist()\n",
                "    # outlier detection using boxplot\n",
                "    plt.figure(figsize=(16,22))\n",
                "\n",
                "    for i, variable in enumerate(numeric_columns):\n",
                "        plt.subplot(5,4,i+1)\n",
                "        plt.boxplot(df[variable],whis=1.5)\n",
                "        plt.tight_layout()\n",
                "        plt.title(variable)\n",
                "\n",
                "    plt.show()\n",
                "\n",
                "# box_plot(df)"
            ],
            "outputs": [],
            "metadata": {}
        },
        {
            "cell_type": "markdown",
            "source": [
                "## kms_driven"
            ],
            "metadata": {}
        },
        {
            "cell_type": "code",
            "execution_count": 26,
            "source": [
                "max_val = df['kms_driven'].quantile(.97)\n",
                "\n",
                "min_val = df['kms_driven'].quantile(.1)\n",
                "\n",
                "df = df[(df['kms_driven'] <= max_val) & (df['kms_driven'] > min_val)]"
            ],
            "outputs": [],
            "metadata": {}
        },
        {
            "cell_type": "code",
            "execution_count": 27,
            "source": [
                "plt.figure(figsize=(8,6))\n",
                "sns.boxplot(data=df['kms_driven'])"
            ],
            "outputs": [
                {
                    "output_type": "execute_result",
                    "data": {
                        "text/plain": [
                            "<AxesSubplot:>"
                        ]
                    },
                    "metadata": {},
                    "execution_count": 27
                },
                {
                    "output_type": "display_data",
                    "data": {
                        "image/png": "[encoded data removed]",
                        "text/plain": [
                            "<Figure size 576x432 with 1 Axes>"
                        ]
                    },
                    "metadata": {
                        "needs_background": "light"
                    }
                }
            ],
            "metadata": {}
        },
        {
            "cell_type": "markdown",
            "source": [
                "## Mileage"
            ],
            "metadata": {}
        },
        {
            "cell_type": "code",
            "execution_count": 28,
            "source": [
                "max_val = df['mileage'].quantile(.99)\n",
                "\n",
                "min_val = df['mileage'].quantile(.1)\n",
                "\n",
                "df = df[(df['mileage'] <= max_val) & (df['mileage'] > min_val)]"
            ],
            "outputs": [],
            "metadata": {}
        },
        {
            "cell_type": "code",
            "execution_count": 29,
            "source": [
                "plt.figure(figsize=(8,6))\n",
                "sns.boxplot(y=df['mileage'])"
            ],
            "outputs": [
                {
                    "output_type": "execute_result",
                    "data": {
                        "text/plain": [
                            "<AxesSubplot:ylabel='mileage'>"
                        ]
                    },
                    "metadata": {},
                    "execution_count": 29
                },
                {
                    "output_type": "display_data",
                    "data": {
                        "image/png": "[encoded data removed]",
                        "text/plain": [
                            "<Figure size 576x432 with 1 Axes>"
                        ]
                    },
                    "metadata": {
                        "needs_background": "light"
                    }
                }
            ],
            "metadata": {}
        },
        {
            "cell_type": "markdown",
            "source": [
                "## Power"
            ],
            "metadata": {}
        },
        {
            "cell_type": "code",
            "execution_count": 30,
            "source": [
                "plt.figure(figsize=(8,6))\n",
                "sns.boxplot(y=df['power'])"
            ],
            "outputs": [
                {
                    "output_type": "execute_result",
                    "data": {
                        "text/plain": [
                            "<AxesSubplot:ylabel='power'>"
                        ]
                    },
                    "metadata": {},
                    "execution_count": 30
                },
                {
                    "output_type": "display_data",
                    "data": {
                        "image/png": "[encoded data removed]",
                        "text/plain": [
                            "<Figure size 576x432 with 1 Axes>"
                        ]
                    },
                    "metadata": {
                        "needs_background": "light"
                    }
                }
            ],
            "metadata": {}
        },
        {
            "cell_type": "markdown",
            "source": [
                "## Age"
            ],
            "metadata": {}
        },
        {
            "cell_type": "code",
            "execution_count": 31,
            "source": [
                "plt.figure(figsize=(8,6))\n",
                "sns.boxplot(y=df['age'])"
            ],
            "outputs": [
                {
                    "output_type": "execute_result",
                    "data": {
                        "text/plain": [
                            "<AxesSubplot:ylabel='age'>"
                        ]
                    },
                    "metadata": {},
                    "execution_count": 31
                },
                {
                    "output_type": "display_data",
                    "data": {
                        "image/png": "[encoded data removed]",
                        "text/plain": [
                            "<Figure size 576x432 with 1 Axes>"
                        ]
                    },
                    "metadata": {
                        "needs_background": "light"
                    }
                }
            ],
            "metadata": {}
        },
        {
            "cell_type": "markdown",
            "source": [
                "### More than 20 years old bikes are not that much good enough to be bought by anyone,let's take only age upto 20 years."
            ],
            "metadata": {}
        },
        {
            "cell_type": "code",
            "execution_count": 32,
            "source": [
                "df.sample(3)"
            ],
            "outputs": [
                {
                    "output_type": "execute_result",
                    "data": {
                        "text/html": [
                            "<div>\n",
                            "<style scoped>\n",
                            "    .dataframe tbody tr th:only-of-type {\n",
                            "        vertical-align: middle;\n",
                            "    }\n",
                            "\n",
                            "    .dataframe tbody tr th {\n",
                            "        vertical-align: top;\n",
                            "    }\n",
                            "\n",
                            "    .dataframe thead th {\n",
                            "        text-align: right;\n",
                            "    }\n",
                            "</style>\n",
                            "<table border=\"1\" class=\"dataframe\">\n",
                            "  <thead>\n",
                            "    <tr style=\"text-align: right;\">\n",
                            "      <th></th>\n",
                            "      <th>kms_driven</th>\n",
                            "      <th>owner</th>\n",
                            "      <th>location</th>\n",
                            "      <th>mileage</th>\n",
                            "      <th>power</th>\n",
                            "      <th>price</th>\n",
                            "      <th>brand</th>\n",
                            "      <th>engine</th>\n",
                            "      <th>age</th>\n",
                            "    </tr>\n",
                            "  </thead>\n",
                            "  <tbody>\n",
                            "    <tr>\n",
                            "      <th>1588</th>\n",
                            "      <td>11820.0</td>\n",
                            "      <td>first</td>\n",
                            "      <td>bangalore</td>\n",
                            "      <td>35.0</td>\n",
                            "      <td>27.2</td>\n",
                            "      <td>158000.0</td>\n",
                            "      <td>Royal Enfield</td>\n",
                            "      <td>500</td>\n",
                            "      <td>3</td>\n",
                            "    </tr>\n",
                            "    <tr>\n",
                            "      <th>2263</th>\n",
                            "      <td>24528.0</td>\n",
                            "      <td>first</td>\n",
                            "      <td>delhi</td>\n",
                            "      <td>42.0</td>\n",
                            "      <td>16.7</td>\n",
                            "      <td>72000.0</td>\n",
                            "      <td>Yamaha</td>\n",
                            "      <td>150</td>\n",
                            "      <td>5</td>\n",
                            "    </tr>\n",
                            "    <tr>\n",
                            "      <th>3271</th>\n",
                            "      <td>12000.0</td>\n",
                            "      <td>first</td>\n",
                            "      <td>other</td>\n",
                            "      <td>40.0</td>\n",
                            "      <td>19.8</td>\n",
                            "      <td>105000.0</td>\n",
                            "      <td>Royal Enfield</td>\n",
                            "      <td>350</td>\n",
                            "      <td>4</td>\n",
                            "    </tr>\n",
                            "  </tbody>\n",
                            "</table>\n",
                            "</div>"
                        ],
                        "text/plain": [
                            "      kms_driven  owner   location  mileage  power     price          brand  \\\n",
                            "1588     11820.0  first  bangalore     35.0   27.2  158000.0  Royal Enfield   \n",
                            "2263     24528.0  first      delhi     42.0   16.7   72000.0         Yamaha   \n",
                            "3271     12000.0  first      other     40.0   19.8  105000.0  Royal Enfield   \n",
                            "\n",
                            "     engine  age  \n",
                            "1588    500    3  \n",
                            "2263    150    5  \n",
                            "3271    350    4  "
                        ]
                    },
                    "metadata": {},
                    "execution_count": 32
                }
            ],
            "metadata": {}
        },
        {
            "cell_type": "code",
            "execution_count": 33,
            "source": [
                "df = df[df['age'] <= 20]"
            ],
            "outputs": [],
            "metadata": {}
        },
        {
            "cell_type": "code",
            "execution_count": 34,
            "source": [
                "df.sample(3)"
            ],
            "outputs": [
                {
                    "output_type": "execute_result",
                    "data": {
                        "text/html": [
                            "<div>\n",
                            "<style scoped>\n",
                            "    .dataframe tbody tr th:only-of-type {\n",
                            "        vertical-align: middle;\n",
                            "    }\n",
                            "\n",
                            "    .dataframe tbody tr th {\n",
                            "        vertical-align: top;\n",
                            "    }\n",
                            "\n",
                            "    .dataframe thead th {\n",
                            "        text-align: right;\n",
                            "    }\n",
                            "</style>\n",
                            "<table border=\"1\" class=\"dataframe\">\n",
                            "  <thead>\n",
                            "    <tr style=\"text-align: right;\">\n",
                            "      <th></th>\n",
                            "      <th>kms_driven</th>\n",
                            "      <th>owner</th>\n",
                            "      <th>location</th>\n",
                            "      <th>mileage</th>\n",
                            "      <th>power</th>\n",
                            "      <th>price</th>\n",
                            "      <th>brand</th>\n",
                            "      <th>engine</th>\n",
                            "      <th>age</th>\n",
                            "    </tr>\n",
                            "  </thead>\n",
                            "  <tbody>\n",
                            "    <tr>\n",
                            "      <th>2466</th>\n",
                            "      <td>15000.0</td>\n",
                            "      <td>first</td>\n",
                            "      <td>pune</td>\n",
                            "      <td>35.0</td>\n",
                            "      <td>19.8</td>\n",
                            "      <td>126600.0</td>\n",
                            "      <td>Royal Enfield</td>\n",
                            "      <td>350</td>\n",
                            "      <td>3</td>\n",
                            "    </tr>\n",
                            "    <tr>\n",
                            "      <th>1405</th>\n",
                            "      <td>45000.0</td>\n",
                            "      <td>first</td>\n",
                            "      <td>other</td>\n",
                            "      <td>65.0</td>\n",
                            "      <td>15.0</td>\n",
                            "      <td>25000.0</td>\n",
                            "      <td>Bajaj</td>\n",
                            "      <td>180</td>\n",
                            "      <td>11</td>\n",
                            "    </tr>\n",
                            "    <tr>\n",
                            "      <th>1506</th>\n",
                            "      <td>23000.0</td>\n",
                            "      <td>first</td>\n",
                            "      <td>bangalore</td>\n",
                            "      <td>37.0</td>\n",
                            "      <td>19.8</td>\n",
                            "      <td>125000.0</td>\n",
                            "      <td>Royal Enfield</td>\n",
                            "      <td>350</td>\n",
                            "      <td>5</td>\n",
                            "    </tr>\n",
                            "  </tbody>\n",
                            "</table>\n",
                            "</div>"
                        ],
                        "text/plain": [
                            "      kms_driven  owner   location  mileage  power     price          brand  \\\n",
                            "2466     15000.0  first       pune     35.0   19.8  126600.0  Royal Enfield   \n",
                            "1405     45000.0  first      other     65.0   15.0   25000.0          Bajaj   \n",
                            "1506     23000.0  first  bangalore     37.0   19.8  125000.0  Royal Enfield   \n",
                            "\n",
                            "     engine  age  \n",
                            "2466    350    3  \n",
                            "1405    180   11  \n",
                            "1506    350    5  "
                        ]
                    },
                    "metadata": {},
                    "execution_count": 34
                }
            ],
            "metadata": {}
        },
        {
            "cell_type": "code",
            "execution_count": 35,
            "source": [
                "plt.figure(figsize=(8,6))\n",
                "sns.boxplot(y=df['age'])"
            ],
            "outputs": [
                {
                    "output_type": "execute_result",
                    "data": {
                        "text/plain": [
                            "<AxesSubplot:ylabel='age'>"
                        ]
                    },
                    "metadata": {},
                    "execution_count": 35
                },
                {
                    "output_type": "display_data",
                    "data": {
                        "image/png": "[encoded data removed]",
                        "text/plain": [
                            "<Figure size 576x432 with 1 Axes>"
                        ]
                    },
                    "metadata": {
                        "needs_background": "light"
                    }
                }
            ],
            "metadata": {}
        },
        {
            "cell_type": "markdown",
            "source": [
                "## Price"
            ],
            "metadata": {}
        },
        {
            "cell_type": "code",
            "execution_count": 36,
            "source": [
                "max_val = df['price'].quantile(.99)\n",
                "\n",
                "min_val = df['price'].quantile(.1)\n",
                "\n",
                "df = df[(df['price'] <= max_val) & (df['price'] > min_val)]"
            ],
            "outputs": [],
            "metadata": {}
        },
        {
            "cell_type": "code",
            "execution_count": 37,
            "source": [
                "plt.figure(figsize=(8,6))\n",
                "sns.boxplot(y=df['price'])"
            ],
            "outputs": [
                {
                    "output_type": "execute_result",
                    "data": {
                        "text/plain": [
                            "<AxesSubplot:ylabel='price'>"
                        ]
                    },
                    "metadata": {},
                    "execution_count": 37
                },
                {
                    "output_type": "display_data",
                    "data": {
                        "image/png": "[encoded data removed]",
                        "text/plain": [
                            "<Figure size 576x432 with 1 Axes>"
                        ]
                    },
                    "metadata": {
                        "needs_background": "light"
                    }
                }
            ],
            "metadata": {}
        },
        {
            "cell_type": "code",
            "execution_count": 38,
            "source": [
                "df.sample(5)"
            ],
            "outputs": [
                {
                    "output_type": "execute_result",
                    "data": {
                        "text/html": [
                            "<div>\n",
                            "<style scoped>\n",
                            "    .dataframe tbody tr th:only-of-type {\n",
                            "        vertical-align: middle;\n",
                            "    }\n",
                            "\n",
                            "    .dataframe tbody tr th {\n",
                            "        vertical-align: top;\n",
                            "    }\n",
                            "\n",
                            "    .dataframe thead th {\n",
                            "        text-align: right;\n",
                            "    }\n",
                            "</style>\n",
                            "<table border=\"1\" class=\"dataframe\">\n",
                            "  <thead>\n",
                            "    <tr style=\"text-align: right;\">\n",
                            "      <th></th>\n",
                            "      <th>kms_driven</th>\n",
                            "      <th>owner</th>\n",
                            "      <th>location</th>\n",
                            "      <th>mileage</th>\n",
                            "      <th>power</th>\n",
                            "      <th>price</th>\n",
                            "      <th>brand</th>\n",
                            "      <th>engine</th>\n",
                            "      <th>age</th>\n",
                            "    </tr>\n",
                            "  </thead>\n",
                            "  <tbody>\n",
                            "    <tr>\n",
                            "      <th>3407</th>\n",
                            "      <td>31945.0</td>\n",
                            "      <td>first</td>\n",
                            "      <td>other</td>\n",
                            "      <td>59.0</td>\n",
                            "      <td>8.5</td>\n",
                            "      <td>32000.0</td>\n",
                            "      <td>Suzuki</td>\n",
                            "      <td>125</td>\n",
                            "      <td>7</td>\n",
                            "    </tr>\n",
                            "    <tr>\n",
                            "      <th>860</th>\n",
                            "      <td>23915.0</td>\n",
                            "      <td>first</td>\n",
                            "      <td>pune</td>\n",
                            "      <td>65.0</td>\n",
                            "      <td>7.0</td>\n",
                            "      <td>50000.0</td>\n",
                            "      <td>Hero</td>\n",
                            "      <td>100</td>\n",
                            "      <td>5</td>\n",
                            "    </tr>\n",
                            "    <tr>\n",
                            "      <th>1466</th>\n",
                            "      <td>8600.0</td>\n",
                            "      <td>third</td>\n",
                            "      <td>other</td>\n",
                            "      <td>35.0</td>\n",
                            "      <td>24.8</td>\n",
                            "      <td>95000.0</td>\n",
                            "      <td>UM</td>\n",
                            "      <td>None</td>\n",
                            "      <td>2</td>\n",
                            "    </tr>\n",
                            "    <tr>\n",
                            "      <th>3547</th>\n",
                            "      <td>5000.0</td>\n",
                            "      <td>first</td>\n",
                            "      <td>jaipur</td>\n",
                            "      <td>35.0</td>\n",
                            "      <td>19.0</td>\n",
                            "      <td>100000.0</td>\n",
                            "      <td>Bajaj</td>\n",
                            "      <td>None</td>\n",
                            "      <td>2</td>\n",
                            "    </tr>\n",
                            "    <tr>\n",
                            "      <th>3440</th>\n",
                            "      <td>31000.0</td>\n",
                            "      <td>first</td>\n",
                            "      <td>other</td>\n",
                            "      <td>40.0</td>\n",
                            "      <td>19.8</td>\n",
                            "      <td>105000.0</td>\n",
                            "      <td>Royal Enfield</td>\n",
                            "      <td>350</td>\n",
                            "      <td>6</td>\n",
                            "    </tr>\n",
                            "  </tbody>\n",
                            "</table>\n",
                            "</div>"
                        ],
                        "text/plain": [
                            "      kms_driven  owner location  mileage  power     price          brand  \\\n",
                            "3407     31945.0  first    other     59.0    8.5   32000.0         Suzuki   \n",
                            "860      23915.0  first     pune     65.0    7.0   50000.0           Hero   \n",
                            "1466      8600.0  third    other     35.0   24.8   95000.0             UM   \n",
                            "3547      5000.0  first   jaipur     35.0   19.0  100000.0          Bajaj   \n",
                            "3440     31000.0  first    other     40.0   19.8  105000.0  Royal Enfield   \n",
                            "\n",
                            "     engine  age  \n",
                            "3407    125    7  \n",
                            "860     100    5  \n",
                            "1466   None    2  \n",
                            "3547   None    2  \n",
                            "3440    350    6  "
                        ]
                    },
                    "metadata": {},
                    "execution_count": 38
                }
            ],
            "metadata": {}
        },
        {
            "cell_type": "code",
            "execution_count": 39,
            "source": [
                "df.shape"
            ],
            "outputs": [
                {
                    "output_type": "execute_result",
                    "data": {
                        "text/plain": [
                            "(1833, 9)"
                        ]
                    },
                    "metadata": {},
                    "execution_count": 39
                }
            ],
            "metadata": {}
        },
        {
            "cell_type": "code",
            "execution_count": 40,
            "source": [
                "## Save the processed data\n",
                "df.to_csv('../data/processed/processed.csv',index=False)"
            ],
            "outputs": [],
            "metadata": {}
        }
    ],
    "metadata": {
        "orig_nbformat": 4,
        "language_info": {
            "name": "python",
            "version": "3.8.8",
            "mimetype": "text/x-python",
            "codemirror_mode": {
                "name": "ipython",
                "version": 3
            },
            "pygments_lexer": "ipython3",
            "nbconvert_exporter": "python",
            "file_extension": ".py"
        },
        "kernelspec": {
            "name": "python3",
            "display_name": "Python 3.8.8 64-bit ('base': conda)"
        },
        "interpreter": {
            "hash": "d213f6e5b8fd7d14bb00958cfb5f51bfe315e9248ff051fde0d0d79c3d0f4eba"
        }
    },
    "nbformat": 4,
    "nbformat_minor": 2
}