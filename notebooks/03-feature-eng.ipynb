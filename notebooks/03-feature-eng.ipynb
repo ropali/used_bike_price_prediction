{
    "cells": [
        {
            "cell_type": "code",
            "execution_count": 187,
            "source": [
                "import pandas as pd\n",
                "import numpy as np\n",
                "import matplotlib.pyplot as plt\n",
                "import seaborn as sns"
            ],
            "outputs": [],
            "metadata": {}
        },
        {
            "cell_type": "code",
            "execution_count": 188,
            "source": [
                "df = pd.read_csv('../data/processed/data.csv')"
            ],
            "outputs": [],
            "metadata": {}
        },
        {
            "cell_type": "code",
            "execution_count": 189,
            "source": [
                "df.shape"
            ],
            "outputs": [
                {
                    "output_type": "execute_result",
                    "data": {
                        "text/plain": [
                            "(7857, 8)"
                        ]
                    },
                    "metadata": {},
                    "execution_count": 189
                }
            ],
            "metadata": {}
        },
        {
            "cell_type": "code",
            "execution_count": 190,
            "source": [
                "df.head()"
            ],
            "outputs": [
                {
                    "output_type": "execute_result",
                    "data": {
                        "text/html": [
                            "<div>\n",
                            "<style scoped>\n",
                            "    .dataframe tbody tr th:only-of-type {\n",
                            "        vertical-align: middle;\n",
                            "    }\n",
                            "\n",
                            "    .dataframe tbody tr th {\n",
                            "        vertical-align: top;\n",
                            "    }\n",
                            "\n",
                            "    .dataframe thead th {\n",
                            "        text-align: right;\n",
                            "    }\n",
                            "</style>\n",
                            "<table border=\"1\" class=\"dataframe\">\n",
                            "  <thead>\n",
                            "    <tr style=\"text-align: right;\">\n",
                            "      <th></th>\n",
                            "      <th>model_name</th>\n",
                            "      <th>model_year</th>\n",
                            "      <th>kms_driven</th>\n",
                            "      <th>owner</th>\n",
                            "      <th>location</th>\n",
                            "      <th>mileage</th>\n",
                            "      <th>power</th>\n",
                            "      <th>price</th>\n",
                            "    </tr>\n",
                            "  </thead>\n",
                            "  <tbody>\n",
                            "    <tr>\n",
                            "      <th>0</th>\n",
                            "      <td>Bajaj Avenger Cruise 220 2017</td>\n",
                            "      <td>2017</td>\n",
                            "      <td>17000.0</td>\n",
                            "      <td>first</td>\n",
                            "      <td>hyderabad</td>\n",
                            "      <td>35.0</td>\n",
                            "      <td>19.0</td>\n",
                            "      <td>63500.0</td>\n",
                            "    </tr>\n",
                            "    <tr>\n",
                            "      <th>1</th>\n",
                            "      <td>Royal Enfield Classic 350cc 2016</td>\n",
                            "      <td>2016</td>\n",
                            "      <td>50000.0</td>\n",
                            "      <td>first</td>\n",
                            "      <td>hyderabad</td>\n",
                            "      <td>35.0</td>\n",
                            "      <td>19.8</td>\n",
                            "      <td>115000.0</td>\n",
                            "    </tr>\n",
                            "    <tr>\n",
                            "      <th>2</th>\n",
                            "      <td>Hyosung GT250R 2012</td>\n",
                            "      <td>2012</td>\n",
                            "      <td>14795.0</td>\n",
                            "      <td>first</td>\n",
                            "      <td>hyderabad</td>\n",
                            "      <td>30.0</td>\n",
                            "      <td>28.0</td>\n",
                            "      <td>300000.0</td>\n",
                            "    </tr>\n",
                            "    <tr>\n",
                            "      <th>3</th>\n",
                            "      <td>Bajaj Dominar 400 ABS 2017</td>\n",
                            "      <td>2017</td>\n",
                            "      <td>NaN</td>\n",
                            "      <td>first</td>\n",
                            "      <td>pondicherry</td>\n",
                            "      <td>NaN</td>\n",
                            "      <td>34.5</td>\n",
                            "      <td>100000.0</td>\n",
                            "    </tr>\n",
                            "    <tr>\n",
                            "      <th>4</th>\n",
                            "      <td>Jawa Perak 330cc 2020</td>\n",
                            "      <td>2020</td>\n",
                            "      <td>2000.0</td>\n",
                            "      <td>first</td>\n",
                            "      <td>bangalore</td>\n",
                            "      <td>NaN</td>\n",
                            "      <td>30.0</td>\n",
                            "      <td>197500.0</td>\n",
                            "    </tr>\n",
                            "  </tbody>\n",
                            "</table>\n",
                            "</div>"
                        ],
                        "text/plain": [
                            "                         model_name  model_year  kms_driven   owner  \\\n",
                            "0     Bajaj Avenger Cruise 220 2017        2017     17000.0  first    \n",
                            "1  Royal Enfield Classic 350cc 2016        2016     50000.0  first    \n",
                            "2               Hyosung GT250R 2012        2012     14795.0  first    \n",
                            "3        Bajaj Dominar 400 ABS 2017        2017         NaN  first    \n",
                            "4             Jawa Perak 330cc 2020        2020      2000.0  first    \n",
                            "\n",
                            "      location  mileage  power     price  \n",
                            "0    hyderabad     35.0   19.0   63500.0  \n",
                            "1    hyderabad     35.0   19.8  115000.0  \n",
                            "2    hyderabad     30.0   28.0  300000.0  \n",
                            "3  pondicherry      NaN   34.5  100000.0  \n",
                            "4    bangalore      NaN   30.0  197500.0  "
                        ]
                    },
                    "metadata": {},
                    "execution_count": 190
                }
            ],
            "metadata": {}
        },
        {
            "cell_type": "code",
            "execution_count": 191,
            "source": [
                "df.describe()"
            ],
            "outputs": [
                {
                    "output_type": "execute_result",
                    "data": {
                        "text/html": [
                            "<div>\n",
                            "<style scoped>\n",
                            "    .dataframe tbody tr th:only-of-type {\n",
                            "        vertical-align: middle;\n",
                            "    }\n",
                            "\n",
                            "    .dataframe tbody tr th {\n",
                            "        vertical-align: top;\n",
                            "    }\n",
                            "\n",
                            "    .dataframe thead th {\n",
                            "        text-align: right;\n",
                            "    }\n",
                            "</style>\n",
                            "<table border=\"1\" class=\"dataframe\">\n",
                            "  <thead>\n",
                            "    <tr style=\"text-align: right;\">\n",
                            "      <th></th>\n",
                            "      <th>model_year</th>\n",
                            "      <th>kms_driven</th>\n",
                            "      <th>mileage</th>\n",
                            "      <th>power</th>\n",
                            "      <th>price</th>\n",
                            "    </tr>\n",
                            "  </thead>\n",
                            "  <tbody>\n",
                            "    <tr>\n",
                            "      <th>count</th>\n",
                            "      <td>7857.000000</td>\n",
                            "      <td>5869.000000</td>\n",
                            "      <td>6883.000000</td>\n",
                            "      <td>7429.000000</td>\n",
                            "      <td>7.826000e+03</td>\n",
                            "    </tr>\n",
                            "    <tr>\n",
                            "      <th>mean</th>\n",
                            "      <td>2015.367698</td>\n",
                            "      <td>23090.124723</td>\n",
                            "      <td>45.069396</td>\n",
                            "      <td>21.171458</td>\n",
                            "      <td>1.072144e+05</td>\n",
                            "    </tr>\n",
                            "    <tr>\n",
                            "      <th>std</th>\n",
                            "      <td>4.001443</td>\n",
                            "      <td>28710.628053</td>\n",
                            "      <td>17.083125</td>\n",
                            "      <td>15.094150</td>\n",
                            "      <td>1.390380e+05</td>\n",
                            "    </tr>\n",
                            "    <tr>\n",
                            "      <th>min</th>\n",
                            "      <td>1950.000000</td>\n",
                            "      <td>0.000000</td>\n",
                            "      <td>5.000000</td>\n",
                            "      <td>7.000000</td>\n",
                            "      <td>2.000000e+03</td>\n",
                            "    </tr>\n",
                            "    <tr>\n",
                            "      <th>25%</th>\n",
                            "      <td>2014.000000</td>\n",
                            "      <td>8903.000000</td>\n",
                            "      <td>35.000000</td>\n",
                            "      <td>14.200000</td>\n",
                            "      <td>4.250000e+04</td>\n",
                            "    </tr>\n",
                            "    <tr>\n",
                            "      <th>50%</th>\n",
                            "      <td>2016.000000</td>\n",
                            "      <td>17000.000000</td>\n",
                            "      <td>40.000000</td>\n",
                            "      <td>19.000000</td>\n",
                            "      <td>7.500000e+04</td>\n",
                            "    </tr>\n",
                            "    <tr>\n",
                            "      <th>75%</th>\n",
                            "      <td>2018.000000</td>\n",
                            "      <td>30000.000000</td>\n",
                            "      <td>58.000000</td>\n",
                            "      <td>24.500000</td>\n",
                            "      <td>1.250000e+05</td>\n",
                            "    </tr>\n",
                            "    <tr>\n",
                            "      <th>max</th>\n",
                            "      <td>2021.000000</td>\n",
                            "      <td>1000000.000000</td>\n",
                            "      <td>104.000000</td>\n",
                            "      <td>197.300000</td>\n",
                            "      <td>3.000000e+06</td>\n",
                            "    </tr>\n",
                            "  </tbody>\n",
                            "</table>\n",
                            "</div>"
                        ],
                        "text/plain": [
                            "        model_year      kms_driven      mileage        power         price\n",
                            "count  7857.000000     5869.000000  6883.000000  7429.000000  7.826000e+03\n",
                            "mean   2015.367698    23090.124723    45.069396    21.171458  1.072144e+05\n",
                            "std       4.001443    28710.628053    17.083125    15.094150  1.390380e+05\n",
                            "min    1950.000000        0.000000     5.000000     7.000000  2.000000e+03\n",
                            "25%    2014.000000     8903.000000    35.000000    14.200000  4.250000e+04\n",
                            "50%    2016.000000    17000.000000    40.000000    19.000000  7.500000e+04\n",
                            "75%    2018.000000    30000.000000    58.000000    24.500000  1.250000e+05\n",
                            "max    2021.000000  1000000.000000   104.000000   197.300000  3.000000e+06"
                        ]
                    },
                    "metadata": {},
                    "execution_count": 191
                }
            ],
            "metadata": {}
        },
        {
            "cell_type": "markdown",
            "source": [
                "# Handle model_name"
            ],
            "metadata": {}
        },
        {
            "cell_type": "markdown",
            "source": [
                "### There are too many models, let try to create a brand category using the model name."
            ],
            "metadata": {}
        },
        {
            "cell_type": "code",
            "execution_count": 192,
            "source": [
                "df['brand'] = df['model_name'].apply(lambda x: ' '.join(x.split()[:1]))"
            ],
            "outputs": [],
            "metadata": {}
        },
        {
            "cell_type": "code",
            "execution_count": 193,
            "source": [
                "df.sample(5)"
            ],
            "outputs": [
                {
                    "output_type": "execute_result",
                    "data": {
                        "text/html": [
                            "<div>\n",
                            "<style scoped>\n",
                            "    .dataframe tbody tr th:only-of-type {\n",
                            "        vertical-align: middle;\n",
                            "    }\n",
                            "\n",
                            "    .dataframe tbody tr th {\n",
                            "        vertical-align: top;\n",
                            "    }\n",
                            "\n",
                            "    .dataframe thead th {\n",
                            "        text-align: right;\n",
                            "    }\n",
                            "</style>\n",
                            "<table border=\"1\" class=\"dataframe\">\n",
                            "  <thead>\n",
                            "    <tr style=\"text-align: right;\">\n",
                            "      <th></th>\n",
                            "      <th>model_name</th>\n",
                            "      <th>model_year</th>\n",
                            "      <th>kms_driven</th>\n",
                            "      <th>owner</th>\n",
                            "      <th>location</th>\n",
                            "      <th>mileage</th>\n",
                            "      <th>power</th>\n",
                            "      <th>price</th>\n",
                            "      <th>brand</th>\n",
                            "    </tr>\n",
                            "  </thead>\n",
                            "  <tbody>\n",
                            "    <tr>\n",
                            "      <th>2413</th>\n",
                            "      <td>Yamaha SZR 150cc 2015</td>\n",
                            "      <td>2015</td>\n",
                            "      <td>16935.0</td>\n",
                            "      <td>first</td>\n",
                            "      <td>delhi</td>\n",
                            "      <td>NaN</td>\n",
                            "      <td>12.00</td>\n",
                            "      <td>36000.0</td>\n",
                            "      <td>Yamaha</td>\n",
                            "    </tr>\n",
                            "    <tr>\n",
                            "      <th>3739</th>\n",
                            "      <td>Royal Enfield Classic 350cc-Redditch Edition 2017</td>\n",
                            "      <td>2017</td>\n",
                            "      <td>28000.0</td>\n",
                            "      <td>first</td>\n",
                            "      <td>faridabad</td>\n",
                            "      <td>35.0</td>\n",
                            "      <td>19.80</td>\n",
                            "      <td>130000.0</td>\n",
                            "      <td>Royal</td>\n",
                            "    </tr>\n",
                            "    <tr>\n",
                            "      <th>1546</th>\n",
                            "      <td>TVS Apache RTR 180cc ABS 2020</td>\n",
                            "      <td>2020</td>\n",
                            "      <td>NaN</td>\n",
                            "      <td>third</td>\n",
                            "      <td>mumbai</td>\n",
                            "      <td>45.0</td>\n",
                            "      <td>17.30</td>\n",
                            "      <td>63000.0</td>\n",
                            "      <td>TVS</td>\n",
                            "    </tr>\n",
                            "    <tr>\n",
                            "      <th>1564</th>\n",
                            "      <td>Honda CB Unicorn 150cc 2011</td>\n",
                            "      <td>2011</td>\n",
                            "      <td>NaN</td>\n",
                            "      <td>first</td>\n",
                            "      <td>mumbai</td>\n",
                            "      <td>60.0</td>\n",
                            "      <td>14.00</td>\n",
                            "      <td>35000.0</td>\n",
                            "      <td>Honda</td>\n",
                            "    </tr>\n",
                            "    <tr>\n",
                            "      <th>1280</th>\n",
                            "      <td>Honda CBR 250R 2011</td>\n",
                            "      <td>2011</td>\n",
                            "      <td>30000.0</td>\n",
                            "      <td>first</td>\n",
                            "      <td>rudrapur</td>\n",
                            "      <td>29.0</td>\n",
                            "      <td>26.15</td>\n",
                            "      <td>46800.0</td>\n",
                            "      <td>Honda</td>\n",
                            "    </tr>\n",
                            "  </tbody>\n",
                            "</table>\n",
                            "</div>"
                        ],
                        "text/plain": [
                            "                                             model_name  model_year  \\\n",
                            "2413                              Yamaha SZR 150cc 2015        2015   \n",
                            "3739  Royal Enfield Classic 350cc-Redditch Edition 2017        2017   \n",
                            "1546                      TVS Apache RTR 180cc ABS 2020        2020   \n",
                            "1564                        Honda CB Unicorn 150cc 2011        2011   \n",
                            "1280                                Honda CBR 250R 2011        2011   \n",
                            "\n",
                            "      kms_driven   owner   location  mileage  power     price   brand  \n",
                            "2413     16935.0  first       delhi      NaN  12.00   36000.0  Yamaha  \n",
                            "3739     28000.0  first   faridabad     35.0  19.80  130000.0   Royal  \n",
                            "1546         NaN  third      mumbai     45.0  17.30   63000.0     TVS  \n",
                            "1564         NaN  first      mumbai     60.0  14.00   35000.0   Honda  \n",
                            "1280     30000.0  first    rudrapur     29.0  26.15   46800.0   Honda  "
                        ]
                    },
                    "metadata": {},
                    "execution_count": 193
                }
            ],
            "metadata": {}
        },
        {
            "cell_type": "code",
            "execution_count": 194,
            "source": [
                "df.brand.value_counts()"
            ],
            "outputs": [
                {
                    "output_type": "execute_result",
                    "data": {
                        "text/plain": [
                            "Bajaj               2105\n",
                            "Royal               1750\n",
                            "Hero                 808\n",
                            "Yamaha               747\n",
                            "TVS                  567\n",
                            "Honda                530\n",
                            "KTM                  491\n",
                            "Suzuki               223\n",
                            "Harley-Davidson      171\n",
                            "UM                   128\n",
                            "Kawasaki              67\n",
                            "Hyosung               54\n",
                            "Benelli               53\n",
                            "Jawa                  46\n",
                            "Triumph               36\n",
                            "Mahindra              27\n",
                            "Ducati                16\n",
                            "Husqvarna             11\n",
                            "BMW                   10\n",
                            "BenelliImperiale       6\n",
                            "Aprilia                2\n",
                            "Fb                     2\n",
                            "MV                     2\n",
                            "Indian                 1\n",
                            "yamaha                 1\n",
                            "Moto                   1\n",
                            "Ideal                  1\n",
                            "Yazdi                  1\n",
                            "Name: brand, dtype: int64"
                        ]
                    },
                    "metadata": {},
                    "execution_count": 194
                }
            ],
            "metadata": {}
        },
        {
            "cell_type": "markdown",
            "source": [
                "### We can also extract the engine details as cc from model_name"
            ],
            "metadata": {}
        },
        {
            "cell_type": "code",
            "execution_count": 195,
            "source": [
                "import re\n",
                "def extract_cc(val):\n",
                "    match =  re.search(r\"\\d{2,}(cc)\", val) \n",
                "    if match:\n",
                "        return match.group().replace('cc','')\n",
                "    else:\n",
                "        return None\n",
                "    \n",
                "\n",
                "df['engine'] = df['model_name'].apply(extract_cc)"
            ],
            "outputs": [],
            "metadata": {}
        },
        {
            "cell_type": "code",
            "execution_count": 196,
            "source": [
                "df.sample(5)"
            ],
            "outputs": [
                {
                    "output_type": "execute_result",
                    "data": {
                        "text/html": [
                            "<div>\n",
                            "<style scoped>\n",
                            "    .dataframe tbody tr th:only-of-type {\n",
                            "        vertical-align: middle;\n",
                            "    }\n",
                            "\n",
                            "    .dataframe tbody tr th {\n",
                            "        vertical-align: top;\n",
                            "    }\n",
                            "\n",
                            "    .dataframe thead th {\n",
                            "        text-align: right;\n",
                            "    }\n",
                            "</style>\n",
                            "<table border=\"1\" class=\"dataframe\">\n",
                            "  <thead>\n",
                            "    <tr style=\"text-align: right;\">\n",
                            "      <th></th>\n",
                            "      <th>model_name</th>\n",
                            "      <th>model_year</th>\n",
                            "      <th>kms_driven</th>\n",
                            "      <th>owner</th>\n",
                            "      <th>location</th>\n",
                            "      <th>mileage</th>\n",
                            "      <th>power</th>\n",
                            "      <th>price</th>\n",
                            "      <th>brand</th>\n",
                            "      <th>engine</th>\n",
                            "    </tr>\n",
                            "  </thead>\n",
                            "  <tbody>\n",
                            "    <tr>\n",
                            "      <th>591</th>\n",
                            "      <td>Bajaj Pulsar 150cc 2011</td>\n",
                            "      <td>2011</td>\n",
                            "      <td>NaN</td>\n",
                            "      <td>first</td>\n",
                            "      <td>bangalore</td>\n",
                            "      <td>65.0</td>\n",
                            "      <td>14.85</td>\n",
                            "      <td>22800.0</td>\n",
                            "      <td>Bajaj</td>\n",
                            "      <td>150</td>\n",
                            "    </tr>\n",
                            "    <tr>\n",
                            "      <th>3784</th>\n",
                            "      <td>Suzuki Slingshot Plus 125cc 2014</td>\n",
                            "      <td>2014</td>\n",
                            "      <td>31945.0</td>\n",
                            "      <td>first</td>\n",
                            "      <td>chennai</td>\n",
                            "      <td>59.0</td>\n",
                            "      <td>8.50</td>\n",
                            "      <td>32000.0</td>\n",
                            "      <td>Suzuki</td>\n",
                            "      <td>125</td>\n",
                            "    </tr>\n",
                            "    <tr>\n",
                            "      <th>6419</th>\n",
                            "      <td>Royal Enfield Classic Desert Storm 500cc 2016</td>\n",
                            "      <td>2016</td>\n",
                            "      <td>7000.0</td>\n",
                            "      <td>first</td>\n",
                            "      <td>mumbai</td>\n",
                            "      <td>32.0</td>\n",
                            "      <td>27.20</td>\n",
                            "      <td>128000.0</td>\n",
                            "      <td>Royal</td>\n",
                            "      <td>500</td>\n",
                            "    </tr>\n",
                            "    <tr>\n",
                            "      <th>4297</th>\n",
                            "      <td>Yamaha FZ S V 2.0 150cc 2016</td>\n",
                            "      <td>2016</td>\n",
                            "      <td>NaN</td>\n",
                            "      <td>first</td>\n",
                            "      <td>hyderabad</td>\n",
                            "      <td>58.0</td>\n",
                            "      <td>13.00</td>\n",
                            "      <td>75000.0</td>\n",
                            "      <td>Yamaha</td>\n",
                            "      <td>150</td>\n",
                            "    </tr>\n",
                            "    <tr>\n",
                            "      <th>4387</th>\n",
                            "      <td>KTM Duke 200cc 2017</td>\n",
                            "      <td>2017</td>\n",
                            "      <td>18000.0</td>\n",
                            "      <td>first</td>\n",
                            "      <td>mumbai</td>\n",
                            "      <td>35.0</td>\n",
                            "      <td>24.60</td>\n",
                            "      <td>100700.0</td>\n",
                            "      <td>KTM</td>\n",
                            "      <td>200</td>\n",
                            "    </tr>\n",
                            "  </tbody>\n",
                            "</table>\n",
                            "</div>"
                        ],
                        "text/plain": [
                            "                                         model_name  model_year  kms_driven  \\\n",
                            "591                         Bajaj Pulsar 150cc 2011        2011         NaN   \n",
                            "3784               Suzuki Slingshot Plus 125cc 2014        2014     31945.0   \n",
                            "6419  Royal Enfield Classic Desert Storm 500cc 2016        2016      7000.0   \n",
                            "4297                   Yamaha FZ S V 2.0 150cc 2016        2016         NaN   \n",
                            "4387                            KTM Duke 200cc 2017        2017     18000.0   \n",
                            "\n",
                            "       owner   location  mileage  power     price   brand engine  \n",
                            "591   first   bangalore     65.0  14.85   22800.0   Bajaj    150  \n",
                            "3784  first     chennai     59.0   8.50   32000.0  Suzuki    125  \n",
                            "6419  first      mumbai     32.0  27.20  128000.0   Royal    500  \n",
                            "4297  first   hyderabad     58.0  13.00   75000.0  Yamaha    150  \n",
                            "4387  first      mumbai     35.0  24.60  100700.0     KTM    200  "
                        ]
                    },
                    "metadata": {},
                    "execution_count": 196
                }
            ],
            "metadata": {}
        },
        {
            "cell_type": "markdown",
            "source": [
                "### We can now drop the model_name feature"
            ],
            "metadata": {}
        },
        {
            "cell_type": "code",
            "execution_count": 197,
            "source": [
                "df = df.drop('model_name',axis=1)"
            ],
            "outputs": [],
            "metadata": {}
        },
        {
            "cell_type": "markdown",
            "source": [
                "# Handle model_year"
            ],
            "metadata": {}
        },
        {
            "cell_type": "markdown",
            "source": [
                "We can use model_year to calculate the age of the bike, Age might give us the better results or representation"
            ],
            "metadata": {}
        },
        {
            "cell_type": "code",
            "execution_count": 198,
            "source": [
                "from datetime import date\n",
                "current_year = date.today().year\n",
                "\n",
                "df['age'] = df.model_year.apply(lambda x: current_year - x if x else None )"
            ],
            "outputs": [],
            "metadata": {}
        },
        {
            "cell_type": "markdown",
            "source": [
                "### Let's drop the model_year"
            ],
            "metadata": {}
        },
        {
            "cell_type": "code",
            "execution_count": 199,
            "source": [
                "df = df.drop('model_year',axis=1)"
            ],
            "outputs": [],
            "metadata": {}
        },
        {
            "cell_type": "markdown",
            "source": [
                "# Handle kms_driven"
            ],
            "metadata": {}
        },
        {
            "cell_type": "markdown",
            "source": [
                "### Missing values will be hanled latter"
            ],
            "metadata": {}
        },
        {
            "cell_type": "markdown",
            "source": [
                "# Handle owner"
            ],
            "metadata": {}
        },
        {
            "cell_type": "code",
            "execution_count": 200,
            "source": [
                "# remove whitespace\n",
                "df['owner'] = df.owner.str.strip()"
            ],
            "outputs": [],
            "metadata": {}
        },
        {
            "cell_type": "code",
            "execution_count": 201,
            "source": [
                "df.owner.unique()"
            ],
            "outputs": [
                {
                    "output_type": "execute_result",
                    "data": {
                        "text/plain": [
                            "array(['first', 'third', 'second', 'fourth'], dtype=object)"
                        ]
                    },
                    "metadata": {},
                    "execution_count": 201
                }
            ],
            "metadata": {}
        },
        {
            "cell_type": "code",
            "execution_count": 202,
            "source": [
                "print(df.owner.isnull().sum())"
            ],
            "outputs": [
                {
                    "output_type": "stream",
                    "name": "stdout",
                    "text": [
                        "0\n"
                    ]
                }
            ],
            "metadata": {}
        },
        {
            "cell_type": "markdown",
            "source": [
                "### Let's leave here only other things will handle during encoding"
            ],
            "metadata": {}
        },
        {
            "cell_type": "markdown",
            "source": [
                "# Handle location"
            ],
            "metadata": {}
        },
        {
            "cell_type": "code",
            "execution_count": 203,
            "source": [
                "df.location.value_counts()[:10]"
            ],
            "outputs": [
                {
                    "output_type": "execute_result",
                    "data": {
                        "text/plain": [
                            "delhi        1438\n",
                            "mumbai        857\n",
                            "bangalore     783\n",
                            "pune          343\n",
                            "hyderabad     337\n",
                            "chennai       322\n",
                            "gurgaon       311\n",
                            "jaipur        291\n",
                            "ahmedabad     235\n",
                            "faridabad     164\n",
                            "Name: location, dtype: int64"
                        ]
                    },
                    "metadata": {},
                    "execution_count": 203
                }
            ],
            "metadata": {}
        },
        {
            "cell_type": "markdown",
            "source": [
                "## Let's take only top 5 locations and make other as 'others'"
            ],
            "metadata": {}
        },
        {
            "cell_type": "code",
            "execution_count": 204,
            "source": [
                "top_locations = df.location.value_counts().index[:5]\n",
                "print(top_locations)"
            ],
            "outputs": [
                {
                    "output_type": "stream",
                    "name": "stdout",
                    "text": [
                        "Index(['delhi', 'mumbai', 'bangalore', 'pune', 'hyderabad'], dtype='object')\n"
                    ]
                }
            ],
            "metadata": {}
        },
        {
            "cell_type": "code",
            "execution_count": 205,
            "source": [
                "df['location'] = df.location.apply(lambda x: x if x in top_locations else 'other')"
            ],
            "outputs": [],
            "metadata": {}
        },
        {
            "cell_type": "markdown",
            "source": [
                "# Handle mileage"
            ],
            "metadata": {}
        },
        {
            "cell_type": "markdown",
            "source": [
                "### Nothing to do much here,missing values will be handle latter"
            ],
            "metadata": {}
        },
        {
            "cell_type": "markdown",
            "source": [
                "# Handle power"
            ],
            "metadata": {}
        },
        {
            "cell_type": "markdown",
            "source": [
                "### Nothing to do much here,missing values will be handle latter"
            ],
            "metadata": {}
        },
        {
            "cell_type": "markdown",
            "source": [
                "# Handle brand"
            ],
            "metadata": {}
        },
        {
            "cell_type": "code",
            "execution_count": 206,
            "source": [
                "# Let's check how may brands we get\n",
                "print('Unique Brands :',len(df['brand'].unique()))\n",
                "df['brand'].value_counts()[:10]"
            ],
            "outputs": [
                {
                    "output_type": "stream",
                    "name": "stdout",
                    "text": [
                        "Unique Brands : 28\n"
                    ]
                },
                {
                    "output_type": "execute_result",
                    "data": {
                        "text/plain": [
                            "Bajaj              2105\n",
                            "Royal              1750\n",
                            "Hero                808\n",
                            "Yamaha              747\n",
                            "TVS                 567\n",
                            "Honda               530\n",
                            "KTM                 491\n",
                            "Suzuki              223\n",
                            "Harley-Davidson     171\n",
                            "UM                  128\n",
                            "Name: brand, dtype: int64"
                        ]
                    },
                    "metadata": {},
                    "execution_count": 206
                }
            ],
            "metadata": {}
        },
        {
            "cell_type": "markdown",
            "source": [
                "### Let's take only top 10 brands as our base brand & make other as 'other' category"
            ],
            "metadata": {}
        },
        {
            "cell_type": "code",
            "execution_count": 207,
            "source": [
                "top_brands = df['brand'].value_counts().index[:10]\n",
                "df['brand'] = df['brand'].apply(lambda x: x if x in top_brands else 'other')"
            ],
            "outputs": [],
            "metadata": {}
        },
        {
            "cell_type": "markdown",
            "source": [
                "### Let's change the 'Royal' to 'Royal Enfield' as the actual brand"
            ],
            "metadata": {}
        },
        {
            "cell_type": "code",
            "execution_count": 208,
            "source": [
                "df['brand'] = df.brand.str.replace('Royal','Royal Enfield')"
            ],
            "outputs": [],
            "metadata": {}
        },
        {
            "cell_type": "markdown",
            "source": [
                "# Reorder the columns"
            ],
            "metadata": {}
        },
        {
            "cell_type": "code",
            "execution_count": 209,
            "source": [
                "# new_order = ['brand','model_year','kms_driven','owner','location','price']\n",
                "# new_order = [6,0,1,2,3,4,6,7,8,5]\n",
                "# df = df[df.columns[new_order]]"
            ],
            "outputs": [],
            "metadata": {}
        },
        {
            "cell_type": "code",
            "execution_count": 210,
            "source": [
                "df.sample(4)"
            ],
            "outputs": [
                {
                    "output_type": "execute_result",
                    "data": {
                        "text/html": [
                            "<div>\n",
                            "<style scoped>\n",
                            "    .dataframe tbody tr th:only-of-type {\n",
                            "        vertical-align: middle;\n",
                            "    }\n",
                            "\n",
                            "    .dataframe tbody tr th {\n",
                            "        vertical-align: top;\n",
                            "    }\n",
                            "\n",
                            "    .dataframe thead th {\n",
                            "        text-align: right;\n",
                            "    }\n",
                            "</style>\n",
                            "<table border=\"1\" class=\"dataframe\">\n",
                            "  <thead>\n",
                            "    <tr style=\"text-align: right;\">\n",
                            "      <th></th>\n",
                            "      <th>kms_driven</th>\n",
                            "      <th>owner</th>\n",
                            "      <th>location</th>\n",
                            "      <th>mileage</th>\n",
                            "      <th>power</th>\n",
                            "      <th>price</th>\n",
                            "      <th>brand</th>\n",
                            "      <th>engine</th>\n",
                            "      <th>age</th>\n",
                            "    </tr>\n",
                            "  </thead>\n",
                            "  <tbody>\n",
                            "    <tr>\n",
                            "      <th>5281</th>\n",
                            "      <td>NaN</td>\n",
                            "      <td>first</td>\n",
                            "      <td>other</td>\n",
                            "      <td>NaN</td>\n",
                            "      <td>34.50</td>\n",
                            "      <td>130000.0</td>\n",
                            "      <td>Bajaj</td>\n",
                            "      <td>None</td>\n",
                            "      <td>4</td>\n",
                            "    </tr>\n",
                            "    <tr>\n",
                            "      <th>6775</th>\n",
                            "      <td>3600.0</td>\n",
                            "      <td>first</td>\n",
                            "      <td>pune</td>\n",
                            "      <td>27.0</td>\n",
                            "      <td>26.21</td>\n",
                            "      <td>232000.0</td>\n",
                            "      <td>other</td>\n",
                            "      <td>None</td>\n",
                            "      <td>4</td>\n",
                            "    </tr>\n",
                            "    <tr>\n",
                            "      <th>6186</th>\n",
                            "      <td>13000.0</td>\n",
                            "      <td>first</td>\n",
                            "      <td>delhi</td>\n",
                            "      <td>35.0</td>\n",
                            "      <td>19.80</td>\n",
                            "      <td>106820.0</td>\n",
                            "      <td>Royal Enfield</td>\n",
                            "      <td>350</td>\n",
                            "      <td>6</td>\n",
                            "    </tr>\n",
                            "    <tr>\n",
                            "      <th>4345</th>\n",
                            "      <td>NaN</td>\n",
                            "      <td>first</td>\n",
                            "      <td>delhi</td>\n",
                            "      <td>60.0</td>\n",
                            "      <td>15.20</td>\n",
                            "      <td>75000.0</td>\n",
                            "      <td>TVS</td>\n",
                            "      <td>160</td>\n",
                            "      <td>3</td>\n",
                            "    </tr>\n",
                            "  </tbody>\n",
                            "</table>\n",
                            "</div>"
                        ],
                        "text/plain": [
                            "      kms_driven  owner location  mileage  power     price          brand  \\\n",
                            "5281         NaN  first    other      NaN  34.50  130000.0          Bajaj   \n",
                            "6775      3600.0  first     pune     27.0  26.21  232000.0          other   \n",
                            "6186     13000.0  first    delhi     35.0  19.80  106820.0  Royal Enfield   \n",
                            "4345         NaN  first    delhi     60.0  15.20   75000.0            TVS   \n",
                            "\n",
                            "     engine  age  \n",
                            "5281   None    4  \n",
                            "6775   None    4  \n",
                            "6186    350    6  \n",
                            "4345    160    3  "
                        ]
                    },
                    "metadata": {},
                    "execution_count": 210
                }
            ],
            "metadata": {}
        },
        {
            "cell_type": "code",
            "execution_count": 211,
            "source": [
                "df.shape"
            ],
            "outputs": [
                {
                    "output_type": "execute_result",
                    "data": {
                        "text/plain": [
                            "(7857, 9)"
                        ]
                    },
                    "metadata": {},
                    "execution_count": 211
                }
            ],
            "metadata": {}
        },
        {
            "cell_type": "markdown",
            "source": [
                "# Outlier Detection"
            ],
            "metadata": {}
        },
        {
            "cell_type": "code",
            "execution_count": 212,
            "source": [
                "def box_plot(df):\n",
                "    numeric_columns = df.select_dtypes(include=np.number).columns.tolist()\n",
                "    # outlier detection using boxplot\n",
                "    plt.figure(figsize=(16,22))\n",
                "\n",
                "    for i, variable in enumerate(numeric_columns):\n",
                "        plt.subplot(5,4,i+1)\n",
                "        plt.boxplot(df[variable],whis=1.5)\n",
                "        plt.tight_layout()\n",
                "        plt.title(variable)\n",
                "\n",
                "    plt.show()\n",
                "\n",
                "box_plot(df)"
            ],
            "outputs": [
                {
                    "output_type": "display_data",
                    "data": {
                        "image/png": "[encoded data removed]",
                        "text/plain": [
                            "<Figure size 1152x1584 with 5 Axes>"
                        ]
                    },
                    "metadata": {
                        "needs_background": "light"
                    }
                }
            ],
            "metadata": {}
        },
        {
            "cell_type": "markdown",
            "source": [
                "## kms_driven"
            ],
            "metadata": {}
        },
        {
            "cell_type": "code",
            "execution_count": 213,
            "source": [
                "max_val = df['kms_driven'].quantile(.99)\n",
                "\n",
                "min_val = df['kms_driven'].quantile(.1)\n",
                "\n",
                "df = df[(df['kms_driven'] <= max_val) & (df['kms_driven'] > min_val)]"
            ],
            "outputs": [],
            "metadata": {}
        },
        {
            "cell_type": "code",
            "execution_count": 214,
            "source": [
                "df.shape"
            ],
            "outputs": [
                {
                    "output_type": "execute_result",
                    "data": {
                        "text/plain": [
                            "(5223, 9)"
                        ]
                    },
                    "metadata": {},
                    "execution_count": 214
                }
            ],
            "metadata": {}
        },
        {
            "cell_type": "code",
            "execution_count": 215,
            "source": [
                "plt.figure(figsize=(8,6))\n",
                "sns.boxplot(data=df['kms_driven'])"
            ],
            "outputs": [
                {
                    "output_type": "execute_result",
                    "data": {
                        "text/plain": [
                            "<AxesSubplot:>"
                        ]
                    },
                    "metadata": {},
                    "execution_count": 215
                },
                {
                    "output_type": "display_data",
                    "data": {
                        "image/png": "[encoded data removed]",
                        "text/plain": [
                            "<Figure size 576x432 with 1 Axes>"
                        ]
                    },
                    "metadata": {
                        "needs_background": "light"
                    }
                }
            ],
            "metadata": {}
        },
        {
            "cell_type": "markdown",
            "source": [
                "## Mileage"
            ],
            "metadata": {}
        },
        {
            "cell_type": "code",
            "execution_count": 216,
            "source": [
                "# max_val = df['mileage'].quantile(.99)\n",
                "\n",
                "# min_val = df['mileage'].quantile(.1)\n",
                "\n",
                "# df = df[(df['mileage'] <= max_val) & (df['mileage'] > min_val)]"
            ],
            "outputs": [],
            "metadata": {}
        },
        {
            "cell_type": "code",
            "execution_count": 217,
            "source": [
                "plt.figure(figsize=(8,6))\n",
                "sns.boxplot(y=df['mileage'])"
            ],
            "outputs": [
                {
                    "output_type": "execute_result",
                    "data": {
                        "text/plain": [
                            "<AxesSubplot:ylabel='mileage'>"
                        ]
                    },
                    "metadata": {},
                    "execution_count": 217
                },
                {
                    "output_type": "display_data",
                    "data": {
                        "image/png": "[encoded data removed]",
                        "text/plain": [
                            "<Figure size 576x432 with 1 Axes>"
                        ]
                    },
                    "metadata": {
                        "needs_background": "light"
                    }
                }
            ],
            "metadata": {}
        },
        {
            "cell_type": "markdown",
            "source": [
                "## Power"
            ],
            "metadata": {}
        },
        {
            "cell_type": "code",
            "execution_count": 218,
            "source": [
                "# plt.figure(figsize=(8,6))\n",
                "# sns.boxplot(y=df['power'])"
            ],
            "outputs": [],
            "metadata": {}
        },
        {
            "cell_type": "markdown",
            "source": [
                "## Age"
            ],
            "metadata": {}
        },
        {
            "cell_type": "code",
            "execution_count": 219,
            "source": [
                "plt.figure(figsize=(8,6))\n",
                "sns.boxplot(y=df['age'])"
            ],
            "outputs": [
                {
                    "output_type": "execute_result",
                    "data": {
                        "text/plain": [
                            "<AxesSubplot:ylabel='age'>"
                        ]
                    },
                    "metadata": {},
                    "execution_count": 219
                },
                {
                    "output_type": "display_data",
                    "data": {
                        "image/png": "[encoded data removed]",
                        "text/plain": [
                            "<Figure size 576x432 with 1 Axes>"
                        ]
                    },
                    "metadata": {
                        "needs_background": "light"
                    }
                }
            ],
            "metadata": {}
        },
        {
            "cell_type": "markdown",
            "source": [
                "### More than 20 years old bikes are not that much good enough to be bought by anyone,let's take only age upto 20 years."
            ],
            "metadata": {}
        },
        {
            "cell_type": "code",
            "execution_count": 220,
            "source": [
                "df.sample(3)"
            ],
            "outputs": [
                {
                    "output_type": "execute_result",
                    "data": {
                        "text/html": [
                            "<div>\n",
                            "<style scoped>\n",
                            "    .dataframe tbody tr th:only-of-type {\n",
                            "        vertical-align: middle;\n",
                            "    }\n",
                            "\n",
                            "    .dataframe tbody tr th {\n",
                            "        vertical-align: top;\n",
                            "    }\n",
                            "\n",
                            "    .dataframe thead th {\n",
                            "        text-align: right;\n",
                            "    }\n",
                            "</style>\n",
                            "<table border=\"1\" class=\"dataframe\">\n",
                            "  <thead>\n",
                            "    <tr style=\"text-align: right;\">\n",
                            "      <th></th>\n",
                            "      <th>kms_driven</th>\n",
                            "      <th>owner</th>\n",
                            "      <th>location</th>\n",
                            "      <th>mileage</th>\n",
                            "      <th>power</th>\n",
                            "      <th>price</th>\n",
                            "      <th>brand</th>\n",
                            "      <th>engine</th>\n",
                            "      <th>age</th>\n",
                            "    </tr>\n",
                            "  </thead>\n",
                            "  <tbody>\n",
                            "    <tr>\n",
                            "      <th>5589</th>\n",
                            "      <td>70000.0</td>\n",
                            "      <td>second</td>\n",
                            "      <td>other</td>\n",
                            "      <td>64.0</td>\n",
                            "      <td>NaN</td>\n",
                            "      <td>9400.0</td>\n",
                            "      <td>Yamaha</td>\n",
                            "      <td>125</td>\n",
                            "      <td>12</td>\n",
                            "    </tr>\n",
                            "    <tr>\n",
                            "      <th>280</th>\n",
                            "      <td>8500.0</td>\n",
                            "      <td>first</td>\n",
                            "      <td>delhi</td>\n",
                            "      <td>45.0</td>\n",
                            "      <td>13.0</td>\n",
                            "      <td>54000.0</td>\n",
                            "      <td>Yamaha</td>\n",
                            "      <td>150</td>\n",
                            "      <td>5</td>\n",
                            "    </tr>\n",
                            "    <tr>\n",
                            "      <th>5293</th>\n",
                            "      <td>12500.0</td>\n",
                            "      <td>second</td>\n",
                            "      <td>other</td>\n",
                            "      <td>30.0</td>\n",
                            "      <td>28.0</td>\n",
                            "      <td>170700.0</td>\n",
                            "      <td>other</td>\n",
                            "      <td>None</td>\n",
                            "      <td>6</td>\n",
                            "    </tr>\n",
                            "  </tbody>\n",
                            "</table>\n",
                            "</div>"
                        ],
                        "text/plain": [
                            "      kms_driven   owner location  mileage  power     price   brand engine  \\\n",
                            "5589     70000.0  second    other     64.0    NaN    9400.0  Yamaha    125   \n",
                            "280       8500.0   first    delhi     45.0   13.0   54000.0  Yamaha    150   \n",
                            "5293     12500.0  second    other     30.0   28.0  170700.0   other   None   \n",
                            "\n",
                            "      age  \n",
                            "5589   12  \n",
                            "280     5  \n",
                            "5293    6  "
                        ]
                    },
                    "metadata": {},
                    "execution_count": 220
                }
            ],
            "metadata": {}
        },
        {
            "cell_type": "code",
            "execution_count": 221,
            "source": [
                "df = df[df['age'] <= 20]"
            ],
            "outputs": [],
            "metadata": {}
        },
        {
            "cell_type": "code",
            "execution_count": 222,
            "source": [
                "df.sample(3)"
            ],
            "outputs": [
                {
                    "output_type": "execute_result",
                    "data": {
                        "text/html": [
                            "<div>\n",
                            "<style scoped>\n",
                            "    .dataframe tbody tr th:only-of-type {\n",
                            "        vertical-align: middle;\n",
                            "    }\n",
                            "\n",
                            "    .dataframe tbody tr th {\n",
                            "        vertical-align: top;\n",
                            "    }\n",
                            "\n",
                            "    .dataframe thead th {\n",
                            "        text-align: right;\n",
                            "    }\n",
                            "</style>\n",
                            "<table border=\"1\" class=\"dataframe\">\n",
                            "  <thead>\n",
                            "    <tr style=\"text-align: right;\">\n",
                            "      <th></th>\n",
                            "      <th>kms_driven</th>\n",
                            "      <th>owner</th>\n",
                            "      <th>location</th>\n",
                            "      <th>mileage</th>\n",
                            "      <th>power</th>\n",
                            "      <th>price</th>\n",
                            "      <th>brand</th>\n",
                            "      <th>engine</th>\n",
                            "      <th>age</th>\n",
                            "    </tr>\n",
                            "  </thead>\n",
                            "  <tbody>\n",
                            "    <tr>\n",
                            "      <th>1175</th>\n",
                            "      <td>21500.0</td>\n",
                            "      <td>first</td>\n",
                            "      <td>other</td>\n",
                            "      <td>42.0</td>\n",
                            "      <td>16.7</td>\n",
                            "      <td>90000.0</td>\n",
                            "      <td>Yamaha</td>\n",
                            "      <td>150</td>\n",
                            "      <td>4</td>\n",
                            "    </tr>\n",
                            "    <tr>\n",
                            "      <th>6871</th>\n",
                            "      <td>10000.0</td>\n",
                            "      <td>first</td>\n",
                            "      <td>other</td>\n",
                            "      <td>NaN</td>\n",
                            "      <td>29.6</td>\n",
                            "      <td>155000.0</td>\n",
                            "      <td>KTM</td>\n",
                            "      <td>250</td>\n",
                            "      <td>3</td>\n",
                            "    </tr>\n",
                            "    <tr>\n",
                            "      <th>443</th>\n",
                            "      <td>14062.0</td>\n",
                            "      <td>first</td>\n",
                            "      <td>mumbai</td>\n",
                            "      <td>63.0</td>\n",
                            "      <td>14.0</td>\n",
                            "      <td>69000.0</td>\n",
                            "      <td>Suzuki</td>\n",
                            "      <td>150</td>\n",
                            "      <td>4</td>\n",
                            "    </tr>\n",
                            "  </tbody>\n",
                            "</table>\n",
                            "</div>"
                        ],
                        "text/plain": [
                            "      kms_driven  owner location  mileage  power     price   brand engine  age\n",
                            "1175     21500.0  first    other     42.0   16.7   90000.0  Yamaha    150    4\n",
                            "6871     10000.0  first    other      NaN   29.6  155000.0     KTM    250    3\n",
                            "443      14062.0  first   mumbai     63.0   14.0   69000.0  Suzuki    150    4"
                        ]
                    },
                    "metadata": {},
                    "execution_count": 222
                }
            ],
            "metadata": {}
        },
        {
            "cell_type": "code",
            "execution_count": 223,
            "source": [
                "plt.figure(figsize=(8,6))\n",
                "sns.boxplot(y=df['age'])"
            ],
            "outputs": [
                {
                    "output_type": "execute_result",
                    "data": {
                        "text/plain": [
                            "<AxesSubplot:ylabel='age'>"
                        ]
                    },
                    "metadata": {},
                    "execution_count": 223
                },
                {
                    "output_type": "display_data",
                    "data": {
                        "image/png": "[encoded data removed]",
                        "text/plain": [
                            "<Figure size 576x432 with 1 Axes>"
                        ]
                    },
                    "metadata": {
                        "needs_background": "light"
                    }
                }
            ],
            "metadata": {}
        },
        {
            "cell_type": "markdown",
            "source": [
                "## Price"
            ],
            "metadata": {}
        },
        {
            "cell_type": "code",
            "execution_count": 224,
            "source": [
                "max_val = df['price'].quantile(.99)\n",
                "\n",
                "min_val = df['price'].quantile(.1)\n",
                "\n",
                "# df = df[(df['price'] <= max_val) & (df['price'] > min_val)]"
            ],
            "outputs": [],
            "metadata": {}
        },
        {
            "cell_type": "code",
            "execution_count": 225,
            "source": [
                "df[~(df['price'] <= max_val) & (df['price'] > min_val)]"
            ],
            "outputs": [
                {
                    "output_type": "execute_result",
                    "data": {
                        "text/html": [
                            "<div>\n",
                            "<style scoped>\n",
                            "    .dataframe tbody tr th:only-of-type {\n",
                            "        vertical-align: middle;\n",
                            "    }\n",
                            "\n",
                            "    .dataframe tbody tr th {\n",
                            "        vertical-align: top;\n",
                            "    }\n",
                            "\n",
                            "    .dataframe thead th {\n",
                            "        text-align: right;\n",
                            "    }\n",
                            "</style>\n",
                            "<table border=\"1\" class=\"dataframe\">\n",
                            "  <thead>\n",
                            "    <tr style=\"text-align: right;\">\n",
                            "      <th></th>\n",
                            "      <th>kms_driven</th>\n",
                            "      <th>owner</th>\n",
                            "      <th>location</th>\n",
                            "      <th>mileage</th>\n",
                            "      <th>power</th>\n",
                            "      <th>price</th>\n",
                            "      <th>brand</th>\n",
                            "      <th>engine</th>\n",
                            "      <th>age</th>\n",
                            "    </tr>\n",
                            "  </thead>\n",
                            "  <tbody>\n",
                            "    <tr>\n",
                            "      <th>1251</th>\n",
                            "      <td>10500.0</td>\n",
                            "      <td>first</td>\n",
                            "      <td>delhi</td>\n",
                            "      <td>15.00</td>\n",
                            "      <td>139.00</td>\n",
                            "      <td>760000.0</td>\n",
                            "      <td>other</td>\n",
                            "      <td>None</td>\n",
                            "      <td>2</td>\n",
                            "    </tr>\n",
                            "    <tr>\n",
                            "      <th>1870</th>\n",
                            "      <td>30000.0</td>\n",
                            "      <td>first</td>\n",
                            "      <td>pune</td>\n",
                            "      <td>20.00</td>\n",
                            "      <td>111.00</td>\n",
                            "      <td>750000.0</td>\n",
                            "      <td>other</td>\n",
                            "      <td>None</td>\n",
                            "      <td>4</td>\n",
                            "    </tr>\n",
                            "    <tr>\n",
                            "      <th>2141</th>\n",
                            "      <td>22000.0</td>\n",
                            "      <td>first</td>\n",
                            "      <td>delhi</td>\n",
                            "      <td>13.00</td>\n",
                            "      <td>127.00</td>\n",
                            "      <td>925000.0</td>\n",
                            "      <td>Suzuki</td>\n",
                            "      <td>None</td>\n",
                            "      <td>7</td>\n",
                            "    </tr>\n",
                            "    <tr>\n",
                            "      <th>2254</th>\n",
                            "      <td>43000.0</td>\n",
                            "      <td>first</td>\n",
                            "      <td>other</td>\n",
                            "      <td>18.00</td>\n",
                            "      <td>65.00</td>\n",
                            "      <td>850000.0</td>\n",
                            "      <td>Harley-Davidson</td>\n",
                            "      <td>None</td>\n",
                            "      <td>4</td>\n",
                            "    </tr>\n",
                            "    <tr>\n",
                            "      <th>2365</th>\n",
                            "      <td>16000.0</td>\n",
                            "      <td>first</td>\n",
                            "      <td>other</td>\n",
                            "      <td>12.00</td>\n",
                            "      <td>93.00</td>\n",
                            "      <td>1025000.0</td>\n",
                            "      <td>other</td>\n",
                            "      <td>None</td>\n",
                            "      <td>6</td>\n",
                            "    </tr>\n",
                            "    <tr>\n",
                            "      <th>2392</th>\n",
                            "      <td>6000.0</td>\n",
                            "      <td>first</td>\n",
                            "      <td>other</td>\n",
                            "      <td>12.00</td>\n",
                            "      <td>159.70</td>\n",
                            "      <td>1200000.0</td>\n",
                            "      <td>other</td>\n",
                            "      <td>None</td>\n",
                            "      <td>4</td>\n",
                            "    </tr>\n",
                            "    <tr>\n",
                            "      <th>2442</th>\n",
                            "      <td>4600.0</td>\n",
                            "      <td>first</td>\n",
                            "      <td>other</td>\n",
                            "      <td>NaN</td>\n",
                            "      <td>NaN</td>\n",
                            "      <td>1300000.0</td>\n",
                            "      <td>Harley-Davidson</td>\n",
                            "      <td>1750</td>\n",
                            "      <td>2</td>\n",
                            "    </tr>\n",
                            "    <tr>\n",
                            "      <th>2680</th>\n",
                            "      <td>24000.0</td>\n",
                            "      <td>first</td>\n",
                            "      <td>bangalore</td>\n",
                            "      <td>19.00</td>\n",
                            "      <td>135.00</td>\n",
                            "      <td>1299000.0</td>\n",
                            "      <td>other</td>\n",
                            "      <td>None</td>\n",
                            "      <td>6</td>\n",
                            "    </tr>\n",
                            "    <tr>\n",
                            "      <th>2810</th>\n",
                            "      <td>17000.0</td>\n",
                            "      <td>first</td>\n",
                            "      <td>mumbai</td>\n",
                            "      <td>20.00</td>\n",
                            "      <td>111.00</td>\n",
                            "      <td>880837.0</td>\n",
                            "      <td>other</td>\n",
                            "      <td>None</td>\n",
                            "      <td>3</td>\n",
                            "    </tr>\n",
                            "    <tr>\n",
                            "      <th>2813</th>\n",
                            "      <td>6000.0</td>\n",
                            "      <td>first</td>\n",
                            "      <td>mumbai</td>\n",
                            "      <td>25.00</td>\n",
                            "      <td>123.30</td>\n",
                            "      <td>881875.0</td>\n",
                            "      <td>other</td>\n",
                            "      <td>None</td>\n",
                            "      <td>2</td>\n",
                            "    </tr>\n",
                            "    <tr>\n",
                            "      <th>2819</th>\n",
                            "      <td>18000.0</td>\n",
                            "      <td>first</td>\n",
                            "      <td>mumbai</td>\n",
                            "      <td>NaN</td>\n",
                            "      <td>NaN</td>\n",
                            "      <td>1141250.0</td>\n",
                            "      <td>Harley-Davidson</td>\n",
                            "      <td>1750</td>\n",
                            "      <td>3</td>\n",
                            "    </tr>\n",
                            "    <tr>\n",
                            "      <th>2919</th>\n",
                            "      <td>8000.0</td>\n",
                            "      <td>first</td>\n",
                            "      <td>other</td>\n",
                            "      <td>18.00</td>\n",
                            "      <td>65.00</td>\n",
                            "      <td>750000.0</td>\n",
                            "      <td>Harley-Davidson</td>\n",
                            "      <td>None</td>\n",
                            "      <td>7</td>\n",
                            "    </tr>\n",
                            "    <tr>\n",
                            "      <th>2985</th>\n",
                            "      <td>15000.0</td>\n",
                            "      <td>first</td>\n",
                            "      <td>mumbai</td>\n",
                            "      <td>18.86</td>\n",
                            "      <td>75.00</td>\n",
                            "      <td>752187.0</td>\n",
                            "      <td>other</td>\n",
                            "      <td>None</td>\n",
                            "      <td>3</td>\n",
                            "    </tr>\n",
                            "    <tr>\n",
                            "      <th>2990</th>\n",
                            "      <td>13000.0</td>\n",
                            "      <td>first</td>\n",
                            "      <td>pune</td>\n",
                            "      <td>18.00</td>\n",
                            "      <td>78.90</td>\n",
                            "      <td>800000.0</td>\n",
                            "      <td>other</td>\n",
                            "      <td>None</td>\n",
                            "      <td>4</td>\n",
                            "    </tr>\n",
                            "    <tr>\n",
                            "      <th>3186</th>\n",
                            "      <td>5000.0</td>\n",
                            "      <td>first</td>\n",
                            "      <td>other</td>\n",
                            "      <td>18.00</td>\n",
                            "      <td>64.00</td>\n",
                            "      <td>1150000.0</td>\n",
                            "      <td>Harley-Davidson</td>\n",
                            "      <td>1745</td>\n",
                            "      <td>1</td>\n",
                            "    </tr>\n",
                            "    <tr>\n",
                            "      <th>3439</th>\n",
                            "      <td>6500.0</td>\n",
                            "      <td>first</td>\n",
                            "      <td>delhi</td>\n",
                            "      <td>25.00</td>\n",
                            "      <td>123.30</td>\n",
                            "      <td>750000.0</td>\n",
                            "      <td>other</td>\n",
                            "      <td>None</td>\n",
                            "      <td>3</td>\n",
                            "    </tr>\n",
                            "    <tr>\n",
                            "      <th>3791</th>\n",
                            "      <td>47000.0</td>\n",
                            "      <td>second</td>\n",
                            "      <td>bangalore</td>\n",
                            "      <td>NaN</td>\n",
                            "      <td>94.00</td>\n",
                            "      <td>1000000.0</td>\n",
                            "      <td>other</td>\n",
                            "      <td>None</td>\n",
                            "      <td>5</td>\n",
                            "    </tr>\n",
                            "    <tr>\n",
                            "      <th>3922</th>\n",
                            "      <td>5929.0</td>\n",
                            "      <td>first</td>\n",
                            "      <td>other</td>\n",
                            "      <td>15.00</td>\n",
                            "      <td>140.00</td>\n",
                            "      <td>945000.0</td>\n",
                            "      <td>other</td>\n",
                            "      <td>None</td>\n",
                            "      <td>2</td>\n",
                            "    </tr>\n",
                            "    <tr>\n",
                            "      <th>3943</th>\n",
                            "      <td>65000.0</td>\n",
                            "      <td>first</td>\n",
                            "      <td>delhi</td>\n",
                            "      <td>40.00</td>\n",
                            "      <td>19.80</td>\n",
                            "      <td>800000.0</td>\n",
                            "      <td>Royal Enfield</td>\n",
                            "      <td>350</td>\n",
                            "      <td>9</td>\n",
                            "    </tr>\n",
                            "    <tr>\n",
                            "      <th>3965</th>\n",
                            "      <td>16800.0</td>\n",
                            "      <td>first</td>\n",
                            "      <td>delhi</td>\n",
                            "      <td>13.00</td>\n",
                            "      <td>127.00</td>\n",
                            "      <td>825000.0</td>\n",
                            "      <td>Suzuki</td>\n",
                            "      <td>None</td>\n",
                            "      <td>8</td>\n",
                            "    </tr>\n",
                            "    <tr>\n",
                            "      <th>4115</th>\n",
                            "      <td>13000.0</td>\n",
                            "      <td>first</td>\n",
                            "      <td>mumbai</td>\n",
                            "      <td>18.00</td>\n",
                            "      <td>65.00</td>\n",
                            "      <td>778125.0</td>\n",
                            "      <td>Harley-Davidson</td>\n",
                            "      <td>None</td>\n",
                            "      <td>6</td>\n",
                            "    </tr>\n",
                            "    <tr>\n",
                            "      <th>4145</th>\n",
                            "      <td>16500.0</td>\n",
                            "      <td>first</td>\n",
                            "      <td>other</td>\n",
                            "      <td>NaN</td>\n",
                            "      <td>NaN</td>\n",
                            "      <td>780000.0</td>\n",
                            "      <td>Bajaj</td>\n",
                            "      <td>None</td>\n",
                            "      <td>3</td>\n",
                            "    </tr>\n",
                            "    <tr>\n",
                            "      <th>4280</th>\n",
                            "      <td>17000.0</td>\n",
                            "      <td>first</td>\n",
                            "      <td>delhi</td>\n",
                            "      <td>16.00</td>\n",
                            "      <td>NaN</td>\n",
                            "      <td>1175000.0</td>\n",
                            "      <td>Honda</td>\n",
                            "      <td>None</td>\n",
                            "      <td>6</td>\n",
                            "    </tr>\n",
                            "    <tr>\n",
                            "      <th>4300</th>\n",
                            "      <td>9200.0</td>\n",
                            "      <td>first</td>\n",
                            "      <td>delhi</td>\n",
                            "      <td>12.50</td>\n",
                            "      <td>197.30</td>\n",
                            "      <td>1450000.0</td>\n",
                            "      <td>other</td>\n",
                            "      <td>None</td>\n",
                            "      <td>1</td>\n",
                            "    </tr>\n",
                            "    <tr>\n",
                            "      <th>4307</th>\n",
                            "      <td>9000.0</td>\n",
                            "      <td>first</td>\n",
                            "      <td>mumbai</td>\n",
                            "      <td>18.00</td>\n",
                            "      <td>84.11</td>\n",
                            "      <td>830000.0</td>\n",
                            "      <td>Honda</td>\n",
                            "      <td>None</td>\n",
                            "      <td>3</td>\n",
                            "    </tr>\n",
                            "    <tr>\n",
                            "      <th>4425</th>\n",
                            "      <td>11000.0</td>\n",
                            "      <td>first</td>\n",
                            "      <td>mumbai</td>\n",
                            "      <td>NaN</td>\n",
                            "      <td>NaN</td>\n",
                            "      <td>800000.0</td>\n",
                            "      <td>other</td>\n",
                            "      <td>None</td>\n",
                            "      <td>3</td>\n",
                            "    </tr>\n",
                            "    <tr>\n",
                            "      <th>4430</th>\n",
                            "      <td>17000.0</td>\n",
                            "      <td>first</td>\n",
                            "      <td>delhi</td>\n",
                            "      <td>20.30</td>\n",
                            "      <td>57.00</td>\n",
                            "      <td>850000.0</td>\n",
                            "      <td>Honda</td>\n",
                            "      <td>1300</td>\n",
                            "      <td>8</td>\n",
                            "    </tr>\n",
                            "    <tr>\n",
                            "      <th>4439</th>\n",
                            "      <td>6500.0</td>\n",
                            "      <td>first</td>\n",
                            "      <td>mumbai</td>\n",
                            "      <td>29.00</td>\n",
                            "      <td>76.00</td>\n",
                            "      <td>830000.0</td>\n",
                            "      <td>other</td>\n",
                            "      <td>1200</td>\n",
                            "      <td>3</td>\n",
                            "    </tr>\n",
                            "    <tr>\n",
                            "      <th>4443</th>\n",
                            "      <td>22000.0</td>\n",
                            "      <td>second</td>\n",
                            "      <td>bangalore</td>\n",
                            "      <td>15.00</td>\n",
                            "      <td>139.00</td>\n",
                            "      <td>925000.0</td>\n",
                            "      <td>other</td>\n",
                            "      <td>None</td>\n",
                            "      <td>6</td>\n",
                            "    </tr>\n",
                            "    <tr>\n",
                            "      <th>4459</th>\n",
                            "      <td>5500.0</td>\n",
                            "      <td>first</td>\n",
                            "      <td>delhi</td>\n",
                            "      <td>12.50</td>\n",
                            "      <td>197.30</td>\n",
                            "      <td>1375000.0</td>\n",
                            "      <td>other</td>\n",
                            "      <td>None</td>\n",
                            "      <td>2</td>\n",
                            "    </tr>\n",
                            "    <tr>\n",
                            "      <th>4591</th>\n",
                            "      <td>9000.0</td>\n",
                            "      <td>first</td>\n",
                            "      <td>other</td>\n",
                            "      <td>17.85</td>\n",
                            "      <td>NaN</td>\n",
                            "      <td>1050000.0</td>\n",
                            "      <td>Harley-Davidson</td>\n",
                            "      <td>None</td>\n",
                            "      <td>5</td>\n",
                            "    </tr>\n",
                            "    <tr>\n",
                            "      <th>4697</th>\n",
                            "      <td>7700.0</td>\n",
                            "      <td>first</td>\n",
                            "      <td>mumbai</td>\n",
                            "      <td>20.00</td>\n",
                            "      <td>111.00</td>\n",
                            "      <td>850750.0</td>\n",
                            "      <td>other</td>\n",
                            "      <td>None</td>\n",
                            "      <td>3</td>\n",
                            "    </tr>\n",
                            "    <tr>\n",
                            "      <th>5066</th>\n",
                            "      <td>16000.0</td>\n",
                            "      <td>first</td>\n",
                            "      <td>other</td>\n",
                            "      <td>NaN</td>\n",
                            "      <td>96.60</td>\n",
                            "      <td>1150000.0</td>\n",
                            "      <td>other</td>\n",
                            "      <td>1700</td>\n",
                            "      <td>4</td>\n",
                            "    </tr>\n",
                            "    <tr>\n",
                            "      <th>5067</th>\n",
                            "      <td>10800.0</td>\n",
                            "      <td>second</td>\n",
                            "      <td>mumbai</td>\n",
                            "      <td>18.00</td>\n",
                            "      <td>115.00</td>\n",
                            "      <td>1500000.0</td>\n",
                            "      <td>Harley-Davidson</td>\n",
                            "      <td>None</td>\n",
                            "      <td>6</td>\n",
                            "    </tr>\n",
                            "    <tr>\n",
                            "      <th>5401</th>\n",
                            "      <td>7000.0</td>\n",
                            "      <td>first</td>\n",
                            "      <td>other</td>\n",
                            "      <td>19.00</td>\n",
                            "      <td>153.80</td>\n",
                            "      <td>1500000.0</td>\n",
                            "      <td>other</td>\n",
                            "      <td>None</td>\n",
                            "      <td>4</td>\n",
                            "    </tr>\n",
                            "    <tr>\n",
                            "      <th>5410</th>\n",
                            "      <td>27000.0</td>\n",
                            "      <td>first</td>\n",
                            "      <td>mumbai</td>\n",
                            "      <td>NaN</td>\n",
                            "      <td>94.00</td>\n",
                            "      <td>950000.0</td>\n",
                            "      <td>other</td>\n",
                            "      <td>None</td>\n",
                            "      <td>5</td>\n",
                            "    </tr>\n",
                            "    <tr>\n",
                            "      <th>5586</th>\n",
                            "      <td>18000.0</td>\n",
                            "      <td>first</td>\n",
                            "      <td>delhi</td>\n",
                            "      <td>NaN</td>\n",
                            "      <td>159.80</td>\n",
                            "      <td>1500000.0</td>\n",
                            "      <td>other</td>\n",
                            "      <td>None</td>\n",
                            "      <td>4</td>\n",
                            "    </tr>\n",
                            "    <tr>\n",
                            "      <th>5640</th>\n",
                            "      <td>15300.0</td>\n",
                            "      <td>first</td>\n",
                            "      <td>mumbai</td>\n",
                            "      <td>42.00</td>\n",
                            "      <td>16.70</td>\n",
                            "      <td>985625.0</td>\n",
                            "      <td>Yamaha</td>\n",
                            "      <td>150</td>\n",
                            "      <td>4</td>\n",
                            "    </tr>\n",
                            "    <tr>\n",
                            "      <th>5649</th>\n",
                            "      <td>15000.0</td>\n",
                            "      <td>first</td>\n",
                            "      <td>other</td>\n",
                            "      <td>12.00</td>\n",
                            "      <td>181.44</td>\n",
                            "      <td>1100000.0</td>\n",
                            "      <td>other</td>\n",
                            "      <td>1000</td>\n",
                            "      <td>7</td>\n",
                            "    </tr>\n",
                            "    <tr>\n",
                            "      <th>5664</th>\n",
                            "      <td>9000.0</td>\n",
                            "      <td>first</td>\n",
                            "      <td>bangalore</td>\n",
                            "      <td>15.00</td>\n",
                            "      <td>96.00</td>\n",
                            "      <td>1050000.0</td>\n",
                            "      <td>other</td>\n",
                            "      <td>1200</td>\n",
                            "      <td>5</td>\n",
                            "    </tr>\n",
                            "    <tr>\n",
                            "      <th>5667</th>\n",
                            "      <td>15000.0</td>\n",
                            "      <td>first</td>\n",
                            "      <td>bangalore</td>\n",
                            "      <td>15.00</td>\n",
                            "      <td>139.00</td>\n",
                            "      <td>1000000.0</td>\n",
                            "      <td>other</td>\n",
                            "      <td>None</td>\n",
                            "      <td>7</td>\n",
                            "    </tr>\n",
                            "    <tr>\n",
                            "      <th>5673</th>\n",
                            "      <td>14000.0</td>\n",
                            "      <td>first</td>\n",
                            "      <td>bangalore</td>\n",
                            "      <td>17.00</td>\n",
                            "      <td>NaN</td>\n",
                            "      <td>750000.0</td>\n",
                            "      <td>Harley-Davidson</td>\n",
                            "      <td>None</td>\n",
                            "      <td>9</td>\n",
                            "    </tr>\n",
                            "    <tr>\n",
                            "      <th>5690</th>\n",
                            "      <td>10000.0</td>\n",
                            "      <td>first</td>\n",
                            "      <td>delhi</td>\n",
                            "      <td>NaN</td>\n",
                            "      <td>94.00</td>\n",
                            "      <td>750000.0</td>\n",
                            "      <td>other</td>\n",
                            "      <td>None</td>\n",
                            "      <td>6</td>\n",
                            "    </tr>\n",
                            "    <tr>\n",
                            "      <th>5729</th>\n",
                            "      <td>13000.0</td>\n",
                            "      <td>first</td>\n",
                            "      <td>other</td>\n",
                            "      <td>NaN</td>\n",
                            "      <td>96.60</td>\n",
                            "      <td>900000.0</td>\n",
                            "      <td>other</td>\n",
                            "      <td>1700</td>\n",
                            "      <td>6</td>\n",
                            "    </tr>\n",
                            "    <tr>\n",
                            "      <th>6335</th>\n",
                            "      <td>16000.0</td>\n",
                            "      <td>first</td>\n",
                            "      <td>other</td>\n",
                            "      <td>18.00</td>\n",
                            "      <td>176.00</td>\n",
                            "      <td>799999.0</td>\n",
                            "      <td>Honda</td>\n",
                            "      <td>None</td>\n",
                            "      <td>11</td>\n",
                            "    </tr>\n",
                            "    <tr>\n",
                            "      <th>6599</th>\n",
                            "      <td>9500.0</td>\n",
                            "      <td>second</td>\n",
                            "      <td>delhi</td>\n",
                            "      <td>15.00</td>\n",
                            "      <td>140.00</td>\n",
                            "      <td>825000.0</td>\n",
                            "      <td>other</td>\n",
                            "      <td>None</td>\n",
                            "      <td>3</td>\n",
                            "    </tr>\n",
                            "    <tr>\n",
                            "      <th>6614</th>\n",
                            "      <td>15500.0</td>\n",
                            "      <td>first</td>\n",
                            "      <td>other</td>\n",
                            "      <td>18.00</td>\n",
                            "      <td>65.00</td>\n",
                            "      <td>924999.0</td>\n",
                            "      <td>Harley-Davidson</td>\n",
                            "      <td>None</td>\n",
                            "      <td>7</td>\n",
                            "    </tr>\n",
                            "    <tr>\n",
                            "      <th>6676</th>\n",
                            "      <td>9800.0</td>\n",
                            "      <td>first</td>\n",
                            "      <td>bangalore</td>\n",
                            "      <td>15.00</td>\n",
                            "      <td>139.00</td>\n",
                            "      <td>1078000.0</td>\n",
                            "      <td>other</td>\n",
                            "      <td>None</td>\n",
                            "      <td>5</td>\n",
                            "    </tr>\n",
                            "    <tr>\n",
                            "      <th>6690</th>\n",
                            "      <td>18500.0</td>\n",
                            "      <td>first</td>\n",
                            "      <td>other</td>\n",
                            "      <td>12.00</td>\n",
                            "      <td>160.00</td>\n",
                            "      <td>810000.0</td>\n",
                            "      <td>Suzuki</td>\n",
                            "      <td>1000</td>\n",
                            "      <td>10</td>\n",
                            "    </tr>\n",
                            "    <tr>\n",
                            "      <th>6704</th>\n",
                            "      <td>6898.0</td>\n",
                            "      <td>first</td>\n",
                            "      <td>delhi</td>\n",
                            "      <td>15.00</td>\n",
                            "      <td>145.90</td>\n",
                            "      <td>950000.0</td>\n",
                            "      <td>other</td>\n",
                            "      <td>800</td>\n",
                            "      <td>6</td>\n",
                            "    </tr>\n",
                            "    <tr>\n",
                            "      <th>6778</th>\n",
                            "      <td>23000.0</td>\n",
                            "      <td>first</td>\n",
                            "      <td>pune</td>\n",
                            "      <td>17.00</td>\n",
                            "      <td>146.00</td>\n",
                            "      <td>1900000.0</td>\n",
                            "      <td>other</td>\n",
                            "      <td>None</td>\n",
                            "      <td>5</td>\n",
                            "    </tr>\n",
                            "    <tr>\n",
                            "      <th>6779</th>\n",
                            "      <td>21000.0</td>\n",
                            "      <td>first</td>\n",
                            "      <td>other</td>\n",
                            "      <td>12.00</td>\n",
                            "      <td>93.00</td>\n",
                            "      <td>1400000.0</td>\n",
                            "      <td>other</td>\n",
                            "      <td>None</td>\n",
                            "      <td>6</td>\n",
                            "    </tr>\n",
                            "  </tbody>\n",
                            "</table>\n",
                            "</div>"
                        ],
                        "text/plain": [
                            "      kms_driven   owner   location  mileage   power      price  \\\n",
                            "1251     10500.0   first      delhi    15.00  139.00   760000.0   \n",
                            "1870     30000.0   first       pune    20.00  111.00   750000.0   \n",
                            "2141     22000.0   first      delhi    13.00  127.00   925000.0   \n",
                            "2254     43000.0   first      other    18.00   65.00   850000.0   \n",
                            "2365     16000.0   first      other    12.00   93.00  1025000.0   \n",
                            "2392      6000.0   first      other    12.00  159.70  1200000.0   \n",
                            "2442      4600.0   first      other      NaN     NaN  1300000.0   \n",
                            "2680     24000.0   first  bangalore    19.00  135.00  1299000.0   \n",
                            "2810     17000.0   first     mumbai    20.00  111.00   880837.0   \n",
                            "2813      6000.0   first     mumbai    25.00  123.30   881875.0   \n",
                            "2819     18000.0   first     mumbai      NaN     NaN  1141250.0   \n",
                            "2919      8000.0   first      other    18.00   65.00   750000.0   \n",
                            "2985     15000.0   first     mumbai    18.86   75.00   752187.0   \n",
                            "2990     13000.0   first       pune    18.00   78.90   800000.0   \n",
                            "3186      5000.0   first      other    18.00   64.00  1150000.0   \n",
                            "3439      6500.0   first      delhi    25.00  123.30   750000.0   \n",
                            "3791     47000.0  second  bangalore      NaN   94.00  1000000.0   \n",
                            "3922      5929.0   first      other    15.00  140.00   945000.0   \n",
                            "3943     65000.0   first      delhi    40.00   19.80   800000.0   \n",
                            "3965     16800.0   first      delhi    13.00  127.00   825000.0   \n",
                            "4115     13000.0   first     mumbai    18.00   65.00   778125.0   \n",
                            "4145     16500.0   first      other      NaN     NaN   780000.0   \n",
                            "4280     17000.0   first      delhi    16.00     NaN  1175000.0   \n",
                            "4300      9200.0   first      delhi    12.50  197.30  1450000.0   \n",
                            "4307      9000.0   first     mumbai    18.00   84.11   830000.0   \n",
                            "4425     11000.0   first     mumbai      NaN     NaN   800000.0   \n",
                            "4430     17000.0   first      delhi    20.30   57.00   850000.0   \n",
                            "4439      6500.0   first     mumbai    29.00   76.00   830000.0   \n",
                            "4443     22000.0  second  bangalore    15.00  139.00   925000.0   \n",
                            "4459      5500.0   first      delhi    12.50  197.30  1375000.0   \n",
                            "4591      9000.0   first      other    17.85     NaN  1050000.0   \n",
                            "4697      7700.0   first     mumbai    20.00  111.00   850750.0   \n",
                            "5066     16000.0   first      other      NaN   96.60  1150000.0   \n",
                            "5067     10800.0  second     mumbai    18.00  115.00  1500000.0   \n",
                            "5401      7000.0   first      other    19.00  153.80  1500000.0   \n",
                            "5410     27000.0   first     mumbai      NaN   94.00   950000.0   \n",
                            "5586     18000.0   first      delhi      NaN  159.80  1500000.0   \n",
                            "5640     15300.0   first     mumbai    42.00   16.70   985625.0   \n",
                            "5649     15000.0   first      other    12.00  181.44  1100000.0   \n",
                            "5664      9000.0   first  bangalore    15.00   96.00  1050000.0   \n",
                            "5667     15000.0   first  bangalore    15.00  139.00  1000000.0   \n",
                            "5673     14000.0   first  bangalore    17.00     NaN   750000.0   \n",
                            "5690     10000.0   first      delhi      NaN   94.00   750000.0   \n",
                            "5729     13000.0   first      other      NaN   96.60   900000.0   \n",
                            "6335     16000.0   first      other    18.00  176.00   799999.0   \n",
                            "6599      9500.0  second      delhi    15.00  140.00   825000.0   \n",
                            "6614     15500.0   first      other    18.00   65.00   924999.0   \n",
                            "6676      9800.0   first  bangalore    15.00  139.00  1078000.0   \n",
                            "6690     18500.0   first      other    12.00  160.00   810000.0   \n",
                            "6704      6898.0   first      delhi    15.00  145.90   950000.0   \n",
                            "6778     23000.0   first       pune    17.00  146.00  1900000.0   \n",
                            "6779     21000.0   first      other    12.00   93.00  1400000.0   \n",
                            "\n",
                            "                brand engine  age  \n",
                            "1251            other   None    2  \n",
                            "1870            other   None    4  \n",
                            "2141           Suzuki   None    7  \n",
                            "2254  Harley-Davidson   None    4  \n",
                            "2365            other   None    6  \n",
                            "2392            other   None    4  \n",
                            "2442  Harley-Davidson   1750    2  \n",
                            "2680            other   None    6  \n",
                            "2810            other   None    3  \n",
                            "2813            other   None    2  \n",
                            "2819  Harley-Davidson   1750    3  \n",
                            "2919  Harley-Davidson   None    7  \n",
                            "2985            other   None    3  \n",
                            "2990            other   None    4  \n",
                            "3186  Harley-Davidson   1745    1  \n",
                            "3439            other   None    3  \n",
                            "3791            other   None    5  \n",
                            "3922            other   None    2  \n",
                            "3943    Royal Enfield    350    9  \n",
                            "3965           Suzuki   None    8  \n",
                            "4115  Harley-Davidson   None    6  \n",
                            "4145            Bajaj   None    3  \n",
                            "4280            Honda   None    6  \n",
                            "4300            other   None    1  \n",
                            "4307            Honda   None    3  \n",
                            "4425            other   None    3  \n",
                            "4430            Honda   1300    8  \n",
                            "4439            other   1200    3  \n",
                            "4443            other   None    6  \n",
                            "4459            other   None    2  \n",
                            "4591  Harley-Davidson   None    5  \n",
                            "4697            other   None    3  \n",
                            "5066            other   1700    4  \n",
                            "5067  Harley-Davidson   None    6  \n",
                            "5401            other   None    4  \n",
                            "5410            other   None    5  \n",
                            "5586            other   None    4  \n",
                            "5640           Yamaha    150    4  \n",
                            "5649            other   1000    7  \n",
                            "5664            other   1200    5  \n",
                            "5667            other   None    7  \n",
                            "5673  Harley-Davidson   None    9  \n",
                            "5690            other   None    6  \n",
                            "5729            other   1700    6  \n",
                            "6335            Honda   None   11  \n",
                            "6599            other   None    3  \n",
                            "6614  Harley-Davidson   None    7  \n",
                            "6676            other   None    5  \n",
                            "6690           Suzuki   1000   10  \n",
                            "6704            other    800    6  \n",
                            "6778            other   None    5  \n",
                            "6779            other   None    6  "
                        ]
                    },
                    "metadata": {},
                    "execution_count": 225
                }
            ],
            "metadata": {}
        },
        {
            "cell_type": "code",
            "execution_count": 226,
            "source": [
                "plt.figure(figsize=(8,6))\n",
                "sns.boxplot(y=df['price'])"
            ],
            "outputs": [
                {
                    "output_type": "execute_result",
                    "data": {
                        "text/plain": [
                            "<AxesSubplot:ylabel='price'>"
                        ]
                    },
                    "metadata": {},
                    "execution_count": 226
                },
                {
                    "output_type": "display_data",
                    "data": {
                        "image/png": "[encoded data removed]",
                        "text/plain": [
                            "<Figure size 576x432 with 1 Axes>"
                        ]
                    },
                    "metadata": {
                        "needs_background": "light"
                    }
                }
            ],
            "metadata": {}
        },
        {
            "cell_type": "code",
            "execution_count": 227,
            "source": [
                "df.sample(5)"
            ],
            "outputs": [
                {
                    "output_type": "execute_result",
                    "data": {
                        "text/html": [
                            "<div>\n",
                            "<style scoped>\n",
                            "    .dataframe tbody tr th:only-of-type {\n",
                            "        vertical-align: middle;\n",
                            "    }\n",
                            "\n",
                            "    .dataframe tbody tr th {\n",
                            "        vertical-align: top;\n",
                            "    }\n",
                            "\n",
                            "    .dataframe thead th {\n",
                            "        text-align: right;\n",
                            "    }\n",
                            "</style>\n",
                            "<table border=\"1\" class=\"dataframe\">\n",
                            "  <thead>\n",
                            "    <tr style=\"text-align: right;\">\n",
                            "      <th></th>\n",
                            "      <th>kms_driven</th>\n",
                            "      <th>owner</th>\n",
                            "      <th>location</th>\n",
                            "      <th>mileage</th>\n",
                            "      <th>power</th>\n",
                            "      <th>price</th>\n",
                            "      <th>brand</th>\n",
                            "      <th>engine</th>\n",
                            "      <th>age</th>\n",
                            "    </tr>\n",
                            "  </thead>\n",
                            "  <tbody>\n",
                            "    <tr>\n",
                            "      <th>1185</th>\n",
                            "      <td>13800.0</td>\n",
                            "      <td>first</td>\n",
                            "      <td>delhi</td>\n",
                            "      <td>75.0</td>\n",
                            "      <td>9.0</td>\n",
                            "      <td>55000.0</td>\n",
                            "      <td>Hero</td>\n",
                            "      <td>125</td>\n",
                            "      <td>2</td>\n",
                            "    </tr>\n",
                            "    <tr>\n",
                            "      <th>91</th>\n",
                            "      <td>25000.0</td>\n",
                            "      <td>first</td>\n",
                            "      <td>other</td>\n",
                            "      <td>22.0</td>\n",
                            "      <td>33.0</td>\n",
                            "      <td>95000.0</td>\n",
                            "      <td>TVS</td>\n",
                            "      <td>None</td>\n",
                            "      <td>2</td>\n",
                            "    </tr>\n",
                            "    <tr>\n",
                            "      <th>6166</th>\n",
                            "      <td>7000.0</td>\n",
                            "      <td>first</td>\n",
                            "      <td>other</td>\n",
                            "      <td>35.0</td>\n",
                            "      <td>19.8</td>\n",
                            "      <td>145000.0</td>\n",
                            "      <td>Royal Enfield</td>\n",
                            "      <td>350</td>\n",
                            "      <td>3</td>\n",
                            "    </tr>\n",
                            "    <tr>\n",
                            "      <th>6333</th>\n",
                            "      <td>9700.0</td>\n",
                            "      <td>second</td>\n",
                            "      <td>other</td>\n",
                            "      <td>25.0</td>\n",
                            "      <td>27.2</td>\n",
                            "      <td>95000.0</td>\n",
                            "      <td>Royal Enfield</td>\n",
                            "      <td>500</td>\n",
                            "      <td>8</td>\n",
                            "    </tr>\n",
                            "    <tr>\n",
                            "      <th>5611</th>\n",
                            "      <td>20000.0</td>\n",
                            "      <td>first</td>\n",
                            "      <td>bangalore</td>\n",
                            "      <td>85.0</td>\n",
                            "      <td>8.2</td>\n",
                            "      <td>49999.0</td>\n",
                            "      <td>TVS</td>\n",
                            "      <td>110</td>\n",
                            "      <td>3</td>\n",
                            "    </tr>\n",
                            "  </tbody>\n",
                            "</table>\n",
                            "</div>"
                        ],
                        "text/plain": [
                            "      kms_driven   owner   location  mileage  power     price          brand  \\\n",
                            "1185     13800.0   first      delhi     75.0    9.0   55000.0           Hero   \n",
                            "91       25000.0   first      other     22.0   33.0   95000.0            TVS   \n",
                            "6166      7000.0   first      other     35.0   19.8  145000.0  Royal Enfield   \n",
                            "6333      9700.0  second      other     25.0   27.2   95000.0  Royal Enfield   \n",
                            "5611     20000.0   first  bangalore     85.0    8.2   49999.0            TVS   \n",
                            "\n",
                            "     engine  age  \n",
                            "1185    125    2  \n",
                            "91     None    2  \n",
                            "6166    350    3  \n",
                            "6333    500    8  \n",
                            "5611    110    3  "
                        ]
                    },
                    "metadata": {},
                    "execution_count": 227
                }
            ],
            "metadata": {}
        },
        {
            "cell_type": "code",
            "execution_count": 228,
            "source": [
                "# fill price with mean\n",
                "df.price.fillna(df.price.mean(),inplace=True)"
            ],
            "outputs": [],
            "metadata": {}
        },
        {
            "cell_type": "code",
            "execution_count": 229,
            "source": [
                "df.isnull().sum()"
            ],
            "outputs": [
                {
                    "output_type": "execute_result",
                    "data": {
                        "text/plain": [
                            "kms_driven       0\n",
                            "owner            0\n",
                            "location         0\n",
                            "mileage        661\n",
                            "power          350\n",
                            "price            0\n",
                            "brand            0\n",
                            "engine        1175\n",
                            "age              0\n",
                            "dtype: int64"
                        ]
                    },
                    "metadata": {},
                    "execution_count": 229
                }
            ],
            "metadata": {}
        },
        {
            "cell_type": "code",
            "execution_count": 230,
            "source": [
                "df.shape"
            ],
            "outputs": [
                {
                    "output_type": "execute_result",
                    "data": {
                        "text/plain": [
                            "(5191, 9)"
                        ]
                    },
                    "metadata": {},
                    "execution_count": 230
                }
            ],
            "metadata": {}
        },
        {
            "cell_type": "markdown",
            "source": [
                "## Save"
            ],
            "metadata": {}
        },
        {
            "cell_type": "code",
            "execution_count": 231,
            "source": [
                "## Save the processed data\n",
                "df.to_csv('../data/processed/processed.csv',index=False)"
            ],
            "outputs": [],
            "metadata": {}
        }
    ],
    "metadata": {
        "orig_nbformat": 4,
        "language_info": {
            "name": "python",
            "version": "3.8.8",
            "mimetype": "text/x-python",
            "codemirror_mode": {
                "name": "ipython",
                "version": 3
            },
            "pygments_lexer": "ipython3",
            "nbconvert_exporter": "python",
            "file_extension": ".py"
        },
        "kernelspec": {
            "name": "python3",
            "display_name": "Python 3.8.8 64-bit ('base': conda)"
        },
        "interpreter": {
            "hash": "d213f6e5b8fd7d14bb00958cfb5f51bfe315e9248ff051fde0d0d79c3d0f4eba"
        }
    },
    "nbformat": 4,
    "nbformat_minor": 2
}